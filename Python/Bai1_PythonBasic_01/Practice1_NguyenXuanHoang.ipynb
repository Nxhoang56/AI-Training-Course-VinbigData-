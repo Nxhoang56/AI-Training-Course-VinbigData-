{
 "cells": [
  {
   "cell_type": "markdown",
   "metadata": {},
   "source": [
    "\n",
    "## <img src ='Pic\\logo.jpg' width='700px'>\n",
    "\n",
    "\n",
    "<div align=\"center\">\n",
    "\n",
    "# KHÓA HỌC: LẬP TRÌNH PYTHON CƠ BẢN\n",
    "\n",
    "</div>\n",
    "\n",
    "\n",
    "---\n",
    "Practice1: Lập trình Python cơ bản\n",
    "---\n",
    "\n",
    "1. Họ tên học viên: Nguyễn Xuân Hoàng\n",
    "2. Email: v.hoangnx8@vinbigdata.org"
   ]
  },
  {
   "cell_type": "markdown",
   "metadata": {},
   "source": [
    "## TH1. Thực hành với các toán tử số học"
   ]
  },
  {
   "cell_type": "markdown",
   "metadata": {},
   "source": [
    "**1.1.** Thực hiện tính tổng, hiệu, tích, thương của hai số nguyên và hiển thị kết quả"
   ]
  },
  {
   "cell_type": "code",
   "execution_count": 9,
   "metadata": {},
   "outputs": [
    {
     "name": "stdout",
     "output_type": "stream",
     "text": [
      "Tong: 7\n",
      "Hieu: -5\n",
      "Tich: 6\n",
      "Thuong: 0.16666666666666666\n"
     ]
    }
   ],
   "source": [
    "num1 = 1\n",
    "num2 = 6\n",
    "\n",
    "#{Học viên viết code ở đây!}\n",
    "print(f\"Tong: {num1+num2}\")\n",
    "print(f'Hieu: {num1-num2}')\n",
    "print('Tich:', num1*num2 )\n",
    "print('Thuong:',num1/num2 )"
   ]
  },
  {
   "cell_type": "markdown",
   "metadata": {},
   "source": [
    "**1.2.** Thực hiện nhập hai số từ bàn phím. Tính tổng, hiệu, tích, thương và hiển thị kết quả"
   ]
  },
  {
   "cell_type": "code",
   "execution_count": 11,
   "metadata": {},
   "outputs": [
    {
     "name": "stdout",
     "output_type": "stream",
     "text": [
      "Nhập số thứ nhất: 3\n",
      "Nhập số thứ hai: 4\n",
      "Tong: 7\n",
      "Hieu: -1\n",
      "Tich: 12\n",
      "Thuong: 0.75\n"
     ]
    }
   ],
   "source": [
    "num1 = input('Nhập số thứ nhất: ')\n",
    "num2 = input('Nhập số thứ hai: ')\n",
    "\n",
    "#{Học viên viết code ở đây!}\n",
    "num1 = int(num1)\n",
    "num2 = int(num2)\n",
    "print(f\"Tong: {num1+num2}\")\n",
    "print(f'Hieu: {num1-num2}')\n",
    "print('Tich:', num1*num2 )\n",
    "print('Thuong:',num1/num2 )\n",
    "\n",
    "\n"
   ]
  },
  {
   "cell_type": "markdown",
   "metadata": {},
   "source": [
    "## TH 2: Chia kẹo cho học sinh lớp 1\n",
    "----\n",
    "Cô có n cái kẹo, có m học sinh trong lớp. Hãy giúp cô chia đều số kẹo cho tất cả học sinh.\n",
    "\n",
    "**Yêu cầu:**\n",
    "* Nhập vào số kẹo của cô – N\n",
    "* Nhập vào số học sinh trong lớp – M\n",
    "\n",
    "\n",
    "Cho biết:\n",
    "1. Mỗi học sinh được nhận bao nhiêu cái kẹo?\n",
    "2. Cô còn lại bao nhiêu cái kẹo?"
   ]
  },
  {
   "cell_type": "code",
   "execution_count": 1,
   "metadata": {},
   "outputs": [
    {
     "name": "stdout",
     "output_type": "stream",
     "text": [
      "Nhap vao so keo cua co: 5\n",
      "Nhap vao so hoc sinh trong lop: 2\n",
      "So keo tren moi hoc sinh: 2\n",
      "So keo con lai: 1\n"
     ]
    }
   ],
   "source": [
    "#{học viên viết code ở đây!}\n",
    "N = int(input(\"Nhap vao so keo cua co: \"))\n",
    "M = int(input(\"Nhap vao so hoc sinh trong lop: \"))\n",
    "\n",
    "print(\"So keo tren moi hoc sinh:\", N//M)\n",
    "print('So keo con lai:', N%M)\n",
    "\n",
    "\n"
   ]
  },
  {
   "cell_type": "markdown",
   "metadata": {},
   "source": [
    "# TH 3: Tính tuổi\n",
    "---\n",
    "Nhập vào tên và năm sinh của một người, tính tuổi của người đó và hiển thị ra màn hình thông báo \n",
    "\n",
    "Yêu cầu:\n",
    "\n",
    "* Nhập vào họ tên: mai phương thúy\n",
    "* Nhập vào năm sinh: 2000\n",
    "\n",
    "Hiển thị thông báo kết quả:\n",
    "\t **Bạn “MAI PHƯƠNG THÚY” năm nay 21 tuổi!**"
   ]
  },
  {
   "cell_type": "code",
   "execution_count": 20,
   "metadata": {},
   "outputs": [
    {
     "name": "stdout",
     "output_type": "stream",
     "text": [
      "Ho va ten:mai phương thúy\n",
      "Nam sinh:2000\n",
      "Bạn \"MAI PHƯƠNG THÚY\" năm nay 22 tuổi!\n"
     ]
    }
   ],
   "source": [
    "#{học viên viết code ở đây!}\n",
    "name = input('Ho va ten:')\n",
    "Name = name.upper()\n",
    "year = input('Nam sinh:')\n",
    "old =  2022-int(year)\n",
    "print(f'Bạn \"{Name}\" năm nay {old} tuổi!')\n",
    "\n",
    "\n"
   ]
  },
  {
   "cell_type": "markdown",
   "metadata": {},
   "source": [
    "# TH 4: Cho biết số thỏ trong rừng!\n",
    "---\n",
    "Ban đầu trong rừng có một cặp thỏ, biết rằng cứ sau 1 tháng thì số lượng thỏ trong rừng tăng lên gấp đôi. Hỏi sau x tháng thì trong rừng có bao nhiêu con thỏ (Giả thiết các con thỏ không chết)\n",
    "\n",
    "Yêu cầu: \n",
    "* Nhập vào số tháng x: 3\n",
    "* Hiển thị thông báo kết quả:\n",
    "\t **Trong rừng có: 16 con thỏ**"
   ]
  },
  {
   "cell_type": "code",
   "execution_count": 18,
   "metadata": {},
   "outputs": [
    {
     "name": "stdout",
     "output_type": "stream",
     "text": [
      "Nhap vao so thang x:3\n",
      "Trong rung co 16 con tho sau 3 thang.\n"
     ]
    }
   ],
   "source": [
    "#{học viên viết code ở đây!}\n",
    "x = int(input('Nhap vao so thang x:'))\n",
    "pairs = 2 \n",
    "print('Trong rung co', pairs**(x+1), 'con tho sau', x, 'thang.')\n",
    "\n",
    "\n"
   ]
  },
  {
   "cell_type": "markdown",
   "metadata": {},
   "source": [
    "## TH 5: Chuỗi văn bản\n",
    "---\n",
    "\n",
    "“Nước Việt Nam là một, dân tộc Việt Nam là một. Sông có thể cạn núi có thể mòn, song chân lý ấy không bao giờ thay đổi. (HỒ CHÍ MINH, 1890 – 1969)”\n",
    "\n",
    "Yêu cầu: \n",
    "1. Cho biết số ký tự có trong đoạn văn trên.\n",
    "2. Cho biết trong đoạn có chứa từ nào sau đây không (Không phân biệt chữ hoa, chữ thường)?\n",
    "    * “hồ chí minh”\n",
    "    * “non sông”\n",
    "3. Tách đoạn văn thành các câu bởi dấu .\n",
    "4. Cho biết trong đoạn văn trên có ký tự nào khác ký tự chữ và số hay không?\n",
    "5. Thay thế các các từ ‘Việt Nam’ bằng ‘VIỆT NAM’ trong đoạn văn trên."
   ]
  },
  {
   "cell_type": "code",
   "execution_count": 37,
   "metadata": {},
   "outputs": [
    {
     "name": "stdout",
     "output_type": "stream",
     "text": [
      "Nước Việt Nam là một, dân tộc Việt Nam là một.Sông có thể cạn núi có thể mòn, song chân lý ấy không bao giờ thay đổi.(HỒ CHÍ MINH, 1890 – 1969)\n"
     ]
    }
   ],
   "source": [
    "#Khởi tạo chuỗi ký tự\n",
    "st = '''Nước Việt Nam là một, dân tộc Việt Nam là một.\\\n",
    "Sông có thể cạn núi có thể mòn, song chân lý ấy không bao giờ thay đổi.\\\n",
    "(HỒ CHÍ MINH, 1890 – 1969)'''\n",
    "\n",
    "print(st)"
   ]
  },
  {
   "cell_type": "code",
   "execution_count": 54,
   "metadata": {},
   "outputs": [
    {
     "name": "stdout",
     "output_type": "stream",
     "text": [
      "1. Number of characters in the string: 143\n",
      "2.1 The sentence contains \"hồ chí minh\". \n",
      "2.2 \"non sông\" is not found.\n",
      "3.Seperated sentences:  ['Nước Việt Nam là một, dân tộc Việt Nam là một', 'Sông có thể cạn núi có thể mòn, song chân lý ấy không bao giờ thay đổi', '(HỒ CHÍ MINH, 1890 – 1969)']\n",
      "4. The sentence contains characters except digits and letters\n",
      "5. The sentence after replacement: Nước VIỆT NAM là một, dân tộc VIỆT NAM là một.Sông có thể cạn núi có thể mòn, song chân lý ấy không bao giờ thay đổi.(HỒ CHÍ MINH, 1890 – 1969)\n"
     ]
    }
   ],
   "source": [
    "#{học viên viết code ở đây!}\n",
    "#Count the number of characters in the string \n",
    "num_char = len(st)\n",
    "print('1. Number of characters in the string: {}'.format(num_char))\n",
    "\n",
    "\n",
    "check_hcm = 'hồ chí minh' in st.lower()\n",
    "check_ns = 'non sông' in st.lower()\n",
    "if (check_hcm):\n",
    "    print('2.1 The sentence contains \"hồ chí minh\". ')\n",
    "else: \n",
    "    print('2.1 \"hồ chí minh\" is not found.')\n",
    "if (check_ns):\n",
    "    print('2.2 The sentence contains \"non sông\". ')\n",
    "else: \n",
    "    print('2.2 \"non sông\" is not found.')\n",
    "    \n",
    "seperated_st = st.split('.')\n",
    "print('3.Seperated sentences: ', seperated_st)\n",
    "\n",
    "check_alpha = st.isalpha()\n",
    "if (check_alpha):\n",
    "    print('4. The sentence does not contain any odd characters')\n",
    "else:\n",
    "    print('4. The sentence contains characters except digits and letters')\n",
    "\n",
    "new_st = st.replace('Việt Nam', 'VIỆT NAM')\n",
    "print('5. The sentence after replacement:', new_st)\n",
    "    \n",
    "\n",
    "\n",
    "\n",
    "\n"
   ]
  },
  {
   "cell_type": "markdown",
   "metadata": {},
   "source": [
    "## TH 6: Thống kê điểm Học viên\n",
    "---\n",
    "\n",
    "Khởi tạo một danh sách gồm các điểm thi môn “Python for Analysis” của lớp Vin_2022(Điểm chữ: A, B, C, D, F)\n",
    "\n",
    "**Yêu cầu:** \n",
    "1. Cho biết số sinh viên trong lớp\n",
    "2. Có bao nhiêu sinh viên phải học lại môn này (điểm F).\n",
    "3. Có bao nhiêu sinh viên có điểm từ B trở lên.\n",
    "4. Sinh viên đầu tiên và cuối cùng trong lớp đã nghỉ học, tạo một bảng điểm mới và loại bỏ điểm của các sinh viên này ra "
   ]
  },
  {
   "cell_type": "code",
   "execution_count": 79,
   "metadata": {},
   "outputs": [
    {
     "name": "stdout",
     "output_type": "stream",
     "text": [
      "Danh sach ban dau:\n",
      " ['A', 'B', 'C', 'C', 'D', 'F', 'A', 'A', 'C', 'B', 'D', 'D', 'F', 'A']\n",
      "Tong so hoc sinh trong lop:  14\n",
      "So sinh vien phai hoc lai la: 2\n",
      "So hoc sinh co diem tu B tro len la: 5\n",
      "Bang diem moi:\n",
      " ['B', 'C', 'C', 'D', 'F', 'A', 'A', 'C', 'B', 'D', 'D', 'F']\n"
     ]
    }
   ],
   "source": [
    "#{học viên viết code ở đây!}\n",
    "bang_diem = 'A,B,C,C,D,F,A,A,C,B,D,D,F,A'.split(',')\n",
    "print('Danh sach ban dau:\\n',bang_diem)\n",
    "print('Tong so hoc sinh trong lop: ', len(bang_diem))\n",
    "print('So sinh vien phai hoc lai la:', bang_diem.count('F'))\n",
    "print('So hoc sinh co diem tu B tro len la:', bang_diem.count('B')+ bang_diem.count('C'))\n",
    "bang_diem.pop()\n",
    "del bang_diem[0]\n",
    "print('Bang diem moi:\\n', bang_diem)"
   ]
  },
  {
   "cell_type": "code",
   "execution_count": null,
   "metadata": {},
   "outputs": [],
   "source": []
  },
  {
   "cell_type": "code",
   "execution_count": null,
   "metadata": {},
   "outputs": [],
   "source": []
  }
 ],
 "metadata": {
  "kernelspec": {
   "display_name": "Python 3 (ipykernel)",
   "language": "python",
   "name": "python3"
  },
  "language_info": {
   "codemirror_mode": {
    "name": "ipython",
    "version": 3
   },
   "file_extension": ".py",
   "mimetype": "text/x-python",
   "name": "python",
   "nbconvert_exporter": "python",
   "pygments_lexer": "ipython3",
   "version": "3.9.12"
  }
 },
 "nbformat": 4,
 "nbformat_minor": 2
}
