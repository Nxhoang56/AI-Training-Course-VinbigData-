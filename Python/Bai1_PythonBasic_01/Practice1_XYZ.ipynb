{
 "cells": [
  {
   "cell_type": "markdown",
   "metadata": {},
   "source": [
    "\n",
    "## <img src ='Pic\\logo.jpg' width='700px'>\n",
    "\n",
    "\n",
    "<div align=\"center\">\n",
    "\n",
    "# KHÓA HỌC: LẬP TRÌNH PYTHON CƠ BẢN\n",
    "\n",
    "</div>\n",
    "\n",
    "\n",
    "---\n",
    "Practice1: Lập trình Python cơ bản\n",
    "---\n",
    "\n",
    "1. Họ tên học viên:Đặng Văn Nam (080508)\n",
    "2. Email: namdv@aiacademy.edu.vn"
   ]
  },
  {
   "cell_type": "markdown",
   "metadata": {},
   "source": [
    "## TH1. Thực hành với các toán tử số học"
   ]
  },
  {
   "cell_type": "markdown",
   "metadata": {},
   "source": [
    "**1.1.** Thực hiện tính tổng, hiệu, tích, thương của hai số nguyên và hiển thị kết quả"
   ]
  },
  {
   "cell_type": "code",
   "execution_count": 28,
   "metadata": {},
   "outputs": [],
   "source": [
    "num1 = 1\n",
    "num2 = 6\n",
    "\n",
    "#{Học viên viết code ở đây!}\n",
    "\n"
   ]
  },
  {
   "cell_type": "markdown",
   "metadata": {},
   "source": [
    "**1.2.** Thực hiện nhập hai số từ bàn phím. Tính tổng, hiệu, tích, thương và hiển thị kết quả"
   ]
  },
  {
   "cell_type": "code",
   "execution_count": null,
   "metadata": {},
   "outputs": [],
   "source": [
    "num1 = input('Nhập số thứ nhất: ')\n",
    "num2 = input('Nhập số thứ hai: ')\n",
    "\n",
    "#{Học viên viết code ở đây!}\n",
    "\n",
    "\n",
    "\n"
   ]
  },
  {
   "cell_type": "code",
   "execution_count": null,
   "metadata": {},
   "outputs": [],
   "source": []
  },
  {
   "cell_type": "markdown",
   "metadata": {},
   "source": [
    "## TH 2: Chia kẹo cho học sinh lớp 1\n",
    "----\n",
    "Cô có n cái kẹo, có m học sinh trong lớp. Hãy giúp cô chia đều số kẹo cho tất cả học sinh.\n",
    "\n",
    "**Yêu cầu:**\n",
    "* Nhập vào số kẹo của cô – N\n",
    "* Nhập vào số học sinh trong lớp – M\n",
    "\n",
    "\n",
    "Cho biết:\n",
    "1. Mỗi học sinh được nhận bao nhiêu cái kẹo?\n",
    "2. Cô còn lại bao nhiêu cái kẹo?"
   ]
  },
  {
   "cell_type": "code",
   "execution_count": 26,
   "metadata": {},
   "outputs": [],
   "source": [
    "#{học viên viết code ở đây!}\n",
    "\n",
    "\n",
    "\n"
   ]
  },
  {
   "cell_type": "code",
   "execution_count": null,
   "metadata": {},
   "outputs": [],
   "source": []
  },
  {
   "cell_type": "code",
   "execution_count": null,
   "metadata": {},
   "outputs": [],
   "source": []
  },
  {
   "cell_type": "code",
   "execution_count": null,
   "metadata": {},
   "outputs": [],
   "source": []
  },
  {
   "cell_type": "markdown",
   "metadata": {},
   "source": [
    "# TH 3: Tính tuổi\n",
    "---\n",
    "Nhập vào tên và năm sinh của một người, tính tuổi của người đó và hiển thị ra màn hình thông báo \n",
    "\n",
    "Yêu cầu:\n",
    "\n",
    "* Nhập vào họ tên: mai phương thúy\n",
    "* Nhập vào năm sinh: 2000\n",
    "\n",
    "Hiển thị thông báo kết quả:\n",
    "\t **Bạn “MAI PHƯƠNG THÚY” năm nay 21 tuổi!**"
   ]
  },
  {
   "cell_type": "code",
   "execution_count": 25,
   "metadata": {},
   "outputs": [],
   "source": [
    "#{học viên viết code ở đây!}\n",
    "\n",
    "\n",
    "\n"
   ]
  },
  {
   "cell_type": "code",
   "execution_count": null,
   "metadata": {},
   "outputs": [],
   "source": []
  },
  {
   "cell_type": "code",
   "execution_count": null,
   "metadata": {},
   "outputs": [],
   "source": []
  },
  {
   "cell_type": "markdown",
   "metadata": {},
   "source": [
    "# TH 4: Cho biết số thỏ trong rừng!\n",
    "---\n",
    "Ban đầu trong rừng có một cặp thỏ, biết rằng cứ sau 1 tháng thì số lượng thỏ trong rừng tăng lên gấp đôi. Hỏi sau x tháng thì trong rừng có bao nhiêu con thỏ (Giả thiết các con thỏ không chết)\n",
    "\n",
    "Yêu cầu: \n",
    "* Nhập vào số tháng x: 3\n",
    "* Hiển thị thông báo kết quả:\n",
    "\t **Trong rừng có: 16 con thỏ**"
   ]
  },
  {
   "cell_type": "code",
   "execution_count": 24,
   "metadata": {},
   "outputs": [],
   "source": [
    "#{học viên viết code ở đây!}\n",
    "\n",
    "\n",
    "\n"
   ]
  },
  {
   "cell_type": "code",
   "execution_count": null,
   "metadata": {},
   "outputs": [],
   "source": []
  },
  {
   "cell_type": "code",
   "execution_count": null,
   "metadata": {},
   "outputs": [],
   "source": []
  },
  {
   "cell_type": "markdown",
   "metadata": {},
   "source": [
    "## TH 5: Chuỗi văn bản\n",
    "---\n",
    "\n",
    "“Nước Việt Nam là một, dân tộc Việt Nam là một. Sông có thể cạn núi có thể mòn, song chân lý ấy không bao giờ thay đổi. (HỒ CHÍ MINH, 1890 – 1969)”\n",
    "\n",
    "Yêu cầu: \n",
    "1. Cho biết số ký tự có trong đoạn văn trên.\n",
    "2. Cho biết trong đoạn có chứa từ nào sau đây không (Không phân biệt chữ hoa, chữ thường)?\n",
    "    * “hồ chí minh”\n",
    "    * “non sông”\n",
    "3. Tách đoạn văn thành các câu bởi dấu .\n",
    "4. Cho biết trong đoạn văn trên có ký tự nào khác ký tự chữ và số hay không?\n",
    "5. Thay thế các các từ ‘Việt Nam’ bằng ‘VIỆT NAM’ trong đoạn văn trên."
   ]
  },
  {
   "cell_type": "code",
   "execution_count": 20,
   "metadata": {},
   "outputs": [
    {
     "name": "stdout",
     "output_type": "stream",
     "text": [
      "Nước Việt Nam là một, dân tộc Việt Nam là một.Sông có thể cạn núi có thể mòn, song chân lý ấy không bao giờ thay đổi.(HỒ CHÍ MINH, 1890 – 1969)\n"
     ]
    }
   ],
   "source": [
    "#Khởi tạo chuỗi ký tự\n",
    "st = '''Nước Việt Nam là một, dân tộc Việt Nam là một.\\\n",
    "Sông có thể cạn núi có thể mòn, song chân lý ấy không bao giờ thay đổi.\\\n",
    "(HỒ CHÍ MINH, 1890 – 1969)'''\n",
    "\n",
    "print(st)"
   ]
  },
  {
   "cell_type": "code",
   "execution_count": null,
   "metadata": {},
   "outputs": [],
   "source": [
    "#{học viên viết code ở đây!}\n",
    "\n",
    "\n",
    "\n",
    "\n"
   ]
  },
  {
   "cell_type": "code",
   "execution_count": null,
   "metadata": {},
   "outputs": [],
   "source": []
  },
  {
   "cell_type": "code",
   "execution_count": null,
   "metadata": {},
   "outputs": [],
   "source": []
  },
  {
   "cell_type": "code",
   "execution_count": null,
   "metadata": {},
   "outputs": [],
   "source": []
  },
  {
   "cell_type": "code",
   "execution_count": null,
   "metadata": {},
   "outputs": [],
   "source": []
  },
  {
   "cell_type": "code",
   "execution_count": null,
   "metadata": {},
   "outputs": [],
   "source": []
  },
  {
   "cell_type": "markdown",
   "metadata": {},
   "source": [
    "## TH 6: Thống kê điểm Học viên\n",
    "---\n",
    "\n",
    "Khởi tạo một danh sách gồm các điểm thi môn “Python for Analysis” của lớp Vin_2022(Điểm chữ: A, B, C, D, F)\n",
    "\n",
    "**Yêu cầu:** \n",
    "1. Cho biết số sinh viên trong lớp\n",
    "2. Có bao nhiêu sinh viên phải học lại môn này (điểm F).\n",
    "3. Có bao nhiêu sinh viên có điểm từ B trở lên.\n",
    "4. Sinh viên đầu tiên và cuối cùng trong lớp đã nghỉ học, tạo một bảng điểm mới và loại bỏ điểm của các sinh viên này ra "
   ]
  },
  {
   "cell_type": "code",
   "execution_count": null,
   "metadata": {},
   "outputs": [],
   "source": [
    "#{học viên viết code ở đây!}\n",
    "\n",
    "\n",
    "\n",
    "\n"
   ]
  },
  {
   "cell_type": "code",
   "execution_count": null,
   "metadata": {},
   "outputs": [],
   "source": []
  },
  {
   "cell_type": "code",
   "execution_count": null,
   "metadata": {},
   "outputs": [],
   "source": []
  }
 ],
 "metadata": {
  "kernelspec": {
   "display_name": "Python 3 (ipykernel)",
   "language": "python",
   "name": "python3"
  },
  "language_info": {
   "codemirror_mode": {
    "name": "ipython",
    "version": 3
   },
   "file_extension": ".py",
   "mimetype": "text/x-python",
   "name": "python",
   "nbconvert_exporter": "python",
   "pygments_lexer": "ipython3",
   "version": "3.9.7"
  }
 },
 "nbformat": 4,
 "nbformat_minor": 2
}
