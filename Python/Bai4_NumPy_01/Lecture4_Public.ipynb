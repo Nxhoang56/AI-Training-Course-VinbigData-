{
 "cells": [
  {
   "cell_type": "markdown",
   "metadata": {
    "colab_type": "text",
    "id": "wDtyCjZ4yc-W"
   },
   "source": [
    "## <img src ='Pic\\logo.jpg' width='500px'>\n",
    "\n",
    "\n",
    "<div align=\"center\">\n",
    "\n",
    "# KHÓA HỌC: LẬP TRÌNH PYTHON CƠ BẢN CHO PHÂN TÍCH DỮ LIỆU\n",
    "\n",
    "</div>\n",
    "\n",
    "\n",
    "---\n",
    "\n",
    "\n",
    "Bài 4 - Làm việc với Thư viện NumPy - Phần 01\n",
    "----\n",
    "Giảng Viên: Đặng Văn Nam\n",
    "\n",
    "Email: namdv@aiacademy.edu.vn"
   ]
  },
  {
   "cell_type": "markdown",
   "metadata": {},
   "source": [
    "**NỘI DUNG BÀI HỌC**\n",
    "1. **Giới thiệu một số thư viện quan trọng cho khoa học dữ liệu**\n",
    "2. **Giới thiệu thư viện Numpy**\n",
    "3. **Cách tạo vector, ma trận (matrix)**\n",
    "    * Tạo mảng 1D, 2D, 3D \n",
    "    * Tạo mảng với các hàm có sẵn \n",
    "    * Tạo mảng từ file dữ liệu\n",
    "4. **Thao tác cơ bản với mảng**\n",
    "    * Quan sát thuộc tính mảng\n",
    "    * Chuyển đổi kiểu dữ liệu \n",
    "    * Truy cập phần tử\n",
    "5. **Tính toán các đặc trưng thống kê trong mảng**\n",
    "    * Min, Max, Sum\n",
    "    * Mean, Median, Mode, Range\n",
    "    * Std\n",
    "    * Corrcoef"
   ]
  },
  {
   "cell_type": "markdown",
   "metadata": {
    "colab_type": "text",
    "id": "eHSVABSx6gXT"
   },
   "source": [
    "## I) CHUẨN BỊ CÁC THƯ VIỆN SỬ DỤNG"
   ]
  },
  {
   "cell_type": "markdown",
   "metadata": {
    "colab_type": "text",
    "id": "Amb6RsJJ4UtD"
   },
   "source": [
    "### 1) Kiểm tra các thư viện xem đã cài đặt hay chưa và phiên bản bao nhiêu?"
   ]
  },
  {
   "cell_type": "code",
   "execution_count": 81,
   "metadata": {
    "colab": {
     "base_uri": "https://localhost:8080/",
     "height": 34
    },
    "colab_type": "code",
    "id": "_XnBt7NKyG7d",
    "outputId": "f3341a80-d91e-4939-93b2-5996ca159000"
   },
   "outputs": [
    {
     "name": "stdout",
     "output_type": "stream",
     "text": [
      "Thư viện Numpy: Version:  1.21.5\n"
     ]
    }
   ],
   "source": [
    "#Kiểm tra phiên bản thư viện Numpy\n",
    "#import thư viện numpy để sử dụng\n",
    "import numpy as np \n",
    "\n",
    "print(\"Thư viện Numpy: Version: \", np.__version__)"
   ]
  },
  {
   "cell_type": "markdown",
   "metadata": {},
   "source": [
    "Học viên viết code kiểm tra phiên bản thư viện:\n",
    "* pandas (pd)\n",
    "* matplotlib (plt)\n",
    "* sklearn (sk)"
   ]
  },
  {
   "cell_type": "code",
   "execution_count": 2,
   "metadata": {
    "colab": {},
    "colab_type": "code",
    "id": "kDsya1qx6NYG"
   },
   "outputs": [
    {
     "name": "stdout",
     "output_type": "stream",
     "text": [
      "Thư viện Numpy: Version:  1.21.5\n",
      "Pandas:  1.4.2\n",
      "Matplotlib:  3.5.1\n",
      "Sklearn:  1.0.2\n",
      "NLTK:  3.7\n"
     ]
    },
    {
     "ename": "ModuleNotFoundError",
     "evalue": "No module named 'cv2'",
     "output_type": "error",
     "traceback": [
      "\u001b[1;31m---------------------------------------------------------------------------\u001b[0m",
      "\u001b[1;31mModuleNotFoundError\u001b[0m                       Traceback (most recent call last)",
      "Input \u001b[1;32mIn [2]\u001b[0m, in \u001b[0;36m<cell line: 17>\u001b[1;34m()\u001b[0m\n\u001b[0;32m     14\u001b[0m \u001b[38;5;28;01mimport\u001b[39;00m \u001b[38;5;21;01mnltk\u001b[39;00m\n\u001b[0;32m     15\u001b[0m \u001b[38;5;28mprint\u001b[39m(\u001b[38;5;124m\"\u001b[39m\u001b[38;5;124mNLTK: \u001b[39m\u001b[38;5;124m\"\u001b[39m,nltk\u001b[38;5;241m.\u001b[39m__version__)\n\u001b[1;32m---> 17\u001b[0m \u001b[38;5;28;01mimport\u001b[39;00m \u001b[38;5;21;01mcv2\u001b[39;00m\n\u001b[0;32m     18\u001b[0m \u001b[38;5;28mprint\u001b[39m(\u001b[38;5;124m\"\u001b[39m\u001b[38;5;124mOpenCV: \u001b[39m\u001b[38;5;124m\"\u001b[39m,cv2\u001b[38;5;241m.\u001b[39m__version__)\n",
      "\u001b[1;31mModuleNotFoundError\u001b[0m: No module named 'cv2'"
     ]
    }
   ],
   "source": [
    "# {VIẾT CODE Ở ĐÂY}\n",
    "import numpy as np\n",
    "print(\"Thư viện Numpy: Version: \", np.__version__)\n",
    "\n",
    "import pandas as pd\n",
    "print(\"Pandas: \",pd.__version__)\n",
    "\n",
    "import matplotlib as plt\n",
    "print(\"Matplotlib: \",plt.__version__)\n",
    "\n",
    "import sklearn as sk\n",
    "print(\"Sklearn: \",sk.__version__)\n",
    "\n",
    "import nltk\n",
    "print(\"NLTK: \",nltk.__version__)\n",
    "\n",
    "import cv2\n",
    "print(\"OpenCV: \",cv2.__version__)"
   ]
  },
  {
   "cell_type": "code",
   "execution_count": 3,
   "metadata": {},
   "outputs": [
    {
     "name": "stdout",
     "output_type": "stream",
     "text": [
      "Sklearn:  1.0.2\n"
     ]
    }
   ],
   "source": [
    "import sklearn as sk\n",
    "print(\"Sklearn: \",sk.__version__)"
   ]
  },
  {
   "cell_type": "code",
   "execution_count": 4,
   "metadata": {},
   "outputs": [
    {
     "name": "stdout",
     "output_type": "stream",
     "text": [
      "NLTK:  3.7\n"
     ]
    }
   ],
   "source": [
    "import nltk\n",
    "print(\"NLTK: \",nltk.__version__)"
   ]
  },
  {
   "cell_type": "code",
   "execution_count": 5,
   "metadata": {},
   "outputs": [
    {
     "ename": "ModuleNotFoundError",
     "evalue": "No module named 'cv2'",
     "output_type": "error",
     "traceback": [
      "\u001b[1;31m---------------------------------------------------------------------------\u001b[0m",
      "\u001b[1;31mModuleNotFoundError\u001b[0m                       Traceback (most recent call last)",
      "Input \u001b[1;32mIn [5]\u001b[0m, in \u001b[0;36m<cell line: 1>\u001b[1;34m()\u001b[0m\n\u001b[1;32m----> 1\u001b[0m \u001b[38;5;28;01mimport\u001b[39;00m \u001b[38;5;21;01mcv2\u001b[39;00m\n\u001b[0;32m      2\u001b[0m \u001b[38;5;28mprint\u001b[39m(\u001b[38;5;124m\"\u001b[39m\u001b[38;5;124mOpenCV: \u001b[39m\u001b[38;5;124m\"\u001b[39m,cv2\u001b[38;5;241m.\u001b[39m__version__)\n",
      "\u001b[1;31mModuleNotFoundError\u001b[0m: No module named 'cv2'"
     ]
    }
   ],
   "source": [
    "import cv2\n",
    "print(\"OpenCV: \",cv2.__version__)"
   ]
  },
  {
   "cell_type": "code",
   "execution_count": 6,
   "metadata": {},
   "outputs": [
    {
     "data": {
      "text/plain": [
       "['ALLOW_THREADS',\n",
       " 'AxisError',\n",
       " 'BUFSIZE',\n",
       " 'Bytes0',\n",
       " 'CLIP',\n",
       " 'ComplexWarning',\n",
       " 'DataSource',\n",
       " 'Datetime64',\n",
       " 'ERR_CALL',\n",
       " 'ERR_DEFAULT',\n",
       " 'ERR_IGNORE',\n",
       " 'ERR_LOG',\n",
       " 'ERR_PRINT',\n",
       " 'ERR_RAISE',\n",
       " 'ERR_WARN',\n",
       " 'FLOATING_POINT_SUPPORT',\n",
       " 'FPE_DIVIDEBYZERO',\n",
       " 'FPE_INVALID',\n",
       " 'FPE_OVERFLOW',\n",
       " 'FPE_UNDERFLOW',\n",
       " 'False_',\n",
       " 'Inf',\n",
       " 'Infinity',\n",
       " 'MAXDIMS',\n",
       " 'MAY_SHARE_BOUNDS',\n",
       " 'MAY_SHARE_EXACT',\n",
       " 'MachAr',\n",
       " 'ModuleDeprecationWarning',\n",
       " 'NAN',\n",
       " 'NINF',\n",
       " 'NZERO',\n",
       " 'NaN',\n",
       " 'PINF',\n",
       " 'PZERO',\n",
       " 'RAISE',\n",
       " 'RankWarning',\n",
       " 'SHIFT_DIVIDEBYZERO',\n",
       " 'SHIFT_INVALID',\n",
       " 'SHIFT_OVERFLOW',\n",
       " 'SHIFT_UNDERFLOW',\n",
       " 'ScalarType',\n",
       " 'Str0',\n",
       " 'Tester',\n",
       " 'TooHardError',\n",
       " 'True_',\n",
       " 'UFUNC_BUFSIZE_DEFAULT',\n",
       " 'UFUNC_PYVALS_NAME',\n",
       " 'Uint64',\n",
       " 'VisibleDeprecationWarning',\n",
       " 'WRAP',\n",
       " '_NoValue',\n",
       " '_UFUNC_API',\n",
       " '__NUMPY_SETUP__',\n",
       " '__all__',\n",
       " '__builtins__',\n",
       " '__cached__',\n",
       " '__config__',\n",
       " '__deprecated_attrs__',\n",
       " '__dir__',\n",
       " '__doc__',\n",
       " '__expired_functions__',\n",
       " '__file__',\n",
       " '__getattr__',\n",
       " '__git_version__',\n",
       " '__loader__',\n",
       " '__mkl_version__',\n",
       " '__name__',\n",
       " '__package__',\n",
       " '__path__',\n",
       " '__spec__',\n",
       " '__version__',\n",
       " '_add_newdoc_ufunc',\n",
       " '_distributor_init',\n",
       " '_financial_names',\n",
       " '_globals',\n",
       " '_mat',\n",
       " '_pytesttester',\n",
       " '_version',\n",
       " 'abs',\n",
       " 'absolute',\n",
       " 'add',\n",
       " 'add_docstring',\n",
       " 'add_newdoc',\n",
       " 'add_newdoc_ufunc',\n",
       " 'alen',\n",
       " 'all',\n",
       " 'allclose',\n",
       " 'alltrue',\n",
       " 'amax',\n",
       " 'amin',\n",
       " 'angle',\n",
       " 'any',\n",
       " 'append',\n",
       " 'apply_along_axis',\n",
       " 'apply_over_axes',\n",
       " 'arange',\n",
       " 'arccos',\n",
       " 'arccosh',\n",
       " 'arcsin',\n",
       " 'arcsinh',\n",
       " 'arctan',\n",
       " 'arctan2',\n",
       " 'arctanh',\n",
       " 'argmax',\n",
       " 'argmin',\n",
       " 'argpartition',\n",
       " 'argsort',\n",
       " 'argwhere',\n",
       " 'around',\n",
       " 'array',\n",
       " 'array2string',\n",
       " 'array_equal',\n",
       " 'array_equiv',\n",
       " 'array_repr',\n",
       " 'array_split',\n",
       " 'array_str',\n",
       " 'asanyarray',\n",
       " 'asarray',\n",
       " 'asarray_chkfinite',\n",
       " 'ascontiguousarray',\n",
       " 'asfarray',\n",
       " 'asfortranarray',\n",
       " 'asmatrix',\n",
       " 'asscalar',\n",
       " 'atleast_1d',\n",
       " 'atleast_2d',\n",
       " 'atleast_3d',\n",
       " 'average',\n",
       " 'bartlett',\n",
       " 'base_repr',\n",
       " 'binary_repr',\n",
       " 'bincount',\n",
       " 'bitwise_and',\n",
       " 'bitwise_not',\n",
       " 'bitwise_or',\n",
       " 'bitwise_xor',\n",
       " 'blackman',\n",
       " 'block',\n",
       " 'bmat',\n",
       " 'bool8',\n",
       " 'bool_',\n",
       " 'broadcast',\n",
       " 'broadcast_arrays',\n",
       " 'broadcast_shapes',\n",
       " 'broadcast_to',\n",
       " 'busday_count',\n",
       " 'busday_offset',\n",
       " 'busdaycalendar',\n",
       " 'byte',\n",
       " 'byte_bounds',\n",
       " 'bytes0',\n",
       " 'bytes_',\n",
       " 'c_',\n",
       " 'can_cast',\n",
       " 'cast',\n",
       " 'cbrt',\n",
       " 'cdouble',\n",
       " 'ceil',\n",
       " 'cfloat',\n",
       " 'char',\n",
       " 'character',\n",
       " 'chararray',\n",
       " 'choose',\n",
       " 'clip',\n",
       " 'clongdouble',\n",
       " 'clongfloat',\n",
       " 'column_stack',\n",
       " 'common_type',\n",
       " 'compare_chararrays',\n",
       " 'compat',\n",
       " 'complex128',\n",
       " 'complex64',\n",
       " 'complex_',\n",
       " 'complexfloating',\n",
       " 'compress',\n",
       " 'concatenate',\n",
       " 'conj',\n",
       " 'conjugate',\n",
       " 'convolve',\n",
       " 'copy',\n",
       " 'copysign',\n",
       " 'copyto',\n",
       " 'core',\n",
       " 'corrcoef',\n",
       " 'correlate',\n",
       " 'cos',\n",
       " 'cosh',\n",
       " 'count_nonzero',\n",
       " 'cov',\n",
       " 'cross',\n",
       " 'csingle',\n",
       " 'ctypeslib',\n",
       " 'cumprod',\n",
       " 'cumproduct',\n",
       " 'cumsum',\n",
       " 'datetime64',\n",
       " 'datetime_as_string',\n",
       " 'datetime_data',\n",
       " 'deg2rad',\n",
       " 'degrees',\n",
       " 'delete',\n",
       " 'deprecate',\n",
       " 'deprecate_with_doc',\n",
       " 'diag',\n",
       " 'diag_indices',\n",
       " 'diag_indices_from',\n",
       " 'diagflat',\n",
       " 'diagonal',\n",
       " 'diff',\n",
       " 'digitize',\n",
       " 'disp',\n",
       " 'divide',\n",
       " 'divmod',\n",
       " 'dot',\n",
       " 'double',\n",
       " 'dsplit',\n",
       " 'dstack',\n",
       " 'dtype',\n",
       " 'e',\n",
       " 'ediff1d',\n",
       " 'einsum',\n",
       " 'einsum_path',\n",
       " 'emath',\n",
       " 'empty',\n",
       " 'empty_like',\n",
       " 'equal',\n",
       " 'errstate',\n",
       " 'euler_gamma',\n",
       " 'exp',\n",
       " 'exp2',\n",
       " 'expand_dims',\n",
       " 'expm1',\n",
       " 'extract',\n",
       " 'eye',\n",
       " 'fabs',\n",
       " 'fastCopyAndTranspose',\n",
       " 'fft',\n",
       " 'fill_diagonal',\n",
       " 'find_common_type',\n",
       " 'finfo',\n",
       " 'fix',\n",
       " 'flatiter',\n",
       " 'flatnonzero',\n",
       " 'flexible',\n",
       " 'flip',\n",
       " 'fliplr',\n",
       " 'flipud',\n",
       " 'float16',\n",
       " 'float32',\n",
       " 'float64',\n",
       " 'float_',\n",
       " 'float_power',\n",
       " 'floating',\n",
       " 'floor',\n",
       " 'floor_divide',\n",
       " 'fmax',\n",
       " 'fmin',\n",
       " 'fmod',\n",
       " 'format_float_positional',\n",
       " 'format_float_scientific',\n",
       " 'format_parser',\n",
       " 'frexp',\n",
       " 'frombuffer',\n",
       " 'fromfile',\n",
       " 'fromfunction',\n",
       " 'fromiter',\n",
       " 'frompyfunc',\n",
       " 'fromregex',\n",
       " 'fromstring',\n",
       " 'full',\n",
       " 'full_like',\n",
       " 'gcd',\n",
       " 'generic',\n",
       " 'genfromtxt',\n",
       " 'geomspace',\n",
       " 'get_array_wrap',\n",
       " 'get_include',\n",
       " 'get_printoptions',\n",
       " 'getbufsize',\n",
       " 'geterr',\n",
       " 'geterrcall',\n",
       " 'geterrobj',\n",
       " 'gradient',\n",
       " 'greater',\n",
       " 'greater_equal',\n",
       " 'half',\n",
       " 'hamming',\n",
       " 'hanning',\n",
       " 'heaviside',\n",
       " 'histogram',\n",
       " 'histogram2d',\n",
       " 'histogram_bin_edges',\n",
       " 'histogramdd',\n",
       " 'hsplit',\n",
       " 'hstack',\n",
       " 'hypot',\n",
       " 'i0',\n",
       " 'identity',\n",
       " 'iinfo',\n",
       " 'imag',\n",
       " 'in1d',\n",
       " 'index_exp',\n",
       " 'indices',\n",
       " 'inexact',\n",
       " 'inf',\n",
       " 'info',\n",
       " 'infty',\n",
       " 'inner',\n",
       " 'insert',\n",
       " 'int0',\n",
       " 'int16',\n",
       " 'int32',\n",
       " 'int64',\n",
       " 'int8',\n",
       " 'int_',\n",
       " 'intc',\n",
       " 'integer',\n",
       " 'interp',\n",
       " 'intersect1d',\n",
       " 'intp',\n",
       " 'invert',\n",
       " 'is_busday',\n",
       " 'isclose',\n",
       " 'iscomplex',\n",
       " 'iscomplexobj',\n",
       " 'isfinite',\n",
       " 'isfortran',\n",
       " 'isin',\n",
       " 'isinf',\n",
       " 'isnan',\n",
       " 'isnat',\n",
       " 'isneginf',\n",
       " 'isposinf',\n",
       " 'isreal',\n",
       " 'isrealobj',\n",
       " 'isscalar',\n",
       " 'issctype',\n",
       " 'issubclass_',\n",
       " 'issubdtype',\n",
       " 'issubsctype',\n",
       " 'iterable',\n",
       " 'ix_',\n",
       " 'kaiser',\n",
       " 'kron',\n",
       " 'lcm',\n",
       " 'ldexp',\n",
       " 'left_shift',\n",
       " 'less',\n",
       " 'less_equal',\n",
       " 'lexsort',\n",
       " 'lib',\n",
       " 'linalg',\n",
       " 'linspace',\n",
       " 'little_endian',\n",
       " 'load',\n",
       " 'loads',\n",
       " 'loadtxt',\n",
       " 'log',\n",
       " 'log10',\n",
       " 'log1p',\n",
       " 'log2',\n",
       " 'logaddexp',\n",
       " 'logaddexp2',\n",
       " 'logical_and',\n",
       " 'logical_not',\n",
       " 'logical_or',\n",
       " 'logical_xor',\n",
       " 'logspace',\n",
       " 'longcomplex',\n",
       " 'longdouble',\n",
       " 'longfloat',\n",
       " 'longlong',\n",
       " 'lookfor',\n",
       " 'ma',\n",
       " 'mafromtxt',\n",
       " 'mask_indices',\n",
       " 'mat',\n",
       " 'math',\n",
       " 'matmul',\n",
       " 'matrix',\n",
       " 'matrixlib',\n",
       " 'max',\n",
       " 'maximum',\n",
       " 'maximum_sctype',\n",
       " 'may_share_memory',\n",
       " 'mean',\n",
       " 'median',\n",
       " 'memmap',\n",
       " 'meshgrid',\n",
       " 'mgrid',\n",
       " 'min',\n",
       " 'min_scalar_type',\n",
       " 'minimum',\n",
       " 'mintypecode',\n",
       " 'mkl',\n",
       " 'mod',\n",
       " 'modf',\n",
       " 'moveaxis',\n",
       " 'msort',\n",
       " 'multiply',\n",
       " 'nan',\n",
       " 'nan_to_num',\n",
       " 'nanargmax',\n",
       " 'nanargmin',\n",
       " 'nancumprod',\n",
       " 'nancumsum',\n",
       " 'nanmax',\n",
       " 'nanmean',\n",
       " 'nanmedian',\n",
       " 'nanmin',\n",
       " 'nanpercentile',\n",
       " 'nanprod',\n",
       " 'nanquantile',\n",
       " 'nanstd',\n",
       " 'nansum',\n",
       " 'nanvar',\n",
       " 'nbytes',\n",
       " 'ndarray',\n",
       " 'ndenumerate',\n",
       " 'ndfromtxt',\n",
       " 'ndim',\n",
       " 'ndindex',\n",
       " 'nditer',\n",
       " 'negative',\n",
       " 'nested_iters',\n",
       " 'newaxis',\n",
       " 'nextafter',\n",
       " 'nonzero',\n",
       " 'not_equal',\n",
       " 'numarray',\n",
       " 'number',\n",
       " 'obj2sctype',\n",
       " 'object0',\n",
       " 'object_',\n",
       " 'ogrid',\n",
       " 'oldnumeric',\n",
       " 'ones',\n",
       " 'ones_like',\n",
       " 'os',\n",
       " 'outer',\n",
       " 'packbits',\n",
       " 'pad',\n",
       " 'partition',\n",
       " 'percentile',\n",
       " 'pi',\n",
       " 'piecewise',\n",
       " 'place',\n",
       " 'poly',\n",
       " 'poly1d',\n",
       " 'polyadd',\n",
       " 'polyder',\n",
       " 'polydiv',\n",
       " 'polyfit',\n",
       " 'polyint',\n",
       " 'polymul',\n",
       " 'polynomial',\n",
       " 'polysub',\n",
       " 'polyval',\n",
       " 'positive',\n",
       " 'power',\n",
       " 'printoptions',\n",
       " 'prod',\n",
       " 'product',\n",
       " 'promote_types',\n",
       " 'ptp',\n",
       " 'put',\n",
       " 'put_along_axis',\n",
       " 'putmask',\n",
       " 'quantile',\n",
       " 'r_',\n",
       " 'rad2deg',\n",
       " 'radians',\n",
       " 'random',\n",
       " 'ravel',\n",
       " 'ravel_multi_index',\n",
       " 'real',\n",
       " 'real_if_close',\n",
       " 'rec',\n",
       " 'recarray',\n",
       " 'recfromcsv',\n",
       " 'recfromtxt',\n",
       " 'reciprocal',\n",
       " 'record',\n",
       " 'remainder',\n",
       " 'repeat',\n",
       " 'require',\n",
       " 'reshape',\n",
       " 'resize',\n",
       " 'result_type',\n",
       " 'right_shift',\n",
       " 'rint',\n",
       " 'roll',\n",
       " 'rollaxis',\n",
       " 'roots',\n",
       " 'rot90',\n",
       " 'round',\n",
       " 'round_',\n",
       " 'row_stack',\n",
       " 's_',\n",
       " 'safe_eval',\n",
       " 'save',\n",
       " 'savetxt',\n",
       " 'savez',\n",
       " 'savez_compressed',\n",
       " 'sctype2char',\n",
       " 'sctypeDict',\n",
       " 'sctypes',\n",
       " 'searchsorted',\n",
       " 'select',\n",
       " 'set_numeric_ops',\n",
       " 'set_printoptions',\n",
       " 'set_string_function',\n",
       " 'setbufsize',\n",
       " 'setdiff1d',\n",
       " 'seterr',\n",
       " 'seterrcall',\n",
       " 'seterrobj',\n",
       " 'setxor1d',\n",
       " 'shape',\n",
       " 'shares_memory',\n",
       " 'short',\n",
       " 'show_config',\n",
       " 'sign',\n",
       " 'signbit',\n",
       " 'signedinteger',\n",
       " 'sin',\n",
       " 'sinc',\n",
       " 'single',\n",
       " 'singlecomplex',\n",
       " 'sinh',\n",
       " 'size',\n",
       " 'sometrue',\n",
       " 'sort',\n",
       " 'sort_complex',\n",
       " 'source',\n",
       " 'spacing',\n",
       " 'split',\n",
       " 'sqrt',\n",
       " 'square',\n",
       " 'squeeze',\n",
       " 'stack',\n",
       " 'std',\n",
       " 'str0',\n",
       " 'str_',\n",
       " 'string_',\n",
       " 'subtract',\n",
       " 'sum',\n",
       " 'swapaxes',\n",
       " 'sys',\n",
       " 'take',\n",
       " 'take_along_axis',\n",
       " 'tan',\n",
       " 'tanh',\n",
       " 'tensordot',\n",
       " 'test',\n",
       " 'testing',\n",
       " 'tile',\n",
       " 'timedelta64',\n",
       " 'trace',\n",
       " 'tracemalloc_domain',\n",
       " 'transpose',\n",
       " 'trapz',\n",
       " 'tri',\n",
       " 'tril',\n",
       " 'tril_indices',\n",
       " 'tril_indices_from',\n",
       " 'trim_zeros',\n",
       " 'triu',\n",
       " 'triu_indices',\n",
       " 'triu_indices_from',\n",
       " 'true_divide',\n",
       " 'trunc',\n",
       " 'typecodes',\n",
       " 'typename',\n",
       " 'ubyte',\n",
       " 'ufunc',\n",
       " 'uint',\n",
       " 'uint0',\n",
       " 'uint16',\n",
       " 'uint32',\n",
       " 'uint64',\n",
       " 'uint8',\n",
       " 'uintc',\n",
       " 'uintp',\n",
       " 'ulonglong',\n",
       " 'unicode_',\n",
       " 'union1d',\n",
       " 'unique',\n",
       " 'unpackbits',\n",
       " 'unravel_index',\n",
       " 'unsignedinteger',\n",
       " 'unwrap',\n",
       " 'use_hugepage',\n",
       " 'ushort',\n",
       " 'vander',\n",
       " 'var',\n",
       " 'vdot',\n",
       " 'vectorize',\n",
       " 'version',\n",
       " 'void',\n",
       " 'void0',\n",
       " 'vsplit',\n",
       " 'vstack',\n",
       " 'warnings',\n",
       " 'where',\n",
       " 'who',\n",
       " 'zeros',\n",
       " 'zeros_like']"
      ]
     },
     "execution_count": 6,
     "metadata": {},
     "output_type": "execute_result"
    }
   ],
   "source": [
    "dir(np)"
   ]
  },
  {
   "cell_type": "markdown",
   "metadata": {
    "colab_type": "text",
    "id": "XM0y2qpb4I0V"
   },
   "source": [
    "### 2) Cài đặt, cập nhật thư viện sử dụng lệnh\n",
    "\n",
    "Để cài đặt một thư viện mới sử dụng lệnh:\n",
    "\n",
    "**!pip install <tên thư viện>**  \n",
    "\n",
    "hoặc :\n",
    "\n",
    "**!apt-get install <tên thư viện>**\n",
    "\n",
    "---\n",
    "Để cập nhật một thư viện lên phiên bản cao hơn sử dụng lệnh:\n",
    "\n",
    "**!pip install --user <tên thư viện> --upgrade**"
   ]
  },
  {
   "cell_type": "code",
   "execution_count": 7,
   "metadata": {
    "colab": {},
    "colab_type": "code",
    "id": "smBaGLdh3X7B"
   },
   "outputs": [
    {
     "name": "stdout",
     "output_type": "stream",
     "text": [
      "Thu vien Scrapy, Version:  2.6.1\n"
     ]
    }
   ],
   "source": [
    "#Thư viện chưa được cài đặt:\n",
    "import scrapy as sc\n",
    "print(\"Thu vien Scrapy, Version: \",sc.__version__)"
   ]
  },
  {
   "cell_type": "code",
   "execution_count": 9,
   "metadata": {
    "colab": {},
    "colab_type": "code",
    "id": "NQPzi0b13h3v"
   },
   "outputs": [
    {
     "name": "stdout",
     "output_type": "stream",
     "text": [
      "Requirement already satisfied: scrapy in c:\\users\\hoangnx8\\anaconda3\\lib\\site-packages (2.6.1)\n",
      "Requirement already satisfied: service-identity>=16.0.0 in c:\\users\\hoangnx8\\anaconda3\\lib\\site-packages (from scrapy) (18.1.0)\n",
      "Requirement already satisfied: pyOpenSSL>=16.2.0 in c:\\users\\hoangnx8\\anaconda3\\lib\\site-packages (from scrapy) (21.0.0)\n",
      "Requirement already satisfied: PyDispatcher>=2.0.5 in c:\\users\\hoangnx8\\anaconda3\\lib\\site-packages (from scrapy) (2.0.5)\n",
      "Requirement already satisfied: protego>=0.1.15 in c:\\users\\hoangnx8\\anaconda3\\lib\\site-packages (from scrapy) (0.1.16)\n",
      "Requirement already satisfied: tldextract in c:\\users\\hoangnx8\\anaconda3\\lib\\site-packages (from scrapy) (3.2.0)\n",
      "Requirement already satisfied: cryptography>=2.0 in c:\\users\\hoangnx8\\anaconda3\\lib\\site-packages (from scrapy) (3.4.8)\n",
      "Requirement already satisfied: zope.interface>=4.1.3 in c:\\users\\hoangnx8\\anaconda3\\lib\\site-packages (from scrapy) (5.4.0)\n",
      "Requirement already satisfied: parsel>=1.5.0 in c:\\users\\hoangnx8\\anaconda3\\lib\\site-packages (from scrapy) (1.6.0)\n",
      "Requirement already satisfied: queuelib>=1.4.2 in c:\\users\\hoangnx8\\anaconda3\\lib\\site-packages (from scrapy) (1.5.0)\n",
      "Requirement already satisfied: Twisted>=17.9.0 in c:\\users\\hoangnx8\\anaconda3\\lib\\site-packages (from scrapy) (22.2.0)\n",
      "Requirement already satisfied: cssselect>=0.9.1 in c:\\users\\hoangnx8\\anaconda3\\lib\\site-packages (from scrapy) (1.1.0)\n",
      "Requirement already satisfied: itemloaders>=1.0.1 in c:\\users\\hoangnx8\\anaconda3\\lib\\site-packages (from scrapy) (1.0.4)\n",
      "Requirement already satisfied: w3lib>=1.17.0 in c:\\users\\hoangnx8\\anaconda3\\lib\\site-packages (from scrapy) (1.21.0)\n",
      "Requirement already satisfied: setuptools in c:\\users\\hoangnx8\\anaconda3\\lib\\site-packages (from scrapy) (61.2.0)\n",
      "Requirement already satisfied: lxml>=3.5.0 in c:\\users\\hoangnx8\\anaconda3\\lib\\site-packages (from scrapy) (4.8.0)\n",
      "Requirement already satisfied: itemadapter>=0.1.0 in c:\\users\\hoangnx8\\anaconda3\\lib\\site-packages (from scrapy) (0.3.0)\n",
      "Requirement already satisfied: cffi>=1.12 in c:\\users\\hoangnx8\\anaconda3\\lib\\site-packages (from cryptography>=2.0->scrapy) (1.15.0)\n",
      "Requirement already satisfied: pycparser in c:\\users\\hoangnx8\\anaconda3\\lib\\site-packages (from cffi>=1.12->cryptography>=2.0->scrapy) (2.21)\n",
      "Requirement already satisfied: jmespath>=0.9.5 in c:\\users\\hoangnx8\\anaconda3\\lib\\site-packages (from itemloaders>=1.0.1->scrapy) (0.10.0)\n",
      "Requirement already satisfied: six>=1.6.0 in c:\\users\\hoangnx8\\anaconda3\\lib\\site-packages (from parsel>=1.5.0->scrapy) (1.16.0)\n",
      "Requirement already satisfied: pyasn1 in c:\\users\\hoangnx8\\anaconda3\\lib\\site-packages (from service-identity>=16.0.0->scrapy) (0.4.8)\n",
      "Requirement already satisfied: pyasn1-modules in c:\\users\\hoangnx8\\anaconda3\\lib\\site-packages (from service-identity>=16.0.0->scrapy) (0.2.8)\n",
      "Requirement already satisfied: attrs>=16.0.0 in c:\\users\\hoangnx8\\anaconda3\\lib\\site-packages (from service-identity>=16.0.0->scrapy) (21.4.0)\n",
      "Requirement already satisfied: Automat>=0.8.0 in c:\\users\\hoangnx8\\anaconda3\\lib\\site-packages (from Twisted>=17.9.0->scrapy) (20.2.0)\n",
      "Requirement already satisfied: typing-extensions>=3.6.5 in c:\\users\\hoangnx8\\anaconda3\\lib\\site-packages (from Twisted>=17.9.0->scrapy) (4.1.1)\n",
      "Requirement already satisfied: twisted-iocpsupport<2,>=1.0.2 in c:\\users\\hoangnx8\\anaconda3\\lib\\site-packages (from Twisted>=17.9.0->scrapy) (1.0.2)\n",
      "Requirement already satisfied: incremental>=21.3.0 in c:\\users\\hoangnx8\\anaconda3\\lib\\site-packages (from Twisted>=17.9.0->scrapy) (21.3.0)\n",
      "Requirement already satisfied: hyperlink>=17.1.1 in c:\\users\\hoangnx8\\anaconda3\\lib\\site-packages (from Twisted>=17.9.0->scrapy) (21.0.0)\n",
      "Requirement already satisfied: constantly>=15.1 in c:\\users\\hoangnx8\\anaconda3\\lib\\site-packages (from Twisted>=17.9.0->scrapy) (15.1.0)\n",
      "Requirement already satisfied: idna>=2.5 in c:\\users\\hoangnx8\\anaconda3\\lib\\site-packages (from hyperlink>=17.1.1->Twisted>=17.9.0->scrapy) (3.3)\n",
      "Requirement already satisfied: filelock>=3.0.8 in c:\\users\\hoangnx8\\anaconda3\\lib\\site-packages (from tldextract->scrapy) (3.6.0)\n",
      "Requirement already satisfied: requests>=2.1.0 in c:\\users\\hoangnx8\\anaconda3\\lib\\site-packages (from tldextract->scrapy) (2.27.1)\n",
      "Requirement already satisfied: requests-file>=1.4 in c:\\users\\hoangnx8\\anaconda3\\lib\\site-packages (from tldextract->scrapy) (1.5.1)\n",
      "Requirement already satisfied: charset-normalizer~=2.0.0 in c:\\users\\hoangnx8\\anaconda3\\lib\\site-packages (from requests>=2.1.0->tldextract->scrapy) (2.0.4)\n",
      "Requirement already satisfied: urllib3<1.27,>=1.21.1 in c:\\users\\hoangnx8\\anaconda3\\lib\\site-packages (from requests>=2.1.0->tldextract->scrapy) (1.26.9)\n",
      "Requirement already satisfied: certifi>=2017.4.17 in c:\\users\\hoangnx8\\anaconda3\\lib\\site-packages (from requests>=2.1.0->tldextract->scrapy) (2021.10.8)\n"
     ]
    }
   ],
   "source": [
    "#Cài đặt thư viện scrapy vào hệ thống:\n",
    "!pip install --user scrapy --upgrade"
   ]
  },
  {
   "cell_type": "code",
   "execution_count": 10,
   "metadata": {},
   "outputs": [
    {
     "name": "stdout",
     "output_type": "stream",
     "text": [
      "Collecting opencv-python\n",
      "  Downloading opencv_python-4.6.0.66-cp36-abi3-win_amd64.whl (35.6 MB)\n",
      "Requirement already satisfied: numpy>=1.17.3 in c:\\users\\hoangnx8\\anaconda3\\lib\\site-packages (from opencv-python) (1.21.5)\n",
      "Installing collected packages: opencv-python\n",
      "Successfully installed opencv-python-4.6.0.66\n"
     ]
    }
   ],
   "source": [
    "!pip install opencv-python"
   ]
  },
  {
   "cell_type": "code",
   "execution_count": null,
   "metadata": {},
   "outputs": [],
   "source": [
    "#Update thư viện\n",
    "\n",
    "!pip install --user <ten thu vien > --upgrade"
   ]
  },
  {
   "cell_type": "markdown",
   "metadata": {
    "colab_type": "text",
    "id": "TF7j-maO6XfF"
   },
   "source": [
    "## II) LÀM VIỆC VỚI THƯ VIỆN NUMPY"
   ]
  },
  {
   "cell_type": "markdown",
   "metadata": {
    "colab_type": "text",
    "id": "ksVfGFNt6zzJ"
   },
   "source": [
    "### II.1) KHỞI TẠO MẢNG VỚI NUMPY\n",
    "---"
   ]
  },
  {
   "cell_type": "markdown",
   "metadata": {},
   "source": [
    "### II.1.1 Khởi tạo mảng 1D, 2D, 3D\n",
    "---\n",
    "#### a) Mảng 1 chiều (1D)"
   ]
  },
  {
   "cell_type": "code",
   "execution_count": 12,
   "metadata": {},
   "outputs": [
    {
     "name": "stdout",
     "output_type": "stream",
     "text": [
      "['1' '2' '4' '5.5' '7' '0' '8' '12' '20' '8']\n",
      "Loại dữ liệu của biến a: <class 'numpy.ndarray'>\n",
      "Kiểu dữ liệu của phần tử trong mảng a: <U32\n",
      "Kích thước của mảng a: (10,)\n",
      "Số phần tử của mảng a: 10\n",
      "Số chiều của mảng a: 1\n"
     ]
    }
   ],
   "source": [
    "#Khởi tạo mảng 1 chiều với thư viên Numpy\n",
    "import numpy as np\n",
    "\n",
    "#Tạo mảng 1 chiều (1D) - row\n",
    "a = np.array([1, 2, '4',5.5, 7, 0, 8, 12, 20, 8])\n",
    "#Khi thay '4' thì array sẽ bị ép hết sang level cao hơn\n",
    "print(a)\n",
    "print(\"Loại dữ liệu của biến a:\", type(a))\n",
    "print(\"Kiểu dữ liệu của phần tử trong mảng a:\", a.dtype)\n",
    "print(\"Kích thước của mảng a:\", a.shape)\n",
    "print(\"Số phần tử của mảng a:\", a.size)\n",
    "print(\"Số chiều của mảng a:\", a.ndim)"
   ]
  },
  {
   "cell_type": "code",
   "execution_count": 13,
   "metadata": {},
   "outputs": [
    {
     "name": "stdout",
     "output_type": "stream",
     "text": [
      "<class 'float'>\n"
     ]
    }
   ],
   "source": [
    "#Danh sách\n",
    "ds = [1, 2.5, '5', 7, 0, 8, 12, 20, -1]\n",
    "print(type(ds[1]))"
   ]
  },
  {
   "cell_type": "code",
   "execution_count": 14,
   "metadata": {},
   "outputs": [
    {
     "name": "stdout",
     "output_type": "stream",
     "text": [
      "Danh sách list_a: [7, 6, 5, 7, 12, 1]\n",
      "<class 'list'>\n",
      "------------------------------------\n",
      "Mảng array_a: [ 7  6  5  7 12  1]\n",
      "Loại dữ liệu của biến array_a: <class 'numpy.ndarray'>\n",
      "Kiểu dữ liệu của phần tử trong mảng array_a: int32\n",
      "Kích thước của mảng array_a: (6,)\n",
      "Số phần tử của mảng array_a: 6\n",
      "Số chiều của mảng array_a: 1\n"
     ]
    }
   ],
   "source": [
    "import numpy as np\n",
    "#Chuyển đổi từ biến kiểu list sang biến mảng\n",
    "list_a = [7, 6, 5, 7, 12, 1]\n",
    "print(\"Danh sách list_a:\", list_a)\n",
    "print(type(list_a))\n",
    "\n",
    "print('------------------------------------')\n",
    "#chuyển sang kiểu array\n",
    "array_a = np.array(list_a)\n",
    "\n",
    "print(\"Mảng array_a:\", array_a)\n",
    "print(\"Loại dữ liệu của biến array_a:\", type(array_a))\n",
    "print(\"Kiểu dữ liệu của phần tử trong mảng array_a:\", array_a.dtype)\n",
    "print(\"Kích thước của mảng array_a:\", array_a.shape)\n",
    "print(\"Số phần tử của mảng array_a:\", array_a.size)\n",
    "print(\"Số chiều của mảng array_a:\", array_a.ndim)"
   ]
  },
  {
   "cell_type": "markdown",
   "metadata": {},
   "source": [
    "#### b) Mảng 2 chiều (2D - Ma trận)"
   ]
  },
  {
   "cell_type": "code",
   "execution_count": 15,
   "metadata": {},
   "outputs": [
    {
     "name": "stdout",
     "output_type": "stream",
     "text": [
      "[[ 4  5  6]\n",
      " [ 1  2  3]\n",
      " [ 7  8 10]\n",
      " [11  0  8]]\n",
      "Loại dữ liệu của biến b: <class 'numpy.ndarray'>\n",
      "Kiểu dữ liệu của phần tử trong mảng b: int32\n",
      "Kích thước của mảng b: (4, 3)\n",
      "Số phần tử của mảng b: 12\n",
      "Số chiều của mảng b: 2\n"
     ]
    }
   ],
   "source": [
    "#Gọi thư viện numpy\n",
    "import numpy as np\n",
    "\n",
    "#Tạo mảng 2 chiều (2D - Ma trận)\n",
    "b = np.array([(4, 5, 6),\n",
    "              (1, 2, 3),\n",
    "              (7, 8, 10),\n",
    "              (11, 0, 8)])\n",
    "\n",
    "print(b)\n",
    "print(\"Loại dữ liệu của biến b:\", type(b))\n",
    "print(\"Kiểu dữ liệu của phần tử trong mảng b:\", b.dtype)\n",
    "print(\"Kích thước của mảng b:\", b.shape)\n",
    "print(\"Số phần tử của mảng b:\", b.size)\n",
    "print(\"Số chiều của mảng b:\", b.ndim)"
   ]
  },
  {
   "cell_type": "code",
   "execution_count": 20,
   "metadata": {},
   "outputs": [
    {
     "name": "stdout",
     "output_type": "stream",
     "text": [
      "[[4 4 4]\n",
      " [4 4 4]\n",
      " [4 4 4]\n",
      " [4 4 4]\n",
      " [4 4 4]]\n"
     ]
    }
   ],
   "source": [
    "#Học viên Tạo 1 ma trận (5x3): các phần tử đều = 4\n",
    "new_matrix = np.array([(4, 4, 4),(4, 4 ,4), (4, 4 ,4),(4, 4, 4),(4, 4, 4)])\n",
    "print(new_matrix)\n",
    "\n",
    "\n",
    "\n",
    "\n",
    "\n",
    "\n"
   ]
  },
  {
   "cell_type": "markdown",
   "metadata": {},
   "source": [
    "#### c) Mảng 3 chiều (3D)"
   ]
  },
  {
   "cell_type": "code",
   "execution_count": 21,
   "metadata": {},
   "outputs": [
    {
     "name": "stdout",
     "output_type": "stream",
     "text": [
      "[[[2 4 0 6]\n",
      "  [4 7 5 6]]\n",
      "\n",
      " [[0 3 2 1]\n",
      "  [9 4 5 6]]\n",
      "\n",
      " [[5 8 6 4]\n",
      "  [1 4 6 8]]]\n",
      "Loại dữ liệu của biến c: <class 'numpy.ndarray'>\n",
      "Kiểu dữ liệu của phần tử trong mảng c: int32\n",
      "Kích thước của mảng c: (3, 2, 4)\n",
      "Số phần tử của mảng c: 24\n",
      "Số chiều của mảng c: 3\n"
     ]
    }
   ],
   "source": [
    "#Gọi thư viện numpy\n",
    "import numpy as np\n",
    "\n",
    "#Tạo mảng 3 chiều (3D)\n",
    "c = np.array([[(2, 4, 0, 6),(4, 7, 5, 6)],\n",
    "             [(0, 3, 2, 1),(9, 4, 5, 6)],\n",
    "             [(5, 8, 6, 4),(1, 4, 6, 8)]])\n",
    "\n",
    "print(c)\n",
    "print(\"Loại dữ liệu của biến c:\", type(b))\n",
    "print(\"Kiểu dữ liệu của phần tử trong mảng c:\", c.dtype)\n",
    "print(\"Kích thước của mảng c:\", c.shape)\n",
    "print(\"Số phần tử của mảng c:\", c.size)\n",
    "print(\"Số chiều của mảng c:\", c.ndim)"
   ]
  },
  {
   "cell_type": "code",
   "execution_count": 24,
   "metadata": {},
   "outputs": [
    {
     "data": {
      "image/png": "[encoded data removed]",
      "text/plain": [
       "<Figure size 432x288 with 1 Axes>"
      ]
     },
     "metadata": {
      "needs_background": "light"
     },
     "output_type": "display_data"
    },
    {
     "data": {
      "text/plain": [
       "(127, 816, 3)"
      ]
     },
     "execution_count": 24,
     "metadata": {},
     "output_type": "execute_result"
    }
   ],
   "source": [
    "#Dữ liệu ảnh --> 1 Ma trận (ảnh màu ma trận 3 chiều| Ảnh xám ma trận 1 chiều)\n",
    "import cv2\n",
    "import matplotlib.pyplot as plt\n",
    "\n",
    "\n",
    "img = cv2.imread('pic/logo.jpg')\n",
    "\n",
    "#img1 = cv2.cvtColor(img, cv2.COLOR_BGR2RGB)\n",
    "plt.imshow(cv2.cvtColor(img, cv2.COLOR_BGR2RGB))\n",
    "plt.show()\n",
    "\n",
    "\n",
    "img.shape"
   ]
  },
  {
   "cell_type": "code",
   "execution_count": 25,
   "metadata": {},
   "outputs": [
    {
     "data": {
      "text/plain": [
       "array([[255, 255, 254, ..., 255, 255, 255],\n",
       "       [255, 255, 255, ..., 255, 255, 255],\n",
       "       [255, 255, 255, ..., 255, 255, 255],\n",
       "       ...,\n",
       "       [255, 255, 255, ..., 254, 255, 255],\n",
       "       [255, 255, 255, ..., 253, 255, 255],\n",
       "       [255, 255, 255, ..., 255, 255, 255]], dtype=uint8)"
      ]
     },
     "execution_count": 25,
     "metadata": {},
     "output_type": "execute_result"
    }
   ],
   "source": [
    "#màu Blue\n",
    "img[30:50,:,0]"
   ]
  },
  {
   "cell_type": "code",
   "execution_count": null,
   "metadata": {},
   "outputs": [],
   "source": [
    "#Màu Green\n",
    "img[:,:,1]"
   ]
  },
  {
   "cell_type": "code",
   "execution_count": null,
   "metadata": {},
   "outputs": [],
   "source": [
    "#Màu Red\n",
    "img[:,:,2]"
   ]
  },
  {
   "cell_type": "markdown",
   "metadata": {},
   "source": [
    "### II.1.2) Khởi tạo mảng với các hàm sẵn có của Numpy\n",
    "---\n",
    "<img src='Pic/array.png' width='600x'>"
   ]
  },
  {
   "cell_type": "code",
   "execution_count": 26,
   "metadata": {},
   "outputs": [
    {
     "name": "stdout",
     "output_type": "stream",
     "text": [
      "[[0. 0. 0. 0.]\n",
      " [0. 0. 0. 0.]\n",
      " [0. 0. 0. 0.]\n",
      " [0. 0. 0. 0.]\n",
      " [0. 0. 0. 0.]\n",
      " [0. 0. 0. 0.]\n",
      " [0. 0. 0. 0.]\n",
      " [0. 0. 0. 0.]\n",
      " [0. 0. 0. 0.]\n",
      " [0. 0. 0. 0.]]\n",
      "Kiểu dữ liệu trong mảng array_zeros: float64\n",
      "Kích thước của mảng array_zeros: (10, 4)\n",
      "Số phần tử của mảng array_zeros: 40\n",
      "Số chiều của mảng array_zeros: 2\n"
     ]
    }
   ],
   "source": [
    "# 1) Phương thức zeros: Tạo ma trận 0 kích thước 5 hàng x 3 cột\n",
    "import numpy as np\n",
    "\n",
    "array_zeros = np.zeros((10,4))\n",
    "print(array_zeros)\n",
    "print(\"Kiểu dữ liệu trong mảng array_zeros:\", array_zeros.dtype)\n",
    "print(\"Kích thước của mảng array_zeros:\", array_zeros.shape)\n",
    "print(\"Số phần tử của mảng array_zeros:\", array_zeros.size)\n",
    "print(\"Số chiều của mảng array_zeros:\", array_zeros.ndim)"
   ]
  },
  {
   "cell_type": "code",
   "execution_count": 27,
   "metadata": {},
   "outputs": [
    {
     "data": {
      "text/plain": [
       "array([0, 0, 0, 0, 0, 0, 0, 0, 0, 0])"
      ]
     },
     "execution_count": 27,
     "metadata": {},
     "output_type": "execute_result"
    }
   ],
   "source": [
    "#Thuộc tính dtype xác định kiểu dữ liệu của phần tử muốn tạo\n",
    "#Mặc định kiểu dữ liệu các phần tử là float\n",
    "\n",
    "vector_zeros = np.zeros(10,dtype=np.int32)\n",
    "vector_zeros"
   ]
  },
  {
   "cell_type": "code",
   "execution_count": 28,
   "metadata": {},
   "outputs": [
    {
     "name": "stdout",
     "output_type": "stream",
     "text": [
      "[[1 1 1 1 1]\n",
      " [1 1 1 1 1]\n",
      " [1 1 1 1 1]]\n",
      "Kiểu dữ liệu trong mảng array_one: int8\n",
      "Kích thước của mảng array_one: (3, 5)\n",
      "Số phần tử của mảng array_one: 15\n",
      "Số chiều của mảng array_one: 2\n"
     ]
    }
   ],
   "source": [
    "# 2) Phương thức ones: Tạo ma trận 1 kích thước 3 hàng x 5 cột\n",
    "import numpy as np\n",
    "\n",
    "array_one = np.ones((3, 5),dtype=np.int8)\n",
    "\n",
    "print(array_one)\n",
    "print(\"Kiểu dữ liệu trong mảng array_one:\", array_one.dtype)\n",
    "print(\"Kích thước của mảng array_one:\", array_one.shape)\n",
    "print(\"Số phần tử của mảng array_one:\", array_one.size)\n",
    "print(\"Số chiều của mảng array_one:\", array_one.ndim)"
   ]
  },
  {
   "cell_type": "code",
   "execution_count": null,
   "metadata": {},
   "outputs": [],
   "source": []
  },
  {
   "cell_type": "code",
   "execution_count": 29,
   "metadata": {},
   "outputs": [
    {
     "name": "stdout",
     "output_type": "stream",
     "text": [
      "[[1. 0. 0. 0. 0. 0. 0. 0. 0. 0. 0. 0. 0. 0. 0.]\n",
      " [0. 1. 0. 0. 0. 0. 0. 0. 0. 0. 0. 0. 0. 0. 0.]\n",
      " [0. 0. 1. 0. 0. 0. 0. 0. 0. 0. 0. 0. 0. 0. 0.]\n",
      " [0. 0. 0. 1. 0. 0. 0. 0. 0. 0. 0. 0. 0. 0. 0.]\n",
      " [0. 0. 0. 0. 1. 0. 0. 0. 0. 0. 0. 0. 0. 0. 0.]\n",
      " [0. 0. 0. 0. 0. 1. 0. 0. 0. 0. 0. 0. 0. 0. 0.]\n",
      " [0. 0. 0. 0. 0. 0. 1. 0. 0. 0. 0. 0. 0. 0. 0.]\n",
      " [0. 0. 0. 0. 0. 0. 0. 1. 0. 0. 0. 0. 0. 0. 0.]\n",
      " [0. 0. 0. 0. 0. 0. 0. 0. 1. 0. 0. 0. 0. 0. 0.]\n",
      " [0. 0. 0. 0. 0. 0. 0. 0. 0. 1. 0. 0. 0. 0. 0.]\n",
      " [0. 0. 0. 0. 0. 0. 0. 0. 0. 0. 1. 0. 0. 0. 0.]\n",
      " [0. 0. 0. 0. 0. 0. 0. 0. 0. 0. 0. 1. 0. 0. 0.]\n",
      " [0. 0. 0. 0. 0. 0. 0. 0. 0. 0. 0. 0. 1. 0. 0.]\n",
      " [0. 0. 0. 0. 0. 0. 0. 0. 0. 0. 0. 0. 0. 1. 0.]\n",
      " [0. 0. 0. 0. 0. 0. 0. 0. 0. 0. 0. 0. 0. 0. 1.]]\n",
      "Kiểu dữ liệu của phần tử trong mảng array_eye: float64\n",
      "Kích thước của mảng array_eye: (15, 15)\n",
      "Số phần tử của mảng array_eye: 225\n",
      "Số chiều của mảng array_eye: 2\n"
     ]
    }
   ],
   "source": [
    "# 3) Phương thức eye: Tạo ma trận đơn vị cấp 5\n",
    "import numpy as np\n",
    "array_eye = np.eye(15)\n",
    "\n",
    "print(array_eye)\n",
    "print(\"Kiểu dữ liệu của phần tử trong mảng array_eye:\", array_eye.dtype)\n",
    "print(\"Kích thước của mảng array_eye:\", array_eye.shape)\n",
    "print(\"Số phần tử của mảng array_eye:\", array_eye.size)\n",
    "print(\"Số chiều của mảng array_eye:\", array_eye.ndim)"
   ]
  },
  {
   "cell_type": "code",
   "execution_count": null,
   "metadata": {},
   "outputs": [],
   "source": []
  },
  {
   "cell_type": "code",
   "execution_count": 30,
   "metadata": {},
   "outputs": [
    {
     "name": "stdout",
     "output_type": "stream",
     "text": [
      "[[0.21904056 0.6958725  0.47700409 0.00669022 0.89099662 0.72629524]\n",
      " [0.50786405 0.12280459 0.72223028 0.27133533 0.84235786 0.63212307]\n",
      " [0.08369402 0.0812678  0.23064967 0.41712448 0.42314848 0.32665115]\n",
      " [0.93502167 0.28593465 0.39867851 0.31064836 0.90720136 0.72921501]\n",
      " [0.67660993 0.95326282 0.67206997 0.57095272 0.38770698 0.69811249]\n",
      " [0.32285015 0.2359954  0.17108726 0.15998883 0.23803992 0.09625627]]\n",
      "Kiểu dữ liệu của phần tử trong mảng array_random: float64\n",
      "Kích thước của mảng array_random: (6, 6)\n",
      "Số phần tử của mảng array_random: 36\n",
      "Số chiều của mảng array_random: 2\n"
     ]
    }
   ],
   "source": [
    "#4) Phương thức random: Tạo một ma trận (7x5) các phần tử ngẫu nhiên [0,1]\n",
    "import numpy as np\n",
    "array_random = np.random.random((6,6))\n",
    "\n",
    "print(array_random)\n",
    "print(\"Kiểu dữ liệu của phần tử trong mảng array_random:\", array_random.dtype)\n",
    "print(\"Kích thước của mảng array_random:\", array_random.shape)\n",
    "print(\"Số phần tử của mảng array_random:\", array_random.size)\n",
    "print(\"Số chiều của mảng array_random:\", array_random.ndim)"
   ]
  },
  {
   "cell_type": "code",
   "execution_count": 33,
   "metadata": {},
   "outputs": [
    {
     "name": "stdout",
     "output_type": "stream",
     "text": [
      "[123 119 126 127 115 119 125 102 105 122 104 129 126 124 107 118]\n",
      "[[4 6 8]\n",
      " [6 3 6]]\n"
     ]
    }
   ],
   "source": [
    "#5) Phương thức randint:\n",
    "#Tạo một vector các phần tử là số nguyên ngẫu nhiên trong khoảng [low,hight)\n",
    "import numpy as np\n",
    "vector_a = np.random.randint(100, 130,16)\n",
    "print(vector_a)\n",
    "#create a matrix\n",
    "matrix_x = np.random.randint(1,10,(2,3))\n",
    "print(matrix_x)"
   ]
  },
  {
   "cell_type": "code",
   "execution_count": 34,
   "metadata": {},
   "outputs": [
    {
     "name": "stdout",
     "output_type": "stream",
     "text": [
      "[[23 13 21 28 24]\n",
      " [26 13 15 10 23]\n",
      " [14 24 10 25 14]]\n"
     ]
    }
   ],
   "source": [
    "#Tạo một ma trận (3,5) các phần tử là số nguyên ngẫu nhiên\n",
    "import numpy as np\n",
    "array_a = np.random.randint(10, 30,(3,5))\n",
    "print(array_a)"
   ]
  },
  {
   "cell_type": "code",
   "execution_count": 35,
   "metadata": {},
   "outputs": [
    {
     "name": "stdout",
     "output_type": "stream",
     "text": [
      "Vector d: [13 16 19 22]\n",
      "Số phần tử của vector d: 4\n"
     ]
    }
   ],
   "source": [
    "#6) Phương thức arange(a, b, steps): \n",
    "#Tạo vector:\n",
    "# Phần tử đầu tiên = a (=0), \n",
    "# kết thúc <b, \n",
    "# mỗi phần tử cách nhau một khoảng = steps (=1)\n",
    "d = np.arange(13,25,3)\n",
    "print('Vector d:', d)\n",
    "print(\"Số phần tử của vector d:\", d.size)"
   ]
  },
  {
   "cell_type": "code",
   "execution_count": 36,
   "metadata": {},
   "outputs": [
    {
     "name": "stdout",
     "output_type": "stream",
     "text": [
      "Vector f: [ 1.          1.48275862  1.96551724  2.44827586  2.93103448  3.4137931\n",
      "  3.89655172  4.37931034  4.86206897  5.34482759  5.82758621  6.31034483\n",
      "  6.79310345  7.27586207  7.75862069  8.24137931  8.72413793  9.20689655\n",
      "  9.68965517 10.17241379 10.65517241 11.13793103 11.62068966 12.10344828\n",
      " 12.5862069  13.06896552 13.55172414 14.03448276 14.51724138 15.        ]\n",
      "Số phần tử của vector f: 30\n"
     ]
    }
   ],
   "source": [
    "#7) Phương thức linspace(a, b, num)\n",
    "#Tạo vector:\n",
    "#Phần tử đầu tiên  = a, \n",
    "#Phần tử kết thúc  = b, \n",
    "#Số phần tử của ma trận = num\n",
    "f = np.linspace(1,15,30)\n",
    "print('Vector f:', f)\n",
    "print(\"Số phần tử của vector f:\", f.size)"
   ]
  },
  {
   "cell_type": "code",
   "execution_count": 37,
   "metadata": {},
   "outputs": [
    {
     "data": {
      "text/plain": [
       "array([[3.14159265, 3.14159265, 3.14159265, 3.14159265],\n",
       "       [3.14159265, 3.14159265, 3.14159265, 3.14159265],\n",
       "       [3.14159265, 3.14159265, 3.14159265, 3.14159265]])"
      ]
     },
     "execution_count": 37,
     "metadata": {},
     "output_type": "execute_result"
    }
   ],
   "source": [
    "# 8) Create a 3x5 array filled with 3.14\n",
    "import math\n",
    "np.full((3, 4),math.pi)"
   ]
  },
  {
   "cell_type": "code",
   "execution_count": 38,
   "metadata": {},
   "outputs": [
    {
     "data": {
      "text/plain": [
       "array([[2021, 2021, 2021, 2021, 2021, 2021, 2021, 2021],\n",
       "       [2021, 2021, 2021, 2021, 2021, 2021, 2021, 2021],\n",
       "       [2021, 2021, 2021, 2021, 2021, 2021, 2021, 2021],\n",
       "       [2021, 2021, 2021, 2021, 2021, 2021, 2021, 2021],\n",
       "       [2021, 2021, 2021, 2021, 2021, 2021, 2021, 2021],\n",
       "       [2021, 2021, 2021, 2021, 2021, 2021, 2021, 2021],\n",
       "       [2021, 2021, 2021, 2021, 2021, 2021, 2021, 2021],\n",
       "       [2021, 2021, 2021, 2021, 2021, 2021, 2021, 2021],\n",
       "       [2021, 2021, 2021, 2021, 2021, 2021, 2021, 2021],\n",
       "       [2021, 2021, 2021, 2021, 2021, 2021, 2021, 2021],\n",
       "       [2021, 2021, 2021, 2021, 2021, 2021, 2021, 2021],\n",
       "       [2021, 2021, 2021, 2021, 2021, 2021, 2021, 2021],\n",
       "       [2021, 2021, 2021, 2021, 2021, 2021, 2021, 2021],\n",
       "       [2021, 2021, 2021, 2021, 2021, 2021, 2021, 2021],\n",
       "       [2021, 2021, 2021, 2021, 2021, 2021, 2021, 2021]])"
      ]
     },
     "execution_count": 38,
     "metadata": {},
     "output_type": "execute_result"
    }
   ],
   "source": [
    "np.full((15, 8),2021)"
   ]
  },
  {
   "cell_type": "markdown",
   "metadata": {},
   "source": [
    "### II.1.3) Đọc dữ liệu lưu trữ từ file .txt vào mảng\n",
    "---\n",
    "<img src='Pic/diem2a.jpg' width='800px'>\n",
    "\n",
    "**Lưu ý:** Các file dữ liệu được để trong thư mục Data_Excercise cùng cấp với file code"
   ]
  },
  {
   "cell_type": "code",
   "execution_count": 39,
   "metadata": {
    "colab": {},
    "colab_type": "code",
    "id": "tu9CMzc767_Q"
   },
   "outputs": [
    {
     "name": "stdout",
     "output_type": "stream",
     "text": [
      "[[ 2  4  3  7  5  6  5  6  8  9  3  6  1  9  8  7  3  3  9  5  1  6  5  1\n",
      "   4  6  7  1  1  1]\n",
      " [ 3  5  3 10  9  1  9  8  3  1  6  0  7 10  8  5  2  7  7  1  1  6  1  6\n",
      "   3  0  2  2  1  6]\n",
      " [ 1 10  4  9  6  9  0  2  3  1  8  6  8  4  2  9  2  9  5  0  4  1  7  3\n",
      "   8  9  8  9  9  9]\n",
      " [ 6  3  0  8  3  7  7  2  6  8  7  3  4  1  5  9  1  0  2 10  4  6  8  6\n",
      "   6 10  3  1  4  5]\n",
      " [ 4  3  6  7  4  5  2  6  9  4  3  9  9  4  5  7  2 10  9  4  0  5  3  1\n",
      "   4  5  6  8  2  3]\n",
      " [ 2  3  8 10  4  5  9  5  4  7 10  1  8  4  3  9  6  3  6  7  4  7  3  5\n",
      "   9  5  7  5  8  1]\n",
      " [ 9  9  1 10  9  9  5  9  6  3  9  5  1 10  7 10  2  8  8  1  8  4  5  4\n",
      "   9  6  7  2  9  2]\n",
      " [ 8  8  7  8  6  7  7  8  6  7  8  6  7  6  8  8  7  6  8  8  8  7  8  8\n",
      "   8  6  8  7  7  8]\n",
      " [ 6  7  8  9 10  9  2  2  6  1 10  9  6  3  9  5  9  8  1  1  8  8  8  6\n",
      "   6  8  7  3  8  1]\n",
      " [ 7  8  7  8  6 10 10  6  8 10  8  9  8  8  5 10  8  7  8  7  9  9  8  7\n",
      "   7  7 10  8  9  7]]\n",
      "Kiểu dữ liệu của phần tử trong mảng diem_2a: int8\n",
      "Kích thước của mảng diem_2a: (10, 30)\n",
      "Số phần tử của mảng diem_2a: 300\n",
      "Số chiều của mảng diem_2a: 2\n"
     ]
    }
   ],
   "source": [
    "import numpy as np\n",
    "\n",
    "#Đọc dữ liệu từ file Diem_2A.txt\n",
    "path  ='Data_Excercise\\Diem_2A.txt'\n",
    "diem_2a = np.loadtxt(path,delimiter=',',dtype=np.int8)\n",
    "\n",
    "print(diem_2a)\n",
    "print(\"Kiểu dữ liệu của phần tử trong mảng diem_2a:\", diem_2a.dtype)\n",
    "print(\"Kích thước của mảng diem_2a:\", diem_2a.shape)\n",
    "print(\"Số phần tử của mảng diem_2a:\", diem_2a.size)\n",
    "print(\"Số chiều của mảng diem_2a:\", diem_2a.ndim)"
   ]
  },
  {
   "cell_type": "markdown",
   "metadata": {
    "colab_type": "text",
    "id": "9VQ7U18w_XMr"
   },
   "source": [
    "### II.2) CÁC THAO TÁC VỚI MẢNG\n",
    "---\n",
    "### II.2.1 Hàm quan sát mảng"
   ]
  },
  {
   "cell_type": "code",
   "execution_count": 40,
   "metadata": {
    "colab": {
     "base_uri": "https://localhost:8080/",
     "height": 35
    },
    "colab_type": "code",
    "id": "MnZc42FA_b43",
    "outputId": "dbee536f-b336-4155-b8fd-e66068cd8b2f"
   },
   "outputs": [
    {
     "name": "stdout",
     "output_type": "stream",
     "text": [
      "kích thước của mảng diem_2a: (10, 30)\n"
     ]
    }
   ],
   "source": [
    "#a.shape: Cho biết kích thước của mảng a:\n",
    "print('kích thước của mảng diem_2a:', diem_2a.shape)"
   ]
  },
  {
   "cell_type": "code",
   "execution_count": 41,
   "metadata": {
    "colab": {},
    "colab_type": "code",
    "id": "s6N42V5lArDz"
   },
   "outputs": [
    {
     "name": "stdout",
     "output_type": "stream",
     "text": [
      "Số chiều của mảng diem_2a: 2\n"
     ]
    }
   ],
   "source": [
    "#a.ndim: Cho biết Số chiều của mảng a:\n",
    "print('Số chiều của mảng diem_2a:', diem_2a.ndim)"
   ]
  },
  {
   "cell_type": "code",
   "execution_count": 42,
   "metadata": {
    "colab": {},
    "colab_type": "code",
    "id": "RagL-6PtA4hU"
   },
   "outputs": [
    {
     "name": "stdout",
     "output_type": "stream",
     "text": [
      "Số phần tử của mảng diem_2a:  300\n"
     ]
    }
   ],
   "source": [
    "#a.size: Cho biết số phần tử của mảng a:\n",
    "print('Số phần tử của mảng diem_2a: ', diem_2a.size)"
   ]
  },
  {
   "cell_type": "code",
   "execution_count": 43,
   "metadata": {
    "colab": {},
    "colab_type": "code",
    "id": "POcty5tOBriV"
   },
   "outputs": [
    {
     "name": "stdout",
     "output_type": "stream",
     "text": [
      "Kiểu dữ liệu của các phần tử trong mảng diem_2a: int8\n"
     ]
    }
   ],
   "source": [
    "#a.dtype: Cho biết kiểu dữ liệu của các phần tử trong mảng a\n",
    "print('Kiểu dữ liệu của các phần tử trong mảng diem_2a:', diem_2a.dtype)"
   ]
  },
  {
   "cell_type": "markdown",
   "metadata": {},
   "source": [
    "### II.2.2) Chuyển đổi kiểu dữ liệu các phần tử trong mảng\n",
    "---"
   ]
  },
  {
   "cell_type": "code",
   "execution_count": 44,
   "metadata": {
    "colab": {},
    "colab_type": "code",
    "id": "Yop1EpdECAiy"
   },
   "outputs": [
    {
     "name": "stdout",
     "output_type": "stream",
     "text": [
      "[  0.          33.33333333  66.66666667 100.         133.33333333\n",
      " 166.66666667 200.         233.33333333 266.66666667 300.        ]\n",
      "Kiểu Dữ liệu:  float64\n",
      "-----------------------------------------\n",
      "[  0  33  66 100 133 166 200 233 266 300]\n",
      "Dữ liệu sau khi chuyển:  int16\n"
     ]
    }
   ],
   "source": [
    "#a.astype(kiểu mới): Chuyển đổi kiểu dữ liệu của các phần tử\n",
    "a_float = np.linspace(0,300,10)\n",
    "print(a_float)\n",
    "print('Kiểu Dữ liệu: ', a_float.dtype)\n",
    "print('-----------------------------------------')\n",
    "#Chuyển từ kiểu float --> int\n",
    "a_int = a_float.astype(np.int16)\n",
    "print(a_int)\n",
    "print('Dữ liệu sau khi chuyển: ', a_int.dtype)"
   ]
  },
  {
   "cell_type": "code",
   "execution_count": 45,
   "metadata": {
    "colab": {},
    "colab_type": "code",
    "id": "GiVRDC-ZN8c_"
   },
   "outputs": [
    {
     "name": "stdout",
     "output_type": "stream",
     "text": [
      "['0' '33' '66' '100' '133' '166' '200' '233' '266' '300']\n",
      "Dữ liệu sau khi chuyển:  <U6\n"
     ]
    }
   ],
   "source": [
    "#Chuyển từ kiểu float --> string\n",
    "a_str = a_int.astype(np.str_)\n",
    "print(a_str)\n",
    "print('Dữ liệu sau khi chuyển: ', a_str.dtype)"
   ]
  },
  {
   "cell_type": "code",
   "execution_count": 46,
   "metadata": {},
   "outputs": [
    {
     "name": "stdout",
     "output_type": "stream",
     "text": [
      "[False  True  True  True  True  True  True  True  True  True]\n",
      "Dữ liệu sau khi chuyển:  bool\n"
     ]
    }
   ],
   "source": [
    "#Chuyển từ kiểu float --> boolean\n",
    "a_bol = a_int.astype(np.bool_)\n",
    "print(a_bol)\n",
    "print('Dữ liệu sau khi chuyển: ', a_bol.dtype)"
   ]
  },
  {
   "cell_type": "markdown",
   "metadata": {
    "colab_type": "text",
    "id": "VgmurRtbSWm1"
   },
   "source": [
    "### II.2.3) Truy cập tới các phần tử của mảng\n",
    "---"
   ]
  },
  {
   "cell_type": "markdown",
   "metadata": {
    "colab_type": "text",
    "id": "Ahun79u0aXz5"
   },
   "source": [
    "#### a) Truy cập tới các phần tử của Vector (1D)\n",
    "---\n",
    "<img src='Pic/array1.png' width='400px'>"
   ]
  },
  {
   "cell_type": "code",
   "execution_count": 47,
   "metadata": {
    "colab": {
     "base_uri": "https://localhost:8080/",
     "height": 34
    },
    "colab_type": "code",
    "id": "K45TlS72Sc1y",
    "outputId": "00ac1b04-04aa-4523-8b30-fde4d35e9f99",
    "scrolled": true
   },
   "outputs": [
    {
     "name": "stdout",
     "output_type": "stream",
     "text": [
      "các phần tử của Vector a:\n",
      " [ 3  5  3 10  9  1  9  8  3  1]\n",
      "------------------------------------------------\n",
      "phần tử đầu tiên: 3\n",
      "phần tử thứ 3: 10\n",
      "phần tử cuối cùng: 1\n"
     ]
    }
   ],
   "source": [
    "#Truy cập tới một phần tử của Vector: a[index]\n",
    "#Note: index phần tử đầu tiên 0\n",
    "#    : index phần tử cuối cùng -1\n",
    "a = np.array([3,  5,  3, 10,  9,  1,  9,  8,  3,  1])\n",
    "\n",
    "print('các phần tử của Vector a:\\n', a)\n",
    "print('------------------------------------------------')\n",
    "print('phần tử đầu tiên:', a[0])\n",
    "print('phần tử thứ 3:', a[3])\n",
    "print('phần tử cuối cùng:', a[-1])"
   ]
  },
  {
   "cell_type": "markdown",
   "metadata": {},
   "source": [
    "**Truy cập tới nhiều phần tử của Vector: a[index1:index2]**\n",
    "\n",
    "<img src='Pic/array2.png' width='400px'>"
   ]
  },
  {
   "cell_type": "code",
   "execution_count": 48,
   "metadata": {
    "colab": {
     "base_uri": "https://localhost:8080/",
     "height": 69
    },
    "colab_type": "code",
    "id": "zBqDxsoeUfa3",
    "outputId": "6921b752-2bb1-496d-e5b5-67918ba38fa4"
   },
   "outputs": [
    {
     "name": "stdout",
     "output_type": "stream",
     "text": [
      "các phần tử của Vector a:\n",
      " [ 3  5  3 10  9  1  9  8  3  1]\n",
      "------------------------------------------------\n",
      "3 Phần tử đầu tiên: [ 3  5  3 10]\n",
      "Từ phần tử thứ 5 tới hết: [1 9 8 3 1]\n",
      "Từ phần tử 2 đến phần tử <6 của vector: [ 3 10  9  1]\n"
     ]
    }
   ],
   "source": [
    "#Truy cập tới nhiều phần tử của Vector: a[index1:index2]\n",
    "print('các phần tử của Vector a:\\n', a)\n",
    "print('------------------------------------------------')\n",
    "print('3 Phần tử đầu tiên:', a[:4])\n",
    "print('Từ phần tử thứ 5 tới hết:', a[5:])\n",
    "print('Từ phần tử 2 đến phần tử <6 của vector:',a[2:6])"
   ]
  },
  {
   "cell_type": "markdown",
   "metadata": {},
   "source": [
    "## Lưu ý: Thay đổi giá trị của một phần tử trong mảng\n",
    "---\n",
    "(Tương tự với dữ liệu kiểu List, Dataframe)"
   ]
  },
  {
   "cell_type": "code",
   "execution_count": 49,
   "metadata": {},
   "outputs": [
    {
     "name": "stdout",
     "output_type": "stream",
     "text": [
      "[ 3  5  3 10  9  1  9  8  3  1]\n"
     ]
    }
   ],
   "source": [
    "#Mảng a ban đầu\n",
    "print(a)"
   ]
  },
  {
   "cell_type": "code",
   "execution_count": 50,
   "metadata": {},
   "outputs": [
    {
     "data": {
      "text/plain": [
       "array([3, 5, 3, 5, 9, 1, 9, 8, 3, 1])"
      ]
     },
     "execution_count": 50,
     "metadata": {},
     "output_type": "execute_result"
    }
   ],
   "source": [
    "#Cập nhật lại giá trị của phần tử thứ 3 trong mảng\n",
    "a[3]=5\n",
    "a"
   ]
  },
  {
   "cell_type": "code",
   "execution_count": 51,
   "metadata": {},
   "outputs": [
    {
     "data": {
      "text/plain": [
       "array([3, 5, 3, 5, 9, 1, 9, 8, 3, 1])"
      ]
     },
     "execution_count": 51,
     "metadata": {},
     "output_type": "execute_result"
    }
   ],
   "source": [
    "#Tạo một mảng a1 có các phần tử như của mảng a\n",
    "a1 = a\n",
    "a1"
   ]
  },
  {
   "cell_type": "code",
   "execution_count": 52,
   "metadata": {},
   "outputs": [
    {
     "data": {
      "text/plain": [
       "array([100,   5,   3,   5,   9,   1,   9,   8,   3,   1])"
      ]
     },
     "execution_count": 52,
     "metadata": {},
     "output_type": "execute_result"
    }
   ],
   "source": [
    "#Cập nhật lại giá trị đầu tiên trong mảng a1\n",
    "a1[0]=100\n",
    "a1"
   ]
  },
  {
   "cell_type": "code",
   "execution_count": 53,
   "metadata": {},
   "outputs": [
    {
     "data": {
      "text/plain": [
       "array([100,   5,   3,   5,   9,   1,   9,   8,   3,   1])"
      ]
     },
     "execution_count": 53,
     "metadata": {},
     "output_type": "execute_result"
    }
   ],
   "source": [
    "#Các phần tử trong mảng a cũng sẽ cập nhật theo\n",
    "a"
   ]
  },
  {
   "cell_type": "code",
   "execution_count": 54,
   "metadata": {},
   "outputs": [
    {
     "data": {
      "text/plain": [
       "array([100,   5,   3,   5,   9,   1,   9,   8,   3,   1])"
      ]
     },
     "execution_count": 54,
     "metadata": {},
     "output_type": "execute_result"
    }
   ],
   "source": [
    "#Để giải quyết vấn đề này, sử dụng phương thức copy()\n",
    "a2=a.copy()\n",
    "a2"
   ]
  },
  {
   "cell_type": "code",
   "execution_count": 55,
   "metadata": {},
   "outputs": [
    {
     "data": {
      "text/plain": [
       "array([5, 5, 3, 5, 9, 1, 9, 8, 3, 1])"
      ]
     },
     "execution_count": 55,
     "metadata": {},
     "output_type": "execute_result"
    }
   ],
   "source": [
    "a2[0]=5\n",
    "a2"
   ]
  },
  {
   "cell_type": "code",
   "execution_count": 56,
   "metadata": {},
   "outputs": [
    {
     "data": {
      "text/plain": [
       "array([100,   5,   3,   5,   9,   1,   9,   8,   3,   1])"
      ]
     },
     "execution_count": 56,
     "metadata": {},
     "output_type": "execute_result"
    }
   ],
   "source": [
    "a"
   ]
  },
  {
   "cell_type": "code",
   "execution_count": 57,
   "metadata": {},
   "outputs": [
    {
     "name": "stdout",
     "output_type": "stream",
     "text": [
      "[2, 4, 6, 7]\n",
      "[2, 4, 6, 7]\n"
     ]
    }
   ],
   "source": [
    "#Tương tự với biến kiểu list\n",
    "list_a=[2,4,6,7]\n",
    "list_a1=list_a.copy()\n",
    "print(list_a)\n",
    "print(list_a1)"
   ]
  },
  {
   "cell_type": "code",
   "execution_count": 58,
   "metadata": {},
   "outputs": [
    {
     "name": "stdout",
     "output_type": "stream",
     "text": [
      "[2, 4, 6, 7]\n",
      "[100, 4, 6, 7]\n"
     ]
    }
   ],
   "source": [
    "list_a1[0]=100\n",
    "print(list_a)\n",
    "print(list_a1)"
   ]
  },
  {
   "cell_type": "markdown",
   "metadata": {
    "colab_type": "text",
    "id": "yMJSnBYdaijH"
   },
   "source": [
    "#### b)Truy cập tới các phần tử của ma trận\n",
    "---\n",
    "\n",
    "<img src='Pic/array3.png' width='600px'>"
   ]
  },
  {
   "cell_type": "code",
   "execution_count": 59,
   "metadata": {},
   "outputs": [
    {
     "name": "stdout",
     "output_type": "stream",
     "text": [
      "[[ 2  4  3  7  5  6  5  6  8  9  3  6  1  9  8  7  3  3  9  5  1  6  5  1\n",
      "   4  6  7  1  1  1]\n",
      " [ 3  5  3 10  9  1  9  8  3  1  6  0  7 10  8  5  2  7  7  1  1  6  1  6\n",
      "   3  0  2  2  1  6]\n",
      " [ 1 10  4  9  6  9  0  2  3  1  8  6  8  4  2  9  2  9  5  0  4  1  7  3\n",
      "   8  9  8  9  9  9]\n",
      " [ 6  3  0  8  3  7  7  2  6  8  7  3  4  1  5  9  1  0  2 10  4  6  8  6\n",
      "   6 10  3  1  4  5]\n",
      " [ 4  3  6  7  4  5  2  6  9  4  3  9  9  4  5  7  2 10  9  4  0  5  3  1\n",
      "   4  5  6  8  2  3]\n",
      " [ 2  3  8 10  4  5  9  5  4  7 10  1  8  4  3  9  6  3  6  7  4  7  3  5\n",
      "   9  5  7  5  8  1]\n",
      " [ 9  9  1 10  9  9  5  9  6  3  9  5  1 10  7 10  2  8  8  1  8  4  5  4\n",
      "   9  6  7  2  9  2]\n",
      " [ 8  8  7  8  6  7  7  8  6  7  8  6  7  6  8  8  7  6  8  8  8  7  8  8\n",
      "   8  6  8  7  7  8]\n",
      " [ 6  7  8  9 10  9  2  2  6  1 10  9  6  3  9  5  9  8  1  1  8  8  8  6\n",
      "   6  8  7  3  8  1]\n",
      " [ 7  8  7  8  6 10 10  6  8 10  8  9  8  8  5 10  8  7  8  7  9  9  8  7\n",
      "   7  7 10  8  9  7]]\n"
     ]
    }
   ],
   "source": [
    "print(diem_2a)"
   ]
  },
  {
   "cell_type": "code",
   "execution_count": 60,
   "metadata": {
    "colab": {},
    "colab_type": "code",
    "id": "O-9LAg8aVJwq"
   },
   "outputs": [
    {
     "name": "stdout",
     "output_type": "stream",
     "text": [
      "Điểm môn học đầu tiên, của học sinh đầu tiên: 2\n",
      "Điểm môn học thứ 1, của học sinh thứ 3: 10\n",
      "Điểm môn cuối cùng, của học sinh cuối cùng: 7\n",
      "--------------------------------------------------------\n",
      "Bảng điểm lớp 2A:\n",
      " [[ 2  4  3  7  5  6  5  6  8  9  3  6  1  9  8  7  3  3  9  5  1  6  5  1\n",
      "   4  6  7  1  1  1]\n",
      " [ 3  5  3 10  9  1  9  8  3  1  6  0  7 10  8  5  2  7  7  1  1  6  1  6\n",
      "   3  0  2  2  1  6]\n",
      " [ 1 10  4  9  6  9  0  2  3  1  8  6  8  4  2  9  2  9  5  0  4  1  7  3\n",
      "   8  9  8  9  9  9]\n",
      " [ 6  3  0  8  3  7  7  2  6  8  7  3  4  1  5  9  1  0  2 10  4  6  8  6\n",
      "   6 10  3  1  4  5]\n",
      " [ 4  3  6  7  4  5  2  6  9  4  3  9  9  4  5  7  2 10  9  4  0  5  3  1\n",
      "   4  5  6  8  2  3]\n",
      " [ 2  3  8 10  4  5  9  5  4  7 10  1  8  4  3  9  6  3  6  7  4  7  3  5\n",
      "   9  5  7  5  8  1]\n",
      " [ 9  9  1 10  9  9  5  9  6  3  9  5  1 10  7 10  2  8  8  1  8  4  5  4\n",
      "   9  6  7  2  9  2]\n",
      " [ 8  8  7  8  6  7  7  8  6  7  8  6  7  6  8  8  7  6  8  8  8  7  8  8\n",
      "   8  6  8  7  7  8]\n",
      " [ 6  7  8  9 10  9  2  2  6  1 10  9  6  3  9  5  9  8  1  1  8  8  8  6\n",
      "   6  8  7  3  8  1]\n",
      " [ 7  8  7  8  6 10 10  6  8 10  8  9  8  8  5 10  8  7  8  7  9  9  8  7\n",
      "   7  7 10  8  9  7]]\n"
     ]
    }
   ],
   "source": [
    "#Truy cập tới 1 phần tử của ma trận (2D): a[index_row, index_col]\n",
    "print('Điểm môn học đầu tiên, của học sinh đầu tiên:',diem_2a[0,0])\n",
    "print('Điểm môn học thứ 1, của học sinh thứ 3:',diem_2a[1,3])\n",
    "print('Điểm môn cuối cùng, của học sinh cuối cùng:',diem_2a[-1,-1])\n",
    "print('--------------------------------------------------------')\n",
    "print('Bảng điểm lớp 2A:\\n',diem_2a)"
   ]
  },
  {
   "cell_type": "code",
   "execution_count": 61,
   "metadata": {
    "colab": {
     "base_uri": "https://localhost:8080/",
     "height": 35
    },
    "colab_type": "code",
    "id": "mjICTCVBaxHP",
    "outputId": "1537a972-d2d3-4611-d845-7f32249fe55c"
   },
   "outputs": [
    {
     "name": "stdout",
     "output_type": "stream",
     "text": [
      "Điểm các môn của học sinh 5: [ 6  1  9  7  5  5  9  7  9 10]\n",
      "Điểm môn học cuối cùng của tất cả học sinh: \n",
      " [ 7  8  7  8  6 10 10  6  8 10  8  9  8  8  5 10  8  7  8  7  9  9  8  7\n",
      "  7  7 10  8  9  7]\n",
      "Bảng điểm 5 môn học đầu tiên của 10 học sinh đầu của lớp:\n",
      " [[ 3  6  1  9  8  7]\n",
      " [ 6  0  7 10  8  5]\n",
      " [ 8  6  8  4  2  9]\n",
      " [ 7  3  4  1  5  9]\n",
      " [ 3  9  9  4  5  7]]\n"
     ]
    }
   ],
   "source": [
    "#Truy cập tới nhiều phần tử trong ma trận: a[index_row1:index_row2,index_col1:index_col2]\n",
    "#Lấy điểm tất cả các môn (tất cả các hàng) của học sinh 5:\n",
    "diem_hs5 = diem_2a[:,5]\n",
    "print(\"Điểm các môn của học sinh 5:\",diem_hs5)\n",
    "\n",
    "#Lấy điểm môn học cuối cùng của tất cả học sinh (tất cả các cột) \n",
    "diem_mon = diem_2a[-1,:]\n",
    "print(\"Điểm môn học cuối cùng của tất cả học sinh: \\n\",diem_mon)\n",
    "\n",
    "#Lấy điểm 5 môn học đầu tiên của 10 học sinh đầu tiên\n",
    "diem5_hs10 = diem_2a[:5,10:16]\n",
    "print(\"Bảng điểm 5 môn học đầu tiên của 10 học sinh đầu của lớp:\\n\",diem5_hs10)"
   ]
  },
  {
   "cell_type": "code",
   "execution_count": 62,
   "metadata": {},
   "outputs": [
    {
     "name": "stdout",
     "output_type": "stream",
     "text": [
      "[10  1  8  4  3  9  6  3  6  7  4]\n"
     ]
    }
   ],
   "source": [
    "#môn TA: hàng index = 5\n",
    "#tất cả điểm môn TA từ học sinh 10-->20\n",
    "diem_TA = diem_2a[5,10:21]\n",
    "print(diem_TA)"
   ]
  },
  {
   "cell_type": "markdown",
   "metadata": {},
   "source": [
    "# Thực hành số 1:\n",
    "---\n",
    "**YÊU CẦU 1: Học viên tạo một ma trận vuông cấp n, bao gồm các phần tử, là những số nguyên ngẫu nhiên trong khoảng [0-100]**"
   ]
  },
  {
   "cell_type": "code",
   "execution_count": null,
   "metadata": {},
   "outputs": [],
   "source": [
    "#{HỌC VIÊN VIẾT CODE VÀO ĐÂY}\n",
    "\n",
    "\n",
    "\n",
    "\n",
    "\n",
    "\n"
   ]
  },
  {
   "cell_type": "code",
   "execution_count": null,
   "metadata": {},
   "outputs": [],
   "source": []
  },
  {
   "cell_type": "markdown",
   "metadata": {},
   "source": [
    "**YÊU CẦU 2: Sử dụng ma trận tạo được trong yêu cầu 1, Học viên tạo 2 vector như sau:**\n",
    "\n",
    "**v_chinh:** bao gồm các phần tử nằm trên đường chéo chính của ma trận.\n",
    "\n",
    "**V_phu:** bao gồm các phần tử nằm trên đường chéo phụ của ma trận"
   ]
  },
  {
   "cell_type": "code",
   "execution_count": null,
   "metadata": {},
   "outputs": [],
   "source": [
    "#{HỌC VIÊN VIẾT CODE VÀO ĐÂY}\n",
    "\n",
    "\n",
    "\n",
    "\n",
    "\n",
    "\n"
   ]
  },
  {
   "cell_type": "code",
   "execution_count": null,
   "metadata": {},
   "outputs": [],
   "source": []
  },
  {
   "cell_type": "markdown",
   "metadata": {},
   "source": [
    "**YÊU CẦU 3: Nhập vào số nguyên x bất kỳ trong khoảng (0-100), đếm xem có bao nhiêu phần tử trong ma trận sinh ra ở yêu cầu 1 có giá trị bằng x, lớn hơn x, nhỏ hơn x và hiển thị kết quả:**"
   ]
  },
  {
   "cell_type": "code",
   "execution_count": null,
   "metadata": {},
   "outputs": [],
   "source": [
    "#{HỌC VIÊN VIẾT CODE VÀO ĐÂY}\n",
    "\n",
    "\n",
    "\n",
    "\n"
   ]
  },
  {
   "cell_type": "code",
   "execution_count": null,
   "metadata": {},
   "outputs": [],
   "source": []
  },
  {
   "cell_type": "markdown",
   "metadata": {
    "colab_type": "text",
    "id": "yXwnkCYJk2FE"
   },
   "source": [
    "## 4) Tính toán các đặc trưng thống kê trong mảng\n",
    "---\n",
    "https://numpy.org/devdocs/reference/routines.statistics.html\n",
    "\n",
    "<img src='Pic\\math.png' width='350px'>\n",
    "\n",
    "Toán học và thống kê có một vai trò rất quan trọng trong khoa học dữ liệu!\n"
   ]
  },
  {
   "cell_type": "markdown",
   "metadata": {},
   "source": [
    "### 4.1) Min - Max\n",
    "---"
   ]
  },
  {
   "cell_type": "code",
   "execution_count": 63,
   "metadata": {},
   "outputs": [
    {
     "name": "stdout",
     "output_type": "stream",
     "text": [
      "BẢNG ĐIỂM CỦA LỚP 2A:\n",
      "[[ 2  4  3  7  5  6  5  6  8  9  3  6  1  9  8  7  3  3  9  5  1  6  5  1\n",
      "   4  6  7  1  1  1]\n",
      " [ 3  5  3 10  9  1  9  8  3  1  6  0  7 10  8  5  2  7  7  1  1  6  1  6\n",
      "   3  0  2  2  1  6]\n",
      " [ 1 10  4  9  6  9  0  2  3  1  8  6  8  4  2  9  2  9  5  0  4  1  7  3\n",
      "   8  9  8  9  9  9]\n",
      " [ 6  3  0  8  3  7  7  2  6  8  7  3  4  1  5  9  1  0  2 10  4  6  8  6\n",
      "   6 10  3  1  4  5]\n",
      " [ 4  3  6  7  4  5  2  6  9  4  3  9  9  4  5  7  2 10  9  4  0  5  3  1\n",
      "   4  5  6  8  2  3]\n",
      " [ 2  3  8 10  4  5  9  5  4  7 10  1  8  4  3  9  6  3  6  7  4  7  3  5\n",
      "   9  5  7  5  8  1]\n",
      " [ 9  9  1 10  9  9  5  9  6  3  9  5  1 10  7 10  2  8  8  1  8  4  5  4\n",
      "   9  6  7  2  9  2]\n",
      " [ 8  8  7  8  6  7  7  8  6  7  8  6  7  6  8  8  7  6  8  8  8  7  8  8\n",
      "   8  6  8  7  7  8]\n",
      " [ 6  7  8  9 10  9  2  2  6  1 10  9  6  3  9  5  9  8  1  1  8  8  8  6\n",
      "   6  8  7  3  8  1]\n",
      " [ 7  8  7  8  6 10 10  6  8 10  8  9  8  8  5 10  8  7  8  7  9  9  8  7\n",
      "   7  7 10  8  9  7]]\n"
     ]
    }
   ],
   "source": [
    "print('BẢNG ĐIỂM CỦA LỚP 2A:')\n",
    "print(diem_2a)"
   ]
  },
  {
   "cell_type": "code",
   "execution_count": 64,
   "metadata": {},
   "outputs": [
    {
     "name": "stdout",
     "output_type": "stream",
     "text": [
      "Điểm cao nhất của lớp: 10\n",
      "Điểm thấp nhất của lớp: 0\n"
     ]
    }
   ],
   "source": [
    "#Max - Min: Xác định giá trị lớn nhất, nhỏ nhất:\n",
    "#1) Hiển thị điểm cao nhất, thấp nhất của lớp 2A\n",
    "print('Điểm cao nhất của lớp:',diem_2a.max())\n",
    "print('Điểm thấp nhất của lớp:',diem_2a.min())"
   ]
  },
  {
   "cell_type": "code",
   "execution_count": 65,
   "metadata": {},
   "outputs": [
    {
     "data": {
      "text/plain": [
       "(10, 30)"
      ]
     },
     "execution_count": 65,
     "metadata": {},
     "output_type": "execute_result"
    }
   ],
   "source": [
    "diem_2a.shape"
   ]
  },
  {
   "cell_type": "code",
   "execution_count": 66,
   "metadata": {
    "colab": {},
    "colab_type": "code",
    "id": "idOxcfxek6Nl"
   },
   "outputs": [
    {
     "name": "stdout",
     "output_type": "stream",
     "text": [
      "Môn  0 : Điểm Max:  9 -- Điểm Min: 1\n",
      "Môn  1 : Điểm Max:  10 -- Điểm Min: 0\n",
      "Môn  2 : Điểm Max:  10 -- Điểm Min: 0\n",
      "Môn  3 : Điểm Max:  10 -- Điểm Min: 0\n",
      "Môn  4 : Điểm Max:  10 -- Điểm Min: 0\n",
      "Môn  5 : Điểm Max:  10 -- Điểm Min: 1\n",
      "Môn  6 : Điểm Max:  10 -- Điểm Min: 1\n",
      "Môn  7 : Điểm Max:  8 -- Điểm Min: 6\n",
      "Môn  8 : Điểm Max:  10 -- Điểm Min: 1\n",
      "Môn  9 : Điểm Max:  10 -- Điểm Min: 5\n"
     ]
    }
   ],
   "source": [
    "#2) Liệt kê điểm cao nhất và thấp nhất theo môn học\n",
    "for i in range(0,diem_2a.shape[0]):\n",
    "  print('Môn ', i,': Điểm Max: ', diem_2a[i,:].max(),\n",
    "                 '-- Điểm Min:',diem_2a[i,:].min())"
   ]
  },
  {
   "cell_type": "code",
   "execution_count": 67,
   "metadata": {},
   "outputs": [
    {
     "name": "stdout",
     "output_type": "stream",
     "text": [
      "Điểm max:  [ 9 10 10 10 10 10 10  8 10 10]\n",
      "Điểm Min:  [1 0 0 0 0 1 1 6 1 5]\n"
     ]
    }
   ],
   "source": [
    "#CÁCH 2:\n",
    "#phần tử max theo cột\n",
    "max_mh = diem_2a.max(axis=1)\n",
    "print('Điểm max: ', max_mh)\n",
    "\n",
    "#phần tử min theo cột\n",
    "min_mh = diem_2a.min(axis=1)\n",
    "print('Điểm Min: ', min_mh)"
   ]
  },
  {
   "cell_type": "markdown",
   "metadata": {},
   "source": [
    "* axis=0: Xử lý các phần tử theo hàng\n",
    "* axis=1: Xử lý các phần tử theo cột\n",
    "<img src='Pic\\pic.jpg' width='400px'>"
   ]
  },
  {
   "cell_type": "code",
   "execution_count": 68,
   "metadata": {},
   "outputs": [
    {
     "data": {
      "text/plain": [
       "(10, 30)"
      ]
     },
     "execution_count": 68,
     "metadata": {},
     "output_type": "execute_result"
    }
   ],
   "source": [
    "diem_2a.shape"
   ]
  },
  {
   "cell_type": "code",
   "execution_count": 69,
   "metadata": {},
   "outputs": [
    {
     "name": "stdout",
     "output_type": "stream",
     "text": [
      "Học sinh  0 : Điểm Max:  9 -- Điểm Min: 1\n",
      "Học sinh  1 : Điểm Max:  10 -- Điểm Min: 3\n",
      "Học sinh  2 : Điểm Max:  8 -- Điểm Min: 0\n",
      "Học sinh  3 : Điểm Max:  10 -- Điểm Min: 7\n",
      "Học sinh  4 : Điểm Max:  10 -- Điểm Min: 3\n",
      "Học sinh  5 : Điểm Max:  10 -- Điểm Min: 1\n",
      "Học sinh  6 : Điểm Max:  10 -- Điểm Min: 0\n",
      "Học sinh  7 : Điểm Max:  9 -- Điểm Min: 2\n",
      "Học sinh  8 : Điểm Max:  9 -- Điểm Min: 3\n",
      "Học sinh  9 : Điểm Max:  10 -- Điểm Min: 1\n",
      "Học sinh  10 : Điểm Max:  10 -- Điểm Min: 3\n",
      "Học sinh  11 : Điểm Max:  9 -- Điểm Min: 0\n",
      "Học sinh  12 : Điểm Max:  9 -- Điểm Min: 1\n",
      "Học sinh  13 : Điểm Max:  10 -- Điểm Min: 1\n",
      "Học sinh  14 : Điểm Max:  9 -- Điểm Min: 2\n",
      "Học sinh  15 : Điểm Max:  10 -- Điểm Min: 5\n",
      "Học sinh  16 : Điểm Max:  9 -- Điểm Min: 1\n",
      "Học sinh  17 : Điểm Max:  10 -- Điểm Min: 0\n",
      "Học sinh  18 : Điểm Max:  9 -- Điểm Min: 1\n",
      "Học sinh  19 : Điểm Max:  10 -- Điểm Min: 0\n",
      "Học sinh  20 : Điểm Max:  9 -- Điểm Min: 0\n",
      "Học sinh  21 : Điểm Max:  9 -- Điểm Min: 1\n",
      "Học sinh  22 : Điểm Max:  8 -- Điểm Min: 1\n",
      "Học sinh  23 : Điểm Max:  8 -- Điểm Min: 1\n",
      "Học sinh  24 : Điểm Max:  9 -- Điểm Min: 3\n",
      "Học sinh  25 : Điểm Max:  10 -- Điểm Min: 0\n",
      "Học sinh  26 : Điểm Max:  10 -- Điểm Min: 2\n",
      "Học sinh  27 : Điểm Max:  9 -- Điểm Min: 1\n",
      "Học sinh  28 : Điểm Max:  9 -- Điểm Min: 1\n",
      "Học sinh  29 : Điểm Max:  9 -- Điểm Min: 1\n"
     ]
    }
   ],
   "source": [
    "#3) Liệt kê điểm cao nhất và thấp nhất của mỗi học sinh\n",
    "for i in range(0,diem_2a.shape[1]):\n",
    "    print('Học sinh ', i,': Điểm Max: ', diem_2a[:,i].max(),\n",
    "                      '-- Điểm Min:',diem_2a[:,i].min())"
   ]
  },
  {
   "cell_type": "code",
   "execution_count": 70,
   "metadata": {},
   "outputs": [
    {
     "name": "stdout",
     "output_type": "stream",
     "text": [
      "Điểm max:  [ 9 10  8 10 10 10 10  9  9 10 10  9  9 10  9 10  9 10  9 10  9  9  8  8\n",
      "  9 10 10  9  9  9]\n",
      "Điểm Min:  [1 3 0 7 3 1 0 2 3 1 3 0 1 1 2 5 1 0 1 0 0 1 1 1 3 0 2 1 1 1]\n"
     ]
    }
   ],
   "source": [
    "#phần tử max theo cột\n",
    "max_mh = diem_2a.max(axis=0)\n",
    "print('Điểm max: ', max_mh)\n",
    "\n",
    "#phần tử min theo cột\n",
    "min_mh = diem_2a.min(axis=0)\n",
    "print('Điểm Min: ', min_mh)"
   ]
  },
  {
   "cell_type": "code",
   "execution_count": 71,
   "metadata": {
    "colab": {},
    "colab_type": "code",
    "id": "cWrmdj56mIJS"
   },
   "outputs": [
    {
     "name": "stdout",
     "output_type": "stream",
     "text": [
      "10\n",
      "7\n"
     ]
    }
   ],
   "source": [
    "#YÊU CẦU: HIỂN THỊ ĐIỂM CAO NHẤT VÀ THẤP NHẤT CỦA HỌC SINH Ở VỊ TRÍ THỨ 4 \n",
    "#Kết quả hiển thị như sau:\n",
    "#\"Điểm Max và Min của học sinh thứ 4: 10.0  điểm -  7.0  điểm\"\n",
    "#{Sinh viên viết code ở đây:}\n",
    "print(diem_2a[:,3].max())\n",
    "print(diem_2a[:,3].min())"
   ]
  },
  {
   "cell_type": "markdown",
   "metadata": {},
   "source": [
    "### 4.2) Sum\n",
    "---"
   ]
  },
  {
   "cell_type": "code",
   "execution_count": 72,
   "metadata": {
    "colab": {
     "base_uri": "https://localhost:8080/",
     "height": 538
    },
    "colab_type": "code",
    "id": "Go7CfJ4fNJ04",
    "outputId": "7b0cd976-0a95-4ed0-aa29-1f7f5e44eff6"
   },
   "outputs": [
    {
     "name": "stdout",
     "output_type": "stream",
     "text": [
      "Tổng tất các điểm trong của lớp 2A: 1731\n",
      "---------------------------------------------------\n",
      "Tổng điểm các môn của học sinh  0  :  48\n",
      "Tổng điểm các môn của học sinh  1  :  60\n",
      "Tổng điểm các môn của học sinh  2  :  47\n",
      "Tổng điểm các môn của học sinh  3  :  86\n",
      "Tổng điểm các môn của học sinh  4  :  62\n",
      "Tổng điểm các môn của học sinh  5  :  68\n",
      "Tổng điểm các môn của học sinh  6  :  56\n",
      "Tổng điểm các môn của học sinh  7  :  54\n",
      "Tổng điểm các môn của học sinh  8  :  59\n",
      "Tổng điểm các môn của học sinh  9  :  51\n",
      "Tổng điểm các môn của học sinh  10  :  72\n",
      "Tổng điểm các môn của học sinh  11  :  54\n",
      "Tổng điểm các môn của học sinh  12  :  59\n",
      "Tổng điểm các môn của học sinh  13  :  59\n",
      "Tổng điểm các môn của học sinh  14  :  60\n",
      "Tổng điểm các môn của học sinh  15  :  79\n",
      "Tổng điểm các môn của học sinh  16  :  42\n",
      "Tổng điểm các môn của học sinh  17  :  61\n",
      "Tổng điểm các môn của học sinh  18  :  63\n",
      "Tổng điểm các môn của học sinh  19  :  44\n",
      "Tổng điểm các môn của học sinh  20  :  47\n",
      "Tổng điểm các môn của học sinh  21  :  59\n",
      "Tổng điểm các môn của học sinh  22  :  56\n",
      "Tổng điểm các môn của học sinh  23  :  47\n",
      "Tổng điểm các môn của học sinh  24  :  64\n",
      "Tổng điểm các môn của học sinh  25  :  62\n",
      "Tổng điểm các môn của học sinh  26  :  65\n",
      "Tổng điểm các môn của học sinh  27  :  46\n",
      "Tổng điểm các môn của học sinh  28  :  58\n",
      "Tổng điểm các môn của học sinh  29  :  43\n"
     ]
    }
   ],
   "source": [
    "#Sum:Tính tổng các phần tử trong mảng\n",
    "print('Tổng tất các điểm trong của lớp 2A:', diem_2a.sum())\n",
    "print('---------------------------------------------------')\n",
    "\n",
    "#Tính tổng điểm của từng học sinh:\n",
    "for i in range(0,diem_2a.shape[1]):\n",
    "    print('Tổng điểm các môn của học sinh ', i,' : ', diem_2a[:,i].sum())"
   ]
  },
  {
   "cell_type": "code",
   "execution_count": null,
   "metadata": {},
   "outputs": [],
   "source": [
    "np.sum(diem_2a,axis=0)"
   ]
  },
  {
   "cell_type": "code",
   "execution_count": null,
   "metadata": {},
   "outputs": [],
   "source": [
    "np.sum(diem_2a,axis=1)"
   ]
  },
  {
   "cell_type": "markdown",
   "metadata": {},
   "source": [
    "### 4.3) Mean, Median, Mode, Range\n",
    "---"
   ]
  },
  {
   "cell_type": "code",
   "execution_count": 73,
   "metadata": {
    "colab": {},
    "colab_type": "code",
    "id": "GhKA_wR4rF_P"
   },
   "outputs": [
    {
     "name": "stdout",
     "output_type": "stream",
     "text": [
      "Điểm trung bình của cả lớp 2A: 5.77\n",
      "---------------------------------------------\n",
      "Điểm trung bình của học sinh  0  :  4.8\n",
      "Điểm trung bình của học sinh  1  :  6.0\n",
      "Điểm trung bình của học sinh  2  :  4.7\n",
      "Điểm trung bình của học sinh  3  :  8.6\n",
      "Điểm trung bình của học sinh  4  :  6.2\n",
      "Điểm trung bình của học sinh  5  :  6.8\n",
      "Điểm trung bình của học sinh  6  :  5.6\n",
      "Điểm trung bình của học sinh  7  :  5.4\n",
      "Điểm trung bình của học sinh  8  :  5.9\n",
      "Điểm trung bình của học sinh  9  :  5.1\n",
      "Điểm trung bình của học sinh  10  :  7.2\n",
      "Điểm trung bình của học sinh  11  :  5.4\n",
      "Điểm trung bình của học sinh  12  :  5.9\n",
      "Điểm trung bình của học sinh  13  :  5.9\n",
      "Điểm trung bình của học sinh  14  :  6.0\n",
      "Điểm trung bình của học sinh  15  :  7.9\n",
      "Điểm trung bình của học sinh  16  :  4.2\n",
      "Điểm trung bình của học sinh  17  :  6.1\n",
      "Điểm trung bình của học sinh  18  :  6.3\n",
      "Điểm trung bình của học sinh  19  :  4.4\n",
      "Điểm trung bình của học sinh  20  :  4.7\n",
      "Điểm trung bình của học sinh  21  :  5.9\n",
      "Điểm trung bình của học sinh  22  :  5.6\n",
      "Điểm trung bình của học sinh  23  :  4.7\n",
      "Điểm trung bình của học sinh  24  :  6.4\n",
      "Điểm trung bình của học sinh  25  :  6.2\n",
      "Điểm trung bình của học sinh  26  :  6.5\n",
      "Điểm trung bình của học sinh  27  :  4.6\n",
      "Điểm trung bình của học sinh  28  :  5.8\n",
      "Điểm trung bình của học sinh  29  :  4.3\n"
     ]
    }
   ],
   "source": [
    "# A) mean: Giá trị trung bình của mảng a\n",
    "print('Điểm trung bình của cả lớp 2A:', diem_2a.mean())\n",
    "print('---------------------------------------------')\n",
    "#Tính điểm trung bình của các học sinh trong lớp:\n",
    "#CÁCH 1: \n",
    "for i in range(0,diem_2a.shape[1]):\n",
    "  print('Điểm trung bình của học sinh ', i,' : ', diem_2a[:,i].mean())"
   ]
  },
  {
   "cell_type": "code",
   "execution_count": 74,
   "metadata": {
    "colab": {},
    "colab_type": "code",
    "id": "CDNc1EmxsOCY"
   },
   "outputs": [
    {
     "name": "stdout",
     "output_type": "stream",
     "text": [
      "[4.8 6.  4.7 8.6 6.2 6.8 5.6 5.4 5.9 5.1 7.2 5.4 5.9 5.9 6.  7.9 4.2 6.1\n",
      " 6.3 4.4 4.7 5.9 5.6 4.7 6.4 6.2 6.5 4.6 5.8 4.3]\n",
      "Điểm trung bình của học sinh  0  :  4.8\n",
      "Điểm trung bình của học sinh  1  :  6.0\n",
      "Điểm trung bình của học sinh  2  :  4.7\n",
      "Điểm trung bình của học sinh  3  :  8.6\n",
      "Điểm trung bình của học sinh  4  :  6.2\n",
      "Điểm trung bình của học sinh  5  :  6.8\n",
      "Điểm trung bình của học sinh  6  :  5.6\n",
      "Điểm trung bình của học sinh  7  :  5.4\n",
      "Điểm trung bình của học sinh  8  :  5.9\n",
      "Điểm trung bình của học sinh  9  :  5.1\n",
      "Điểm trung bình của học sinh  10  :  7.2\n",
      "Điểm trung bình của học sinh  11  :  5.4\n",
      "Điểm trung bình của học sinh  12  :  5.9\n",
      "Điểm trung bình của học sinh  13  :  5.9\n",
      "Điểm trung bình của học sinh  14  :  6.0\n",
      "Điểm trung bình của học sinh  15  :  7.9\n",
      "Điểm trung bình của học sinh  16  :  4.2\n",
      "Điểm trung bình của học sinh  17  :  6.1\n",
      "Điểm trung bình của học sinh  18  :  6.3\n",
      "Điểm trung bình của học sinh  19  :  4.4\n",
      "Điểm trung bình của học sinh  20  :  4.7\n",
      "Điểm trung bình của học sinh  21  :  5.9\n",
      "Điểm trung bình của học sinh  22  :  5.6\n",
      "Điểm trung bình của học sinh  23  :  4.7\n",
      "Điểm trung bình của học sinh  24  :  6.4\n",
      "Điểm trung bình của học sinh  25  :  6.2\n",
      "Điểm trung bình của học sinh  26  :  6.5\n",
      "Điểm trung bình của học sinh  27  :  4.6\n",
      "Điểm trung bình của học sinh  28  :  5.8\n",
      "Điểm trung bình của học sinh  29  :  4.3\n"
     ]
    }
   ],
   "source": [
    "#Tính điểm trung bình của các học sinh trong lớp:\n",
    "#CÁCH 2: \n",
    "mean_2a = diem_2a.mean(axis=0)\n",
    "print(mean_2a)\n",
    "#axis = 0: theo hàng\n",
    "#axis = 1: theo cột\n",
    "for i in range(0,mean_2a.size):\n",
    "  print('Điểm trung bình của học sinh ', i,' : ', mean_2a[i])"
   ]
  },
  {
   "cell_type": "code",
   "execution_count": 75,
   "metadata": {
    "colab": {
     "base_uri": "https://localhost:8080/",
     "height": 134
    },
    "colab_type": "code",
    "id": "cq-jzNk71NOT",
    "outputId": "da72d089-8cdf-4567-dffc-582541562d0c"
   },
   "outputs": [
    {
     "name": "stdout",
     "output_type": "stream",
     "text": [
      "Mảng a ban đầu: \n",
      " [ 3  5  3 10  9  1  9  8  3  1  6  0  7 10  8]\n",
      "Số phần tử trong mảng a:  15\n",
      "Mảng a đã sắp xếp: \n",
      " [ 0  1  1  3  3  3  5  6  7  8  8  9  9 10 10]\n",
      "Giá trị trung bình mean: 5.533333333333333\n",
      "Giá trị trung vị median: 6.0\n"
     ]
    }
   ],
   "source": [
    "#B) median(): Giá trị trung vị trong một tập hợp các phần tử.\n",
    "#Trường hợp số phần tử trong mảng là lẻ\n",
    "a=diem_2a[1,:15]\n",
    "\n",
    "print('Mảng a ban đầu: \\n', a)\n",
    "print('Số phần tử trong mảng a: ', a.size)\n",
    "print('Mảng a đã sắp xếp: \\n',np.sort(a,))\n",
    "print('Giá trị trung bình mean:', np.mean(a))  \n",
    "print('Giá trị trung vị median:', np.median(a))"
   ]
  },
  {
   "cell_type": "code",
   "execution_count": 76,
   "metadata": {
    "colab": {
     "base_uri": "https://localhost:8080/",
     "height": 134
    },
    "colab_type": "code",
    "id": "igZocFli-ddl",
    "outputId": "7200a038-da85-4206-8f67-ab7c0b906289"
   },
   "outputs": [
    {
     "name": "stdout",
     "output_type": "stream",
     "text": [
      "Mảng a ban đầu: \n",
      " [ 9  1  1  8  4  7  3  7  1 10]\n",
      "Số phần tử trong mảng a:  10\n",
      "Mảng a đã sắp xếp: \n",
      " [ 1  1  1  3  4  7  7  8  9 10]\n",
      "Giá trị trung bình mean: 5.1\n",
      "Giá trị trung vị median: 5.5\n"
     ]
    }
   ],
   "source": [
    "#median(): Giá trị trung vị trong một tập hợp các phần tử.\n",
    "a=diem_2a[:,9]\n",
    "\n",
    "print('Mảng a ban đầu: \\n', a)\n",
    "print('Số phần tử trong mảng a: ', a.size)\n",
    "print('Mảng a đã sắp xếp: \\n',np.sort(a,))\n",
    "print('Giá trị trung bình mean:', np.mean(a))  \n",
    "print('Giá trị trung vị median:', np.median(a))"
   ]
  },
  {
   "cell_type": "code",
   "execution_count": null,
   "metadata": {},
   "outputs": [],
   "source": []
  },
  {
   "cell_type": "code",
   "execution_count": 77,
   "metadata": {
    "colab": {
     "base_uri": "https://localhost:8080/",
     "height": 202
    },
    "colab_type": "code",
    "id": "aZviHD9fBFOz",
    "outputId": "b7076f3b-60a8-4709-be12-de6ce393b078"
   },
   "outputs": [
    {
     "name": "stdout",
     "output_type": "stream",
     "text": [
      "Môn  0 : Điểm xuất hiện nhiều nhất:  [1]  số lần:  [6]\n",
      "Môn  1 : Điểm xuất hiện nhiều nhất:  [1]  số lần:  [6]\n",
      "Môn  2 : Điểm xuất hiện nhiều nhất:  [9]  số lần:  [8]\n",
      "Môn  3 : Điểm xuất hiện nhiều nhất:  [6]  số lần:  [5]\n",
      "Môn  4 : Điểm xuất hiện nhiều nhất:  [4]  số lần:  [6]\n",
      "Môn  5 : Điểm xuất hiện nhiều nhất:  [5]  số lần:  [5]\n",
      "Môn  6 : Điểm xuất hiện nhiều nhất:  [9]  số lần:  [8]\n",
      "Môn  7 : Điểm xuất hiện nhiều nhất:  [8]  số lần:  [15]\n",
      "Môn  8 : Điểm xuất hiện nhiều nhất:  [8]  số lần:  [7]\n",
      "Môn  9 : Điểm xuất hiện nhiều nhất:  [8]  số lần:  [10]\n",
      "<class 'scipy.stats.stats.ModeResult'>\n"
     ]
    }
   ],
   "source": [
    "#C) Mode: là giá trị xuất hiện nhiều nhất trong tập hợp. \n",
    "#Trong trường hợp không có giá trị nào được lặp lại thì không có Mode.\n",
    "#Liệt kê điểm xuất hiện nhiều nhất theo từng môn học\n",
    "from scipy import stats as sp #sử dụng thư viện scipy để dùng hàm mode\n",
    "\n",
    "for i in range(0,diem_2a.shape[0]):\n",
    "    a = sp.mode(diem_2a[i,:])\n",
    "    print('Môn ', i,': Điểm xuất hiện nhiều nhất: ', a[0],\n",
    "        ' số lần: ', a[1])\n",
    "print(type(a))"
   ]
  },
  {
   "cell_type": "code",
   "execution_count": 78,
   "metadata": {
    "colab": {},
    "colab_type": "code",
    "id": "YbE-5b0zIQGt"
   },
   "outputs": [
    {
     "name": "stdout",
     "output_type": "stream",
     "text": [
      "Độ chênh điểm của học sinh  0  :  8\n",
      "Độ chênh điểm của học sinh  1  :  7\n",
      "Độ chênh điểm của học sinh  2  :  8\n",
      "Độ chênh điểm của học sinh  3  :  3\n",
      "Độ chênh điểm của học sinh  4  :  7\n",
      "Độ chênh điểm của học sinh  5  :  9\n",
      "Độ chênh điểm của học sinh  6  :  10\n",
      "Độ chênh điểm của học sinh  7  :  7\n",
      "Độ chênh điểm của học sinh  8  :  6\n",
      "Độ chênh điểm của học sinh  9  :  9\n",
      "Độ chênh điểm của học sinh  10  :  7\n",
      "Độ chênh điểm của học sinh  11  :  9\n",
      "Độ chênh điểm của học sinh  12  :  8\n",
      "Độ chênh điểm của học sinh  13  :  9\n",
      "Độ chênh điểm của học sinh  14  :  7\n",
      "Độ chênh điểm của học sinh  15  :  5\n",
      "Độ chênh điểm của học sinh  16  :  8\n",
      "Độ chênh điểm của học sinh  17  :  10\n",
      "Độ chênh điểm của học sinh  18  :  8\n",
      "Độ chênh điểm của học sinh  19  :  10\n",
      "Độ chênh điểm của học sinh  20  :  9\n",
      "Độ chênh điểm của học sinh  21  :  8\n",
      "Độ chênh điểm của học sinh  22  :  7\n",
      "Độ chênh điểm của học sinh  23  :  7\n",
      "Độ chênh điểm của học sinh  24  :  6\n",
      "Độ chênh điểm của học sinh  25  :  10\n",
      "Độ chênh điểm của học sinh  26  :  8\n",
      "Độ chênh điểm của học sinh  27  :  8\n",
      "Độ chênh điểm của học sinh  28  :  8\n",
      "Độ chênh điểm của học sinh  29  :  8\n"
     ]
    }
   ],
   "source": [
    "#D) Range: là sự khác biệt, khoảng cách giữa phần tử dưới và phần tử trên, \n",
    "#giữa giá trị nhỏ nhất (Min) với giá trị lớn nhất (Max) trong tập hợp.\n",
    "#Xác định độ chênh điểm max - min của từng học sinh\n",
    "\n",
    "for i in range(0,diem_2a.shape[1]):\n",
    "    print('Độ chênh điểm của học sinh ', i,' : ',\n",
    "        diem_2a[:,i].max()-diem_2a[:,i].min())"
   ]
  },
  {
   "cell_type": "markdown",
   "metadata": {},
   "source": [
    "**Độ lệch chuẩn (standard deviation): Độ lệch tiêu chuẩn (standard deviation) là đại lượng thường được sử dụng để phản ánh mức độ phân tán của một biến số xung quanh số bình quân.**\n",
    "* Nếu độ lệch chuẩn bằng 0, suy ra các giá trị quan sát cũng chính là giá trị trung bình. Nói cách khác là không có sự biến thiên.\n",
    "* Nếu độ lệch chuẩn càng lớn, suy ra  sự biến thiên xung quanh giá trị trung bình càng lớn.\n",
    "\n",
    "<img src='pic\\std.png'>\n",
    "\n",
    "<img src='pic\\std1.png'>"
   ]
  },
  {
   "cell_type": "code",
   "execution_count": 79,
   "metadata": {},
   "outputs": [
    {
     "name": "stdout",
     "output_type": "stream",
     "text": [
      "Phần tử của mảng a: [10  1  1  9 12  1  9 12 10]\n",
      "Giá trị trung bình: 7.222222222222222\n",
      "Độ lệch chuẩn: 4.516089207311461\n",
      "--------------------------------------------\n",
      "Phần tử của mảng b: [7 7 8 7 8 7 7 7 7]\n",
      "Giá trị trung bình: 7.222222222222222\n",
      "Độ lệch chuẩn: 0.41573970964154905\n"
     ]
    }
   ],
   "source": [
    "#E) Std: Tính độ lệch chuẩn\n",
    "a = np.array([10,1,1,9,12,1,9,12,10])\n",
    "print('Phần tử của mảng a:',a)\n",
    "print('Giá trị trung bình:',a.mean())\n",
    "print('Độ lệch chuẩn:',a.std())\n",
    "\n",
    "print('--------------------------------------------')\n",
    "b = np.array([7,7,8,7,8,7,7,7,7])\n",
    "print('Phần tử của mảng b:',b)\n",
    "print('Giá trị trung bình:',b.mean())\n",
    "print('Độ lệch chuẩn:',b.std())"
   ]
  },
  {
   "cell_type": "code",
   "execution_count": 80,
   "metadata": {
    "colab": {
     "base_uri": "https://localhost:8080/",
     "height": 521
    },
    "colab_type": "code",
    "id": "nuAUyO_ZVJSH",
    "outputId": "fc98ead3-315f-4cac-a034-09182727574d"
   },
   "outputs": [
    {
     "name": "stdout",
     "output_type": "stream",
     "text": [
      "Độ lệch chuẩn điểm của từng học sinh  0  :  2.638181191654584\n",
      "Độ lệch chuẩn điểm của từng học sinh  1  :  2.569046515733026\n",
      "Độ lệch chuẩn điểm của từng học sinh  2  :  2.758622844826744\n",
      "Độ lệch chuẩn điểm của từng học sinh  3  :  1.1135528725660042\n",
      "Độ lệch chuẩn điểm của từng học sinh  4  :  2.2715633383201093\n",
      "Độ lệch chuẩn điểm của từng học sinh  5  :  2.56124969497314\n",
      "Độ lệch chuẩn điểm của từng học sinh  6  :  3.2310988842807027\n",
      "Độ lệch chuẩn điểm của từng học sinh  7  :  2.4979991993593593\n",
      "Độ lệch chuẩn điểm của từng học sinh  8  :  1.9723082923316018\n",
      "Độ lệch chuẩn điểm của từng học sinh  9  :  3.3301651610693423\n",
      "Độ lệch chuẩn điểm của từng học sinh  10  :  2.4\n",
      "Độ lệch chuẩn điểm của từng học sinh  11  :  3.072458299147443\n",
      "Độ lệch chuẩn điểm của từng học sinh  12  :  2.7730849247724096\n",
      "Độ lệch chuẩn điểm của từng học sinh  13  :  3.014962686336267\n",
      "Độ lệch chuẩn điểm của từng học sinh  14  :  2.23606797749979\n",
      "Độ lệch chuẩn điểm của từng học sinh  15  :  1.7578395831246945\n",
      "Độ lệch chuẩn điểm của từng học sinh  16  :  2.8213471959331766\n",
      "Độ lệch chuẩn điểm của từng học sinh  17  :  2.981610303175115\n",
      "Độ lệch chuẩn điểm của từng học sinh  18  :  2.685144316419511\n",
      "Độ lệch chuẩn điểm của từng học sinh  19  :  3.352610922848042\n",
      "Độ lệch chuẩn điểm của từng học sinh  20  :  3.1953090617340916\n",
      "Độ lệch chuẩn điểm của từng học sinh  21  :  2.118962010041709\n",
      "Độ lệch chuẩn điểm của từng học sinh  22  :  2.4576411454889016\n",
      "Độ lệch chuẩn điểm của từng học sinh  23  :  2.282542442102666\n",
      "Độ lệch chuẩn điểm của từng học sinh  24  :  2.0591260281974\n",
      "Độ lệch chuẩn điểm của từng học sinh  25  :  2.6\n",
      "Độ lệch chuẩn điểm của từng học sinh  26  :  2.247220505424423\n",
      "Độ lệch chuẩn điểm của từng học sinh  27  :  3.006659275674582\n",
      "Độ lệch chuẩn điểm của từng học sinh  28  :  3.2496153618543846\n",
      "Độ lệch chuẩn điểm của từng học sinh  29  :  2.934280150224242\n"
     ]
    }
   ],
   "source": [
    "#E) Std: độ lệch chuẩn\n",
    "#Tính độ lệch chuẩn điểm thi của từng học sinh\n",
    "hs_std = np.std(diem_2a,axis=0)\n",
    "for i in range(0,diem_2a.shape[1]):\n",
    "  print('Độ lệch chuẩn điểm của từng học sinh ', i,' : ', hs_std[i])"
   ]
  },
  {
   "cell_type": "code",
   "execution_count": null,
   "metadata": {},
   "outputs": [],
   "source": [
    "# Độ lệch chuẩn của điểm theo từng Học sinh\n",
    "# 1) Độ lệch chuẩn lớn nhất của điểm thi theo học sinh\n",
    "diem_2a.std(axis=0).max()"
   ]
  },
  {
   "cell_type": "code",
   "execution_count": null,
   "metadata": {},
   "outputs": [],
   "source": [
    "# Điểm của học sinh này\n",
    "diem_2a[:,19]"
   ]
  },
  {
   "cell_type": "code",
   "execution_count": null,
   "metadata": {},
   "outputs": [],
   "source": [
    "# 2) Độ lệch chuẩn nhỏ nhất của điểm thi theo học sinh\n",
    "diem_2a.std(axis=0).min()"
   ]
  },
  {
   "cell_type": "code",
   "execution_count": null,
   "metadata": {},
   "outputs": [],
   "source": [
    "# Điểm của học sinh này\n",
    "diem_2a[:,3]"
   ]
  },
  {
   "cell_type": "markdown",
   "metadata": {},
   "source": [
    "# Thực hành số 2:\n",
    "---\n",
    "**YÊU CẦU 1: Sử dụng dữ liệu bảng điểm của lớp 2A. Cho biết:**\n",
    "\n",
    "1. ĐTB của từng học sinh trong lớp.\n",
    "2. Học sinh có điểm TB cao nhất.\n",
    "3. Học sinh có điểm trung bình thấp nhất\n"
   ]
  },
  {
   "cell_type": "code",
   "execution_count": null,
   "metadata": {},
   "outputs": [],
   "source": [
    "#{HỌC VIÊN VIẾT CODE VÀO ĐÂY}\n",
    "\n",
    "\n",
    "\n",
    "\n"
   ]
  },
  {
   "cell_type": "code",
   "execution_count": null,
   "metadata": {},
   "outputs": [],
   "source": []
  },
  {
   "cell_type": "markdown",
   "metadata": {},
   "source": [
    "**YÊU CẦU 2: Sử dụng dữ liệu bảng điểm của lớp 2A. Cho biết:**\n",
    "\n",
    "1. ĐTB của từng môn học.\n",
    "2. Môn học có điểm TB cao nhất.\n",
    "3. Môn học có điểm trung bình thấp nhất"
   ]
  },
  {
   "cell_type": "code",
   "execution_count": null,
   "metadata": {},
   "outputs": [],
   "source": [
    "#{HỌC VIÊN VIẾT CODE VÀO ĐÂY}\n",
    "\n",
    "\n",
    "\n",
    "\n"
   ]
  },
  {
   "cell_type": "code",
   "execution_count": null,
   "metadata": {},
   "outputs": [],
   "source": []
  },
  {
   "cell_type": "markdown",
   "metadata": {},
   "source": [
    "#### **YÊU CẦU 3: Sử dụng dữ liệu bảng điểm của lớp 2A. Cho biết:**\n",
    "---\n",
    "1. Sinh viên có điểm đồng đều nhất tất cả các môn. Sinh viên có điểm các môn lệch nhất trong lớp.\n",
    "2. Môn học có điểm đồng đều nhất. Môn học có điểm chênh lệch nhất.\n",
    "\n"
   ]
  },
  {
   "cell_type": "code",
   "execution_count": null,
   "metadata": {},
   "outputs": [],
   "source": [
    "#{HỌC VIÊN VIẾT CODE VÀO ĐÂY}\n",
    "\n",
    "\n",
    "\n",
    "\n"
   ]
  },
  {
   "cell_type": "code",
   "execution_count": null,
   "metadata": {},
   "outputs": [],
   "source": []
  },
  {
   "cell_type": "markdown",
   "metadata": {
    "colab": {},
    "colab_type": "code",
    "id": "mZjltyhGt0-l"
   },
   "source": [
    "### 4.3) Hệ số tương quan | corrcoef\n",
    "---\n",
    "\n",
    "Hệ số tương quan đo lường mức độ quan hệ tuyến tính giữa hai biến.\n",
    "* Hệ số tương quan không có đơn vị\n",
    "* Hệ số tương quan nằm trong khoảng [-1,1]\n",
    "<img src='Pic\\corr.png' width='400px'>\n",
    "<img src='Pic\\corr1.png' width='400px'>"
   ]
  },
  {
   "cell_type": "code",
   "execution_count": null,
   "metadata": {
    "colab": {
     "base_uri": "https://localhost:8080/",
     "height": 84
    },
    "colab_type": "code",
    "id": "AzbLh8h1dDn7",
    "outputId": "e8263aac-7bd0-4114-d2a8-ab9386f6a67c"
   },
   "outputs": [],
   "source": [
    "import numpy as np\n",
    "#corrcoef: Hệ số tương quan\n",
    "\n",
    "#Thời gian dành cho học bài\n",
    "a_giohoc = np.array([4,7,1,2,8,0,3,8,6])\n",
    "\n",
    "#Điểm thi nhận được:\n",
    "b_diem   = np.array([7,6,6,4,5,9,5,3,8])\n",
    "\n",
    "print(np.asarray((a_giohoc,b_diem)))\n",
    "\n",
    "#Tính hệ số tương quan\n",
    "co = np.corrcoef(a_giohoc,b_diem)\n",
    "print(type(co))\n",
    "print('Hệ số tương quan: \\n', co)"
   ]
  },
  {
   "cell_type": "code",
   "execution_count": null,
   "metadata": {
    "colab": {
     "base_uri": "https://localhost:8080/",
     "height": 297
    },
    "colab_type": "code",
    "id": "2M0_uFNSg7wa",
    "outputId": "3ce8e3f7-c30a-40d4-d5b7-2b92c26a89a8"
   },
   "outputs": [],
   "source": [
    "#Vẽ đồ thị mối quan hệ giữa thời gian học và điểm nhận được\n",
    "\n",
    "import matplotlib.pyplot as plt\n",
    "fig, ax = plt.subplots()\n",
    "ax.scatter(a_giohoc, b_diem)\n",
    "\n",
    "ax.set_xlabel('Giờ học bài (tuần)', fontsize=10)\n",
    "ax.set_ylabel('Điểm môn học', fontsize=10)\n",
    "ax.set_title('BIỂU ĐỒ THỂ HIỆN MỐI TƯƠNG QUAN GIỮA GIỜ HỌC BÀI VÀ ĐIỂM THI')\n",
    "\n",
    "ax.grid(True)\n",
    "#fig.tight_layout()\n",
    "\n",
    "plt.show()"
   ]
  },
  {
   "cell_type": "code",
   "execution_count": null,
   "metadata": {
    "colab": {
     "base_uri": "https://localhost:8080/",
     "height": 67
    },
    "colab_type": "code",
    "id": "rQxsOLWSeJfn",
    "outputId": "f7d12246-8a86-4a58-9c54-4ed4d9719fc4"
   },
   "outputs": [],
   "source": [
    "#Hệ số tương quan của Matrix\n",
    "a_hoc = np.array([[4,7,1,2,8,0,3,8,6],\n",
    "                 [7,9,3,4,9,0,5,10,8],\n",
    "                 [1,2,8,7,3,9,6,4,2]])\n",
    "\n",
    "#Tính hệ số tương quan theo từng hàng(rowvar=True| default)\n",
    "co = np.corrcoef(a_hoc,rowvar=True)\n",
    "print(a_hoc)\n",
    "print(type(co))\n",
    "print(co)"
   ]
  },
  {
   "cell_type": "markdown",
   "metadata": {},
   "source": [
    "# Thực hành số 3:\n",
    "---\n",
    "**Yêu cầu 1: Xác định hệ số tương quan giữa diện tích (1)  và giá bán nhà theo bảng số liệu:**\n",
    "<img src = 'Pic\\sl1.png' width='350px'>\n"
   ]
  },
  {
   "cell_type": "code",
   "execution_count": null,
   "metadata": {},
   "outputs": [],
   "source": [
    "#{HỌC VIÊN VIẾT CODE VÀO ĐÂY}\n",
    "\n",
    "\n",
    "\n",
    "\n"
   ]
  },
  {
   "cell_type": "code",
   "execution_count": null,
   "metadata": {},
   "outputs": [],
   "source": []
  },
  {
   "cell_type": "markdown",
   "metadata": {},
   "source": [
    "**Yêu cầu 2: Xác định hệ số tương quan giữa Khoảng cách từ trung tâm thành phố (2) và giá bán nhà theo bảng số liệu:**\n",
    "<img src = 'Pic\\sl2.png' width='350px'>"
   ]
  },
  {
   "cell_type": "code",
   "execution_count": null,
   "metadata": {},
   "outputs": [],
   "source": [
    "#{HỌC VIÊN VIẾT CODE VÀO ĐÂY}\n",
    "\n",
    "\n",
    "\n",
    "\n"
   ]
  },
  {
   "cell_type": "code",
   "execution_count": null,
   "metadata": {},
   "outputs": [],
   "source": []
  },
  {
   "cell_type": "markdown",
   "metadata": {},
   "source": [
    "## Thực hành số 4:\n",
    "---\n",
    "Mô tả file dữ liệu: Temp.txt (có trong thư mục Data_Excercise)\n",
    "* File dữ liệu lưu trữ nhiệt độ (oC) của 6 thành phố lớn dọc theo nước Việt Nam là: Hà Nội, Vinh, Đà Nẵng, Nha trang, Hồ Chính Minh và Cà Mau\n",
    "* Thời gian từ 0h ngày 15/09/2019 tới 23h ngày 22/09/2019\n",
    "\n",
    "*Học viên xem mô tả chi tiết file dữ liệu trong slide Practice4*"
   ]
  },
  {
   "cell_type": "markdown",
   "metadata": {},
   "source": [
    "**Yêu cầu 4.1**: Đọc dữ liệu lưu trữ trong file Temp.txt vào biến mảng data_temp, cho biết kích thước, số chiều, kiểu dữ liệu và số phần tử của biến data_temp.\n"
   ]
  },
  {
   "cell_type": "code",
   "execution_count": null,
   "metadata": {},
   "outputs": [],
   "source": [
    "#{HỌC VIÊN VIẾT CODE VÀO ĐÂY}\n",
    "\n",
    "\n",
    "\n",
    "\n"
   ]
  },
  {
   "cell_type": "code",
   "execution_count": null,
   "metadata": {},
   "outputs": [],
   "source": []
  },
  {
   "cell_type": "markdown",
   "metadata": {},
   "source": [
    "**Yêu cầu 4.2**: Tìm nhiệt độ cao nhất (Max) – Thấp nhất (Min) – Nhiệt độ trung bình của cả tập dữ liệu.\n",
    "\n",
    "**Yêu cầu 4.3**: Tìm nhiệt độ cao nhất (Max) – Thấp nhất (Min) – Nhiệt độ trung bình của từng thành phố và hiển thị kết quả.\n"
   ]
  },
  {
   "cell_type": "code",
   "execution_count": null,
   "metadata": {},
   "outputs": [],
   "source": [
    "#{HỌC VIÊN VIẾT CODE VÀO ĐÂY}\n",
    "\n",
    "\n",
    "\n",
    "\n"
   ]
  },
  {
   "cell_type": "code",
   "execution_count": null,
   "metadata": {},
   "outputs": [],
   "source": []
  },
  {
   "cell_type": "markdown",
   "metadata": {},
   "source": [
    "**Yêu cầu 4:** Tạo một ma trận data_thongke gồm 3 hàng x 7 cột; \n",
    "các hàng lần lượt lưu trữ dữ liệu như sau: \n",
    "- Hàng 0: Nhiệt độ cao nhất (Max)\n",
    "- Hàng 1: Nhiệt độ trung bình (Mean), làm tròn đến 2 số sau dấu phẩy\n",
    "- Hàng 2: Nhiệt độ nhỏ nhất (Min)\n",
    "Các cột lần lượt theo thứ tự của 6 thành phố và cột cuối cùng là cột thống kê chung cho cả 6 thành phố. Lưu ra file thongke.txt"
   ]
  },
  {
   "cell_type": "code",
   "execution_count": null,
   "metadata": {},
   "outputs": [],
   "source": [
    "#{HỌC VIÊN VIẾT CODE VÀO ĐÂY}\n",
    "\n",
    "\n",
    "\n",
    "\n"
   ]
  },
  {
   "cell_type": "code",
   "execution_count": null,
   "metadata": {},
   "outputs": [],
   "source": []
  },
  {
   "cell_type": "markdown",
   "metadata": {},
   "source": [
    "## Thực hành số 5:\n",
    "---\n",
    "Mô tả file dữ liệu: Diamonds.txt (có trong thư mục Data_Excercise)\n",
    "\n",
    "* File dữ liệu lưu trữ thông số 50 viên kim cương bao gồm: Trọng lượng (carat) và Giá bán ($) tương ứng theo mỗi hàng\n",
    "\n",
    "*Học viên xem mô tả chi tiết file dữ liệu trong slide Practice4*"
   ]
  },
  {
   "cell_type": "markdown",
   "metadata": {},
   "source": [
    "**Yêu cầu 5.1:** Đọc dữ liệu lưu trữ trong file Diamonds.txt vào biến kiểu mảng data_diamond, cho biết kích thước, số chiều, kiểu dữ liệu và số phần tử của biến data_diamond"
   ]
  },
  {
   "cell_type": "code",
   "execution_count": null,
   "metadata": {},
   "outputs": [],
   "source": [
    "#{HỌC VIÊN VIẾT CODE VÀO ĐÂY}\n",
    "\n",
    "\n",
    "\n",
    "\n",
    "\n"
   ]
  },
  {
   "cell_type": "code",
   "execution_count": null,
   "metadata": {},
   "outputs": [],
   "source": []
  },
  {
   "cell_type": "markdown",
   "metadata": {},
   "source": [
    "**Yêu cầu 5.2:** Tách mảng data_diamond thành 2 vector:  diamond_size và diamond_price lưu trữ trọng lượng và giá bán.\n"
   ]
  },
  {
   "cell_type": "code",
   "execution_count": null,
   "metadata": {},
   "outputs": [],
   "source": [
    "#{HỌC VIÊN VIẾT CODE VÀO ĐÂY}\n",
    "\n",
    "\n",
    "\n",
    "\n"
   ]
  },
  {
   "cell_type": "code",
   "execution_count": null,
   "metadata": {},
   "outputs": [],
   "source": []
  },
  {
   "cell_type": "markdown",
   "metadata": {},
   "source": [
    "**Yêu cầu 5.3:** Vẽ đồ thị thể hiện mối quan hệ giữa kích thước và giá bán kim cương. Xác định hệ số tương quan tương ứng giữa 2 thông số này.\n"
   ]
  },
  {
   "cell_type": "code",
   "execution_count": null,
   "metadata": {},
   "outputs": [],
   "source": [
    "#{HỌC VIÊN VIẾT CODE VÀO ĐÂY}\n",
    "\n",
    "\n",
    "\n",
    "\n"
   ]
  },
  {
   "cell_type": "code",
   "execution_count": null,
   "metadata": {},
   "outputs": [],
   "source": []
  },
  {
   "cell_type": "markdown",
   "metadata": {},
   "source": [
    "**Yêu cầu 5.4:** Cho biết kích thước và giá trung bình của 50 viên kim cương. Hiển thị giá bán của viên kim cương có trọng lượng 3.01 carat.\n"
   ]
  },
  {
   "cell_type": "code",
   "execution_count": null,
   "metadata": {},
   "outputs": [],
   "source": [
    "#{HỌC VIÊN VIẾT CODE VÀO ĐÂY}\n",
    "\n",
    "\n",
    "\n",
    "\n"
   ]
  },
  {
   "cell_type": "code",
   "execution_count": null,
   "metadata": {},
   "outputs": [],
   "source": []
  }
 ],
 "metadata": {
  "colab": {
   "collapsed_sections": [],
   "name": "Chuong_4_package_Numpy.ipynb",
   "provenance": []
  },
  "kernelspec": {
   "display_name": "Python 3 (ipykernel)",
   "language": "python",
   "name": "python3"
  },
  "language_info": {
   "codemirror_mode": {
    "name": "ipython",
    "version": 3
   },
   "file_extension": ".py",
   "mimetype": "text/x-python",
   "name": "python",
   "nbconvert_exporter": "python",
   "pygments_lexer": "ipython3",
   "version": "3.9.12"
  }
 },
 "nbformat": 4,
 "nbformat_minor": 1
}
