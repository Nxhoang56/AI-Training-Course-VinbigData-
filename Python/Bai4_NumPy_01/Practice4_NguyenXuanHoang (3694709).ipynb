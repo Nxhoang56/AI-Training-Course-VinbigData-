{
 "cells": [
  {
   "cell_type": "markdown",
   "metadata": {
    "colab_type": "text",
    "id": "wDtyCjZ4yc-W"
   },
   "source": [
    "## <img src ='Pic\\logo.jpg' width='700px'>\n",
    "\n",
    "\n",
    "<div align=\"center\">\n",
    "\n",
    "# KHÓA HỌC: LẬP TRÌNH PYTHON CƠ BẢN\n",
    "\n",
    "</div>\n",
    "\n",
    "\n",
    "---\n",
    "\n",
    "Practice 4 - Làm việc với Thư viện NumPy - Phần 01\n",
    "----\n",
    "Họ tên học viên: Nguyễn Xuân Hoàng\n",
    "\n",
    "Email: Hoangk63hust@gmail.com"
   ]
  },
  {
   "cell_type": "markdown",
   "metadata": {},
   "source": [
    "# Thực hành số 1:\n",
    "---\n",
    "**YÊU CẦU 1.1: Học viên tạo một ma trận vuông cấp n, bao gồm các phần tử, là những số nguyên ngẫu nhiên trong khoảng [0-100]**"
   ]
  },
  {
   "cell_type": "code",
   "execution_count": 25,
   "metadata": {},
   "outputs": [
    {
     "name": "stdout",
     "output_type": "stream",
     "text": [
      "Nhap cap ma tran: 4\n",
      "Ma tran vuong cap 4 ngau nhien \n",
      " [[  0   6  13  20]\n",
      " [ 26  33  40  46]\n",
      " [ 53  60  66  73]\n",
      " [ 80  86  93 100]]\n",
      "Kieu du lieu cua cac phan tu trong ma tran:  int32\n",
      "Kich thuoc cua ma tran:  (4, 4)\n",
      "So phan tu cua ma tran:  16\n",
      "So chieu cua ma tran:  2\n"
     ]
    }
   ],
   "source": [
    "#{HỌC VIÊN VIẾT CODE VÀO ĐÂY}\n",
    "import numpy as np\n",
    "n = int(input('Nhap cap ma tran: '))\n",
    "# mt = np.random.randint(0,100,(n,n))\n",
    "# print('Ma tran vuong cap {} ngau nhien \\n {}'.format(n,mt))\n",
    "vt = np.linspace(0,100,n*n, dtype=int)\n",
    "mt = vt.reshape(n,n)\n",
    "print('Ma tran vuong cap {} ngau nhien \\n {}'.format(n,mt))\n",
    "print('Kieu du lieu cua cac phan tu trong ma tran: ', mt.dtype)\n",
    "print('Kich thuoc cua ma tran: ', mt.shape)\n",
    "print('So phan tu cua ma tran: ', mt.size)\n",
    "print('So chieu cua ma tran: ', mt.ndim)"
   ]
  },
  {
   "cell_type": "code",
   "execution_count": 29,
   "metadata": {},
   "outputs": [
    {
     "data": {
      "text/plain": [
       "4"
      ]
     },
     "execution_count": 29,
     "metadata": {},
     "output_type": "execute_result"
    }
   ],
   "source": [
    "mt.shape[0]"
   ]
  },
  {
   "cell_type": "markdown",
   "metadata": {},
   "source": [
    "**YÊU CẦU 1.2: Sử dụng ma trận tạo được trong yêu cầu 1, Học viên tạo 2 vector như sau:**\n",
    "\n",
    "**v_chinh:** bao gồm các phần tử nằm trên đường chéo chính của ma trận.\n",
    "\n",
    "**V_phu:** bao gồm các phần tử nằm trên đường chéo phụ của ma trận"
   ]
  },
  {
   "cell_type": "code",
   "execution_count": 32,
   "metadata": {},
   "outputs": [
    {
     "name": "stdout",
     "output_type": "stream",
     "text": [
      "Vector cac phan tu nam tren duong cheo chinh: \n",
      "  [  0  33  66 100]\n",
      "Vector cac pha ru nam tren duong cheo phu: \n",
      " [80 60 40 20]\n"
     ]
    }
   ],
   "source": [
    "#{HỌC VIÊN VIẾT CODE VÀO ĐÂY}\n",
    "l_col = mt.shape[0]\n",
    "v_chinh = np.array( [mt[a,a] for a in range(l_col) ])\n",
    "print('Vector cac phan tu nam tren duong cheo chinh: \\n ', v_chinh)\n",
    "#print(mt.diagonal())\n",
    "v_phu = np.array( [mt[l_col-1-a, a] for a in range(l_col) ])\n",
    "print('Vector cac pha ru nam tren duong cheo phu: \\n', v_phu)\n",
    "\n",
    "\n"
   ]
  },
  {
   "cell_type": "markdown",
   "metadata": {},
   "source": [
    "**YÊU CẦU 1.3: Nhập vào số nguyên x bất kỳ trong khoảng (0-100), đếm xem có bao nhiêu phần tử trong ma trận sinh ra ở yêu cầu 1 có giá trị bằng x, lớn hơn x, nhỏ hơn x và hiển thị kết quả:**"
   ]
  },
  {
   "cell_type": "code",
   "execution_count": 53,
   "metadata": {},
   "outputs": [
    {
     "name": "stdout",
     "output_type": "stream",
     "text": [
      "Nhao vao so nguyen x bat ky trong khoang (0-100)2\n",
      "Số phần tử trong ma trận so với x: \n",
      " greater = 15 \n",
      " lower = 1 \n",
      " equal = 0\n"
     ]
    }
   ],
   "source": [
    "#{HỌC VIÊN VIẾT CODE VÀO ĐÂY}\n",
    "\n",
    "x = int(input('Nhao vao so nguyen x bat ky trong khoang (0-100)'))\n",
    "greater = np.sum(mt>x) #mx>x tra ve matrix cac phan tu kieu du lieu boolean\n",
    "lower = np.sum(mt<x)\n",
    "equal = np.sum(mt==x)\n",
    "print('Số phần tử trong ma trận so với x: \\n greater = {} \\n lower = {} \\n equal = {}'.format(greater, lower, equal))\n"
   ]
  },
  {
   "cell_type": "markdown",
   "metadata": {},
   "source": [
    "# Thực hành số 2:\n",
    "---\n",
    "**YÊU CẦU 2.1: Sử dụng dữ liệu bảng điểm của lớp 2A. Cho biết:**\n",
    "\n",
    "1. ĐTB của từng học sinh trong lớp.\n",
    "2. Học sinh có điểm TB cao nhất.\n",
    "3. Học sinh có điểm trung bình thấp nhất\n"
   ]
  },
  {
   "cell_type": "code",
   "execution_count": 102,
   "metadata": {},
   "outputs": [
    {
     "name": "stdout",
     "output_type": "stream",
     "text": [
      "Diem TB cua tung hs trong lop: \n",
      " [4.8 6.  4.7 8.6 6.2 6.8 5.6 5.4 5.9 5.1 7.2 5.4 5.9 5.9 6.  7.9 4.2 6.1\n",
      " 6.3 4.4 4.7 5.9 5.6 4.7 6.4 6.2 6.5 4.6 5.8 4.3]\n",
      "---------------------------\n",
      "Diem trung binh cao nhat la 8.60 hs thu 3\n",
      "-----------------------\n",
      "Diem trung binh thap nhat la 4.20 cua hs thu 16\n"
     ]
    }
   ],
   "source": [
    "#{HỌC VIÊN VIẾT CODE VÀO ĐÂY}\n",
    "# with open('Data_Excercise/Diem_2A.txt') as file:\n",
    "#     f = file.read()\n",
    "path = 'Data_Excercise/Diem_2A.txt'\n",
    "diem_2a = np.loadtxt(path, delimiter = ',', dtype =int)\n",
    "# print(diem_2a.shape)\n",
    "diem_tb = diem_2a.mean(axis = 0)\n",
    "print('Diem TB cua tung hs trong lop: \\n', diem_tb)\n",
    "print('---------------------------')\n",
    "max_grade = diem_tb.max()\n",
    "index_max_grade = [ i for i in range(diem_tb.size) if diem_tb[i] == max_grade]\n",
    "print('Diem trung binh cao nhat la {:.2f} hs thu {}'.format(max_grade, index_max_grade[0]))\n",
    "print('-----------------------')\n",
    "min_grade = diem_tb.min()\n",
    "index_min_grade = [ i for i in range(diem_tb.size) if diem_tb[i] == min_grade]\n",
    "print('Diem trung binh thap nhat la {:.2f} cua hs thu {}'.format(min_grade, index_min_grade[0]))\n"
   ]
  },
  {
   "cell_type": "markdown",
   "metadata": {},
   "source": [
    "**YÊU CẦU 2.2: Sử dụng dữ liệu bảng điểm của lớp 2A. Cho biết:**\n",
    "\n",
    "1. ĐTB của từng môn học.\n",
    "2. Môn học có điểm TB cao nhất.\n",
    "3. Môn học có điểm trung bình thấp nhất"
   ]
  },
  {
   "cell_type": "code",
   "execution_count": 105,
   "metadata": {},
   "outputs": [
    {
     "name": "stdout",
     "output_type": "stream",
     "text": [
      "Diem TB cua tung mon hoc: \n",
      " [4.73333333 4.43333333 5.5        4.83333333 4.96666667 5.6\n",
      " 6.23333333 7.3        6.13333333 7.96666667]\n",
      "---------------------------\n",
      "Diem trung binh mon hoc cao nhat la 7.97 cua mon 9\n",
      "-----------------------\n",
      "Diem trung binh mon hoc thap nhat la 4.43 cua mon thu 1\n"
     ]
    }
   ],
   "source": [
    "#{HỌC VIÊN VIẾT CODE VÀO ĐÂY}\n",
    "diem_tb_monhoc = diem_2a.mean(axis = 1)\n",
    "print('Diem TB cua tung mon hoc: \\n', diem_tb_monhoc)\n",
    "print('---------------------------')\n",
    "max_sub = diem_tb_monhoc.max()\n",
    "index_max_sub = [ i for i in range(diem_tb_monhoc.size) if diem_tb_monhoc[i] == max_sub]\n",
    "print('Diem trung binh mon hoc cao nhat la {:.2f} cua mon {}'.format(max_sub, index_max_sub[0]))\n",
    "print('-----------------------')\n",
    "min_sub = diem_tb_monhoc.min()\n",
    "index_min_sub = [ i for i in range(diem_tb_monhoc.size) if diem_tb_monhoc[i] == min_sub]\n",
    "print('Diem trung binh mon hoc thap nhat la {:.2f} cua mon thu {}'.format(min_sub, index_min_sub[0]))\n"
   ]
  },
  {
   "cell_type": "markdown",
   "metadata": {},
   "source": [
    "#### **YÊU CẦU 2.3: Sử dụng dữ liệu bảng điểm của lớp 2A. Cho biết:**\n",
    "---\n",
    "1. Sinh viên có điểm đồng đều nhất tất cả các môn. Sinh viên có điểm các môn lệch nhất trong lớp.\n",
    "2. Môn học có điểm đồng đều nhất. Môn học có điểm chênh lệch nhất.\n",
    "\n"
   ]
  },
  {
   "cell_type": "code",
   "execution_count": 124,
   "metadata": {},
   "outputs": [
    {
     "name": "stdout",
     "output_type": "stream",
     "text": [
      "(10, 30)\n"
     ]
    }
   ],
   "source": [
    "print(diem_2a.shape)"
   ]
  },
  {
   "cell_type": "code",
   "execution_count": 138,
   "metadata": {},
   "outputs": [
    {
     "name": "stdout",
     "output_type": "stream",
     "text": [
      "Sinh vien co diem dong deu nhat: sv 4\n",
      "Sinh vien co cac mon lech nhat: sv 7\n",
      "Mon hoc co diem dong deu nhat: mon 2\n",
      "Mon hoc co cac mon lech nhat: mon 8\n"
     ]
    }
   ],
   "source": [
    "#{HỌC VIÊN VIẾT CODE VÀO ĐÂY}\n",
    "#Tìm range trong pho diem cua cac sinh vien\n",
    "\n",
    "range_sv = [diem_2a[:,i].max()-diem_2a[:,i].min() for i in range(diem_2a.shape[1])]\n",
    "print('Sinh vien co diem dong deu nhat: sv {}'.format( range_sv.index( min( range_sv) )+1 ))\n",
    "print('Sinh vien co cac mon lech nhat: sv {}'.format( range_sv.index( max( range_sv) )+1 ))\n",
    "\n",
    "\n",
    "range_sj = [diem_2a[i,:].max()-diem_2a[i,:].min() for i in range(diem_2a.shape[0])]\n",
    "print('Mon hoc co diem dong deu nhat: mon {}'.format( range_sj.index( max( range_sj) )+1 ))\n",
    "print('Mon hoc co cac mon lech nhat: mon {}'.format( range_sj.index( min( range_sj) )+1 ))\n",
    "\n",
    "\n"
   ]
  },
  {
   "cell_type": "markdown",
   "metadata": {},
   "source": [
    "# Thực hành số 3:\n",
    "---\n",
    "**Yêu cầu 3.1: Xác định hệ số tương quan giữa diện tích (1)  và giá bán nhà theo bảng số liệu:**\n",
    "<img src = 'Pic\\sl1.png' width='350px'>\n"
   ]
  },
  {
   "cell_type": "code",
   "execution_count": 142,
   "metadata": {},
   "outputs": [
    {
     "name": "stdout",
     "output_type": "stream",
     "text": [
      "He so tuong quan: \n",
      " [[1.         0.97846012]\n",
      " [0.97846012 1.        ]]\n"
     ]
    }
   ],
   "source": [
    "#{HỌC VIÊN VIẾT CODE VÀO ĐÂY}\n",
    "square = np.array([1460, 2108, 1743, 1499, 1864, 2391, 1977, 1610, 1530, 1759, 1821, 2216])\n",
    "price = np.array([288700, 309300, 301400, 291100, 302400, 314900, 305400, 297000, 292400, 298200, 304300, 311700])\n",
    "hs_tq = np.corrcoef(square, price)\n",
    "print('He so tuong quan: \\n', hs_tq)"
   ]
  },
  {
   "cell_type": "markdown",
   "metadata": {},
   "source": [
    "**Yêu cầu 3.2: Xác định hệ số tương quan giữa Khoảng cách từ trung tâm thành phố (2) và giá bán nhà theo bảng số liệu:**\n",
    "<img src = 'Pic\\sl2.png' width='350px'>"
   ]
  },
  {
   "cell_type": "code",
   "execution_count": 145,
   "metadata": {},
   "outputs": [
    {
     "name": "stdout",
     "output_type": "stream",
     "text": [
      "He so tuong quan: \n",
      " [[ 1.        -0.7038066]\n",
      " [-0.7038066  1.       ]]\n"
     ]
    }
   ],
   "source": [
    "#{HỌC VIÊN VIẾT CODE VÀO ĐÂY}\n",
    "distance = np.array([2.6, 0.8,1,0.6,1.5,2,3.4,1.2,3.6,1.7])\n",
    "prices = np.array([214,376,280,362,200,190,236,244,128,165])\n",
    "hs_tq2 = np.corrcoef(distance, prices)\n",
    "print('He so tuong quan: \\n', hs_tq2)\n",
    "\n",
    "\n"
   ]
  },
  {
   "cell_type": "markdown",
   "metadata": {},
   "source": [
    "## Thực hành số 4:\n",
    "---\n",
    "Mô tả file dữ liệu: Temp.txt (có trong thư mục Data_Excercise)\n",
    "* File dữ liệu lưu trữ nhiệt độ (oC) của 6 thành phố lớn dọc theo nước Việt Nam là: Hà Nội, Vinh, Đà Nẵng, Nha trang, Hồ Chính Minh và Cà Mau\n",
    "* Thời gian từ 0h ngày 15/09/2019 tới 23h ngày 22/09/2019\n",
    "\n",
    "*Học viên xem mô tả chi tiết file dữ liệu trong slide Practice4*"
   ]
  },
  {
   "cell_type": "markdown",
   "metadata": {},
   "source": [
    "**Yêu cầu 4.1**: Đọc dữ liệu lưu trữ trong file Temp.txt vào biến mảng data_temp, cho biết kích thước, số chiều, kiểu dữ liệu và số phần tử của biến data_temp.\n"
   ]
  },
  {
   "cell_type": "code",
   "execution_count": 169,
   "metadata": {},
   "outputs": [
    {
     "data": {
      "text/plain": [
       "array([[25.65, 24.79, 24.01, 25.06, 25.48, 24.97],\n",
       "       [25.31, 24.21, 24.02, 24.93, 25.16, 24.83],\n",
       "       [25.05, 23.73, 23.89, 24.79, 24.8 , 24.55],\n",
       "       ...,\n",
       "       [24.81, 24.47, 23.4 , 25.86, 25.05, 25.29],\n",
       "       [23.97, 24.22, 22.95, 25.74, 24.92, 24.87],\n",
       "       [22.84, 23.99, 22.59, 25.5 , 24.77, 24.57]])"
      ]
     },
     "execution_count": 169,
     "metadata": {},
     "output_type": "execute_result"
    }
   ],
   "source": [
    "#{HỌC VIÊN VIẾT CODE VÀO ĐÂY}\n",
    "path2 = 'Data_Excercise/Temp.txt'\n",
    "with open(path2) as file:\n",
    "    f = file.readlines()\n",
    "    temp = []\n",
    "    for line in f: \n",
    "        line = line[:-1]\n",
    "        temp.append(line.split(' '))\n",
    "data_temp = np.array(temp, dtype = float)\n",
    "data_temp"
   ]
  },
  {
   "cell_type": "code",
   "execution_count": 172,
   "metadata": {},
   "outputs": [
    {
     "name": "stdout",
     "output_type": "stream",
     "text": [
      "Kich thuoc:  (192, 6)\n",
      "So chieu:  2\n",
      "Kieu du lieu cua cac phan tu:  float64\n",
      "So phan tu:  1152\n"
     ]
    }
   ],
   "source": [
    "print('Kich thuoc: ', data_temp.shape)\n",
    "print('So chieu: ', data_temp.ndim)\n",
    "print('Kieu du lieu cua cac phan tu: ', data_temp.dtype)\n",
    "print('So phan tu: ', data_temp.size)"
   ]
  },
  {
   "cell_type": "code",
   "execution_count": null,
   "metadata": {},
   "outputs": [],
   "source": []
  },
  {
   "cell_type": "markdown",
   "metadata": {},
   "source": [
    "**Yêu cầu 4.2**: Tìm nhiệt độ cao nhất (Max) – Thấp nhất (Min) – Nhiệt độ trung bình của cả tập dữ liệu.\n",
    "\n",
    "**Yêu cầu 4.3**: Tìm nhiệt độ cao nhất (Max) – Thấp nhất (Min) – Nhiệt độ trung bình của từng thành phố và hiển thị kết quả.\n"
   ]
  },
  {
   "cell_type": "code",
   "execution_count": 179,
   "metadata": {},
   "outputs": [
    {
     "name": "stdout",
     "output_type": "stream",
     "text": [
      "-----Thong ke cho ca 6 thanh pho------\n",
      "max temp:  33.45\n",
      "min temp:  20.93\n",
      "mean temp:  26.50222222222222\n",
      "1) Hà Nội\n",
      "Nhiet do cao nhat 33.45\n",
      "Nhiet do thap nhat 21.68\n",
      "Nhiet do trung binh 27.712291666666676\n",
      "2) Vinh\n",
      "Nhiet do cao nhat 32.57\n",
      "Nhiet do thap nhat 22.6\n",
      "Nhiet do trung binh 26.719895833333357\n",
      "3) Đà Nẵng\n",
      "Nhiet do cao nhat 29.88\n",
      "Nhiet do thap nhat 20.93\n",
      "Nhiet do trung binh 25.522499999999997\n",
      "4) Nha Trang\n",
      "Nhiet do cao nhat 28.68\n",
      "Nhiet do thap nhat 24.5\n",
      "Nhiet do trung binh 26.166875000000005\n",
      "5) Hồ Chính Minh\n",
      "Nhiet do cao nhat 31.06\n",
      "Nhiet do thap nhat 23.22\n",
      "Nhiet do trung binh 26.15921874999999\n",
      "6) Cà Mau\n",
      "Nhiet do cao nhat 31.37\n",
      "Nhiet do thap nhat 23.99\n",
      "Nhiet do trung binh 26.732552083333346\n"
     ]
    }
   ],
   "source": [
    "#{HỌC VIÊN VIẾT CODE VÀO ĐÂY}\n",
    "print('-----Thong ke cho ca 6 thanh pho------')\n",
    "print('max temp: ', data_temp.max())\n",
    "print('min temp: ', data_temp.min())\n",
    "print('mean temp: ', data_temp.mean())\n",
    "name = ['Hà Nội', 'Vinh', 'Đà Nẵng', 'Nha Trang', 'Hồ Chính Minh','Cà Mau']\n",
    "city_temp_statistic = (data_temp.max(axis = 0),data_temp.min(axis = 0), data_temp.mean(axis = 0)) \n",
    "for i in range(data_temp.shape[1]):\n",
    "    print('{})'.format(i+1), name[i])\n",
    "    print('Nhiet do cao nhat',city_temp_statistic[0][i])\n",
    "    print('Nhiet do thap nhat',city_temp_statistic[1][i])\n",
    "    print('Nhiet do trung binh',city_temp_statistic[2][i])   \n"
   ]
  },
  {
   "cell_type": "code",
   "execution_count": null,
   "metadata": {},
   "outputs": [],
   "source": []
  },
  {
   "cell_type": "markdown",
   "metadata": {},
   "source": [
    "**Yêu cầu 4:** Tạo một ma trận data_thongke gồm 3 hàng x 7 cột; \n",
    "các hàng lần lượt lưu trữ dữ liệu như sau: \n",
    "- Hàng 0: Nhiệt độ cao nhất (Max)\n",
    "- Hàng 1: Nhiệt độ trung bình (Mean), làm tròn đến 2 số sau dấu phẩy\n",
    "- Hàng 2: Nhiệt độ nhỏ nhất (Min)\n",
    "Các cột lần lượt theo thứ tự của 6 thành phố và cột cuối cùng là cột thống kê chung cho cả 6 thành phố. Lưu ra file thongke.txt"
   ]
  },
  {
   "cell_type": "code",
   "execution_count": 214,
   "metadata": {},
   "outputs": [],
   "source": [
    "#{HỌC VIÊN VIẾT CODE VÀO ĐÂY}\n",
    "data_thongke = np.zeros((3,7))\n",
    "for i in range(7):\n",
    "    if i<6:\n",
    "        data_thongke[0,i]= city_temp_statistic[0][i]\n",
    "        data_thongke[1,i]= city_temp_statistic[1][i]\n",
    "        data_thongke[2,i]= np.around(city_temp_statistic[2][i],2)\n",
    "    else:\n",
    "        data_thongke[0,i] = data_temp.max() \n",
    "        data_thongke[1,i]= data_temp.min() \n",
    "        data_thongke[2,i]= np.around(data_temp.mean(),2) \n",
    "kt = data_thongke.shape\n",
    "#C1\n",
    "np.savetxt('thongke.txt', data_thongke)\n",
    "#C2\n",
    "f2 = open('data_thongke.txt', 'w')\n",
    "f2.write(str(data_thongke))\n",
    "f2.close()"
   ]
  },
  {
   "cell_type": "code",
   "execution_count": 215,
   "metadata": {},
   "outputs": [
    {
     "data": {
      "text/plain": [
       "array([[33.45, 32.57, 29.88, 28.68, 31.06, 31.37, 33.45],\n",
       "       [21.68, 22.6 , 20.93, 24.5 , 23.22, 23.99, 20.93],\n",
       "       [27.71, 26.72, 25.52, 26.17, 26.16, 26.73, 26.5 ]])"
      ]
     },
     "execution_count": 215,
     "metadata": {},
     "output_type": "execute_result"
    }
   ],
   "source": [
    "data_thongke"
   ]
  },
  {
   "cell_type": "markdown",
   "metadata": {},
   "source": [
    "## Thực hành số 5:\n",
    "---\n",
    "Mô tả file dữ liệu: Diamonds.txt (có trong thư mục Data_Excercise)\n",
    "\n",
    "* File dữ liệu lưu trữ thông số 50 viên kim cương bao gồm: Trọng lượng (carat) và Giá bán ($) tương ứng theo mỗi hàng\n",
    "\n",
    "*Học viên xem mô tả chi tiết file dữ liệu trong slide Practice4*"
   ]
  },
  {
   "cell_type": "markdown",
   "metadata": {},
   "source": [
    "**Yêu cầu 5.1:** Đọc dữ liệu lưu trữ trong file Diamonds.txt vào biến kiểu mảng data_diamond, cho biết kích thước, số chiều, kiểu dữ liệu và số phần tử của biến data_diamond"
   ]
  },
  {
   "cell_type": "code",
   "execution_count": 229,
   "metadata": {},
   "outputs": [
    {
     "data": {
      "text/plain": [
       "array([[2.3000e-01, 4.8400e+02],\n",
       "       [3.1000e-01, 9.4200e+02],\n",
       "       [2.0000e-01, 3.4500e+02],\n",
       "       [1.0200e+00, 4.4590e+03],\n",
       "       [1.6300e+00, 1.4022e+04],\n",
       "       [1.1400e+00, 4.2120e+03],\n",
       "       [2.0100e+00, 1.1925e+04],\n",
       "       [1.2800e+00, 9.5480e+03],\n",
       "       [1.7000e+00, 1.1605e+04],\n",
       "       [1.0100e+00, 4.6420e+03],\n",
       "       [6.4000e-01, 3.5410e+03],\n",
       "       [9.7000e-01, 4.5040e+03],\n",
       "       [1.7800e+00, 1.3691e+04],\n",
       "       [3.4000e+00, 1.5964e+04],\n",
       "       [3.0100e+00, 1.0453e+04],\n",
       "       [1.5100e+00, 1.1560e+04],\n",
       "       [1.3700e+00, 7.9790e+03],\n",
       "       [1.5000e+00, 9.5330e+03],\n",
       "       [5.4000e-01, 1.7230e+03],\n",
       "       [7.2000e-01, 3.3440e+03],\n",
       "       [1.1300e+00, 6.1330e+03],\n",
       "       [2.2400e+00, 1.3827e+04],\n",
       "       [3.0100e+00, 1.6538e+04],\n",
       "       [4.5000e+00, 1.8531e+04],\n",
       "       [9.2000e-01, 3.6250e+03],\n",
       "       [1.0500e+00, 7.8790e+03],\n",
       "       [5.5000e-01, 1.3190e+03],\n",
       "       [7.4000e-01, 2.7610e+03],\n",
       "       [9.1000e-01, 3.6200e+03],\n",
       "       [1.2300e+00, 6.1650e+03],\n",
       "       [1.5200e+00, 1.0640e+04],\n",
       "       [9.1000e-01, 4.1380e+03],\n",
       "       [4.3000e-01, 1.0940e+03],\n",
       "       [1.2400e+00, 1.1130e+04],\n",
       "       [1.7700e+00, 1.4561e+04],\n",
       "       [1.7900e+00, 1.0108e+04],\n",
       "       [2.0500e+00, 1.2654e+04],\n",
       "       [2.0300e+00, 1.6280e+04],\n",
       "       [2.0100e+00, 1.3498e+04],\n",
       "       [1.0000e+00, 4.5860e+03],\n",
       "       [9.0000e-01, 3.1050e+03],\n",
       "       [1.0100e+00, 7.7450e+03],\n",
       "       [1.1400e+00, 5.0470e+03],\n",
       "       [1.5300e+00, 1.0830e+04],\n",
       "       [3.4000e-01, 7.6500e+02],\n",
       "       [4.1000e-01, 8.2700e+02],\n",
       "       [7.5000e-01, 3.1200e+03],\n",
       "       [1.0700e+00, 5.2200e+03],\n",
       "       [1.3400e+00, 7.4270e+03],\n",
       "       [1.7500e+00, 9.8900e+03]])"
      ]
     },
     "execution_count": 229,
     "metadata": {},
     "output_type": "execute_result"
    }
   ],
   "source": [
    "#{HỌC VIÊN VIẾT CODE VÀO ĐÂY}\n",
    "data_diamond = np.loadtxt('Data_Excercise/Diamonds.txt')\n",
    "data_diamond"
   ]
  },
  {
   "cell_type": "code",
   "execution_count": 231,
   "metadata": {},
   "outputs": [
    {
     "name": "stdout",
     "output_type": "stream",
     "text": [
      "Kich thuoc:  (50, 2)\n",
      "So chieu:  2\n",
      "Kieu du lieu cua cac phan tu:  float64\n",
      "So phan tu:  100\n"
     ]
    }
   ],
   "source": [
    "print('Kich thuoc: ', data_diamond.shape)\n",
    "print('So chieu: ', data_diamond.ndim)\n",
    "print('Kieu du lieu cua cac phan tu: ', data_diamond.dtype)\n",
    "print('So phan tu: ', data_diamond.size)\n"
   ]
  },
  {
   "cell_type": "markdown",
   "metadata": {},
   "source": [
    "**Yêu cầu 5.2:** Tách mảng data_diamond thành 2 vector:  diamond_size và diamond_price lưu trữ trọng lượng và giá bán.\n"
   ]
  },
  {
   "cell_type": "code",
   "execution_count": 232,
   "metadata": {},
   "outputs": [
    {
     "name": "stdout",
     "output_type": "stream",
     "text": [
      "[0.23 0.31 0.2  1.02 1.63 1.14 2.01 1.28 1.7  1.01 0.64 0.97 1.78 3.4\n",
      " 3.01 1.51 1.37 1.5  0.54 0.72 1.13 2.24 3.01 4.5  0.92 1.05 0.55 0.74\n",
      " 0.91 1.23 1.52 0.91 0.43 1.24 1.77 1.79 2.05 2.03 2.01 1.   0.9  1.01\n",
      " 1.14 1.53 0.34 0.41 0.75 1.07 1.34 1.75]\n"
     ]
    }
   ],
   "source": [
    "#{HỌC VIÊN VIẾT CODE VÀO ĐÂY}\n",
    "diamond_size = np.array(data_diamond[:,0])\n",
    "print(diamond_size)"
   ]
  },
  {
   "cell_type": "code",
   "execution_count": 235,
   "metadata": {},
   "outputs": [
    {
     "name": "stdout",
     "output_type": "stream",
     "text": [
      "[  484.   942.   345.  4459. 14022.  4212. 11925.  9548. 11605.  4642.\n",
      "  3541.  4504. 13691. 15964. 10453. 11560.  7979.  9533.  1723.  3344.\n",
      "  6133. 13827. 16538. 18531.  3625.  7879.  1319.  2761.  3620.  6165.\n",
      " 10640.  4138.  1094. 11130. 14561. 10108. 12654. 16280. 13498.  4586.\n",
      "  3105.  7745.  5047. 10830.   765.   827.  3120.  5220.  7427.  9890.]\n"
     ]
    }
   ],
   "source": [
    "diamond_price = np.array(data_diamond[:,1])\n",
    "print(diamond_price)"
   ]
  },
  {
   "cell_type": "markdown",
   "metadata": {},
   "source": [
    "**Yêu cầu 5.3:** Vẽ đồ thị thể hiện mối quan hệ giữa kích thước và giá bán kim cương. Xác định hệ số tương quan tương ứng giữa 2 thông số này.\n"
   ]
  },
  {
   "cell_type": "code",
   "execution_count": 248,
   "metadata": {},
   "outputs": [
    {
     "data": {
      "image/png": "[encoded data removed]",
      "text/plain": [
       "<Figure size 432x288 with 1 Axes>"
      ]
     },
     "metadata": {
      "needs_background": "light"
     },
     "output_type": "display_data"
    }
   ],
   "source": [
    "#{HỌC VIÊN VIẾT CODE VÀO ĐÂY}\n",
    "import matplotlib.pyplot as plt\n",
    "cor = np.corrcoef(diamond_size, diamond_price)[0,1]\n",
    "plt.scatter(diamond_size, diamond_price)\n",
    "plt.xlabel('Size')\n",
    "plt.ylabel('Price')\n",
    "plt.title('Correlation = {}'.format(cor))\n",
    "plt.show()\n",
    "\n",
    "\n",
    "\n"
   ]
  },
  {
   "cell_type": "markdown",
   "metadata": {},
   "source": [
    "**Yêu cầu 5.4:** Cho biết kích thước và giá trung bình của 50 viên kim cương. Hiển thị giá bán của viên kim cương có trọng lượng 3.01 carat.\n"
   ]
  },
  {
   "cell_type": "code",
   "execution_count": 253,
   "metadata": {},
   "outputs": [
    {
     "name": "stdout",
     "output_type": "stream",
     "text": [
      "Trong luong trung binh:  1.3448000000000002\n",
      "Gia trung binh:  7550.78\n",
      "Gia ban cua vien kim cuong co trong luon 3.01 cara:  16900.54119571683\n"
     ]
    }
   ],
   "source": [
    "#{HỌC VIÊN VIẾT CODE VÀO ĐÂY}\n",
    "print('Trong luong trung binh: ',diamond_size.mean())\n",
    "print('Gia trung binh: ', diamond_price.mean())\n",
    "print('Gia ban cua vien kim cuong co trong luon 3.01 cara: ', 3.01*diamond_price.mean()/diamond_size.mean())\n",
    "\n",
    "\n"
   ]
  }
 ],
 "metadata": {
  "colab": {
   "collapsed_sections": [],
   "name": "Chuong_4_package_Numpy.ipynb",
   "provenance": []
  },
  "kernelspec": {
   "display_name": "Python 3 (ipykernel)",
   "language": "python",
   "name": "python3"
  },
  "language_info": {
   "codemirror_mode": {
    "name": "ipython",
    "version": 3
   },
   "file_extension": ".py",
   "mimetype": "text/x-python",
   "name": "python",
   "nbconvert_exporter": "python",
   "pygments_lexer": "ipython3",
   "version": "3.9.12"
  }
 },
 "nbformat": 4,
 "nbformat_minor": 1
}
