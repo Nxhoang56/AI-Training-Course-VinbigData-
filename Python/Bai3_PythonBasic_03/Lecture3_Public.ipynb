{
 "cells": [
  {
   "cell_type": "markdown",
   "metadata": {},
   "source": [
    "## <img src ='Pic\\logo.jpg' width='500px'>\n",
    "\n",
    "\n",
    "<div align=\"center\">\n",
    "\n",
    "# KHÓA HỌC: LẬP TRÌNH PYTHON CƠ BẢN CHO PHÂN TÍCH DỮ LIỆU\n",
    "\n",
    "</div>\n",
    "\n",
    "\n",
    "---\n",
    "\n",
    " BÀI 3: LẬP TRÌNH PYTHON CƠ BẢN (Tiếp)\n",
    "---\n",
    "* Giảng viên: Đặng Văn Nam\n",
    "* Email: namdv@aiacademy.edu.vn\n",
    "\n",
    "---\n",
    "**NỘI DUNG BÀI HỌC:**\n",
    "1. Hàm trong Python\n",
    "    * a. Giới thiệu Hàm | Xây dựng hàm trong Python\n",
    "    * b. Return | Tham số của hàm |Phạm vi của biến\n",
    "    * c. Hàm đệ quy | Hàm ẩn danh (Lambda)\n",
    "2. Lớp và đối tượng trong Python\n",
    "\t* a. Tạo lớp – đối tượng | Truy cập phương thức, thuộc tính của đối tượng\n",
    "\t* b. Thừa kế\n",
    "3. Module và Package\n",
    "\t* a. Giới thiệu module và cách xây dựng module\n",
    "\t* b. Import các package sử dụng\n",
    "4. Đọc và ghi file với Python\n",
    "5. Multithreading, Multiprocessing trong Python\n"
   ]
  },
  {
   "cell_type": "markdown",
   "metadata": {},
   "source": [
    "# I) Hàm trong Python\n",
    "---\n",
    "* Hàm trong Python là một nhóm các câu lệnh trong chương trình được tổ chức chung với nhau để thực hiện một chức năng hay một nhiệm vụ cụ thể nào đó.\n",
    "* Sử dụng hàm giúp phân rã chương trình từ một chương trình lớn, phức tạp thành các phần cụ thể nhỏ hơn giúp dễ quản lý, tổ chức, nâng cao khả năng tái sử dụng và chia sẻ công việc.\n",
    "<img src='Pic/func.png' width=500px>"
   ]
  },
  {
   "cell_type": "code",
   "execution_count": 2,
   "metadata": {},
   "outputs": [],
   "source": [
    "#Ví dụ: Xây dựng 1 Hàm thực hiện chào hỏi\n",
    "def hello_aiv(name):\n",
    "    '''\n",
    "    Hàm thực hiện chào hỏi!\n",
    "    input: Tên\n",
    "    '''\n",
    "    print('Hello ',name,', How are you?')\n",
    "    print('Have a nice day.....!')"
   ]
  },
  {
   "cell_type": "code",
   "execution_count": null,
   "metadata": {},
   "outputs": [],
   "source": []
  },
  {
   "cell_type": "code",
   "execution_count": 3,
   "metadata": {},
   "outputs": [
    {
     "name": "stdout",
     "output_type": "stream",
     "text": [
      "Hello  AIV , How are you?\n",
      "Have a nice day.....!\n"
     ]
    }
   ],
   "source": [
    "#Sử dụng hàm đã xây dựng\n",
    "hello_aiv('AIV')"
   ]
  },
  {
   "cell_type": "code",
   "execution_count": 4,
   "metadata": {},
   "outputs": [],
   "source": [
    "hello_aiv?"
   ]
  },
  {
   "cell_type": "code",
   "execution_count": null,
   "metadata": {},
   "outputs": [],
   "source": [
    "#Sử dụng hàm đã xây dựng\n",
    "hello_aiv('Tùng Dương')"
   ]
  },
  {
   "cell_type": "code",
   "execution_count": null,
   "metadata": {},
   "outputs": [],
   "source": [
    "#Sử dụng hàm đã xây dựng\n",
    "ten = input('Bạn tên là gì?')\n",
    "hello_aiv(ten)"
   ]
  },
  {
   "cell_type": "markdown",
   "metadata": {},
   "source": [
    "**Trước khi bắt tay vào xây dựng 1 hàm trong Python, cần phải tự trả lời các câu hỏi:**\n",
    "1. Hàm này sử dụng nhằm mục đích gì? \n",
    "2. Hàm này nhận đầu vào là gì?\n",
    "3. Hàm này trả kết quả ra là gì?\n"
   ]
  },
  {
   "cell_type": "code",
   "execution_count": 5,
   "metadata": {},
   "outputs": [],
   "source": [
    "#Xây dựng hàm tính n!\n",
    "#1.Hàm này dùng để làm gì? - Để tính n!\n",
    "#2.Hàm này nhận dữ liệu vào là gì? - Một số nguyên dương N\n",
    "#3. Hàm này trả kết quả ra là gì? - Một số nguyên dương là tích của 1*2*3...(n-1)*n\n",
    "\n",
    "def giai_thua(n):\n",
    "    #nhóm các câu lệnh xử lý bên trong hàm\n",
    "    tich=1\n",
    "    for i in range(1,n+1):\n",
    "        tich=tich*i\n",
    "    #kết quả trả về cho hàm\n",
    "    return tich"
   ]
  },
  {
   "cell_type": "code",
   "execution_count": null,
   "metadata": {},
   "outputs": [],
   "source": [
    "#Gọi hàm trong Python\n",
    "gt = giai_thua(10)\n",
    "print(gt)"
   ]
  },
  {
   "cell_type": "code",
   "execution_count": null,
   "metadata": {},
   "outputs": [],
   "source": [
    "1*2*3*4*5*6*7*8*9*10"
   ]
  },
  {
   "cell_type": "code",
   "execution_count": null,
   "metadata": {},
   "outputs": [],
   "source": [
    "#Gọi hàm trong Python\n",
    "n = int(input('Nhập vào một số nguyên N:'))\n",
    "print(n,'! = ', giai_thua(n))"
   ]
  },
  {
   "cell_type": "markdown",
   "metadata": {},
   "source": [
    "**Lệnh return:**\n",
    "* Lệnh return <kết quả trả về> được sử dụng để trả kết quả xử lý thông qua tên hàm. \n",
    "* Lệnh return có thể có hoặc không.\n",
    "* Trong trường hợp không cung cấp <kết quả trả về>, thì hàm return này sẽ trả về None. Nói cách khác, lệnh return được sử dụng để thoát khỏi định nghĩa hàm.\n",
    "\n",
    "* Lệnh return() có thể trả về 1 hay nhiều kết quả,nếu có nhiều hơn một kết quả thì ngăn cách nhau bởi dấu phẩy."
   ]
  },
  {
   "cell_type": "code",
   "execution_count": null,
   "metadata": {},
   "outputs": [],
   "source": [
    "#Hàm không có lệnh return\n",
    "def hello_aiv(name):\n",
    "    print('Hello ',name,', How are you?')\n",
    "    print('Have a nice day.....!')"
   ]
  },
  {
   "cell_type": "code",
   "execution_count": null,
   "metadata": {},
   "outputs": [],
   "source": [
    "#Hàm trả về 1 giá trị\n",
    "def giai_thua(n):\n",
    "    #nhóm các câu lệnh xử lý bên trong hàm\n",
    "    tich=1\n",
    "    for i in range(1,n+1):\n",
    "        tich=tich*i\n",
    "    #kết quả trả về cho hàm\n",
    "    return tich"
   ]
  },
  {
   "cell_type": "code",
   "execution_count": null,
   "metadata": {},
   "outputs": [],
   "source": [
    "#Hàm trả về nhiều giá trị\n",
    "#Hàm tính tổng, hiệu, tích, thương:\n",
    "def all_ab(a,b):\n",
    "    add = a+b\n",
    "    sub = a-b\n",
    "    multi = a*b\n",
    "    div = a/b\n",
    "    #hàm trả về kết quả là 4 giá trị\n",
    "    return add, sub, multi, div"
   ]
  },
  {
   "cell_type": "code",
   "execution_count": null,
   "metadata": {},
   "outputs": [],
   "source": []
  },
  {
   "cell_type": "code",
   "execution_count": null,
   "metadata": {},
   "outputs": [],
   "source": [
    "a = 10\n",
    "b = 20\n",
    "#lấy kết quả khi thực hiện hàm\n",
    "tong, hieu, tich, thuong = all_ab(a,b)\n",
    "print('Tổng ',a,' + ', b,' = ', tong)\n",
    "print('Hiệu ',a,' - ', b,' = ', hieu)\n",
    "print('Tích ',a,' * ', b,' = ', tich)\n",
    "print('Thương ',a,' / ', b,' = ', thuong)"
   ]
  },
  {
   "cell_type": "code",
   "execution_count": null,
   "metadata": {},
   "outputs": [],
   "source": [
    "all_ab(a,b)"
   ]
  },
  {
   "cell_type": "code",
   "execution_count": null,
   "metadata": {},
   "outputs": [],
   "source": [
    "#Chỉ lấy kết quả trả về của tổng\n",
    "all_ab(a,b)[0]"
   ]
  },
  {
   "cell_type": "code",
   "execution_count": null,
   "metadata": {},
   "outputs": [],
   "source": [
    "#Chỉ lấy kết quả trả về của tích\n",
    "all_ab(a,b)[2]"
   ]
  },
  {
   "cell_type": "code",
   "execution_count": null,
   "metadata": {},
   "outputs": [],
   "source": []
  },
  {
   "cell_type": "markdown",
   "metadata": {},
   "source": [
    "---\n",
    "**Tham số cho hàm:**\n",
    "Hàm có thể có tham số hoặc không,có các loại tham số:\n",
    "* Tham số bắt buộc\n",
    "* Tham số có mặc định (Default parameter)\n",
    "* Tham số có độ dài biến (Variable-Length Parameter)\n"
   ]
  },
  {
   "cell_type": "code",
   "execution_count": null,
   "metadata": {},
   "outputs": [],
   "source": [
    "#Hàm không có tham số truyền vào\n",
    "def hello():\n",
    "    print('Hello, How are you!')\n",
    "    print('Have a nice day!')"
   ]
  },
  {
   "cell_type": "code",
   "execution_count": null,
   "metadata": {},
   "outputs": [],
   "source": [
    "hello()"
   ]
  },
  {
   "cell_type": "code",
   "execution_count": null,
   "metadata": {},
   "outputs": [],
   "source": []
  },
  {
   "cell_type": "code",
   "execution_count": null,
   "metadata": {},
   "outputs": [],
   "source": [
    "#Hàm có thể có hoặc không có tham số, \n",
    "#nếu hàm có tham số khi gọi hàm phải truyền tham số cho hàm, nếu không sẽ báo lỗi\n",
    "a = giai_thua()\n",
    "print(a)"
   ]
  },
  {
   "cell_type": "code",
   "execution_count": null,
   "metadata": {},
   "outputs": [],
   "source": [
    "#Lỗi nếu hàm ko truyền tham số\n",
    "all_ab()"
   ]
  },
  {
   "cell_type": "code",
   "execution_count": null,
   "metadata": {},
   "outputs": [],
   "source": [
    "#Lỗi nếu truyền không đủ tham số:\n",
    "all_ab(5)"
   ]
  },
  {
   "cell_type": "code",
   "execution_count": null,
   "metadata": {},
   "outputs": [],
   "source": [
    "#Hàm sẽ thực hiện nếu cung cấp đủ tham số:\n",
    "all_ab(5, 8)"
   ]
  },
  {
   "cell_type": "code",
   "execution_count": null,
   "metadata": {},
   "outputs": [],
   "source": []
  },
  {
   "cell_type": "code",
   "execution_count": null,
   "metadata": {},
   "outputs": [],
   "source": []
  },
  {
   "cell_type": "markdown",
   "metadata": {},
   "source": [
    "---\n",
    "Để hạn chế trường hợp báo lỗi khi khi gọi hàm không cung cấp tham số thì trong Python cung cấp cho chúng ta thiết lập giá trị mặc định của tham số khi khai báo hàm. Bằng cách sử dụng dấu = với cú pháp như sau:\n"
   ]
  },
  {
   "cell_type": "code",
   "execution_count": null,
   "metadata": {},
   "outputs": [],
   "source": [
    "#Hàm hello sử dụng tham số mặc định\n",
    "def hello_aiv(name='VinBigData'):\n",
    "    print('Hello',name,', How are you?')\n",
    "    print('Have a nice day.....!')"
   ]
  },
  {
   "cell_type": "code",
   "execution_count": null,
   "metadata": {},
   "outputs": [],
   "source": [
    "#Nếu không truyền tham số, hàm sẽ sử dụng tham số mặc định\n",
    "hello_aiv()"
   ]
  },
  {
   "cell_type": "code",
   "execution_count": null,
   "metadata": {},
   "outputs": [],
   "source": []
  },
  {
   "cell_type": "code",
   "execution_count": null,
   "metadata": {},
   "outputs": [],
   "source": []
  },
  {
   "cell_type": "code",
   "execution_count": null,
   "metadata": {},
   "outputs": [],
   "source": [
    "#Hàm tính giai thừa sử dụng các tham số mặc định\n",
    "def giai_thua(n=8):\n",
    "    #nhóm các câu lệnh xử lý bên trong hàm\n",
    "    tich=1\n",
    "    for i in range(1,n+1):\n",
    "        tich=tich*i\n",
    "    #kết quả trả về cho hàm\n",
    "    return tich"
   ]
  },
  {
   "cell_type": "code",
   "execution_count": null,
   "metadata": {},
   "outputs": [],
   "source": [
    "#Nếu không truyền tham số, hàm sẽ sử dụng tham số mặc định n = 8\n",
    "giai_thua()"
   ]
  },
  {
   "cell_type": "code",
   "execution_count": null,
   "metadata": {},
   "outputs": [],
   "source": [
    "giai_thua(15)"
   ]
  },
  {
   "cell_type": "code",
   "execution_count": null,
   "metadata": {},
   "outputs": [],
   "source": []
  },
  {
   "cell_type": "code",
   "execution_count": null,
   "metadata": {},
   "outputs": [],
   "source": [
    "#Hàm tính tổng hiệu tich thương với tham số mặc định\n",
    "def all_ab(a=10,b=6):\n",
    "    add = a+b\n",
    "    sub = a-b\n",
    "    multi = a*b\n",
    "    div = a/b\n",
    "    #hàm trả về kết quả là 4 giá trị\n",
    "    return add, sub, multi, div"
   ]
  },
  {
   "cell_type": "code",
   "execution_count": null,
   "metadata": {
    "scrolled": true
   },
   "outputs": [],
   "source": [
    "#Không truyền tham số, sử dụng tham số mặc định\n",
    "all_ab()"
   ]
  },
  {
   "cell_type": "code",
   "execution_count": null,
   "metadata": {},
   "outputs": [],
   "source": [
    "#Truyền vào 1 tham số\n",
    "all_ab(18)"
   ]
  },
  {
   "cell_type": "markdown",
   "metadata": {},
   "source": [
    "---\n",
    "**Tham số có độ dài biến (Variable-Length Parameter):**\n",
    "\n",
    "Trên thực tế, không phải lúc nào chúng ta cũng biết được chính xác số lượng biến truyền vào trong hàm. Chính vì thế trong Python có cũng cấp cho chúng ta khai báo một param đại diện cho các biến truyền vào hàm bằng cách thêm dấu * vào trước param đó\n"
   ]
  },
  {
   "cell_type": "code",
   "execution_count": null,
   "metadata": {},
   "outputs": [],
   "source": [
    "#Xây dựng hàm tính tổng các số đưa vào\n",
    "def get_sum(*num):\n",
    "    tmp=0\n",
    "    #duyệt các tham số\n",
    "    for i in num:\n",
    "        tmp = tmp+i\n",
    "    return tmp"
   ]
  },
  {
   "cell_type": "code",
   "execution_count": null,
   "metadata": {},
   "outputs": [],
   "source": [
    "#Gọi hàm và truyền các tham số cho hàm\n",
    "result1 = get_sum(1,2,3,4,5)\n",
    "print('Kết quả:', result1)"
   ]
  },
  {
   "cell_type": "code",
   "execution_count": null,
   "metadata": {},
   "outputs": [],
   "source": [
    "#Gọi hàm và truyền các tham số cho hàm\n",
    "result1 = get_sum(1,2,3,4,5,90,18, 100, 78, 76, 25)\n",
    "print('Kết quả:', result1)"
   ]
  },
  {
   "cell_type": "markdown",
   "metadata": {},
   "source": [
    "---\n",
    "**Phạm vi của biến:**\n",
    "Một biến chỉ có tác dụng trong phạm vi mà nó khai báo\n",
    "* Biến toàn cục (global): trong phạm vi toàn bộ chương trình\n",
    "* Biến cục bộ (local): Chỉ có tác dụng trong thân hàm khai báo\n"
   ]
  },
  {
   "cell_type": "code",
   "execution_count": null,
   "metadata": {},
   "outputs": [],
   "source": [
    "def myfunc():\n",
    "    x = 100 #Biến local: Chỉ có tác dụng trong hàm myfunc\n",
    "    x = x + 50\n",
    "    print('Biến local: x = ', x)"
   ]
  },
  {
   "cell_type": "code",
   "execution_count": null,
   "metadata": {},
   "outputs": [],
   "source": [
    "myfunc()\n"
   ]
  },
  {
   "cell_type": "code",
   "execution_count": null,
   "metadata": {},
   "outputs": [],
   "source": [
    "print(x) #Biến x chỉ có tác dụng trong hàm myfunc"
   ]
  },
  {
   "cell_type": "code",
   "execution_count": null,
   "metadata": {},
   "outputs": [],
   "source": []
  },
  {
   "cell_type": "code",
   "execution_count": null,
   "metadata": {},
   "outputs": [],
   "source": [
    "x = 300 #Biến toàn cục, có tác dụng trong toàn bộ chương trình\n",
    "y = 800\n",
    "def myfunc():\n",
    "    #Biến địa phương, chỉ có tác dụng trong thân hàm\n",
    "    x = 200 \n",
    "    total = x + y #Biến địa phương local\n",
    "    print('(Local) x :', x)\n",
    "    print('total :', total)"
   ]
  },
  {
   "cell_type": "code",
   "execution_count": null,
   "metadata": {},
   "outputs": [],
   "source": [
    "#Gọi hàm\n",
    "myfunc()"
   ]
  },
  {
   "cell_type": "code",
   "execution_count": null,
   "metadata": {},
   "outputs": [],
   "source": [
    "print('----------------------')\n",
    "print('(global) x:', x)"
   ]
  },
  {
   "cell_type": "code",
   "execution_count": null,
   "metadata": {},
   "outputs": [],
   "source": [
    "#Function Inside Function\n",
    "#Một biến khai báo trong hàm được sử dụng cho mọi hàm trong nó.\n",
    "def myfunc():\n",
    "    z = 300\n",
    "    def myinnerfunc():\n",
    "        print(z)\n",
    "\n",
    "    #Gọi hàm con\n",
    "    myinnerfunc()\n",
    "\n",
    "myfunc()"
   ]
  },
  {
   "cell_type": "code",
   "execution_count": null,
   "metadata": {},
   "outputs": [],
   "source": []
  },
  {
   "cell_type": "code",
   "execution_count": null,
   "metadata": {},
   "outputs": [],
   "source": [
    "#Thiết lập một biến local thành global\n",
    "def myfunc():\n",
    "    global k #Thiết lập biến k là biến global\n",
    "    k = 300\n",
    "    print('Inside func: k = ',k)\n",
    "    \n",
    "myfunc()\n"
   ]
  },
  {
   "cell_type": "code",
   "execution_count": null,
   "metadata": {},
   "outputs": [],
   "source": [
    "\n",
    "print('Outside func: k =', k)"
   ]
  },
  {
   "cell_type": "markdown",
   "metadata": {},
   "source": [
    "### Đệ quy:\n",
    "---\n",
    "\n",
    "* Ngôn ngữ Python cho phép hàm gọi đến chính nó, người ta gọi là đệ quy hay quay lui\n",
    "<img src='pic/dequy.png' width='400px'>\n",
    "* Trong giải thuật phải có một điều kiện dừng để đệ quy kết thúc.\n",
    "* Chương trình sử dụng đệ quy thì dễ hiểu nhưng hao tốn tài nguyên CPU, ảnh hưởng đến thời gian chạy chương trình nếu số lần đệ quy của hàm lớn.\n"
   ]
  },
  {
   "cell_type": "code",
   "execution_count": null,
   "metadata": {},
   "outputs": [],
   "source": [
    "#Hàm tính n! theo phương pháp đệ quy\n",
    "def giai_thua(n):\n",
    "    if n==0:         #Điều kiện dừng để kết thúc đệ quy\n",
    "        return 1;    #vì 0! = 1 nên n==0 là vị trí kết thúc của đệ quy\n",
    "    else:\n",
    "        return giai_thua(n-1)*n  #1*2*....*n"
   ]
  },
  {
   "cell_type": "code",
   "execution_count": null,
   "metadata": {},
   "outputs": [],
   "source": [
    "n = int(input(\"Nhập vào số N:\"))\n",
    "print(n,'!=',giai_thua(n))"
   ]
  },
  {
   "cell_type": "code",
   "execution_count": null,
   "metadata": {},
   "outputs": [],
   "source": [
    "#Thư viện math cũng cung hàm tính giai thừa\n",
    "import math\n",
    "print (math.factorial(10))"
   ]
  },
  {
   "cell_type": "code",
   "execution_count": null,
   "metadata": {},
   "outputs": [],
   "source": [
    "#Hàm đệ quy tính số fibonacci thứ n\n",
    "def fibonacci(n):\n",
    "    if (n==0 or n==1): #Điều kiện dừng để kết thúc đệ quy\n",
    "        return 1;\n",
    "    else:\n",
    "        return fibonacci(n-1)+fibonacci(n-2) #gọi lại chính nó"
   ]
  },
  {
   "cell_type": "code",
   "execution_count": null,
   "metadata": {},
   "outputs": [],
   "source": [
    "#Hiển thị số fibonacci thứ 10\n",
    "print(fibonacci(10))"
   ]
  },
  {
   "cell_type": "code",
   "execution_count": null,
   "metadata": {},
   "outputs": [],
   "source": [
    "#Danh sách các số fibonacci từ 0 đến 20\n",
    "for i in range(0,21):\n",
    "    print('Số fibonacci thứ ', i , ' là:', fibonacci(i))"
   ]
  },
  {
   "cell_type": "markdown",
   "metadata": {},
   "source": [
    "\n",
    "**Hàm ẩn danh (lambda):**\n",
    "---\n",
    "* Một hàm ẩn danh là một hàm được định nghĩa mà không có tên \n",
    "* Các hàm bình thường được định nghĩa bằng từ khóa def; hàm ẩn danh được định nghĩa bằng từ khóa lambda\n",
    "\n",
    "**Cú pháp:**\n",
    "lambda arguments : Expression\n"
   ]
  },
  {
   "cell_type": "code",
   "execution_count": null,
   "metadata": {},
   "outputs": [],
   "source": []
  },
  {
   "cell_type": "code",
   "execution_count": null,
   "metadata": {},
   "outputs": [],
   "source": [
    "#Ví dụ hàm ẩn danh: 1 tham số\n",
    "x = lambda a : a + 10\n",
    "#lambda a: a + 10 là hàm lambda\n",
    "#Trong đó: a là tham số truyền vào\n",
    "#          a+10 là biểu thức\n",
    "\n",
    "print(x(5))\n",
    "print(x(7))"
   ]
  },
  {
   "cell_type": "code",
   "execution_count": null,
   "metadata": {},
   "outputs": [],
   "source": [
    "#Hàm ẩn danh 2 tham số \n",
    "x = lambda a, b : a * b\n",
    "\n",
    "print(x(15, 6))"
   ]
  },
  {
   "cell_type": "code",
   "execution_count": null,
   "metadata": {},
   "outputs": [],
   "source": [
    "#Sử dụng lambda tạo một danh sách mới là bình phương của phần tử trong danh sách cũ\n",
    "my_list = [1, 5, 4, 6, 8, 11, 3, 12]\n",
    "new_list = list(map(lambda x: x*2, my_list))\n",
    "print(new_list) \n",
    "print(type(new_list))"
   ]
  },
  {
   "cell_type": "code",
   "execution_count": null,
   "metadata": {},
   "outputs": [],
   "source": [
    "new_tuple = tuple(map(lambda x: x*2, my_list))\n",
    "print(new_tuple) \n",
    "print(type(new_tuple))"
   ]
  },
  {
   "cell_type": "code",
   "execution_count": null,
   "metadata": {},
   "outputs": [],
   "source": [
    "new_set = set(map(lambda x: x*2, my_list))\n",
    "print(new_set) \n",
    "print(type(new_set))"
   ]
  },
  {
   "cell_type": "code",
   "execution_count": null,
   "metadata": {},
   "outputs": [],
   "source": [
    "#so sánh giữa hàm truyền thống và lambda:\n",
    "def square(x):\n",
    "    return x**2\n",
    "\n",
    "#----------------------------------\n",
    "square_lambda = lambda x: x**2"
   ]
  },
  {
   "cell_type": "code",
   "execution_count": null,
   "metadata": {},
   "outputs": [],
   "source": [
    "print(square(10))\n",
    "print(square_lambda(10))"
   ]
  },
  {
   "cell_type": "markdown",
   "metadata": {},
   "source": [
    "Traditional Functions\t--->  Lambda Functions\n",
    "* They can have multiple expressions/ statements in their body.\t--->  \tThey can have just a single expression in their body.\n",
    "\n",
    "* These can have default values for their parameters.\t--->  \tLambda parameters can’t have default values.\n",
    "\n",
    "* Normal function can return an object of any type.\t\t--->  Lambda function always returns a function object.\n",
    "\n",
    "* It takes more time for execution as compared to lambda functions.\t\t--->  These take relatively less time.\n",
    "\n",
    "* Require more lines of code.\t\t--->  It requires a maximum of two lines of code to define and call a lambda function."
   ]
  },
  {
   "cell_type": "code",
   "execution_count": null,
   "metadata": {},
   "outputs": [],
   "source": []
  },
  {
   "cell_type": "markdown",
   "metadata": {},
   "source": [
    "# THỰC HÀNH:\n",
    "---\n",
    "## BÀI 18: Viết hàm cho các bài đã thực hiện\n",
    "1. Viết hàm greeting(): Trả về câu chào với tham số truyền vào là chuỗi họ tên và năm sinh (Xem lại bài tập số 2)\n",
    "2. Viết hàm rabbit_count(): tính số thỏ trong rừng khi truyền vào số tháng (Xem lại bài tập số 3)\n",
    "3. Viết hàm count_mark(): trả về số sinh viên học lại và tổng số sinh viên trong lớp với tham số truyền vào là một danh sách bảng điểm (Xem lại bài tập số 5 ý 1, 2)\n",
    "4. Viết hàm bmi_show(): Trả về nhận xét dựa vào chỉ số BMI đã tính với 2 tham số truyền vào là chiều cao, cân nặng (Xem lại bài tập số 7)\n",
    "5. Viết hàm cal_point(): Trả về điểm trung bình hệ 10 và hệ 4 của một học sinh khi truyền vào danh sách điểm (Xem lại bài tập số 10 ý 2)\n",
    "6. Viết hàm list_prime(): trả danh sách các số nguyên tố trong khoảng tử 1 đến n với tham số truyền vào là n (Xem lại bài tập số 12)"
   ]
  },
  {
   "cell_type": "code",
   "execution_count": null,
   "metadata": {},
   "outputs": [],
   "source": [
    "#{HỌC VIÊN VIẾT CODE Ở ĐÂY}\n",
    "\n",
    "\n",
    "\n",
    "\n",
    "\n"
   ]
  },
  {
   "cell_type": "code",
   "execution_count": null,
   "metadata": {},
   "outputs": [],
   "source": []
  },
  {
   "cell_type": "markdown",
   "metadata": {},
   "source": [
    "7. Xây dựng hàm thực hiện chức năng sau theo phương pháp đệ quy:\n",
    "Truyền vào một số tự nhiên N, \n",
    "    * Nếu N là số chẵn tính tổng tất cả các số chẵn từ 0 tới N\n",
    "    * Nếu N là số lẻ tỉnh tổng tất cả các số lẻ từ 1 tới N\n"
   ]
  },
  {
   "cell_type": "code",
   "execution_count": null,
   "metadata": {},
   "outputs": [],
   "source": [
    "#{HỌC VIÊN VIẾT CODE Ở ĐÂY}\n",
    "\n",
    "\n",
    "\n",
    "\n",
    "\n"
   ]
  },
  {
   "cell_type": "code",
   "execution_count": null,
   "metadata": {},
   "outputs": [],
   "source": []
  },
  {
   "cell_type": "code",
   "execution_count": null,
   "metadata": {},
   "outputs": [],
   "source": []
  },
  {
   "cell_type": "code",
   "execution_count": null,
   "metadata": {},
   "outputs": [],
   "source": []
  },
  {
   "cell_type": "code",
   "execution_count": null,
   "metadata": {},
   "outputs": [],
   "source": []
  },
  {
   "cell_type": "code",
   "execution_count": null,
   "metadata": {},
   "outputs": [],
   "source": []
  },
  {
   "cell_type": "markdown",
   "metadata": {},
   "source": [
    "# 2. Lớp, đối tượng trong Python\n",
    "---\n",
    "Một số khái niệm hướng đối tượng:\n",
    "* **Thuộc tính (Attribute):** \n",
    "    * Dùng để chứa các thông tin mô tả các đặc điểm của đối tượng. Sử dụng các biến để lưu giữ những thông tin này. Khi đó các biến được gọi là các thuộc tính.\n",
    "    * Thuộc tính là một thành viên của lớp, Hình chữ nhật có 2 thuộc tính width và height\n",
    "* **Phương thức (Method):**\n",
    "    * dùng để mô tả các hành vi của đối tượng.Sử dụng các hàm để mô tả các hành vi này. Khi đó các hàm được gọi là các phương thức.!\n",
    "    * Phương thức của class tương tự như một hàm thông thường, nhưng nó là một hàm của class. Để sử dụng được cần phải gọi thông qua đối tượng.\n",
    "    * Tham số đầu tiên của phương thức luôn là self (Một từ khóa ám chỉ chính class đó)\n",
    "* **Phương thức khởi tạo (Constructor):**\n",
    "    * Là một phương thức đặc biệt của lớp, luôn có tên là __init__. Tham số đầu tiên luôn là self. Từ khoá self ở đây thể hiện cho chính bản thân class.  \n",
    "    * Chỉ có thể định nghĩa một contructor trong class\n",
    "    * Constructor được sử dụng để tạo ra một đối tượng.\n"
   ]
  },
  {
   "cell_type": "code",
   "execution_count": null,
   "metadata": {},
   "outputs": [],
   "source": [
    "#Tạo một lớp Rectangle\n",
    "class Rectangle:\n",
    "    #Lớp Rectangle có 2 thuộc tính: width, height\n",
    "\n",
    "    #Phương thức khởi tạo đối tượng (Contructor)\n",
    "    def __init__(self, width, height):\n",
    "        self.width = width\n",
    "        self.height = height\n",
    "    \n",
    "    #Lớp Rectangle có 2 phương thức: \n",
    "    #1. Phương thức tính diện tích\n",
    "    def getArea(self):\n",
    "        area = round(self.width * self.height,1)\n",
    "        return area\n",
    "   \n",
    "    #2. Phương thức tính chu vi\n",
    "    def getPerimeter(self):\n",
    "        perimeter = round((self.width + self.height)*2,1)\n",
    "        return perimeter   "
   ]
  },
  {
   "cell_type": "code",
   "execution_count": null,
   "metadata": {},
   "outputs": [],
   "source": [
    "#Ví dụ: Tạo 2 đối tượng r1, r2 từ class Rectangle\n",
    "r1 = Rectangle(10,8)\n",
    "r2 = Rectangle(20,11)"
   ]
  },
  {
   "cell_type": "code",
   "execution_count": null,
   "metadata": {},
   "outputs": [],
   "source": []
  },
  {
   "cell_type": "code",
   "execution_count": null,
   "metadata": {},
   "outputs": [],
   "source": [
    "#Lấy thuộc tính width, height  của đối tượng rec1\n",
    "x = r1.width\n",
    "y = r1.height\n",
    "print('----Thuộc tính----------------')\n",
    "print('1. Thuộc tính Chiều rộng: ', x)\n",
    "print('2. Thuộc tính Chiều dài: ', y)"
   ]
  },
  {
   "cell_type": "code",
   "execution_count": null,
   "metadata": {},
   "outputs": [],
   "source": [
    "#Gọi phương thức getArea, getPerimeter của đối tượng rec1\n",
    "dt = r1.getArea()\n",
    "cv = r1.getPerimeter()\n",
    "print('---------Phương thức----------')\n",
    "print('1. Phương thức tính Diện tích:', dt)\n",
    "print('2. Phương thức tính Chu vi:',cv)"
   ]
  },
  {
   "cell_type": "code",
   "execution_count": null,
   "metadata": {},
   "outputs": [],
   "source": [
    "r1.width"
   ]
  },
  {
   "cell_type": "code",
   "execution_count": null,
   "metadata": {},
   "outputs": [],
   "source": [
    "#Thiết lập lại giá trị thuộc tính của đối tượng\n",
    "r1.width = 15"
   ]
  },
  {
   "cell_type": "code",
   "execution_count": null,
   "metadata": {},
   "outputs": [],
   "source": []
  },
  {
   "cell_type": "code",
   "execution_count": null,
   "metadata": {},
   "outputs": [],
   "source": [
    "print (r1.width,' -- :Diện tích: ',r1.getArea())"
   ]
  },
  {
   "cell_type": "code",
   "execution_count": null,
   "metadata": {},
   "outputs": [],
   "source": []
  },
  {
   "cell_type": "code",
   "execution_count": null,
   "metadata": {},
   "outputs": [],
   "source": [
    "#Setup giá trị mặc định cho thuộc tính của đối tượng và thuộc tính cố định ko thể thay đôi\n",
    "#Tạo một lớp Rectangle\n",
    "class Rectangle1:\n",
    "    version = '1.0.1'\n",
    "    \n",
    "    def __init__(self, width = 8, height = 4):\n",
    "        self.width = width\n",
    "        self.height = height\n",
    "       \n",
    "    #Phương thức tính diện tích\n",
    "    def getArea(self):\n",
    "        area = round(self.width * self.height,1)\n",
    "        return area\n",
    "   \n",
    "    #Phương thức tính chu vi\n",
    "    def getPerimeter(self):\n",
    "        perimeter = round((self.width + self.height)*2,1)\n",
    "        return perimeter   "
   ]
  },
  {
   "cell_type": "code",
   "execution_count": null,
   "metadata": {},
   "outputs": [],
   "source": [
    "#Khởi tạo đối tượng\n",
    "r3 = Rectangle1()"
   ]
  },
  {
   "cell_type": "code",
   "execution_count": null,
   "metadata": {},
   "outputs": [],
   "source": [
    "r3.version"
   ]
  },
  {
   "cell_type": "code",
   "execution_count": null,
   "metadata": {},
   "outputs": [],
   "source": [
    "#Lấy thuộc tính width, height  của đối tượng rec1\n",
    "x = r3.width\n",
    "y = r3.height\n",
    "print('----Thuộc tính----------------')\n",
    "print('1. Thuộc tính Chiều rộng: ', x)\n",
    "print('2. Thuộc tính Chiều dài: ', y)"
   ]
  },
  {
   "cell_type": "markdown",
   "metadata": {},
   "source": [
    "## Thừa kế (Inheritance)\n",
    "---\n",
    "* Việc thực hiện thao tác thừa kế là đơn giản và hiệu quả, trong đó cho phép tạo ra môt lớp mới từ một lớp có sẵn. \n",
    "* Lớp mới dẫn xuất từ lớp có sẵn có thể tái sử dụng các biến và phương thức của nó mà không cần phải viết lại hoặc sửa lại đoạn mã.\n",
    "* Khi thực hiện thừa kế, lớp được dẫn xuất từ lớp khác được gọi là phân lớp, lớp dẫn xuất, lớp con; Lớp mà từa đó phân lớp được dẫn xuất thì được gọi là siêu lớp, lớp cơ sở, lớp cha\n",
    "\n",
    "<img src='Pic/Picture1.jpg' width='600px'>\n",
    "\n",
    "\n",
    "* **Đơn thừa kế (Single):** Xảy ra khi một lớp con thừa kế chỉ một lớp cha\n",
    "* **Thừa kế nhiều mức (Multilevel):** Khi một lớp con dẫn xuất từ một lớp cha và bản thân lớp cha lại là con của một lớp khác.\n",
    "* **Thừa kế phân cấp (Hierarchical):** Loại thừa kế này xảy ra khi một lớp cha có nhiều hơn một lớp con ở những mức khác nhau.\n",
    "* **Đa thừa kế (Multiple):** Xảy ra khi một lớp con dẫn xuất từ nhiều hơn một lớp cha\n"
   ]
  },
  {
   "cell_type": "code",
   "execution_count": null,
   "metadata": {},
   "outputs": [],
   "source": [
    "import matplotlib.pyplot as plt\n",
    "import matplotlib.patches as mpatches\n",
    "\n",
    "#Khai báo lớp Square thừa kế từ lớp Rectangle\n",
    "class Square(Rectangle):\n",
    "    #dùng super() để gọi đến hàm tạo của lớp cha\n",
    "    def __init__(self, width = 15, color='red'):\n",
    "        super().__init__(width, width)\n",
    "        self.color=color #Lớp square có thêm thuộc tính color\n",
    "    \n",
    "    #Thêm phương thức draw() để vẽ hình vuông theo width và color\n",
    "    def draw(self):\n",
    "        x = self.width\n",
    "        c = self.color\n",
    "        fig, ax = plt.subplots(figsize=(4,4))\n",
    "        square = plt.Rectangle((0, 0), x, x, color=c)\n",
    "        ax.add_patch(square)\n",
    "        automin, automax = plt.xlim()\n",
    "        plt.xlim(0-10, x+10)\n",
    "        automin, automax = plt.ylim()\n",
    "        plt.ylim(0-10, x+10)\n",
    "        plt.grid(True)\n",
    "        plt.show()\n",
    "        "
   ]
  },
  {
   "cell_type": "code",
   "execution_count": null,
   "metadata": {},
   "outputs": [],
   "source": [
    "#Khai báo đối tượng a thuộc lớp Square\n",
    "a = Square(30,'yellow')"
   ]
  },
  {
   "cell_type": "code",
   "execution_count": null,
   "metadata": {},
   "outputs": [],
   "source": [
    "#Tái sử dụng các thuộc tính của lớp Rectangle\n",
    "print(a.width)\n",
    "print(a.height)\n",
    "\n",
    "#Bổ sung thêm thuộc tính mới cho lớp Square\n",
    "print(a.color)"
   ]
  },
  {
   "cell_type": "code",
   "execution_count": null,
   "metadata": {},
   "outputs": [],
   "source": [
    "#Tái sử dụng các phương thức của lớp Rectangle\n",
    "print('Diện tích hình vuông:', a.getArea())\n",
    "print('Chu vi hình vuông:', a.getPerimeter())"
   ]
  },
  {
   "cell_type": "code",
   "execution_count": null,
   "metadata": {},
   "outputs": [],
   "source": [
    "#Sử dụng phương thức mới draw của lớp Square\n",
    "a.draw()"
   ]
  },
  {
   "cell_type": "code",
   "execution_count": null,
   "metadata": {},
   "outputs": [],
   "source": []
  },
  {
   "cell_type": "markdown",
   "metadata": {},
   "source": [
    "# THỰC HÀNH:\n",
    "---\n",
    "## BÀI 19: Xây dựng lớp Person:\n",
    "1. Gồm các Thuộc tính: \n",
    "    * họ tên (name), năm sinh (year), chiều cao height), cân nặng (weight)\n",
    "    * Giá trị mặc định của các thuộc tính là thông tin của bạn\n",
    "\n",
    "2. Gồm các Phương thức: \n",
    "    * Geeting(): Hiển thị thông tin của Person\n",
    "    * BMI(): Tính toán theo chỉ số BMI của Person\n"
   ]
  },
  {
   "cell_type": "code",
   "execution_count": null,
   "metadata": {},
   "outputs": [],
   "source": []
  },
  {
   "cell_type": "code",
   "execution_count": null,
   "metadata": {},
   "outputs": [],
   "source": []
  },
  {
   "cell_type": "code",
   "execution_count": null,
   "metadata": {},
   "outputs": [],
   "source": []
  },
  {
   "cell_type": "code",
   "execution_count": null,
   "metadata": {},
   "outputs": [],
   "source": []
  },
  {
   "cell_type": "code",
   "execution_count": null,
   "metadata": {},
   "outputs": [],
   "source": []
  },
  {
   "cell_type": "code",
   "execution_count": null,
   "metadata": {},
   "outputs": [],
   "source": []
  },
  {
   "cell_type": "code",
   "execution_count": null,
   "metadata": {},
   "outputs": [],
   "source": []
  },
  {
   "cell_type": "markdown",
   "metadata": {},
   "source": [
    "**2. Xây dựng lớp Vietnam, kế thừa từ lớp Person:**\n",
    "* Kế thừa tất cả các thuộc tính của lớp Person và Bổ sung thêm Thuộc tính: \n",
    "Dân tộc (nation), giá trịnh mặc định là “Kinh”\n",
    "* Kế thừa phương thức BMI của lớp Person và  cập nhật lại Phương thức Geeting() (Method overriding): \n",
    "\n",
    "Ví dụ Geeting(): \n",
    "\n",
    "Tôi tên là:  Thanh Huyền - Dân tộc: Tày\n",
    "\n",
    "Tôi sinh năm  2000 . Rất vui được làm quyen với bạn!"
   ]
  },
  {
   "cell_type": "code",
   "execution_count": null,
   "metadata": {},
   "outputs": [],
   "source": [
    "#{HỌC VIÊN VIẾT CODE Ở ĐÂY}\n",
    "\n",
    "\n",
    "\n",
    "\n",
    "\n"
   ]
  },
  {
   "cell_type": "code",
   "execution_count": null,
   "metadata": {},
   "outputs": [],
   "source": []
  },
  {
   "cell_type": "code",
   "execution_count": null,
   "metadata": {},
   "outputs": [],
   "source": []
  },
  {
   "cell_type": "markdown",
   "metadata": {},
   "source": [
    "# 3. Module và Package\n",
    "---\n",
    "Module hiểu ngắn gọn là một file python mà trong đó chứa các khai báo và định nghĩa về hàm số và biến. Các chương trình python sẽ được thiết kế sao cho nội dung được chia nhỏ về các files module để dễ dàng quản lý. Chúng ta có thể dễ dàng import lại các khai báo và định nghĩa từ module này sang module khác.\n",
    "\n",
    "Đối với những chương trình mà thường xuyên được sử dụng lặp lại ở những chương trình khác thì chúng ta sẽ tìm cách đóng gói chúng thành những packages. Như vậy khi tái sử dụng chúng, chúng ta chỉ việc gọi lại từ thư viện của interpreter mà không cần viết lại code. Một package sẽ có thiết kế bao gồm nhiều files module.\n",
    "<img src='Pic/Picture2.jpg'>"
   ]
  },
  {
   "cell_type": "code",
   "execution_count": null,
   "metadata": {},
   "outputs": [],
   "source": [
    "#Tạo một file moduleNam.py lưu cùng thư mục với file jupyter, chứa 3 hàm đã xây dựng\n",
    "#1. Hello_AIV()\n",
    "#2. giai_thua()\n",
    "#3. all_ab()\n",
    "\n",
    "\n",
    "import moduleNam"
   ]
  },
  {
   "cell_type": "code",
   "execution_count": null,
   "metadata": {},
   "outputs": [],
   "source": []
  },
  {
   "cell_type": "code",
   "execution_count": null,
   "metadata": {},
   "outputs": [],
   "source": []
  },
  {
   "cell_type": "code",
   "execution_count": null,
   "metadata": {},
   "outputs": [],
   "source": []
  },
  {
   "cell_type": "code",
   "execution_count": null,
   "metadata": {},
   "outputs": [],
   "source": []
  },
  {
   "cell_type": "code",
   "execution_count": null,
   "metadata": {},
   "outputs": [],
   "source": []
  },
  {
   "cell_type": "code",
   "execution_count": null,
   "metadata": {},
   "outputs": [],
   "source": []
  },
  {
   "cell_type": "code",
   "execution_count": null,
   "metadata": {},
   "outputs": [],
   "source": []
  },
  {
   "cell_type": "code",
   "execution_count": null,
   "metadata": {},
   "outputs": [],
   "source": [
    "#gọi package để sử dụng\n",
    "import math\n",
    "\n",
    "#Liệt kê tất cả các phương thức, thuộc tính của package math\n",
    "print (dir(math))"
   ]
  },
  {
   "cell_type": "code",
   "execution_count": null,
   "metadata": {},
   "outputs": [],
   "source": [
    "#Gọi module pi trong package math\n",
    "x = math.pi\n",
    "x"
   ]
  },
  {
   "cell_type": "code",
   "execution_count": null,
   "metadata": {},
   "outputs": [],
   "source": [
    "math.sqrt(100)"
   ]
  },
  {
   "cell_type": "code",
   "execution_count": null,
   "metadata": {},
   "outputs": [],
   "source": [
    "print (math.__name__)"
   ]
  },
  {
   "cell_type": "code",
   "execution_count": null,
   "metadata": {},
   "outputs": [],
   "source": []
  },
  {
   "cell_type": "code",
   "execution_count": null,
   "metadata": {},
   "outputs": [],
   "source": []
  },
  {
   "cell_type": "code",
   "execution_count": null,
   "metadata": {},
   "outputs": [],
   "source": [
    "#Test một số package quan trọng\n",
    "import numpy as np\n",
    "import pandas as pd\n",
    "import matplotlib as plt\n"
   ]
  },
  {
   "cell_type": "code",
   "execution_count": null,
   "metadata": {},
   "outputs": [],
   "source": [
    "import matplotlib.pyplot as plt "
   ]
  },
  {
   "cell_type": "code",
   "execution_count": null,
   "metadata": {},
   "outputs": [],
   "source": [
    "print('Numpy: ',np.__version__)"
   ]
  },
  {
   "cell_type": "code",
   "execution_count": null,
   "metadata": {},
   "outputs": [],
   "source": [
    "print('Pandas: ',pd.__version__)"
   ]
  },
  {
   "cell_type": "code",
   "execution_count": null,
   "metadata": {},
   "outputs": [],
   "source": [
    "print('Matplotlib: ',plt.__version__)"
   ]
  },
  {
   "cell_type": "code",
   "execution_count": null,
   "metadata": {},
   "outputs": [],
   "source": [
    "dir(pd)"
   ]
  },
  {
   "cell_type": "code",
   "execution_count": null,
   "metadata": {},
   "outputs": [],
   "source": [
    "pd.__name__"
   ]
  },
  {
   "cell_type": "markdown",
   "metadata": {},
   "source": [
    "# 4. Làm việc với tập tin trong Python\n",
    "---\n",
    "## 4.1) Read file"
   ]
  },
  {
   "cell_type": "code",
   "execution_count": null,
   "metadata": {},
   "outputs": [],
   "source": [
    "#Mở file để đọc dữ liệu\n",
    "f = open('Testfile.txt')\n",
    "\n",
    "#Đọc nội dung của file vào biến st\n",
    "st = f.read()\n",
    "\n",
    "print('Nội dung file:')\n",
    "print(st)\n",
    "\n",
    "f.close()"
   ]
  },
  {
   "cell_type": "code",
   "execution_count": null,
   "metadata": {},
   "outputs": [],
   "source": [
    "#Mở file để đọc dữ liệu\n",
    "f = open('Testfile.txt',\"r\")\n",
    "\n",
    "#Đọc 10 ký tự đầu tiên của file\n",
    "st1 = f.read(10)\n",
    "\n",
    "print(st1, ' -- Số ký tự là: ', len(st1))"
   ]
  },
  {
   "cell_type": "code",
   "execution_count": null,
   "metadata": {},
   "outputs": [],
   "source": [
    "#Mở file để đọc dữ liệu\n",
    "f = open('FileDemo.txt')\n",
    "\n",
    "#Đọc từng dòng dữ liệu của file\n",
    "print(f.readline())\n",
    "print(f.readline())\n",
    "\n",
    "f.close() #Đóng file dữ liệu"
   ]
  },
  {
   "cell_type": "code",
   "execution_count": null,
   "metadata": {},
   "outputs": [],
   "source": [
    "#Mở file đọc dữ liệu với with:\n",
    "with open('Testfile.txt') as f:\n",
    "    lines = f.readlines()\n",
    "\n",
    "print(lines)\n",
    "f.close()"
   ]
  },
  {
   "cell_type": "code",
   "execution_count": null,
   "metadata": {},
   "outputs": [],
   "source": [
    "#Mở file để đọc dữ liệu\n",
    "f = open(\"FileDemo.txt\", \"r\")\n",
    "\n",
    "content = []\n",
    "\n",
    "#đọc tất cả các dòng của file\n",
    "for x in f:\n",
    "    content.append(x)\n",
    "\n",
    "print(content)\n",
    "f.close() #Đóng file dữ liệu"
   ]
  },
  {
   "cell_type": "code",
   "execution_count": null,
   "metadata": {},
   "outputs": [],
   "source": []
  },
  {
   "cell_type": "markdown",
   "metadata": {},
   "source": [
    "## 4.2) Write file\n",
    "---"
   ]
  },
  {
   "cell_type": "code",
   "execution_count": null,
   "metadata": {},
   "outputs": [],
   "source": [
    "#Mở file với chế độ ghi đè (w):\n",
    "#nếu như file không tồn tại thì nó sẽ tạo mới file và ghi nội dung, \n",
    "#còn nếu như file đã tồn tại nó sẽ ghi đè nội dung lên file cũ.\n",
    "f1 = open('FileDemo.txt', 'w')\n",
    "\n",
    "#Dữ liệu muốn ghi vào file\n",
    "st = 'Welcome to Python for Analysis.....123!'\n",
    "\n",
    "f1.write(st) #Ghi dữ liệu vào file\n",
    "f1.close() #Đóng file\n",
    "\n",
    "#Mở file mới ghi dữ liệu:\n",
    "f = open(\"FileDemo.txt\", \"r\")\n",
    "print(f.read())"
   ]
  },
  {
   "cell_type": "code",
   "execution_count": null,
   "metadata": {},
   "outputs": [],
   "source": [
    "#Mở file với chế độ ghi tiếp (a):\n",
    "# Nếu file đã tồn tại rồi thì nó sẽ ghi tiếp nội dung, \n",
    "# và nếu như file chưa tồn tại thì nó sẽ tạo một file mới và ghi nội dung vào đó.\n",
    "f1 = open('FileDemo.txt', 'a+')\n",
    "\n",
    "#Dữ liệu muốn ghi vào file\n",
    "st = 'This is new line.....'\n",
    "\n",
    "f1.write(st) #Ghi tiếp dữ liệu vào file\n",
    "f1.close() #Đóng file"
   ]
  },
  {
   "cell_type": "code",
   "execution_count": null,
   "metadata": {},
   "outputs": [],
   "source": [
    "#Mở file với chế độ ghi đè (x):\n",
    "#Tạo file mới để ghi dữ liệu, nếu file đã tồn tại sẽ báo lỗi\n",
    "f1 = open('FileDemo1.txt', 'x')\n",
    "\n",
    "#Dữ liệu muốn ghi vào file\n",
    "st = 'Welcome to Python for Analysis.....123!'\n",
    "\n",
    "f1.write(st) #Ghi dữ liệu vào file\n",
    "f1.close() #Đóng file\n",
    "\n",
    "#Mở file mới ghi dữ liệu:\n",
    "f = open(\"FileDemo1.txt\", \"r\")\n",
    "print(f.read())"
   ]
  },
  {
   "cell_type": "code",
   "execution_count": null,
   "metadata": {},
   "outputs": [],
   "source": [
    "#open and read the file after the appending:\n",
    "f = open(\"FileDemo.txt\", \"r\")\n",
    "print(f.read())"
   ]
  },
  {
   "cell_type": "code",
   "execution_count": null,
   "metadata": {},
   "outputs": [],
   "source": [
    "#Lấy các thông số của file\n",
    "f2 = open('FileDemo1.txt')\n",
    "\n",
    "print('1.Tên file:',f2.name)\n",
    "print('2.Chế độ mở file:',f2.mode)\n",
    "print('3.Trạng thái đóng file:',f2.closed)"
   ]
  },
  {
   "cell_type": "code",
   "execution_count": null,
   "metadata": {},
   "outputs": [],
   "source": []
  },
  {
   "cell_type": "markdown",
   "metadata": {},
   "source": [
    "# THỰC HÀNH\n",
    "---\n",
    "## BÀI 20: Đọc/ghi file\n",
    "Đọc dữ liệu trong file dayso1_bai20.txt:\n",
    "1. Tìm phần tử lớn nhất và nhỏ nhất trong dãy, sau đó thực hiện đổi chỗ phần tử lớn nhất xuất hiện đầu tiên trong dãy cho phần tử nhỏ nhất xuất hiện đầu tiên trong dãy.\n",
    "2. Lưu dãy mới đã đổi chỗ sang file dayso2_bai20.txt\n",
    "\n",
    "*Xem hình minh họa trong file slide bài giảng*"
   ]
  },
  {
   "cell_type": "code",
   "execution_count": null,
   "metadata": {},
   "outputs": [],
   "source": [
    "#{HỌC VIÊN VIẾT CODE Ở ĐÂY}\n",
    "\n",
    "\n",
    "\n",
    "\n"
   ]
  },
  {
   "cell_type": "code",
   "execution_count": null,
   "metadata": {},
   "outputs": [],
   "source": []
  },
  {
   "cell_type": "code",
   "execution_count": null,
   "metadata": {},
   "outputs": [],
   "source": []
  },
  {
   "cell_type": "code",
   "execution_count": null,
   "metadata": {},
   "outputs": [],
   "source": []
  },
  {
   "cell_type": "code",
   "execution_count": null,
   "metadata": {},
   "outputs": [],
   "source": []
  },
  {
   "cell_type": "markdown",
   "metadata": {},
   "source": [
    "# 5. MultiThreading, Multiprocessing trong Python\n",
    "---\n",
    "\n",
    "### 5.1 MultiThreading\n",
    "\n",
    "* Một chương trình đa luồng chứa hai hoặc nhiều phần mà có thể chạy đồng thời và mỗi phần có thể xử lý tác vụ khác nhau tại cùng một thời điểm được gọi là Đa luồng. --> Giúp sử dụng tốt nhất các tài nguyên sẵn có của máy tính.\n",
    "\n",
    "<img src='Pic/Picture3.png' width='400px'>"
   ]
  },
  {
   "cell_type": "code",
   "execution_count": 11,
   "metadata": {},
   "outputs": [],
   "source": [
    "#Hàm tính bình phương của x:\n",
    "def cal_square(numbers):\n",
    "\tprint(\"calculate square number\")\n",
    "\tfor n in numbers:\n",
    "\t\ttime.sleep(0.2)\n",
    "\t\tprint ('square:', n*n)\n",
    "\n",
    "#Hàm tính lập phương của x:\n",
    "def cal_cube(numbers):\n",
    "\tprint(\"calculate cube number\")\n",
    "\tfor n in numbers:\n",
    "\t\ttime.sleep(0.2)\n",
    "\t\tprint ('cube:', n*n*n)"
   ]
  },
  {
   "cell_type": "code",
   "execution_count": 12,
   "metadata": {},
   "outputs": [
    {
     "name": "stdout",
     "output_type": "stream",
     "text": [
      "calculate square number\n",
      "square: 225\n",
      "square: 729\n",
      "square: 2401\n",
      "square: 4624\n",
      "calculate cube number\n",
      "cube: 3375\n",
      "cube: 19683\n",
      "cube: 117649\n",
      "cube: 314432\n",
      "done in  1.6277620792388916\n"
     ]
    }
   ],
   "source": [
    "#Thời gian thực hiện với đơn luồng (tuần tự)\n",
    "import time\n",
    "arr = [15,27,49,68]\n",
    "t = time.time()\n",
    "cal_square(arr) #Thực hiện tính arr bình phương\n",
    "cal_cube(arr)   #Thực hiện tính arr lập phương\n",
    "print (\"done in \", time.time()- t)"
   ]
  },
  {
   "cell_type": "code",
   "execution_count": 13,
   "metadata": {},
   "outputs": [
    {
     "name": "stdout",
     "output_type": "stream",
     "text": [
      "calculate square number\n",
      "calculate cube number\n",
      "square: 225\n",
      "cube: 3375\n",
      "cube:square: 19683\n",
      " 729\n",
      "square:cube: 2401\n",
      " 117649\n",
      "square:cube: 4624\n",
      " 314432\n",
      "done in  0.8162329196929932\n"
     ]
    }
   ],
   "source": [
    "#Thời gian thực hiện với 2 luồng\n",
    "from threading import Thread\n",
    "import threading\n",
    "import time\n",
    "arr = [15,27,49,68]\n",
    "try:\n",
    "\tt = time.time()\n",
    "    #Tạo 2 luồng thread\n",
    "\tt1 = threading.Thread(target=cal_square, args=(arr,))\n",
    "\tt2 = threading.Thread(target=cal_cube, args=(arr,))\n",
    "\tt1.start() #Bắt đầu thread 1\n",
    "\tt2.start() #Bắt đầu thread 2\n",
    "\tt1.join()  #Chờ tới khi thread 1 hoàn thành\n",
    "\tt2.join()  #Chờ tới khi thread 2 hoàn thành\n",
    "\tprint (\"done in \", time.time()- t)\n",
    "except:\n",
    "\tprint (\"error\")"
   ]
  },
  {
   "cell_type": "code",
   "execution_count": null,
   "metadata": {},
   "outputs": [],
   "source": []
  },
  {
   "cell_type": "markdown",
   "metadata": {},
   "source": [
    "### 5.2 Multiprocessing\n",
    "---\n",
    "Xử lý đa tiến trình (Multiprocessing) là khả năng của một hệ thống hỗ trợ nhiều bộ vi xử lý cùng một lúc. Các ứng dụng của hệ thống đa xử lý được chia thành nhiều tiến trình nhỏ và chạy độc lập cùng nhau (xử lý song song) --> Cải thiện hiệu suất của hệ thống\n",
    "\n",
    "<img src='Pic/Picture4.jpg'>\n",
    "\n",
    "https://laptrinhx.com/multithreading-vs-multiprocessing-1494474039/\n"
   ]
  },
  {
   "cell_type": "code",
   "execution_count": null,
   "metadata": {},
   "outputs": [],
   "source": []
  },
  {
   "cell_type": "code",
   "execution_count": null,
   "metadata": {},
   "outputs": [],
   "source": []
  }
 ],
 "metadata": {
  "kernelspec": {
   "display_name": "Python 3 (ipykernel)",
   "language": "python",
   "name": "python3"
  },
  "language_info": {
   "codemirror_mode": {
    "name": "ipython",
    "version": 3
   },
   "file_extension": ".py",
   "mimetype": "text/x-python",
   "name": "python",
   "nbconvert_exporter": "python",
   "pygments_lexer": "ipython3",
   "version": "3.9.7"
  }
 },
 "nbformat": 4,
 "nbformat_minor": 2
}
