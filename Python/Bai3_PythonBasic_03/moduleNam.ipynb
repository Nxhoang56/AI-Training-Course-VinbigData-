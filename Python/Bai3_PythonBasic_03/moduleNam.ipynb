{
 "cells": [
  {
   "cell_type": "code",
   "execution_count": null,
   "id": "8524f782",
   "metadata": {},
   "outputs": [],
   "source": [
    "def greeting(name='Hoang', year =2000):\n",
    "    '''\n",
    "    Ham chao hoi\n",
    "    input: ten, nam sinh\n",
    "    '''\n",
    "    \n",
    "    Name = name.upper()\n",
    "    old =  2022-int(year)\n",
    "    print(f' Chao Bạn \"{Name}\" - {old} tuổi!')\n",
    "\n",
    "greeting('Minh Thang', 2003)\n",
    "def cal_point(score = [2.5, 8.4, 9.5, 3]):\n",
    "    print('Diem he 10: {}'.format(score))\n",
    "    so_mon_hoc = len(score)\n",
    "    tong = 0.0\n",
    "    for i in score:\n",
    "        tong+= i\n",
    "    avr_score = tong/so_mon_hoc\n",
    "    print('Diem trung binh he 10: ', avr_score)\n",
    "    print('Diem trung binh he 4:', avr_score*4/10 )\n",
    "cal_point([9])\n",
    "\n"
   ]
  }
 ],
 "metadata": {
  "kernelspec": {
   "display_name": "Python 3 (ipykernel)",
   "language": "python",
   "name": "python3"
  },
  "language_info": {
   "codemirror_mode": {
    "name": "ipython",
    "version": 3
   },
   "file_extension": ".py",
   "mimetype": "text/x-python",
   "name": "python",
   "nbconvert_exporter": "python",
   "pygments_lexer": "ipython3",
   "version": "3.9.12"
  }
 },
 "nbformat": 4,
 "nbformat_minor": 5
}
