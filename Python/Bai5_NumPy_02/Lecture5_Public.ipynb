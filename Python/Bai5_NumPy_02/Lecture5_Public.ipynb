{
 "cells": [
  {
   "cell_type": "markdown",
   "metadata": {
    "colab_type": "text",
    "id": "wDtyCjZ4yc-W"
   },
   "source": [
    "## <img src ='Pic\\logo.jpg' width='500px'>\n",
    "\n",
    "\n",
    "<div align=\"center\">\n",
    "\n",
    "# KHÓA HỌC: LẬP TRÌNH PYTHON CƠ BẢN\n",
    "\n",
    "</div>\n",
    "\n",
    "-----\n",
    "Bài 5 - Làm việc với Thư viện NumPy - Phần 02\n",
    "----\n",
    "Giảng Viên: Đặng Văn Nam\n",
    "\n",
    "Email: namdv@aiacademy.edu.vn"
   ]
  },
  {
   "cell_type": "markdown",
   "metadata": {},
   "source": [
    "**NỘI DUNG BÀI 5:**\n",
    "1. **Chuyển đổi Vector, Array**\n",
    "    * Reshape, Ravel, Concatenate, Split, Hsplit, Vsplit, Flip\n",
    "2. **Tính toán trên mảng**\n",
    "    * Arithmetic operators | Abs | Trigonometric | Exponents|logarithms | Round \n",
    "3. **Sắp xếp các phần tử trong mảng (sort)**\n",
    "    * Sắp xếp Vector| Sắp xếp Matrix\n",
    "4. **Tìm kiếm các phần tử trong mảng (where)**\n",
    "5. **Ma trận vuông**\n",
    "    * det(A)| A-1 | diagonal | Matrix below diagonal | trace of matrix|Eigen\n",
    "6. **Phép toán trên 2 ma trận**\n",
    "    * nq.equal| np.add | np.subtract | np.dot (@)\n",
    "7. **Rank(A), A.T**"
   ]
  },
  {
   "cell_type": "code",
   "execution_count": 1,
   "metadata": {},
   "outputs": [],
   "source": [
    "#Gọi các thư viện sử dụng\n",
    "import numpy as np"
   ]
  },
  {
   "cell_type": "markdown",
   "metadata": {},
   "source": [
    "## 1) Kết hợp, chuyển đổi vector, matrix\n",
    "---\n",
    "### 1.1) reshape\n",
    "<img src='Pic\\reshape.png' width = '500px'>"
   ]
  },
  {
   "cell_type": "code",
   "execution_count": 2,
   "metadata": {},
   "outputs": [
    {
     "name": "stdout",
     "output_type": "stream",
     "text": [
      "[ 5  7  2  9 10 15  2  9  2 17 28 16]\n",
      "Số phần tử của vector: 12\n"
     ]
    }
   ],
   "source": [
    "# Phương thức a.reshape(m,n)\n",
    "vector_a = np.array([5,7,2,9,10,15,2,9,2,17,28,16],dtype=np.int16)\n",
    "print(vector_a)\n",
    "print('Số phần tử của vector:', vector_a.size)"
   ]
  },
  {
   "cell_type": "code",
   "execution_count": 3,
   "metadata": {},
   "outputs": [
    {
     "name": "stdout",
     "output_type": "stream",
     "text": [
      "Reshape về matrix: 3 x 4\n",
      "[[ 5  7  2  9]\n",
      " [10 15  2  9]\n",
      " [ 2 17 28 16]]\n",
      "Số phần tử của matrix_a: 12\n"
     ]
    }
   ],
   "source": [
    "#Chuyển đổi vector về matrix (n x m)\n",
    "#Lưu ý: matrix.size =vector.size\n",
    "matrix_a = vector_a.reshape((3,4))\n",
    "print('Reshape về matrix: 3 x 4')\n",
    "print(matrix_a)\n",
    "print('Số phần tử của matrix_a:',matrix_a.size)"
   ]
  },
  {
   "cell_type": "code",
   "execution_count": 4,
   "metadata": {},
   "outputs": [
    {
     "name": "stdout",
     "output_type": "stream",
     "text": [
      "Reshape về matrix: 2 x 6\n",
      "[[ 5  7]\n",
      " [ 2  9]\n",
      " [10 15]\n",
      " [ 2  9]\n",
      " [ 2 17]\n",
      " [28 16]]\n",
      "Số phần tử của matrix_b: 12\n"
     ]
    }
   ],
   "source": [
    "print('Reshape về matrix: 2 x 6')\n",
    "matrix_b = vector_a.reshape((6,2))\n",
    "print(matrix_b)\n",
    "print('Số phần tử của matrix_b:',matrix_b.size)"
   ]
  },
  {
   "cell_type": "code",
   "execution_count": 5,
   "metadata": {},
   "outputs": [
    {
     "name": "stdout",
     "output_type": "stream",
     "text": [
      "[ 1  2  3  4  5  6  7  8  9 10 11 12]\n"
     ]
    }
   ],
   "source": [
    "#sắp xếp thứ tự các phần tử khi reshape array\n",
    "a1 = np.arange(1,13)\n",
    "print(a1)"
   ]
  },
  {
   "cell_type": "code",
   "execution_count": 6,
   "metadata": {},
   "outputs": [
    {
     "name": "stdout",
     "output_type": "stream",
     "text": [
      "[[ 1  2  3  4]\n",
      " [ 5  6  7  8]\n",
      " [ 9 10 11 12]]\n"
     ]
    }
   ],
   "source": [
    "#order ='C': default - reshape phần tử theo hàng\n",
    "matrix_a1 = a1.reshape((3,4),order='C')\n",
    "print(matrix_a1)"
   ]
  },
  {
   "cell_type": "code",
   "execution_count": 7,
   "metadata": {},
   "outputs": [
    {
     "name": "stdout",
     "output_type": "stream",
     "text": [
      "[[ 1  4  7 10]\n",
      " [ 2  5  8 11]\n",
      " [ 3  6  9 12]]\n"
     ]
    }
   ],
   "source": [
    "#order ='F': reshape phần tử theo cột\n",
    "matrix_a2 = a1.reshape((3,4),order='F')\n",
    "print(matrix_a2)"
   ]
  },
  {
   "cell_type": "code",
   "execution_count": null,
   "metadata": {},
   "outputs": [],
   "source": []
  },
  {
   "cell_type": "code",
   "execution_count": 8,
   "metadata": {},
   "outputs": [
    {
     "data": {
      "text/plain": [
       "array([95, 91, 85, 41, 92, 34, 66, 64, 78, 89, 22,  0,  0, 36, 69, 67, 38,\n",
       "       65, 77, 20, 13, 49,  0,  1, 77, 14,  8, 97, 16, 99,  1, 21, 51, 14,\n",
       "       52, 54,  3, 90, 35, 47, 70, 37, 15, 58, 10, 84, 23,  4, 46, 53, 20,\n",
       "       47, 47, 16, 46, 22, 72, 25, 66, 98, 51, 77, 67, 66, 43, 68, 97, 55,\n",
       "       54, 92, 42, 23,  3, 67, 71, 44, 45, 87, 68, 97])"
      ]
     },
     "execution_count": 8,
     "metadata": {},
     "output_type": "execute_result"
    }
   ],
   "source": [
    "#Sử dụng tham số -1 để tự động tính toán số hàng (hoặc số cột)\n",
    "A = np.random.randint(0,100,80)\n",
    "A"
   ]
  },
  {
   "cell_type": "code",
   "execution_count": 9,
   "metadata": {},
   "outputs": [
    {
     "name": "stdout",
     "output_type": "stream",
     "text": [
      "[[95 91 85 41 92 34 66 64 78 89]\n",
      " [22  0  0 36 69 67 38 65 77 20]\n",
      " [13 49  0  1 77 14  8 97 16 99]\n",
      " [ 1 21 51 14 52 54  3 90 35 47]\n",
      " [70 37 15 58 10 84 23  4 46 53]\n",
      " [20 47 47 16 46 22 72 25 66 98]\n",
      " [51 77 67 66 43 68 97 55 54 92]\n",
      " [42 23  3 67 71 44 45 87 68 97]]\n",
      "(8, 10)\n"
     ]
    }
   ],
   "source": [
    "#Tự động tính toán số cột\n",
    "A1 = A.reshape(8,-1)\n",
    "print(A1)\n",
    "print(A1.shape)"
   ]
  },
  {
   "cell_type": "code",
   "execution_count": 10,
   "metadata": {},
   "outputs": [
    {
     "name": "stdout",
     "output_type": "stream",
     "text": [
      "[[95 91 85 41 92 34 66 64 78 89]\n",
      " [22  0  0 36 69 67 38 65 77 20]\n",
      " [13 49  0  1 77 14  8 97 16 99]\n",
      " [ 1 21 51 14 52 54  3 90 35 47]\n",
      " [70 37 15 58 10 84 23  4 46 53]\n",
      " [20 47 47 16 46 22 72 25 66 98]\n",
      " [51 77 67 66 43 68 97 55 54 92]\n",
      " [42 23  3 67 71 44 45 87 68 97]]\n"
     ]
    }
   ],
   "source": [
    "#Tự động tính toán số hàng\n",
    "A2 = A.reshape(-1,10)\n",
    "print(A2)"
   ]
  },
  {
   "cell_type": "code",
   "execution_count": 11,
   "metadata": {},
   "outputs": [
    {
     "data": {
      "text/plain": [
       "(8, 10)"
      ]
     },
     "execution_count": 11,
     "metadata": {},
     "output_type": "execute_result"
    }
   ],
   "source": [
    "A2.shape"
   ]
  },
  {
   "cell_type": "code",
   "execution_count": 12,
   "metadata": {},
   "outputs": [
    {
     "name": "stdout",
     "output_type": "stream",
     "text": [
      "[[95 91 85 41 92 34 66 64 78 89 22  0  0 36 69 67 38 65 77 20]\n",
      " [13 49  0  1 77 14  8 97 16 99  1 21 51 14 52 54  3 90 35 47]\n",
      " [70 37 15 58 10 84 23  4 46 53 20 47 47 16 46 22 72 25 66 98]\n",
      " [51 77 67 66 43 68 97 55 54 92 42 23  3 67 71 44 45 87 68 97]]\n"
     ]
    },
    {
     "data": {
      "text/plain": [
       "(4, 20)"
      ]
     },
     "execution_count": 12,
     "metadata": {},
     "output_type": "execute_result"
    }
   ],
   "source": [
    "#Thay đổi kích thước ma trận\n",
    "A3=A2.reshape(4,-1)\n",
    "print(A3)\n",
    "A3.shape"
   ]
  },
  {
   "cell_type": "code",
   "execution_count": null,
   "metadata": {},
   "outputs": [],
   "source": []
  },
  {
   "cell_type": "markdown",
   "metadata": {},
   "source": [
    "### 1.2) Flatten | ravel array\n",
    "---\n",
    "**Phương thức: ravel sử dụng để chuyển Matrix thành Vector**\n",
    "<img src='Pic\\ravel.png' width = '200px'>\n"
   ]
  },
  {
   "cell_type": "code",
   "execution_count": 13,
   "metadata": {},
   "outputs": [
    {
     "name": "stdout",
     "output_type": "stream",
     "text": [
      "Matrix: \n",
      " [[ 1  2  3  4]\n",
      " [ 5  6  7  8]\n",
      " [ 9 10 11 12]]\n"
     ]
    }
   ],
   "source": [
    "#Chuyển đổi từ Matrix --> Vector\n",
    "\n",
    "a1_2d = np.array([(1,2,3,4),(5,6,7,8),(9,10,11,12)])\n",
    "print('Matrix: \\n', a1_2d)"
   ]
  },
  {
   "cell_type": "code",
   "execution_count": 14,
   "metadata": {},
   "outputs": [
    {
     "name": "stdout",
     "output_type": "stream",
     "text": [
      "a) ravel by row (default order='C')\n",
      "[ 1  2  3  4  5  6  7  8  9 10 11 12]\n"
     ]
    }
   ],
   "source": [
    "print('a) ravel by row (default order=\\'C\\')')\n",
    "print(a1_2d.ravel()) "
   ]
  },
  {
   "cell_type": "code",
   "execution_count": 15,
   "metadata": {},
   "outputs": [
    {
     "name": "stdout",
     "output_type": "stream",
     "text": [
      "b) ravel by column (order='F')\n",
      "[ 1  5  9  2  6 10  3  7 11  4  8 12]\n"
     ]
    }
   ],
   "source": [
    "print('b) ravel by column (order=\\'F\\')')\n",
    "print(a1_2d.ravel(order='F'))"
   ]
  },
  {
   "cell_type": "markdown",
   "metadata": {},
   "source": [
    "### 5.3) Concatenate array\n",
    "---\n",
    "**Phương thức: Concatenate sử dụng để kết hợp các vector, array lại với nhau**\n",
    "<img src='Pic\\concat1.png' width = '400px'>"
   ]
  },
  {
   "cell_type": "code",
   "execution_count": 16,
   "metadata": {},
   "outputs": [
    {
     "name": "stdout",
     "output_type": "stream",
     "text": [
      "Vector x: [1 1 1 1 1]\n",
      "Vector y: [9 9 9 9 9]\n"
     ]
    }
   ],
   "source": [
    "#1) Phương thức: Concatenate sử dụng để kết hợp các vectorlại với nhau\n",
    "#Khởi Tạo vector\n",
    "x = np.full((5),1)\n",
    "y = np.full((5),9)\n",
    "\n",
    "print('Vector x:', x)\n",
    "print('Vector y:', y)"
   ]
  },
  {
   "cell_type": "code",
   "execution_count": 17,
   "metadata": {},
   "outputs": [
    {
     "name": "stdout",
     "output_type": "stream",
     "text": [
      "Vector xy: [1 1 1 1 1 9 9 9 9 9]\n"
     ]
    }
   ],
   "source": [
    "#Ghép 2 vector \n",
    "xy = np.concatenate([x, y])\n",
    "print('Vector xy:',xy)"
   ]
  },
  {
   "cell_type": "code",
   "execution_count": 18,
   "metadata": {},
   "outputs": [
    {
     "name": "stdout",
     "output_type": "stream",
     "text": [
      "Ma trận x:\n",
      " [[1 1 1 1]\n",
      " [1 1 1 1]\n",
      " [1 1 1 1]]\n",
      "Ma trận y:\n",
      " [[9 9 9 9]\n",
      " [9 9 9 9]\n",
      " [9 9 9 9]]\n"
     ]
    }
   ],
   "source": [
    "#2) Phương thức: Concatenate sử dụng để kết hợp các ma trận lại với nhau\n",
    "#Khởi Tạo ma trận\n",
    "x = np.full((3,4),1)\n",
    "y = np.full((3,4),9)\n",
    "\n",
    "print('Ma trận x:\\n', x)\n",
    "print('Ma trận y:\\n', y)"
   ]
  },
  {
   "cell_type": "code",
   "execution_count": 19,
   "metadata": {},
   "outputs": [
    {
     "name": "stdout",
     "output_type": "stream",
     "text": [
      "Ma trận xy (theo hàng):\n",
      " [[1 1 1 1]\n",
      " [1 1 1 1]\n",
      " [1 1 1 1]\n",
      " [9 9 9 9]\n",
      " [9 9 9 9]\n",
      " [9 9 9 9]]\n"
     ]
    }
   ],
   "source": [
    "#Ghép 2 ma trận theo hàng axis=0 (Default)\n",
    "xy_row = np.concatenate([x, y],axis=0)\n",
    "print('Ma trận xy (theo hàng):\\n',xy_row)"
   ]
  },
  {
   "cell_type": "code",
   "execution_count": 20,
   "metadata": {},
   "outputs": [
    {
     "name": "stdout",
     "output_type": "stream",
     "text": [
      "Ma trận xy (theo cột):\n",
      " [[1 1 1 1 9 9 9 9]\n",
      " [1 1 1 1 9 9 9 9]\n",
      " [1 1 1 1 9 9 9 9]]\n"
     ]
    }
   ],
   "source": [
    "#Ghép 2 ma trận theo cột axis=1\n",
    "xy_col = np.concatenate([x, y],axis=1)\n",
    "print('Ma trận xy (theo cột):\\n',xy_col)"
   ]
  },
  {
   "cell_type": "code",
   "execution_count": 21,
   "metadata": {},
   "outputs": [
    {
     "name": "stdout",
     "output_type": "stream",
     "text": [
      "Ma trận xy:\n",
      " [1 1 1 1 1 1 1 1 1 1 1 1 9 9 9 9 9 9 9 9 9 9 9 9]\n"
     ]
    }
   ],
   "source": [
    "#Ghép 2 ma trận thành 1 vector\n",
    "xy_none = np.concatenate([x, y],axis=None)\n",
    "print('Ma trận xy:\\n',xy_none)"
   ]
  },
  {
   "cell_type": "markdown",
   "metadata": {},
   "source": [
    "### 5.3) Split array\n",
    "---\n",
    "**Phương thức: Split sử dụng để phân tách các vector, ma trận thành các vector, ma trận con**\n",
    "<img src='Pic\\split.png'>"
   ]
  },
  {
   "cell_type": "code",
   "execution_count": 22,
   "metadata": {},
   "outputs": [
    {
     "name": "stdout",
     "output_type": "stream",
     "text": [
      "[0 1 2 3 4 5 6 7 8 9]\n",
      "10\n"
     ]
    }
   ],
   "source": [
    "#Split với Vector\n",
    "import numpy as np\n",
    "x = np.arange(0,10)\n",
    "print(x)\n",
    "print(x.size)\n"
   ]
  },
  {
   "cell_type": "code",
   "execution_count": 23,
   "metadata": {},
   "outputs": [
    {
     "name": "stdout",
     "output_type": "stream",
     "text": [
      "[0 1 2 3 4] [5 6 7 8 9]\n"
     ]
    }
   ],
   "source": [
    "#Tách vector x thành 2 vector \n",
    "#có số phần tử bằng nhau\n",
    "x1, x2 = np.split(x, 2)\n",
    "print(x1, x2)"
   ]
  },
  {
   "cell_type": "code",
   "execution_count": 24,
   "metadata": {},
   "outputs": [
    {
     "name": "stdout",
     "output_type": "stream",
     "text": [
      "[0 1 2 3 4 5 6] [7 8 9]\n"
     ]
    }
   ],
   "source": [
    "#Tách vector x thành 2 vector \n",
    "#vector 1 có 4 phần tử\n",
    "x11, x22 = np.split(x, [7])\n",
    "print(x11, x22)"
   ]
  },
  {
   "cell_type": "code",
   "execution_count": 25,
   "metadata": {},
   "outputs": [
    {
     "name": "stdout",
     "output_type": "stream",
     "text": [
      "[1 2 3 4 5 6 7 8 9]\n",
      "[1 2] [3 4 5 6] [7 8 9]\n"
     ]
    }
   ],
   "source": [
    "import numpy as np\n",
    "x = np.arange(1,10)\n",
    "print(x)\n",
    "\n",
    "#Tách vector x thành 3 vector \n",
    "#tại các vị trí 2 và 6\n",
    "x1, x2, x3 = np.split(x, [2,6])\n",
    "print(x1, x2, x3)"
   ]
  },
  {
   "cell_type": "code",
   "execution_count": 26,
   "metadata": {},
   "outputs": [
    {
     "name": "stdout",
     "output_type": "stream",
     "text": [
      "[[ 1  2  3  4  5]\n",
      " [ 6  7  8  9 10]\n",
      " [11 12 13 14 15]\n",
      " [16 17 18 19 20]]\n",
      "-----------------------------\n"
     ]
    }
   ],
   "source": [
    "#Split với Ma trận\n",
    "a = np.array([(1,2,3,4,5), \n",
    "              (6,7,8,9,10), \n",
    "              (11,12,13,14,15), \n",
    "              (16,17,18,19,20)])\n",
    "print(a)\n",
    "print('-----------------------------')"
   ]
  },
  {
   "cell_type": "code",
   "execution_count": 27,
   "metadata": {},
   "outputs": [
    {
     "name": "stdout",
     "output_type": "stream",
     "text": [
      "[[ 1  2  3  4  5]\n",
      " [ 6  7  8  9 10]]\n",
      "-----------------------------\n",
      "[[11 12 13 14 15]\n",
      " [16 17 18 19 20]]\n"
     ]
    }
   ],
   "source": [
    "#split theo row\n",
    "upper, lower = np.vsplit(a, 2)\n",
    "print(upper)\n",
    "print('-----------------------------')\n",
    "print(lower)"
   ]
  },
  {
   "cell_type": "code",
   "execution_count": 28,
   "metadata": {},
   "outputs": [
    {
     "name": "stdout",
     "output_type": "stream",
     "text": [
      "[[ 1  2  3  4  5]\n",
      " [ 6  7  8  9 10]\n",
      " [11 12 13 14 15]\n",
      " [16 17 18 19 20]]\n",
      "-----------------------------\n",
      "[[ 1  2]\n",
      " [ 6  7]\n",
      " [11 12]\n",
      " [16 17]]\n",
      "-----------------------------\n",
      "[[ 3]\n",
      " [ 8]\n",
      " [13]\n",
      " [18]]\n",
      "-----------------------------\n",
      "[[ 4  5]\n",
      " [ 9 10]\n",
      " [14 15]\n",
      " [19 20]]\n"
     ]
    }
   ],
   "source": [
    "print(a)\n",
    "print('-----------------------------')\n",
    "#split theo col, Tách thành 3 ma trận\n",
    "#Ma trận đầu chứ 2 cột dữ liệu\n",
    "a1, a2, a3 = np.hsplit(a, (2,3))\n",
    "print(a1)\n",
    "print('-----------------------------')\n",
    "print(a2)\n",
    "print('-----------------------------')\n",
    "print(a3)"
   ]
  },
  {
   "cell_type": "markdown",
   "metadata": {},
   "source": [
    "### 5.5) Flip array\n",
    "---\n",
    "**Phương thức: Flip sử dụng lật ngược ma trận theo hàng, cột**"
   ]
  },
  {
   "cell_type": "code",
   "execution_count": 29,
   "metadata": {},
   "outputs": [
    {
     "name": "stdout",
     "output_type": "stream",
     "text": [
      "[ 1  2  3  4  5  6  7  8  9 10 11 12 13 14 15 16 17 18 19 20 21 22 23 24\n",
      " 25 26 27 28 29 30]\n",
      "----------------------------------------------\n",
      "[30 29 28 27 26 25 24 23 22 21 20 19 18 17 16 15 14 13 12 11 10  9  8  7\n",
      "  6  5  4  3  2  1]\n"
     ]
    }
   ],
   "source": [
    "#A) Lật vector\n",
    "V = np.linspace(1,30,30,dtype=np.int8)\n",
    "print(V)\n",
    "print('----------------------------------------------')\n",
    "V1 = np.flip(V)\n",
    "print(V1)"
   ]
  },
  {
   "cell_type": "code",
   "execution_count": null,
   "metadata": {},
   "outputs": [],
   "source": []
  },
  {
   "cell_type": "code",
   "execution_count": 30,
   "metadata": {},
   "outputs": [
    {
     "name": "stdout",
     "output_type": "stream",
     "text": [
      "Ma trận ban đầu: \n",
      " [[ 1  2  3  4  5]\n",
      " [ 6  7  8  9 10]\n",
      " [11 12 13 14 15]\n",
      " [16 17 18 19 20]\n",
      " [21 22 23 24 25]]\n"
     ]
    }
   ],
   "source": [
    "#B) Lật ma trận\n",
    "#Tạo ma trận A làm ví dụ\n",
    "A = np.linspace(1,25,25,dtype=np.int8).reshape(5,5)\n",
    "print('Ma trận ban đầu: \\n',A)"
   ]
  },
  {
   "cell_type": "code",
   "execution_count": 31,
   "metadata": {},
   "outputs": [
    {
     "name": "stdout",
     "output_type": "stream",
     "text": [
      "Lật ma trận theo cột: \n",
      " [[ 5  4  3  2  1]\n",
      " [10  9  8  7  6]\n",
      " [15 14 13 12 11]\n",
      " [20 19 18 17 16]\n",
      " [25 24 23 22 21]]\n"
     ]
    }
   ],
   "source": [
    "#Lật ma trận theo cột\n",
    "#A1 = np.flip(A,1) \n",
    "#Tương đương với\n",
    "A1 = np.fliplr(A)\n",
    "print('Lật ma trận theo cột: \\n',A1)"
   ]
  },
  {
   "cell_type": "code",
   "execution_count": 32,
   "metadata": {},
   "outputs": [
    {
     "name": "stdout",
     "output_type": "stream",
     "text": [
      "Lật ma trận theo hàng: \n",
      " [[21 22 23 24 25]\n",
      " [16 17 18 19 20]\n",
      " [11 12 13 14 15]\n",
      " [ 6  7  8  9 10]\n",
      " [ 1  2  3  4  5]]\n"
     ]
    }
   ],
   "source": [
    "#Lật ma trận theo hàng\n",
    "#A2 = np.flip(A,0) \n",
    "#Tương đương với\n",
    "A2 = np.flipud(A)\n",
    "print('Lật ma trận theo hàng: \\n',A2)"
   ]
  },
  {
   "cell_type": "markdown",
   "metadata": {},
   "source": [
    "## THỰC HÀNH SỐ 1:\n",
    "---\n",
    "**Yêu cầu: Tạo một vector gồm 30 phần tử, có giá trị tăng dần từ 1 đến 30**\n",
    "\n",
    "Chỉ sử dụng các phương thức reshape, ravel, split…tách Vector a ở trên thành 3 vector con bao gồm:\n",
    "\n",
    "1. a_lẻ: chứa các phần tử là số lẻ; \n",
    "2. a_chan: chứa các phần tử là số chẵn.\n",
    "3. a_3: chứa các phần tử chia hết cho 3"
   ]
  },
  {
   "cell_type": "code",
   "execution_count": null,
   "metadata": {},
   "outputs": [],
   "source": [
    "#{HỌC VIÊN VIẾT CODE VÀO ĐÂY}\n",
    "\n",
    "\n",
    "\n"
   ]
  },
  {
   "cell_type": "code",
   "execution_count": null,
   "metadata": {},
   "outputs": [],
   "source": []
  },
  {
   "cell_type": "markdown",
   "metadata": {
    "colab_type": "text",
    "id": "eHSVABSx6gXT"
   },
   "source": [
    "## 2) TÍNH TOÁN GIÁ TRỊ CÁC PHẦN TỬ TRONG MẢNG SỬ DỤNG NUMPY\n",
    "---\n",
    "### 2.1) Các phép tính toán học"
   ]
  },
  {
   "cell_type": "code",
   "execution_count": null,
   "metadata": {},
   "outputs": [],
   "source": []
  },
  {
   "cell_type": "code",
   "execution_count": 33,
   "metadata": {
    "colab": {
     "base_uri": "https://localhost:8080/",
     "height": 34
    },
    "colab_type": "code",
    "id": "_XnBt7NKyG7d",
    "outputId": "f3341a80-d91e-4939-93b2-5996ca159000"
   },
   "outputs": [
    {
     "name": "stdout",
     "output_type": "stream",
     "text": [
      "x     = [0 1 2 3 4 5 6 7]\n",
      "----------------------------------\n",
      "x + 5  = [ 5  6  7  8  9 10 11 12]\n",
      "x - 5  = [-5 -4 -3 -2 -1  0  1  2]\n",
      " -x    = [ 0 -1 -2 -3 -4 -5 -6 -7]\n",
      "x * 2  = [ 0  2  4  6  8 10 12 14]\n",
      "x / 2  = [0.  0.5 1.  1.5 2.  2.5 3.  3.5]\n",
      "x // 2 = [0 0 1 1 2 2 3 3]\n",
      "x % 2  = [0 1 0 1 0 1 0 1]\n",
      "x ^ 3  = [  0   1   8  27  64 125 216 343]\n"
     ]
    }
   ],
   "source": [
    "import numpy as np\n",
    "x = np.arange(8)\n",
    "print(\"x     =\", x)\n",
    "print('----------------------------------')\n",
    "#Các phép toán đã giới thiệu trong buổi 01\n",
    "print(\"x + 5  =\", x + 5)\n",
    "print(\"x - 5  =\", x - 5)\n",
    "print(\" -x    =\", -x)\n",
    "print(\"x * 2  =\", x * 2)\n",
    "print(\"x / 2  =\", x / 2)\n",
    "print(\"x // 2 =\", x // 2)\n",
    "print(\"x % 2  =\", x % 2)\n",
    "print(\"x ^ 3  =\", x**3)"
   ]
  },
  {
   "cell_type": "code",
   "execution_count": 34,
   "metadata": {},
   "outputs": [
    {
     "name": "stdout",
     "output_type": "stream",
     "text": [
      "x      = [0 1 2 3 4 5 6 7]\n",
      "---------------------------------\n",
      "x + 5  = [ 5  6  7  8  9 10 11 12]\n",
      "x - 5  = [-5 -4 -3 -2 -1  0  1  2]\n",
      "-x     = [ 0 -1 -2 -3 -4 -5 -6 -7]\n",
      "x * 2  = [ 0  2  4  6  8 10 12 14]\n",
      "x / 2  = [0.  0.5 1.  1.5 2.  2.5 3.  3.5]\n",
      "x // 2 = [0 0 1 1 2 2 3 3]\n",
      "x % 2  = [0 1 0 1 0 1 0 1]\n",
      "x ^ 3  = [  0   1   8  27  64 125 216 343]\n"
     ]
    }
   ],
   "source": [
    "print(\"x      =\", x)\n",
    "print('---------------------------------')\n",
    "#Sử dụng các phương thức của NumPy\n",
    "print(\"x + 5  =\", np.add(x,5))\n",
    "print(\"x - 5  =\", np.subtract(x, 5))\n",
    "print(\"-x     =\", np.negative(x))\n",
    "print(\"x * 2  =\", np.multiply(x,2))\n",
    "print(\"x / 2  =\", np.divide(x,2))\n",
    "print(\"x // 2 =\", np.floor_divide(x, 2))\n",
    "print(\"x % 2  =\", np.mod(x,2))\n",
    "print(\"x ^ 3  =\", np.power(x,3))"
   ]
  },
  {
   "cell_type": "markdown",
   "metadata": {},
   "source": [
    "### 2.2) Abs|Trigonometric Functions in NumPy\n",
    "---"
   ]
  },
  {
   "cell_type": "code",
   "execution_count": 35,
   "metadata": {},
   "outputs": [
    {
     "name": "stdout",
     "output_type": "stream",
     "text": [
      "[-2 -1  0  1  2]\n",
      "----------------------\n",
      "[2 1 0 1 2]\n",
      "[2 1 0 1 2]\n"
     ]
    }
   ],
   "source": [
    "x = np.array([-2, -1, 0, 1, 2])\n",
    "print(x)\n",
    "print('----------------------')\n",
    "print(np.abs(x))\n",
    "print(np.absolute(x))\n"
   ]
  },
  {
   "cell_type": "code",
   "execution_count": 36,
   "metadata": {},
   "outputs": [
    {
     "name": "stdout",
     "output_type": "stream",
     "text": [
      "theta      =  [0.         1.57079633 3.14159265]\n",
      "------------------------------------------\n",
      "sin(theta) =  [0.0000000e+00 1.0000000e+00 1.2246468e-16]\n",
      "cos(theta) =  [ 1.000000e+00  6.123234e-17 -1.000000e+00]\n",
      "tan(theta) =  [ 0.00000000e+00  1.63312394e+16 -1.22464680e-16]\n"
     ]
    }
   ],
   "source": [
    "theta = np.linspace(0, np.pi, 3)\n",
    "print(\"theta      = \", theta)\n",
    "print('------------------------------------------')\n",
    "print(\"sin(theta) = \", np.sin(theta))\n",
    "print(\"cos(theta) = \", np.cos(theta))\n",
    "print(\"tan(theta) = \", np.tan(theta))\n"
   ]
  },
  {
   "cell_type": "code",
   "execution_count": 37,
   "metadata": {},
   "outputs": [
    {
     "name": "stdout",
     "output_type": "stream",
     "text": [
      "x         =  [-1, 0, 1]\n",
      "----------------------------------\n",
      "arcsin(x) =  [-1.57079633  0.          1.57079633]\n",
      "arccos(x) =  [3.14159265 1.57079633 0.        ]\n",
      "arctan(x) =  [-0.78539816  0.          0.78539816]\n"
     ]
    }
   ],
   "source": [
    "x = [-1, 0, 1]\n",
    "print(\"x         = \", x)\n",
    "print('----------------------------------')\n",
    "print(\"arcsin(x) = \", np.arcsin(x))\n",
    "print(\"arccos(x) = \", np.arccos(x))\n",
    "print(\"arctan(x) = \", np.arctan(x))"
   ]
  },
  {
   "cell_type": "markdown",
   "metadata": {},
   "source": [
    "## 2.3) Logarithmic and Exponential Functions\n",
    "---"
   ]
  },
  {
   "cell_type": "code",
   "execution_count": 38,
   "metadata": {},
   "outputs": [
    {
     "name": "stdout",
     "output_type": "stream",
     "text": [
      "x     = [1 2 3]\n",
      "---------------------------\n",
      "e^x   = [ 2.71828183  7.3890561  20.08553692]\n",
      "2^x   = [2. 4. 8.]\n",
      "3^x   = [ 3  9 27]\n"
     ]
    }
   ],
   "source": [
    "x = np.array([1, 2, 3])\n",
    "\n",
    "print(\"x     =\", x)\n",
    "print('---------------------------')\n",
    "print(\"e^x   =\", np.exp(x))\n",
    "print(\"2^x   =\", np.exp2(x))\n",
    "print(\"3^x   =\", np.power(3, x))"
   ]
  },
  {
   "cell_type": "code",
   "execution_count": 39,
   "metadata": {},
   "outputs": [
    {
     "name": "stdout",
     "output_type": "stream",
     "text": [
      "x        = [  1   2   4 100]\n",
      "---------------------------\n",
      "ln(x)    = [0.         0.69314718 1.38629436 4.60517019]\n",
      "log2(x)  = [0.         1.         2.         6.64385619]\n",
      "log10(x) = [0.         0.30103    0.60205999 2.        ]\n"
     ]
    }
   ],
   "source": [
    "x = np.array([1, 2, 4, 100])\n",
    "\n",
    "print(\"x        =\", x)\n",
    "print('---------------------------')\n",
    "print(\"ln(x)    =\", np.log(x))\n",
    "print(\"log2(x)  =\", np.log2(x))\n",
    "print(\"log10(x) =\", np.log10(x))"
   ]
  },
  {
   "cell_type": "markdown",
   "metadata": {},
   "source": [
    "## 4.4 Rounding Functions\n",
    "---"
   ]
  },
  {
   "cell_type": "code",
   "execution_count": 40,
   "metadata": {},
   "outputs": [
    {
     "name": "stdout",
     "output_type": "stream",
     "text": [
      "[20.8994  67.89899 54.43409]\n",
      "----------------------------------\n",
      "[20.899 67.899 54.434]\n"
     ]
    }
   ],
   "source": [
    "import numpy as np  \n",
    "arr = np.array([20.8994,67.89899,54.43409]) \n",
    "\n",
    "print(arr)\n",
    "print('----------------------------------')\n",
    "#1) Làm tròn tới 1 số sau dấu ,\n",
    "print(np.around(arr,3))"
   ]
  },
  {
   "cell_type": "code",
   "execution_count": 41,
   "metadata": {},
   "outputs": [
    {
     "name": "stdout",
     "output_type": "stream",
     "text": [
      "[20.9  67.9  54.43]\n"
     ]
    }
   ],
   "source": [
    "#2)Làm tròn tới 2 số sau dấu ,\n",
    "print(np.around(arr,2))"
   ]
  },
  {
   "cell_type": "code",
   "execution_count": 42,
   "metadata": {},
   "outputs": [
    {
     "name": "stdout",
     "output_type": "stream",
     "text": [
      "[20. 67. 54.]\n"
     ]
    }
   ],
   "source": [
    "#3)Làm tròn xuống số nguyên gần nhất\n",
    "print(np.floor(arr))"
   ]
  },
  {
   "cell_type": "code",
   "execution_count": 43,
   "metadata": {},
   "outputs": [
    {
     "name": "stdout",
     "output_type": "stream",
     "text": [
      "[21. 68. 55.]\n"
     ]
    }
   ],
   "source": [
    "#4)Làm tròn lên số nguyên gần nhất\n",
    "print(np.ceil(arr))"
   ]
  },
  {
   "cell_type": "markdown",
   "metadata": {},
   "source": [
    "## 3) Sắp xếp các phần tử trong mảng\n",
    "---\n",
    "np.sort: Thực hiện sắp xếp các phần tử trong mảng theo thứ tự tăng dần (hàng, cột)\n",
    "<img src='Pic\\sort.png' width='500px'>"
   ]
  },
  {
   "cell_type": "code",
   "execution_count": 44,
   "metadata": {},
   "outputs": [
    {
     "name": "stdout",
     "output_type": "stream",
     "text": [
      "Vector ban đầu:\n",
      " [31 25 31  2  1  8  5 11 16  1 14 28 13 23 10]\n"
     ]
    }
   ],
   "source": [
    "#3.1) Sắp xếp các phần tử trong một vector\n",
    "a = np.random.randint(1,33,15)\n",
    "\n",
    "print('Vector ban đầu:\\n', a)"
   ]
  },
  {
   "cell_type": "code",
   "execution_count": 45,
   "metadata": {},
   "outputs": [
    {
     "name": "stdout",
     "output_type": "stream",
     "text": [
      "Vector sắp xếp tăng dần: \n",
      " [ 1  1  2  5  8 10 11 13 14 16 23 25 28 31 31]\n"
     ]
    }
   ],
   "source": [
    "#Sắp xếp vector a tăng dần\n",
    "a_sort = np.sort(a)\n",
    "print('Vector sắp xếp tăng dần: \\n',a_sort)"
   ]
  },
  {
   "cell_type": "code",
   "execution_count": 46,
   "metadata": {},
   "outputs": [
    {
     "name": "stdout",
     "output_type": "stream",
     "text": [
      "Vector sắp xếp giảm dần: \n",
      " [31 31 28 25 23 16 14 13 11 10  8  5  2  1  1]\n"
     ]
    }
   ],
   "source": [
    "#Sắp xếp vector a giảm dần:\n",
    "#1) Lật vector a_sort để sắp xếp giảm dần\n",
    "#b_sort = np.flip(a_sort)\n",
    "#2) sử dụng -np.sort(-x)\n",
    "b_sort = -np.sort(-a)\n",
    "print('Vector sắp xếp giảm dần: \\n',b_sort)"
   ]
  },
  {
   "cell_type": "code",
   "execution_count": null,
   "metadata": {},
   "outputs": [],
   "source": []
  },
  {
   "cell_type": "code",
   "execution_count": null,
   "metadata": {},
   "outputs": [],
   "source": [
    "#3.2) Sắp xếp các phần tử trong một Ma trận\n",
    "#Tạo ma trận A làm ví dụ\n",
    "A = np.random.randint(1,30,30).reshape(5,6)\n",
    "print('Ma trận A:\\n', A)"
   ]
  },
  {
   "cell_type": "code",
   "execution_count": null,
   "metadata": {},
   "outputs": [],
   "source": [
    "#a) Sắp xếp theo hàng axis=0\n",
    "a_sort1 = np.sort(A,axis=0)\n",
    "print('Ma trận 1:\\n', a_sort1)"
   ]
  },
  {
   "cell_type": "code",
   "execution_count": null,
   "metadata": {},
   "outputs": [],
   "source": [
    "print(A)"
   ]
  },
  {
   "cell_type": "code",
   "execution_count": null,
   "metadata": {},
   "outputs": [],
   "source": [
    "#b) Sắp xếp theo cột axis=1 | Default\n",
    "a_sort2 = np.sort(A,axis=1)\n",
    "print('Ma trận 2:\\n', a_sort2)"
   ]
  },
  {
   "cell_type": "code",
   "execution_count": null,
   "metadata": {},
   "outputs": [],
   "source": [
    "#c) Chuyển thành vector và sắp xếp các phần tử tăng dần theo hàng\n",
    "v_sort = np.sort(A,axis=None)\n",
    "print('Vector: \\n', v_sort)"
   ]
  },
  {
   "cell_type": "code",
   "execution_count": null,
   "metadata": {},
   "outputs": [],
   "source": [
    "#Sắp xếp tất cả các phần tử theo thứ tự tăng dần theo hàng\n",
    "a_sort3 = np.sort(A, axis=None).reshape(A.shape[0],A.shape[1])\n",
    "print('Ma trận 3:\\n', a_sort3)"
   ]
  },
  {
   "cell_type": "code",
   "execution_count": null,
   "metadata": {},
   "outputs": [],
   "source": [
    "#thuộc tính kind=‘quicksort’- Default, ‘mergesort’, ‘heapsort’, ‘stable’\n",
    "a_sort1 = np.sort(A,axis=0, kind='mergesort')\n",
    "print('Ma trận 1:\\n', a_sort1)"
   ]
  },
  {
   "cell_type": "markdown",
   "metadata": {},
   "source": [
    "## 4) Tìm kiếm các phần tử trong mảng\n",
    "---\n",
    "np.where: Thực hiện tìm kiếm các phần tử trong mảng"
   ]
  },
  {
   "cell_type": "markdown",
   "metadata": {},
   "source": [
    "**a) Tìm kiếm trên vector:**"
   ]
  },
  {
   "cell_type": "code",
   "execution_count": 47,
   "metadata": {},
   "outputs": [
    {
     "name": "stdout",
     "output_type": "stream",
     "text": [
      "[17  2 11  1  9 15  1  3  8  1 12 13  5]\n"
     ]
    }
   ],
   "source": [
    "import numpy as np\n",
    "x = np.array([17, 2, 11, 1, 9, 15, 1, 3, 8, 1, 12, 13, 5])\n",
    "print(x)"
   ]
  },
  {
   "cell_type": "code",
   "execution_count": 48,
   "metadata": {},
   "outputs": [
    {
     "name": "stdout",
     "output_type": "stream",
     "text": [
      "(array([3, 6, 9], dtype=int64),)\n",
      "1. Số phần tử thỏa mãn điều kiện = 1:  3\n"
     ]
    }
   ],
   "source": [
    "#1) Tìm kiếm các phần tử có giá trị ==1\n",
    "t1 = np.where(x==1)\n",
    "print(t1)\n",
    "print('1. Số phần tử thỏa mãn điều kiện = 1: ', t1[0].size)"
   ]
  },
  {
   "cell_type": "code",
   "execution_count": null,
   "metadata": {},
   "outputs": [],
   "source": [
    "#2)Tìm kiếm các phần tử có giá trị >10\n",
    "t2 = np.where(x>10)\n",
    "print(t2)\n",
    "print('2. Số phần tử thỏa mãn điều kiện>10: ', t2[0].size)"
   ]
  },
  {
   "cell_type": "code",
   "execution_count": null,
   "metadata": {},
   "outputs": [],
   "source": [
    "x"
   ]
  },
  {
   "cell_type": "code",
   "execution_count": null,
   "metadata": {},
   "outputs": [],
   "source": [
    "#Tìm kiếm các phần tử có giá trị [5,12)\n",
    "t3 = np.where((x>=5) & (x<12))\n",
    "print(t3)\n",
    "print('3.Số phần tử thỏa mãn điều kiện [5,12): ', t3[0].size)"
   ]
  },
  {
   "cell_type": "code",
   "execution_count": null,
   "metadata": {},
   "outputs": [],
   "source": []
  },
  {
   "cell_type": "markdown",
   "metadata": {},
   "source": [
    "**b) Tìm kiếm trên ma trận:**"
   ]
  },
  {
   "cell_type": "code",
   "execution_count": 49,
   "metadata": {},
   "outputs": [
    {
     "name": "stdout",
     "output_type": "stream",
     "text": [
      "Ma trận A: \n",
      " [[1 2 3 4 5 4 4]\n",
      " [7 3 4 8 9 6 7]]\n"
     ]
    }
   ],
   "source": [
    "#Khởi tạo ma trận arr\n",
    "arr = np.array([(1, 2, 3, 4, 5, 4, 4),\n",
    "                (7, 3, 4, 8, 9, 6, 7)])\n",
    "print('Ma trận A: \\n',arr)"
   ]
  },
  {
   "cell_type": "code",
   "execution_count": 50,
   "metadata": {},
   "outputs": [
    {
     "name": "stdout",
     "output_type": "stream",
     "text": [
      "(array([0, 1, 1, 1, 1, 1], dtype=int64), array([4, 0, 3, 4, 5, 6], dtype=int64))\n",
      "Số phần tử thỏa mãn điều kiện > 4: 6\n"
     ]
    }
   ],
   "source": [
    "#Tìm kiếm phần tử > 4\n",
    "x = np.where(arr >4)\n",
    "print(x)\n",
    "print('Số phần tử thỏa mãn điều kiện > 4:',x[0].size)\n",
    "\n",
    "#Kết quả: array đầu tiên là chỉ số hàng, array thứ 2 là chỉ số cột."
   ]
  },
  {
   "cell_type": "code",
   "execution_count": 52,
   "metadata": {},
   "outputs": [
    {
     "name": "stdout",
     "output_type": "stream",
     "text": [
      "[[1 2 3 4 5 4 4]\n",
      " [7 3 4 8 9 6 7]]\n",
      "----------------------------\n",
      "[[0 0 0 0 1 0 0]\n",
      " [1 0 0 1 1 1 1]]\n"
     ]
    }
   ],
   "source": [
    "#Tìm kiếm và trả về kết quả với điều kiện đúng, sai\n",
    "#Nếu Đúng thay bằng T, sai thay thế bằng F\n",
    "x = np.where(arr >4,1,0)\n",
    "print(arr)\n",
    "print('----------------------------')\n",
    "print(x)"
   ]
  },
  {
   "cell_type": "markdown",
   "metadata": {},
   "source": [
    "# THỰC HÀNH SỐ 2:\n",
    "---\n",
    "\n",
    "**Yêu cầu 2.1: Đọc dữ liệu từ file Data_Excercise/Data_BMI.txt vào 2 vector tương ứng**\n",
    "1. v_height: chứa dữ liệu chiều cao\n",
    "2. v_Weight: Chứa dữ liệu cân nặng\n"
   ]
  },
  {
   "cell_type": "code",
   "execution_count": null,
   "metadata": {},
   "outputs": [],
   "source": [
    "#{HỌC VIÊN VIÊT CODE VÀO ĐÂY}\n",
    "\n",
    "\n",
    "\n",
    "\n"
   ]
  },
  {
   "cell_type": "code",
   "execution_count": null,
   "metadata": {},
   "outputs": [],
   "source": []
  },
  {
   "cell_type": "markdown",
   "metadata": {},
   "source": [
    "**Yêu cầu 2.2: Tạo vector v_height_m2 từ vector v_height theo yêu cầu sau:**\n",
    "1. Chuyển đổi đơn vị của các phần tử từ cm sang m\n",
    "2. Tính bình phương giá trị các phần tử"
   ]
  },
  {
   "cell_type": "code",
   "execution_count": null,
   "metadata": {},
   "outputs": [],
   "source": [
    "#{HỌC VIÊN VIÊT CODE VÀO ĐÂY}\n",
    "\n",
    "\n",
    "\n",
    "\n"
   ]
  },
  {
   "cell_type": "code",
   "execution_count": null,
   "metadata": {},
   "outputs": [],
   "source": []
  },
  {
   "cell_type": "markdown",
   "metadata": {},
   "source": [
    "**Yêu cầu 2.3: Tính chỉ số BMI của 100 người ngày theo công thức bên dưới, chỉ số BMI được làm tròn tới 1 số sau dấu “,”. Lưu kết quả vào vector v_bmi**"
   ]
  },
  {
   "cell_type": "code",
   "execution_count": null,
   "metadata": {},
   "outputs": [],
   "source": [
    "#{HỌC VIÊN VIÊT CODE VÀO ĐÂY}\n",
    "\n",
    "\n",
    "\n",
    "\n"
   ]
  },
  {
   "cell_type": "code",
   "execution_count": null,
   "metadata": {},
   "outputs": [],
   "source": []
  },
  {
   "cell_type": "code",
   "execution_count": null,
   "metadata": {},
   "outputs": [],
   "source": [
    "#Tính chỉ số BMI\n",
    "v_bmi = np.round(v_weight / v_height_m2,1)\n",
    "print ('Chỉ số BMI:\\n', v_bmi)"
   ]
  },
  {
   "cell_type": "markdown",
   "metadata": {},
   "source": [
    "**Yêu cầu 2.4: Sắp xếp thứ tự các phần tử trong vector v_bmi theo chiều tăng dần, giảm dần**"
   ]
  },
  {
   "cell_type": "code",
   "execution_count": null,
   "metadata": {},
   "outputs": [],
   "source": [
    "#{HỌC VIÊN VIÊT CODE VÀO ĐÂY}\n",
    "\n",
    "\n",
    "\n",
    "\n"
   ]
  },
  {
   "cell_type": "code",
   "execution_count": null,
   "metadata": {},
   "outputs": [],
   "source": []
  },
  {
   "cell_type": "markdown",
   "metadata": {},
   "source": [
    "**Yêu cầu 2.5: Thống kê số lượng người theo từng mức dựa vào phân loại theo hình**"
   ]
  },
  {
   "cell_type": "code",
   "execution_count": null,
   "metadata": {},
   "outputs": [],
   "source": [
    "#{HỌC VIÊN VIÊT CODE VÀO ĐÂY}\n",
    "\n",
    "\n",
    "\n",
    "\n"
   ]
  },
  {
   "cell_type": "code",
   "execution_count": null,
   "metadata": {},
   "outputs": [],
   "source": []
  },
  {
   "cell_type": "markdown",
   "metadata": {},
   "source": [
    "## 5. MA TRẬN VUÔNG\n",
    "---\n",
    "### 5.1) det(a)"
   ]
  },
  {
   "cell_type": "code",
   "execution_count": 53,
   "metadata": {},
   "outputs": [
    {
     "name": "stdout",
     "output_type": "stream",
     "text": [
      "Ma trận a:\n",
      " [[ 1  3  1  4]\n",
      " [ 3  9  5 15]\n",
      " [ 0  2  1  1]\n",
      " [ 0  4  2  3]]\n",
      "det(a) =  -3.999999999999999\n"
     ]
    }
   ],
   "source": [
    "import numpy as np\n",
    "a =np.array([( 1, 3, 1, 4),\n",
    "             ( 3, 9, 5,15),\n",
    "             ( 0, 2, 1, 1),\n",
    "             ( 0, 4, 2, 3)])\n",
    "print('Ma trận a:\\n',a)\n",
    "det_a =  np.linalg.det(a)\n",
    "print('det(a) = ', det_a)"
   ]
  },
  {
   "cell_type": "code",
   "execution_count": null,
   "metadata": {},
   "outputs": [],
   "source": [
    "import numpy as np\n",
    "b =np.array([( 1, 2, 3, 4),\n",
    "             (-2,-1, 4, 1),\n",
    "             ( 3,-4,-5, 6),\n",
    "             ( 1, 2, 3, 4)])\n",
    "print('Ma trận b:\\n',b)\n",
    "det_b =  np.linalg.det(b)\n",
    "print('det(b) = ', det_b)"
   ]
  },
  {
   "cell_type": "code",
   "execution_count": null,
   "metadata": {},
   "outputs": [],
   "source": [
    "a =np.array([( 3, 0, 2,-1),\n",
    "             ( 1, 2, 0,-2),\n",
    "             ( 4, 0, 6,-3),\n",
    "             ( 5, 0, 2, 0)])\n",
    "det_a =  np.linalg.det(a)\n",
    "print(det_a)"
   ]
  },
  {
   "cell_type": "markdown",
   "metadata": {},
   "source": [
    "### 5.2) ma trận nghịch đảo\n",
    "---"
   ]
  },
  {
   "cell_type": "code",
   "execution_count": 54,
   "metadata": {},
   "outputs": [
    {
     "name": "stdout",
     "output_type": "stream",
     "text": [
      "[[1 2 3]\n",
      " [0 1 4]\n",
      " [5 6 0]]\n",
      "0.9999999999999987\n",
      "--------------------------\n",
      "[[-24.  18.   5.]\n",
      " [ 20. -15.  -4.]\n",
      " [ -5.   4.   1.]]\n",
      "--------------------------\n",
      "[[1 0 0]\n",
      " [0 1 0]\n",
      " [0 0 1]]\n"
     ]
    }
   ],
   "source": [
    "import numpy as np\n",
    "m = np.array([(1, 2, 3),\n",
    "              (0, 1, 4),\n",
    "              (5, 6, 0)])\n",
    "\n",
    "\n",
    "print(m)\n",
    "det_m =  np.linalg.det(m)\n",
    "print(det_m)\n",
    "print('--------------------------')\n",
    "#Xác định ma trận nghịc đảo của m\n",
    "m1 = np.linalg.inv(m)\n",
    "print(m1)\n",
    "print('--------------------------')\n",
    "print(np.dot(m,m1).astype(int))"
   ]
  },
  {
   "cell_type": "code",
   "execution_count": 55,
   "metadata": {},
   "outputs": [
    {
     "name": "stdout",
     "output_type": "stream",
     "text": [
      "Ma trận b:\n",
      " [[ 1  2  3  4]\n",
      " [-2 -1  4  1]\n",
      " [ 3 -4 -5  6]\n",
      " [ 1  2  3  4]]\n",
      "det(b) =  0.0\n"
     ]
    },
    {
     "ename": "LinAlgError",
     "evalue": "Singular matrix",
     "output_type": "error",
     "traceback": [
      "\u001b[1;31m---------------------------------------------------------------------------\u001b[0m",
      "\u001b[1;31mLinAlgError\u001b[0m                               Traceback (most recent call last)",
      "Input \u001b[1;32mIn [55]\u001b[0m, in \u001b[0;36m<cell line: 11>\u001b[1;34m()\u001b[0m\n\u001b[0;32m      8\u001b[0m det_b \u001b[38;5;241m=\u001b[39m  np\u001b[38;5;241m.\u001b[39mlinalg\u001b[38;5;241m.\u001b[39mdet(b)\n\u001b[0;32m      9\u001b[0m \u001b[38;5;28mprint\u001b[39m(\u001b[38;5;124m'\u001b[39m\u001b[38;5;124mdet(b) = \u001b[39m\u001b[38;5;124m'\u001b[39m, det_b)\n\u001b[1;32m---> 11\u001b[0m b1 \u001b[38;5;241m=\u001b[39m \u001b[43mnp\u001b[49m\u001b[38;5;241;43m.\u001b[39;49m\u001b[43mlinalg\u001b[49m\u001b[38;5;241;43m.\u001b[39;49m\u001b[43minv\u001b[49m\u001b[43m(\u001b[49m\u001b[43mb\u001b[49m\u001b[43m)\u001b[49m\n",
      "File \u001b[1;32m<__array_function__ internals>:5\u001b[0m, in \u001b[0;36minv\u001b[1;34m(*args, **kwargs)\u001b[0m\n",
      "File \u001b[1;32m~\\Anaconda3\\lib\\site-packages\\numpy\\linalg\\linalg.py:545\u001b[0m, in \u001b[0;36minv\u001b[1;34m(a)\u001b[0m\n\u001b[0;32m    543\u001b[0m signature \u001b[38;5;241m=\u001b[39m \u001b[38;5;124m'\u001b[39m\u001b[38;5;124mD->D\u001b[39m\u001b[38;5;124m'\u001b[39m \u001b[38;5;28;01mif\u001b[39;00m isComplexType(t) \u001b[38;5;28;01melse\u001b[39;00m \u001b[38;5;124m'\u001b[39m\u001b[38;5;124md->d\u001b[39m\u001b[38;5;124m'\u001b[39m\n\u001b[0;32m    544\u001b[0m extobj \u001b[38;5;241m=\u001b[39m get_linalg_error_extobj(_raise_linalgerror_singular)\n\u001b[1;32m--> 545\u001b[0m ainv \u001b[38;5;241m=\u001b[39m \u001b[43m_umath_linalg\u001b[49m\u001b[38;5;241;43m.\u001b[39;49m\u001b[43minv\u001b[49m\u001b[43m(\u001b[49m\u001b[43ma\u001b[49m\u001b[43m,\u001b[49m\u001b[43m \u001b[49m\u001b[43msignature\u001b[49m\u001b[38;5;241;43m=\u001b[39;49m\u001b[43msignature\u001b[49m\u001b[43m,\u001b[49m\u001b[43m \u001b[49m\u001b[43mextobj\u001b[49m\u001b[38;5;241;43m=\u001b[39;49m\u001b[43mextobj\u001b[49m\u001b[43m)\u001b[49m\n\u001b[0;32m    546\u001b[0m \u001b[38;5;28;01mreturn\u001b[39;00m wrap(ainv\u001b[38;5;241m.\u001b[39mastype(result_t, copy\u001b[38;5;241m=\u001b[39m\u001b[38;5;28;01mFalse\u001b[39;00m))\n",
      "File \u001b[1;32m~\\Anaconda3\\lib\\site-packages\\numpy\\linalg\\linalg.py:88\u001b[0m, in \u001b[0;36m_raise_linalgerror_singular\u001b[1;34m(err, flag)\u001b[0m\n\u001b[0;32m     87\u001b[0m \u001b[38;5;28;01mdef\u001b[39;00m \u001b[38;5;21m_raise_linalgerror_singular\u001b[39m(err, flag):\n\u001b[1;32m---> 88\u001b[0m     \u001b[38;5;28;01mraise\u001b[39;00m LinAlgError(\u001b[38;5;124m\"\u001b[39m\u001b[38;5;124mSingular matrix\u001b[39m\u001b[38;5;124m\"\u001b[39m)\n",
      "\u001b[1;31mLinAlgError\u001b[0m: Singular matrix"
     ]
    }
   ],
   "source": [
    "#Trường hợp det(a) = 0; không tồn tại ma trận nghịch đảo.\n",
    "import numpy as np\n",
    "b =np.array([( 1, 2, 3, 4),\n",
    "             (-2,-1, 4, 1),\n",
    "             ( 3,-4,-5, 6),\n",
    "             ( 1, 2, 3, 4)])\n",
    "print('Ma trận b:\\n',b)\n",
    "det_b =  np.linalg.det(b)\n",
    "print('det(b) = ', det_b)\n",
    "\n",
    "b1 = np.linalg.inv(b)"
   ]
  },
  {
   "cell_type": "code",
   "execution_count": null,
   "metadata": {},
   "outputs": [],
   "source": []
  },
  {
   "cell_type": "code",
   "execution_count": null,
   "metadata": {},
   "outputs": [],
   "source": []
  },
  {
   "cell_type": "markdown",
   "metadata": {},
   "source": [
    "### 5.3) Đường chéo trong ma trận vuông\n",
    "---\n",
    "A) Lấy các phần tử trên đường chéo"
   ]
  },
  {
   "cell_type": "code",
   "execution_count": 56,
   "metadata": {},
   "outputs": [
    {
     "name": "stdout",
     "output_type": "stream",
     "text": [
      "[[95 54 39 56 91 53 64 44 37 93]\n",
      " [48 87 39 56 33 91 28 41 65 89]\n",
      " [15  7 78  7 37 19 53 43 39 34]\n",
      " [ 1 48 19 67 78 74 35 94 37 25]\n",
      " [ 1 41 88 73 85 22 48 91 24  4]\n",
      " [89 29 60 18 60 39  8 29 10 64]\n",
      " [43 28 22 59 65 11 34 64 51 59]\n",
      " [27 80 98  5 30 28 52 79 17 85]\n",
      " [32 32 12 28 18 86 72 42 89 77]\n",
      " [34 33 78 62 79 89 59 37 25 33]]\n"
     ]
    }
   ],
   "source": [
    "A = np.random.randint(1,100,(10,10))\n",
    "print(A)"
   ]
  },
  {
   "cell_type": "code",
   "execution_count": 57,
   "metadata": {},
   "outputs": [
    {
     "name": "stdout",
     "output_type": "stream",
     "text": [
      "[95 87 78 67 85 39 34 79 89 33]\n"
     ]
    }
   ],
   "source": [
    "#Lấy các phần tử trên đường chéo chính của \n",
    "#ma trận vuông A\n",
    "d_A = A.diagonal()\n",
    "print(d_A)"
   ]
  },
  {
   "cell_type": "code",
   "execution_count": 58,
   "metadata": {},
   "outputs": [
    {
     "name": "stdout",
     "output_type": "stream",
     "text": [
      "[56 33 19 35 91 10 59]\n"
     ]
    }
   ],
   "source": [
    "#Lấy các phần tử nằm trên đường chéo chính\n",
    "#của ma trận a 1 phần tử\n",
    "d_A1 =  A.diagonal(3)\n",
    "print(d_A1)"
   ]
  },
  {
   "cell_type": "code",
   "execution_count": 59,
   "metadata": {},
   "outputs": [
    {
     "name": "stdout",
     "output_type": "stream",
     "text": [
      "[ 1 29 22  5 18 89]\n"
     ]
    }
   ],
   "source": [
    "#Lấy các phần tử nằm dưới đường chéo chính\n",
    "#của ma trận a 4 phần tử\n",
    "d_A1 =  A.diagonal(-4)\n",
    "print(d_A1)"
   ]
  },
  {
   "cell_type": "markdown",
   "metadata": {},
   "source": [
    "**B) Lấy ma trận tam giác**"
   ]
  },
  {
   "cell_type": "code",
   "execution_count": 60,
   "metadata": {},
   "outputs": [
    {
     "data": {
      "text/plain": [
       "array([[95, 54, 39, 56, 91, 53, 64, 44, 37, 93],\n",
       "       [48, 87, 39, 56, 33, 91, 28, 41, 65, 89],\n",
       "       [15,  7, 78,  7, 37, 19, 53, 43, 39, 34],\n",
       "       [ 1, 48, 19, 67, 78, 74, 35, 94, 37, 25],\n",
       "       [ 1, 41, 88, 73, 85, 22, 48, 91, 24,  4],\n",
       "       [89, 29, 60, 18, 60, 39,  8, 29, 10, 64],\n",
       "       [43, 28, 22, 59, 65, 11, 34, 64, 51, 59],\n",
       "       [27, 80, 98,  5, 30, 28, 52, 79, 17, 85],\n",
       "       [32, 32, 12, 28, 18, 86, 72, 42, 89, 77],\n",
       "       [34, 33, 78, 62, 79, 89, 59, 37, 25, 33]])"
      ]
     },
     "execution_count": 60,
     "metadata": {},
     "output_type": "execute_result"
    }
   ],
   "source": [
    "A"
   ]
  },
  {
   "cell_type": "code",
   "execution_count": 61,
   "metadata": {},
   "outputs": [
    {
     "name": "stdout",
     "output_type": "stream",
     "text": [
      "[[95 54 39 56 91 53 64 44 37 93]\n",
      " [ 0 87 39 56 33 91 28 41 65 89]\n",
      " [ 0  0 78  7 37 19 53 43 39 34]\n",
      " [ 0  0  0 67 78 74 35 94 37 25]\n",
      " [ 0  0  0  0 85 22 48 91 24  4]\n",
      " [ 0  0  0  0  0 39  8 29 10 64]\n",
      " [ 0  0  0  0  0  0 34 64 51 59]\n",
      " [ 0  0  0  0  0  0  0 79 17 85]\n",
      " [ 0  0  0  0  0  0  0  0 89 77]\n",
      " [ 0  0  0  0  0  0  0  0  0 33]]\n"
     ]
    }
   ],
   "source": [
    "#MA TRẬN TAM GIÁC TRÊN\n",
    "#ma trận A\n",
    "d_A1 = np.triu(A)\n",
    "print(d_A1)"
   ]
  },
  {
   "cell_type": "code",
   "execution_count": 62,
   "metadata": {},
   "outputs": [
    {
     "name": "stdout",
     "output_type": "stream",
     "text": [
      "[[ 0  0  0  0 91 53 64 44 37 93]\n",
      " [ 0  0  0  0  0 91 28 41 65 89]\n",
      " [ 0  0  0  0  0  0 53 43 39 34]\n",
      " [ 0  0  0  0  0  0  0 94 37 25]\n",
      " [ 0  0  0  0  0  0  0  0 24  4]\n",
      " [ 0  0  0  0  0  0  0  0  0 64]\n",
      " [ 0  0  0  0  0  0  0  0  0  0]\n",
      " [ 0  0  0  0  0  0  0  0  0  0]\n",
      " [ 0  0  0  0  0  0  0  0  0  0]\n",
      " [ 0  0  0  0  0  0  0  0  0  0]]\n"
     ]
    }
   ],
   "source": [
    "#MA TRẬN TAM GIÁC TRÊN\n",
    "#Tạo ma trận là các phần tử trên đường chéo chính \n",
    "#của ma trận vuông A cách đường chéo chính\n",
    "#về phía trên 2 đường\n",
    "d_A1 = np.triu(A,4)\n",
    "print(d_A1)"
   ]
  },
  {
   "cell_type": "code",
   "execution_count": 63,
   "metadata": {},
   "outputs": [
    {
     "name": "stdout",
     "output_type": "stream",
     "text": [
      "[[95 54 39 56 91 53 64 44 37 93]\n",
      " [48 87 39 56 33 91 28 41 65 89]\n",
      " [15  7 78  7 37 19 53 43 39 34]\n",
      " [ 1 48 19 67 78 74 35 94 37 25]\n",
      " [ 0 41 88 73 85 22 48 91 24  4]\n",
      " [ 0  0 60 18 60 39  8 29 10 64]\n",
      " [ 0  0  0 59 65 11 34 64 51 59]\n",
      " [ 0  0  0  0 30 28 52 79 17 85]\n",
      " [ 0  0  0  0  0 86 72 42 89 77]\n",
      " [ 0  0  0  0  0  0 59 37 25 33]]\n"
     ]
    }
   ],
   "source": [
    "#MA TRẬN TAM GIÁC TRÊN\n",
    "#Tạo ma trận là các phần tử trên đường chéo chính \n",
    "#của ma trận vuông A cách đường chéo chính\n",
    "#về phía dưới 3 đường\n",
    "d_A1 = np.triu(A,-3)\n",
    "print(d_A1)"
   ]
  },
  {
   "cell_type": "code",
   "execution_count": 64,
   "metadata": {},
   "outputs": [
    {
     "name": "stdout",
     "output_type": "stream",
     "text": [
      "[[95  0  0  0  0  0  0  0  0  0]\n",
      " [48 87  0  0  0  0  0  0  0  0]\n",
      " [15  7 78  0  0  0  0  0  0  0]\n",
      " [ 1 48 19 67  0  0  0  0  0  0]\n",
      " [ 1 41 88 73 85  0  0  0  0  0]\n",
      " [89 29 60 18 60 39  0  0  0  0]\n",
      " [43 28 22 59 65 11 34  0  0  0]\n",
      " [27 80 98  5 30 28 52 79  0  0]\n",
      " [32 32 12 28 18 86 72 42 89  0]\n",
      " [34 33 78 62 79 89 59 37 25 33]]\n"
     ]
    }
   ],
   "source": [
    "#MA TRẬN TAM GIÁC DƯỚI\n",
    "#của ma trận vuông A\n",
    "b_A1 = np.tril(A)\n",
    "print(b_A1)"
   ]
  },
  {
   "cell_type": "code",
   "execution_count": 65,
   "metadata": {},
   "outputs": [
    {
     "name": "stdout",
     "output_type": "stream",
     "text": [
      "[[ 0  0  0  0  0  0  0  0  0  0]\n",
      " [ 0  0  0  0  0  0  0  0  0  0]\n",
      " [ 0  0  0  0  0  0  0  0  0  0]\n",
      " [ 1  0  0  0  0  0  0  0  0  0]\n",
      " [ 1 41  0  0  0  0  0  0  0  0]\n",
      " [89 29 60  0  0  0  0  0  0  0]\n",
      " [43 28 22 59  0  0  0  0  0  0]\n",
      " [27 80 98  5 30  0  0  0  0  0]\n",
      " [32 32 12 28 18 86  0  0  0  0]\n",
      " [34 33 78 62 79 89 59  0  0  0]]\n"
     ]
    }
   ],
   "source": [
    "b_A1 = np.tril(A,-3)\n",
    "print(b_A1)"
   ]
  },
  {
   "cell_type": "code",
   "execution_count": 66,
   "metadata": {},
   "outputs": [
    {
     "name": "stdout",
     "output_type": "stream",
     "text": [
      "[[95 54 39 56 91  0  0  0  0  0]\n",
      " [48 87 39 56 33 91  0  0  0  0]\n",
      " [15  7 78  7 37 19 53  0  0  0]\n",
      " [ 1 48 19 67 78 74 35 94  0  0]\n",
      " [ 1 41 88 73 85 22 48 91 24  0]\n",
      " [89 29 60 18 60 39  8 29 10 64]\n",
      " [43 28 22 59 65 11 34 64 51 59]\n",
      " [27 80 98  5 30 28 52 79 17 85]\n",
      " [32 32 12 28 18 86 72 42 89 77]\n",
      " [34 33 78 62 79 89 59 37 25 33]]\n"
     ]
    }
   ],
   "source": [
    "b_A1 = np.tril(A,4)\n",
    "print(b_A1)"
   ]
  },
  {
   "cell_type": "markdown",
   "metadata": {},
   "source": [
    "**C) Trace of Matrix**"
   ]
  },
  {
   "cell_type": "code",
   "execution_count": null,
   "metadata": {},
   "outputs": [],
   "source": [
    "A"
   ]
  },
  {
   "cell_type": "code",
   "execution_count": 67,
   "metadata": {},
   "outputs": [
    {
     "name": "stdout",
     "output_type": "stream",
     "text": [
      "Trace of Matrix A:  686\n"
     ]
    }
   ],
   "source": [
    "#Tính trace của ma trận vuông A\n",
    "trace_A = A.trace()\n",
    "print('Trace of Matrix A: ',trace_A)"
   ]
  },
  {
   "cell_type": "code",
   "execution_count": null,
   "metadata": {},
   "outputs": [],
   "source": [
    "#Cách 2: Tính trace của ma trận vuông A\n",
    "trace_A = A.diagonal().sum()\n",
    "print('Trace of Matrix A: ',trace_A)"
   ]
  },
  {
   "cell_type": "markdown",
   "metadata": {},
   "source": [
    "#### D) Eigenvector | Eigenvalues\n",
    "---"
   ]
  },
  {
   "cell_type": "code",
   "execution_count": null,
   "metadata": {},
   "outputs": [],
   "source": [
    "#Tìm giá trị riêng, vector riêng của vector A\n",
    "A = np.array([(3, 4,-2),\n",
    "              (1, 4,-1),\n",
    "              (2, 6,-1)])\n",
    "print(A)\n",
    "eigenvalues, eigenvectors = np.linalg.eig(A)\n",
    "print('Eigenvalues: ', eigenvalues)\n",
    "print('Eigenvectors: \\n',eigenvectors)"
   ]
  },
  {
   "cell_type": "code",
   "execution_count": null,
   "metadata": {},
   "outputs": [],
   "source": [
    "det_a =  np.linalg.det(A)\n",
    "print('det(A) = ', det_a)"
   ]
  },
  {
   "cell_type": "code",
   "execution_count": null,
   "metadata": {},
   "outputs": [],
   "source": [
    "#Kiểm tra\n",
    "t = eigenvectors[:,0]\n",
    "print(t)"
   ]
  },
  {
   "cell_type": "code",
   "execution_count": null,
   "metadata": {},
   "outputs": [],
   "source": [
    "print(A@t)"
   ]
  },
  {
   "cell_type": "code",
   "execution_count": null,
   "metadata": {},
   "outputs": [],
   "source": [
    "print(3*t)"
   ]
  },
  {
   "cell_type": "code",
   "execution_count": null,
   "metadata": {},
   "outputs": [],
   "source": [
    "#Trường hợp det(A) = 0\n",
    "import numpy as np\n",
    "b =np.array([( 1, 2, 3, 4),\n",
    "             (-2,-1, 4, 1),\n",
    "             ( 3,-4,-5, 6),\n",
    "             ( 1, 2, 3, 4)])\n",
    "print('Ma trận b:\\n',b)\n",
    "det_b =  np.linalg.det(b)\n",
    "print('det(b) = ', det_b)"
   ]
  },
  {
   "cell_type": "code",
   "execution_count": null,
   "metadata": {},
   "outputs": [],
   "source": [
    "#Trị riêng, vector riêng là số phức.\n",
    "eigenvalues_b, eigenvectors_b = np.linalg.eig(b)\n",
    "print('Eigenvalues: ', eigenvalues_b)\n",
    "print('Eigenvectors: \\n',eigenvectors_b)"
   ]
  },
  {
   "cell_type": "code",
   "execution_count": null,
   "metadata": {},
   "outputs": [],
   "source": []
  },
  {
   "cell_type": "markdown",
   "metadata": {},
   "source": [
    "## THỰC HÀNH SỐ 3:\n",
    "---\n",
    "**Yêu cầu 3.1: Sử dụng vector_weigth trong bài thực hành 2 chuyển về ma trận kích thước 10 x 10**"
   ]
  },
  {
   "cell_type": "code",
   "execution_count": null,
   "metadata": {},
   "outputs": [],
   "source": [
    "#{HỌC VIÊN VIÊT CODE VÀO ĐÂY}\n",
    "\n",
    "\n",
    "\n",
    "\n"
   ]
  },
  {
   "cell_type": "code",
   "execution_count": null,
   "metadata": {},
   "outputs": [],
   "source": []
  },
  {
   "cell_type": "markdown",
   "metadata": {},
   "source": [
    "**Yêu cầu 3.2: Cho biết ma trận weight có tồn tại ma trân nghịch đảo không? Nếu có hãy xác định ma trận weight-1 ?**"
   ]
  },
  {
   "cell_type": "code",
   "execution_count": null,
   "metadata": {},
   "outputs": [],
   "source": [
    "#{HỌC VIÊN VIÊT CODE VÀO ĐÂY}\n",
    "\n",
    "\n",
    "\n",
    "\n"
   ]
  },
  {
   "cell_type": "code",
   "execution_count": null,
   "metadata": {},
   "outputs": [],
   "source": []
  },
  {
   "cell_type": "markdown",
   "metadata": {},
   "source": [
    "**Yêu cầu 3.3: Tạo vector_diagonal chứa các phần tử trên đường chéo chính của ma trận weight, tính trace của ma trận weight.**"
   ]
  },
  {
   "cell_type": "code",
   "execution_count": null,
   "metadata": {},
   "outputs": [],
   "source": [
    "#{HỌC VIÊN VIÊT CODE VÀO ĐÂY}\n",
    "\n",
    "\n",
    "\n",
    "\n"
   ]
  },
  {
   "cell_type": "code",
   "execution_count": null,
   "metadata": {},
   "outputs": [],
   "source": []
  },
  {
   "cell_type": "markdown",
   "metadata": {},
   "source": [
    "**Yêu cầu 3.4: Tìm giá trị lớn nhất của ma trận đường chéo trên và ma trận đường chéo dưới không bao gồm các phần tử trên đường chéo chính**"
   ]
  },
  {
   "cell_type": "code",
   "execution_count": null,
   "metadata": {},
   "outputs": [],
   "source": [
    "#{HỌC VIÊN VIÊT CODE VÀO ĐÂY}\n",
    "\n",
    "\n",
    "\n",
    "\n"
   ]
  },
  {
   "cell_type": "code",
   "execution_count": null,
   "metadata": {},
   "outputs": [],
   "source": []
  },
  {
   "cell_type": "markdown",
   "metadata": {},
   "source": [
    "## 6. Phép toán trên 2 mảng\n",
    "---\n",
    "<img src='Pic\\math.png' width='500px'>"
   ]
  },
  {
   "cell_type": "code",
   "execution_count": null,
   "metadata": {},
   "outputs": [],
   "source": []
  },
  {
   "cell_type": "code",
   "execution_count": null,
   "metadata": {},
   "outputs": [],
   "source": [
    "# Thực hiện các phép toán giữa 2 biến array\n",
    "# Yêu cầu: Số phần tử của hai mảng, ma trận phải bằng nhau\n",
    "a=np.array((7,5,8,1))\n",
    "print('Mảng a: ', a)\n",
    "b=np.array((1,2,3,4))\n",
    "print('Mảng b: ', b)\n",
    "\n",
    "#Các phép toán trên 2 biến array\n",
    "array_tong = a + b\n",
    "print(\"Tổng mảng a + b:\", array_tong)\n",
    "\n",
    "array_hieu = a - b\n",
    "print(\"Tổng mảng a - b:\", array_hieu)\n",
    "\n",
    "array_tich=a*b\n",
    "print(\"Tích mảng a * b:\", array_tich)\n",
    "\n",
    "array_thuong=a/b\n",
    "print(\"Tích mảng a / b:\", array_thuong)\n",
    "\n",
    "array_thuongnguyen=a//b\n",
    "print(\"Thương nguyên mảng a // b:\", array_thuongnguyen)\n",
    "\n",
    "array_thuongdu=a%b\n",
    "print(\"Thương dư của mảng a % b:\", array_thuongdu)"
   ]
  },
  {
   "cell_type": "code",
   "execution_count": null,
   "metadata": {},
   "outputs": [],
   "source": [
    "#PHép toán trên Ma trận\n",
    "#Khởi tạo ma trận ví dụ:\n",
    "a = np.random.randint(1,20,(3,5))\n",
    "b = np.random.randint(1,20,(3,5))\n",
    "print('Matrix a: \\n',a)\n",
    "print('Matrix b: \\n',b)"
   ]
  },
  {
   "cell_type": "code",
   "execution_count": null,
   "metadata": {},
   "outputs": [],
   "source": [
    "#1) So sánh 2 ma trận\n",
    "equal_ab = np.equal(a,b)\n",
    "#hoặc equal_ab = a==b\n",
    "\n",
    "print(equal_ab)"
   ]
  },
  {
   "cell_type": "code",
   "execution_count": null,
   "metadata": {},
   "outputs": [],
   "source": [
    "#Phép cộng 2 ma trận\n",
    "sum_ab = np.add(a,b)\n",
    "#hoặc sum_ab = a + b\n",
    "print (sum_ab)"
   ]
  },
  {
   "cell_type": "code",
   "execution_count": null,
   "metadata": {},
   "outputs": [],
   "source": [
    "#Phép trừ 2 ma trận\n",
    "sub_ab = np.subtract(a,b)\n",
    "#hoặc sub_ab = a - b\n",
    "print (sub_ab)"
   ]
  },
  {
   "cell_type": "code",
   "execution_count": null,
   "metadata": {},
   "outputs": [],
   "source": [
    "c = np.random.randint(1,20,(5,4))\n",
    "print('Matrix a: \\n',a)\n",
    "print('Matrix c: \\n',c)"
   ]
  },
  {
   "cell_type": "code",
   "execution_count": null,
   "metadata": {},
   "outputs": [],
   "source": [
    "#3) Tích của 2 ma trận:\n",
    "#a(mxn) x C(nxk) = AC(m,k)\n",
    "#multi_ac = np.dot(a,c)\n",
    "multi_ac1 = a@c\n",
    "print(multi_ac1)"
   ]
  },
  {
   "cell_type": "code",
   "execution_count": null,
   "metadata": {},
   "outputs": [],
   "source": [
    "#Lưu ý: Nếu sử dụng phép toán *, \n",
    "#thực hiện nhân từng phần tử của ma trận a và b theo từng vị trí\n",
    "#a, b có cùng kích thước.\n",
    "\n",
    "multi_ac = a*b\n",
    "print(multi_ac)\n",
    "print"
   ]
  },
  {
   "cell_type": "code",
   "execution_count": null,
   "metadata": {},
   "outputs": [],
   "source": [
    "#Tích của 2 vector:\n",
    "vector_a = np.random.randint(1,20,10)\n",
    "vector_b = np.random.randint(1,20,10)\n",
    "#Thực hiện tính tích của 2 vector\n",
    "#Kết quả trả về một số\n",
    "vector_ab = vector_a @ vector_b\n",
    "\n",
    "print('Vector a:\\n',vector_a)\n",
    "print('Vector b:\\n',vector_b)\n",
    "print('Tích của hai vector:\\n',vector_ab)"
   ]
  },
  {
   "cell_type": "markdown",
   "metadata": {},
   "source": [
    "# THỰC HÀNH SỐ 4\n",
    "---\n",
    "**Yêu cầu 4.1: Chuyển vector_height, vector_weigth trong bài thực hành 2 về ma trận height, weight kích thước 10 x 10.**\n",
    "\n",
    "Thực hiện các phép toán: So sánh; Cộng; Trừ; Nhân hai ma trận height và weighT"
   ]
  },
  {
   "cell_type": "code",
   "execution_count": null,
   "metadata": {},
   "outputs": [],
   "source": [
    "#{HỌC VIÊN VIÊT CODE VÀO ĐÂY}\n",
    "\n",
    "\n",
    "\n",
    "\n"
   ]
  },
  {
   "cell_type": "code",
   "execution_count": null,
   "metadata": {},
   "outputs": [],
   "source": []
  },
  {
   "cell_type": "markdown",
   "metadata": {},
   "source": [
    "## 7. Rank(A); A.T\n",
    "---\n",
    "### 7.1) Hạng của ma trận"
   ]
  },
  {
   "cell_type": "code",
   "execution_count": null,
   "metadata": {
    "scrolled": true
   },
   "outputs": [],
   "source": [
    "A=np.array([(-1, 2, 0, 4, 5,-3),\n",
    "            ( 3,-7, 2, 0, 1, 4),\n",
    "            ( 2,-5, 2, 4, 6, 1),\n",
    "            ( 4,-9, 2,-4,-4, 7)])\n",
    "#Tìm hạng của ma trận A\n",
    "rank_a = np.linalg.matrix_rank(A)\n",
    "print(A)\n",
    "print('Rank(A) = ', rank_a)"
   ]
  },
  {
   "cell_type": "code",
   "execution_count": null,
   "metadata": {},
   "outputs": [],
   "source": [
    "#Hạng của ma trận 0\n",
    "A_0 = np.zeros((4,5))\n",
    "print(A_0)\n",
    "rank = np.linalg.matrix_rank(A_0)\n",
    "print('Rank(A_0) = ', rank)"
   ]
  },
  {
   "cell_type": "code",
   "execution_count": null,
   "metadata": {},
   "outputs": [],
   "source": [
    "#Hạng của ma trận có các phần tử bằng nhau\n",
    "A_cons = np.full((4,5),5)\n",
    "print(A_cons)\n",
    "rank_c = np.linalg.matrix_rank(A_cons)\n",
    "print('Rank(A_cons) = ', rank_c)"
   ]
  },
  {
   "cell_type": "code",
   "execution_count": null,
   "metadata": {},
   "outputs": [],
   "source": [
    "#Hạng của ma trận có det(A)=0\n",
    "import numpy as np\n",
    "B =np.array([( 1, 2, 3, 4),\n",
    "             (-2,-1, 4, 1),\n",
    "             ( 3,-4,-5, 6),\n",
    "             ( 1, 2, 3, 4)])\n",
    "print('Ma trận B1:\\n',B)\n",
    "det_b =  np.linalg.det(B)\n",
    "print('det(B1) = ', det_b)\n",
    "rank_b = np.linalg.matrix_rank(B)\n",
    "print('Rank(B1) = ', rank_b)"
   ]
  },
  {
   "cell_type": "code",
   "execution_count": null,
   "metadata": {},
   "outputs": [],
   "source": [
    "#Hạng của ma trận có det(A)#0\n",
    "import numpy as np\n",
    "B =np.array([( 1, 3, 1, 4),\n",
    "             ( 3, 9, 5,15),\n",
    "             ( 0, 2, 1, 1),\n",
    "             ( 0, 4, 2, 3)])\n",
    "print('Ma trận B2:\\n',B)\n",
    "det_b =  np.linalg.det(B)\n",
    "print('det(B2) = ', round(det_b,2))\n",
    "rank_b = np.linalg.matrix_rank(B)\n",
    "print('Rank(B2) = ', rank_b)"
   ]
  },
  {
   "cell_type": "markdown",
   "metadata": {},
   "source": [
    "### 7.2) Ma trận chuyển vị\n",
    "---"
   ]
  },
  {
   "cell_type": "code",
   "execution_count": null,
   "metadata": {},
   "outputs": [],
   "source": [
    "#MA TRẬN CHUYỂN VỊ\n",
    "A=np.array([(-1, 2, 0, 4, 5,-3),\n",
    "            ( 3,-7, 2, 0, 1, 4),\n",
    "            ( 2,-5, 2, 4, 6, 1),\n",
    "            ( 4,-9, 2,-4,-4, 7)])\n",
    "#Tìm ma trận chuyển vị của A\n",
    "A_T = A.T\n",
    "print('Ma trận A:\\n',A)\n",
    "print('Ma trận chuyển vị của A:\\n',A_T)"
   ]
  },
  {
   "cell_type": "code",
   "execution_count": null,
   "metadata": {},
   "outputs": [],
   "source": [
    "B =np.array([( 1, 3, 1, 4),\n",
    "             ( 3, 9, 5,15),\n",
    "             ( 0, 2, 1, 1),\n",
    "             ( 0, 4, 2, 3)])\n",
    "#Tìm ma trận chuyển vị của B\n",
    "B_T = B.T\n",
    "print('Ma trận B:\\n',B)\n",
    "print('Ma trận chuyển vị của B:\\n',B_T)"
   ]
  },
  {
   "cell_type": "markdown",
   "metadata": {},
   "source": [
    "## THỰC HÀNH SỐ 5\n",
    "---\n",
    "**Yêu cầu: Học viên tìm ma trận nghịch đảo và hạng của ma trận Height, Weight trong bài thực hành số 4:**\n"
   ]
  },
  {
   "cell_type": "code",
   "execution_count": null,
   "metadata": {},
   "outputs": [],
   "source": [
    "#{HỌC VIÊN VIÊT CODE VÀO ĐÂY}\n",
    "\n",
    "\n",
    "\n",
    "\n"
   ]
  },
  {
   "cell_type": "code",
   "execution_count": null,
   "metadata": {},
   "outputs": [],
   "source": []
  },
  {
   "cell_type": "code",
   "execution_count": null,
   "metadata": {},
   "outputs": [],
   "source": []
  }
 ],
 "metadata": {
  "colab": {
   "collapsed_sections": [],
   "name": "Chuong_4_package_Numpy.ipynb",
   "provenance": []
  },
  "kernelspec": {
   "display_name": "Python 3 (ipykernel)",
   "language": "python",
   "name": "python3"
  },
  "language_info": {
   "codemirror_mode": {
    "name": "ipython",
    "version": 3
   },
   "file_extension": ".py",
   "mimetype": "text/x-python",
   "name": "python",
   "nbconvert_exporter": "python",
   "pygments_lexer": "ipython3",
   "version": "3.9.12"
  }
 },
 "nbformat": 4,
 "nbformat_minor": 1
}
