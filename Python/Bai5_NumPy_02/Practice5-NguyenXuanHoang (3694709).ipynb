{
 "cells": [
  {
   "cell_type": "markdown",
   "metadata": {
    "colab_type": "text",
    "id": "wDtyCjZ4yc-W"
   },
   "source": [
    "## <img src ='Pic\\logo.jpg' width='700px'>\n",
    "\n",
    "\n",
    "<div align=\"center\">\n",
    "\n",
    "# KHÓA HỌC: LẬP TRÌNH PYTHON CƠ BẢN\n",
    "\n",
    "</div>\n",
    "\n",
    "-----\n",
    "Practice 5 - Làm việc với Thư viện NumPy - Phần 02\n",
    "----\n",
    "Họ tên học viên: Nguyễn Xuân Hoàng\n",
    "\n",
    "Email: Hoangk63hust@gmail.com"
   ]
  },
  {
   "cell_type": "markdown",
   "metadata": {},
   "source": [
    "## THỰC HÀNH SỐ 1:\n",
    "---\n",
    "**Yêu cầu: Tạo một vector gồm 30 phần tử, có giá trị tăng dần từ 1 đến 30**\n",
    "\n",
    "Chỉ sử dụng các phương thức reshape, ravel, split…tách Vector a ở trên thành 3 vector con bao gồm:\n",
    "\n",
    "1. a_lẻ: chứa các phần tử là số lẻ; \n",
    "2. a_chan: chứa các phần tử là số chẵn.\n",
    "3. a_3: chứa các phần tử chia hết cho 3"
   ]
  },
  {
   "cell_type": "code",
   "execution_count": 1,
   "metadata": {},
   "outputs": [
    {
     "name": "stdout",
     "output_type": "stream",
     "text": [
      "Version 1.21.5\n"
     ]
    }
   ],
   "source": [
    "#{HỌC VIÊN VIẾT CODE VÀO ĐÂY}\n",
    "import numpy as np\n",
    "print('Version', np.__version__)\n",
    "\n",
    "\n"
   ]
  },
  {
   "cell_type": "code",
   "execution_count": 20,
   "metadata": {},
   "outputs": [
    {
     "data": {
      "text/plain": [
       "array([ 1,  2,  3,  4,  5,  6,  7,  8,  9, 10, 11, 12, 13, 14, 15, 16, 17,\n",
       "       18, 19, 20, 21, 22, 23, 24, 25, 26, 27, 28, 29, 30])"
      ]
     },
     "execution_count": 20,
     "metadata": {},
     "output_type": "execute_result"
    }
   ],
   "source": [
    "a = np.arange(1,31)\n",
    "a\n"
   ]
  },
  {
   "cell_type": "code",
   "execution_count": 27,
   "metadata": {},
   "outputs": [
    {
     "name": "stdout",
     "output_type": "stream",
     "text": [
      "a_le: [ 1  3  5  7  9 11 13 15 17 19 21 23 25 27 29]\n",
      "a_chan: [ 2  4  6  8 10 12 14 16 18 20 22 24 26 28 30]\n",
      "a_3: [ 3  6  9 12 15 18 21 24 27 30]\n"
     ]
    }
   ],
   "source": [
    "a_le, a_chan = a.reshape(-1,2)[:,0], a.reshape(-1,2)[:,1]\n",
    "print('a_le:', a_le)\n",
    "print('a_chan:',a_chan)\n",
    "print('a_3:', a.reshape(-1,3)[:,2])\n"
   ]
  },
  {
   "cell_type": "markdown",
   "metadata": {},
   "source": [
    "# THỰC HÀNH SỐ 2:\n",
    "---\n",
    "\n",
    "**Yêu cầu 2.1: Đọc dữ liệu từ file Data_Excercise/Data_BMI.txt vào 2 vector tương ứng**\n",
    "1. v_height: chứa dữ liệu chiều cao\n",
    "2. v_Weight: Chứa dữ liệu cân nặng\n"
   ]
  },
  {
   "cell_type": "code",
   "execution_count": 32,
   "metadata": {},
   "outputs": [],
   "source": [
    "#{HỌC VIÊN VIÊT CODE VÀO ĐÂY}\n",
    "BMI = np.loadtxt('Data_Excercise/Data_BMI.txt')\n"
   ]
  },
  {
   "cell_type": "code",
   "execution_count": 34,
   "metadata": {},
   "outputs": [],
   "source": [
    "v_height = BMI[:,0]\n",
    "v_weight = BMI[:,1]"
   ]
  },
  {
   "cell_type": "markdown",
   "metadata": {},
   "source": [
    "**Yêu cầu 2.2: Tạo vector v_height_m2 từ vector v_height theo yêu cầu sau:**\n",
    "1. Chuyển đổi đơn vị của các phần tử từ cm sang m\n",
    "2. Tính bình phương giá trị các phần tử"
   ]
  },
  {
   "cell_type": "code",
   "execution_count": 46,
   "metadata": {},
   "outputs": [
    {
     "name": "stdout",
     "output_type": "stream",
     "text": [
      "v_height_m2:  [1.74 1.89 1.85 1.95 1.49 1.89 1.47 1.54 1.74 1.69 1.95 1.59 1.92 1.55\n",
      " 1.91 1.53 1.57 1.4  1.44 1.72 1.57 1.53 1.69 1.85 1.72 1.51 1.9  1.87\n",
      " 1.63 1.79 1.53 1.78 1.95 1.6  1.57 1.89 1.97 1.44 1.71 1.85 1.75 1.49\n",
      " 1.57 1.61 1.82 1.85 1.88 1.81 1.61 1.4  1.68 1.76 1.63 1.72 1.96 1.87\n",
      " 1.72 1.78 1.64 1.43 1.91 1.41 1.93 1.9  1.75 1.79 1.72 1.68 1.64 1.94\n",
      " 1.53 1.78 1.41 1.8  1.85 1.97 1.65 1.68 1.76 1.81 1.64 1.66 1.9  1.86\n",
      " 1.68 1.98 1.75 1.45 1.59 1.85 1.78 1.83 1.94 1.77 1.97 1.7  1.42 1.6\n",
      " 1.95 1.9 ]\n",
      "Binh phuong cac phan tu: \n",
      " [3.0276 3.5721 3.4225 3.8025 2.2201 3.5721 2.1609 2.3716 3.0276 2.8561\n",
      " 3.8025 2.5281 3.6864 2.4025 3.6481 2.3409 2.4649 1.96   2.0736 2.9584\n",
      " 2.4649 2.3409 2.8561 3.4225 2.9584 2.2801 3.61   3.4969 2.6569 3.2041\n",
      " 2.3409 3.1684 3.8025 2.56   2.4649 3.5721 3.8809 2.0736 2.9241 3.4225\n",
      " 3.0625 2.2201 2.4649 2.5921 3.3124 3.4225 3.5344 3.2761 2.5921 1.96\n",
      " 2.8224 3.0976 2.6569 2.9584 3.8416 3.4969 2.9584 3.1684 2.6896 2.0449\n",
      " 3.6481 1.9881 3.7249 3.61   3.0625 3.2041 2.9584 2.8224 2.6896 3.7636\n",
      " 2.3409 3.1684 1.9881 3.24   3.4225 3.8809 2.7225 2.8224 3.0976 3.2761\n",
      " 2.6896 2.7556 3.61   3.4596 2.8224 3.9204 3.0625 2.1025 2.5281 3.4225\n",
      " 3.1684 3.3489 3.7636 3.1329 3.8809 2.89   2.0164 2.56   3.8025 3.61  ]\n"
     ]
    }
   ],
   "source": [
    "#{HỌC VIÊN VIÊT CODE VÀO ĐÂY}\n",
    "v_height_m2 = v_height*0.01\n",
    "print('v_height_m2: ', v_height_m2)\n",
    "v_height_m2 = v_height_m2**2\n",
    "print('Binh phuong cac phan tu: \\n', v_height_m2)\n"
   ]
  },
  {
   "cell_type": "code",
   "execution_count": 42,
   "metadata": {},
   "outputs": [
    {
     "name": "stdout",
     "output_type": "stream",
     "text": [
      "Dung phuong thuc cua numpy\n",
      "v_height_m2:  [1.74 1.89 1.85 1.95 1.49 1.89 1.47 1.54 1.74 1.69 1.95 1.59 1.92 1.55\n",
      " 1.91 1.53 1.57 1.4  1.44 1.72 1.57 1.53 1.69 1.85 1.72 1.51 1.9  1.87\n",
      " 1.63 1.79 1.53 1.78 1.95 1.6  1.57 1.89 1.97 1.44 1.71 1.85 1.75 1.49\n",
      " 1.57 1.61 1.82 1.85 1.88 1.81 1.61 1.4  1.68 1.76 1.63 1.72 1.96 1.87\n",
      " 1.72 1.78 1.64 1.43 1.91 1.41 1.93 1.9  1.75 1.79 1.72 1.68 1.64 1.94\n",
      " 1.53 1.78 1.41 1.8  1.85 1.97 1.65 1.68 1.76 1.81 1.64 1.66 1.9  1.86\n",
      " 1.68 1.98 1.75 1.45 1.59 1.85 1.78 1.83 1.94 1.77 1.97 1.7  1.42 1.6\n",
      " 1.95 1.9 ]\n",
      "Binh phuong cac phan tu: \n",
      " [3.0276 3.5721 3.4225 3.8025 2.2201 3.5721 2.1609 2.3716 3.0276 2.8561\n",
      " 3.8025 2.5281 3.6864 2.4025 3.6481 2.3409 2.4649 1.96   2.0736 2.9584\n",
      " 2.4649 2.3409 2.8561 3.4225 2.9584 2.2801 3.61   3.4969 2.6569 3.2041\n",
      " 2.3409 3.1684 3.8025 2.56   2.4649 3.5721 3.8809 2.0736 2.9241 3.4225\n",
      " 3.0625 2.2201 2.4649 2.5921 3.3124 3.4225 3.5344 3.2761 2.5921 1.96\n",
      " 2.8224 3.0976 2.6569 2.9584 3.8416 3.4969 2.9584 3.1684 2.6896 2.0449\n",
      " 3.6481 1.9881 3.7249 3.61   3.0625 3.2041 2.9584 2.8224 2.6896 3.7636\n",
      " 2.3409 3.1684 1.9881 3.24   3.4225 3.8809 2.7225 2.8224 3.0976 3.2761\n",
      " 2.6896 2.7556 3.61   3.4596 2.8224 3.9204 3.0625 2.1025 2.5281 3.4225\n",
      " 3.1684 3.3489 3.7636 3.1329 3.8809 2.89   2.0164 2.56   3.8025 3.61  ]\n"
     ]
    }
   ],
   "source": [
    "print('Dung phuong thuc cua numpy')\n",
    "print('v_height_m2: ', np.multiply(v_height,0.01))\n",
    "print('Binh phuong cac phan tu: \\n', np.power(v_height*0.01, 2))"
   ]
  },
  {
   "cell_type": "code",
   "execution_count": null,
   "metadata": {},
   "outputs": [],
   "source": []
  },
  {
   "cell_type": "markdown",
   "metadata": {},
   "source": [
    "**Yêu cầu 2.3: Tính chỉ số BMI của 100 người ngày theo công thức bên dưới, chỉ số BMI được làm tròn tới 1 số sau dấu “,”. Lưu kết quả vào vector v_bmi**"
   ]
  },
  {
   "cell_type": "code",
   "execution_count": 48,
   "metadata": {},
   "outputs": [
    {
     "name": "stdout",
     "output_type": "stream",
     "text": [
      "Chi so BMI [31.7 24.4 32.1 27.4 27.5 29.1 42.6 46.8 29.7 36.1 21.3 31.6 27.4 21.2\n",
      " 21.7 45.7 44.6 65.8 69.9 47.  44.6 63.7 34.  40.6 22.6 28.1 26.3 17.7\n",
      " 59.8 47.4 51.7 16.4 17.1 51.2 62.1 37.  29.4 38.6 52.  23.7 39.2 48.6\n",
      " 22.7 45.5 38.  22.2 34.5 33.9 27.8 77.6 47.8 17.4 41.4 35.5 30.2 25.5\n",
      " 31.1 40.1 26.  43.  14.8 71.9 14.5 23.  44.1 49.3 32.4 20.9 30.5 36.1\n",
      " 21.8 36.9 40.2 23.1 29.2 39.7 38.2 31.9 39.4 15.6 27.9 50.8 29.1 34.1\n",
      " 43.6 12.8 46.  55.6 41.1 40.9 48.6 28.7 29.5 19.5 30.7 54.  34.2 54.3\n",
      " 18.1 13.9]\n"
     ]
    }
   ],
   "source": [
    "#{HỌC VIÊN VIÊT CODE VÀO ĐÂY}\n",
    "v_bmi = np.around(v_weight/v_height_m2,1)\n",
    "print('Chi so BMI', v_bmi)"
   ]
  },
  {
   "cell_type": "code",
   "execution_count": null,
   "metadata": {},
   "outputs": [],
   "source": []
  },
  {
   "cell_type": "markdown",
   "metadata": {},
   "source": [
    "**Yêu cầu 2.4: Sắp xếp thứ tự các phần tử trong vector v_bmi theo chiều tăng dần, giảm dần**"
   ]
  },
  {
   "cell_type": "code",
   "execution_count": 53,
   "metadata": {},
   "outputs": [
    {
     "name": "stdout",
     "output_type": "stream",
     "text": [
      "Tang dan: [12.8 13.9 14.5 14.8 15.6 16.4 17.1 17.4 17.7 18.1 19.5 20.9 21.2 21.3\n",
      " 21.7 21.8 22.2 22.6 22.7 23.  23.1 23.7 24.4 25.5 26.  26.3 27.4 27.4\n",
      " 27.5 27.8 27.9 28.1 28.7 29.1 29.1 29.2 29.4 29.5 29.7 30.2 30.5 30.7\n",
      " 31.1 31.6 31.7 31.9 32.1 32.4 33.9 34.  34.1 34.2 34.5 35.5 36.1 36.1\n",
      " 36.9 37.  38.  38.2 38.6 39.2 39.4 39.7 40.1 40.2 40.6 40.9 41.1 41.4\n",
      " 42.6 43.  43.6 44.1 44.6 44.6 45.5 45.7 46.  46.8 47.  47.4 47.8 48.6\n",
      " 48.6 49.3 50.8 51.2 51.7 52.  54.  54.3 55.6 59.8 62.1 63.7 65.8 69.9\n",
      " 71.9 77.6]\n",
      "Giam dan [77.6 71.9 69.9 65.8 63.7 62.1 59.8 55.6 54.3 54.  52.  51.7 51.2 50.8\n",
      " 49.3 48.6 48.6 47.8 47.4 47.  46.8 46.  45.7 45.5 44.6 44.6 44.1 43.6\n",
      " 43.  42.6 41.4 41.1 40.9 40.6 40.2 40.1 39.7 39.4 39.2 38.6 38.2 38.\n",
      " 37.  36.9 36.1 36.1 35.5 34.5 34.2 34.1 34.  33.9 32.4 32.1 31.9 31.7\n",
      " 31.6 31.1 30.7 30.5 30.2 29.7 29.5 29.4 29.2 29.1 29.1 28.7 28.1 27.9\n",
      " 27.8 27.5 27.4 27.4 26.3 26.  25.5 24.4 23.7 23.1 23.  22.7 22.6 22.2\n",
      " 21.8 21.7 21.3 21.2 20.9 19.5 18.1 17.7 17.4 17.1 16.4 15.6 14.8 14.5\n",
      " 13.9 12.8]\n"
     ]
    }
   ],
   "source": [
    "#{HỌC VIÊN VIÊT CODE VÀO ĐÂY}\n",
    "print('Tang dan:', np.sort(v_bmi))\n",
    "print('Giam dan', -np.sort(-v_bmi))\n",
    "\n",
    "\n"
   ]
  },
  {
   "cell_type": "markdown",
   "metadata": {},
   "source": [
    "**Yêu cầu 2.5: Thống kê số lượng người theo từng mức dựa vào phân loại theo hình**"
   ]
  },
  {
   "cell_type": "code",
   "execution_count": 61,
   "metadata": {},
   "outputs": [
    {
     "name": "stdout",
     "output_type": "stream",
     "text": [
      "Underweight: 10\n",
      "Normal: 13\n",
      "Overweight: 16\n",
      "Obese: 14\n",
      "Extremely obese: 47\n"
     ]
    }
   ],
   "source": [
    "#{HỌC VIÊN VIÊT CODE VÀO ĐÂY}\n",
    "c1 = np.where(v_bmi<18.5)\n",
    "print('Underweight:',c1[0].size)\n",
    "c2 = np.where( (18.5<=v_bmi) & (v_bmi <=24.9))\n",
    "print('Normal:',c2[0].size)\n",
    "c3 = np.where( (25<=v_bmi) & (v_bmi <=29.9))\n",
    "print('Overweight:',c3[0].size)\n",
    "c4 = np.where((30<=v_bmi) & (v_bmi <34.9))\n",
    "print('Obese:',c4[0].size)\n",
    "c5 = np.where(v_bmi>35)\n",
    "print('Extremely obese:',c5[0].size)\n",
    "\n",
    "\n",
    "\n",
    "\n"
   ]
  },
  {
   "cell_type": "code",
   "execution_count": null,
   "metadata": {},
   "outputs": [],
   "source": []
  },
  {
   "cell_type": "markdown",
   "metadata": {},
   "source": [
    "## THỰC HÀNH SỐ 3:\n",
    "---\n",
    "**Yêu cầu 3.1: Sử dụng vector_weigth trong bài thực hành 2 chuyển về ma trận kích thước 10 x 10**"
   ]
  },
  {
   "cell_type": "code",
   "execution_count": 67,
   "metadata": {},
   "outputs": [],
   "source": [
    "#{HỌC VIÊN VIÊT CODE VÀO ĐÂY}\n",
    "m = v_weight.reshape(10,10)"
   ]
  },
  {
   "cell_type": "code",
   "execution_count": 68,
   "metadata": {},
   "outputs": [
    {
     "data": {
      "text/plain": [
       "array([[ 96.,  87., 110., 104.,  61., 104.,  92., 111.,  90., 103.],\n",
       "       [ 81.,  80., 101.,  51.,  79., 107., 110., 129., 145., 139.],\n",
       "       [110., 149.,  97., 139.,  67.,  64.,  95.,  62., 159., 152.],\n",
       "       [121.,  52.,  65., 131., 153., 132., 114.,  80., 152.,  81.],\n",
       "       [120., 108.,  56., 118., 126.,  76., 122., 111.,  72., 152.],\n",
       "       [135.,  54., 110., 105., 116.,  89.,  92., 127.,  70.,  88.],\n",
       "       [ 54., 143.,  54.,  83., 135., 158.,  96.,  59.,  82., 136.],\n",
       "       [ 51., 117.,  80.,  75., 100., 154., 104.,  90., 122.,  51.],\n",
       "       [ 75., 140., 105., 118., 123.,  50., 141., 117., 104., 140.],\n",
       "       [154.,  96., 111.,  61., 119., 156.,  69., 139.,  69.,  50.]])"
      ]
     },
     "execution_count": 68,
     "metadata": {},
     "output_type": "execute_result"
    }
   ],
   "source": [
    "m"
   ]
  },
  {
   "cell_type": "markdown",
   "metadata": {},
   "source": [
    "**Yêu cầu 3.2: Cho biết ma trận weight có tồn tại ma trân nghịch đảo không? Nếu có hãy xác định ma trận weight-1 ?**"
   ]
  },
  {
   "cell_type": "code",
   "execution_count": 71,
   "metadata": {},
   "outputs": [
    {
     "name": "stdout",
     "output_type": "stream",
     "text": [
      "det(m):  -1.241241152184681e+18\n",
      "ma tran nghich dao:  [[ 0.20672933 -0.01828619 -0.08121229  0.15165329 -0.05867193 -0.32128926\n",
      "   0.00328234 -0.21117582  0.1531515   0.14765915]\n",
      " [-0.03378959 -0.00092993  0.01637303 -0.02576189  0.01204942  0.03860094\n",
      "  -0.00254169  0.0334947  -0.01916893 -0.01399406]\n",
      " [ 0.16001186 -0.01361912 -0.06334124  0.11206935 -0.06692393 -0.2278292\n",
      "   0.01233269 -0.16357827  0.12566149  0.10512262]\n",
      " [-0.20060155  0.0096163   0.08597968 -0.14951455  0.06703284  0.32178178\n",
      "  -0.00847147  0.21237844 -0.160284   -0.14756298]\n",
      " [-0.1151341   0.00896286  0.04087891 -0.07066568  0.02398925  0.16297821\n",
      "   0.00236627  0.09744888 -0.06997591 -0.06720453]\n",
      " [ 0.04172982 -0.00327195 -0.01645048  0.02463278 -0.00963244 -0.05248791\n",
      "   0.0053399  -0.03159687  0.01832677  0.02128759]\n",
      " [ 0.46636016 -0.03988045 -0.19342132  0.33291136 -0.13479078 -0.70496996\n",
      "   0.01080126 -0.45280827  0.34838493  0.30636839]\n",
      " [-0.35820439  0.03342262  0.14250743 -0.26148364  0.11928475  0.5420641\n",
      "  -0.01976057  0.36295382 -0.27052793 -0.24027735]\n",
      " [-0.11663945  0.01450792  0.04922918 -0.07563266  0.03173362  0.16437771\n",
      "  -0.00762818  0.1113903  -0.08306723 -0.07324272]\n",
      " [-0.02532702  0.00758554  0.01126819 -0.02080555  0.00793174  0.04361741\n",
      "   0.00599041  0.01895287 -0.02303197 -0.0214799 ]]\n"
     ]
    }
   ],
   "source": [
    "#{HỌC VIÊN VIÊT CODE VÀO ĐÂY}\n",
    "det_m = np.linalg.det(m)\n",
    "print('det(m): ', det_m)\n",
    "m1= np.linalg.inv(m)\n",
    "print('ma tran nghich dao: ', m1)\n",
    "\n",
    "\n",
    "\n"
   ]
  },
  {
   "cell_type": "code",
   "execution_count": null,
   "metadata": {},
   "outputs": [],
   "source": []
  },
  {
   "cell_type": "markdown",
   "metadata": {},
   "source": [
    "**Yêu cầu 3.3: Tạo vector_diagonal chứa các phần tử trên đường chéo chính của ma trận weight, tính trace của ma trận weight.**"
   ]
  },
  {
   "cell_type": "code",
   "execution_count": 73,
   "metadata": {},
   "outputs": [
    {
     "name": "stdout",
     "output_type": "stream",
     "text": [
      "cac phan tu tren duong cheo chinh [ 96.  80.  97. 131. 126.  89.  96.  90. 104.  50.]\n",
      "Trace cua ma tran weight: 959.0\n"
     ]
    }
   ],
   "source": [
    "#{HỌC VIÊN VIÊT CODE VÀO ĐÂY}\n",
    "vector_diagonal = m.diagonal()\n",
    "print('cac phan tu tren duong cheo chinh', vector_diagonal)\n",
    "print('Trace cua ma tran weight:', m.trace())\n",
    "\n"
   ]
  },
  {
   "cell_type": "code",
   "execution_count": null,
   "metadata": {},
   "outputs": [],
   "source": []
  },
  {
   "cell_type": "markdown",
   "metadata": {},
   "source": [
    "**Yêu cầu 3.4: Tìm giá trị lớn nhất của ma trận đường chéo trên và ma trận đường chéo dưới không bao gồm các phần tử trên đường chéo chính**"
   ]
  },
  {
   "cell_type": "code",
   "execution_count": 75,
   "metadata": {},
   "outputs": [
    {
     "name": "stdout",
     "output_type": "stream",
     "text": [
      "Gia tri lon nhat cua ma tran duong cheo tren:  159.0\n",
      "Gia tri nho nhat cua ma tran duong cheo duoi 158.0\n"
     ]
    }
   ],
   "source": [
    "#{HỌC VIÊN VIÊT CODE VÀO ĐÂY}\n",
    "\n",
    "m1 = np.triu(m)\n",
    "print('Gia tri lon nhat cua ma tran duong cheo tren: ', m1.max())\n",
    "m2 = np.tril(m)\n",
    "print('Gia tri nho nhat cua ma tran duong cheo duoi', m2.max())\n",
    "\n"
   ]
  },
  {
   "cell_type": "code",
   "execution_count": null,
   "metadata": {},
   "outputs": [],
   "source": []
  },
  {
   "cell_type": "markdown",
   "metadata": {},
   "source": [
    "# THỰC HÀNH SỐ 4\n",
    "---\n",
    "**Yêu cầu 4.1: Chuyển vector_height, vector_weigth trong bài thực hành 2 về ma trận height, weight kích thước 10 x 10.**\n",
    "\n",
    "Thực hiện các phép toán: So sánh; Cộng; Trừ; Nhân hai ma trận height và weighT"
   ]
  },
  {
   "cell_type": "code",
   "execution_count": 78,
   "metadata": {},
   "outputs": [
    {
     "name": "stdout",
     "output_type": "stream",
     "text": [
      "Tổng  [[270. 276. 295. 299. 210. 293. 239. 265. 264. 272.]\n",
      " [276. 239. 293. 206. 270. 260. 267. 269. 289. 311.]\n",
      " [267. 302. 266. 324. 239. 215. 285. 249. 322. 331.]\n",
      " [274. 230. 260. 291. 310. 321. 311. 224. 323. 266.]\n",
      " [295. 257. 213. 279. 308. 261. 310. 292. 233. 292.]\n",
      " [303. 230. 273. 277. 312. 276. 264. 305. 234. 231.]\n",
      " [245. 284. 247. 273. 310. 337. 268. 227. 246. 330.]\n",
      " [204. 295. 221. 255. 285. 351. 269. 258. 298. 232.]\n",
      " [239. 306. 295. 304. 291. 248. 316. 262. 263. 325.]\n",
      " [332. 279. 305. 238. 316. 326. 211. 299. 264. 240.]]\n",
      "Hiệu: [[ 78. 102.  75.  91.  88.  85.  55.  43.  84.  66.]\n",
      " [114.  79.  91. 104. 112.  46.  47.  11.  -1.  33.]\n",
      " [ 47.   4.  72.  46. 105.  87.  95. 125.   4.  27.]\n",
      " [ 32. 126. 130.  29.   4.  57.  83.  64.  19. 104.]\n",
      " [ 55.  41. 101.  43.  56. 109.  66.  70.  89. -12.]\n",
      " [ 33. 122.  53.  67.  80.  98.  80.  51.  94.  55.]\n",
      " [137.  -2. 139. 107.  40.  21.  76. 109.  82.  58.]\n",
      " [102.  61.  61. 105.  85.  43.  61.  78.  54. 130.]\n",
      " [ 89.  26.  85.  68.  45. 148.  34.  28.  55.  45.]\n",
      " [ 24.  87.  83. 116.  78.  14.  73.  21. 126. 140.]]\n",
      "Tích: [[16704. 16443. 20350. 20280.  9089. 19656. 13524. 17094. 15660. 17407.]\n",
      " [15795. 12720. 19392.  7905. 15089. 16371. 17270. 18060. 20880. 23908.]\n",
      " [17270. 22797. 16393. 25715. 11524.  9664. 18050. 11594. 25917. 27208.]\n",
      " [18513.  9256. 12675. 20960. 24021. 24948. 22458. 11520. 25992. 14985.]\n",
      " [21000. 16092.  8792. 18998. 22932. 14060. 22936. 20091. 11592. 21280.]\n",
      " [22680.  9504. 17930. 18060. 22736. 16643. 15824. 22606. 11480. 12584.]\n",
      " [10314. 20163. 10422. 15770. 23625. 28282. 16512.  9912. 13448. 26384.]\n",
      " [ 7803. 20826. 11280. 13500. 18500. 30338. 17160. 15120. 21472.  9231.]\n",
      " [12300. 23240. 19950. 21948. 20664.  9900. 24675. 16965. 16536. 25900.]\n",
      " [27412. 17568. 21534. 10797. 23443. 26520.  9798. 22240. 13455.  9500.]]\n",
      "So Sánh: [[False False False False False False False False False False]\n",
      " [False False False False False False False False False False]\n",
      " [False False False False False False False False False False]\n",
      " [False False False False False False False False False False]\n",
      " [False False False False False False False False False False]\n",
      " [False False False False False False False False False False]\n",
      " [False False False False False False False False False False]\n",
      " [False False False False False False False False False False]\n",
      " [False False False False False False False False False False]\n",
      " [False False False False False False False False False False]]\n"
     ]
    }
   ],
   "source": [
    "#{HỌC VIÊN VIÊT CODE VÀO ĐÂY}\n",
    "height, weight = v_height.reshape(10,10), v_weight.reshape(10,10)\n",
    "\n",
    "\n",
    "print(\"Tổng \", height +  weight)\n",
    "print(\"Hiệu:\", height -  weight)\n",
    "print(\"Tích:\", height *  weight)\n",
    "print(\"So Sánh:\", height == weight)\n",
    "\n"
   ]
  },
  {
   "cell_type": "code",
   "execution_count": null,
   "metadata": {},
   "outputs": [],
   "source": []
  },
  {
   "cell_type": "code",
   "execution_count": null,
   "metadata": {},
   "outputs": [],
   "source": []
  },
  {
   "cell_type": "code",
   "execution_count": null,
   "metadata": {},
   "outputs": [],
   "source": []
  },
  {
   "cell_type": "markdown",
   "metadata": {},
   "source": [
    "## THỰC HÀNH SỐ 5\n",
    "---\n",
    "**Yêu cầu: Học viên tìm ma trận nghịch đảo và hạng của ma trận Height, Weight trong bài thực hành số 4:**\n"
   ]
  },
  {
   "cell_type": "code",
   "execution_count": 82,
   "metadata": {},
   "outputs": [
    {
     "name": "stdout",
     "output_type": "stream",
     "text": [
      "Hang cua ma tran height:  10\n",
      "Hang cua ma tran weight:  10\n",
      "Nghich dao cua ma tran height: \n",
      "  [[ 0.01603724  0.02092798  0.0005634  -0.01423585  0.03551657 -0.04363049\n",
      "  -0.01948489  0.00700362  0.00206303 -0.00199753]\n",
      " [ 0.01145501  0.01012574 -0.00177983  0.01702373 -0.02926175  0.02637695\n",
      "   0.00593858  0.00934035 -0.03106974 -0.01725456]\n",
      " [-0.00829272 -0.01629126 -0.01300203  0.02597273 -0.04412866  0.0594086\n",
      "   0.04409162 -0.02043952 -0.02539402 -0.00393563]\n",
      " [ 0.01044593  0.00900932  0.03553735 -0.06072899  0.06619758 -0.08123257\n",
      "  -0.08346583 -0.01149921  0.0943043   0.02491969]\n",
      " [-0.01611873  0.00544315  0.00754171 -0.02223981  0.0163093  -0.01285604\n",
      "  -0.02944805 -0.00336405  0.03903407  0.0168835 ]\n",
      " [-0.00650082 -0.0159626  -0.03003311  0.02587248 -0.03728232  0.0528001\n",
      "   0.05303036  0.00676435 -0.03283975 -0.01754762]\n",
      " [ 0.00220234  0.01502042  0.02576185 -0.02610571  0.06230938 -0.07197318\n",
      "  -0.06776956 -0.00413956  0.05602876  0.01243454]\n",
      " [-0.00569104 -0.02511792 -0.02964712  0.06285506 -0.10510555  0.12963117\n",
      "   0.12020125  0.00671117 -0.11756002 -0.04024696]\n",
      " [ 0.00517095 -0.00124652  0.01939913 -0.03702511  0.08762944 -0.09656025\n",
      "  -0.07597418 -0.00918086  0.06316968  0.04722127]\n",
      " [-0.00695268 -0.00127346 -0.01378871  0.0314841  -0.05324623  0.04030115\n",
      "   0.05575462  0.02032513 -0.05272843 -0.02111273]]\n",
      "Nghich dao cua ma tran height:\n",
      "  [[ 0.01603724  0.02092798  0.0005634  -0.01423585  0.03551657 -0.04363049\n",
      "  -0.01948489  0.00700362  0.00206303 -0.00199753]\n",
      " [ 0.01145501  0.01012574 -0.00177983  0.01702373 -0.02926175  0.02637695\n",
      "   0.00593858  0.00934035 -0.03106974 -0.01725456]\n",
      " [-0.00829272 -0.01629126 -0.01300203  0.02597273 -0.04412866  0.0594086\n",
      "   0.04409162 -0.02043952 -0.02539402 -0.00393563]\n",
      " [ 0.01044593  0.00900932  0.03553735 -0.06072899  0.06619758 -0.08123257\n",
      "  -0.08346583 -0.01149921  0.0943043   0.02491969]\n",
      " [-0.01611873  0.00544315  0.00754171 -0.02223981  0.0163093  -0.01285604\n",
      "  -0.02944805 -0.00336405  0.03903407  0.0168835 ]\n",
      " [-0.00650082 -0.0159626  -0.03003311  0.02587248 -0.03728232  0.0528001\n",
      "   0.05303036  0.00676435 -0.03283975 -0.01754762]\n",
      " [ 0.00220234  0.01502042  0.02576185 -0.02610571  0.06230938 -0.07197318\n",
      "  -0.06776956 -0.00413956  0.05602876  0.01243454]\n",
      " [-0.00569104 -0.02511792 -0.02964712  0.06285506 -0.10510555  0.12963117\n",
      "   0.12020125  0.00671117 -0.11756002 -0.04024696]\n",
      " [ 0.00517095 -0.00124652  0.01939913 -0.03702511  0.08762944 -0.09656025\n",
      "  -0.07597418 -0.00918086  0.06316968  0.04722127]\n",
      " [-0.00695268 -0.00127346 -0.01378871  0.0314841  -0.05324623  0.04030115\n",
      "   0.05575462  0.02032513 -0.05272843 -0.02111273]]\n"
     ]
    }
   ],
   "source": [
    "#{HỌC VIÊN VIÊT CODE VÀO ĐÂY}\n",
    "\n",
    "print('Hang cua ma tran height: ', np.linalg.matrix_rank(height))\n",
    "print('Hang cua ma tran weight: ', np.linalg.matrix_rank(weight))\n",
    "\n",
    "print('Nghich dao cua ma tran height: \\n ', np.linalg.inv(height))\n",
    "\n",
    "print('Nghich dao cua ma tran height:\\n ', np.linalg.inv(height))\n",
    "\n"
   ]
  },
  {
   "cell_type": "code",
   "execution_count": null,
   "metadata": {},
   "outputs": [],
   "source": []
  },
  {
   "cell_type": "code",
   "execution_count": null,
   "metadata": {},
   "outputs": [],
   "source": []
  }
 ],
 "metadata": {
  "colab": {
   "collapsed_sections": [],
   "name": "Chuong_4_package_Numpy.ipynb",
   "provenance": []
  },
  "kernelspec": {
   "display_name": "Python 3 (ipykernel)",
   "language": "python",
   "name": "python3"
  },
  "language_info": {
   "codemirror_mode": {
    "name": "ipython",
    "version": 3
   },
   "file_extension": ".py",
   "mimetype": "text/x-python",
   "name": "python",
   "nbconvert_exporter": "python",
   "pygments_lexer": "ipython3",
   "version": "3.9.12"
  }
 },
 "nbformat": 4,
 "nbformat_minor": 1
}
