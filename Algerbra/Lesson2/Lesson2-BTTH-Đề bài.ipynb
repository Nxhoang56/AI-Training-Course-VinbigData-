{
 "cells": [
  {
   "cell_type": "markdown",
   "metadata": {},
   "source": [
    "# Bài thực hành 2\n",
    "### Môn: Linear Algebra"
   ]
  },
  {
   "cell_type": "code",
   "execution_count": 2,
   "metadata": {},
   "outputs": [
    {
     "name": "stdout",
     "output_type": "stream",
     "text": [
      "Version 1.21.5\n"
     ]
    }
   ],
   "source": [
    "import numpy as np\n",
    "print('Version', np.__version__)"
   ]
  },
  {
   "cell_type": "markdown",
   "metadata": {},
   "source": [
    "### Bài tập 1\n",
    "Cho ma trận ${ A}=\\left[\\begin{matrix}\n",
    "0 & 0 & 0\\\\\n",
    "1 & 0 & 0\\\\\n",
    "0 & 1 & 0\n",
    "\\end{matrix}\\right]\\ \\ ;\\ \\ { B}=\\left[\\begin{matrix}\n",
    "4 & -2 & 1\\\\\n",
    "3 & 1 & -1\\\\\n",
    "-1 & 5 & 0\n",
    "\\end{matrix}\\right]$\n",
    "\n",
    "* Chứng tỏ rằng ${A}^3=0$. Tính $({I}-{A})({I}+{A}+{A}^2)$.\n",
    "* Tạo ma trận khối $C=\\left[\\begin{matrix}\n",
    "A & I\\\\\n",
    "-I & B\n",
    "\\end{matrix}\\right]$. Tính định thức và hạng của $C$."
   ]
  },
  {
   "cell_type": "code",
   "execution_count": 3,
   "metadata": {},
   "outputs": [],
   "source": [
    "A = np.array([[0,0,0], [1,0,0], [0, 1, 0]])\n",
    "B = np.array([[4, -2, 1], [3, 1, -1], [-1, 5, 0]])"
   ]
  },
  {
   "cell_type": "code",
   "execution_count": 4,
   "metadata": {},
   "outputs": [
    {
     "data": {
      "text/plain": [
       "array([[0, 0, 0],\n",
       "       [1, 0, 0],\n",
       "       [0, 1, 0]])"
      ]
     },
     "execution_count": 4,
     "metadata": {},
     "output_type": "execute_result"
    }
   ],
   "source": [
    "A"
   ]
  },
  {
   "cell_type": "code",
   "execution_count": 5,
   "metadata": {},
   "outputs": [
    {
     "data": {
      "text/plain": [
       "array([[ 4, -2,  1],\n",
       "       [ 3,  1, -1],\n",
       "       [-1,  5,  0]])"
      ]
     },
     "execution_count": 5,
     "metadata": {},
     "output_type": "execute_result"
    }
   ],
   "source": [
    "B"
   ]
  },
  {
   "cell_type": "code",
   "execution_count": 6,
   "metadata": {},
   "outputs": [
    {
     "data": {
      "text/plain": [
       "array([[0, 0, 0],\n",
       "       [0, 0, 0],\n",
       "       [0, 0, 0]])"
      ]
     },
     "execution_count": 6,
     "metadata": {},
     "output_type": "execute_result"
    }
   ],
   "source": [
    "#Chung to A^3 = 0\n",
    "np.linalg.matrix_power(A,3)"
   ]
  },
  {
   "cell_type": "code",
   "execution_count": 7,
   "metadata": {},
   "outputs": [
    {
     "data": {
      "text/plain": [
       "array([[0, 0, 0],\n",
       "       [0, 0, 0],\n",
       "       [0, 0, 0]])"
      ]
     },
     "execution_count": 7,
     "metadata": {},
     "output_type": "execute_result"
    }
   ],
   "source": [
    "A@A@A"
   ]
  },
  {
   "cell_type": "code",
   "execution_count": 10,
   "metadata": {},
   "outputs": [
    {
     "data": {
      "text/plain": [
       "array([[1., 0., 0.],\n",
       "       [0., 1., 0.],\n",
       "       [0., 0., 1.]])"
      ]
     },
     "execution_count": 10,
     "metadata": {},
     "output_type": "execute_result"
    }
   ],
   "source": [
    "I = np.identity(3)\n",
    "I"
   ]
  },
  {
   "cell_type": "code",
   "execution_count": 14,
   "metadata": {},
   "outputs": [
    {
     "data": {
      "text/plain": [
       "array([[1., 0., 0.],\n",
       "       [0., 1., 0.],\n",
       "       [0., 0., 1.]])"
      ]
     },
     "execution_count": 14,
     "metadata": {},
     "output_type": "execute_result"
    }
   ],
   "source": [
    "T = (I-A)@(I+A+A@A)\n",
    "T"
   ]
  },
  {
   "cell_type": "code",
   "execution_count": 18,
   "metadata": {},
   "outputs": [
    {
     "data": {
      "text/plain": [
       "array([[ 0.,  0.,  0.,  1.,  0.,  0.],\n",
       "       [ 1.,  0.,  0.,  0.,  1.,  0.],\n",
       "       [ 0.,  1.,  0.,  0.,  0.,  1.],\n",
       "       [-1., -0., -0.,  4., -2.,  1.],\n",
       "       [-0., -1., -0.,  3.,  1., -1.],\n",
       "       [-0., -0., -1., -1.,  5.,  0.]])"
      ]
     },
     "execution_count": 18,
     "metadata": {},
     "output_type": "execute_result"
    }
   ],
   "source": [
    "C1 = np.vstack([A, -I])\n",
    "C2 = np.vstack([I,B])\n",
    "C = np.hstack([C1,C2])\n",
    "C"
   ]
  },
  {
   "cell_type": "code",
   "execution_count": 19,
   "metadata": {},
   "outputs": [
    {
     "data": {
      "text/plain": [
       "-0.9999999999999998"
      ]
     },
     "execution_count": 19,
     "metadata": {},
     "output_type": "execute_result"
    }
   ],
   "source": [
    "np.linalg.det(C)"
   ]
  },
  {
   "cell_type": "code",
   "execution_count": 21,
   "metadata": {},
   "outputs": [
    {
     "data": {
      "text/plain": [
       "6"
      ]
     },
     "execution_count": 21,
     "metadata": {},
     "output_type": "execute_result"
    }
   ],
   "source": [
    "np.linalg.matrix_rank(C)"
   ]
  },
  {
   "cell_type": "markdown",
   "metadata": {},
   "source": [
    "### Bài tập 2\n",
    "Lũy thừa ma trận có thể được sử dụng như một công cụ để phân tích trạng thái tới hạn của một số hệ động lực. Cho hai ma trận sau đây:\n",
    "\n",
    "$${\\bf A}=\\left[\\begin{matrix}\n",
    "0.4 & 0.2 & 0.3\\\\\n",
    "0.3 & 0.6 & 0.3\\\\\n",
    "0.3 & 0.2 & 0.4\n",
    "\\end{matrix}\\right],\\,{\\bf B}=\\left[\\begin{matrix}\n",
    "0 & 0.2 & 0.3\\\\\n",
    "0.1 & 0.6 & 0.3\\\\\n",
    "0.9 & 0.2 & 0.4\n",
    "\\end{matrix}\\right]$$\n",
    "\n",
    "Hãy kiểm tra xem điều gì sẽ xảy ra với ${\\bf A}^k$ và ${\\bf B}^k$ khi $k$ nhận giá trị lớn."
   ]
  },
  {
   "cell_type": "code",
   "execution_count": 23,
   "metadata": {},
   "outputs": [
    {
     "data": {
      "text/plain": [
       "array([[0.4, 0.2, 0.3],\n",
       "       [0.3, 0.6, 0.3],\n",
       "       [0.3, 0.2, 0.4]])"
      ]
     },
     "execution_count": 23,
     "metadata": {},
     "output_type": "execute_result"
    }
   ],
   "source": [
    "A = np.array([0.4, 0.2, 0.3, 0.3, 0.6, 0.3, 0.3, 0.2, 0.4]).reshape(3,3)\n",
    "A"
   ]
  },
  {
   "cell_type": "code",
   "execution_count": 25,
   "metadata": {},
   "outputs": [
    {
     "data": {
      "text/plain": [
       "array([[0. , 0.2, 0.3],\n",
       "       [0.1, 0.6, 0.3],\n",
       "       [0.9, 0.2, 0.4]])"
      ]
     },
     "execution_count": 25,
     "metadata": {},
     "output_type": "execute_result"
    }
   ],
   "source": [
    "B = np.array([0, 0.2, 0.3, 0.1, 0.6, 0.3, 0.9, 0.2, 0.4]).reshape(3,3)\n",
    "B"
   ]
  },
  {
   "cell_type": "code",
   "execution_count": 29,
   "metadata": {},
   "outputs": [
    {
     "name": "stdout",
     "output_type": "stream",
     "text": [
      "A^k: \n",
      " [[0.28571429 0.28571429 0.28571429]\n",
      " [0.42857143 0.42857143 0.42857143]\n",
      " [0.28571429 0.28571429 0.28571429]]\n",
      "B^k: \n",
      " [[0.20224719 0.20224719 0.20224719]\n",
      " [0.37078652 0.37078652 0.37078652]\n",
      " [0.42696629 0.42696629 0.42696629]]\n"
     ]
    }
   ],
   "source": [
    "k = 1000\n",
    "print('A^k: \\n', np.linalg.matrix_power(A, k))\n",
    "print('B^k: \\n', np.linalg.matrix_power(B, k))"
   ]
  },
  {
   "cell_type": "markdown",
   "metadata": {},
   "source": [
    "### Bài 3\n",
    "Phân tích ma trận đánh giá\n",
    "$${\\bf X}=\\left[\\begin{matrix}\n",
    "3 & 3 & 0 & 4 & 4\\\\\n",
    "0 & 5 & 2 & 0 & 1\\\\\n",
    "2 & 0 & 1 & 2 & 5 \\\\\n",
    "0 & 3 & 2 & 5 & 0 \\\\\n",
    "2 & 5 & 0 & 3 & 2\n",
    "\\end{matrix}\\right]\n",
    "$$\n",
    "thành tích $\\bf W\\,H^T$, với ${\\bf W}\\in\\mathbb{R}^{5\\times 3}$, ${\\bf H}\\in\\mathbb{R}^{5\\times 3}$. Sử dụng hàm mất mát dạng:\n",
    "$$\\mathcal{L}({\\bf W},{\\bf H})=\\sum_{(u,i):x_{ui}\\neq 0}\\left(x_{ui}-\\sum^3_{j=1}w_{uj}h_{ij}\\right)^2$$"
   ]
  },
  {
   "cell_type": "code",
   "execution_count": 30,
   "metadata": {},
   "outputs": [],
   "source": [
    "steps = 1000\n"
   ]
  },
  {
   "cell_type": "code",
   "execution_count": null,
   "metadata": {},
   "outputs": [],
   "source": []
  }
 ],
 "metadata": {
  "kernelspec": {
   "display_name": "Python 3 (ipykernel)",
   "language": "python",
   "name": "python3"
  },
  "language_info": {
   "codemirror_mode": {
    "name": "ipython",
    "version": 3
   },
   "file_extension": ".py",
   "mimetype": "text/x-python",
   "name": "python",
   "nbconvert_exporter": "python",
   "pygments_lexer": "ipython3",
   "version": "3.9.12"
  }
 },
 "nbformat": 4,
 "nbformat_minor": 4
}
