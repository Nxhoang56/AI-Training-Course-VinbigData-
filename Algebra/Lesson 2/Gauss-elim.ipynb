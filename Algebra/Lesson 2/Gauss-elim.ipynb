{
 "cells": [
  {
   "cell_type": "markdown",
   "id": "a055f01c",
   "metadata": {},
   "source": [
    "### Gaussian elimination"
   ]
  },
  {
   "cell_type": "code",
   "execution_count": null,
   "id": "630d73e7",
   "metadata": {},
   "outputs": [],
   "source": [
    "def gauss_elim(A):\n",
    "    m,n = A.shape\n",
    "    if m>1:\n",
    "        # Chọn phần tử trụ\n",
    "        firstcol = np.abs(A[:,0])\n",
    "        pivot_arg = np.argmax(firstcol)\n",
    "        pivot = A[pivot_arg,0]\n",
    "        \n",
    "        if pivot==0:    # Nếu không chọn được phần tử trụ\n",
    "            if n>1:\n",
    "                gauss_elim(A[:,1:]) # Khử ở cột tiếp theo\n",
    "        else:           # Nếu chọn được phần tử trụ\n",
    "            # Đổi hàng có phần tử trụ lên đầu\n",
    "            row_swap = A[0,:].copy()\n",
    "            A[0,:] = A[pivot_arg,:]\n",
    "            A[pivot_arg,:] = row_swap\n",
    "            # Khử các số bên dưới phần tử trụ về 0\n",
    "            for i in range(1,m):\n",
    "                A[i,:] = np.around(A[i,:]-A[i,0]/pivot*A[0,:],10)  # Làm tròn số đến 1e-10\n",
    "            if n>1:\n",
    "                gauss_elim(A[1:,1:])   # Khử cột tiếp theo"
   ]
  },
  {
   "cell_type": "markdown",
   "id": "4a859b83",
   "metadata": {},
   "source": [
    "### Gauss - Jordan elimination"
   ]
  },
  {
   "cell_type": "code",
   "execution_count": null,
   "id": "8940f6de",
   "metadata": {},
   "outputs": [],
   "source": [
    "def gauss_jordan(A):\n",
    "    X=A.astype(np.float)\n",
    "    m,n = X.shape\n",
    "    pivots=[]   # danh sách chỉ số các hàng chứa phần tử trụ \n",
    "                # đến thời điểm hiện tại\n",
    "    s=-1\n",
    "    # Khử lần lượt từng cột\n",
    "    for j in range(n):\n",
    "        col = X[:,j].copy()\n",
    "        # Chọn phần tử trụ trong cột j \n",
    "        # từ những hàng không nằm trong pivots\n",
    "        for i in pivots:\n",
    "            col[i] = 0\n",
    "        col = np.abs(col)\n",
    "        pivot_arg = np.argmax(col)\n",
    "        pivot = X[pivot_arg,j]\n",
    "        # Biến phần tử trụ thành 1, đổi hàng chứa trụ lên vị trí \n",
    "        # ngay dưới các hàng trong pivots, cập nhật lại pivots,\n",
    "        # khử các phần tử khác trụ trên cột j thành 0\n",
    "        if col[pivot_arg]!=0 and s<m-1:\n",
    "        #if col[pivot_arg]>1e-5 and s<m-1:\n",
    "            s+=1\n",
    "            pivots.append(s)\n",
    "            X[pivot_arg,:] = 1/pivot*X[pivot_arg,:]\n",
    "            row_swap = X[s,:].copy()\n",
    "            X[s,:] = X[pivot_arg,:]\n",
    "            X[pivot_arg,:] = row_swap\n",
    "            for i in range(m):\n",
    "                if i!=s:\n",
    "                    X[i,:] = np.around(X[i,:]-X[i,j]*X[s,:],10)   # Làm tròn số đến 1e-10\n",
    "    return X"
   ]
  }
 ],
 "metadata": {
  "kernelspec": {
   "display_name": "Python 3 (ipykernel)",
   "language": "python",
   "name": "python3"
  },
  "language_info": {
   "codemirror_mode": {
    "name": "ipython",
    "version": 3
   },
   "file_extension": ".py",
   "mimetype": "text/x-python",
   "name": "python",
   "nbconvert_exporter": "python",
   "pygments_lexer": "ipython3",
   "version": "3.9.12"
  }
 },
 "nbformat": 4,
 "nbformat_minor": 5
}
