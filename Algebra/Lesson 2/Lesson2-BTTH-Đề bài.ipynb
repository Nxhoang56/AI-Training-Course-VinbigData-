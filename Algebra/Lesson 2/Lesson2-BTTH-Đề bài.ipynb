{
 "cells": [
  {
   "cell_type": "markdown",
   "metadata": {},
   "source": [
    "# Bài thực hành 2\n",
    "### Môn: Linear Algebra"
   ]
  },
  {
   "cell_type": "markdown",
   "metadata": {},
   "source": [
    "### Bài tập 1\n",
    "Cho ma trận ${ A}=\\left[\\begin{matrix}\n",
    "0 & 0 & 0\\\\\n",
    "1 & 0 & 0\\\\\n",
    "0 & 1 & 0\n",
    "\\end{matrix}\\right]\\ \\ ;\\ \\ { B}=\\left[\\begin{matrix}\n",
    "4 & -2 & 1\\\\\n",
    "3 & 1 & -1\\\\\n",
    "-1 & 5 & 0\n",
    "\\end{matrix}\\right]$\n",
    "\n",
    "* Chứng tỏ rằng ${A}^3=0$. Tính $({I}-{A})({I}+{A}+{A}^2)$.\n",
    "* Tạo ma trận khối $C=\\left[\\begin{matrix}\n",
    "A & I\\\\\n",
    "-I & B\n",
    "\\end{matrix}\\right]$. Tính định thức và hạng của $C$."
   ]
  },
  {
   "cell_type": "code",
   "execution_count": 2,
   "metadata": {},
   "outputs": [
    {
     "name": "stdout",
     "output_type": "stream",
     "text": [
      "Version 1.21.5\n"
     ]
    }
   ],
   "source": [
    "import numpy as np\n",
    "print('Version', np.__version__)"
   ]
  },
  {
   "cell_type": "code",
   "execution_count": 3,
   "metadata": {},
   "outputs": [
    {
     "data": {
      "text/plain": [
       "(array([[0, 0, 0],\n",
       "        [1, 0, 0],\n",
       "        [0, 1, 0]]),\n",
       " array([[ 4, -2,  1],\n",
       "        [ 3,  1, -1],\n",
       "        [-1,  5,  0]]))"
      ]
     },
     "execution_count": 3,
     "metadata": {},
     "output_type": "execute_result"
    }
   ],
   "source": [
    "A = np.array([[0,0,0], [1,0,0], [0, 1, 0]])\n",
    "B = np.array([[4, -2, 1], [3, 1, -1], [-1, 5, 0]])\n",
    "A,B"
   ]
  },
  {
   "cell_type": "code",
   "execution_count": 5,
   "metadata": {},
   "outputs": [
    {
     "data": {
      "text/plain": [
       "array([[0, 0, 0],\n",
       "       [0, 0, 0],\n",
       "       [0, 0, 0]])"
      ]
     },
     "execution_count": 5,
     "metadata": {},
     "output_type": "execute_result"
    }
   ],
   "source": [
    "#Chung to A^3 = 0\n",
    "np.linalg.matrix_power(A,3)"
   ]
  },
  {
   "cell_type": "code",
   "execution_count": 6,
   "metadata": {},
   "outputs": [
    {
     "data": {
      "text/plain": [
       "array([[0, 0, 0],\n",
       "       [0, 0, 0],\n",
       "       [0, 0, 0]])"
      ]
     },
     "execution_count": 6,
     "metadata": {},
     "output_type": "execute_result"
    }
   ],
   "source": [
    "A@A@A"
   ]
  },
  {
   "cell_type": "code",
   "execution_count": 8,
   "metadata": {},
   "outputs": [
    {
     "data": {
      "text/plain": [
       "array([[1., 0., 0.],\n",
       "       [0., 1., 0.],\n",
       "       [0., 0., 1.]])"
      ]
     },
     "execution_count": 8,
     "metadata": {},
     "output_type": "execute_result"
    }
   ],
   "source": [
    "I = np.identity(3)\n",
    "I"
   ]
  },
  {
   "cell_type": "code",
   "execution_count": 9,
   "metadata": {},
   "outputs": [
    {
     "data": {
      "text/plain": [
       "array([[1., 0., 0.],\n",
       "       [0., 1., 0.],\n",
       "       [0., 0., 1.]])"
      ]
     },
     "execution_count": 9,
     "metadata": {},
     "output_type": "execute_result"
    }
   ],
   "source": [
    "#Tính T = (𝐼−𝐴)(𝐼+𝐴+𝐴2) .\n",
    "T = (I-A)@(I+A+A@A)\n",
    "T"
   ]
  },
  {
   "cell_type": "code",
   "execution_count": 16,
   "metadata": {},
   "outputs": [
    {
     "data": {
      "text/plain": [
       "array([[ 0.,  0.,  0.,  1.,  0.,  0.],\n",
       "       [ 1.,  0.,  0.,  0.,  1.,  0.],\n",
       "       [ 0.,  1.,  0.,  0.,  0.,  1.],\n",
       "       [-1., -0., -0.,  4., -2.,  1.],\n",
       "       [-0., -1., -0.,  3.,  1., -1.],\n",
       "       [-0., -0., -1., -1.,  5.,  0.]])"
      ]
     },
     "execution_count": 16,
     "metadata": {},
     "output_type": "execute_result"
    }
   ],
   "source": [
    "#Tao ma tran khoi C\n",
    "C1 = np.vstack([A, -I])\n",
    "C2 = np.vstack([I,B])\n",
    "C = np.hstack([C1,C2])\n",
    "C"
   ]
  },
  {
   "cell_type": "code",
   "execution_count": 17,
   "metadata": {},
   "outputs": [
    {
     "data": {
      "text/plain": [
       "-0.9999999999999998"
      ]
     },
     "execution_count": 17,
     "metadata": {},
     "output_type": "execute_result"
    }
   ],
   "source": [
    "#Tinh dinh thuc cua C\n",
    "np.linalg.det(C)"
   ]
  },
  {
   "cell_type": "code",
   "execution_count": 18,
   "metadata": {},
   "outputs": [
    {
     "data": {
      "text/plain": [
       "6"
      ]
     },
     "execution_count": 18,
     "metadata": {},
     "output_type": "execute_result"
    }
   ],
   "source": [
    "#Tinh hang cuar C\n",
    "np.linalg.matrix_rank(C)"
   ]
  },
  {
   "cell_type": "markdown",
   "metadata": {},
   "source": [
    "### Bài tập 2\n",
    "Lũy thừa ma trận có thể được sử dụng như một công cụ để phân tích trạng thái tới hạn của một số hệ động lực. Cho hai ma trận sau đây:\n",
    "\n",
    "$${\\bf A}=\\left[\\begin{matrix}\n",
    "0.4 & 0.2 & 0.3\\\\\n",
    "0.3 & 0.6 & 0.3\\\\\n",
    "0.3 & 0.2 & 0.4\n",
    "\\end{matrix}\\right],\\,{\\bf B}=\\left[\\begin{matrix}\n",
    "0 & 0.2 & 0.3\\\\\n",
    "0.1 & 0.6 & 0.3\\\\\n",
    "0.9 & 0.2 & 0.4\n",
    "\\end{matrix}\\right]$$\n",
    "\n",
    "Hãy kiểm tra xem điều gì sẽ xảy ra với ${\\bf A}^k$ và ${\\bf B}^k$ khi $k$ nhận giá trị lớn."
   ]
  },
  {
   "cell_type": "code",
   "execution_count": 23,
   "metadata": {},
   "outputs": [
    {
     "data": {
      "text/plain": [
       "(array([[0.4, 0.2, 0.3],\n",
       "        [0.3, 0.6, 0.3],\n",
       "        [0.3, 0.2, 0.4]]),\n",
       " array([[0. , 0.2, 0.3],\n",
       "        [0.1, 0.6, 0.3],\n",
       "        [0.9, 0.2, 0.4]]))"
      ]
     },
     "execution_count": 23,
     "metadata": {},
     "output_type": "execute_result"
    }
   ],
   "source": [
    "A = np.array([0.4, 0.2, 0.3, 0.3, 0.6, 0.3, 0.3, 0.2, 0.4]).reshape(3,3)\n",
    "B = np.array([0,0.2,0.3,0.1,0.6,0.3,0.9,0.2,0.4]).reshape(3,3)\n",
    "A,B"
   ]
  },
  {
   "cell_type": "code",
   "execution_count": 24,
   "metadata": {},
   "outputs": [
    {
     "name": "stdout",
     "output_type": "stream",
     "text": [
      "A^k: \n",
      " [[1.0485760e-04 1.0240000e-07 5.9049000e-06]\n",
      " [5.9049000e-06 6.0466176e-03 5.9049000e-06]\n",
      " [5.9049000e-06 1.0240000e-07 1.0485760e-04]]\n",
      "B^k: \n",
      " [[0.20226004 0.20224393 0.20224393]\n",
      " [0.37078055 0.37079665 0.37078055]\n",
      " [0.42695942 0.42695942 0.42697552]]\n"
     ]
    }
   ],
   "source": [
    "k = 10\n",
    "print('A^k: \\n', A**k)\n",
    "print('B^k: \\n', np.linalg.matrix_power(B, k))"
   ]
  },
  {
   "cell_type": "code",
   "execution_count": 26,
   "metadata": {},
   "outputs": [
    {
     "data": {
      "text/plain": [
       "(array([1. , 0.1, 0.3]),\n",
       " array([[-4.85071250e-01, -7.07106781e-01,  4.08248290e-01],\n",
       "        [-7.27606875e-01,  2.38524432e-16, -8.16496581e-01],\n",
       "        [-4.85071250e-01,  7.07106781e-01,  4.08248290e-01]]))"
      ]
     },
     "execution_count": 26,
     "metadata": {},
     "output_type": "execute_result"
    }
   ],
   "source": [
    "#Giá trị riêng và véc tơ riêng của A\n",
    "np.linalg.eig(A)"
   ]
  },
  {
   "cell_type": "code",
   "execution_count": 27,
   "metadata": {},
   "outputs": [
    {
     "data": {
      "text/plain": [
       "(array([-0.33166248,  0.33166248,  1.        ]),\n",
       " array([[ 0.59404463, -0.12024109, -0.33675758],\n",
       "        [ 0.18808926,  0.75951783, -0.6173889 ],\n",
       "        [-0.78213388, -0.63927674, -0.71093268]]))"
      ]
     },
     "execution_count": 27,
     "metadata": {},
     "output_type": "execute_result"
    }
   ],
   "source": [
    "#Giá trị riêng  cua B\n",
    "np.linalg.eig(B)"
   ]
  },
  {
   "cell_type": "markdown",
   "metadata": {},
   "source": [
    "### Bài 3\n",
    "Phân tích ma trận đánh giá\n",
    "$${\\bf X}=\\left[\\begin{matrix}\n",
    "3 & 3 & 0 & 4 & 4\\\\\n",
    "0 & 5 & 2 & 0 & 1\\\\\n",
    "2 & 0 & 1 & 2 & 5 \\\\\n",
    "0 & 3 & 2 & 5 & 0 \\\\\n",
    "2 & 5 & 0 & 3 & 2\n",
    "\\end{matrix}\\right]\n",
    "$$\n",
    "thành tích $\\bf W\\,H^T$, với ${\\bf W}\\in\\mathbb{R}^{5\\times 3}$, ${\\bf H}\\in\\mathbb{R}^{5\\times 3}$. Sử dụng hàm mất mát dạng:\n",
    "$$\\mathcal{L}({\\bf W},{\\bf H})=\\sum_{(u,i):x_{ui}\\neq 0}\\left(x_{ui}-\\sum^3_{j=1}w_{uj}h_{ij}\\right)^2$$"
   ]
  },
  {
   "cell_type": "code",
   "execution_count": 41,
   "metadata": {},
   "outputs": [],
   "source": [
    "\"\"\"\n",
    "@INPUT:\n",
    "    A     : a matrix to be factorized, dimension M x N\n",
    "    W     : an initial matrix of dimension M x K\n",
    "    H     : an initial matrix of dimension N x K\n",
    "    K     : the number of latent features\n",
    "    steps : the maximum number of steps to perform the optimisation\n",
    "    beta  : the learning rate\n",
    "@OUTPUT:\n",
    "    the final matrices W and H\n",
    "\"\"\"\n",
    "\n",
    "def matrix_factor(A, W, H, K, steps=5000, beta=0.0002):\n",
    "    H = H.T\n",
    "    for step in range(steps):\n",
    "        for i in range(len(A)):\n",
    "            for j in range(len(A[i])):\n",
    "                if A[i][j] > 0:\n",
    "                    eij = A[i][j] - np.dot(W[i,:],H[:,j])\n",
    "                    for k in range(K):\n",
    "                        W[i][k] = W[i][k] + beta*(2*eij*H[k][j])\n",
    "                        H[k][j] = H[k][j] + beta*(2*eij*W[i][k])\n",
    "        e = 0\n",
    "        for i in range(len(A)):\n",
    "            for j in range(len(A[i])):\n",
    "                if A[i][j] > 0:\n",
    "                    e = e + pow(A[i][j]-np.dot(W[i,:],H[:,j]), 2)\n",
    "        if e < 0.0001:\n",
    "            break\n",
    "    return W, H.T"
   ]
  },
  {
   "cell_type": "code",
   "execution_count": 42,
   "metadata": {},
   "outputs": [
    {
     "name": "stdout",
     "output_type": "stream",
     "text": [
      "[[ 1.85706043  0.60370475  0.55648792]\n",
      " [ 0.53091511  0.42198455  1.98926202]\n",
      " [ 1.27628425  1.70257479 -0.01324591]\n",
      " [ 1.76124577 -0.24125027  1.2024427 ]\n",
      " [ 0.48945699  1.00810228  1.56645513]]\n",
      "[[ 1.31858026  0.22661112  0.69072515]\n",
      " [ 0.50545806  1.48739334  2.06722263]\n",
      " [ 0.61125615  0.13513466  0.80763291]\n",
      " [ 1.78003205 -0.16853331  1.49072562]\n",
      " [ 1.71509428  1.6420867  -0.30710374]]\n"
     ]
    },
    {
     "data": {
      "text/plain": [
       "array([[2.96986964, 2.98699701, 1.66615899, 4.03345353, 4.00546974],\n",
       "       [2.16971389, 5.00825981, 1.98814334, 3.83937133, 0.99259488],\n",
       "       [2.05955631, 3.15012431, 0.99951561, 1.96514028, 4.9887911 ],\n",
       "       [3.09823132, 3.01711859, 2.01510333, 4.96824476, 2.25527403],\n",
       "       [1.95582547, 4.9850561 , 1.70053387, 3.03650512, 2.013792  ]])"
      ]
     },
     "execution_count": 42,
     "metadata": {},
     "output_type": "execute_result"
    }
   ],
   "source": [
    "# Khởi tạo ma trận\n",
    "A = np.array([[3,3,0,4,4],\n",
    "              [0,5,2,0,1],\n",
    "              [2,0,1,2,5],\n",
    "              [0,3,2,5,0],\n",
    "              [2,5,0,3,2]])\n",
    "\n",
    "M = len(A)\n",
    "N = len(A[0])\n",
    "K = 3\n",
    "\n",
    "W = np.random.rand(M,K)\n",
    "H = np.random.rand(N,K)\n",
    "\n",
    "# Phân tích ma trận\n",
    "nW, nH = matrix_factor(A, W, H, K)\n",
    "print(nW)\n",
    "print(nH)\n",
    "np.dot(nW,nH.T)"
   ]
  },
  {
   "cell_type": "code",
   "execution_count": null,
   "metadata": {},
   "outputs": [],
   "source": []
  }
 ],
 "metadata": {
  "kernelspec": {
   "display_name": "Python 3 (ipykernel)",
   "language": "python",
   "name": "python3"
  },
  "language_info": {
   "codemirror_mode": {
    "name": "ipython",
    "version": 3
   },
   "file_extension": ".py",
   "mimetype": "text/x-python",
   "name": "python",
   "nbconvert_exporter": "python",
   "pygments_lexer": "ipython3",
   "version": "3.9.12"
  }
 },
 "nbformat": 4,
 "nbformat_minor": 4
}
