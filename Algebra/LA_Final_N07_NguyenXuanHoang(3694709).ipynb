{
  "cells": [
    {
      "cell_type": "markdown",
      "metadata": {
        "id": "uMGlgJxK53SK"
      },
      "source": [
        "# BÀI KIỂM TRA CUỐI KÌ\n",
        "* Môn: **Linear Algebra**\n",
        "* Thời gian: **90 phút**\n",
        "* Họ tên học viên: Nguyễn Xuân Hoàng\n",
        "* Mã học viên: 3694709\n",
        "\n",
        "**Yêu cầu**: Sử dụng tính toán trên Python để hoàn thành các bài tập sau đây."
      ]
    },
    {
      "cell_type": "code",
      "execution_count": 1,
      "metadata": {
        "colab": {
          "base_uri": "https://localhost:8080/"
        },
        "id": "66BSArz3mrcm",
        "outputId": "1b9956ca-05c1-4218-8b12-2abcdfd8d922"
      },
      "outputs": [
        {
          "output_type": "stream",
          "name": "stdout",
          "text": [
            "Drive already mounted at /content/drive; to attempt to forcibly remount, call drive.mount(\"/content/drive\", force_remount=True).\n"
          ]
        }
      ],
      "source": [
        "from google.colab import drive\n",
        "drive.mount('/content/drive')"
      ]
    },
    {
      "cell_type": "code",
      "execution_count": 2,
      "metadata": {
        "id": "ZjMnkJrOcUaF"
      },
      "outputs": [],
      "source": [
        "import numpy as np\n",
        "from sklearn.datasets import load_wine"
      ]
    },
    {
      "cell_type": "markdown",
      "metadata": {
        "id": "N_EVbFrj53SM"
      },
      "source": [
        "### Bài 1 (2 điểm)\n",
        "Cho ma trận đối xứng:\n",
        "$$A=\\left( \n",
        "\\begin {array}{cccc} \n",
        "0&1/2&1/3&2/5\\\\ \n",
        "1/2&0&1/3&0\\\\ \n",
        "1/3&1/2&0&3/5\\\\ \n",
        "1/6&0&1/3&0 \n",
        "\\end {array}  \n",
        "\\right)$$\n",
        "\n",
        "* Chỉ ra rằng ma trận $A$ có giá trị riêng bằng $1$ và tìm véc-tơ riêng tương ứng với giá trị riêng bằng $1$.\n",
        "* Tìm ma trận không suy biến $P$ và ma trận đường chéo $D$ sao cho $A=PDP^{-1}$.\n",
        "* Tính số điều kiện $k(A)=||A||_F.||A^{-1}||_F$ (chuẩn Frobenious)."
      ]
    },
    {
      "cell_type": "code",
      "execution_count": 3,
      "metadata": {
        "colab": {
          "base_uri": "https://localhost:8080/"
        },
        "id": "6MkFemB053SO",
        "outputId": "e34f8d4c-9f66-4b5b-aa9f-d932bfdafad7"
      },
      "outputs": [
        {
          "output_type": "stream",
          "name": "stdout",
          "text": [
            "[[0.         0.5        0.33333333 0.4       ]\n",
            " [0.5        0.         0.33333333 0.        ]\n",
            " [0.33333333 0.5        0.         0.6       ]\n",
            " [0.16666667 0.         0.33333333 0.        ]]\n"
          ]
        }
      ],
      "source": [
        "A = np.array([0, 1/2, 1/3, 2/5, 1/2, 0, 1/3, 0, 1/3, 1/2, 0, 3/5, 1/6, 0, 1/3, 0]).reshape(4,4)\n",
        "print(A)"
      ]
    },
    {
      "cell_type": "code",
      "execution_count": 4,
      "metadata": {
        "colab": {
          "base_uri": "https://localhost:8080/"
        },
        "id": "ZBW94XjBdCzw",
        "outputId": "6183e006-dc22-477f-93ff-ad843c88207d"
      },
      "outputs": [
        {
          "output_type": "stream",
          "name": "stdout",
          "text": [
            "Giá trị riêng của ma trận A là: [ 1.         -0.66666667 -0.37748518  0.04415184]\n"
          ]
        }
      ],
      "source": [
        "eig_values, eig_vectors = np.linalg.eig(A)\n",
        "print('Giá trị riêng của ma trận A là:', eig_values)"
      ]
    },
    {
      "cell_type": "markdown",
      "metadata": {
        "id": "ULhrw8Gzdao1"
      },
      "source": [
        "**Kết luận**: Dựa vào kết quả trên, A có một trị riêng bằng 1 "
      ]
    },
    {
      "cell_type": "code",
      "execution_count": 5,
      "metadata": {
        "colab": {
          "base_uri": "https://localhost:8080/"
        },
        "id": "JRlyInDgdfCF",
        "outputId": "27c97645-0d35-422a-a6e4-65fc7a0c78bd"
      },
      "outputs": [
        {
          "output_type": "stream",
          "name": "stdout",
          "text": [
            "Vector riêng ứng với trị riêng bằng 1 là: [-0.56076049 -0.48205726 -0.60503105 -0.2951371 ]\n"
          ]
        }
      ],
      "source": [
        "print(\"Vector riêng ứng với trị riêng bằng 1 là:\", eig_vectors[:, 0])"
      ]
    },
    {
      "cell_type": "markdown",
      "metadata": {
        "id": "Hj9W1u42eFB1"
      },
      "source": [
        "## 1.2"
      ]
    },
    {
      "cell_type": "code",
      "execution_count": 6,
      "metadata": {
        "colab": {
          "base_uri": "https://localhost:8080/"
        },
        "id": "dvH-E4g_dikd",
        "outputId": "b12506a7-bf5b-41cf-fe14-b04427f72726"
      },
      "outputs": [
        {
          "output_type": "stream",
          "name": "stdout",
          "text": [
            "Ma trận P là: \n",
            "[[-0.56076049 -0.36970341 -0.64686286 -0.18107443]\n",
            " [-0.48205726  0.58096251  0.28560188 -0.68352912]\n",
            " [-0.60503105 -0.60736989  0.64686286  0.18107443]\n",
            " [-0.2951371   0.3961108  -0.28560188  0.68352912]]\n",
            "Ma trận D là: \n",
            "[[ 1.          0.          0.          0.        ]\n",
            " [ 0.         -0.66666667  0.          0.        ]\n",
            " [ 0.          0.         -0.37748518  0.        ]\n",
            " [ 0.          0.          0.          0.04415184]]\n"
          ]
        }
      ],
      "source": [
        "P = eig_vectors\n",
        "D = np.diag(eig_values)\n",
        "\n",
        "print(\"Ma trận P là: \", P, sep = '\\n')\n",
        "print(\"Ma trận D là: \", D, sep = '\\n')"
      ]
    },
    {
      "cell_type": "code",
      "execution_count": 7,
      "metadata": {
        "colab": {
          "base_uri": "https://localhost:8080/"
        },
        "id": "n6rbXMpgeckv",
        "outputId": "19246037-e33f-4af4-a0ea-2181490f4a98"
      },
      "outputs": [
        {
          "output_type": "execute_result",
          "data": {
            "text/plain": [
              "array([[-0., -0., -0., -0.],\n",
              "       [-0.,  0., -0., -0.],\n",
              "       [-0.,  0., -0., -0.],\n",
              "       [-0., -0.,  0., -0.]])"
            ]
          },
          "metadata": {},
          "execution_count": 7
        }
      ],
      "source": [
        "#Kiểm tra \n",
        "np.round(P @ D @ np.linalg.inv(P) - A, 3)"
      ]
    },
    {
      "cell_type": "markdown",
      "metadata": {
        "id": "yF4ktLOAe7lz"
      },
      "source": [
        "## 1.3 Tính số điều kiện k(A)\n"
      ]
    },
    {
      "cell_type": "code",
      "execution_count": 8,
      "metadata": {
        "colab": {
          "base_uri": "https://localhost:8080/"
        },
        "id": "9u40BNwueoJJ",
        "outputId": "cb5cfc5e-a4a7-41e6-aeb3-b627fc93965c"
      },
      "outputs": [
        {
          "output_type": "stream",
          "name": "stdout",
          "text": [
            "Số điều kiện k(A)= 31.595780308980093\n"
          ]
        }
      ],
      "source": [
        "inv_A = np.linalg.inv(A)\n",
        "\n",
        "k_A = np.sqrt(np.sum(A ** 2) * np.sum(inv_A ** 2))\n",
        "\n",
        "print(\"Số điều kiện k(A)=\", k_A)"
      ]
    },
    {
      "cell_type": "markdown",
      "metadata": {
        "id": "oyNfE6gf53SO"
      },
      "source": [
        "### Bài 2 (2 điểm)\n",
        "Cho bảng số liệu về thể tích ($X_1$), trọng lượng $(X_2)$ và lượng khí thải $CO_2$ ($Y$) của $5$ loại xe khác nhau:\n",
        "$$\\begin {array}{|c|c|c|c|c|c|} \n",
        "\\hline\n",
        "X_1& 1,0 &1,2& 0,9& 1,5&1,4\\\\\n",
        "\\hline\n",
        "X_2& 0,79& 1,16 & 0,929 & 0,865 & 0,11\\\\\n",
        "\\hline\n",
        "Y& 99& 95& 90 &105 &92\\\\\n",
        "\\hline\n",
        "\\end {array}\n",
        " $$\n",
        "\n",
        "* Tìm mô hình hồi quy tuyến tính $Y=\\beta_0+\\beta_1X_1+\\beta_2X_2$ bằng phương pháp bình phương tối thiểu.\n",
        "* Tính sai số $MSE$ của mô hình hồi quy tuyến tính trên.\n",
        "* Tìm mô hình hồi quy $Y=f(X_1,X_2)$ để giảm sai số $MSE$ so với mô hình hồi quy tuyến tính."
      ]
    },
    {
      "cell_type": "markdown",
      "metadata": {
        "id": "99qv_6N_ffZ5"
      },
      "source": [
        "### 2.1 Tìm mô hình hồ quy tuyến tính"
      ]
    },
    {
      "cell_type": "code",
      "execution_count": 9,
      "metadata": {
        "id": "tkZONT1P53SP"
      },
      "outputs": [],
      "source": [
        "X1 = np.array([1.0, 1.2, 0.9, 1.5, 1.4])\n",
        "X2 = np.array([0.79, 1.16, 0.929, 0.865, 0.11])\n",
        "X0 = np.ones(len(X1))    #bias\n",
        "\n",
        "Y = np.array([99, 95, 90, 105, 92])\n",
        "X = np.vstack([X0, X1, X2]).T"
      ]
    },
    {
      "cell_type": "code",
      "execution_count": 10,
      "metadata": {
        "colab": {
          "base_uri": "https://localhost:8080/"
        },
        "id": "zcOyS0IUf-Iu",
        "outputId": "68d972fb-4a96-445f-d982-07579f728cd4"
      },
      "outputs": [
        {
          "output_type": "stream",
          "name": "stdout",
          "text": [
            "[[1.    1.    0.79 ]\n",
            " [1.    1.2   1.16 ]\n",
            " [1.    0.9   0.929]\n",
            " [1.    1.5   0.865]\n",
            " [1.    1.4   0.11 ]] \n",
            "\n",
            "[ 99  95  90 105  92]\n"
          ]
        }
      ],
      "source": [
        "print(X, '\\n')\n",
        "print(Y)"
      ]
    },
    {
      "cell_type": "code",
      "execution_count": 11,
      "metadata": {
        "colab": {
          "base_uri": "https://localhost:8080/"
        },
        "id": "SDg8Z5JQgJ0w",
        "outputId": "5c9a34e2-3abd-4f6a-d5d5-0b46c98b0866"
      },
      "outputs": [
        {
          "output_type": "stream",
          "name": "stdout",
          "text": [
            "Hệ số của mô hình hồi quy tuyến tính cần tìm là: [70.49349096 16.49854701  7.66509163]\n"
          ]
        }
      ],
      "source": [
        "#Tìm tham số của mô hình\n",
        "beta = np.linalg.lstsq(X, Y, rcond=None)[0]\n",
        "print(\"Hệ số của mô hình hồi quy tuyến tính cần tìm là:\", beta)"
      ]
    },
    {
      "cell_type": "markdown",
      "metadata": {
        "id": "gr0lUPECgf9o"
      },
      "source": [
        "### 2.2: Sai số MSE của mô hình trên"
      ]
    },
    {
      "cell_type": "code",
      "execution_count": 12,
      "metadata": {
        "colab": {
          "base_uri": "https://localhost:8080/"
        },
        "id": "epi4tDpRgdaX",
        "outputId": "ddce6251-ab60-4124-f92b-560cc84563d6"
      },
      "outputs": [
        {
          "output_type": "stream",
          "name": "stdout",
          "text": [
            "Sai số MSE của mô hình là:  14.942623750153256\n"
          ]
        }
      ],
      "source": [
        "#Giá trị dự đoán\n",
        "Y_hat = X @ beta\n",
        "#Tính sai số MSE\n",
        "MSE = np.sum((Y_hat - Y) ** 2) / len(Y)\n",
        "\n",
        "print(\"Sai số MSE của mô hình là: \", MSE)\n"
      ]
    },
    {
      "cell_type": "markdown",
      "metadata": {
        "id": "5hpyjVqzg_Sh"
      },
      "source": [
        "### 2.3 Tìm mô hình hồi quy  Y=f(X1,X2)  để giảm sai số  MSE  so với mô hình hồi quy tuyến tính\n",
        "\n",
        "Chọn mô hình hồi quy sau: $f(X_1, X_2) = \\beta_0 + \\beta_1X_1 + \\beta_3X_2 +  \\beta_2X_1^2 + \\beta_4X_2^2$\n",
        "\n",
        "Đặt: $X_2 = X_1^2, X_4 = X_3^2$ "
      ]
    },
    {
      "cell_type": "code",
      "execution_count": 13,
      "metadata": {
        "colab": {
          "base_uri": "https://localhost:8080/"
        },
        "id": "8vIXtJXSg5Gb",
        "outputId": "e695c30d-d398-421c-c0dd-6a73607b1fa2"
      },
      "outputs": [
        {
          "output_type": "stream",
          "name": "stdout",
          "text": [
            "[[1.       1.       1.       0.79     0.6241  ]\n",
            " [1.       1.2      1.44     1.16     1.3456  ]\n",
            " [1.       0.9      0.81     0.929    0.863041]\n",
            " [1.       1.5      2.25     0.865    0.748225]\n",
            " [1.       1.4      1.96     0.11     0.0121  ]]\n"
          ]
        }
      ],
      "source": [
        "X1 = np.array([1.0, 1.2, 0.9, 1.5, 1.4])\n",
        "X2 = X1 ** 2\n",
        "X3 = np.array([0.79, 1.16, 0.929, 0.865, 0.11])\n",
        "X4 = X3 ** 2\n",
        "X0 = np.ones(len(X1))\n",
        "##Ma tran X mới\n",
        "X_moi = np.vstack([X0, X1, X2, X3, X4]).T\n",
        "print(X_moi)"
      ]
    },
    {
      "cell_type": "code",
      "execution_count": 14,
      "metadata": {
        "colab": {
          "base_uri": "https://localhost:8080/"
        },
        "id": "wKHwCKv_iEPG",
        "outputId": "74160a15-48fb-4df4-8b69-01420219be3c"
      },
      "outputs": [
        {
          "output_type": "stream",
          "name": "stdout",
          "text": [
            "Sai số MSE với mô hình mới được chọn là:  9.370405376577266e-27\n"
          ]
        }
      ],
      "source": [
        "#Hệ số beta với mô hình mới\n",
        "beta_moi = np.linalg.lstsq(X_moi, Y, rcond=None)[0]\n",
        "\n",
        "Y_hat_moi = X_moi @ beta_moi\n",
        "MSE_moi = np.sum((Y_hat_moi - Y) ** 2) / len(Y)\n",
        "\n",
        "print(\"Sai số MSE với mô hình mới được chọn là: \", MSE_moi)"
      ]
    },
    {
      "cell_type": "code",
      "execution_count": 15,
      "metadata": {
        "colab": {
          "base_uri": "https://localhost:8080/"
        },
        "id": "YIe3kU5KilCs",
        "outputId": "ee191978-49d1-4f28-f249-d299ca0dd8da"
      },
      "outputs": [
        {
          "output_type": "stream",
          "name": "stdout",
          "text": [
            "MSE của mô hình cũ gấp 1.5946613993354637e+27 lần\n"
          ]
        }
      ],
      "source": [
        "print('MSE của mô hình cũ gấp', round(MSE/MSE_moi,0), 'lần')"
      ]
    },
    {
      "cell_type": "markdown",
      "metadata": {
        "id": "bcY1_BN1jESp"
      },
      "source": [
        "**KL**: Từ kết quả trên cho thấy mô hình mới có MSE giảm rất nhiều so với mô hình cũ"
      ]
    },
    {
      "cell_type": "markdown",
      "metadata": {
        "id": "bTqffrGu53SQ"
      },
      "source": [
        "### Bài 3 (2 điểm)\n",
        "Cho ma trận:\n",
        "\n",
        "$$A=\\left( \\begin {array}{cccc} 4&4&2&4\\\\ 8&1&2&4\\\\ 4&-3&0&0\\end {array} \\right) $$\n",
        "\n",
        "* Tìm khai triển kỳ dị SVD của ma trận $A=U\\Sigma V^T$.\n",
        "\n",
        "* Chỉ rõ các cặp véc-tơ kỳ dị $(\\sigma,u,v)$ với $\\sigma>0$ và $Av=\\sigma u, A^Tu=\\sigma v$.\n",
        "\n",
        "* Viết khai triển kỳ dị SVD (dạng rút gọn) của ma trận $A=U_r\\Sigma_r V_r^T$ với $r=rank(A)$, từ đó tính ma trận nghịch đảo suy rộng $A^{\\dagger}$."
      ]
    },
    {
      "cell_type": "code",
      "execution_count": 16,
      "metadata": {
        "colab": {
          "base_uri": "https://localhost:8080/"
        },
        "id": "-tGY4Mvr53SQ",
        "outputId": "5c67e31a-bf93-4bf5-a3f6-5780ea22c34e"
      },
      "outputs": [
        {
          "output_type": "stream",
          "name": "stdout",
          "text": [
            "[[ 4  4  2  4]\n",
            " [ 8  1  2  4]\n",
            " [ 4 -3  0  0]]\n"
          ]
        }
      ],
      "source": [
        "A = np.array([4, 4, 2, 4, 8, 1, 2, 4, 4, -3, 0, 0]).reshape(3,4)\n",
        "print(A)"
      ]
    },
    {
      "cell_type": "markdown",
      "metadata": {
        "id": "LTzLv6n0jpBm"
      },
      "source": [
        "### 3.1: Tìm khải triển kỳ dị SVD của ma trận A=UΣVT "
      ]
    },
    {
      "cell_type": "code",
      "execution_count": 17,
      "metadata": {
        "colab": {
          "base_uri": "https://localhost:8080/"
        },
        "id": "5-GXhjFTjnDQ",
        "outputId": "6c58b84e-aef8-4fd7-dac1-e4906b7562da"
      },
      "outputs": [
        {
          "output_type": "stream",
          "name": "stdout",
          "text": [
            "U = \n",
            " [[-0.56046438 -0.59375613  0.57735027]\n",
            " [-0.79444009  0.18849832 -0.57735027]\n",
            " [-0.23397571  0.78225446  0.57735027]]\n",
            "\n",
            "S = \n",
            " [[1.15346458e+01 0.00000000e+00 0.00000000e+00 0.00000000e+00]\n",
            " [0.00000000e+00 5.38070119e+00 0.00000000e+00 0.00000000e+00]\n",
            " [0.00000000e+00 0.00000000e+00 3.06353429e-16 0.00000000e+00]]\n",
            "\n",
            "V = \n",
            " [[-8.26491004e-01  4.20387564e-01 -3.74415432e-01 -8.63031977e-17]\n",
            " [-2.02379034e-01 -8.42509076e-01 -4.99220576e-01 -8.43813746e-17]\n",
            " [-2.34927796e-01 -1.50633829e-01  3.49454403e-01 -8.94427191e-01]\n",
            " [-4.69855592e-01 -3.01267659e-01  6.98908807e-01  4.47213595e-01]]\n"
          ]
        }
      ],
      "source": [
        "U, s, Vt = np.linalg.svd(A)\n",
        "S = np.zeros((3, 4))\n",
        "S[0, 0] = s[0]\n",
        "S[1, 1] = s[1]\n",
        "S[2, 2] = s[2]\n",
        "\n",
        "print(\"U = \\n\", U)\n",
        "print(\"\\nS = \\n\", S)\n",
        "print(\"\\nV = \\n\", Vt.T)"
      ]
    },
    {
      "cell_type": "code",
      "execution_count": 18,
      "metadata": {
        "colab": {
          "base_uri": "https://localhost:8080/"
        },
        "id": "36zw1Tohj-o2",
        "outputId": "b0b4b1e1-f98f-467e-b1f3-73699e96dc34"
      },
      "outputs": [
        {
          "output_type": "stream",
          "name": "stdout",
          "text": [
            "[[ 0. -0.  0.  0.]\n",
            " [ 0.  0.  0.  0.]\n",
            " [ 0. -0. -0. -0.]]\n"
          ]
        }
      ],
      "source": [
        "#test\n",
        "print(np.round(U @ S @ Vt - A, 3))"
      ]
    },
    {
      "cell_type": "markdown",
      "metadata": {
        "id": "OAq4Ti3VkIG_"
      },
      "source": [
        "### 3.2: Chỉ rõ các cặp véc-tơ kỳ dị $(\\sigma,u,v)$ với $\\sigma>0$ và $Av=\\sigma u, A^Tu=\\sigma v$."
      ]
    },
    {
      "cell_type": "code",
      "execution_count": 19,
      "metadata": {
        "colab": {
          "base_uri": "https://localhost:8080/"
        },
        "id": "G5Od8ssGkHze",
        "outputId": "d1231e55-2098-47ab-e486-e402d7c15e74"
      },
      "outputs": [
        {
          "output_type": "stream",
          "name": "stdout",
          "text": [
            "σ1= 11.534645842794328\n",
            "u1= [-0.56046438 -0.79444009 -0.23397571]\n",
            "v1= [-0.826491   -0.20237903 -0.2349278  -0.46985559]\n",
            "\n",
            "--------------------------------------------------------------\n",
            "σ2= 5.380701188628446\n",
            "u2= [-0.59375613  0.18849832  0.78225446]\n",
            "v2= [ 0.42038756 -0.84250908 -0.15063383 -0.30126766]\n",
            "\n",
            "--------------------------------------------------------------\n",
            "σ3= 3.0635342936855694e-16\n",
            "u3= [ 0.57735027 -0.57735027  0.57735027]\n",
            "v3= [-0.37441543 -0.49922058  0.3494544   0.69890881]\n",
            "\n",
            "--------------------------------------------------------------\n"
          ]
        }
      ],
      "source": [
        "for i in range(1, len(s) + 1):\n",
        "  print(f\"σ{i}=\", s[i - 1])\n",
        "  print(f\"u{i}=\", U[:, i - 1])\n",
        "  print(f\"v{i}=\", Vt[ i - 1, :])\n",
        "  print(\"\\n--------------------------------------------------------------\")"
      ]
    },
    {
      "cell_type": "markdown",
      "metadata": {
        "id": "aFvMuevelM3n"
      },
      "source": [
        "### 3.3 Viết khai triển kỳ dị SVD (dạng rút gọn) của ma trận $A=U_r\\Sigma_r V_r^T$ với $r=rank(A)$, từ đó tính ma trận nghịch đảo suy rộng $A^{\\dagger}$."
      ]
    },
    {
      "cell_type": "code",
      "execution_count": 20,
      "metadata": {
        "colab": {
          "base_uri": "https://localhost:8080/"
        },
        "id": "c3R7VHOxlGAp",
        "outputId": "dda8804a-3cef-4567-8c0c-81871556394b"
      },
      "outputs": [
        {
          "output_type": "stream",
          "name": "stdout",
          "text": [
            "Ur = \n",
            " [[-0.56046438 -0.59375613  0.57735027]\n",
            " [-0.79444009  0.18849832 -0.57735027]\n",
            " [-0.23397571  0.78225446  0.57735027]] \n",
            "\n",
            "Sr = \n",
            " [[1.15346458e+01 0.00000000e+00 0.00000000e+00]\n",
            " [0.00000000e+00 5.38070119e+00 0.00000000e+00]\n",
            " [0.00000000e+00 0.00000000e+00 3.06353429e-16]] \n",
            "\n",
            "Vr = \n",
            " [[-0.826491    0.42038756 -0.37441543]\n",
            " [-0.20237903 -0.84250908 -0.49922058]\n",
            " [-0.2349278  -0.15063383  0.3494544 ]\n",
            " [-0.46985559 -0.30126766  0.69890881]]\n"
          ]
        }
      ],
      "source": [
        "Ur = U[:, :3]\n",
        "Vr = Vt.T[:, :3]\n",
        "Sr = S[:, :3]\n",
        "\n",
        "print(\"Ur = \\n\", Ur, '\\n')\n",
        "print(\"Sr = \\n\", Sr, '\\n')\n",
        "print(\"Vr = \\n\", Vr)\n",
        "\n"
      ]
    },
    {
      "cell_type": "code",
      "execution_count": 21,
      "metadata": {
        "colab": {
          "base_uri": "https://localhost:8080/"
        },
        "id": "vbUvQBamlw03",
        "outputId": "c926f7be-7f23-4469-8c8d-391556110f88"
      },
      "outputs": [
        {
          "output_type": "stream",
          "name": "stdout",
          "text": [
            "[[ 0. -0.  0.  0.]\n",
            " [ 0.  0.  0.  0.]\n",
            " [ 0. -0. -0. -0.]]\n"
          ]
        }
      ],
      "source": [
        "#Test\n",
        "print(np.round(Ur@Sr@Vr.T - A, 3))"
      ]
    },
    {
      "cell_type": "markdown",
      "metadata": {
        "id": "3LQITWqul7UN"
      },
      "source": [
        "Ta có: $A^\\dagger = (U_r\\sum_r V_r^T)^\\dagger  = \\frac{1}{\\sigma_1}v_1u_1^T + \\dots +\\frac{1}{\\sigma_r}v_ru_r^T$"
      ]
    },
    {
      "cell_type": "code",
      "execution_count": 22,
      "metadata": {
        "colab": {
          "base_uri": "https://localhost:8080/"
        },
        "id": "Z0qwCxJ3l2gR",
        "outputId": "68c1daf1-3620-4c59-c0b0-1b4d2cc5e8ac"
      },
      "outputs": [
        {
          "output_type": "stream",
          "name": "stdout",
          "text": [
            "A_dagger = \n",
            " [[-7.05619164e+14  7.05619164e+14 -7.05619164e+14]\n",
            " [-9.40825551e+14  9.40825551e+14 -9.40825551e+14]\n",
            " [ 6.58577886e+14 -6.58577886e+14  6.58577886e+14]\n",
            " [ 1.31715577e+15 -1.31715577e+15  1.31715577e+15]]\n"
          ]
        }
      ],
      "source": [
        "#Tính ma trận nghịch đảo suy rộng\n",
        "A_dagger = np.zeros((4, 3))\n",
        "\n",
        "for n in range(3):\n",
        "  A_dagger += 1/Sr[n, n] * Vr[:, n].reshape(-1, 1) @ (Ur[:, n].reshape(-1, 1)).T\n",
        "\n",
        "print(\"A_dagger = \\n\", A_dagger)"
      ]
    },
    {
      "cell_type": "markdown",
      "metadata": {
        "id": "Ef5Mk9_L53SR"
      },
      "source": [
        "### Bài 4 (2 điểm)\n",
        "Trong thư viện sklearn ta load dữ liệu wine (<b>from sklearn.datasets import load_wine <b>) và gọi (<b> x,y <b>) là ma trận $x$ và cột phân loại $y$ bằng cách đặt <b>x,y=load_wine(return_X_y=True) <b>. Ma trận $x$ gồm có $178$ quan sát trong không gian $R^{13}$.\n",
        "\n",
        "* Tính giá trị trung bình $\\bar{x}$ của các điểm trên.\n",
        "* Tính ma trận hiệp phương sai $S$ của dữ liệu trên.\n",
        "* Thực hiện phương pháp phân tích thành phần chính đối với dữ liệu trên.\n",
        "* Biểu diễn dữ liệu trên không gian tạo bởi hai thành phần chính đầu tiên với các điểm được vẽ bằng màu theo thuộc tính $y$."
      ]
    },
    {
      "cell_type": "code",
      "execution_count": 23,
      "metadata": {
        "colab": {
          "base_uri": "https://localhost:8080/"
        },
        "id": "_suX07Kb53SR",
        "outputId": "24431dee-d056-4c5c-86a9-312ca714903f"
      },
      "outputs": [
        {
          "output_type": "stream",
          "name": "stdout",
          "text": [
            "(178, 13)\n",
            "(178,)\n"
          ]
        }
      ],
      "source": [
        "x, y = load_wine(return_X_y=True)\n",
        "print(x.shape) \n",
        "print(y.shape)"
      ]
    },
    {
      "cell_type": "markdown",
      "metadata": {
        "id": "qOK1OF7BnQVc"
      },
      "source": [
        "### 4.1: Tính giá trị trung bình $\\bar{x}$ của các điểm trên."
      ]
    },
    {
      "cell_type": "code",
      "execution_count": 24,
      "metadata": {
        "colab": {
          "base_uri": "https://localhost:8080/"
        },
        "id": "i5JUxS4pnDyp",
        "outputId": "a78d6bd5-d8a1-44d7-bfbb-0b7eb379f122"
      },
      "outputs": [
        {
          "output_type": "stream",
          "name": "stdout",
          "text": [
            "Giá trị trung bình của x là: \n",
            " [1.30006180e+01 2.33634831e+00 2.36651685e+00 1.94949438e+01\n",
            " 9.97415730e+01 2.29511236e+00 2.02926966e+00 3.61853933e-01\n",
            " 1.59089888e+00 5.05808988e+00 9.57449438e-01 2.61168539e+00\n",
            " 7.46893258e+02]\n"
          ]
        }
      ],
      "source": [
        "bar_x = np.mean(x, axis=0)\n",
        "print(\"Giá trị trung bình của x là: \\n\", bar_x)"
      ]
    },
    {
      "cell_type": "markdown",
      "metadata": {
        "id": "k32ch9panqrm"
      },
      "source": [
        "### 4.2: Tính ma trận hiệp phương sai $S$ của dữ liệu trên."
      ]
    },
    {
      "cell_type": "code",
      "execution_count": 25,
      "metadata": {
        "colab": {
          "base_uri": "https://localhost:8080/"
        },
        "id": "zYpYC74Nnokf",
        "outputId": "0b5d9182-e2b7-4527-e1da-2b313b4f36f3"
      },
      "outputs": [
        {
          "output_type": "stream",
          "name": "stdout",
          "text": [
            "Ma trận hiệp phương sai S cần tìm là: \n",
            " [[ 6.55359730e-01  8.51303465e-02  4.68504671e-02 -8.36367662e-01\n",
            "   3.12223835e+00  1.46062009e-01  1.90954384e-01 -1.56657524e-02\n",
            "   6.31606805e-02  1.02250568e+00 -1.32386485e-02  4.14635652e-02\n",
            "   1.63642650e+02]\n",
            " [ 8.51303465e-02  1.24100408e+00  4.99945840e-02  1.07028491e+00\n",
            "  -8.65887514e-01 -2.33021219e-01 -4.56053791e-01  4.05045228e-02\n",
            "  -1.40354021e-01  6.41215496e-01 -1.42520437e-01 -2.90804520e-01\n",
            "  -6.71693786e+01]\n",
            " [ 4.68504671e-02  4.99945840e-02  7.48418003e-02  4.03926209e-01\n",
            "   1.11662795e+00  2.20211779e-02  3.13575685e-02  6.32274965e-03\n",
            "   1.50706350e-03  1.63729302e-01 -4.65585027e-03  7.57555864e-04\n",
            "   1.92112012e+01]\n",
            " [-8.36367662e-01  1.07028491e+00  4.03926209e-01  1.10900306e+01\n",
            "  -3.95243025e+00 -6.67378645e-01 -1.16549807e+00  1.49576790e-01\n",
            "  -3.75057253e-01  1.44209443e-01 -2.07943233e-01 -6.52547658e-01\n",
            "  -4.60752225e+02]\n",
            " [ 3.12223835e+00 -8.65887514e-01  1.11662795e+00 -3.95243025e+00\n",
            "   2.02843328e+02  1.90570319e+00  2.77739553e+00 -4.53004040e-01\n",
            "   1.92197387e+00  6.58332668e+00  1.79835248e-01  6.65547911e-01\n",
            "   1.75921961e+03]\n",
            " [ 1.46062009e-01 -2.33021219e-01  2.20211779e-02 -6.67378645e-01\n",
            "   1.90570319e+00  3.89489032e-01  5.37434071e-01 -3.48482420e-02\n",
            "   2.18140910e-01 -7.95480949e-02  6.16903428e-02  3.09273968e-01\n",
            "   9.76195345e+01]\n",
            " [ 1.90954384e-01 -4.56053791e-01  3.13575685e-02 -1.16549807e+00\n",
            "   2.77739553e+00  5.37434071e-01  9.92113512e-01 -6.64913426e-02\n",
            "   3.71051218e-01 -3.96926106e-01  1.23384879e-01  5.55125950e-01\n",
            "   1.54574192e+02]\n",
            " [-1.56657524e-02  4.05045228e-02  6.32274965e-03  1.49576790e-01\n",
            "  -4.53004040e-01 -3.48482420e-02 -6.64913426e-02  1.54016191e-02\n",
            "  -2.59134642e-02  3.98951136e-02 -7.42920401e-03 -4.42194167e-02\n",
            "  -1.21350268e+01]\n",
            " [ 6.31606805e-02 -1.40354021e-01  1.50706350e-03 -3.75057253e-01\n",
            "   1.92197387e+00  2.18140910e-01  3.71051218e-01 -2.59134642e-02\n",
            "   3.25754248e-01 -3.33156934e-02  3.84473488e-02  2.09747923e-01\n",
            "   5.92197589e+01]\n",
            " [ 1.02250568e+00  6.41215496e-01  1.63729302e-01  1.44209443e-01\n",
            "   6.58332668e+00 -7.95480949e-02 -3.96926106e-01  3.98951136e-02\n",
            "  -3.33156934e-02  5.34425585e+00 -2.74952398e-01 -7.01847337e-01\n",
            "   2.29471034e+02]\n",
            " [-1.32386485e-02 -1.42520437e-01 -4.65585027e-03 -2.07943233e-01\n",
            "   1.79835248e-01  6.16903428e-02  1.23384879e-01 -7.42920401e-03\n",
            "   3.84473488e-02 -2.74952398e-01  5.19514497e-02  9.12507032e-02\n",
            "   1.69047165e+01]\n",
            " [ 4.14635652e-02 -2.90804520e-01  7.57555864e-04 -6.52547658e-01\n",
            "   6.65547911e-01  3.09273968e-01  5.55125950e-01 -4.42194167e-02\n",
            "   2.09747923e-01 -7.01847337e-01  9.12507032e-02  5.01254463e-01\n",
            "   6.95346743e+01]\n",
            " [ 1.63642650e+02 -6.71693786e+01  1.92112012e+01 -4.60752225e+02\n",
            "   1.75921961e+03  9.76195345e+01  1.54574192e+02 -1.21350268e+01\n",
            "   5.92197589e+01  2.29471034e+02  1.69047165e+01  6.95346743e+01\n",
            "   9.86096010e+04]]\n"
          ]
        }
      ],
      "source": [
        "x1 = x - bar_x\n",
        "\n",
        "matrix_S = 1/x1.shape[0] * x1.T @ x1\n",
        "\n",
        "print(\"Ma trận hiệp phương sai S cần tìm là: \\n\", matrix_S)"
      ]
    },
    {
      "cell_type": "markdown",
      "metadata": {
        "id": "sPFzZwONopeA"
      },
      "source": [
        "### 4.3: Thực hiện phương pháp phân tích thành phần chính đối với dữ liệu trên."
      ]
    },
    {
      "cell_type": "code",
      "execution_count": 26,
      "metadata": {
        "colab": {
          "base_uri": "https://localhost:8080/"
        },
        "id": "hz6_1n_gohcH",
        "outputId": "a7c93235-3ea0-4b51-a3a8-b4064535684e"
      },
      "outputs": [
        {
          "output_type": "stream",
          "name": "stdout",
          "text": [
            "Giá trị riêng: \n",
            " [8.15761492e-03 2.09539821e-02 3.73648779e-02 7.12997795e-02\n",
            " 1.11467008e-01 1.50530810e-01 2.77406256e-01 8.36338792e-01\n",
            " 1.22194160e+00 4.96313828e+00 9.38509059e+00 1.71565967e+02\n",
            " 9.86444761e+04]\n",
            "-----------------------------------------------------\n",
            "Thành phần chính tính theo cột là: \n",
            " [[-8.02924535e-03 -1.56514071e-02 -1.49715080e-02 -2.24499994e-03\n",
            "   8.66006124e-02 -2.84820658e-01 -9.23280337e-01  1.94120104e-01\n",
            "  -2.03369773e-02  1.41446778e-01 -1.68738094e-02 -1.20340617e-03\n",
            "   1.65926472e-03]\n",
            " [ 1.10903923e-02  6.72955455e-02 -2.31876506e-02 -1.85093501e-02\n",
            "   1.56621385e-02  6.46744678e-02  1.50109941e-01  7.42472963e-01\n",
            "   6.12883454e-01  1.60389543e-01 -1.22003373e-01 -2.15498184e-03\n",
            "  -6.81015556e-04]\n",
            " [ 1.73685673e-01 -1.32063034e-01  9.54010643e-01 -8.67996529e-02\n",
            "   7.36498524e-02  1.49339532e-01 -4.50095494e-02  4.17529118e-02\n",
            "  -2.01755752e-02 -9.77280992e-03 -5.19874304e-02 -4.59369254e-03\n",
            "   1.94905742e-04]\n",
            " [-1.93956297e-03  5.39380582e-03 -5.28216953e-02  3.55402799e-03\n",
            "   2.04457786e-03 -1.51539118e-02 -3.15265835e-02 -2.40653026e-02\n",
            "  -6.43523403e-02 -3.30965260e-01 -9.38593003e-01 -2.64503930e-02\n",
            "  -4.67130058e-03]\n",
            " [-2.28453582e-03  6.20888455e-04 -3.02488821e-03 -4.05154189e-05\n",
            "  -1.96366816e-03  3.55221240e-03 -1.79736268e-03 -1.92378154e-03\n",
            "   6.14934472e-03 -5.39375605e-03  2.97802484e-02 -9.99344186e-01\n",
            "   1.78680075e-02]\n",
            " [ 2.66914407e-02  3.88290281e-03  8.80160701e-03  8.47195073e-01\n",
            "   2.55672918e-01  1.77237945e-01  2.01857100e-02  2.78716809e-01\n",
            "  -3.15245063e-01 -7.45846556e-02  4.04846439e-02 -8.77962152e-04\n",
            "   9.89829680e-04]\n",
            " [-6.95985330e-02 -3.74880307e-02 -1.33204612e-01 -5.20138389e-01\n",
            "   3.78306653e-01  2.48116635e-01  3.88685182e-02  4.33597955e-01\n",
            "  -5.24761088e-01 -1.69086724e-01  8.54433387e-02  5.18507284e-05\n",
            "   1.56728830e-03]\n",
            " [-9.66466227e-01  1.47552442e-01  1.99178984e-01  3.77131942e-02\n",
            "   3.67520428e-02 -6.49796752e-03  4.66548296e-03 -2.19528343e-02\n",
            "   2.96475124e-02  1.08055610e-02 -1.35107797e-02  1.35447892e-03\n",
            "  -1.23086662e-04]\n",
            " [ 1.76035672e-02 -1.31188252e-02  1.35621460e-01  9.72275203e-03\n",
            "  -5.15201689e-02 -8.70433157e-01  3.09799487e-01  2.41884488e-01\n",
            "  -2.51182529e-01 -5.01209524e-02  2.46593824e-02 -5.00440040e-03\n",
            "   6.00607792e-04]\n",
            " [ 4.63294250e-03  5.03555691e-02 -9.81967171e-03 -2.31471169e-02\n",
            "  -9.90290846e-02  8.12869205e-02  1.12836514e-01  2.73960897e-03\n",
            "  -3.31747051e-01  8.78893693e-01 -2.91398464e-01 -1.51003530e-02\n",
            "   2.32714319e-03]\n",
            " [ 1.66550828e-01  9.75561893e-01  9.75106606e-02 -3.84698250e-02\n",
            "   3.30651238e-02  2.95190435e-03 -3.08198127e-02 -2.37761666e-02\n",
            "  -5.15240771e-02 -6.00349446e-02  2.59776624e-02  7.62673115e-04\n",
            "   1.71380037e-04]\n",
            " [-4.41922433e-02  1.16302516e-02  2.84851062e-02  1.70170830e-02\n",
            "  -8.73746543e-01  1.86714531e-01 -1.01973518e-01  2.88912753e-01\n",
            "  -2.60639176e-01 -1.78200254e-01  7.03239693e-02  3.49536431e-03\n",
            "   7.04931645e-04]\n",
            " [-3.62670135e-05 -9.99995129e-05 -2.40452216e-04  4.92663809e-05\n",
            "  -7.25585209e-05 -1.03409481e-05  1.07618923e-03 -1.21225507e-03\n",
            "   2.29856939e-03 -3.11291570e-03 -4.52868159e-03  1.77738095e-02\n",
            "   9.99822937e-01]]\n"
          ]
        }
      ],
      "source": [
        "eig_values, eig_vectors = np.linalg.eigh(matrix_S)\n",
        "print(\"Giá trị riêng: \\n\", eig_values)\n",
        "print('-----------------------------------------------------')\n",
        "print(\"Thành phần chính tính theo cột là: \\n\", eig_vectors)"
      ]
    },
    {
      "cell_type": "markdown",
      "metadata": {
        "id": "3tmXNj1UpDtT"
      },
      "source": [
        "### 4.4: Biểu diễn dữ liệu trên không gian tạo bởi hai thành phần chính đầu tiên với các điểm được vẽ bằng màu theo thuộc tính $y$."
      ]
    },
    {
      "cell_type": "code",
      "execution_count": 27,
      "metadata": {
        "colab": {
          "base_uri": "https://localhost:8080/",
          "height": 269
        },
        "id": "EbC-utFKpCyX",
        "outputId": "ad0a0818-b646-4933-f669-15bc37b25c65"
      },
      "outputs": [
        {
          "output_type": "display_data",
          "data": {
            "text/plain": [
              "<Figure size 432x288 with 1 Axes>"
            ],
            "image/png": "[encoded data removed]"
          },
          "metadata": {
            "needs_background": "light"
          }
        }
      ],
      "source": [
        "import matplotlib.pyplot as plt\n",
        "#Lay hai thanh phan chinh dau tien \n",
        "two_first = np.argsort(eig_values)[-2:]\n",
        "\n",
        "U = eig_vectors[:, two_first]\n",
        "Z = x1 @ U\n",
        "\n",
        "plt.scatter(Z[:, 0], Z[:, 1], c=y)\n",
        "plt.show()"
      ]
    },
    {
      "cell_type": "markdown",
      "metadata": {
        "id": "wmd0YucI53SS"
      },
      "source": [
        "### Bài 5 (2 điểm)\n",
        "\n",
        "Cho file dữ liệu **matrix1.csv**, đọc dữ liệu và lưu vào ma trận  𝑋  cỡ  $10\\times 12$  gồm các giá trị trong file dữ liệu.\n",
        "\n",
        "Tìm hai ma trận không âm  𝑊  cỡ  $10\\times 4$  và  𝐻  cỡ  $4\\times 12$  để  $$X\\approx WH. $$\n",
        "\n",
        " * Đặt $H$ là ma trận có các phần tử bằng $1$, tìm ma trận không âm $W$ để $||X-WH||^2_F+||W||_F^2$ đạt giá trị nhỏ nhất.\n",
        " * Với $W$ tìm được ở trên, tìm ma trận không âm của $H$ để $||X-WH||^2_F+||H||_F^2$ đạt giá trị nhỏ nhất.\n",
        " * Lặp lại quá trình trên với $n=10$ bước lặp để tìm các ma trận không âm $W,H$ để $||X-WH||^2_F+||W||_F^2+||H||^2_F$ đạt giá trị nhỏ nhất."
      ]
    },
    {
      "cell_type": "code",
      "execution_count": 28,
      "metadata": {
        "colab": {
          "base_uri": "https://localhost:8080/"
        },
        "id": "BWyqPuq553SS",
        "outputId": "0ca70c86-8ad5-41a7-fc2d-a3f607b5bdd6"
      },
      "outputs": [
        {
          "output_type": "stream",
          "name": "stdout",
          "text": [
            "(10, 1)\n",
            "[['163,167,166,174,152,155,145,170,157,174,165,158']\n",
            " ['70,70,75,74,69,68,74,75,68,68,64,75']\n",
            " ['78,80,85,86,85,87,70,76,87,85,87,80']\n",
            " ['67,82,70,83,74,77,56,62,90,92,78,55']\n",
            " ['48,49,42,48,54,55,53,51,55,46,55,43']\n",
            " ['69,70,77,71,37,36,39,39,55,60,68,72']\n",
            " ['22,20,15,14,15,13,30,24,13,15,13,20']\n",
            " ['25,27,37,35,25,25,27,28,24,30,24,30']\n",
            " ['20,15,14,15,23,27,22,30,27,19,19,17']\n",
            " ['26,21,26,28,20,20,20,20,20,40,15,40']]\n"
          ]
        }
      ],
      "source": [
        "import pandas as pd\n",
        "data = pd.read_excel(\"/content/drive/MyDrive/Data daiso/matrix1.xlsx\", header=None).values\n",
        "print(data.shape)\n",
        "print(data)\n",
        "\n"
      ]
    },
    {
      "cell_type": "code",
      "execution_count": 29,
      "metadata": {
        "id": "7GWC3eTpp5tO",
        "colab": {
          "base_uri": "https://localhost:8080/"
        },
        "outputId": "86a6a306-7779-40e2-90b7-27a075e45816"
      },
      "outputs": [
        {
          "output_type": "stream",
          "name": "stdout",
          "text": [
            "[[163. 167. 166. 174. 152. 155. 145. 170. 157. 174. 165. 158.]\n",
            " [ 70.  70.  75.  74.  69.  68.  74.  75.  68.  68.  64.  75.]\n",
            " [ 78.  80.  85.  86.  85.  87.  70.  76.  87.  85.  87.  80.]\n",
            " [ 67.  82.  70.  83.  74.  77.  56.  62.  90.  92.  78.  55.]\n",
            " [ 48.  49.  42.  48.  54.  55.  53.  51.  55.  46.  55.  43.]\n",
            " [ 69.  70.  77.  71.  37.  36.  39.  39.  55.  60.  68.  72.]\n",
            " [ 22.  20.  15.  14.  15.  13.  30.  24.  13.  15.  13.  20.]\n",
            " [ 25.  27.  37.  35.  25.  25.  27.  28.  24.  30.  24.  30.]\n",
            " [ 20.  15.  14.  15.  23.  27.  22.  30.  27.  19.  19.  17.]\n",
            " [ 26.  21.  26.  28.  20.  20.  20.  20.  20.  40.  15.  40.]]\n"
          ]
        }
      ],
      "source": [
        "X = np.zeros((10, 12))\n",
        "for i in range(10):\n",
        "  X[i] = np.array([float(j) for j in data[i][0].split(',')])\n",
        "\n",
        "print(X)"
      ]
    },
    {
      "cell_type": "code",
      "source": [
        "# Gọi H  là ma trận có tất cả các phần tử bằng  1 \n",
        "# Ta cần tìm ma trận không âm  W  để  ||X−WH||2F+||W||2F  đạt giá trị nhỏ nhất.\n",
        "H = np.ones((4, 12)) "
      ],
      "metadata": {
        "id": "xyz4AAtqtpmC"
      },
      "execution_count": 30,
      "outputs": []
    },
    {
      "cell_type": "markdown",
      "source": [
        "Có $f(W) = ||X-WH||^2_F+||W||_F^2$\n",
        "\n",
        "$\\Rightarrow \\frac{df(W)}{dW} = 2(WH - X)H^T + 2W = 0$\n",
        "\n",
        "$\\Rightarrow W(HH^T + I) = XH^T$\n",
        "\n",
        "$\\Rightarrow W = XH^T(HH^T+I)^\\dagger$\n",
        "\n",
        "$\\Rightarrow W = [XH^T(HH^T+I)^\\dagger]_+$\n"
      ],
      "metadata": {
        "id": "eV3BOsQ5vMFx"
      }
    },
    {
      "cell_type": "code",
      "source": [
        "I = np.eye(4)\n",
        "W = X @ H.T @ np.linalg.pinv(H@H.T + I)\n",
        "\n",
        "print(\"W = \\n\", W) "
      ],
      "metadata": {
        "colab": {
          "base_uri": "https://localhost:8080/"
        },
        "id": "-0LFodtdvPPn",
        "outputId": "4394cec6-ad3d-47b1-e5fd-4354b96e011c"
      },
      "execution_count": 31,
      "outputs": [
        {
          "output_type": "stream",
          "name": "stdout",
          "text": [
            "W = \n",
            " [[39.71428571 39.71428571 39.71428571 39.71428571]\n",
            " [17.34693878 17.34693878 17.34693878 17.34693878]\n",
            " [20.12244898 20.12244898 20.12244898 20.12244898]\n",
            " [18.08163265 18.08163265 18.08163265 18.08163265]\n",
            " [12.2244898  12.2244898  12.2244898  12.2244898 ]\n",
            " [14.14285714 14.14285714 14.14285714 14.14285714]\n",
            " [ 4.36734694  4.36734694  4.36734694  4.36734694]\n",
            " [ 6.87755102  6.87755102  6.87755102  6.87755102]\n",
            " [ 5.06122449  5.06122449  5.06122449  5.06122449]\n",
            " [ 6.04081633  6.04081633  6.04081633  6.04081633]]\n"
          ]
        }
      ]
    },
    {
      "cell_type": "markdown",
      "source": [
        "$f(H) = ||X-WH||^2_F+||W||_F^2$\n",
        "\n",
        "$\\Rightarrow \\frac{df(H)}{dH} = 2W^T + 2W = 0$\n",
        "\n",
        "$\\Rightarrow W(HH^T + I) = XH^T$\n",
        "\n",
        "$\\Rightarrow W = XH^T(HH^T+I)^\\dagger$\n",
        "\n",
        "$\\Rightarrow W = [XH^T(HH^T+I)^\\dagger]_+$"
      ],
      "metadata": {
        "id": "DXnfUziivXCI"
      }
    },
    {
      "cell_type": "code",
      "source": [
        "# Với  W  tìm được ở trên, tìm ma trận không âm của  H  để  ||X−WH||2F+||H||2F  đạt giá trị nhỏ nhất."
      ],
      "metadata": {
        "id": "k3jSLOO8vXjD"
      },
      "execution_count": 32,
      "outputs": []
    },
    {
      "cell_type": "markdown",
      "source": [
        "$f(H) = ||X-WH||^2_F+||H||_F^2$\n",
        "\n",
        "$\\Rightarrow \\frac{df(H)}{dH} = 2W^T(WH - X) + 2H = 0$\n",
        "\n",
        "$\\Rightarrow (W^TW + I)H = W^TX$\n",
        "\n",
        "$\\Rightarrow H = (W^TW+I)^\\dagger W^TX$\n",
        "\n",
        "$\\Rightarrow H = [(W^TW+I)^\\dagger W^TX]_+$"
      ],
      "metadata": {
        "id": "taZnYXUavwsa"
      }
    },
    {
      "cell_type": "code",
      "source": [
        "I = np.eye(4)\n",
        "H = np.linalg.pinv(W.T @ W + I) @ W.T @ X\n",
        "H[H < 0] = 0\n",
        "\n",
        "print(\"H = \\n\", H) "
      ],
      "metadata": {
        "colab": {
          "base_uri": "https://localhost:8080/"
        },
        "id": "NVzrS06YvzhD",
        "outputId": "9746fc9c-2e24-42ba-9743-512cc0c7aedc"
      },
      "execution_count": 33,
      "outputs": [
        {
          "output_type": "stream",
          "name": "stdout",
          "text": [
            "H = \n",
            " [[1.01658861 1.05271042 1.0540189  1.09798165 0.96658903 0.98325556\n",
            "  0.90763005 1.00770023 1.02991125 1.09160449 1.04160987 0.99940827]\n",
            " [1.01658861 1.05271042 1.0540189  1.09798165 0.96658903 0.98325556\n",
            "  0.90763005 1.00770023 1.02991125 1.09160449 1.04160987 0.99940827]\n",
            " [1.01658861 1.05271042 1.0540189  1.09798165 0.96658903 0.98325556\n",
            "  0.90763005 1.00770023 1.02991125 1.09160449 1.04160987 0.99940827]\n",
            " [1.01658861 1.05271042 1.0540189  1.09798165 0.96658903 0.98325556\n",
            "  0.90763005 1.00770023 1.02991125 1.09160449 1.04160987 0.99940827]]\n"
          ]
        }
      ]
    },
    {
      "cell_type": "code",
      "source": [
        "#Lặp lại các buwocs trên với n vòng lặp. Chọn n = 10 để ||X−WH||2F+||W||2F+||H||2F đạt giá trị nhỏ nhất \n",
        "n = 10\n",
        "for i in range(n):\n",
        "  W = X @ H.T @ np.linalg.pinv(H@H.T + I)\n",
        "  W[W < 0] = 0\n",
        "  H = np.linalg.pinv(W.T @ W + I) @ W.T @ X\n",
        "  H[H < 0] = 0\n",
        "\n",
        "print(\"W =\\n\", W)\n",
        "print(\"H =\\n\", H)"
      ],
      "metadata": {
        "colab": {
          "base_uri": "https://localhost:8080/"
        },
        "id": "67QFDhqhv3o4",
        "outputId": "da0f6476-597e-40c0-d88e-5e8628289f8a"
      },
      "execution_count": 34,
      "outputs": [
        {
          "output_type": "stream",
          "name": "stdout",
          "text": [
            "W =\n",
            " [[26.19521341 21.11716687 30.53911522 17.09750719]\n",
            " [11.81921989  7.15524776 12.95436215  9.42999129]\n",
            " [12.19929915 12.69061505 15.30720296  8.10245225]\n",
            " [ 9.53176575 16.14009913 13.56509425  4.6470901 ]\n",
            " [ 5.5066068   6.74104134 10.82851881  6.24551517]\n",
            " [13.7013701   6.80338757 12.34164774  0.        ]\n",
            " [ 3.05649823  0.          3.85265875  3.84396526]\n",
            " [ 5.70398211  3.13527459  4.42354835  3.13419972]\n",
            " [ 1.52417228  2.65475358  3.93659511  4.26497582]\n",
            " [ 7.05046386  3.58487152  0.61954801  3.48215747]]\n",
            "H =\n",
            " [[2.64003411 2.03978251 3.64817669 2.89396877 0.06211188 0.\n",
            "  0.86016237 0.76882287 0.31356974 2.91176691 1.01361995 4.60141908]\n",
            " [0.38882558 1.47363828 0.63914965 1.96179229 2.4184794  2.80618621\n",
            "  0.         0.40987547 3.19750903 3.78336117 1.49551193 0.        ]\n",
            " [2.34647271 2.64523319 1.90621528 1.57818391 1.66061919 1.62402678\n",
            "  2.24141337 2.21923401 2.16137523 0.         3.55059285 0.60640023]\n",
            " [0.7755099  0.02360538 0.         0.42593973 2.93206491 3.05629483\n",
            "  3.50121097 3.94088776 1.10954191 1.51785834 0.         1.35591224]]\n"
          ]
        }
      ]
    },
    {
      "cell_type": "code",
      "source": [
        ""
      ],
      "metadata": {
        "id": "WYcavm_7wNRf"
      },
      "execution_count": 34,
      "outputs": []
    }
  ],
  "metadata": {
    "colab": {
      "name": "LA-Final-N07-NguyenXuanHoang(3694709).ipynb",
      "provenance": [],
      "collapsed_sections": []
    },
    "kernelspec": {
      "display_name": "Python 3 (ipykernel)",
      "language": "python",
      "name": "python3"
    },
    "language_info": {
      "codemirror_mode": {
        "name": "ipython",
        "version": 3
      },
      "file_extension": ".py",
      "mimetype": "text/x-python",
      "name": "python",
      "nbconvert_exporter": "python",
      "pygments_lexer": "ipython3",
      "version": "3.8.12"
    }
  },
  "nbformat": 4,
  "nbformat_minor": 0
}