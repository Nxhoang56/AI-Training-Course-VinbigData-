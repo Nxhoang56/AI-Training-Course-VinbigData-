{
 "cells": [
  {
   "cell_type": "code",
   "execution_count": 27,
   "metadata": {},
   "outputs": [],
   "source": [
    "import numpy as np\n",
    "import matplotlib.pyplot as plt\n",
    "import pandas as pd\n",
    "from scipy import linalg"
   ]
  },
  {
   "cell_type": "code",
   "execution_count": 28,
   "metadata": {},
   "outputs": [
    {
     "data": {
      "text/plain": [
       "array([[ 1,  0,  1],\n",
       "       [ 1, -2, -1],\n",
       "       [ 2,  1,  3],\n",
       "       [ 1,  0,  1]])"
      ]
     },
     "execution_count": 28,
     "metadata": {},
     "output_type": "execute_result"
    }
   ],
   "source": [
    "A1 = np.array([1,0,1,1,-2,-1,2,1,3,1,0,1]).reshape(4,3)\n",
    "A1"
   ]
  },
  {
   "cell_type": "code",
   "execution_count": 29,
   "metadata": {},
   "outputs": [
    {
     "data": {
      "text/plain": [
       "array([[ 3, -3,  0],\n",
       "       [ 1,  2,  3],\n",
       "       [ 7, -5,  2],\n",
       "       [ 3, -1,  2]])"
      ]
     },
     "execution_count": 29,
     "metadata": {},
     "output_type": "execute_result"
    }
   ],
   "source": [
    "A2 = np.array([3,-3,0,1,2,3,7,-5,2,3,-1,2]).reshape(4,3)\n",
    "A2"
   ]
  },
  {
   "cell_type": "code",
   "execution_count": 30,
   "metadata": {},
   "outputs": [
    {
     "name": "stdout",
     "output_type": "stream",
     "text": [
      "dimU1:  2\n",
      "Co so cua U1: \n",
      "[[ 1  0]\n",
      " [ 1 -2]\n",
      " [ 2  1]\n",
      " [ 1  0]]\n"
     ]
    }
   ],
   "source": [
    "# so chieu va co so cua u1 = span(A1)\n",
    "dimU1 = np.linalg.matrix_rank(A1)\n",
    "print('dimU1: ', dimU1)\n",
    "U1 = linalg.lu(A1)[2]\n",
    "print('Co so cua U1: ', A1[:,:-1],sep='\\n')"
   ]
  },
  {
   "cell_type": "code",
   "execution_count": 31,
   "metadata": {},
   "outputs": [],
   "source": [
    "# linalg.lu(A1)"
   ]
  },
  {
   "cell_type": "code",
   "execution_count": 32,
   "metadata": {},
   "outputs": [],
   "source": [
    "\n",
    "# U1"
   ]
  },
  {
   "cell_type": "code",
   "execution_count": 33,
   "metadata": {},
   "outputs": [
    {
     "name": "stdout",
     "output_type": "stream",
     "text": [
      "dimU2:  2\n",
      "Co so cua U2: \n",
      "[[ 3 -3]\n",
      " [ 1  2]\n",
      " [ 7 -5]\n",
      " [ 3 -1]]\n"
     ]
    },
    {
     "data": {
      "text/plain": [
       "array([[ 7.        , -5.        ,  2.        ],\n",
       "       [ 0.        ,  2.71428571,  2.71428571],\n",
       "       [ 0.        ,  0.        ,  0.        ]])"
      ]
     },
     "execution_count": 33,
     "metadata": {},
     "output_type": "execute_result"
    }
   ],
   "source": [
    "# cho chieu va co so cua u2 = span(A2)\n",
    "dimU2 = np.linalg.matrix_rank(A2)\n",
    "print('dimU2: ', dimU2)\n",
    "U2 = linalg.lu(A2)[2]\n",
    "print('Co so cua U2: ', A2[:,:-1],sep='\\n')\n",
    "U2\n",
    "\n"
   ]
  },
  {
   "cell_type": "code",
   "execution_count": 34,
   "metadata": {},
   "outputs": [
    {
     "data": {
      "text/plain": [
       "array([[ 1,  0,  1,  3, -3,  0],\n",
       "       [ 1, -2, -1,  1,  2,  3],\n",
       "       [ 2,  1,  3,  7, -5,  2],\n",
       "       [ 1,  0,  1,  3, -1,  2]])"
      ]
     },
     "execution_count": 34,
     "metadata": {},
     "output_type": "execute_result"
    }
   ],
   "source": [
    "U3 = U1 + U2\n",
    "# so chieu va co so cua u3\n",
    "A3 = np.hstack((A1,A2))\n",
    "A3"
   ]
  },
  {
   "cell_type": "code",
   "execution_count": 38,
   "metadata": {},
   "outputs": [
    {
     "name": "stdout",
     "output_type": "stream",
     "text": [
      "so chieu cua U3 =  3\n"
     ]
    },
    {
     "data": {
      "text/plain": [
       "array([[ 2. ,  1. ,  3. ,  7. , -5. ,  2. ],\n",
       "       [ 0. , -2.5, -2.5, -2.5,  4.5,  2. ],\n",
       "       [ 0. ,  0. ,  0. ,  0. , -1.4, -1.4],\n",
       "       [ 0. ,  0. ,  0. ,  0. ,  0.6,  0.6]])"
      ]
     },
     "execution_count": 38,
     "metadata": {},
     "output_type": "execute_result"
    }
   ],
   "source": [
    "# so chieu va co so cua A3\n",
    "dimU3 = np.linalg.matrix_rank(A3)\n",
    "print('so chieu cua U3 = ', dimU3)\n",
    "U3 = linalg.lu(A3)[2]\n",
    "U3"
   ]
  },
  {
   "cell_type": "markdown",
   "metadata": {},
   "source": [
    "## Hồi quy đa thức"
   ]
  },
  {
   "cell_type": "code",
   "execution_count": 39,
   "metadata": {},
   "outputs": [],
   "source": [
    "# x       y     x     y\n",
    "# -1     -6.375 1.778 2.545\n",
    "# -0.444 -2.211 2.333 0.050\n",
    "# 0.111  4.491  2.889 4.134\n",
    "# 0.667  0.146  3.444 13.312\n",
    "# 1.222  2.987  4     26.058\n",
    "x = np.array([-1,-0.444,0.111,0.667,1.222,1.778,2.333,2.889,3.444,4])\n",
    "y = np.array([-6.375,-2.211,4.491,0.146,2.987,2.545,0.050,4.134,13.312,26.058])\n",
    "p = np.polyfit(x,y,3)\n"
   ]
  },
  {
   "cell_type": "code",
   "execution_count": 41,
   "metadata": {},
   "outputs": [
    {
     "name": "stdout",
     "output_type": "stream",
     "text": [
      "p 3 2 1 0:  [ 1.32026397 -4.60377845  3.27292648  2.10197554]\n"
     ]
    }
   ],
   "source": [
    "print('p 3 2 1 0: ', p)"
   ]
  },
  {
   "cell_type": "code",
   "execution_count": 42,
   "metadata": {},
   "outputs": [
    {
     "data": {
      "image/png": "[encoded data removed]",
      "text/plain": [
       "<Figure size 432x288 with 1 Axes>"
      ]
     },
     "metadata": {
      "needs_background": "light"
     },
     "output_type": "display_data"
    }
   ],
   "source": [
    "#plot polynomial p\n",
    "x_new = np.linspace(x.min(),x.max(),100)\n",
    "y_new = np.polyval(p,x_new)\n",
    "plt.plot(x_new,y_new)\n",
    "plt.plot(x,y,'o')\n",
    "plt.show()"
   ]
  },
  {
   "cell_type": "code",
   "execution_count": 46,
   "metadata": {},
   "outputs": [],
   "source": [
    "#import curve_fit\n",
    "from scipy.optimize import curve_fit\n"
   ]
  },
  {
   "cell_type": "code",
   "execution_count": 51,
   "metadata": {},
   "outputs": [
    {
     "name": "stdout",
     "output_type": "stream",
     "text": [
      "[0.02 0.02 0.06 0.06 0.11 0.11 0.22 0.22 0.56 0.56 1.1  1.1 ]\n",
      "[ 76.  47.  97. 107. 123. 139. 159. 152. 191. 201. 207. 200.]\n"
     ]
    }
   ],
   "source": [
    "#Mo hinh Mechalis-Menten\n",
    "# x    y\n",
    "# 0.02 76\n",
    "# 0.02 47\n",
    "# 0.06 97\n",
    "# 0.06 107\n",
    "# 0.11 123\n",
    "# 0.11 139\n",
    "# 0.22 159\n",
    "# 0.22 152\n",
    "# 0.56 191\n",
    "# 0.56 201\n",
    "# 1.10 207\n",
    "# 1.10 200\n",
    "x = np.array([0.02,0.02,0.06,0.06,0.11,0.11,0.22,0.22,0.56,0.56,1.10,1.10])\n",
    "y = np.array([76,47,97,107,123,139,159,152,191,201,207,200],dtype =float )\n",
    "print(x)\n",
    "print(y)\n",
    "def f(x,a,b):\n",
    "    return a*x/(b + x)\n",
    "p0 = [150,0.01]\n",
    "tham_so_cua_mo_hinh_a_b, ma_tran_hiep_phuong_sai = curve_fit(f,x,y,p0)"
   ]
  },
  {
   "cell_type": "code",
   "execution_count": 52,
   "metadata": {},
   "outputs": [
    {
     "name": "stdout",
     "output_type": "stream",
     "text": [
      "tham so cua mo hinh a b:  [2.12683651e+02 6.41211389e-02]\n",
      "ma tran hiep phuong sai:  [[4.82622439e+01 4.40132671e-02]\n",
      " [4.40132671e-02 6.85715000e-05]]\n"
     ]
    }
   ],
   "source": [
    "print('tham so cua mo hinh a b: ', tham_so_cua_mo_hinh_a_b)\n",
    "print('ma tran hiep phuong sai: ', ma_tran_hiep_phuong_sai)"
   ]
  },
  {
   "cell_type": "code",
   "execution_count": 53,
   "metadata": {},
   "outputs": [
    {
     "data": {
      "image/png": "[encoded data removed]",
      "text/plain": [
       "<Figure size 432x288 with 1 Axes>"
      ]
     },
     "metadata": {
      "needs_background": "light"
     },
     "output_type": "display_data"
    }
   ],
   "source": [
    "#plot mo hinh\n",
    "x_new = np.linspace(x.min(),x.max(),100)\n",
    "y_new = f(x_new,tham_so_cua_mo_hinh_a_b[0],tham_so_cua_mo_hinh_a_b[1])\n",
    "plt.plot(x_new,y_new)\n",
    "plt.plot(x,y,'o')\n",
    "plt.show()\n"
   ]
  },
  {
   "cell_type": "code",
   "execution_count": null,
   "metadata": {},
   "outputs": [],
   "source": []
  }
 ],
 "metadata": {
  "kernelspec": {
   "display_name": "Python 3.10.5 64-bit (windows store)",
   "language": "python",
   "name": "python3"
  },
  "language_info": {
   "codemirror_mode": {
    "name": "ipython",
    "version": 3
   },
   "file_extension": ".py",
   "mimetype": "text/x-python",
   "name": "python",
   "nbconvert_exporter": "python",
   "pygments_lexer": "ipython3",
   "version": "3.10.5"
  },
  "orig_nbformat": 4,
  "vscode": {
   "interpreter": {
    "hash": "2978badb5c18cae23a3cf7a88905212cc7189f32fef1c6d8e7f4c3f241aa508d"
   }
  }
 },
 "nbformat": 4,
 "nbformat_minor": 2
}
