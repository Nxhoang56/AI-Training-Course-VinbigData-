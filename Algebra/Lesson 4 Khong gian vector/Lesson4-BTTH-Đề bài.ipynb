{
 "cells": [
  {
   "cell_type": "markdown",
   "metadata": {},
   "source": [
    "# Bài thực hành 4\n",
    "### Môn: Linear Algebra"
   ]
  },
  {
   "cell_type": "code",
   "execution_count": 1,
   "metadata": {},
   "outputs": [],
   "source": [
    "import numpy as np\n",
    "from scipy import linalg\n",
    "from scipy.optimize import curve_fit\n",
    "import matplotlib.pyplot as plt"
   ]
  },
  {
   "cell_type": "code",
   "execution_count": 2,
   "metadata": {},
   "outputs": [],
   "source": [
    "# Phương pháp khử Gauss - Jordan\n",
    "def gauss_jordan(A):\n",
    "    m,n = A.shape\n",
    "    pivots=[]\n",
    "    s=-1\n",
    "    for j in range(n):\n",
    "        col = A[:,j].copy()\n",
    "        for i in pivots:\n",
    "            col[i] = 0\n",
    "        col = np.abs(col)\n",
    "        pivot_arg = np.argmax(col)\n",
    "        pivot = A[pivot_arg,j]\n",
    "        if col[pivot_arg]!=0 and s<m-1:\n",
    "            s+=1\n",
    "            pivots.append(s)\n",
    "            A[pivot_arg,:] = 1/pivot*A[pivot_arg,:]\n",
    "            row_swap = A[s,:].copy()\n",
    "            A[s,:] = A[pivot_arg,:]\n",
    "            A[pivot_arg,:] = row_swap\n",
    "            for i in range(m):\n",
    "                if i!=s:\n",
    "                    A[i,:] -= A[i,j]*A[s,:]"
   ]
  },
  {
   "cell_type": "markdown",
   "metadata": {},
   "source": [
    "### Bài tập 1\n",
    "Cho hai không gian $U_1$ và $U_2$, trong đó $U_1$ được sinh bởi các cột của ma trận ${\\bf A}_1$, $U_2$ được sinh bởi các cột của ma trận ${\\bf A}_2$ với\n",
    "\n",
    "$${\\bf A}_1=\\left[\\begin{matrix}\n",
    "1 & 0 & 1\\\\\n",
    "1 & -2 & -1\\\\\n",
    "2 & 1 & 3\\\\\n",
    "1 & 0 & 1\n",
    "\\end{matrix}\\right],\\ \n",
    "{\\bf A}_2=\\left[\\begin{matrix}\n",
    "3 & -3 & 0\\\\\n",
    "1 & 2 & 3\\\\\n",
    "7 & -5 & 2\\\\\n",
    "3 & -1 & 2\n",
    "\\end{matrix}\\right]$$\n",
    "\n",
    "Xác định một cơ sở và số chiều của các không gian véc tơ sau đây:\n",
    "* $U_1$, $U_2$.\n",
    "* $U_3=U_1+U_2=\\{x=x_1+x_2\\,:\\,x_1\\in U_1,\\,x_2\\in U_2\\}$.\n",
    "* $U_4=U_1\\cap U_2=\\{x\\,:\\,x\\in U_1,\\,x\\in U_2\\}$."
   ]
  },
  {
   "cell_type": "code",
   "execution_count": 4,
   "metadata": {},
   "outputs": [
    {
     "name": "stdout",
     "output_type": "stream",
     "text": [
      "[[ 1  0  1]\n",
      " [ 1 -2 -1]\n",
      " [ 2  1  3]\n",
      " [ 1  0  1]]\n",
      "[[ 3 -3  0]\n",
      " [ 1  2  3]\n",
      " [ 7 -5  2]\n",
      " [ 3 -1  2]]\n"
     ]
    }
   ],
   "source": [
    "A1 = np.array([1,0, 1,1, -2, -1,2,1,3,1,0,1]).reshape(4,3)\n",
    "A2 = np.array([3,-3,0,1,2,3,7,-5,2,3,-1,2]).reshape(4,3)\n",
    "print(A1)\n",
    "print(A2)"
   ]
  },
  {
   "cell_type": "code",
   "execution_count": 5,
   "metadata": {},
   "outputs": [
    {
     "name": "stdout",
     "output_type": "stream",
     "text": [
      "2\n",
      "[[ 2.   1.   3. ]\n",
      " [ 0.  -2.5 -2.5]\n",
      " [ 0.   0.   0. ]]\n",
      "Co so cua U1:\n",
      "[[ 1  0]\n",
      " [ 1 -2]\n",
      " [ 2  1]\n",
      " [ 1  0]]\n"
     ]
    }
   ],
   "source": [
    "#So chieu va co so cua cac khong gian vecto U1 = span(A1)\n",
    "dim1 = np.linalg.matrix_rank(A1)\n",
    "print(dim1)\n",
    "U1 = np.around(linalg.lu(A1)[2],3)\n",
    "print(U1)\n",
    "print('Co so cua U1:', A1[:, 0:2], sep ='\\n')"
   ]
  },
  {
   "cell_type": "code",
   "execution_count": 6,
   "metadata": {},
   "outputs": [
    {
     "name": "stdout",
     "output_type": "stream",
     "text": [
      "2\n",
      "[[ 7.    -5.     2.   ]\n",
      " [ 0.     2.714  2.714]\n",
      " [ 0.     0.    -0.   ]]\n",
      "Co so cua U2:\n",
      "[[ 3 -3]\n",
      " [ 1  2]\n",
      " [ 7 -5]\n",
      " [ 3 -1]]\n"
     ]
    }
   ],
   "source": [
    "dim2 = np.linalg.matrix_rank(A2)\n",
    "print(dim2)\n",
    "U2 = np.around(linalg.lu(A2)[2],3)\n",
    "print(U2)\n",
    "print('Co so cua U2:', A2[:, 0:2], sep ='\\n')"
   ]
  },
  {
   "cell_type": "code",
   "execution_count": 7,
   "metadata": {},
   "outputs": [
    {
     "name": "stdout",
     "output_type": "stream",
     "text": [
      "[[ 1  0  1  3 -3  0]\n",
      " [ 1 -2 -1  1  2  3]\n",
      " [ 2  1  3  7 -5  2]\n",
      " [ 1  0  1  3 -1  2]]\n",
      "dim3: 3\n",
      "[[ 2.   1.   3.   7.  -5.   2. ]\n",
      " [ 0.  -2.5 -2.5 -2.5  4.5  2. ]\n",
      " [ 0.   0.   0.   0.  -1.4 -1.4]\n",
      " [ 0.   0.   0.   0.   2.   2. ]]\n",
      "Co so cua U3:  [1 1 2 1] [ 0 -2  1  0] [-3  2 -5 -1]\n"
     ]
    }
   ],
   "source": [
    "#So chieu va co so cua U3\n",
    "A3 = np.hstack([A1,A2])\n",
    "print(A3)\n",
    "\n",
    "dim3 = np.linalg.matrix_rank(A3)\n",
    "print('dim3:', dim3)\n",
    "U3 = np.around(linalg.lu(A3)[2],3)\n",
    "print(U3)\n",
    "print('Co so cua U3: ', A3[:,0], A3[:, 1], A3[:,4])"
   ]
  },
  {
   "cell_type": "code",
   "execution_count": 9,
   "metadata": {},
   "outputs": [
    {
     "data": {
      "text/plain": [
       "array([-1.   , -0.444,  0.111,  0.667,  1.222,  1.778,  2.333])"
      ]
     },
     "execution_count": 9,
     "metadata": {},
     "output_type": "execute_result"
    }
   ],
   "source": [
    "x = np.array([-1,-0.444,0.111,0.667,1.222,1.778,2.333,])\n",
    "x"
   ]
  },
  {
   "cell_type": "markdown",
   "metadata": {},
   "source": [
    "### Bài tập 2\n",
    "Cho các đa thức: \n",
    "$${\\bf p}_1(x)=1+x,\\,{\\bf p}_2(x)=1-x,\\,{\\bf p}_3(x)=4$$\n",
    "$${\\bf p}_4(x)=1+x^2,\\,{\\bf p}_5(x)=1+2x+x^2$$\n",
    "\n",
    "Gọi $H$ là không gian con của $\\mathbb{P}_5$ sinh bởi tập $S=\\{{\\bf p}_1,{\\bf p}_2,{\\bf p}_3,{\\bf p}_4,{\\bf p}_5\\}$.\n",
    "\n",
    "* Hãy tìm một cơ sở và số chiều của $H$.\n",
    "* Tìm tọa độ của ${\\bf q}=3-2x+x^2\\in H$ theo cơ sở tìm được."
   ]
  },
  {
   "cell_type": "code",
   "execution_count": null,
   "metadata": {},
   "outputs": [],
   "source": []
  },
  {
   "cell_type": "markdown",
   "metadata": {},
   "source": [
    "### Bài 3\n",
    "Trong xử lý tín hiệu số, phương trình sai phân cấp $n$:\n",
    "\n",
    "$$y_{k+3}-2y_{k+2}+9y_{k+1}-18y_k=z_k$$\n",
    "\n",
    "mô tả một bộ lọc tuyến tính với $\\{y_k\\}$ là tín hiệu vào và $\\{z_k\\}$ là tín hiệu ra. Trường hợp $z_k=0$ phương trình được gọi là thuần nhất. Tập tín hiệu vào $\\{y_k\\}$ thoả mãn phương trình thuần nhất là một không gian véc tơ 3 chiều $H$. Xét tập tín hiệu \n",
    "\n",
    "$$(\\mathcal{B})=\\left\\{2^k,\\,3^k\\sin\\left(\\frac{k\\pi}{2}\\right),\\,3^k\\cos\\left(\\frac{k\\pi}{2}\\right)\\right\\}$$\n",
    "\n",
    "* Chứng minh $(\\mathcal{B})$ gồm các nghiệm của phương trình thuần nhất.\n",
    "* Chứng minh $(\\mathcal{B})$ là một cơ sở của $H$."
   ]
  },
  {
   "cell_type": "code",
   "execution_count": null,
   "metadata": {},
   "outputs": [],
   "source": []
  }
 ],
 "metadata": {
  "kernelspec": {
   "display_name": "Python 3 (ipykernel)",
   "language": "python",
   "name": "python3"
  },
  "language_info": {
   "codemirror_mode": {
    "name": "ipython",
    "version": 3
   },
   "file_extension": ".py",
   "mimetype": "text/x-python",
   "name": "python",
   "nbconvert_exporter": "python",
   "pygments_lexer": "ipython3",
   "version": "3.9.12"
  }
 },
 "nbformat": 4,
 "nbformat_minor": 4
}
