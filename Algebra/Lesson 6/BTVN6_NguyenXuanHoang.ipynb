{
 "cells": [
  {
   "cell_type": "code",
   "execution_count": 1,
   "id": "d1f8f435",
   "metadata": {},
   "outputs": [],
   "source": [
    "import numpy as np \n",
    "from scipy import linalg "
   ]
  },
  {
   "cell_type": "markdown",
   "id": "c877a3bd",
   "metadata": {},
   "source": [
    "## Bài 1 "
   ]
  },
  {
   "cell_type": "code",
   "execution_count": 3,
   "id": "9aaadf6a",
   "metadata": {},
   "outputs": [
    {
     "data": {
      "text/plain": [
       "array([[ 7,  2],\n",
       "       [-4,  1]])"
      ]
     },
     "execution_count": 3,
     "metadata": {},
     "output_type": "execute_result"
    }
   ],
   "source": [
    "A = np.array([7,2,-4,1]).reshape(2,2)\n",
    "A"
   ]
  },
  {
   "cell_type": "code",
   "execution_count": null,
   "id": "9a67b163",
   "metadata": {},
   "outputs": [],
   "source": [
    "# A_eig = A."
   ]
  },
  {
   "cell_type": "markdown",
   "id": "90d8db0a",
   "metadata": {},
   "source": [
    "## Bài 3: "
   ]
  },
  {
   "cell_type": "code",
   "execution_count": 5,
   "id": "382a9822",
   "metadata": {},
   "outputs": [
    {
     "data": {
      "text/plain": [
       "array([[0, 4, 4, 0, 0, 0],\n",
       "       [4, 0, 2, 0, 1, 0],\n",
       "       [4, 2, 0, 1, 1, 0],\n",
       "       [0, 0, 1, 0, 0, 2],\n",
       "       [0, 1, 0, 0, 0, 4],\n",
       "       [0, 0, 0, 2, 4, 0]])"
      ]
     },
     "execution_count": 5,
     "metadata": {},
     "output_type": "execute_result"
    }
   ],
   "source": [
    "#Viết ma trận trọng số của đồ thị\n",
    "w  = np.array([0,4,4,0,0,0,4,0,2,0,1,0,4,2,0,1,1,0,0,0,1,0,0,2,0,1,0,0,0,4,0,0,0,2,4,0]).reshape(6,6)\n",
    "w"
   ]
  },
  {
   "cell_type": "code",
   "execution_count": null,
   "id": "1d2190fe",
   "metadata": {},
   "outputs": [],
   "source": []
  }
 ],
 "metadata": {
  "kernelspec": {
   "display_name": "Python 3 (ipykernel)",
   "language": "python",
   "name": "python3"
  },
  "language_info": {
   "codemirror_mode": {
    "name": "ipython",
    "version": 3
   },
   "file_extension": ".py",
   "mimetype": "text/x-python",
   "name": "python",
   "nbconvert_exporter": "python",
   "pygments_lexer": "ipython3",
   "version": "3.9.12"
  }
 },
 "nbformat": 4,
 "nbformat_minor": 5
}
