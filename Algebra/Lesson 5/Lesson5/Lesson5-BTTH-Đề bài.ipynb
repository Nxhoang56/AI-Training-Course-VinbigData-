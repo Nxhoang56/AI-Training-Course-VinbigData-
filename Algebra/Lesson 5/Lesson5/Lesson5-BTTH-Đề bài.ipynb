{
 "cells": [
  {
   "cell_type": "markdown",
   "metadata": {},
   "source": [
    "# Bài thực hành 5\n",
    "### Môn: Linear Algebra"
   ]
  },
  {
   "cell_type": "code",
   "execution_count": 1,
   "metadata": {},
   "outputs": [],
   "source": [
    "import numpy as np\n",
    "import scipy "
   ]
  },
  {
   "cell_type": "markdown",
   "metadata": {},
   "source": [
    "### Bài tập 1\n",
    "Cho các véc tơ ${\\bf x}_1=\\left[\\begin{matrix}\n",
    "1 \\\\\n",
    "5 \\\\\n",
    "-6\\\\\n",
    "3\n",
    "\\end{matrix}\\right],\\,{\\bf x}_2=\\left[\\begin{matrix}\n",
    "-3 \\\\\n",
    "11 \\\\\n",
    "-9 \\\\\n",
    "12\n",
    "\\end{matrix}\\right],\\,{\\bf x}_3=\\left[\\begin{matrix}\n",
    "-10 \\\\\n",
    "9 \\\\\n",
    "-4 \\\\\n",
    "4\n",
    "\\end{matrix}\\right]$ và ${\\bf y}=\\left[\\begin{matrix}\n",
    "0 \\\\\n",
    "0 \\\\\n",
    "0 \\\\\n",
    "-1\n",
    "\\end{matrix}\\right]$. \n",
    "* Hãy xây dựng một cơ sở trực giao cho $W=\\mathrm{span}\\{{\\bf x}_1,{\\bf x}_2,{\\bf x}_3\\}$.\n",
    "* Tìm hình chiếu trực giao của $\\bf y$ trên $W$"
   ]
  },
  {
   "cell_type": "code",
   "execution_count": 2,
   "metadata": {},
   "outputs": [],
   "source": [
    "v1 = np.array([1,-2,4,2])\n",
    "v2 = np.array([4,1,5,-3])\n",
    "v3 = np.array([1,-1,1,2])\n",
    "v4 = np.array([-2,0,1,1])"
   ]
  },
  {
   "cell_type": "code",
   "execution_count": 3,
   "metadata": {},
   "outputs": [
    {
     "data": {
      "text/plain": [
       "16"
      ]
     },
     "execution_count": 3,
     "metadata": {},
     "output_type": "execute_result"
    }
   ],
   "source": [
    "np.inner(v1,v2)"
   ]
  },
  {
   "cell_type": "markdown",
   "metadata": {},
   "source": [
    "### Bài tập 2\n",
    "\n",
    "Cho ma trận: \n",
    "$${\\bf A}=\\left[\\begin{matrix}\n",
    "1 & 3 & -7\\\\\n",
    "2 & 1 & 1\\\\\n",
    "-2 & 7 & 11\\\\\n",
    "9 & 11 & 3\n",
    "\\end{matrix}\\right],\\ \n",
    "{\\bf b}=\\left[\\begin{matrix}\n",
    "3\\\\\n",
    "1\\\\\n",
    "-1\\\\\n",
    "3\n",
    "\\end{matrix}\\right]$$\n",
    "* Thực hiện phân tích QR cho ma trận ${\\bf A}$.\n",
    "* Tìm nghiệm bình phương cực tiểu của ${\\bf A}{\\bf x}={\\bf b}$ bằng phân tích QR.\n",
    "* Tìm một cơ sở trực chuẩn của không gian cột của $A$."
   ]
  },
  {
   "cell_type": "code",
   "execution_count": 5,
   "metadata": {},
   "outputs": [
    {
     "data": {
      "text/plain": [
       "array([[ 1,  4,  1, -2],\n",
       "       [-2,  1, -1,  0],\n",
       "       [ 4,  5,  1,  1],\n",
       "       [ 2, -3,  2,  1]])"
      ]
     },
     "execution_count": 5,
     "metadata": {},
     "output_type": "execute_result"
    }
   ],
   "source": [
    "V = np.vstack([v1,v2,v3,v4]).T\n",
    "V"
   ]
  },
  {
   "cell_type": "code",
   "execution_count": 6,
   "metadata": {},
   "outputs": [
    {
     "data": {
      "text/plain": [
       "4"
      ]
     },
     "execution_count": 6,
     "metadata": {},
     "output_type": "execute_result"
    }
   ],
   "source": [
    "np.linalg.matrix_rank(V)\n"
   ]
  },
  {
   "cell_type": "code",
   "execution_count": 7,
   "metadata": {},
   "outputs": [
    {
     "data": {
      "text/plain": [
       "5.0"
      ]
     },
     "execution_count": 7,
     "metadata": {},
     "output_type": "execute_result"
    }
   ],
   "source": [
    "np.linalg.norm(v1)"
   ]
  },
  {
   "cell_type": "code",
   "execution_count": 8,
   "metadata": {},
   "outputs": [
    {
     "data": {
      "text/plain": [
       "0.4480896268889631"
      ]
     },
     "execution_count": 8,
     "metadata": {},
     "output_type": "execute_result"
    }
   ],
   "source": [
    "#Goc giua hai vecto\n",
    "cos_w12 = np.inner(v1,v2)/(np.linalg.norm(v1)*np.linalg.norm(v2))\n",
    "cos_w12"
   ]
  },
  {
   "cell_type": "code",
   "execution_count": 9,
   "metadata": {},
   "outputs": [
    {
     "name": "stdout",
     "output_type": "stream",
     "text": [
      "[ 1 -2  4  2]\n",
      "[ 3.36  2.28  2.44 -4.28]\n",
      "[ 0.97546614  0.16192345 -0.45829244  0.59077527]\n",
      "[-0.30012771  0.99042146  0.33014049  0.48020434]\n"
     ]
    }
   ],
   "source": [
    "#Thuat toan truc chuan hoa gram-schmidt\n",
    "a1 = v1\n",
    "a2 = v2 - np.inner(v2,a1)/np.inner(a1,a1)*a1\n",
    "a3 = v3 - np.inner(v3,a1)/np.inner(a1,a1)*a1\\\n",
    "        - np.inner(v3,a2)/np.inner(a2,a2)*a2\n",
    "a4 = v4 - np.inner(v4,a1)/np.inner(a1,a1)*a1\\\n",
    "        - np.inner(v4,a2)/np.inner(a2,a2)*a2\\\n",
    "        - np.inner(v4,a3)/np.inner(a3,a3)*a3\n",
    "print(a1,a2,a3,a4,sep='\\n')"
   ]
  },
  {
   "cell_type": "code",
   "execution_count": 10,
   "metadata": {},
   "outputs": [
    {
     "name": "stdout",
     "output_type": "stream",
     "text": [
      "[ 0.2 -0.4  0.8  0.4]\n",
      "[ 0.52628645  0.35712295  0.38218421 -0.67038869]\n",
      "[ 0.78687077  0.13061738 -0.36968677  0.47655554]\n",
      "[-0.25269935  0.83390785  0.27796928  0.40431896]\n"
     ]
    }
   ],
   "source": [
    "#Chuan hoa\n",
    "e1 = a1/np.linalg.norm(a1)\n",
    "e2 = a2/np.linalg.norm(a2)\n",
    "e3 = a3/np.linalg.norm(a3)\n",
    "e4 = a4/np.linalg.norm(a4)\n",
    "print(e1,e2,e3,e4,sep = '\\n')"
   ]
  },
  {
   "cell_type": "code",
   "execution_count": 11,
   "metadata": {},
   "outputs": [
    {
     "data": {
      "text/plain": [
       "-1.3877787807814457e-17"
      ]
     },
     "execution_count": 11,
     "metadata": {},
     "output_type": "execute_result"
    }
   ],
   "source": [
    "#Kiem tra\n",
    "np.inner(e1,e2)"
   ]
  },
  {
   "cell_type": "markdown",
   "metadata": {},
   "source": [
    "Giả thiết W = span{e1,e2,e3} cho x = (-5,2,4,2) .TÌm hình chiếu trực giao của x trên W"
   ]
  },
  {
   "cell_type": "code",
   "execution_count": 12,
   "metadata": {},
   "outputs": [
    {
     "data": {
      "text/plain": [
       "array([-3.77394636, -2.04597701,  2.651341  ,  0.03831418])"
      ]
     },
     "execution_count": 12,
     "metadata": {},
     "output_type": "execute_result"
    }
   ],
   "source": [
    "x = np.array([-5,2,4,2])\n",
    "x_proj = np.inner(x,e1)*e1 + np.inner(x,e2)*e2 + np.inner(x,e3)*e3\n",
    "x_proj\n",
    "\n"
   ]
  },
  {
   "cell_type": "code",
   "execution_count": 13,
   "metadata": {},
   "outputs": [
    {
     "data": {
      "text/plain": [
       "-1.7763568394002505e-15"
      ]
     },
     "execution_count": 13,
     "metadata": {},
     "output_type": "execute_result"
    }
   ],
   "source": [
    "#Kiem tra \n",
    "x_res = x - x_proj\n",
    "np.inner(x_res, x_proj)"
   ]
  },
  {
   "cell_type": "code",
   "execution_count": 14,
   "metadata": {},
   "outputs": [
    {
     "data": {
      "text/plain": [
       "array([[1, 0, 0],\n",
       "       [1, 1, 0],\n",
       "       [1, 1, 1]])"
      ]
     },
     "execution_count": 14,
     "metadata": {},
     "output_type": "execute_result"
    }
   ],
   "source": [
    "# Phân tích QR\n",
    "A = np.array([1,0,0,1,1,0,1,1,1]).reshape(3,3)\n",
    "A"
   ]
  },
  {
   "cell_type": "code",
   "execution_count": 15,
   "metadata": {},
   "outputs": [
    {
     "name": "stdout",
     "output_type": "stream",
     "text": [
      "Q =  [[-5.77350269e-01  8.16496581e-01 -8.75605293e-17]\n",
      " [-5.77350269e-01 -4.08248290e-01 -7.07106781e-01]\n",
      " [-5.77350269e-01 -4.08248290e-01  7.07106781e-01]]\n",
      "R =  [[-1.73205081 -1.15470054 -0.57735027]\n",
      " [ 0.         -0.81649658 -0.40824829]\n",
      " [ 0.          0.          0.70710678]]\n"
     ]
    }
   ],
   "source": [
    "Q,R = np.linalg.qr(A)\n",
    "print(\"Q = \" , Q)\n",
    "print('R = ', R)"
   ]
  },
  {
   "cell_type": "code",
   "execution_count": 18,
   "metadata": {},
   "outputs": [
    {
     "data": {
      "text/plain": [
       "array([[ 1,  3, -7],\n",
       "       [ 2,  1,  1],\n",
       "       [-2,  7, 11],\n",
       "       [ 9, 11,  3]])"
      ]
     },
     "execution_count": 18,
     "metadata": {},
     "output_type": "execute_result"
    }
   ],
   "source": [
    "#Bài toán \n",
    "A = np.array([1,3,-7,2,1,1,-2,7,11,9,11,3]).reshape(4,3)\n",
    "A"
   ]
  },
  {
   "cell_type": "code",
   "execution_count": 21,
   "metadata": {},
   "outputs": [
    {
     "name": "stdout",
     "output_type": "stream",
     "text": [
      "[[-0.10540926  0.21081851  0.9486833 ]\n",
      " [-0.21081851 -0.10540926 -0.21081851]\n",
      " [ 0.21081851  0.9486833  -0.21081851]\n",
      " [-0.9486833   0.21081851 -0.10540926]]\n",
      "[[-9.48683298 -9.48683298  0.        ]\n",
      " [ 0.          9.48683298  9.48683298]\n",
      " [ 0.          0.         -9.48683298]]\n"
     ]
    }
   ],
   "source": [
    "Q,R = np.linalg.qr(A)\n",
    "print(Q,R,sep = '\\n')"
   ]
  },
  {
   "cell_type": "code",
   "execution_count": 23,
   "metadata": {},
   "outputs": [
    {
     "data": {
      "text/plain": [
       "array([ 0.08888889,  0.28888889, -0.26666667])"
      ]
     },
     "execution_count": 23,
     "metadata": {},
     "output_type": "execute_result"
    }
   ],
   "source": [
    "b = np.array([3,1,-1,3])\n",
    "np.linalg.lstsq(A,b,rcond = None)[0]"
   ]
  },
  {
   "cell_type": "code",
   "execution_count": 24,
   "metadata": {},
   "outputs": [
    {
     "data": {
      "text/plain": [
       "array([ 0.08888889,  0.28888889, -0.26666667])"
      ]
     },
     "execution_count": 24,
     "metadata": {},
     "output_type": "execute_result"
    }
   ],
   "source": [
    "np.linalg.inv(R)@Q.T@b"
   ]
  },
  {
   "cell_type": "markdown",
   "metadata": {},
   "source": [
    "### Bài 3 (Đo khoảng cách giữa các văn bản)\n",
    "\n",
    "Mỗi văn bản được mô tả bởi 1 véc tơ $v\\in\\mathbb{R}^D$, ở đó $D$ là số lượng từ phân biệt có thể có. Mỗi thành phần toạ độ của $v$ tương ứng với 1 từ và ghi số từ có trong văn bản. Giả sử xét các đoạn văn bản sau:\n",
    "> * $D_1$: *Tôi là An*.\n",
    "> * $D_2$: *Tôi thích xem phim*.\n",
    "> * $D_3$: *An là tên tôi*.\n",
    "> * $D_4$: *Tôi rất thích đi du lịch, An là tên tôi*.\n",
    "\n",
    "* Viết toạ độ của các văn bản trong không gian 11 chiều với toạ độ tương ứng với danh sách các từ sau:\n",
    "> (*An, du, đi, là, lịch, phim, rất, tên, thích, tôi, xem*)\n",
    "* Tính khoảng cách Euclide giữa các văn bản $D_1,D_2,D_3$, và $D_4$.\n"
   ]
  },
  {
   "cell_type": "code",
   "execution_count": null,
   "metadata": {},
   "outputs": [],
   "source": []
  }
 ],
 "metadata": {
  "kernelspec": {
   "display_name": "Python 3 (ipykernel)",
   "language": "python",
   "name": "python3"
  },
  "language_info": {
   "codemirror_mode": {
    "name": "ipython",
    "version": 3
   },
   "file_extension": ".py",
   "mimetype": "text/x-python",
   "name": "python",
   "nbconvert_exporter": "python",
   "pygments_lexer": "ipython3",
   "version": "3.9.12"
  }
 },
 "nbformat": 4,
 "nbformat_minor": 4
}
