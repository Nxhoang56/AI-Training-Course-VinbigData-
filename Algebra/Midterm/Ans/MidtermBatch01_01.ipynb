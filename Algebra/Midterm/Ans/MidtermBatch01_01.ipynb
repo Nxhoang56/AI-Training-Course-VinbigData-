{
 "cells": [
  {
   "cell_type": "code",
   "execution_count": 12,
   "metadata": {},
   "outputs": [],
   "source": [
    "import numpy as np\n",
    "from scipy.linalg import lu"
   ]
  },
  {
   "cell_type": "markdown",
   "metadata": {
    "id": "Wh9KUBQwEjVC"
   },
   "source": [
    "### Bài 1\n",
    "Cho hai ma trận:\n",
    "$$A=\\begin{pmatrix}\n",
    "1 & -7 & 4\\\\\n",
    "2 & 0 & -3\\\\\n",
    "-5 & 2 & 11\n",
    "\\end{pmatrix},\\ \\ B=\\begin{pmatrix}\n",
    "4 & 1 & -5\\\\\n",
    "10 & -9 & 6\\\\\n",
    "3 & 1 & 4\n",
    "\\end{pmatrix}$$\n",
    "* Tính biểu thức: $(A+B)^2$ và $A^2+2AB+B^2$.\n",
    "* Kết quả hai biểu thức có bằng nhau không? Giải thích tại sao?"
   ]
  },
  {
   "cell_type": "code",
   "execution_count": 2,
   "metadata": {},
   "outputs": [],
   "source": [
    "A = np.array([[1, -7, 4], [2, 0, -3], [-5, 2, 11]])\n",
    "B = np.array([[4, 1, -5], [10, -9, 6], [3, 1, 4]])"
   ]
  },
  {
   "cell_type": "code",
   "execution_count": 4,
   "metadata": {},
   "outputs": [
    {
     "data": {
      "text/plain": [
       "array([[ 25,  36,   1],\n",
       "       [144,  81,   9],\n",
       "       [  4,   9, 225]])"
      ]
     },
     "execution_count": 4,
     "metadata": {},
     "output_type": "execute_result"
    }
   ],
   "source": [
    "(A + B) ** 2"
   ]
  },
  {
   "cell_type": "code",
   "execution_count": 5,
   "metadata": {},
   "outputs": [
    {
     "data": {
      "text/plain": [
       "array([[-130,  127,  -27],\n",
       "       [ -17,   75, -149],\n",
       "       [  44,   31,  264]])"
      ]
     },
     "execution_count": 5,
     "metadata": {},
     "output_type": "execute_result"
    }
   ],
   "source": [
    "A @ A + 2 * A @ B + B @ B"
   ]
  },
  {
   "cell_type": "markdown",
   "metadata": {},
   "source": [
    "Hai kết quả không giống nhau vì: $(A+B)^2=(A+B)(A+B)=A^2+AB+BA+B^2$\n",
    "\n",
    "Mà $AB \\neq BA$ do tích hai ma trận không có tính chất giao hoán"
   ]
  },
  {
   "cell_type": "markdown",
   "metadata": {
    "id": "_HjIVeBKEjVF"
   },
   "source": [
    "\n",
    "### Bài 2\n",
    "Giải hệ phương trình tuyến tính sau đây bằng phương pháp ma trận nghịch đảo:\n",
    "\n",
    "$$\\left\\{\\begin{matrix}\n",
    "2x_1+3x_2+4x_3+5x_4&=21\\\\\n",
    "-5x_1+2x_2+3x_3+4x_4&=9\\\\\n",
    "-4x_1-5x_2+2x_3+3x_4&=-7\\\\\n",
    "-3x_1-4x_2-5x_3+2x_4&=-19\n",
    "\\end{matrix}\\right.$$"
   ]
  },
  {
   "cell_type": "code",
   "execution_count": 6,
   "metadata": {},
   "outputs": [],
   "source": [
    "A = np.array([[2, 3, 4, 5], [-5, 2, 3, 4], [-4, -5, 2, 3], [-3, -4, -5, 2]])\n",
    "y = np.array([21, 9, -7, -19])"
   ]
  },
  {
   "cell_type": "code",
   "execution_count": 7,
   "metadata": {},
   "outputs": [
    {
     "name": "stdout",
     "output_type": "stream",
     "text": [
      "[1. 2. 2. 1.]\n"
     ]
    }
   ],
   "source": [
    "x = np.linalg.inv(A) @ y\n",
    "print(x)"
   ]
  },
  {
   "cell_type": "markdown",
   "metadata": {
    "id": "b_QyFJ0IEjVI"
   },
   "source": [
    "### Bài 3\n",
    "Trong không gian $\\mathbb{R}^4$ cho các véc tơ:\n",
    "\n",
    "$$u_1=\\begin{pmatrix}\n",
    "1 \\\\\n",
    "-2 \\\\\n",
    "1 \\\\\n",
    "3\n",
    "\\end{pmatrix},\\ \\ u_2=\\begin{pmatrix}\n",
    "2\\\\\n",
    "4\\\\\n",
    "1\\\\\n",
    "5\n",
    "\\end{pmatrix},\\ \\ u_3=\\begin{pmatrix}\n",
    "8\\\\\n",
    "0\\\\\n",
    "-1\\\\\n",
    "6\n",
    "\\end{pmatrix},\\ \\ u_4=\\begin{pmatrix}\n",
    "-3\\\\\n",
    "6\\\\\n",
    "4\\\\\n",
    "7\n",
    "\\end{pmatrix} $$\n",
    "\n",
    "Kí hiệu $U=\\mathrm{Span\\{u_1,u_2,u_3,u_4\\}}$. Hỏi:\n",
    "* Không gian $U$ có mấy chiều?\n",
    "* Tìm một cơ sở của $U$."
   ]
  },
  {
   "cell_type": "code",
   "execution_count": 8,
   "metadata": {},
   "outputs": [],
   "source": [
    "u1 = np.array([1, -2, 1, 3])\n",
    "u2 = np.array([2, 4, 1, 5])\n",
    "u3 = np.array([8, 0, -1, 6])\n",
    "u4 = np.array([-3, 6, 4, 7])"
   ]
  },
  {
   "cell_type": "code",
   "execution_count": 9,
   "metadata": {},
   "outputs": [],
   "source": [
    "U = np.vstack([u1, u2, u3, u4]).T"
   ]
  },
  {
   "cell_type": "code",
   "execution_count": 11,
   "metadata": {},
   "outputs": [
    {
     "name": "stdout",
     "output_type": "stream",
     "text": [
      "Không gian U có 3 chiều.\n"
     ]
    }
   ],
   "source": [
    "print(\"Không gian U có {} chiều.\".format(np.linalg.matrix_rank(U)))"
   ]
  },
  {
   "cell_type": "code",
   "execution_count": 13,
   "metadata": {},
   "outputs": [
    {
     "name": "stdout",
     "output_type": "stream",
     "text": [
      "[[ 3.          5.          6.          7.        ]\n",
      " [ 0.          7.33333333  4.         10.66666667]\n",
      " [ 0.          0.          5.81818182 -5.81818182]\n",
      " [ 0.          0.          0.          0.        ]]\n"
     ]
    }
   ],
   "source": [
    "u = lu(U)[2]\n",
    "print(u)"
   ]
  },
  {
   "cell_type": "code",
   "execution_count": 14,
   "metadata": {},
   "outputs": [
    {
     "name": "stdout",
     "output_type": "stream",
     "text": [
      "Cơ sở trực của U là: (array([ 1, -2,  1,  3]), array([2, 4, 1, 5]), array([ 8,  0, -1,  6]))\n"
     ]
    }
   ],
   "source": [
    "print(\"Cơ sở trực của U là:\", (u1, u2, u3))"
   ]
  },
  {
   "cell_type": "markdown",
   "metadata": {
    "id": "vCI5fWSrEjVK"
   },
   "source": [
    "### Bài 4\n",
    "Trong không gian $\\mathbb{R}^4$ cho không gian U có một cơ sở gồm các véc tơ:\n",
    "\n",
    "$$u_1=\\begin{pmatrix}\n",
    "1 \\\\\n",
    "-1 \\\\\n",
    "2 \\\\\n",
    "3\n",
    "\\end{pmatrix},\\ \\ u_2=\\begin{pmatrix}\n",
    "-1\\\\\n",
    "2\\\\\n",
    "3\\\\\n",
    "4\n",
    "\\end{pmatrix},\\ \\ u_3=\\begin{pmatrix}\n",
    "4\\\\\n",
    "-3\\\\\n",
    "-2\\\\\n",
    "4\n",
    "\\end{pmatrix}$$\n",
    "\n",
    "* Tìm một cơ sở trực chuẩn từ cơ sở trên của không gian $U$.\n",
    "* Tìm hình chiếu trực giao của véc tơ $y=\\begin{pmatrix}\n",
    "7\\\\\n",
    "0\\\\\n",
    "4\\\\\n",
    "10\n",
    "\\end{pmatrix}$ trên $U$."
   ]
  },
  {
   "cell_type": "code",
   "execution_count": 44,
   "metadata": {},
   "outputs": [],
   "source": [
    "u1 = np.array([1, -1, 2, 3])\n",
    "u2 = np.array([-1, 2, 3, 4])\n",
    "u3 = np.array([4, -3, -2, 4])\n",
    "\n",
    "v1 = u1\n",
    "v2 = u2 - np.inner(u2, v1) / np.inner(v1, v1) * v1\n",
    "v3 = u3 - (np.inner(u3, v1) / np.inner(v1, v1) * v1) - (np.inner(u3, v2) / np.inner(v2, v2) * v2)\n",
    "\n",
    "v1 = v1/np.linalg.norm(v1)\n",
    "v2 = v2/np.linalg.norm(v2)\n",
    "v3 = v3/np.linalg.norm(v3)"
   ]
  },
  {
   "cell_type": "code",
   "execution_count": 45,
   "metadata": {},
   "outputs": [
    {
     "name": "stdout",
     "output_type": "stream",
     "text": [
      "Cơ sở trực chuẩn là: (array([ 0.25819889, -0.25819889,  0.51639778,  0.77459667]), array([-0.51639778,  0.77459667,  0.25819889,  0.25819889]), array([ 0.25819889,  0.25819889, -0.77459667,  0.51639778]))\n"
     ]
    }
   ],
   "source": [
    "print(\"Cơ sở trực chuẩn là:\", (v1, v2, v3))"
   ]
  },
  {
   "cell_type": "code",
   "execution_count": 46,
   "metadata": {},
   "outputs": [
    {
     "name": "stdout",
     "output_type": "stream",
     "text": [
      "0.0\n"
     ]
    }
   ],
   "source": [
    "print(np.inner(v2, v3))"
   ]
  },
  {
   "cell_type": "code",
   "execution_count": 39,
   "metadata": {},
   "outputs": [
    {
     "name": "stdout",
     "output_type": "stream",
     "text": [
      "[[ 0.25819889 -0.25819889  0.51639778  0.77459667]\n",
      " [-0.51639778  0.77459667  0.25819889  0.25819889]\n",
      " [ 0.25819889  0.25819889 -0.77459667  0.51639778]]\n"
     ]
    },
    {
     "data": {
      "text/plain": [
       "0.0"
      ]
     },
     "execution_count": 39,
     "metadata": {},
     "output_type": "execute_result"
    }
   ],
   "source": [
    "x1 = u1\n",
    "x2 = u2\n",
    "x3 = u3\n",
    "\n",
    "# Thủ tục Gram-Schmidt\n",
    "X = np.vstack([x1,x2,x3])\n",
    "n = len(X)\n",
    "A = [X[0]]      # orthonormal set\n",
    "\n",
    "# Trực giao hóa\n",
    "for i in range(1,n):\n",
    "    u = X[i].copy()\n",
    "    for v in A:\n",
    "        if v.any()!=0:\n",
    "            u = np.around(u-(np.inner(u,v)/np.inner(v,v))*v,10)\n",
    "    if u.any()!=0:\n",
    "        A.append(u)\n",
    "\n",
    "# Trực chuẩn hóa\n",
    "for i in range(len(A)):\n",
    "    v = A[i]\n",
    "    A[i] = np.around(1/np.linalg.norm(v)*v,10)\n",
    "A=np.array(A)\n",
    "\n",
    "print(A)\n",
    "A[2] @ A[1]"
   ]
  },
  {
   "cell_type": "markdown",
   "metadata": {
    "id": "d0cJPkMeEjVM"
   },
   "source": [
    "### Bài 5\n",
    "Tìm hàm hồi quy có dạng:\n",
    "\n",
    "$$y=\\beta_0+\\beta_1x+\\beta_2\\sin(x)$$\n",
    "\n",
    "phù hợp nhất với bộ dữ liệu dưới đây:\n",
    "\n",
    "| $x$ | 1 | 2 | 3 | 4 | 5 | 6 | 7 | 8 | 9 | 10 |\n",
    "|---:|:---|:---|:---|:---|:---|:---|:---|:---|:---|:---|\n",
    "| $y$ |5.82|13.04|14.39|13.71|17.60|26.22|33.67|33.51|37.82|37.39|"
   ]
  },
  {
   "cell_type": "code",
   "execution_count": 51,
   "metadata": {},
   "outputs": [
    {
     "name": "stdout",
     "output_type": "stream",
     "text": [
      "[[ 1.          1.          0.84147098]\n",
      " [ 1.          2.          0.90929743]\n",
      " [ 1.          3.          0.14112001]\n",
      " [ 1.          4.         -0.7568025 ]\n",
      " [ 1.          5.         -0.95892427]\n",
      " [ 1.          6.         -0.2794155 ]\n",
      " [ 1.          7.          0.6569866 ]\n",
      " [ 1.          8.          0.98935825]\n",
      " [ 1.          9.          0.41211849]\n",
      " [ 1.         10.         -0.54402111]]\n"
     ]
    }
   ],
   "source": [
    "x = np.arange(1, 11)\n",
    "X = np.vstack([np.ones(len(x)), x, np.sin(x)]).T\n",
    "print(X)"
   ]
  },
  {
   "cell_type": "code",
   "execution_count": 55,
   "metadata": {},
   "outputs": [
    {
     "name": "stdout",
     "output_type": "stream",
     "text": [
      "[1.44301135 3.89670171 3.13302763]\n"
     ]
    },
    {
     "name": "stderr",
     "output_type": "stream",
     "text": [
      "C:\\Users\\phudn4\\AppData\\Local\\Temp\\ipykernel_21676\\1033477492.py:3: FutureWarning: `rcond` parameter will change to the default of machine precision times ``max(M, N)`` where M and N are the input matrix dimensions.\n",
      "To use the future default and silence this warning we advise to pass `rcond=None`, to keep using the old, explicitly pass `rcond=-1`.\n",
      "  beta = np.linalg.lstsq(X, y)\n"
     ]
    }
   ],
   "source": [
    "y = np.array([5.82, 13.04, 14.39, 13.71, 17.60, 26.22, 33.67, 33.51, 37.82, 37.39])\n",
    "\n",
    "beta = np.linalg.lstsq(X, y)\n",
    "print(beta[0])"
   ]
  },
  {
   "cell_type": "markdown",
   "metadata": {
    "id": "n3EaJVnrEjVP"
   },
   "source": [
    "### Bài 6\n",
    "Đối với hệ phương trình: $Ax=b$, ở đó ma trận hệ số $A$ có số điều kiện xấu, người ta tìm nghiệm xấp xỉ của hệ phương trình bằng cách cực tiểu hóa hàm mục tiêu:\n",
    "\n",
    "$$L(x)=\\|Ax-b\\|^2+\\alpha\\|x\\|^2$$\n",
    "\n",
    "Số hạng thứ hai trong hàm mục tiêu được gọi là hiệu chỉnh. Trường hợp $\\alpha=0$, nghiệm xấp xỉ chính là nghiệm bình phương tối thiểu. \n",
    "\n",
    "Xét hệ phương trình:\n",
    "\n",
    "$$\\begin{pmatrix}\n",
    "1 & 2 & -1\\\\\n",
    "3 & 5 & 2\\\\\n",
    "1 & 2 & -1.001\n",
    "\\end{pmatrix}x=\\begin{pmatrix}\n",
    "-2 \\\\\n",
    "0 \\\\\n",
    "-1.99 \n",
    "\\end{pmatrix}$$\n",
    "\n",
    "* Tìm nghiệm đúng của hệ phương trình. \n",
    "* Thay đổi ma trận hệ số một lượng nhỏ và tìm nghiệm. Rút ra nhận xét.\n",
    "* Tìm nghiệm xấp xỉ của hệ phương trình bằng phương pháp hiệu chỉnh với $\\alpha=0.001$."
   ]
  },
  {
   "cell_type": "code",
   "execution_count": 56,
   "metadata": {},
   "outputs": [],
   "source": [
    "A = np.array([[1, 2, -1], [3, 5, 2], [1, 2, -1.001]])\n",
    "y = np.array([-2, 0, -1.99])"
   ]
  },
  {
   "cell_type": "code",
   "execution_count": 57,
   "metadata": {},
   "outputs": [
    {
     "name": "stdout",
     "output_type": "stream",
     "text": [
      "Nghiệm đúng của phương trình là:\n",
      "[100. -56. -10.]\n"
     ]
    }
   ],
   "source": [
    "print(\"Nghiệm đúng của phương trình là:\")\n",
    "print(np.linalg.inv(A) @ y)"
   ]
  },
  {
   "cell_type": "code",
   "execution_count": 60,
   "metadata": {},
   "outputs": [
    {
     "name": "stdout",
     "output_type": "stream",
     "text": [
      "Nghiệm sau khi thay đổi ma trận hệ số:\n",
      "[-11.80099221   6.11284036   2.41227624]\n"
     ]
    }
   ],
   "source": [
    "A_changed = np.array([[1.001, 1.9999, -1], [2.9988, 5.00001, 2], [1, 2, -1.001]])\n",
    "print(\"Nghiệm sau khi thay đổi ma trận hệ số:\")\n",
    "print(np.linalg.inv(A_changed) @ y) "
   ]
  },
  {
   "cell_type": "markdown",
   "metadata": {},
   "source": [
    "Thay đổi nhỏ trên giá trị của ma trận hệ số làm nghiệm của phương trình thay đổi đáng kể"
   ]
  },
  {
   "cell_type": "markdown",
   "metadata": {},
   "source": [
    "$L^{'}(x) = 2A^T(Ax-b) + 2\\alpha x = 0$\n",
    "\n",
    "$\\Rightarrow (A^TA+\\alpha I)x = A^Tb$\n",
    "\n",
    "$\\Rightarrow x = (A^TA +\\alpha I)^{-1}A^Tb$"
   ]
  },
  {
   "cell_type": "code",
   "execution_count": 61,
   "metadata": {},
   "outputs": [
    {
     "name": "stdout",
     "output_type": "stream",
     "text": [
      "Nghiệm xấp xỉ là:\n",
      "[-0.09275737 -0.39162112  1.11808581]\n"
     ]
    }
   ],
   "source": [
    "print(\"Nghiệm xấp xỉ là:\")\n",
    "print(np.linalg.inv(A.T@A+0.001 * np.eye(3)) @ A.T @ y)"
   ]
  }
 ],
 "metadata": {
  "colab": {
   "collapsed_sections": [],
   "name": "MidtermBatch01_01.ipynb",
   "provenance": []
  },
  "kernelspec": {
   "display_name": "Python 3 (ipykernel)",
   "language": "python",
   "name": "python3"
  },
  "language_info": {
   "codemirror_mode": {
    "name": "ipython",
    "version": 3
   },
   "file_extension": ".py",
   "mimetype": "text/x-python",
   "name": "python",
   "nbconvert_exporter": "python",
   "pygments_lexer": "ipython3",
   "version": "3.9.12"
  }
 },
 "nbformat": 4,
 "nbformat_minor": 1
}
