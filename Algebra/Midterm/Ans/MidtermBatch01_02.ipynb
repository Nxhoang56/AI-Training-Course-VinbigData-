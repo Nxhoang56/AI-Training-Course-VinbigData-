{
 "cells": [
  {
   "cell_type": "markdown",
   "metadata": {
    "id": "0lKku6VuNZjr"
   },
   "source": [
    "### Bài 1\n",
    "Cho ma trận: $A=\\begin{pmatrix}\n",
    "1 & 1 & 0\\\\\n",
    "0 & 1 & 1\\\\\n",
    "0 & 0 & -1\n",
    "\\end{pmatrix}$. Đặt: \n",
    "\n",
    "$$S(n)=I+A+A^2+\\cdots+A^n$$ \n",
    "\n",
    "với $n\\in\\mathbb{N}_+$. Hãy tính $S(20)$ và $S(21)$. Có nhận xét gì về $\\mathrm{det}(S_n)$."
   ]
  },
  {
   "cell_type": "code",
   "execution_count": 37,
   "metadata": {
    "id": "PLYqh3wcNZjt"
   },
   "outputs": [],
   "source": [
    "import numpy as np \n",
    "\n",
    "A = np.array([[1,1,0],[0,1,1],[0,0,-1]])"
   ]
  },
  {
   "cell_type": "code",
   "execution_count": 67,
   "metadata": {},
   "outputs": [],
   "source": [
    "def S(n):\n",
    "    S = np.eye(3)\n",
    "    for i in range(1,n+1):\n",
    "        S+= np.power(A,i)\n",
    "    return S"
   ]
  },
  {
   "cell_type": "code",
   "execution_count": 68,
   "metadata": {},
   "outputs": [
    {
     "data": {
      "text/plain": [
       "441.0"
      ]
     },
     "execution_count": 68,
     "metadata": {},
     "output_type": "execute_result"
    }
   ],
   "source": [
    "np.linalg.det(S(20))"
   ]
  },
  {
   "cell_type": "code",
   "execution_count": 69,
   "metadata": {},
   "outputs": [
    {
     "data": {
      "text/plain": [
       "0.0"
      ]
     },
     "execution_count": 69,
     "metadata": {},
     "output_type": "execute_result"
    }
   ],
   "source": [
    "np.linalg.det(S(21))"
   ]
  },
  {
   "cell_type": "code",
   "execution_count": 1,
   "metadata": {},
   "outputs": [],
   "source": [
    "# đối với n là số lẻ thì det = 0 => ma trận không khả nghịch"
   ]
  },
  {
   "cell_type": "markdown",
   "metadata": {
    "id": "EQ-W6vi-NZjv"
   },
   "source": [
    "### Bài 2\n",
    "Giải hệ phương trình tuyến tính sau đây bằng phương pháp phân tích LU:\n",
    "\n",
    "$$\\left\\{\\begin{matrix}\n",
    "x_1-2x_2+2x_3-x_4&=3\\\\\n",
    "2x_1+4x_2-5x_3+x_4&=-1\\\\\n",
    "-6x_1-x_2+3x_3+4x_4&=-3\\\\\n",
    "4x_1+2x_2+x_3-8x_4&=4\n",
    "\\end{matrix}\\right.$$"
   ]
  },
  {
   "cell_type": "code",
   "execution_count": null,
   "metadata": {
    "id": "d5CiPsRVNZjw"
   },
   "outputs": [],
   "source": [
    "# Ma trận hệ số\n",
    "A = np.ara"
   ]
  },
  {
   "cell_type": "markdown",
   "metadata": {
    "id": "u4xQObdpNZjw"
   },
   "source": [
    "### Bài 3\n",
    "Trong không gian $\\mathbb{R}^4$ cho không gian U có một cơ sở gồm các véc tơ:\n",
    "\n",
    "$$u_1=\\begin{pmatrix}\n",
    "2 \\\\\n",
    "-4 \\\\\n",
    "1 \\\\\n",
    "2\n",
    "\\end{pmatrix},\\ \\ u_2=\\begin{pmatrix}\n",
    "2\\\\\n",
    "-9\\\\\n",
    "-2\\\\\n",
    "6\n",
    "\\end{pmatrix},\\ \\ u_3=\\begin{pmatrix}\n",
    "-2\\\\\n",
    "-1\\\\\n",
    "1\\\\\n",
    "12\n",
    "\\end{pmatrix}$$\n",
    "\n",
    "* Tìm một cơ sở trực chuẩn từ cơ sở trên của không gian $U$.\n",
    "* Tính khoảng cách từ véc tơ $y=\\begin{pmatrix}\n",
    "4\\\\\n",
    "17\\\\\n",
    "2\\\\\n",
    "4\n",
    "\\end{pmatrix}$ đến $U$."
   ]
  },
  {
   "cell_type": "code",
   "execution_count": null,
   "metadata": {
    "id": "ReZeo-r6NZjy"
   },
   "outputs": [],
   "source": []
  },
  {
   "cell_type": "markdown",
   "metadata": {
    "id": "v0TZylXNNZjy"
   },
   "source": [
    "### Bài 4\n",
    "Tìm hàm hồi quy có dạng:\n",
    "\n",
    "$$y=\\beta_0+\\beta_1\\sin(x)+\\beta_2\\cos(x)$$\n",
    "\n",
    "phù hợp nhất với bộ dữ liệu dưới đây:\n",
    "\n",
    "| $x$ | 1 | 2 | 3 | 4 | 5 | 6 | 7 | 8 | 9 | 10 |\n",
    "|---:|:---|:---|:---|:---|:---|:---|:---|:---|:---|:---|\n",
    "| $y$ |3.23|-3.00|-3.84|-2.08|-0.93|4.52|10.94|6.44|-5.74|-7.52|"
   ]
  },
  {
   "cell_type": "code",
   "execution_count": null,
   "metadata": {
    "id": "NIpUwh3dNZjz"
   },
   "outputs": [],
   "source": []
  },
  {
   "cell_type": "markdown",
   "metadata": {
    "id": "Nc6gpNhGNZj0"
   },
   "source": [
    "### Bài 5\n",
    "Trong trường hợp hệ phương trình: $Ax=b$ có vô số nghiệm, nghiệm bình phương tối thiểu không xác định duy nhất. Khi đó người ta tìm nghiệm xấp xỉ có độ lớn nhỏ nhất bằng cách cực tiểu hóa hàm mục tiêu:\n",
    "\n",
    "$$L(x)=\\|Ax-b\\|^2+\\alpha\\|x\\|^2$$\n",
    "\n",
    "Số hạng thứ hai trong hàm mục tiêu được gọi là số hiệu chỉnh. Trường hợp $\\alpha=0$, nghiệm xấp xỉ chính là nghiệm bình phương tối thiểu. \n",
    "\n",
    "Tìm nghiệm xấp xỉ của hệ phương trình tuyến tính:\n",
    "\n",
    "$$\\begin{pmatrix}\n",
    "-1 & 1 & 1\\\\\n",
    "1 & -1 & -1\\\\\n",
    "2 & 1 & -3\n",
    "\\end{pmatrix}x=\\begin{pmatrix}\n",
    "1 \\\\\n",
    "-1 \\\\\n",
    "0 \n",
    "\\end{pmatrix}$$\n",
    "\n",
    "bằng phương pháp hiệu chỉnh với $\\alpha=0.001$. Nhận xét về nghiệm xấp xỉ khi thay đổi giá trị của $\\alpha$."
   ]
  },
  {
   "cell_type": "code",
   "execution_count": null,
   "metadata": {
    "id": "w4TUeRoHNZj1"
   },
   "outputs": [],
   "source": []
  },
  {
   "cell_type": "markdown",
   "metadata": {
    "id": "nmqLl42ANZj1"
   },
   "source": [
    "### Bài 6\n",
    "Hàm $x(t)$ thỏa mãn phương trình vi phân:\n",
    "$$L[x(t)]=\\dfrac{d^2\\,x}{dt^2}+e^t\\dfrac{d\\,x}{dt}+x=0$$\n",
    "với điều kiện biên:\n",
    "$$x(0)=0\\ \\ \\hbox{và}\\ \\ x(2)=1$$\n",
    "Theo phương pháp **`'collocation method'`**, nghiệm xấp xỉ của bài toán được tìm dưới dạng:\n",
    "$$x(t)\\approx x_n(t)=\\sum^n_{i=0}\\alpha_i\\,t^{i}$$\n",
    "thỏa mãn $x_n(0)=0$ và $x_n(2)=1$. Để xác định các hệ số $\\alpha_i$, ta chọn $n-2$ điểm $t_j\\in(0,2)$ sao cho $L[x_n(t_j)]=0$, với $j=1,\\dots,n-2$.\n",
    "\n",
    "Hãy tìm nghiệm xấp xỉ trong trường hợp $n=4$ và $t_1=0.5$, $t_2=1.0$, $t_3=1.5$."
   ]
  },
  {
   "cell_type": "markdown",
   "metadata": {
    "id": "MVc7YtGANZj1"
   },
   "source": [
    "- Nếu n = 4, t = 0: $\\alpha_0 = 0$\n",
    "- Nếu n = 4, t = 2: $\\alpha_0 + 2\\alpha_1 + 4\\alpha_2 + 8\\alpha_3 + 16\\alpha_4=1$\n",
    "- Ta có: $x_n(t) = \\alpha_0 + \\alpha_1t + \\alpha_2t^2+\\alpha_3t^3+\\alpha_4t^4$\n",
    "\n",
    "$\\frac{dx_n(t)}{dt} = \\alpha_1 + 2\\alpha_2t + 3\\alpha_3t^2+4\\alpha_4t^3$\n",
    "\n",
    "$\\frac{d^2x_n(t)}{dt^2} = 2\\alpha_2 + 6\\alpha_3 t + 12\\alpha_4 t^2$\n",
    "\n",
    "$\\Rightarrow 2\\alpha_2 + 6\\alpha_3 t + 12\\alpha_4 t^2 + e^t(\\alpha_1 + 2\\alpha_2t + 3\\alpha_3t^2+4\\alpha_4t^3) + \\alpha_0 + \\alpha_1t + \\alpha_2t^2+\\alpha_3t^3+\\alpha_4t^4 = 0$\n",
    "\n",
    "\n"
   ]
  },
  {
   "cell_type": "markdown",
   "metadata": {},
   "source": [
    "$\\Rightarrow \\alpha_0 + \\alpha_1(e^t+t) + \\alpha_2(2+2te^t+t^2) + \\alpha_3(6t+3t^2e^t+t^3)+\\alpha_4(12t^2+4t^3e^t+t^4)=0$"
   ]
  },
  {
   "cell_type": "code",
   "execution_count": 12,
   "metadata": {},
   "outputs": [
    {
     "name": "stdout",
     "output_type": "stream",
     "text": [
      "[[ 1.          0.          0.          0.          0.        ]\n",
      " [ 1.          2.14872127  3.89872127  4.48654095  3.88686064]\n",
      " [ 1.          3.71828183  8.43656366 15.15484549 23.87312731]\n",
      " [ 1.          5.98168907 17.69506721 41.50140122 92.56530245]\n",
      " [ 1.          2.          4.          8.         16.        ]]\n"
     ]
    }
   ],
   "source": [
    "import numpy as np\n",
    "\n",
    "t = np.array([0.5, 1.0, 1.5])\n",
    "\n",
    "X = np.vstack([np.ones(len(t)), np.exp(t) + t, 2 + 2*t*np.exp(t) + t **2,\n",
    "              6*t+3*t**2*np.exp(t) + t**2, 12*t**2 + 4*t**3*np.exp(t) + t**4]).T\n",
    "\n",
    "X = np.vstack([np.array([1, 0, 0, 0, 0]), X, np.array([1, 2, 4, 8, 16])])\n",
    "\n",
    "print(X)"
   ]
  },
  {
   "cell_type": "code",
   "execution_count": null,
   "metadata": {},
   "outputs": [],
   "source": [
    "y = np.array([0, 0, 1.0, 1.5, 1])"
   ]
  },
  {
   "cell_type": "code",
   "execution_count": null,
   "metadata": {},
   "outputs": [],
   "source": [
    "print(\"Nghiệm xấp xỉ là:\")\n",
    "np.linalg.lstsq(X, y)"
   ]
  }
 ],
 "metadata": {
  "colab": {
   "name": "MidtermBatch01_02.ipynb",
   "provenance": []
  },
  "kernelspec": {
   "display_name": "Python 3 (ipykernel)",
   "language": "python",
   "name": "python3"
  },
  "language_info": {
   "codemirror_mode": {
    "name": "ipython",
    "version": 3
   },
   "file_extension": ".py",
   "mimetype": "text/x-python",
   "name": "python",
   "nbconvert_exporter": "python",
   "pygments_lexer": "ipython3",
   "version": "3.9.12"
  }
 },
 "nbformat": 4,
 "nbformat_minor": 4
}
