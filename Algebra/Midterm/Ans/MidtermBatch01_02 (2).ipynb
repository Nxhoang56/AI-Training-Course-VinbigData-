{
 "cells": [
  {
   "cell_type": "markdown",
   "metadata": {
    "id": "0lKku6VuNZjr"
   },
   "source": [
    "### Bài 1\n",
    "Cho ma trận: $A=\\begin{pmatrix}\n",
    "1 & 1 & 0\\\\\n",
    "0 & 1 & 1\\\\\n",
    "0 & 0 & -1\n",
    "\\end{pmatrix}$. Đặt: \n",
    "\n",
    "$$S(n)=I+A+A^2+\\cdots+A^n$$ \n",
    "\n",
    "với $n\\in\\mathbb{N}_+$. Hãy tính $S(20)$ và $S(21)$. Có nhận xét gì về $\\mathrm{det}(S_n)$."
   ]
  },
  {
   "cell_type": "code",
   "execution_count": 3,
   "metadata": {
    "id": "PLYqh3wcNZjt"
   },
   "outputs": [],
   "source": [
    "import numpy as np \n",
    "\n",
    "A = np.array([[1,1,0],[0,1,1],[0,0,-1]])"
   ]
  },
  {
   "cell_type": "code",
   "execution_count": 11,
   "metadata": {},
   "outputs": [],
   "source": [
    "def S(n):\n",
    "    S = np.eye(3)\n",
    "    for i in range(1,n+1):\n",
    "        S+= np.power(A,i)\n",
    "        print(f\"Lần thứ {i} và det(S){i} = {np.linalg.det(S)}\")\n",
    "    return S"
   ]
  },
  {
   "cell_type": "code",
   "execution_count": 12,
   "metadata": {},
   "outputs": [
    {
     "name": "stdout",
     "output_type": "stream",
     "text": [
      "Lần thứ 1 và det(S)1 = 0.0\n",
      "Lần thứ 2 và det(S)2 = 9.000000000000002\n",
      "Lần thứ 3 và det(S)3 = 0.0\n",
      "Lần thứ 4 và det(S)4 = 24.999999999999996\n",
      "Lần thứ 5 và det(S)5 = 0.0\n",
      "Lần thứ 6 và det(S)6 = 48.99999999999999\n",
      "Lần thứ 7 và det(S)7 = 0.0\n",
      "Lần thứ 8 và det(S)8 = 81.00000000000003\n",
      "Lần thứ 9 và det(S)9 = 0.0\n",
      "Lần thứ 10 và det(S)10 = 121.00000000000003\n",
      "Lần thứ 11 và det(S)11 = 0.0\n",
      "Lần thứ 12 và det(S)12 = 169.0\n",
      "Lần thứ 13 và det(S)13 = 0.0\n",
      "Lần thứ 14 và det(S)14 = 225.0\n",
      "Lần thứ 15 và det(S)15 = 0.0\n",
      "Lần thứ 16 và det(S)16 = 289.00000000000006\n",
      "Lần thứ 17 và det(S)17 = 0.0\n",
      "Lần thứ 18 và det(S)18 = 360.99999999999983\n",
      "Lần thứ 19 và det(S)19 = 0.0\n",
      "Lần thứ 20 và det(S)20 = 441.0\n"
     ]
    },
    {
     "data": {
      "text/plain": [
       "441.0"
      ]
     },
     "execution_count": 12,
     "metadata": {},
     "output_type": "execute_result"
    }
   ],
   "source": [
    "np.linalg.det(S(20))"
   ]
  },
  {
   "cell_type": "code",
   "execution_count": 13,
   "metadata": {},
   "outputs": [
    {
     "name": "stdout",
     "output_type": "stream",
     "text": [
      "Lần thứ 1 và det(S)1 = 0.0\n",
      "Lần thứ 2 và det(S)2 = 9.000000000000002\n",
      "Lần thứ 3 và det(S)3 = 0.0\n",
      "Lần thứ 4 và det(S)4 = 24.999999999999996\n",
      "Lần thứ 5 và det(S)5 = 0.0\n",
      "Lần thứ 6 và det(S)6 = 48.99999999999999\n",
      "Lần thứ 7 và det(S)7 = 0.0\n",
      "Lần thứ 8 và det(S)8 = 81.00000000000003\n",
      "Lần thứ 9 và det(S)9 = 0.0\n",
      "Lần thứ 10 và det(S)10 = 121.00000000000003\n",
      "Lần thứ 11 và det(S)11 = 0.0\n",
      "Lần thứ 12 và det(S)12 = 169.0\n",
      "Lần thứ 13 và det(S)13 = 0.0\n",
      "Lần thứ 14 và det(S)14 = 225.0\n",
      "Lần thứ 15 và det(S)15 = 0.0\n",
      "Lần thứ 16 và det(S)16 = 289.00000000000006\n",
      "Lần thứ 17 và det(S)17 = 0.0\n",
      "Lần thứ 18 và det(S)18 = 360.99999999999983\n",
      "Lần thứ 19 và det(S)19 = 0.0\n",
      "Lần thứ 20 và det(S)20 = 441.0\n",
      "Lần thứ 21 và det(S)21 = 0.0\n"
     ]
    },
    {
     "data": {
      "text/plain": [
       "0.0"
      ]
     },
     "execution_count": 13,
     "metadata": {},
     "output_type": "execute_result"
    }
   ],
   "source": [
    "np.linalg.det(S(21))"
   ]
  },
  {
   "cell_type": "code",
   "execution_count": 7,
   "metadata": {},
   "outputs": [],
   "source": [
    "# đối với n là số lẻ thì det = 0 => ma trận không khả nghịch"
   ]
  },
  {
   "cell_type": "markdown",
   "metadata": {
    "id": "EQ-W6vi-NZjv"
   },
   "source": [
    "### Bài 2\n",
    "Giải hệ phương trình tuyến tính sau đây bằng phương pháp phân tích LU:\n",
    "\n",
    "$$\\left\\{\\begin{matrix}\n",
    "x_1-2x_2+2x_3-x_4&=3\\\\\n",
    "2x_1+4x_2-5x_3+x_4&=-1\\\\\n",
    "-6x_1-x_2+3x_3+4x_4&=-3\\\\\n",
    "4x_1+2x_2+x_3-8x_4&=4\n",
    "\\end{matrix}\\right.$$"
   ]
  },
  {
   "cell_type": "code",
   "execution_count": 16,
   "metadata": {
    "id": "d5CiPsRVNZjw"
   },
   "outputs": [
    {
     "name": "stdout",
     "output_type": "stream",
     "text": [
      "[2. 1. 2. 1.]\n"
     ]
    }
   ],
   "source": [
    "#giải bằng phân tích LU\n",
    "import scipy \n",
    "from scipy import linalg\n",
    "A = np.array([1, -2, 2, -1, 2, 4, -5, 1, -6, -1, 3, 4, 4, 2, 1, -8]).reshape(4,4)\n",
    "b = np.array([3, -1, -3, 4])\n",
    "lu, piv = scipy.linalg.lu_factor(A)\n",
    "x = scipy.linalg.lu_solve((lu, piv), b)\n",
    "print(x)"
   ]
  },
  {
   "cell_type": "markdown",
   "metadata": {
    "id": "u4xQObdpNZjw"
   },
   "source": [
    "### Bài 3\n",
    "Trong không gian $\\mathbb{R}^4$ cho không gian U có một cơ sở gồm các véc tơ:\n",
    "\n",
    "$$u_1=\\begin{pmatrix}\n",
    "2 \\\\\n",
    "-4 \\\\\n",
    "1 \\\\\n",
    "2\n",
    "\\end{pmatrix},\\ \\ u_2=\\begin{pmatrix}\n",
    "2\\\\\n",
    "-9\\\\\n",
    "-2\\\\\n",
    "6\n",
    "\\end{pmatrix},\\ \\ u_3=\\begin{pmatrix}\n",
    "-2\\\\\n",
    "-1\\\\\n",
    "1\\\\\n",
    "12\n",
    "\\end{pmatrix}$$\n",
    "\n",
    "* Tìm một cơ sở trực chuẩn từ cơ sở trên của không gian $U$.\n",
    "* Tính khoảng cách từ véc tơ $y=\\begin{pmatrix}\n",
    "4\\\\\n",
    "17\\\\\n",
    "2\\\\\n",
    "4\n",
    "\\end{pmatrix}$ đến $U$."
   ]
  },
  {
   "cell_type": "code",
   "execution_count": null,
   "metadata": {
    "id": "ReZeo-r6NZjy"
   },
   "outputs": [],
   "source": []
  },
  {
   "cell_type": "markdown",
   "metadata": {
    "id": "v0TZylXNNZjy"
   },
   "source": [
    "### Bài 4\n",
    "Tìm hàm hồi quy có dạng:\n",
    "\n",
    "$$y=\\beta_0+\\beta_1\\sin(x)+\\beta_2\\cos(x)$$\n",
    "\n",
    "phù hợp nhất với bộ dữ liệu dưới đây:\n",
    "\n",
    "| $x$ | 1 | 2 | 3 | 4 | 5 | 6 | 7 | 8 | 9 | 10 |\n",
    "|---:|:---|:---|:---|:---|:---|:---|:---|:---|:---|:---|\n",
    "| $y$ |3.23|-3.00|-3.84|-2.08|-0.93|4.52|10.94|6.44|-5.74|-7.52|"
   ]
  },
  {
   "cell_type": "code",
   "execution_count": null,
   "metadata": {
    "id": "NIpUwh3dNZjz"
   },
   "outputs": [],
   "source": []
  },
  {
   "cell_type": "markdown",
   "metadata": {
    "id": "Nc6gpNhGNZj0"
   },
   "source": [
    "### Bài 5\n",
    "Trong trường hợp hệ phương trình: $Ax=b$ có vô số nghiệm, nghiệm bình phương tối thiểu không xác định duy nhất. Khi đó người ta tìm nghiệm xấp xỉ có độ lớn nhỏ nhất bằng cách cực tiểu hóa hàm mục tiêu:\n",
    "\n",
    "$$L(x)=\\|Ax-b\\|^2+\\alpha\\|x\\|^2$$\n",
    "\n",
    "Số hạng thứ hai trong hàm mục tiêu được gọi là số hiệu chỉnh. Trường hợp $\\alpha=0$, nghiệm xấp xỉ chính là nghiệm bình phương tối thiểu. \n",
    "\n",
    "Tìm nghiệm xấp xỉ của hệ phương trình tuyến tính:\n",
    "\n",
    "$$\\begin{pmatrix}\n",
    "-1 & 1 & 1\\\\\n",
    "1 & -1 & -1\\\\\n",
    "2 & 1 & -3\n",
    "\\end{pmatrix}x=\\begin{pmatrix}\n",
    "1 \\\\\n",
    "-1 \\\\\n",
    "0 \n",
    "\\end{pmatrix}$$\n",
    "\n",
    "bằng phương pháp hiệu chỉnh với $\\alpha=0.001$. Nhận xét về nghiệm xấp xỉ khi thay đổi giá trị của $\\alpha$."
   ]
  },
  {
   "cell_type": "code",
   "execution_count": null,
   "metadata": {
    "id": "w4TUeRoHNZj1"
   },
   "outputs": [],
   "source": []
  },
  {
   "cell_type": "markdown",
   "metadata": {
    "id": "nmqLl42ANZj1"
   },
   "source": [
    "### Bài 6\n",
    "Hàm $x(t)$ thỏa mãn phương trình vi phân:\n",
    "$$L[x(t)]=\\dfrac{d^2\\,x}{dt^2}+e^t\\dfrac{d\\,x}{dt}+x=0$$\n",
    "với điều kiện biên:\n",
    "$$x(0)=0\\ \\ \\hbox{và}\\ \\ x(2)=1$$\n",
    "Theo phương pháp **`'collocation method'`**, nghiệm xấp xỉ của bài toán được tìm dưới dạng:\n",
    "$$x(t)\\approx x_n(t)=\\sum^n_{i=0}\\alpha_i\\,t^{i}$$\n",
    "thỏa mãn $x_n(0)=0$ và $x_n(2)=1$. Để xác định các hệ số $\\alpha_i$, ta chọn $n-2$ điểm $t_j\\in(0,2)$ sao cho $L[x_n(t_j)]=0$, với $j=1,\\dots,n-2$.\n",
    "\n",
    "Hãy tìm nghiệm xấp xỉ trong trường hợp $n=4$ và $t_1=0.5$, $t_2=1.0$, $t_3=1.5$."
   ]
  },
  {
   "cell_type": "code",
   "execution_count": null,
   "metadata": {
    "id": "MVc7YtGANZj1"
   },
   "outputs": [],
   "source": []
  }
 ],
 "metadata": {
  "colab": {
   "name": "MidtermBatch01_02.ipynb",
   "provenance": []
  },
  "kernelspec": {
   "display_name": "Python 3 (ipykernel)",
   "language": "python",
   "name": "python3"
  },
  "language_info": {
   "codemirror_mode": {
    "name": "ipython",
    "version": 3
   },
   "file_extension": ".py",
   "mimetype": "text/x-python",
   "name": "python",
   "nbconvert_exporter": "python",
   "pygments_lexer": "ipython3",
   "version": "3.9.12"
  }
 },
 "nbformat": 4,
 "nbformat_minor": 4
}
