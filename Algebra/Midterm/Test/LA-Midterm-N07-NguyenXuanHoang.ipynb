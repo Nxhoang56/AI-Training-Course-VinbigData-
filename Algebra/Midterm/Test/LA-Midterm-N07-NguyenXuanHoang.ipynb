{
 "cells": [
  {
   "cell_type": "markdown",
   "metadata": {},
   "source": [
    "## BÀI KIỂM TRA GIỮA KÌ\n",
    "* Môn: **Linear Algebra**\n",
    "* Thời gian: **90 phút**\n",
    "* Họ tên học viên: Nguyễn Xuân Hoàng\n",
    "* Mã học viên: 3694709 \n",
    "\n",
    "**Yêu cầu**: Sử dụng tính toán trên Python để hoàn thành các bài tập sau đây."
   ]
  },
  {
   "cell_type": "markdown",
   "metadata": {},
   "source": [
    "### Bài 1 (2đ)\n",
    "Cho hai ma trận $A$ và $B$ như sau:\n",
    "$$A=\\begin{pmatrix}\n",
    "2 & 1 & -3\\\\\n",
    "5 & -4 & 3\\\\\n",
    "2 & -10 & 6\n",
    "\\end{pmatrix},\\ \\ B=\\begin{pmatrix}\n",
    "3 & 2 & -4\\\\\n",
    "-2 & 5 & 2\\\\\n",
    "11 & 3 & 1\n",
    "\\end{pmatrix}$$\n",
    "* Tạo ma trận khối: $C=\\left[\\begin{matrix}\n",
    "I & A\\\\\n",
    "-I & B\n",
    "\\end{matrix}\\right]$, trong đó $I$ là ma trận đơn vị.\n",
    "* Tính định thức của ma trận $C$, và so sánh với định thức của ma trận $(A+B)$. Kết quả đó có đúng với mọi $A$ và $B$ vuông cùng cấp hay không? Tại sao?"
   ]
  },
  {
   "cell_type": "code",
   "execution_count": 55,
   "metadata": {},
   "outputs": [],
   "source": [
    "import numpy as np\n",
    "import matplotlib.pyplot as plt\n",
    "from scipy import linalg"
   ]
  },
  {
   "cell_type": "code",
   "execution_count": 1,
   "metadata": {},
   "outputs": [
    {
     "name": "stdout",
     "output_type": "stream",
     "text": [
      "Ma tran A\n",
      "[[  2   1  -3]\n",
      " [  5  -4   3]\n",
      " [  2 -10   6]]\n",
      "Ma tran B\n",
      "[[ 3  2 -4]\n",
      " [-2  5  2]\n",
      " [11  3  1]]\n"
     ]
    }
   ],
   "source": [
    "#matrix A \n",
    "A = np.array([2,1,-3,5,-4,3,2,-10,6]).reshape(3,3)\n",
    "print('Ma tran A', A, sep = '\\n')\n",
    "#matrix B\n",
    "B = np.array([3,2,-4,-2,5,2,11,3,1]).reshape(3,3)\n",
    "print('Ma tran B', B, sep = '\\n')\n"
   ]
  },
  {
   "cell_type": "code",
   "execution_count": 3,
   "metadata": {},
   "outputs": [
    {
     "name": "stdout",
     "output_type": "stream",
     "text": [
      "Ma trận khối C la:\n",
      "[[  1.   0.   0.   2.   1.  -3.]\n",
      " [  0.   1.   0.   5.  -4.   3.]\n",
      " [  0.   0.   1.   2. -10.   6.]\n",
      " [ -1.  -0.  -0.   3.   2.  -4.]\n",
      " [ -0.  -1.  -0.  -2.   5.   2.]\n",
      " [ -0.  -0.  -1.  11.   3.   1.]]\n"
     ]
    }
   ],
   "source": [
    "I = np.identity(3)\n",
    "C = np.vstack([np.hstack([I,A]), np.hstack([-1*I,B])])\n",
    "print(\"Ma trận khối C la:\")\n",
    "print(C)"
   ]
  },
  {
   "cell_type": "code",
   "execution_count": 5,
   "metadata": {},
   "outputs": [
    {
     "name": "stdout",
     "output_type": "stream",
     "text": [
      "det(C)= 580.0\n",
      "det(A+B)= 580.0\n"
     ]
    }
   ],
   "source": [
    "print(\"det(C)=\", np.linalg.det(C))\n",
    "print(\"det(A+B)=\", np.linalg.det(A+B))"
   ]
  },
  {
   "cell_type": "markdown",
   "metadata": {},
   "source": [
    "Nhận thấy $det(C) = det(A+B)$ trong biểu thức trên. \n",
    "Kết quả này đúng với mọi A và B vuông cùng cấp"
   ]
  },
  {
   "cell_type": "markdown",
   "metadata": {},
   "source": [
    "### Bài 2 (2đ)\n",
    "Trong mặt phẳng toạ độ $(x,y)$ cho các điểm sau đây:\n",
    "$$(-1,-3),\\ (0,2),\\ (1,1),\\ (2,0),\\ (3,5)$$\n",
    "Cho đa thức dưới dạng:\n",
    "$$p=\\alpha_0+\\alpha_1 p_1+\\alpha_2 p_2+\\alpha_3 p_3+\\alpha_4 p_4$$\n",
    "trong đó\n",
    "$$\\left\\{\\begin{matrix}\n",
    "p_1 = x \\\\ p_2 = 1+2x^2 \\\\ p_3 = x^3 - x + 1 \\\\ p_4 = (x-1)(x+1)\n",
    "\\end{matrix}\\right.$$\n",
    "* Hãy tìm 1 bộ số $(\\alpha_0,\\alpha_1,\\alpha_2,\\alpha_3,\\alpha_4)$ sao cho đa thức $p$ đi qua tất cả các điểm dữ liệu được cho.\n",
    "* Đa thức $p$ như trên có tồn tại duy nhất hay không?"
   ]
  },
  {
   "cell_type": "code",
   "execution_count": 74,
   "metadata": {},
   "outputs": [
    {
     "name": "stdout",
     "output_type": "stream",
     "text": [
      "[[ 1 -1  3  1  0]\n",
      " [ 1  0  1  1 -1]\n",
      " [ 1  1  3  1  0]\n",
      " [ 1  2  9  7  3]\n",
      " [ 1  3 19 25  8]]\n",
      "Bộ số cần tìm là:  [ 0.57142857  2.         -0.85714286  1.         -1.28571429]\n"
     ]
    },
    {
     "name": "stderr",
     "output_type": "stream",
     "text": [
      "C:\\Users\\hoangnx8\\AppData\\Local\\Temp\\ipykernel_22376\\4012544353.py:17: FutureWarning: `rcond` parameter will change to the default of machine precision times ``max(M, N)`` where M and N are the input matrix dimensions.\n",
      "To use the future default and silence this warning we advise to pass `rcond=None`, to keep using the old, explicitly pass `rcond=-1`.\n",
      "  a =np.linalg.lstsq(A,b)\n"
     ]
    }
   ],
   "source": [
    "#Các đa thức \n",
    "p1 = lambda x: x\n",
    "p2 = lambda x: 1+2*pow(x,2)\n",
    "p3 = lambda x: pow(x,3)-x+1\n",
    "p4 = lambda x: (x-1)*(x+1)\n",
    "\n",
    "A=np.array([1 for x in range(1,6)])\n",
    "temp = [-1,0,1,2,3]\n",
    "col1=np.array([p1(x) for x in temp])\n",
    "col2=np.array([p2(x) for x in temp])\n",
    "col3=np.array([p3(x) for x in temp])\n",
    "col4 = np.array([p4(x) for x in temp])\n",
    "A=np.vstack([A,col1,col2,col3, col4]).T\n",
    "print(A)\n",
    "#Vector b\n",
    "b=np.array([-3,2,1,0,5])\n",
    "a =np.linalg.lstsq(A,b)\n",
    "# print(\"Đa thức nội suy: y(x)=%0.2f+%0.2f*x+%0.2f*x^2+%0.2f*x^3\"%c)\n",
    "print('Bộ số cần tìm là: ', a[0])"
   ]
  },
  {
   "cell_type": "code",
   "execution_count": 77,
   "metadata": {},
   "outputs": [
    {
     "name": "stdout",
     "output_type": "stream",
     "text": [
      "Rank của ma trận A là: 4\n",
      "Rank của ma trận A khi ghép thêm cột b là: 4\n"
     ]
    }
   ],
   "source": [
    "# Kiểm tra số nghiệm của hệ phương trình\n",
    "A_m = np.hstack([A, b.reshape(-1, 1)])\n",
    "\n",
    "print(\"Rank của ma trận A là:\", np.linalg.matrix_rank(A))\n",
    "print(\"Rank của ma trận A khi ghép thêm cột b là:\", np.linalg.matrix_rank(A_m))"
   ]
  },
  {
   "cell_type": "markdown",
   "metadata": {},
   "source": [
    "=> Hệ có vô số nghiệm. Đa thức $p$ không tồn tại duy nhất"
   ]
  },
  {
   "cell_type": "markdown",
   "metadata": {},
   "source": [
    "### Bài 3 (2đ)\n",
    "Ma trận vuông được gọi là **ma trận ngẫu nhiên cột** nếu tất cả các phần tử của nó không âm và các phần tử trong mỗi cột có tổng bằng 1.\n",
    "* Hãy khởi tạo (ngẫu nhiên) một ma trận $A$ vuông cấp 5 là ma trận ngẫu nhiên cột.\n",
    "* Có tồn tại véc tơ $X$ thoả mãn: $AX = X$ hay không?\n",
    "* Nếu có, hãy tìm véc tơ $X$ thoả mãn với điều kiện thành phần cuối cùng $X[-1]$ bằng 1."
   ]
  },
  {
   "cell_type": "code",
   "execution_count": 81,
   "metadata": {},
   "outputs": [],
   "source": [
    "def generate(n):\n",
    "    A = np.zeros((n, n))\n",
    "    for i in range(n):\n",
    "        sum = 0\n",
    "        for j in range(n - 1):\n",
    "            random_num = np.random.random()\n",
    "            while sum + random_num > 1:\n",
    "                random_num = np.random.random()\n",
    "            \n",
    "            sum += random_num\n",
    "            A[j][i] = random_num\n",
    "        A[n - 1][i] = 1 - sum\n",
    "        \n",
    "    return A\n"
   ]
  },
  {
   "cell_type": "code",
   "execution_count": 82,
   "metadata": {},
   "outputs": [
    {
     "name": "stdout",
     "output_type": "stream",
     "text": [
      "Ma trận ngẫu nhien cột A cấp 5 là:\n",
      "[[3.20545131e-01 9.96396981e-01 2.46683825e-01 9.10516438e-01\n",
      "  4.93113917e-01]\n",
      " [3.65829212e-01 1.52720168e-03 4.99209476e-01 5.50813819e-02\n",
      "  9.25497632e-02]\n",
      " [2.79909348e-01 1.67763728e-03 2.11645184e-01 2.89588277e-02\n",
      "  1.72449456e-01]\n",
      " [2.78895946e-02 1.23248073e-04 6.47035912e-03 2.23307716e-03\n",
      "  7.93988973e-02]\n",
      " [5.82671470e-03 2.74932194e-04 3.59911553e-02 3.21027550e-03\n",
      "  1.62487966e-01]]\n",
      "Det(A - I) là: 0.0\n"
     ]
    }
   ],
   "source": [
    "# Khoi tạo ngẫu nhiên ma trận vuông A cấp 5 la ma trận ngẫu nhiên cột\n",
    "A = generate(5)\n",
    "print(\"Ma trận ngẫu nhien cột A cấp 5 là:\")\n",
    "print(A)\n",
    "print(\"Det(A - I) là:\", np.round(np.linalg.det(A - np.eye(5))))"
   ]
  },
  {
   "cell_type": "markdown",
   "metadata": {},
   "source": [
    "Vì  $det(A - I) = 0$ nên $AX = X$ có vô số nghiệm"
   ]
  },
  {
   "cell_type": "code",
   "execution_count": 84,
   "metadata": {},
   "outputs": [],
   "source": [
    "#Tim vecto X thoa man thanh phan cuoi \n",
    "X1 = A - np.eye(5)\n",
    "y = np.zeros(5)"
   ]
  },
  {
   "cell_type": "markdown",
   "metadata": {},
   "source": [
    "Mà: $a_1 x_1 + a_2x_2 + a_3x_3 + a_4(-1) = 0$ với $a_i$ là ma trận cột của X1\n",
    "\n",
    "Do đó ta giải phương trình: $a_1x_1+a_2x_2+a_3x_3=a_4$"
   ]
  },
  {
   "cell_type": "code",
   "execution_count": 86,
   "metadata": {},
   "outputs": [
    {
     "name": "stdout",
     "output_type": "stream",
     "text": [
      "Nghiệm của phương trình là: [-12.496379445405429, -6.933916633949953, -4.634715724299657, -1]\n"
     ]
    },
    {
     "name": "stderr",
     "output_type": "stream",
     "text": [
      "C:\\Users\\hoangnx8\\AppData\\Local\\Temp\\ipykernel_22376\\1978160532.py:4: FutureWarning: `rcond` parameter will change to the default of machine precision times ``max(M, N)`` where M and N are the input matrix dimensions.\n",
      "To use the future default and silence this warning we advise to pass `rcond=None`, to keep using the old, explicitly pass `rcond=-1`.\n",
      "  alpha = np.linalg.lstsq(X, y_1)[0]\n"
     ]
    }
   ],
   "source": [
    "X = X1[:, :3]\n",
    "y_1 = X1[:, 4]\n",
    "\n",
    "alpha = np.linalg.lstsq(X, y_1)[0]\n",
    "print(\"Nghiệm của phương trình là:\", [alpha[0], alpha[1], alpha[2], -1])"
   ]
  },
  {
   "cell_type": "markdown",
   "metadata": {},
   "source": [
    "### Bài 4 (2đ)\n",
    "Trong không gian $\\mathbb{R}^4$ cho các véc tơ:\n",
    "\n",
    "$$u_1=\\begin{pmatrix}\n",
    "1 \\\\ 2 \\\\ -3 \\\\ 1\n",
    "\\end{pmatrix},\\ \\ \n",
    "u_2=\\begin{pmatrix}\n",
    "-2 \\\\ 5 \\\\ 2 \\\\ -4\n",
    "\\end{pmatrix},\\ \\ \n",
    "u_3=\\begin{pmatrix}\n",
    "0 \\\\ 9 \\\\ -4 \\\\ -2\n",
    "\\end{pmatrix},\\ \\ \n",
    "u_4=\\begin{pmatrix}\n",
    "3 \\\\ 0 \\\\ 5 \\\\ 2\n",
    "\\end{pmatrix} $$\n",
    "\n",
    "* Tìm số chiều và một cơ sở của không gian $U=Span(u_1,u_2,u_3,u_4)$.\n",
    "* Bằng phương pháp Gram-Schmidt, hãy xây dựng một cơ sở trực chuẩn của không gian $U$.\n",
    "* Tìm hình chiếu trực giao của véc tơ $y=\\begin{pmatrix}\n",
    "3 \\\\ 4 \\\\ 2 \\\\ 7\n",
    "\\end{pmatrix}$ trên không gian $U$."
   ]
  },
  {
   "cell_type": "code",
   "execution_count": 60,
   "metadata": {},
   "outputs": [
    {
     "name": "stdout",
     "output_type": "stream",
     "text": [
      "Số chiều không gian U là: 3\n"
     ]
    }
   ],
   "source": [
    "u1 = np.array([1,2,-3,1])\n",
    "u2 = np.array([-2,5,2,-4])\n",
    "u3 = np.array([0,9,-4,-2])\n",
    "u4 = np.array([3,0,5,2])\n",
    "#Khong gian U\n",
    "U = np.stack([u1, u2, u3, u4], axis=1)\n",
    "print(\"Số chiều không gian U là:\", np.linalg.matrix_rank(U))"
   ]
  },
  {
   "cell_type": "code",
   "execution_count": 61,
   "metadata": {},
   "outputs": [
    {
     "name": "stdout",
     "output_type": "stream",
     "text": [
      "Phân tích LU của U:\n",
      "[[-3.     2.    -4.     5.   ]\n",
      " [ 0.     6.333  6.333  3.333]\n",
      " [ 0.     0.     0.     5.421]\n",
      " [ 0.     0.     0.     3.075]]\n",
      "Cơ sở của U là: \n",
      "[ 1  2 -3  1]\n",
      "[-2  5  2 -4]\n",
      "[3 0 5 2]\n"
     ]
    }
   ],
   "source": [
    "# tìm cơ sở U sử dụng phân tích LU\n",
    "\n",
    "U1 = np.around(linalg.lu(U)[2], 3)\n",
    "print(\"Phân tích LU của U:\")\n",
    "print(U1)\n",
    "print(\"Cơ sở của U là: \",U[:,0], U[:,1], U[:,3], sep='\\n')"
   ]
  },
  {
   "cell_type": "code",
   "execution_count": 62,
   "metadata": {},
   "outputs": [
    {
     "name": "stdout",
     "output_type": "stream",
     "text": [
      "[ 1  2 -3  1]\n",
      "[-1.86666667  5.26666667  1.6        -3.86666667]\n",
      "[3.4623803  1.90971272 3.1751026  2.24350205]\n"
     ]
    }
   ],
   "source": [
    "# Trực giao hóa Gram-Schimidt\n",
    "a1 = u1\n",
    "a2 = u2 - np.inner(u2,a1)/np.inner(a1,a1)*a1\n",
    "#a3 = u3 - np.inner(u3,a1)/np.inner(a1,a1)*a1\\\n",
    "#         - np.inner(u3,a2)/np.inner(a2,a2)*a2\n",
    "a4 = u4 - np.inner(u4,a1)/np.inner(a1,a1)*a1\\\n",
    "        - np.inner(u4,a2)/np.inner(a2,a2)*a2\n",
    "#         - np.inner(u4,a3)/np.inner(a3,a3)*a3\n",
    "# print(a1,a2,a3,a4,sep='\\n')\n",
    "print(a1,a2,a4,sep='\\n')"
   ]
  },
  {
   "cell_type": "code",
   "execution_count": 63,
   "metadata": {},
   "outputs": [
    {
     "name": "stdout",
     "output_type": "stream",
     "text": [
      "[ 0.25819889  0.51639778 -0.77459667  0.25819889]\n",
      "[-0.26739527  0.75443664  0.22919594 -0.55389019]\n",
      "[0.62438811 0.34438791 0.5725819  0.40458178]\n"
     ]
    }
   ],
   "source": [
    "#Chuẩn hóa\n",
    "e1 = a1/np.linalg.norm(a1)\n",
    "e2 = a2/np.linalg.norm(a2)\n",
    "# e3 = a3/np.linalg.norm(a3)\n",
    "e4 = a4/np.linalg.norm(a4)\n",
    "# print(e1,e2,e3,e4,sep = '\\n')\n",
    "print(e1,e2,e4,sep = '\\n')"
   ]
  },
  {
   "cell_type": "code",
   "execution_count": 72,
   "metadata": {},
   "outputs": [
    {
     "name": "stdout",
     "output_type": "stream",
     "text": [
      "Hình chiếu trực giao của y là\n",
      "[5.63479847 3.18142183 1.46280808 4.3907821 ]\n"
     ]
    }
   ],
   "source": [
    "# Kết luận: {e1,e2,e4} là cơ sở trực chuẩn của U\n",
    "#tìm hình chiếu trực giao của y trên U \n",
    "y = np.array([3,4,2,7])\n",
    "y_proj = np.inner(y,e1)*e1 + np.inner(y,e2)*e2 + np.inner(y,e4)*e4\n",
    "print('Hình chiếu trực giao của y là', y_proj, sep ='\\n')"
   ]
  },
  {
   "cell_type": "markdown",
   "metadata": {},
   "source": [
    "### Bài 5 (1đ)\n",
    "Cho dữ liệu khảo sát về sự hài lòng của bệnh nhân đối với dịch vụ khám chữa bệnh của một bệnh viện:\n",
    "\n",
    "\n",
    "<table>\n",
    "  <thead>\n",
    "    <tr>\n",
    "      <th>Quan sát</th>\n",
    "      <th>Tuổi ($x_1$)</th>\n",
    "      <th>Tình trạng bệnh ($x_2$)</th>\n",
    "      <th>Sự hài lòng ($y$)</th>\n",
    "    </tr>\n",
    "  </thead>\n",
    "  <tbody>\n",
    "    <tr>\n",
    "      <td>1</td>\n",
    "      <td>55</td>\n",
    "      <td>50</td>\n",
    "      <td>68</td>\n",
    "    </tr>\n",
    "    <tr>\n",
    "      <td>2</td>\n",
    "      <td>46</td>\n",
    "      <td>24</td>\n",
    "      <td>77</td>\n",
    "    </tr>\n",
    "    <tr>\n",
    "      <td>3</td>\n",
    "      <td>30</td>\n",
    "      <td>46</td>\n",
    "      <td>96</td>\n",
    "    </tr>\n",
    "    <tr>\n",
    "      <td>4</td>\n",
    "      <td>35</td>\n",
    "      <td>48</td>\n",
    "      <td>80</td>\n",
    "    </tr>\n",
    "    <tr>\n",
    "      <td>5</td>\n",
    "      <td>59</td>\n",
    "      <td>58</td>\n",
    "      <td>43</td>\n",
    "    </tr>\n",
    "    <tr>\n",
    "      <td>6</td>\n",
    "      <td>61</td>\n",
    "      <td>60</td>\n",
    "      <td>44</td>\n",
    "    </tr>\n",
    "    <tr>\n",
    "      <td>7</td>\n",
    "      <td>74</td>\n",
    "      <td>65</td>\n",
    "      <td>26</td>\n",
    "    </tr>\n",
    "    <tr>\n",
    "      <td>8</td>\n",
    "      <td>38</td>\n",
    "      <td>42</td>\n",
    "      <td>88</td>\n",
    "    </tr>\n",
    "    <tr>\n",
    "      <td>9</td>\n",
    "      <td>27</td>\n",
    "      <td>42</td>\n",
    "      <td>75</td>\n",
    "    </tr>\n",
    "    <tr>\n",
    "      <td>10</td>\n",
    "      <td>51</td>\n",
    "      <td>50</td>\n",
    "      <td>57</td>\n",
    "    </tr>\n",
    "  </tbody>\n",
    "</table>\n",
    "\n",
    "Hãy xây dựng hàm hồi quy tuyến tính thể hiện sự hài lòng ($y$) theo độ tuổi ($x_1$) và tình trạng bệnh ($x_2$) của các bệnh nhân."
   ]
  },
  {
   "cell_type": "code",
   "execution_count": 68,
   "metadata": {},
   "outputs": [],
   "source": [
    "x1 = np.array([55, 46, 30, 35, 59, 61, 74, 38, 27, 51])\n",
    "x2 = np.array([50, 24, 46, 48, 58, 60, 65, 42, 42, 50])\n",
    "y = np.array([68, 77, 96, 80, 43, 44, 26, 88, 75, 57])"
   ]
  },
  {
   "cell_type": "code",
   "execution_count": 69,
   "metadata": {},
   "outputs": [
    {
     "name": "stdout",
     "output_type": "stream",
     "text": [
      "[[ 1. 55. 50.]\n",
      " [ 1. 46. 24.]\n",
      " [ 1. 30. 46.]\n",
      " [ 1. 35. 48.]\n",
      " [ 1. 59. 58.]\n",
      " [ 1. 61. 60.]\n",
      " [ 1. 74. 65.]\n",
      " [ 1. 38. 42.]\n",
      " [ 1. 27. 42.]\n",
      " [ 1. 51. 50.]]\n"
     ]
    }
   ],
   "source": [
    "# Ma trận X\n",
    "X = np.vstack([np.ones(len(x1)), x1, x2]).T\n",
    "print(X)"
   ]
  },
  {
   "cell_type": "code",
   "execution_count": 70,
   "metadata": {},
   "outputs": [
    {
     "name": "stdout",
     "output_type": "stream",
     "text": [
      "[141.89395861  -1.08457084  -0.51275024]\n",
      "Hàm hồi quy tuyến tính cần tìm là: 141.89 + -1.08 x1 -0.51 x2\n"
     ]
    },
    {
     "name": "stderr",
     "output_type": "stream",
     "text": [
      "C:\\Users\\hoangnx8\\AppData\\Local\\Temp\\ipykernel_22376\\794936460.py:2: FutureWarning: `rcond` parameter will change to the default of machine precision times ``max(M, N)`` where M and N are the input matrix dimensions.\n",
      "To use the future default and silence this warning we advise to pass `rcond=None`, to keep using the old, explicitly pass `rcond=-1`.\n",
      "  a = np.linalg.lstsq(X, y)[0]\n"
     ]
    }
   ],
   "source": [
    "# Phương pháp bình phương tối thiểu để tìm hệ số \n",
    "a = np.linalg.lstsq(X, y)[0]\n",
    "print(a)\n",
    "print('Hàm hồi quy tuyến tính cần tìm là:', round(a[0],2), '+', round(a[1],2), 'x1', round(a[2],2), 'x2')"
   ]
  },
  {
   "cell_type": "markdown",
   "metadata": {},
   "source": [
    "### Bài 6 (1đ)\n",
    "Khi ma trận $A$ có các cột độc lập tuyến tính, nghiệm bình phương tối thiểu $\\widehat{x}=(A^TA)^{-1}A^Tb$ của hệ phương trình $Ax=b$ sẽ cực tiểu hóa $\\|Ax-b\\|^2$.\n",
    "\n",
    "Ta có thể tìm nghiệm $\\widehat{x}$ bằng phương pháp lặp **Richardson**:\n",
    "\n",
    "$$x^{(k+1)}=x^{(k)}-\\lambda A^T(Ax^{(k)}-b), \\ \\ x^{(1)}=0$$\n",
    "\n",
    "ở đó $\\lambda>0$ không quá lớn và $k$ chỉ số bước lặp.\n",
    "\n",
    "Cho các ma trận \n",
    "$$A=\\begin{pmatrix}\n",
    "1 & 1 & -1 & -1\\\\\n",
    "2 & 5 & -7 & -5\\\\\n",
    "2 & -1 & 1 & 3 \\\\\n",
    "5 & 2 & -4 & 2 \\\\\n",
    "-3 & 3 & 5 & 2\n",
    "\\end{pmatrix},\\ \\ B=\\begin{pmatrix}\n",
    "1 \\\\ -2 \\\\ 4 \\\\ 6 \\\\ -4\n",
    "\\end{pmatrix}$$\n",
    "* Tính nghiệm bình phương cực tiểu $\\widehat{x}$.\n",
    "* Sử dụng phương pháp lặp Richardson để tính dãy nghiệm xấp xỉ với 1000 bước lặp. Chọn $\\lambda=0.01$.\n",
    "* Vẽ đồ thị $\\|x^{(k)}-\\widehat{x}\\|$ để kiểm tra xem $x^{(k)}$ có hội tụ về $\\widehat{x}$ hay không?"
   ]
  },
  {
   "cell_type": "code",
   "execution_count": 49,
   "metadata": {},
   "outputs": [
    {
     "data": {
      "text/plain": [
       "(array([[ 1,  1, -1, -1],\n",
       "        [ 2,  5, -7, -5],\n",
       "        [ 2, -1,  1,  3],\n",
       "        [ 5,  2, -4,  2],\n",
       "        [-3,  3,  5,  2]]),\n",
       " array([ 1, -2,  4,  6, -4]))"
      ]
     },
     "execution_count": 49,
     "metadata": {},
     "output_type": "execute_result"
    }
   ],
   "source": [
    "#Matrix A và B\n",
    "A = np.array([1, 1, -1, -1, 2, 5, -7, -5,2, -1, 1, 3,5, 2, -4, 2,-3, 3, 5, 2]).reshape(5,4)\n",
    "B = np.array([1, -2, 4, 6, -4])\n",
    "A,B"
   ]
  },
  {
   "cell_type": "code",
   "execution_count": 50,
   "metadata": {},
   "outputs": [
    {
     "name": "stdout",
     "output_type": "stream",
     "text": [
      "Nghiệm bình phương cực tiểu là:\n",
      "[ 1.7254902  -0.40196078  0.48319328 -0.01680672]\n"
     ]
    }
   ],
   "source": [
    "#Nghiệm bình phương cực tiểu x^\n",
    "\n",
    "x = np.linalg.inv(A.T @ A) @ A.T @ B\n",
    "print(\"Nghiệm bình phương cực tiểu là:\", x, sep = '\\n')"
   ]
  },
  {
   "cell_type": "code",
   "execution_count": 51,
   "metadata": {},
   "outputs": [
    {
     "name": "stdout",
     "output_type": "stream",
     "text": [
      "Nghiệm theo phương pháp lặp là:\n",
      "[[ 1.71529571]\n",
      " [-0.40232405]\n",
      " [ 0.47390074]\n",
      " [-0.00825613]]\n"
     ]
    }
   ],
   "source": [
    "# Sử dụng phương pháp lặp Richardson\n",
    "landa = 0.01\n",
    "x_richard = np.zeros((4, 1))\n",
    "sai_khac = []\n",
    "\n",
    "B = B.reshape(-1, 1)\n",
    "steps = 1000\n",
    "\n",
    "for step in range(steps):\n",
    "    x_richard = x_richard - landa * A.T @ (A @ x_richard - B)\n",
    "    sai_khac.append(np.linalg.norm(x_richard - x.reshape(-1, 1)))\n",
    "    \n",
    "print(\"Nghiệm theo phương pháp lặp là:\",x_richard, sep ='\\n')\n"
   ]
  },
  {
   "cell_type": "code",
   "execution_count": 52,
   "metadata": {},
   "outputs": [
    {
     "data": {
      "image/png": "[encoded data removed]",
      "text/plain": [
       "<Figure size 720x288 with 1 Axes>"
      ]
     },
     "metadata": {
      "needs_background": "light"
     },
     "output_type": "display_data"
    }
   ],
   "source": [
    "# Ve do thi \n",
    "plt.figure(figsize=(10, 4))\n",
    "plt.plot(diff, color = 'red')\n",
    "\n",
    "plt.title(\"ĐỒ THỊ SỰ KHÁC NHAU GIỮA X_RICHARDSON VÀ X\")\n",
    "plt.xlabel('step')\n",
    "plt.ylabel('Sai_khac')\n",
    "plt.grid(axis='y', color  = 'g')\n",
    "plt.show()\n"
   ]
  },
  {
   "cell_type": "markdown",
   "metadata": {},
   "source": [
    "Dựa vào đồ thị ta thấy $x^{(k)}$ có hội tụ về $\\widehat{x}$ "
   ]
  }
 ],
 "metadata": {
  "kernelspec": {
   "display_name": "Python 3 (ipykernel)",
   "language": "python",
   "name": "python3"
  },
  "language_info": {
   "codemirror_mode": {
    "name": "ipython",
    "version": 3
   },
   "file_extension": ".py",
   "mimetype": "text/x-python",
   "name": "python",
   "nbconvert_exporter": "python",
   "pygments_lexer": "ipython3",
   "version": "3.9.12"
  }
 },
 "nbformat": 4,
 "nbformat_minor": 4
}
