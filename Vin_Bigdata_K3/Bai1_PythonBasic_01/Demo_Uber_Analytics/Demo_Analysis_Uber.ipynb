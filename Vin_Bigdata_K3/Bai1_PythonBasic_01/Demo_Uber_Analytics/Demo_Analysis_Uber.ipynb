{
 "cells": [
  {
   "cell_type": "markdown",
   "metadata": {},
   "source": [
    "# DEMO: THỰC HIỆN PHÂN TÍCH VÀ KHÁM PHÁ TẬP DỮ LIỆU UBER\n",
    "---\n",
    "* Đọc và tìm hiểu tập dữ liệu Uber (.csv)\n",
    "* Sử dụng KMeans phân cụm dữ liệu theo kinh độ - vĩ độ các điểm đón khách (features: lat-lon)\n",
    "* Thống kê, phân tích và trực quan hóa dữ liệu trích rút các thông tin có ích\n",
    "\n",
    "---\n",
    "Tập dữ liệu uber.csv bao gồm 829 275 bản ghi (lượt đón khách) trong khoảng thời gian từ 2014-08-01 00:00 tới 2014-08-31 23:59 (1 tháng), các bản ghi chứa thông tin:\n",
    "1. Datetime: thời điểm đón khách\n",
    "2. lat: kinh độ đón khách\n",
    "3. lat: vĩ độ đón khách\n",
    "4. base: Mã công ty quản lý phương tiện\n",
    "\n",
    "<img src='Pic/uber_data.png' width='500px'>\n",
    "\n",
    "---\n",
    "*Copyright: Đặng Văn Nam - FIT.HUMG  - AIAcademy*"
   ]
  },
  {
   "cell_type": "markdown",
   "metadata": {},
   "source": [
    "## 1.Đọc dữ liệu\n",
    "---"
   ]
  },
  {
   "cell_type": "code",
   "execution_count": 1,
   "metadata": {},
   "outputs": [],
   "source": [
    "#import thư viện\n",
    "import pandas as pd\n",
    "import numpy as np\n",
    "import matplotlib.pyplot as plt \n",
    "import seaborn as sns\n",
    "\n",
    "import warnings\n",
    "warnings.filterwarnings('ignore')"
   ]
  },
  {
   "cell_type": "code",
   "execution_count": 2,
   "metadata": {},
   "outputs": [
    {
     "name": "stdout",
     "output_type": "stream",
     "text": [
      "<class 'pandas.core.frame.DataFrame'>\n",
      "RangeIndex: 829275 entries, 0 to 829274\n",
      "Data columns (total 4 columns):\n",
      " #   Column    Non-Null Count   Dtype  \n",
      "---  ------    --------------   -----  \n",
      " 0   datetime  829275 non-null  object \n",
      " 1   lat       829275 non-null  float64\n",
      " 2   lon       829275 non-null  float64\n",
      " 3   base      829275 non-null  object \n",
      "dtypes: float64(2), object(2)\n",
      "memory usage: 25.3+ MB\n"
     ]
    }
   ],
   "source": [
    "#read file data\n",
    "col_name = ['datetime','lat','lon','base']\n",
    "df_uber = pd.read_csv(\"Data/uber.csv\",\n",
    "                      header=None,\n",
    "                      names=col_name)\n",
    "df_uber.info()"
   ]
  },
  {
   "cell_type": "code",
   "execution_count": 3,
   "metadata": {},
   "outputs": [
    {
     "data": {
      "text/html": [
       "<div>\n",
       "<style scoped>\n",
       "    .dataframe tbody tr th:only-of-type {\n",
       "        vertical-align: middle;\n",
       "    }\n",
       "\n",
       "    .dataframe tbody tr th {\n",
       "        vertical-align: top;\n",
       "    }\n",
       "\n",
       "    .dataframe thead th {\n",
       "        text-align: right;\n",
       "    }\n",
       "</style>\n",
       "<table border=\"1\" class=\"dataframe\">\n",
       "  <thead>\n",
       "    <tr style=\"text-align: right;\">\n",
       "      <th></th>\n",
       "      <th>datetime</th>\n",
       "      <th>lat</th>\n",
       "      <th>lon</th>\n",
       "      <th>base</th>\n",
       "    </tr>\n",
       "  </thead>\n",
       "  <tbody>\n",
       "    <tr>\n",
       "      <th>0</th>\n",
       "      <td>2014-08-01 00:00:00</td>\n",
       "      <td>40.7290</td>\n",
       "      <td>-73.9422</td>\n",
       "      <td>B02598</td>\n",
       "    </tr>\n",
       "    <tr>\n",
       "      <th>1</th>\n",
       "      <td>2014-08-01 00:00:00</td>\n",
       "      <td>40.7476</td>\n",
       "      <td>-73.9871</td>\n",
       "      <td>B02598</td>\n",
       "    </tr>\n",
       "    <tr>\n",
       "      <th>2</th>\n",
       "      <td>2014-08-01 00:00:00</td>\n",
       "      <td>40.7424</td>\n",
       "      <td>-74.0044</td>\n",
       "      <td>B02598</td>\n",
       "    </tr>\n",
       "    <tr>\n",
       "      <th>3</th>\n",
       "      <td>2014-08-01 00:00:00</td>\n",
       "      <td>40.7510</td>\n",
       "      <td>-73.9869</td>\n",
       "      <td>B02598</td>\n",
       "    </tr>\n",
       "    <tr>\n",
       "      <th>4</th>\n",
       "      <td>2014-08-01 00:00:00</td>\n",
       "      <td>40.7406</td>\n",
       "      <td>-73.9902</td>\n",
       "      <td>B02598</td>\n",
       "    </tr>\n",
       "  </tbody>\n",
       "</table>\n",
       "</div>"
      ],
      "text/plain": [
       "              datetime      lat      lon    base\n",
       "0  2014-08-01 00:00:00  40.7290 -73.9422  B02598\n",
       "1  2014-08-01 00:00:00  40.7476 -73.9871  B02598\n",
       "2  2014-08-01 00:00:00  40.7424 -74.0044  B02598\n",
       "3  2014-08-01 00:00:00  40.7510 -73.9869  B02598\n",
       "4  2014-08-01 00:00:00  40.7406 -73.9902  B02598"
      ]
     },
     "execution_count": 3,
     "metadata": {},
     "output_type": "execute_result"
    }
   ],
   "source": [
    "df_uber.head()"
   ]
  },
  {
   "cell_type": "code",
   "execution_count": 4,
   "metadata": {},
   "outputs": [
    {
     "data": {
      "text/html": [
       "<div>\n",
       "<style scoped>\n",
       "    .dataframe tbody tr th:only-of-type {\n",
       "        vertical-align: middle;\n",
       "    }\n",
       "\n",
       "    .dataframe tbody tr th {\n",
       "        vertical-align: top;\n",
       "    }\n",
       "\n",
       "    .dataframe thead th {\n",
       "        text-align: right;\n",
       "    }\n",
       "</style>\n",
       "<table border=\"1\" class=\"dataframe\">\n",
       "  <thead>\n",
       "    <tr style=\"text-align: right;\">\n",
       "      <th></th>\n",
       "      <th>datetime</th>\n",
       "      <th>lat</th>\n",
       "      <th>lon</th>\n",
       "      <th>base</th>\n",
       "    </tr>\n",
       "  </thead>\n",
       "  <tbody>\n",
       "    <tr>\n",
       "      <th>829270</th>\n",
       "      <td>2014-08-31 23:59:00</td>\n",
       "      <td>40.7642</td>\n",
       "      <td>-73.2487</td>\n",
       "      <td>B02617</td>\n",
       "    </tr>\n",
       "    <tr>\n",
       "      <th>829271</th>\n",
       "      <td>2014-08-31 23:59:00</td>\n",
       "      <td>40.6448</td>\n",
       "      <td>-73.7818</td>\n",
       "      <td>B02682</td>\n",
       "    </tr>\n",
       "    <tr>\n",
       "      <th>829272</th>\n",
       "      <td>2014-08-31 23:59:00</td>\n",
       "      <td>40.8924</td>\n",
       "      <td>-73.9107</td>\n",
       "      <td>B02682</td>\n",
       "    </tr>\n",
       "    <tr>\n",
       "      <th>829273</th>\n",
       "      <td>2014-08-31 23:59:00</td>\n",
       "      <td>40.7395</td>\n",
       "      <td>-73.9889</td>\n",
       "      <td>B02764</td>\n",
       "    </tr>\n",
       "    <tr>\n",
       "      <th>829274</th>\n",
       "      <td>2014-08-31 23:59:00</td>\n",
       "      <td>40.7270</td>\n",
       "      <td>-73.9802</td>\n",
       "      <td>B02764</td>\n",
       "    </tr>\n",
       "  </tbody>\n",
       "</table>\n",
       "</div>"
      ],
      "text/plain": [
       "                   datetime      lat      lon    base\n",
       "829270  2014-08-31 23:59:00  40.7642 -73.2487  B02617\n",
       "829271  2014-08-31 23:59:00  40.6448 -73.7818  B02682\n",
       "829272  2014-08-31 23:59:00  40.8924 -73.9107  B02682\n",
       "829273  2014-08-31 23:59:00  40.7395 -73.9889  B02764\n",
       "829274  2014-08-31 23:59:00  40.7270 -73.9802  B02764"
      ]
     },
     "execution_count": 4,
     "metadata": {},
     "output_type": "execute_result"
    }
   ],
   "source": [
    "df_uber.tail()"
   ]
  },
  {
   "cell_type": "markdown",
   "metadata": {},
   "source": [
    "## 2. Phân cụm dữ liệu với Kmeans\n",
    "---\n",
    "Thực hiện phân cụm dữ liệu dựa theo vị trí đón khách (thuộc tính lat,lon); Phân ra thành 15 cụm trong khu vực nghiên cứu\n",
    "\n",
    "<img src='Pic/Pic_map.jpg' width='700px'>\n",
    "\n",
    "https://www.google.com/maps/d/edit?hl=vi&hl=vi&mid=1sPELzzl75ki6xmiFJ6YGlMVtIgKzkaOo&ll=40.487556685442655%2C-73.5513825&z=8"
   ]
  },
  {
   "cell_type": "code",
   "execution_count": null,
   "metadata": {},
   "outputs": [],
   "source": [
    "df_uber.describe()"
   ]
  },
  {
   "cell_type": "code",
   "execution_count": 5,
   "metadata": {},
   "outputs": [
    {
     "data": {
      "image/png": "[encoded data removed]",
      "text/plain": [
       "<Figure size 720x576 with 1 Axes>"
      ]
     },
     "metadata": {
      "needs_background": "light"
     },
     "output_type": "display_data"
    }
   ],
   "source": [
    "#Vị trí các điểm đón khách trên bản đồ\n",
    "plt.figure(figsize=(10,8))\n",
    "plt.scatter(x=df_uber.lon,y=df_uber.lat)\n",
    "plt.xlim=[-74.8,-72.2]\n",
    "plt.ylim=[39.7,41.3]\n",
    "plt.grid(True)"
   ]
  },
  {
   "cell_type": "markdown",
   "metadata": {},
   "source": [
    "Gom các vị trí đón khách theo kinh độ, vĩ độ gần nhau vào 15 cụm (0->14)\n",
    "<img src='Pic/kmeans.png'>"
   ]
  },
  {
   "cell_type": "code",
   "execution_count": 6,
   "metadata": {},
   "outputs": [
    {
     "data": {
      "text/html": [
       "<div>\n",
       "<style scoped>\n",
       "    .dataframe tbody tr th:only-of-type {\n",
       "        vertical-align: middle;\n",
       "    }\n",
       "\n",
       "    .dataframe tbody tr th {\n",
       "        vertical-align: top;\n",
       "    }\n",
       "\n",
       "    .dataframe thead th {\n",
       "        text-align: right;\n",
       "    }\n",
       "</style>\n",
       "<table border=\"1\" class=\"dataframe\">\n",
       "  <thead>\n",
       "    <tr style=\"text-align: right;\">\n",
       "      <th></th>\n",
       "      <th>datetime</th>\n",
       "      <th>lat</th>\n",
       "      <th>lon</th>\n",
       "      <th>base</th>\n",
       "      <th>cluster</th>\n",
       "    </tr>\n",
       "  </thead>\n",
       "  <tbody>\n",
       "    <tr>\n",
       "      <th>0</th>\n",
       "      <td>2014-08-01 00:00:00</td>\n",
       "      <td>40.7290</td>\n",
       "      <td>-73.9422</td>\n",
       "      <td>B02598</td>\n",
       "      <td>10</td>\n",
       "    </tr>\n",
       "    <tr>\n",
       "      <th>1</th>\n",
       "      <td>2014-08-01 00:00:00</td>\n",
       "      <td>40.7476</td>\n",
       "      <td>-73.9871</td>\n",
       "      <td>B02598</td>\n",
       "      <td>11</td>\n",
       "    </tr>\n",
       "    <tr>\n",
       "      <th>2</th>\n",
       "      <td>2014-08-01 00:00:00</td>\n",
       "      <td>40.7424</td>\n",
       "      <td>-74.0044</td>\n",
       "      <td>B02598</td>\n",
       "      <td>1</td>\n",
       "    </tr>\n",
       "    <tr>\n",
       "      <th>3</th>\n",
       "      <td>2014-08-01 00:00:00</td>\n",
       "      <td>40.7510</td>\n",
       "      <td>-73.9869</td>\n",
       "      <td>B02598</td>\n",
       "      <td>11</td>\n",
       "    </tr>\n",
       "    <tr>\n",
       "      <th>4</th>\n",
       "      <td>2014-08-01 00:00:00</td>\n",
       "      <td>40.7406</td>\n",
       "      <td>-73.9902</td>\n",
       "      <td>B02598</td>\n",
       "      <td>1</td>\n",
       "    </tr>\n",
       "    <tr>\n",
       "      <th>5</th>\n",
       "      <td>2014-08-01 00:00:00</td>\n",
       "      <td>40.6994</td>\n",
       "      <td>-73.9591</td>\n",
       "      <td>B02617</td>\n",
       "      <td>10</td>\n",
       "    </tr>\n",
       "    <tr>\n",
       "      <th>6</th>\n",
       "      <td>2014-08-01 00:00:00</td>\n",
       "      <td>40.6917</td>\n",
       "      <td>-73.9398</td>\n",
       "      <td>B02617</td>\n",
       "      <td>10</td>\n",
       "    </tr>\n",
       "    <tr>\n",
       "      <th>7</th>\n",
       "      <td>2014-08-01 00:00:00</td>\n",
       "      <td>40.7063</td>\n",
       "      <td>-73.9223</td>\n",
       "      <td>B02617</td>\n",
       "      <td>10</td>\n",
       "    </tr>\n",
       "    <tr>\n",
       "      <th>8</th>\n",
       "      <td>2014-08-01 00:00:00</td>\n",
       "      <td>40.6759</td>\n",
       "      <td>-74.0168</td>\n",
       "      <td>B02617</td>\n",
       "      <td>12</td>\n",
       "    </tr>\n",
       "    <tr>\n",
       "      <th>9</th>\n",
       "      <td>2014-08-01 00:00:00</td>\n",
       "      <td>40.7617</td>\n",
       "      <td>-73.9847</td>\n",
       "      <td>B02617</td>\n",
       "      <td>11</td>\n",
       "    </tr>\n",
       "  </tbody>\n",
       "</table>\n",
       "</div>"
      ],
      "text/plain": [
       "              datetime      lat      lon    base  cluster\n",
       "0  2014-08-01 00:00:00  40.7290 -73.9422  B02598       10\n",
       "1  2014-08-01 00:00:00  40.7476 -73.9871  B02598       11\n",
       "2  2014-08-01 00:00:00  40.7424 -74.0044  B02598        1\n",
       "3  2014-08-01 00:00:00  40.7510 -73.9869  B02598       11\n",
       "4  2014-08-01 00:00:00  40.7406 -73.9902  B02598        1\n",
       "5  2014-08-01 00:00:00  40.6994 -73.9591  B02617       10\n",
       "6  2014-08-01 00:00:00  40.6917 -73.9398  B02617       10\n",
       "7  2014-08-01 00:00:00  40.7063 -73.9223  B02617       10\n",
       "8  2014-08-01 00:00:00  40.6759 -74.0168  B02617       12\n",
       "9  2014-08-01 00:00:00  40.7617 -73.9847  B02617       11"
      ]
     },
     "execution_count": 6,
     "metadata": {},
     "output_type": "execute_result"
    }
   ],
   "source": [
    "from sklearn.cluster import KMeans\n",
    "\n",
    "#Thực hiện phân thành 15 cụm\n",
    "km = KMeans(n_clusters=15,\n",
    "            init=\"k-means++\",\n",
    "            n_init = 10,\n",
    "            max_iter=300, \n",
    "            tol=0.0001,  \n",
    "            random_state= 111, \n",
    "            algorithm='elkan'\n",
    "           )\n",
    "\n",
    "#Lấy dữ liệu 2 cột lat, lon để thực hiện phân cụm\n",
    "km.fit_predict(df_uber.iloc[:,[1,2]])\n",
    "\n",
    "#Tạo cột Cluster để cho biết mẫu thuộc cụm nào\n",
    "df_uber[\"cluster\"] = km.labels_\n",
    "df_uber.head(10)"
   ]
  },
  {
   "cell_type": "code",
   "execution_count": 7,
   "metadata": {},
   "outputs": [
    {
     "name": "stdout",
     "output_type": "stream",
     "text": [
      "[[ 40.8556262  -73.92511626]\n",
      " [ 40.73627902 -73.99431818]\n",
      " [ 40.65136236 -73.78440169]\n",
      " [ 40.78120247 -73.95501682]\n",
      " [ 40.66634742 -73.97578362]\n",
      " [ 40.79691315 -73.24074708]\n",
      " [ 40.76094283 -73.8639586 ]\n",
      " [ 40.67178151 -74.40639041]\n",
      " [ 40.70584922 -74.18098368]\n",
      " [ 40.20228668 -74.04677746]\n",
      " [ 40.71049686 -73.94584021]\n",
      " [ 40.75918684 -73.98049088]\n",
      " [ 40.71435092 -74.00527469]\n",
      " [ 40.75018115 -73.61257698]\n",
      " [ 40.99907172 -73.77804416]]\n"
     ]
    }
   ],
   "source": [
    "#Danh sách tâm của các cluster\n",
    "center = km.cluster_centers_\n",
    "print(center)"
   ]
  },
  {
   "cell_type": "code",
   "execution_count": 8,
   "metadata": {},
   "outputs": [
    {
     "data": {
      "image/png": "[encoded data removed]",
      "text/plain": [
       "<Figure size 720x576 with 1 Axes>"
      ]
     },
     "metadata": {
      "needs_background": "light"
     },
     "output_type": "display_data"
    }
   ],
   "source": [
    "#Vị trí các điểm đón khách và tâm cụm trên bản đồ\n",
    "plt.figure(figsize=(10,8))\n",
    "plt.scatter(x=df_uber.lon,y=df_uber.lat)\n",
    "plt.scatter(x=center[:,1],y=center[:,0],s=100,c='red',marker='*')\n",
    "plt.xlim=[-74.8,-72.2]\n",
    "plt.ylim=[39.7,41.3]\n",
    "plt.grid(True)"
   ]
  },
  {
   "cell_type": "code",
   "execution_count": null,
   "metadata": {},
   "outputs": [],
   "source": []
  },
  {
   "cell_type": "markdown",
   "metadata": {},
   "source": [
    "## 3. Khám phá dữ liệu sau khi phân cụm\n",
    "---\n",
    "Thực hiện phân tích dữ liệu, rút ra các thông tin có ích của tập dữ liệu sau khi đã phân cụm. Trả lời cho một số câu hỏi như:\n",
    "\n",
    "\n",
    "**1. Tôi nên đỗ xe ở khu vực nào thì sẽ có nhiều khách?**"
   ]
  },
  {
   "cell_type": "code",
   "execution_count": null,
   "metadata": {
    "scrolled": true
   },
   "outputs": [],
   "source": [
    "df_uber.head()"
   ]
  },
  {
   "cell_type": "code",
   "execution_count": null,
   "metadata": {},
   "outputs": [],
   "source": []
  },
  {
   "cell_type": "code",
   "execution_count": 9,
   "metadata": {},
   "outputs": [
    {
     "name": "stdout",
     "output_type": "stream",
     "text": [
      "1     213360\n",
      "11    205941\n",
      "12    115300\n",
      "3      87513\n",
      "10     66565\n",
      "4      53927\n",
      "6      32389\n",
      "2      24744\n",
      "0      14402\n",
      "8       7867\n",
      "13      3071\n",
      "14      2362\n",
      "7        730\n",
      "5        616\n",
      "9        488\n",
      "Name: cluster, dtype: int64\n"
     ]
    },
    {
     "data": {
      "image/png": "[encoded data removed]",
      "text/plain": [
       "<Figure size 720x288 with 1 Axes>"
      ]
     },
     "metadata": {
      "needs_background": "light"
     },
     "output_type": "display_data"
    }
   ],
   "source": [
    "## Thông kê số lượt đón khách theo từng cụm\n",
    "sum_cluster = df_uber.cluster.value_counts()\n",
    "sum_cluster = sum_cluster.sort_values(ascending=False)\n",
    "print(sum_cluster)\n",
    "\n",
    "x=list(map(str,sum_cluster.index))\n",
    "y=list(sum_cluster.values)\n",
    "\n",
    "#sns.set_style(\"darkgrid\")\n",
    "plt.figure(figsize=(10,4))\n",
    "plt.bar(x, y)\n",
    "plt.grid(True)\n",
    "plt.show()"
   ]
  },
  {
   "cell_type": "code",
   "execution_count": 10,
   "metadata": {},
   "outputs": [],
   "source": [
    "#Lấy danh sách 6 cụm có số lượng book nhiều nhất\n",
    "list_cluster_max = [1,11,12,3,10,4]"
   ]
  },
  {
   "cell_type": "code",
   "execution_count": 11,
   "metadata": {},
   "outputs": [
    {
     "name": "stdout",
     "output_type": "stream",
     "text": [
      "6 cụm này chiếm  89.55  %\n"
     ]
    }
   ],
   "source": [
    "#6 Cụm có số lượng book nhiều nhất chiếm tỷ lệ:\n",
    "rate6 = sum_cluster.iloc[:6].sum()/sum_cluster.sum()\n",
    "print('6 cụm này chiếm ', round(rate6*100,2),' %')"
   ]
  },
  {
   "cell_type": "code",
   "execution_count": 12,
   "metadata": {},
   "outputs": [
    {
     "name": "stdout",
     "output_type": "stream",
     "text": [
      "2 cụm này chiếm  50.56  %\n"
     ]
    }
   ],
   "source": [
    "#Tỷ lệ đón khách tại 2 cụm nhiều nhất (1,11)\"\"\n",
    "rate2 = sum_cluster.iloc[:2].sum()/sum_cluster.sum()\n",
    "print('2 cụm này chiếm ', round(rate2*100,2),' %')"
   ]
  },
  {
   "cell_type": "markdown",
   "metadata": {},
   "source": [
    "<img src='Pic/insight.png' width='200px' align='left'>\n",
    "\n",
    "\n",
    " **NHẬN XÉT 1: Khu vực nào có số lượng khách book nhiều nhất?**\n",
    "---\n",
    "Có 6 cụm có số lượng khách tập trung đông nhất (>50 000) là các cụm: 1, 11, 12, 3, 10, 4 chiếm 90% tổng số lượt đặt xe trong tháng  (đặc biệt là khu vực cụm 1, 11 - Chiếm 50%) . \n",
    "\n",
    "* Nếu có xe tham gia Uber chúng ta nên đỗ để đón khách ở khu vực các cụm này\n",
    "* Nếu là Công ty quản lý, điều phối tập trung xe tới các khu vực này đông hơn để đảm bảo phục vụ khách tốt hơn, giảm thời gian khách chờ, tăng hiệu quả hoạt động của phương tiện."
   ]
  },
  {
   "cell_type": "code",
   "execution_count": null,
   "metadata": {},
   "outputs": [],
   "source": []
  },
  {
   "cell_type": "markdown",
   "metadata": {},
   "source": [
    "**2. Giờ nào trong ngày có số lượng khách book xe nhiều nhất?**"
   ]
  },
  {
   "cell_type": "code",
   "execution_count": null,
   "metadata": {},
   "outputs": [],
   "source": [
    "df_uber.head()"
   ]
  },
  {
   "cell_type": "code",
   "execution_count": 13,
   "metadata": {},
   "outputs": [],
   "source": [
    "#Chuyễn dữ liệu cột datetime về dạng thời gian để xử lý chuỗi thời gian\n",
    "df_uber['datetime'] = pd.to_datetime(df_uber['datetime'])"
   ]
  },
  {
   "cell_type": "code",
   "execution_count": 14,
   "metadata": {},
   "outputs": [
    {
     "name": "stdout",
     "output_type": "stream",
     "text": [
      "<class 'pandas.core.frame.DataFrame'>\n",
      "DatetimeIndex: 829275 entries, 2014-08-01 00:00:00 to 2014-08-31 23:59:00\n",
      "Data columns (total 4 columns):\n",
      " #   Column   Non-Null Count   Dtype  \n",
      "---  ------   --------------   -----  \n",
      " 0   lat      829275 non-null  float64\n",
      " 1   lon      829275 non-null  float64\n",
      " 2   base     829275 non-null  object \n",
      " 3   cluster  829275 non-null  int32  \n",
      "dtypes: float64(2), int32(1), object(1)\n",
      "memory usage: 28.5+ MB\n"
     ]
    }
   ],
   "source": [
    "df_new = df_uber.copy()\n",
    "#Thiết lập cột Date làm index cho DataFrame\n",
    "df_new.set_index('datetime',inplace=True)\n",
    "df_new.info()"
   ]
  },
  {
   "cell_type": "code",
   "execution_count": null,
   "metadata": {},
   "outputs": [],
   "source": [
    "df_new.head(10)"
   ]
  },
  {
   "cell_type": "code",
   "execution_count": 15,
   "metadata": {},
   "outputs": [
    {
     "data": {
      "text/html": [
       "<div>\n",
       "<style scoped>\n",
       "    .dataframe tbody tr th:only-of-type {\n",
       "        vertical-align: middle;\n",
       "    }\n",
       "\n",
       "    .dataframe tbody tr th {\n",
       "        vertical-align: top;\n",
       "    }\n",
       "\n",
       "    .dataframe thead th {\n",
       "        text-align: right;\n",
       "    }\n",
       "</style>\n",
       "<table border=\"1\" class=\"dataframe\">\n",
       "  <thead>\n",
       "    <tr style=\"text-align: right;\">\n",
       "      <th></th>\n",
       "      <th>lat</th>\n",
       "      <th>lon</th>\n",
       "      <th>base</th>\n",
       "      <th>cluster</th>\n",
       "    </tr>\n",
       "  </thead>\n",
       "  <tbody>\n",
       "    <tr>\n",
       "      <th>00:00:00</th>\n",
       "      <td>21451</td>\n",
       "      <td>21451</td>\n",
       "      <td>21451</td>\n",
       "      <td>21451</td>\n",
       "    </tr>\n",
       "    <tr>\n",
       "      <th>01:00:00</th>\n",
       "      <td>14471</td>\n",
       "      <td>14471</td>\n",
       "      <td>14471</td>\n",
       "      <td>14471</td>\n",
       "    </tr>\n",
       "    <tr>\n",
       "      <th>02:00:00</th>\n",
       "      <td>10105</td>\n",
       "      <td>10105</td>\n",
       "      <td>10105</td>\n",
       "      <td>10105</td>\n",
       "    </tr>\n",
       "    <tr>\n",
       "      <th>03:00:00</th>\n",
       "      <td>10376</td>\n",
       "      <td>10376</td>\n",
       "      <td>10376</td>\n",
       "      <td>10376</td>\n",
       "    </tr>\n",
       "    <tr>\n",
       "      <th>04:00:00</th>\n",
       "      <td>11774</td>\n",
       "      <td>11774</td>\n",
       "      <td>11774</td>\n",
       "      <td>11774</td>\n",
       "    </tr>\n",
       "    <tr>\n",
       "      <th>05:00:00</th>\n",
       "      <td>16525</td>\n",
       "      <td>16525</td>\n",
       "      <td>16525</td>\n",
       "      <td>16525</td>\n",
       "    </tr>\n",
       "    <tr>\n",
       "      <th>06:00:00</th>\n",
       "      <td>24907</td>\n",
       "      <td>24907</td>\n",
       "      <td>24907</td>\n",
       "      <td>24907</td>\n",
       "    </tr>\n",
       "    <tr>\n",
       "      <th>07:00:00</th>\n",
       "      <td>34064</td>\n",
       "      <td>34064</td>\n",
       "      <td>34064</td>\n",
       "      <td>34064</td>\n",
       "    </tr>\n",
       "    <tr>\n",
       "      <th>08:00:00</th>\n",
       "      <td>34566</td>\n",
       "      <td>34566</td>\n",
       "      <td>34566</td>\n",
       "      <td>34566</td>\n",
       "    </tr>\n",
       "    <tr>\n",
       "      <th>09:00:00</th>\n",
       "      <td>30195</td>\n",
       "      <td>30195</td>\n",
       "      <td>30195</td>\n",
       "      <td>30195</td>\n",
       "    </tr>\n",
       "    <tr>\n",
       "      <th>10:00:00</th>\n",
       "      <td>30706</td>\n",
       "      <td>30706</td>\n",
       "      <td>30706</td>\n",
       "      <td>30706</td>\n",
       "    </tr>\n",
       "    <tr>\n",
       "      <th>11:00:00</th>\n",
       "      <td>31778</td>\n",
       "      <td>31778</td>\n",
       "      <td>31778</td>\n",
       "      <td>31778</td>\n",
       "    </tr>\n",
       "    <tr>\n",
       "      <th>12:00:00</th>\n",
       "      <td>32106</td>\n",
       "      <td>32106</td>\n",
       "      <td>32106</td>\n",
       "      <td>32106</td>\n",
       "    </tr>\n",
       "    <tr>\n",
       "      <th>13:00:00</th>\n",
       "      <td>35764</td>\n",
       "      <td>35764</td>\n",
       "      <td>35764</td>\n",
       "      <td>35764</td>\n",
       "    </tr>\n",
       "    <tr>\n",
       "      <th>14:00:00</th>\n",
       "      <td>40644</td>\n",
       "      <td>40644</td>\n",
       "      <td>40644</td>\n",
       "      <td>40644</td>\n",
       "    </tr>\n",
       "    <tr>\n",
       "      <th>15:00:00</th>\n",
       "      <td>48197</td>\n",
       "      <td>48197</td>\n",
       "      <td>48197</td>\n",
       "      <td>48197</td>\n",
       "    </tr>\n",
       "    <tr>\n",
       "      <th>16:00:00</th>\n",
       "      <td>53481</td>\n",
       "      <td>53481</td>\n",
       "      <td>53481</td>\n",
       "      <td>53481</td>\n",
       "    </tr>\n",
       "    <tr>\n",
       "      <th>17:00:00</th>\n",
       "      <td>57122</td>\n",
       "      <td>57122</td>\n",
       "      <td>57122</td>\n",
       "      <td>57122</td>\n",
       "    </tr>\n",
       "    <tr>\n",
       "      <th>18:00:00</th>\n",
       "      <td>55390</td>\n",
       "      <td>55390</td>\n",
       "      <td>55390</td>\n",
       "      <td>55390</td>\n",
       "    </tr>\n",
       "    <tr>\n",
       "      <th>19:00:00</th>\n",
       "      <td>53008</td>\n",
       "      <td>53008</td>\n",
       "      <td>53008</td>\n",
       "      <td>53008</td>\n",
       "    </tr>\n",
       "    <tr>\n",
       "      <th>20:00:00</th>\n",
       "      <td>51674</td>\n",
       "      <td>51674</td>\n",
       "      <td>51674</td>\n",
       "      <td>51674</td>\n",
       "    </tr>\n",
       "    <tr>\n",
       "      <th>21:00:00</th>\n",
       "      <td>51354</td>\n",
       "      <td>51354</td>\n",
       "      <td>51354</td>\n",
       "      <td>51354</td>\n",
       "    </tr>\n",
       "    <tr>\n",
       "      <th>22:00:00</th>\n",
       "      <td>46008</td>\n",
       "      <td>46008</td>\n",
       "      <td>46008</td>\n",
       "      <td>46008</td>\n",
       "    </tr>\n",
       "    <tr>\n",
       "      <th>23:00:00</th>\n",
       "      <td>33609</td>\n",
       "      <td>33609</td>\n",
       "      <td>33609</td>\n",
       "      <td>33609</td>\n",
       "    </tr>\n",
       "  </tbody>\n",
       "</table>\n",
       "</div>"
      ],
      "text/plain": [
       "            lat    lon   base  cluster\n",
       "00:00:00  21451  21451  21451    21451\n",
       "01:00:00  14471  14471  14471    14471\n",
       "02:00:00  10105  10105  10105    10105\n",
       "03:00:00  10376  10376  10376    10376\n",
       "04:00:00  11774  11774  11774    11774\n",
       "05:00:00  16525  16525  16525    16525\n",
       "06:00:00  24907  24907  24907    24907\n",
       "07:00:00  34064  34064  34064    34064\n",
       "08:00:00  34566  34566  34566    34566\n",
       "09:00:00  30195  30195  30195    30195\n",
       "10:00:00  30706  30706  30706    30706\n",
       "11:00:00  31778  31778  31778    31778\n",
       "12:00:00  32106  32106  32106    32106\n",
       "13:00:00  35764  35764  35764    35764\n",
       "14:00:00  40644  40644  40644    40644\n",
       "15:00:00  48197  48197  48197    48197\n",
       "16:00:00  53481  53481  53481    53481\n",
       "17:00:00  57122  57122  57122    57122\n",
       "18:00:00  55390  55390  55390    55390\n",
       "19:00:00  53008  53008  53008    53008\n",
       "20:00:00  51674  51674  51674    51674\n",
       "21:00:00  51354  51354  51354    51354\n",
       "22:00:00  46008  46008  46008    46008\n",
       "23:00:00  33609  33609  33609    33609"
      ]
     },
     "execution_count": 15,
     "metadata": {},
     "output_type": "execute_result"
    }
   ],
   "source": [
    "#Tổng hợp số liệu chuỗi thời gian về theo giờ. \n",
    "df_hours = df_new.resample('h').count() \n",
    "\n",
    "#Tính tổng số các lượt book theo từng giờ\n",
    "by_time = df_hours.groupby(df_hours.index.time).sum()\n",
    "by_time"
   ]
  },
  {
   "cell_type": "code",
   "execution_count": 16,
   "metadata": {},
   "outputs": [
    {
     "data": {
      "image/png": "[encoded data removed]",
      "text/plain": [
       "<Figure size 720x288 with 1 Axes>"
      ]
     },
     "metadata": {
      "needs_background": "light"
     },
     "output_type": "display_data"
    }
   ],
   "source": [
    "#Trực quan hóa bảng tổng hợp kết quả thống kê theo giờ lên đồ thị:\n",
    "y1 = by_time.iloc[:,0].values\n",
    "x1 = list(map(str,np.arange(0,24)))\n",
    "plt.figure(figsize=(10,4))\n",
    "plt.bar(x1, y1)\n",
    "plt.grid(True)\n",
    "plt.show()"
   ]
  },
  {
   "cell_type": "markdown",
   "metadata": {},
   "source": [
    "<img src='Pic/insight.png' width='200px' align='left'>\n",
    "\n",
    "\n",
    "\n",
    "**NHẬN XÉT 2: Giờ nào trong ngày nhiều người book nhất?**\n",
    "---\n",
    "Khách chủ yếu book xe vào khung giờ chiều và tối từ 14h --> 22h (lượng book>40 000); \n",
    "Buổi sáng khách book cao hơn ở thời điểm 7, 8h. Thời gian có lượng book thấp nhất trong ngày tập trung vào sáng sớm từ 1h --> 5h AM"
   ]
  },
  {
   "cell_type": "markdown",
   "metadata": {},
   "source": [
    "**3. Trong 6 cụm có mật độ đặt xe cao nhất, giờ nào, cụm nào book cao hơn?**"
   ]
  },
  {
   "cell_type": "code",
   "execution_count": null,
   "metadata": {},
   "outputs": [],
   "source": [
    "df_uber.info()"
   ]
  },
  {
   "cell_type": "code",
   "execution_count": 17,
   "metadata": {},
   "outputs": [
    {
     "data": {
      "text/html": [
       "<div>\n",
       "<style scoped>\n",
       "    .dataframe tbody tr th:only-of-type {\n",
       "        vertical-align: middle;\n",
       "    }\n",
       "\n",
       "    .dataframe tbody tr th {\n",
       "        vertical-align: top;\n",
       "    }\n",
       "\n",
       "    .dataframe thead th {\n",
       "        text-align: right;\n",
       "    }\n",
       "</style>\n",
       "<table border=\"1\" class=\"dataframe\">\n",
       "  <thead>\n",
       "    <tr style=\"text-align: right;\">\n",
       "      <th></th>\n",
       "      <th>datetime</th>\n",
       "      <th>lat</th>\n",
       "      <th>lon</th>\n",
       "      <th>base</th>\n",
       "      <th>cluster</th>\n",
       "      <th>hour</th>\n",
       "    </tr>\n",
       "  </thead>\n",
       "  <tbody>\n",
       "    <tr>\n",
       "      <th>0</th>\n",
       "      <td>2014-08-01</td>\n",
       "      <td>40.7290</td>\n",
       "      <td>-73.9422</td>\n",
       "      <td>B02598</td>\n",
       "      <td>10</td>\n",
       "      <td>0</td>\n",
       "    </tr>\n",
       "    <tr>\n",
       "      <th>1</th>\n",
       "      <td>2014-08-01</td>\n",
       "      <td>40.7476</td>\n",
       "      <td>-73.9871</td>\n",
       "      <td>B02598</td>\n",
       "      <td>11</td>\n",
       "      <td>0</td>\n",
       "    </tr>\n",
       "    <tr>\n",
       "      <th>2</th>\n",
       "      <td>2014-08-01</td>\n",
       "      <td>40.7424</td>\n",
       "      <td>-74.0044</td>\n",
       "      <td>B02598</td>\n",
       "      <td>1</td>\n",
       "      <td>0</td>\n",
       "    </tr>\n",
       "    <tr>\n",
       "      <th>3</th>\n",
       "      <td>2014-08-01</td>\n",
       "      <td>40.7510</td>\n",
       "      <td>-73.9869</td>\n",
       "      <td>B02598</td>\n",
       "      <td>11</td>\n",
       "      <td>0</td>\n",
       "    </tr>\n",
       "    <tr>\n",
       "      <th>4</th>\n",
       "      <td>2014-08-01</td>\n",
       "      <td>40.7406</td>\n",
       "      <td>-73.9902</td>\n",
       "      <td>B02598</td>\n",
       "      <td>1</td>\n",
       "      <td>0</td>\n",
       "    </tr>\n",
       "  </tbody>\n",
       "</table>\n",
       "</div>"
      ],
      "text/plain": [
       "    datetime      lat      lon    base  cluster  hour\n",
       "0 2014-08-01  40.7290 -73.9422  B02598       10     0\n",
       "1 2014-08-01  40.7476 -73.9871  B02598       11     0\n",
       "2 2014-08-01  40.7424 -74.0044  B02598        1     0\n",
       "3 2014-08-01  40.7510 -73.9869  B02598       11     0\n",
       "4 2014-08-01  40.7406 -73.9902  B02598        1     0"
      ]
     },
     "execution_count": 17,
     "metadata": {},
     "output_type": "execute_result"
    }
   ],
   "source": [
    "import datetime as dt\n",
    "#Chỉ lấy dữ liệu của các cụm có số lượng book nhiều nhất (theo danh sách list_cluster_max)\n",
    "df_new2 = df_uber.loc[df_uber.cluster.isin(list_cluster_max)]\n",
    "\n",
    "#Tách dữ liệu giờ trong chuỗi thời gian thành cột mới.\n",
    "df_new2['hour'] = df_new2[\"datetime\"].dt.hour\n",
    "df_new2.head()"
   ]
  },
  {
   "cell_type": "code",
   "execution_count": 18,
   "metadata": {},
   "outputs": [
    {
     "data": {
      "text/plain": [
       "1     213360\n",
       "11    205941\n",
       "12    115300\n",
       "3      87513\n",
       "10     66565\n",
       "4      53927\n",
       "Name: cluster, dtype: int64"
      ]
     },
     "execution_count": 18,
     "metadata": {},
     "output_type": "execute_result"
    }
   ],
   "source": [
    "#Chỉ lấy dữ liệu của 6 cụm cao nhất\n",
    "df_new2['cluster'].value_counts()"
   ]
  },
  {
   "cell_type": "code",
   "execution_count": 19,
   "metadata": {},
   "outputs": [
    {
     "data": {
      "text/html": [
       "<div>\n",
       "<style scoped>\n",
       "    .dataframe tbody tr th:only-of-type {\n",
       "        vertical-align: middle;\n",
       "    }\n",
       "\n",
       "    .dataframe tbody tr th {\n",
       "        vertical-align: top;\n",
       "    }\n",
       "\n",
       "    .dataframe thead th {\n",
       "        text-align: right;\n",
       "    }\n",
       "</style>\n",
       "<table border=\"1\" class=\"dataframe\">\n",
       "  <thead>\n",
       "    <tr style=\"text-align: right;\">\n",
       "      <th></th>\n",
       "      <th></th>\n",
       "      <th>base</th>\n",
       "    </tr>\n",
       "    <tr>\n",
       "      <th>cluster</th>\n",
       "      <th>hour</th>\n",
       "      <th></th>\n",
       "    </tr>\n",
       "  </thead>\n",
       "  <tbody>\n",
       "    <tr>\n",
       "      <th rowspan=\"5\" valign=\"top\">1</th>\n",
       "      <th>0</th>\n",
       "      <td>7031</td>\n",
       "    </tr>\n",
       "    <tr>\n",
       "      <th>1</th>\n",
       "      <td>5155</td>\n",
       "    </tr>\n",
       "    <tr>\n",
       "      <th>2</th>\n",
       "      <td>3559</td>\n",
       "    </tr>\n",
       "    <tr>\n",
       "      <th>3</th>\n",
       "      <td>3010</td>\n",
       "    </tr>\n",
       "    <tr>\n",
       "      <th>4</th>\n",
       "      <td>2716</td>\n",
       "    </tr>\n",
       "    <tr>\n",
       "      <th>...</th>\n",
       "      <th>...</th>\n",
       "      <td>...</td>\n",
       "    </tr>\n",
       "    <tr>\n",
       "      <th rowspan=\"5\" valign=\"top\">12</th>\n",
       "      <th>19</th>\n",
       "      <td>8103</td>\n",
       "    </tr>\n",
       "    <tr>\n",
       "      <th>20</th>\n",
       "      <td>7511</td>\n",
       "    </tr>\n",
       "    <tr>\n",
       "      <th>21</th>\n",
       "      <td>7317</td>\n",
       "    </tr>\n",
       "    <tr>\n",
       "      <th>22</th>\n",
       "      <td>6295</td>\n",
       "    </tr>\n",
       "    <tr>\n",
       "      <th>23</th>\n",
       "      <td>4724</td>\n",
       "    </tr>\n",
       "  </tbody>\n",
       "</table>\n",
       "<p>144 rows × 1 columns</p>\n",
       "</div>"
      ],
      "text/plain": [
       "              base\n",
       "cluster hour      \n",
       "1       0     7031\n",
       "        1     5155\n",
       "        2     3559\n",
       "        3     3010\n",
       "        4     2716\n",
       "...            ...\n",
       "12      19    8103\n",
       "        20    7511\n",
       "        21    7317\n",
       "        22    6295\n",
       "        23    4724\n",
       "\n",
       "[144 rows x 1 columns]"
      ]
     },
     "execution_count": 19,
     "metadata": {},
     "output_type": "execute_result"
    }
   ],
   "source": [
    "#Thực hiện nhóm dữ liệu theo cụm, sau đó nhóm theo giờ\n",
    "#Đếm sô lượt book theo từng cụm, và theo từng giờ trong ngày.\n",
    "df_cluster_hour = df_new2[[\"base\",\"cluster\",\"hour\"]].groupby([\"cluster\",\"hour\"]).count()\n",
    "df_cluster_hour"
   ]
  },
  {
   "cell_type": "code",
   "execution_count": 20,
   "metadata": {},
   "outputs": [
    {
     "data": {
      "text/html": [
       "<div>\n",
       "<style scoped>\n",
       "    .dataframe tbody tr th:only-of-type {\n",
       "        vertical-align: middle;\n",
       "    }\n",
       "\n",
       "    .dataframe tbody tr th {\n",
       "        vertical-align: top;\n",
       "    }\n",
       "\n",
       "    .dataframe thead th {\n",
       "        text-align: right;\n",
       "    }\n",
       "</style>\n",
       "<table border=\"1\" class=\"dataframe\">\n",
       "  <thead>\n",
       "    <tr style=\"text-align: right;\">\n",
       "      <th></th>\n",
       "      <th>cluster</th>\n",
       "      <th>hour</th>\n",
       "      <th>base</th>\n",
       "    </tr>\n",
       "  </thead>\n",
       "  <tbody>\n",
       "    <tr>\n",
       "      <th>0</th>\n",
       "      <td>1</td>\n",
       "      <td>0</td>\n",
       "      <td>7031</td>\n",
       "    </tr>\n",
       "    <tr>\n",
       "      <th>1</th>\n",
       "      <td>1</td>\n",
       "      <td>1</td>\n",
       "      <td>5155</td>\n",
       "    </tr>\n",
       "    <tr>\n",
       "      <th>2</th>\n",
       "      <td>1</td>\n",
       "      <td>2</td>\n",
       "      <td>3559</td>\n",
       "    </tr>\n",
       "    <tr>\n",
       "      <th>3</th>\n",
       "      <td>1</td>\n",
       "      <td>3</td>\n",
       "      <td>3010</td>\n",
       "    </tr>\n",
       "    <tr>\n",
       "      <th>4</th>\n",
       "      <td>1</td>\n",
       "      <td>4</td>\n",
       "      <td>2716</td>\n",
       "    </tr>\n",
       "    <tr>\n",
       "      <th>5</th>\n",
       "      <td>1</td>\n",
       "      <td>5</td>\n",
       "      <td>3644</td>\n",
       "    </tr>\n",
       "    <tr>\n",
       "      <th>6</th>\n",
       "      <td>1</td>\n",
       "      <td>6</td>\n",
       "      <td>6285</td>\n",
       "    </tr>\n",
       "    <tr>\n",
       "      <th>7</th>\n",
       "      <td>1</td>\n",
       "      <td>7</td>\n",
       "      <td>8982</td>\n",
       "    </tr>\n",
       "    <tr>\n",
       "      <th>8</th>\n",
       "      <td>1</td>\n",
       "      <td>8</td>\n",
       "      <td>9492</td>\n",
       "    </tr>\n",
       "    <tr>\n",
       "      <th>9</th>\n",
       "      <td>1</td>\n",
       "      <td>9</td>\n",
       "      <td>6932</td>\n",
       "    </tr>\n",
       "    <tr>\n",
       "      <th>10</th>\n",
       "      <td>1</td>\n",
       "      <td>10</td>\n",
       "      <td>6785</td>\n",
       "    </tr>\n",
       "    <tr>\n",
       "      <th>11</th>\n",
       "      <td>1</td>\n",
       "      <td>11</td>\n",
       "      <td>7150</td>\n",
       "    </tr>\n",
       "    <tr>\n",
       "      <th>12</th>\n",
       "      <td>1</td>\n",
       "      <td>12</td>\n",
       "      <td>7503</td>\n",
       "    </tr>\n",
       "    <tr>\n",
       "      <th>13</th>\n",
       "      <td>1</td>\n",
       "      <td>13</td>\n",
       "      <td>8275</td>\n",
       "    </tr>\n",
       "    <tr>\n",
       "      <th>14</th>\n",
       "      <td>1</td>\n",
       "      <td>14</td>\n",
       "      <td>9508</td>\n",
       "    </tr>\n",
       "    <tr>\n",
       "      <th>15</th>\n",
       "      <td>1</td>\n",
       "      <td>15</td>\n",
       "      <td>11716</td>\n",
       "    </tr>\n",
       "    <tr>\n",
       "      <th>16</th>\n",
       "      <td>1</td>\n",
       "      <td>16</td>\n",
       "      <td>12819</td>\n",
       "    </tr>\n",
       "    <tr>\n",
       "      <th>17</th>\n",
       "      <td>1</td>\n",
       "      <td>17</td>\n",
       "      <td>13910</td>\n",
       "    </tr>\n",
       "    <tr>\n",
       "      <th>18</th>\n",
       "      <td>1</td>\n",
       "      <td>18</td>\n",
       "      <td>13884</td>\n",
       "    </tr>\n",
       "    <tr>\n",
       "      <th>19</th>\n",
       "      <td>1</td>\n",
       "      <td>19</td>\n",
       "      <td>13273</td>\n",
       "    </tr>\n",
       "    <tr>\n",
       "      <th>20</th>\n",
       "      <td>1</td>\n",
       "      <td>20</td>\n",
       "      <td>13475</td>\n",
       "    </tr>\n",
       "    <tr>\n",
       "      <th>21</th>\n",
       "      <td>1</td>\n",
       "      <td>21</td>\n",
       "      <td>14177</td>\n",
       "    </tr>\n",
       "    <tr>\n",
       "      <th>22</th>\n",
       "      <td>1</td>\n",
       "      <td>22</td>\n",
       "      <td>13605</td>\n",
       "    </tr>\n",
       "    <tr>\n",
       "      <th>23</th>\n",
       "      <td>1</td>\n",
       "      <td>23</td>\n",
       "      <td>10474</td>\n",
       "    </tr>\n",
       "  </tbody>\n",
       "</table>\n",
       "</div>"
      ],
      "text/plain": [
       "    cluster  hour   base\n",
       "0         1     0   7031\n",
       "1         1     1   5155\n",
       "2         1     2   3559\n",
       "3         1     3   3010\n",
       "4         1     4   2716\n",
       "5         1     5   3644\n",
       "6         1     6   6285\n",
       "7         1     7   8982\n",
       "8         1     8   9492\n",
       "9         1     9   6932\n",
       "10        1    10   6785\n",
       "11        1    11   7150\n",
       "12        1    12   7503\n",
       "13        1    13   8275\n",
       "14        1    14   9508\n",
       "15        1    15  11716\n",
       "16        1    16  12819\n",
       "17        1    17  13910\n",
       "18        1    18  13884\n",
       "19        1    19  13273\n",
       "20        1    20  13475\n",
       "21        1    21  14177\n",
       "22        1    22  13605\n",
       "23        1    23  10474"
      ]
     },
     "execution_count": 20,
     "metadata": {},
     "output_type": "execute_result"
    }
   ],
   "source": [
    "df_cluster_hour.reset_index(inplace=True)\n",
    "df_cluster_hour.head(24)"
   ]
  },
  {
   "cell_type": "code",
   "execution_count": 21,
   "metadata": {},
   "outputs": [
    {
     "data": {
      "text/html": [
       "<div>\n",
       "<style scoped>\n",
       "    .dataframe tbody tr th:only-of-type {\n",
       "        vertical-align: middle;\n",
       "    }\n",
       "\n",
       "    .dataframe tbody tr th {\n",
       "        vertical-align: top;\n",
       "    }\n",
       "\n",
       "    .dataframe thead th {\n",
       "        text-align: right;\n",
       "    }\n",
       "</style>\n",
       "<table border=\"1\" class=\"dataframe\">\n",
       "  <thead>\n",
       "    <tr style=\"text-align: right;\">\n",
       "      <th>cluster</th>\n",
       "      <th>hour</th>\n",
       "      <th>1</th>\n",
       "      <th>3</th>\n",
       "      <th>4</th>\n",
       "      <th>10</th>\n",
       "      <th>11</th>\n",
       "      <th>12</th>\n",
       "    </tr>\n",
       "  </thead>\n",
       "  <tbody>\n",
       "    <tr>\n",
       "      <th>0</th>\n",
       "      <td>0</td>\n",
       "      <td>7031</td>\n",
       "      <td>1541</td>\n",
       "      <td>1668</td>\n",
       "      <td>2845</td>\n",
       "      <td>3725</td>\n",
       "      <td>2926</td>\n",
       "    </tr>\n",
       "    <tr>\n",
       "      <th>1</th>\n",
       "      <td>1</td>\n",
       "      <td>5155</td>\n",
       "      <td>962</td>\n",
       "      <td>988</td>\n",
       "      <td>2087</td>\n",
       "      <td>2380</td>\n",
       "      <td>1952</td>\n",
       "    </tr>\n",
       "    <tr>\n",
       "      <th>2</th>\n",
       "      <td>2</td>\n",
       "      <td>3559</td>\n",
       "      <td>637</td>\n",
       "      <td>699</td>\n",
       "      <td>1606</td>\n",
       "      <td>1641</td>\n",
       "      <td>1304</td>\n",
       "    </tr>\n",
       "    <tr>\n",
       "      <th>3</th>\n",
       "      <td>3</td>\n",
       "      <td>3010</td>\n",
       "      <td>1143</td>\n",
       "      <td>853</td>\n",
       "      <td>1346</td>\n",
       "      <td>1962</td>\n",
       "      <td>1304</td>\n",
       "    </tr>\n",
       "    <tr>\n",
       "      <th>4</th>\n",
       "      <td>4</td>\n",
       "      <td>2716</td>\n",
       "      <td>1501</td>\n",
       "      <td>992</td>\n",
       "      <td>1426</td>\n",
       "      <td>1998</td>\n",
       "      <td>1508</td>\n",
       "    </tr>\n",
       "    <tr>\n",
       "      <th>5</th>\n",
       "      <td>5</td>\n",
       "      <td>3644</td>\n",
       "      <td>2395</td>\n",
       "      <td>1522</td>\n",
       "      <td>1915</td>\n",
       "      <td>2844</td>\n",
       "      <td>1922</td>\n",
       "    </tr>\n",
       "    <tr>\n",
       "      <th>6</th>\n",
       "      <td>6</td>\n",
       "      <td>6285</td>\n",
       "      <td>4175</td>\n",
       "      <td>1935</td>\n",
       "      <td>2316</td>\n",
       "      <td>4634</td>\n",
       "      <td>2784</td>\n",
       "    </tr>\n",
       "    <tr>\n",
       "      <th>7</th>\n",
       "      <td>7</td>\n",
       "      <td>8982</td>\n",
       "      <td>6327</td>\n",
       "      <td>2316</td>\n",
       "      <td>2779</td>\n",
       "      <td>7275</td>\n",
       "      <td>3617</td>\n",
       "    </tr>\n",
       "    <tr>\n",
       "      <th>8</th>\n",
       "      <td>8</td>\n",
       "      <td>9492</td>\n",
       "      <td>5771</td>\n",
       "      <td>2343</td>\n",
       "      <td>2569</td>\n",
       "      <td>7769</td>\n",
       "      <td>3910</td>\n",
       "    </tr>\n",
       "    <tr>\n",
       "      <th>9</th>\n",
       "      <td>9</td>\n",
       "      <td>6932</td>\n",
       "      <td>4264</td>\n",
       "      <td>2167</td>\n",
       "      <td>2716</td>\n",
       "      <td>7131</td>\n",
       "      <td>3832</td>\n",
       "    </tr>\n",
       "  </tbody>\n",
       "</table>\n",
       "</div>"
      ],
      "text/plain": [
       "cluster  hour     1     3     4    10    11    12\n",
       "0           0  7031  1541  1668  2845  3725  2926\n",
       "1           1  5155   962   988  2087  2380  1952\n",
       "2           2  3559   637   699  1606  1641  1304\n",
       "3           3  3010  1143   853  1346  1962  1304\n",
       "4           4  2716  1501   992  1426  1998  1508\n",
       "5           5  3644  2395  1522  1915  2844  1922\n",
       "6           6  6285  4175  1935  2316  4634  2784\n",
       "7           7  8982  6327  2316  2779  7275  3617\n",
       "8           8  9492  5771  2343  2569  7769  3910\n",
       "9           9  6932  4264  2167  2716  7131  3832"
      ]
     },
     "execution_count": 21,
     "metadata": {},
     "output_type": "execute_result"
    }
   ],
   "source": [
    "#convert dữ liệu từ row --> columns để trực quan hóa\n",
    "df_cluster_hour = df_cluster_hour.pivot(index='hour',columns='cluster',values='base')\n",
    "df_cluster_hour.reset_index(inplace=True)\n",
    "df_cluster_hour.head(10)"
   ]
  },
  {
   "cell_type": "code",
   "execution_count": 22,
   "metadata": {},
   "outputs": [
    {
     "data": {
      "image/png": "[encoded data removed]",
      "text/plain": [
       "<Figure size 1440x576 with 1 Axes>"
      ]
     },
     "metadata": {
      "needs_background": "light"
     },
     "output_type": "display_data"
    }
   ],
   "source": [
    "#Trực quan hóa dữ liệu trong khoảng thời gian từ 0 --> 11h\n",
    "df_cluster_hour.iloc[:12,:].plot(x='hour', y=list_cluster_max, kind=\"bar\",\n",
    "         figsize=(20,8),\n",
    "         color=['red','green','blue','cyan','yellow','black'])\n",
    "plt.grid(True)\n",
    "plt.xlabel(\"Hours of day\")\n",
    "plt.ylabel(\"Count of trips\")\n",
    "plt.show()"
   ]
  },
  {
   "cell_type": "code",
   "execution_count": 23,
   "metadata": {},
   "outputs": [
    {
     "data": {
      "image/png": "[encoded data removed]",
      "text/plain": [
       "<Figure size 1440x576 with 1 Axes>"
      ]
     },
     "metadata": {
      "needs_background": "light"
     },
     "output_type": "display_data"
    }
   ],
   "source": [
    "#Trực quan hóa dữ liệu trong khoảng thời gian từ 12 --> 23h\n",
    "df_cluster_hour.iloc[12:,:].plot(x='hour', y=list_cluster_max, kind=\"bar\",\n",
    "         figsize=(20,8),\n",
    "         color=['red','green','blue','cyan','yellow','black'])\n",
    "plt.grid(True)\n",
    "plt.xlabel(\"Hours of day\")\n",
    "plt.ylabel(\"Count of trips\")\n",
    "plt.show()"
   ]
  },
  {
   "cell_type": "code",
   "execution_count": 24,
   "metadata": {},
   "outputs": [
    {
     "data": {
      "image/png": "[encoded data removed]",
      "text/plain": [
       "<Figure size 1440x576 with 1 Axes>"
      ]
     },
     "metadata": {
      "needs_background": "light"
     },
     "output_type": "display_data"
    }
   ],
   "source": [
    "#Trực quan hóa dữ liệu trong khoảng thời gian cao điểm buổi sáng 6,7,8,9\n",
    "df_cluster_hour.iloc[6:10,:].plot(x='hour', y=list_cluster_max, kind=\"bar\",\n",
    "         figsize=(20,8),\n",
    "         color=['red','green','blue','cyan','yellow','black'])\n",
    "plt.grid(True)\n",
    "plt.xlabel(\"Hours of day\")\n",
    "plt.ylabel(\"Count of trips\")\n",
    "plt.show()"
   ]
  },
  {
   "cell_type": "code",
   "execution_count": 25,
   "metadata": {},
   "outputs": [
    {
     "data": {
      "image/png": "[encoded data removed]",
      "text/plain": [
       "<Figure size 1440x576 with 1 Axes>"
      ]
     },
     "metadata": {
      "needs_background": "light"
     },
     "output_type": "display_data"
    }
   ],
   "source": [
    "#Trực quan hóa dữ liệu trong khoảng thời gian cao điểm buổi chiều 15, 16, 17, 18, 19\n",
    "df_cluster_hour.iloc[15:19,:].plot(x='hour', y=list_cluster_max, kind=\"bar\",\n",
    "         figsize=(20,8),\n",
    "         color=['red','green','blue','cyan','yellow','black'])\n",
    "plt.grid(True)\n",
    "plt.xlabel(\"Hours of day\")\n",
    "plt.ylabel(\"Count of trips\")\n",
    "plt.show()"
   ]
  },
  {
   "cell_type": "code",
   "execution_count": 26,
   "metadata": {},
   "outputs": [
    {
     "data": {
      "image/png": "[encoded data removed]",
      "text/plain": [
       "<Figure size 1440x576 with 1 Axes>"
      ]
     },
     "metadata": {
      "needs_background": "light"
     },
     "output_type": "display_data"
    }
   ],
   "source": [
    "#Trực quan hóa dữ liệu trong khoảng thời gian cao điểm buổi tối 20, 21, 22, 23\n",
    "df_cluster_hour.iloc[19:24,:].plot(x='hour', y=list_cluster_max, kind=\"bar\",\n",
    "         figsize=(20,8),\n",
    "         color=['red','green','blue','cyan','yellow','black'])\n",
    "plt.grid(True)\n",
    "plt.xlabel(\"Hours of day\")\n",
    "plt.ylabel(\"Count of trips\")\n",
    "plt.show()"
   ]
  },
  {
   "cell_type": "markdown",
   "metadata": {},
   "source": [
    "<img src='Pic/insight.png' width='200px' align='left'>\n",
    "\n",
    "\n",
    "\n",
    "**NHẬN XÉT 3: Giờ nào, cụm nào nhiều người book nhất?**\n",
    "---\n",
    "* Trong khoảng từ 0h-8h sáng và từ 20h - 23h khách book cao nhất ở khu vực cụm 1\n",
    "* Từ 9h - 19h, khách lại book cao nhất ở khu vực cụm 11\n",
    "\n",
    "Dựa vào số lượng book theo từng giờ, từng cụm để có thể tối ưu việc đỗ xe, điều chuyển và phân phối xe hợp lý"
   ]
  },
  {
   "cell_type": "markdown",
   "metadata": {},
   "source": [
    "<img src='Pic/action.jpg'>"
   ]
  },
  {
   "cell_type": "code",
   "execution_count": null,
   "metadata": {},
   "outputs": [],
   "source": []
  }
 ],
 "metadata": {
  "kernelspec": {
   "display_name": "Python 3 (ipykernel)",
   "language": "python",
   "name": "python3"
  },
  "language_info": {
   "codemirror_mode": {
    "name": "ipython",
    "version": 3
   },
   "file_extension": ".py",
   "mimetype": "text/x-python",
   "name": "python",
   "nbconvert_exporter": "python",
   "pygments_lexer": "ipython3",
   "version": "3.9.7"
  }
 },
 "nbformat": 4,
 "nbformat_minor": 2
}
