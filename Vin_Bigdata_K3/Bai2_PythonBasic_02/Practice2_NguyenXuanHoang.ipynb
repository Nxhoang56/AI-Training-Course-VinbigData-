{
 "cells": [
  {
   "cell_type": "markdown",
   "metadata": {},
   "source": [
    "## <img src ='Pic\\logo.jpg' width='700px'>\n",
    "\n",
    "\n",
    "<div align=\"center\">\n",
    "\n",
    "# KHÓA HỌC: LẬP TRÌNH PYTHON CƠ BẢN\n",
    "\n",
    "</div>\n",
    "\n",
    "\n",
    "---\n",
    "\n",
    "Practice2: Lập trình Python cơ bản\n",
    "---\n",
    "1. Họ tên học viên: Nguyễn Xuân Hoàng\n",
    "2. Email: v.hoangnx8@vinbigdata.org"
   ]
  },
  {
   "cell_type": "markdown",
   "metadata": {},
   "source": [
    "## Bài 2.1: Xác định nguyên âm|phụ âm\n",
    "---\n",
    "Nhập vào một ký tự chữ cái bất kỳ(không phân biệt chữ hoa-chữ thường), cho biết nó là nguyên âm hay phụ âm trong tiếng anh. \n",
    "* 5 chữ cái nguyên âm: **U, E, O, A, I**\n",
    "* 21 Chữ cái phụ âm: **B, C, D, F, G, H, J K, L, M, N, P, Q, R, S, T, V, W, X, Y, Z**\n"
   ]
  },
  {
   "cell_type": "code",
   "execution_count": 47,
   "metadata": {},
   "outputs": [
    {
     "name": "stdout",
     "output_type": "stream",
     "text": [
      "Nhap nguyen am: a\n",
      "Nguyen am\n"
     ]
    }
   ],
   "source": [
    "#{HỌC VIÊN VIẾT CODE Ở ĐÂY}\n",
    "print('Nguyen am') if input('Nhap nguyen am: ').upper() in 'UEOAI' else print('Phu am')\n",
    "\n"
   ]
  },
  {
   "cell_type": "markdown",
   "metadata": {},
   "source": [
    "## Bài 2.2: Tính chỉ số BMI\n",
    "---\n",
    "Nhập vào chiều cao (m) và cân nặng (kg) rồi tính chỉ số BMI của người đó theo công thức:\n",
    "\n",
    "* BMI = Weight(Kg) / Height(m) ^2 \n",
    "\n",
    "Dựa vào chỉ số BMI tính được đưa ra nhận xét về cơ thể của người đó theo các mức:\n",
    "* Underweight: BMI<18.5\n",
    "* NormalWeight: 18.5 <= BMI <= 24.9\n",
    "* Overweight: 25 <= BMI <=29.9\n",
    "* Obese: BMI>=30\n"
   ]
  },
  {
   "cell_type": "code",
   "execution_count": 48,
   "metadata": {},
   "outputs": [
    {
     "name": "stdout",
     "output_type": "stream",
     "text": [
      "Weight (Kg): 67\n",
      "Height (m): 1.67\n",
      "Normalweight\n"
     ]
    }
   ],
   "source": [
    "#{HỌC VIÊN VIẾT CODE Ở ĐÂY}\n",
    "w = int(input('Weight (Kg): '))\n",
    "h = float(input('Height (m): '))\n",
    "BMI = w/(h**2)\n",
    "if BMI < 18.5:\n",
    "    print('Underweight')\n",
    "elif 18.5 <= BMI and BMI <= 24.9:\n",
    "    print('Normalweight')\n",
    "elif 25<= BMI and BMI <=29.9:\n",
    "    print('Overweight')\n",
    "else:\n",
    "    print ('Obese')\n"
   ]
  },
  {
   "cell_type": "markdown",
   "metadata": {},
   "source": [
    "## Bài 2.3: Xác định mùa trong năm!\n",
    "---\n",
    "Nhập vào tháng sinh của bạn và cho biết bạn sinh vào mùa nào?\n",
    "\n",
    "**Yêu cầu:**\n",
    "* Nếu 1, 2, 3: Bạn sinh vào Mùa xuân\n",
    "* Nếu 4, 5, 6: Bạn sinh vào Mùa hạ\n",
    "* Nếu 7, 8, 9: Bạn sinh vào Mùa thu\n",
    "* Nếu 10, 11, 12: Bạn sinh vào Mùa đông\n",
    "* <1 hoặc >12: Tháng sinh nhập vào không đúng\n"
   ]
  },
  {
   "cell_type": "code",
   "execution_count": 18,
   "metadata": {},
   "outputs": [
    {
     "name": "stdout",
     "output_type": "stream",
     "text": [
      "Nhap vao thang sinh cua ban: 12\n",
      "Ban sinh vao Mua dong\n"
     ]
    }
   ],
   "source": [
    "#{HỌC VIÊN VIẾT CODE Ở ĐÂY!}\n",
    "thangsinh = int(input('Nhap vao thang sinh cua ban: '))\n",
    "if thangsinh in [1,2,3]:\n",
    "    print('Ban sinh vao Mua xuan')\n",
    "elif thangsinh in [4,5,6]:\n",
    "    print('Ban sinh vao Mua ha')\n",
    "elif thangsinh in [7,8,9]:\n",
    "    print('Ban sinh vao Mua thu')\n",
    "elif thangsinh in [10,11,12]:\n",
    "    print('Ban sinh vao Mua dong')\n",
    "else:\n",
    "    print('Thang sinh nhap vao khong dung')\n",
    "\n",
    "\n",
    "\n"
   ]
  },
  {
   "cell_type": "markdown",
   "metadata": {},
   "source": [
    "## Bài 2.4: Hiển thị bảng cửu chương!\n",
    "---\n",
    "Nhập vào bảng cửu chương muốn in (1 – 10), hiển thị bảng cửu chương tương ứng với số vừa nhập. (Lưu ý: Thực hiện kiểm tra giá trị nhập, chỉ thỏa mãn khi giá trị nhập vào trong khoảng [1,10] \n",
    "\n",
    "*Xem minh họa bài tập trong file bài tập!*"
   ]
  },
  {
   "cell_type": "code",
   "execution_count": 21,
   "metadata": {},
   "outputs": [
    {
     "name": "stdout",
     "output_type": "stream",
     "text": [
      "Nhap vao bang cuu chuong cua so: 11\n",
      "Gia tri vua nhap khong thuoc khoang [1,10]. Yeu cau nhap lai !\n",
      "Nhap vao bang cuu chuong cua so: 1111\n",
      "Gia tri vua nhap khong thuoc khoang [1,10]. Yeu cau nhap lai !\n",
      "Nhap vao bang cuu chuong cua so: 1\n",
      "Bang cua chuong cua 1 la\n",
      "1*1=1\n",
      "1*2=2\n",
      "1*3=3\n",
      "1*4=4\n",
      "1*5=5\n",
      "1*6=6\n",
      "1*7=7\n",
      "1*8=8\n",
      "1*9=9\n",
      "1*10=10\n"
     ]
    }
   ],
   "source": [
    "#{HỌC VIÊN VIẾT CODE Ở ĐÂY!}\n",
    "\n",
    "while True:\n",
    "    a = int(input('Nhap vao bang cuu chuong cua so: '))\n",
    "    if (1<=a<=10):\n",
    "        break\n",
    "    print('Gia tri vua nhap khong thuoc khoang [1,10]. Yeu cau nhap lai !')\n",
    "print('Bang cua chuong cua {} la'.format(a))\n",
    "for i in range(1,11):\n",
    "    print('{}*{}={}'.format(a,i,a*i))\n",
    "\n",
    "\n",
    "\n"
   ]
  },
  {
   "cell_type": "code",
   "execution_count": null,
   "metadata": {},
   "outputs": [],
   "source": []
  },
  {
   "cell_type": "markdown",
   "metadata": {},
   "source": [
    "## Bài 2.5: Tính điểm học tập của bạn!\n",
    "---\n",
    "Khởi tạo một danh sách bao gồm các phần tử là điểm của bạn (hệ 10). Hãy thực hiện:\n",
    "1. Tạo một danh sách là các điểm chữ tương ứng với điểm hệ 10 ở trên.\n",
    "2. Tính điểm trung bình Hệ 10 và Hệ 4\n",
    "\n",
    "*Tham khảo minh họa trong slide bài tập bảng chuyển đổi từ điểm số (Hệ 10) sang điểm số (hệ 4) và điểm chữ*  \n"
   ]
  },
  {
   "cell_type": "code",
   "execution_count": 46,
   "metadata": {},
   "outputs": [
    {
     "name": "stdout",
     "output_type": "stream",
     "text": [
      "Diem he 10: [2.5, 8.4, 9.5, 3]\n",
      "Diem dang chu tuong ung: ['F', 'B+', 'A+', 'F']\n",
      "Diem trung binh he 10:  5.85\n",
      "Diem trung binh he 4: 2.34\n"
     ]
    }
   ],
   "source": [
    "#{HỌC VIÊN VIẾT CODE Ở ĐÂY!}\n",
    "score = [2.5, 8.4, 9.5, 3]\n",
    "print('Diem he 10: {}'.format(score))\n",
    "diem = []\n",
    "for i in score:\n",
    "    if (i<4): \n",
    "        diem.append('F')\n",
    "    elif (4<=i<=4.9):\n",
    "        diem.append('D')\n",
    "    elif(5<=i<=5.4):\n",
    "        diem.append('D+')\n",
    "    elif(5.5<=i<=6.4):\n",
    "        diem.append('C')\n",
    "    elif(6.5<=i<=6.9):\n",
    "        diem.append('C+')\n",
    "    elif(7<=i<=7.9):\n",
    "        diem.append('B')\n",
    "    elif(8<=i<=8.4):\n",
    "        diem.append('B+')\n",
    "    elif(8.5<=i<=8.9):\n",
    "        diem.append('A')\n",
    "    else:\n",
    "        diem.append('A+')\n",
    "print('Diem dang chu tuong ung: {}'.format(diem))\n",
    "so_mon_hoc = len(score)\n",
    "tong = 0.0\n",
    "for i in score:\n",
    "    tong+= i\n",
    "avr_score = tong/so_mon_hoc\n",
    "print('Diem trung binh he 10: ', avr_score)\n",
    "print('Diem trung binh he 4:', avr_score*4/10 ) \n",
    "\n"
   ]
  },
  {
   "cell_type": "markdown",
   "metadata": {},
   "source": [
    "## Bài 2.6: Kiểm tra N có là số nguyên tố?\n",
    "---\n",
    "Nhập vào số tự nhiên N, cho biết N có phải là số nguyên tố hay không? (Số nguyên tố là số lớn hơn 1, chỉ chia hết cho 1 và chính nó)\n"
   ]
  },
  {
   "cell_type": "code",
   "execution_count": null,
   "metadata": {},
   "outputs": [],
   "source": [
    "# Kiểm tra với các giá trị sau\n",
    "\n",
    "#N0 = 2, 4        --> ???\n",
    "#N1 = 98711653011 --> ??\n",
    "#N2 = 87178291199 --> ??\n"
   ]
  },
  {
   "cell_type": "code",
   "execution_count": 61,
   "metadata": {},
   "outputs": [
    {
     "name": "stdout",
     "output_type": "stream",
     "text": [
      "Nhap so tu nhien N: 4\n",
      "4 khong phai so nguyen to\n"
     ]
    }
   ],
   "source": [
    "#{HỌC VIÊN VIẾT CODE Ở ĐÂY!}\n",
    "N = int(input('Nhap so tu nhien N: '))\n",
    "temp = True\n",
    "for i in range(2,int(N**0.5)+1):\n",
    "    if N % i == 0:\n",
    "        temp = False\n",
    "if temp == True:\n",
    "    print('{} la so nguyen to'.format(N))\n",
    "else:\n",
    "    print('{} khong phai so nguyen to'.format(N))\n",
    "        \n",
    "\n",
    "\n"
   ]
  },
  {
   "cell_type": "markdown",
   "metadata": {},
   "source": [
    "## Bài 2.7: dãy số nguyên tố\n",
    "---\n",
    "Nhập vào một số N, hiển thị các số nguyên tố từ 2 tới N:\n"
   ]
  },
  {
   "cell_type": "code",
   "execution_count": 69,
   "metadata": {},
   "outputs": [
    {
     "name": "stdout",
     "output_type": "stream",
     "text": [
      "Nhap vao so tu nhien N (N>1): 10\n",
      "Cac so nguyen to nho hon 10 tru 1 la:\n",
      "2\n",
      "3\n",
      "5\n",
      "7\n"
     ]
    }
   ],
   "source": [
    "#{HỌC VIÊN VIẾT CODE Ở ĐÂY!}\n",
    "def check_prime(n):\n",
    "    for i in range(2, int(n**0.5)+1):\n",
    "        if n % i == 0:\n",
    "            return False\n",
    "    return True\n",
    "N = int(input('Nhap vao so tu nhien N (N>1): '))\n",
    "temp = 2\n",
    "print('Cac so nguyen to nho hon {} tru 1 la:'.format(N))\n",
    "while temp<=N:\n",
    "    if check_prime(temp): \n",
    "        print(temp)\n",
    "    temp+= 1"
   ]
  },
  {
   "cell_type": "markdown",
   "metadata": {},
   "source": [
    "## Bài 2.8: Đổi số từ thập phân sang nhị phân\n",
    "---\n",
    "Nhập vào một số tự nhiên N (N>0), chuyển đổi số N sang hệ nhị phân.\n",
    "\n",
    "*Tham khảo minh họa trong slide bài tập!*"
   ]
  },
  {
   "cell_type": "code",
   "execution_count": 2,
   "metadata": {
    "scrolled": true
   },
   "outputs": [
    {
     "name": "stdout",
     "output_type": "stream",
     "text": [
      "Nhap so tu nhien N (N>0): 100\n",
      "[1, 1, 0, 0, 1, 0, 0]\n",
      "0 (he 10) = 1100100 (he 2)\n"
     ]
    }
   ],
   "source": [
    "#{HỌC VIÊN VIẾT CODE Ở ĐÂY!}\n",
    "N = int(input('Nhap so tu nhien N (N>0): '))\n",
    "temp = []\n",
    "while N > 0:\n",
    "    temp.append(N%2)\n",
    "    N = int(N/2)\n",
    "temp.reverse()\n",
    "print(temp)\n",
    "bin_N = ''.join([str(a) for a in temp])\n",
    "print('{} (he 10) = {} (he 2)'.format(N, bin_N ))\n",
    "\n",
    "\n"
   ]
  },
  {
   "cell_type": "markdown",
   "metadata": {},
   "source": [
    "## BÀI 2.9:\n",
    "---\n",
    "1)\n",
    "Danh sách list1 bao gồm các ký tự (A-Z):\n",
    "\n",
    "ví dụ: list1 = ['A','F','G','A','C','H','J','B','K']\n",
    "\n",
    "sử dụng list comprehension tạo danh sách list2 với điều kiện:\n",
    "* các ký tự Nguyên âm trong list1 thêm '-NA' vào sau\n",
    "* các ký tự Phụ âm trong list1 thêm '-PA'\n",
    "\n",
    "kết quả: list2 = ['A-NA', 'F-PA', 'G-PA', 'A-NA', 'C-PA', 'H-PA', 'J-PA', 'B-PA', 'K-PA']"
   ]
  },
  {
   "cell_type": "code",
   "execution_count": 3,
   "metadata": {},
   "outputs": [
    {
     "name": "stdout",
     "output_type": "stream",
     "text": [
      "['A-NA', 'F-PA', 'G-PA', 'A-NA', 'C-PA', 'H-PA', 'J-PA', 'B-PA', 'K-PA']\n"
     ]
    }
   ],
   "source": [
    "#{HỌC VIÊN VIẾT CODE VÀO ĐÂY}\n",
    "list1 = ['A','F','G','A','C','H','J','B','K']\n",
    "list2 = [ i+'-NA' if i.upper() in 'UEOAI' else i+'-PA' for i in list1   ]\n",
    "print(list2)\n"
   ]
  },
  {
   "cell_type": "markdown",
   "metadata": {},
   "source": [
    "2) st = 'Python for Analysis'\n",
    "\n",
    "Sử dụng list comprehension, Thực hiện tách chỉ lấy ký tự trong chuỗi st cho vào danh sách list_st như sau:\n",
    "\n",
    "list_st =  ['P', 'Y', 'T', 'H', 'O', 'N', 'F', 'O', 'R', 'A', 'N', 'A', 'L', 'Y', 'S', 'I', 'S']"
   ]
  },
  {
   "cell_type": "code",
   "execution_count": 6,
   "metadata": {},
   "outputs": [
    {
     "name": "stdout",
     "output_type": "stream",
     "text": [
      "['P', 'Y', 'T', 'H', 'O', 'N', 'F', 'O', 'R', 'A', 'N', 'A', 'L', 'Y', 'S', 'I', 'S']\n"
     ]
    }
   ],
   "source": [
    "st = 'Python for Analysis'\n",
    "list_st = [a.upper() for a in st if a != ' ']\n",
    "print(list_st)"
   ]
  },
  {
   "cell_type": "markdown",
   "metadata": {},
   "source": [
    "## Bài 2.9: Tìm số Max – Min - Mean\n",
    "---\n",
    "Khởi tạo một dãy số là chiều cao của sinh viên trong một lớp (m). Thực hiện:\n",
    "Khởi tạo một biến tuple lưu chiều cao của sinh viên trong một lớp (m). Thực hiện:\n",
    "\n",
    "    * 1) Hiển thị chiều cao của sinh viên cao nhất – thấp nhất trong lớp\n",
    "    * 2) Tính chiều cao trung bình (TB) của sinh viên trong lớp.\n",
    "    * 3) Số lượng sinh viên trong lớp có chiều cao bằng chiều cao TB của lớp.\n",
    "    * 4) Số lượng sinh viên trong lớp có chiều cao lớn chiều cao TB của lớp.\n"
   ]
  },
  {
   "cell_type": "code",
   "execution_count": 23,
   "metadata": {},
   "outputs": [
    {
     "name": "stdout",
     "output_type": "stream",
     "text": [
      "Chieu cao cua cac sinh vien trong lop:\n",
      " (1.75, 1.58, 1.63, 1.71, 1.8)\n",
      "1.a Sinh vien cao nhat: 1.8 (m)\n",
      "1.b Sinh vien thap nhat:  1.58 (m)\n",
      "2. Chieu cao trung binh: 1.69 (m)\n",
      "3. So SV co chieu co bang chieu cao trung binh la:  0\n",
      "4. So sinh vien trong lop co chieu cao > chieu cao trung binh la: 3\n"
     ]
    }
   ],
   "source": [
    "#{HỌC VIÊN VIẾT CODE Ở ĐÂY!}\n",
    "height = 1.75, 1.58, 1.63, 1.71, 1.8\n",
    "print('Chieu cao cua cac sinh vien trong lop:\\n', height)\n",
    "print('1.a Sinh vien cao nhat:', max(height), '(m)')\n",
    "print('1.b Sinh vien thap nhat: ',min(height), '(m)')\n",
    "med_height = float('{:.2f}'.format(sum(height)/len(height))) \n",
    "print('2. Chieu cao trung binh:', med_height, '(m)')\n",
    "print('3. So SV co chieu co bang chieu cao trung binh la: ', height.count(med_height))\n",
    "temp = [i for i in height if i>med_height]\n",
    "print('4. So sinh vien trong lop co chieu cao > chieu cao trung binh la:', len(temp))\n",
    "\n"
   ]
  },
  {
   "cell_type": "markdown",
   "metadata": {},
   "source": [
    "## Bài 2.10: \n",
    "---\n",
    "có 2 lớp sinh viên A1 và A2 mỗi lớp có 10 em, và bảng điểm của 2 lớp lưu ở biến danh sách như sau:\n",
    "* A1 = [8, 7 , 9, 4, 5, 7, 9, 9, 8, 8]\n",
    "* A2=  [10, 3 , 6, 10, 7, 7, 5, 3, 9, 0]\n",
    "\n",
    "Yêu cầu:\n",
    "1. Chuyển đổi A1, A2 về kiểu dữ liệu set\n",
    "2. Liệt kê danh sách các đầu điểm mà 2 lớp nhận được\n",
    "3. Các đầu điểm chung mà 2 lớp nhận được"
   ]
  },
  {
   "cell_type": "code",
   "execution_count": 29,
   "metadata": {},
   "outputs": [
    {
     "name": "stdout",
     "output_type": "stream",
     "text": [
      "1. Chuyen do sang bien set \n",
      " {4, 5, 7, 8, 9} \n",
      " {0, 3, 5, 6, 7, 9, 10}\n",
      "2. Cac dau diem ma 2 lop nhan duoc la:  {0, 3, 4, 5, 6, 7, 8, 9, 10}\n",
      "3. Cac dau diem chung ma 2 lop nhan duoc la:  {9, 5, 7}\n"
     ]
    }
   ],
   "source": [
    "A1 = [8, 7 , 9, 4, 5, 7, 9, 9, 8, 8]\n",
    "A1 = set(A1)\n",
    "A2= [10, 3 , 6, 10, 7, 7, 5, 3, 9, 0]\n",
    "A2 = set(A2)\n",
    "print('1. Chuyen do sang bien set \\n', A1, '\\n', A2)\n",
    "print('2. Cac dau diem ma 2 lop nhan duoc la: ', A1.union(A2))\n",
    "print('3. Cac dau diem chung ma 2 lop nhan duoc la: ', A1.intersection(A2))"
   ]
  },
  {
   "cell_type": "markdown",
   "metadata": {},
   "source": [
    "## Bài 2.11: \n",
    "---\n",
    "Bảng điểm của một sinh viên như sau:\n",
    "* Maths: 82\n",
    "* Physics: 90\n",
    "* History: 75\n",
    "* Science: 94\n",
    "* Biology: 75\n",
    "* Chemistry: 88\n",
    "* Infomation technology: 99\n",
    "\n",
    "Yêu cầu:\n",
    "1. Tạo một biến dict_point lưu dữ liệu ở trên\n",
    "2. Tạo một danh sách từ biến dict_point chỉ chứa tên các môn học\n",
    "3. Cho biết môn học sinh viên đạt điểm cao nhất - thấp nhất\n"
   ]
  },
  {
   "cell_type": "code",
   "execution_count": 34,
   "metadata": {},
   "outputs": [
    {
     "name": "stdout",
     "output_type": "stream",
     "text": [
      "1. {'Maths': 82, 'Physics': 90, 'History': 75, 'Science': 94, 'Biology': 75, 'Chemistry': 88, 'Information technology': 99}\n",
      "2. dict_keys(['Maths', 'Physics', 'History', 'Science', 'Biology', 'Chemistry', 'Information technology'])\n",
      "Môn thi có điểm cao nhất: ['Information technology']\n",
      "Môn thi có điểm thấp nhất: ['History', 'Biology']\n"
     ]
    }
   ],
   "source": [
    "dict_point = {'Maths':82, 'Physics': 90, 'History': 75, 'Science':94, 'Biology':75, 'Chemistry':88, 'Information technology':99}\n",
    "print('1.', dict_point)\n",
    "subjects = dict_point.keys()\n",
    "print('2.', subjects)\n",
    "max_point = max(dict_point.values())\n",
    "min_point = min(dict_point.values())\n",
    "print('Môn thi có điểm cao nhất:', [key for key in dict_point.keys() if dict_point[key] == max_point])\n",
    "print('Môn thi có điểm thấp nhất:', [key for key in dict_point.keys() if dict_point[key] == min_point])"
   ]
  },
  {
   "cell_type": "markdown",
   "metadata": {},
   "source": [
    "\n",
    "**2) Nhập vào một số nguyên n, hãy viết chương trình sử dụng dictionary comprehension để tạo ra một dictionary trong đó keys là các số chẵn trong khoảng từ 0 --> n, values là bình phương của chính key đó (i, i^2)**"
   ]
  },
  {
   "cell_type": "code",
   "execution_count": 35,
   "metadata": {},
   "outputs": [
    {
     "name": "stdout",
     "output_type": "stream",
     "text": [
      "Nhập vào số nguyên n: 6\n",
      "{0: 0, 2: 4, 4: 16, 6: 36}\n"
     ]
    }
   ],
   "source": [
    "n = int(input(\"Nhập vào số nguyên n: \"))\n",
    "ans = {i: i ** 2 for i in range(0, n+1, 2)}\n",
    "\n",
    "print(ans)\n"
   ]
  },
  {
   "cell_type": "code",
   "execution_count": null,
   "metadata": {},
   "outputs": [],
   "source": []
  }
 ],
 "metadata": {
  "kernelspec": {
   "display_name": "Python 3 (ipykernel)",
   "language": "python",
   "name": "python3"
  },
  "language_info": {
   "codemirror_mode": {
    "name": "ipython",
    "version": 3
   },
   "file_extension": ".py",
   "mimetype": "text/x-python",
   "name": "python",
   "nbconvert_exporter": "python",
   "pygments_lexer": "ipython3",
   "version": "3.9.12"
  }
 },
 "nbformat": 4,
 "nbformat_minor": 2
}
