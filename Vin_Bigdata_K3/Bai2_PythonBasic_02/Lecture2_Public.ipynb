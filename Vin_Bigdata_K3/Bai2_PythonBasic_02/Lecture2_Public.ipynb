{
 "cells": [
  {
   "cell_type": "markdown",
   "metadata": {},
   "source": [
    "## <img src ='Pic\\logo.jpg' width='400px'>\n",
    "\n",
    "\n",
    "<div align=\"center\">\n",
    "\n",
    "# KHÓA HỌC: LẬP TRÌNH PYTHON CƠ BẢN CHO PHÂN TÍCH DỮ LIỆU\n",
    "\n",
    "</div>\n",
    "\n",
    "\n",
    "---\n",
    "\n",
    " BÀI 2: LẬP TRÌNH PYTHON CƠ BẢN (Tiếp)\n",
    "---\n",
    "* Giảng viên: Đặng Văn Nam\n",
    "* Email: namdv@aiacademy.edu.vn\n",
    "\n",
    "---\n",
    "**NỘI DUNG BÀI 2:**\n",
    "1. Các toán tử cơ bản trong Python:\n",
    "    * Toán tử số học\n",
    "    * Toán tử so sánh\n",
    "    * Toán tử gán\n",
    "    * Toán tử logic\n",
    "    * Toán tử membership\n",
    "2. Cấu trúc điều khiển (Dạng 1, dạng 2, dạng 3, dạng 4) \n",
    "3. Cấu trúc vòng lặp \n",
    "    * Vòng lặp không biết trước số lần lặp while\n",
    "    * Vòng lặp biết trước số lần lặp for\n",
    "    * Break\n",
    "    * Continue\n",
    "4. Cấu trúc dữ liệu cơ sở (Tuple, set, dictionary)\n",
    "5. Ngoại lệ (Exception)"
   ]
  },
  {
   "cell_type": "markdown",
   "metadata": {},
   "source": [
    "## 1. Toán tử cơ bản trong Python\n",
    "---\n",
    "### 1.1 Các toán tử số học\n",
    "<img src='pic/Python-Arithmetic-Operators.jpg' width=400px>"
   ]
  },
  {
   "cell_type": "code",
   "execution_count": 1,
   "metadata": {},
   "outputs": [
    {
     "name": "stdout",
     "output_type": "stream",
     "text": [
      "Tổng          a + b  =  18\n",
      "Hiệu          a - b  =  2\n",
      "Tích          a * b  =  80\n",
      "Thương        a / b  =  1.25\n",
      "Thương nguyên a // b =  1\n",
      "Thương dư     a % b  =  2\n",
      "Mũ            a ** b =  100000000\n"
     ]
    }
   ],
   "source": [
    "# A|Các toán tử số học trong python\n",
    "a = 10\n",
    "b = 8\n",
    "#----------------------------------\n",
    "\n",
    "print ('Tổng          a + b  = ', a + b) \n",
    "print ('Hiệu          a - b  = ', a - b) \n",
    "print ('Tích          a * b  = ', a * b) \n",
    "print ('Thương        a / b  = ', a / b) \n",
    "print ('Thương nguyên a // b = ', a // b) \n",
    "print ('Thương dư     a % b  = ', a % b) \n",
    "print ('Mũ            a ** b = ', a ** b) "
   ]
  },
  {
   "cell_type": "markdown",
   "metadata": {},
   "source": [
    "<img src = 'pic/Python-Assignment-Operators.jpg' width=500px>"
   ]
  },
  {
   "cell_type": "code",
   "execution_count": 2,
   "metadata": {},
   "outputs": [
    {
     "name": "stdout",
     "output_type": "stream",
     "text": [
      "c +=a: 18\n"
     ]
    }
   ],
   "source": [
    "#Các toán tử gán\n",
    "a = 10\n",
    "c = 8\n",
    "\n",
    "c += a #(tương đương với c = c + a)\n",
    "print('c +=a:', c)"
   ]
  },
  {
   "cell_type": "code",
   "execution_count": 3,
   "metadata": {},
   "outputs": [
    {
     "name": "stdout",
     "output_type": "stream",
     "text": [
      "c -=a: -2\n"
     ]
    }
   ],
   "source": [
    "#Các toán tử gán\n",
    "a = 10\n",
    "c = 8\n",
    "c -= a #(tương đương với c = c - a)\n",
    "print('c -=a:', c)"
   ]
  },
  {
   "cell_type": "code",
   "execution_count": 4,
   "metadata": {},
   "outputs": [
    {
     "name": "stdout",
     "output_type": "stream",
     "text": [
      "c *=a: 80\n"
     ]
    }
   ],
   "source": [
    "#Các toán tử gán\n",
    "a = 10\n",
    "c = 8\n",
    "c *= a #(tương đương với c = c * a)\n",
    "print('c *=a:', c)"
   ]
  },
  {
   "cell_type": "code",
   "execution_count": null,
   "metadata": {},
   "outputs": [],
   "source": []
  },
  {
   "cell_type": "markdown",
   "metadata": {},
   "source": [
    "### 1.2 Các toán tử so sánh:\n",
    "---\n",
    "<img src='pic/Python-Relational-Operators.jpg' width=300px>"
   ]
  },
  {
   "cell_type": "code",
   "execution_count": 5,
   "metadata": {},
   "outputs": [
    {
     "name": "stdout",
     "output_type": "stream",
     "text": [
      "<class 'bool'>\n",
      "1) SS lớn hơn (a>b): False\n",
      "2) SS nhỏ hơn (a<b): True\n",
      "3) SS bằng    (a=b): False\n",
      "4) SS lớn hơn hoặc bằng (a>=b): False\n",
      "5) SS nhỏ hơn hoặc bằng (a<=b): True\n",
      "6) SS khác   (a!=b): True\n"
     ]
    }
   ],
   "source": [
    "#Kết quả của các phép so sánh có kiểu dữ liệu Boolean\n",
    "a = 8\n",
    "b = 10\n",
    "kt = a>b\n",
    "print(type(kt))\n",
    "#-----------------------------------------------------\n",
    "print('1) SS lớn hơn (a>b):', a>b)\n",
    "print('2) SS nhỏ hơn (a<b):', a<b)\n",
    "print('3) SS bằng    (a=b):', a==b)\n",
    "print('4) SS lớn hơn hoặc bằng (a>=b):', a>=b)\n",
    "print('5) SS nhỏ hơn hoặc bằng (a<=b):', a<=b)\n",
    "print('6) SS khác   (a!=b):', a!=b)"
   ]
  },
  {
   "cell_type": "code",
   "execution_count": null,
   "metadata": {},
   "outputs": [],
   "source": []
  },
  {
   "cell_type": "markdown",
   "metadata": {},
   "source": [
    "### 1.3 Các toán tử Logic\n",
    "---"
   ]
  },
  {
   "cell_type": "code",
   "execution_count": 6,
   "metadata": {},
   "outputs": [
    {
     "name": "stdout",
     "output_type": "stream",
     "text": [
      "1) Phép toán AND: False\n",
      "2) Phép toán OR : True\n",
      "3) Phép toán NOT: False\n"
     ]
    }
   ],
   "source": [
    "#Sử dụng để kết hợp nhiều điều kiện\n",
    "x = 15\n",
    "y = True\n",
    "\n",
    "kt = (x>3) and (x<10) #hoặc kt = (x>3) & (x<10)\n",
    "\n",
    "kt2 = (x>3) or (x<10) #hoặc kt = (x>3) | (x<10)\n",
    "\n",
    "kt3 = not y\n",
    "\n",
    "#---------------------------------\n",
    "print ('1) Phép toán AND:', kt)\n",
    "print ('2) Phép toán OR :', kt2)\n",
    "print ('3) Phép toán NOT:', kt3)"
   ]
  },
  {
   "cell_type": "markdown",
   "metadata": {},
   "source": [
    "### 1.4 Toán tử Xác thực:\n",
    "---"
   ]
  },
  {
   "cell_type": "code",
   "execution_count": 7,
   "metadata": {},
   "outputs": [
    {
     "name": "stdout",
     "output_type": "stream",
     "text": [
      "False\n",
      "True\n"
     ]
    }
   ],
   "source": [
    "a = 4\n",
    "b = 5\n",
    "print(a is b)     #Toán tử này sẽ trả về True nếu a == b và ngược lại\n",
    "print(a is not b) #Toán tử này sẽ trả về True nếu a != b và ngược lại"
   ]
  },
  {
   "cell_type": "markdown",
   "metadata": {},
   "source": [
    "### 1.5 Toán tử membership\n",
    "---"
   ]
  },
  {
   "cell_type": "code",
   "execution_count": null,
   "metadata": {},
   "outputs": [],
   "source": [
    "#D| Các toán tử membership\n",
    "a = [4, 6, 9 , 0]\n",
    "\n",
    "kt1 = 4 in a        #Kiểm tra 1 phần tử có trong danh sách không?\n",
    "\n",
    "kt2 = 1 not in a    #Kiểm tra 1 phần tử không có trong trong danh sách không?\n",
    "\n",
    "print('Kết quả 1: ', kt1)\n",
    "print('Kết quả 2:', kt2)"
   ]
  },
  {
   "cell_type": "code",
   "execution_count": 8,
   "metadata": {},
   "outputs": [
    {
     "name": "stdout",
     "output_type": "stream",
     "text": [
      "True\n"
     ]
    }
   ],
   "source": [
    "a = [4, 6, 9 , 0]\n",
    "b = a\n",
    "kt1 = a is b\n",
    "print(kt1)"
   ]
  },
  {
   "cell_type": "code",
   "execution_count": 9,
   "metadata": {},
   "outputs": [
    {
     "name": "stdout",
     "output_type": "stream",
     "text": [
      "False\n"
     ]
    }
   ],
   "source": [
    "b = a.copy()\n",
    "kt2 = a is b\n",
    "print(kt2)"
   ]
  },
  {
   "cell_type": "markdown",
   "metadata": {},
   "source": [
    "### THỨ TỰ ƯU TIÊN CÁC PHÉP TOÁN\n",
    "---\n",
    "<img src='Pic/Python-Operator-Precedence.jpg' width = 400px>"
   ]
  },
  {
   "cell_type": "code",
   "execution_count": 14,
   "metadata": {},
   "outputs": [
    {
     "data": {
      "text/plain": [
       "23.333333333333332"
      ]
     },
     "execution_count": 14,
     "metadata": {},
     "output_type": "execute_result"
    }
   ],
   "source": [
    "a = 4**2*4/3+4-2%4\n",
    "a"
   ]
  },
  {
   "cell_type": "code",
   "execution_count": 11,
   "metadata": {},
   "outputs": [
    {
     "data": {
      "text/plain": [
       "16"
      ]
     },
     "execution_count": 11,
     "metadata": {},
     "output_type": "execute_result"
    }
   ],
   "source": [
    "#1.Tính ** (lũy thừa): 4**2\n",
    "a1= 4**2\n",
    "a1"
   ]
  },
  {
   "cell_type": "code",
   "execution_count": 12,
   "metadata": {},
   "outputs": [
    {
     "data": {
      "text/plain": [
       "64"
      ]
     },
     "execution_count": 12,
     "metadata": {},
     "output_type": "execute_result"
    }
   ],
   "source": [
    "#2.Tính *,/,//,%\n",
    "a2 = a1*4\n",
    "a2"
   ]
  },
  {
   "cell_type": "code",
   "execution_count": 13,
   "metadata": {},
   "outputs": [
    {
     "data": {
      "text/plain": [
       "21.333333333333332"
      ]
     },
     "execution_count": 13,
     "metadata": {},
     "output_type": "execute_result"
    }
   ],
   "source": [
    "#2.Tính *,/,//,%\n",
    "a3=a2/3\n",
    "a3"
   ]
  },
  {
   "cell_type": "code",
   "execution_count": 15,
   "metadata": {},
   "outputs": [
    {
     "data": {
      "text/plain": [
       "2"
      ]
     },
     "execution_count": 15,
     "metadata": {},
     "output_type": "execute_result"
    }
   ],
   "source": [
    "#2.Tính *,/,//,%\n",
    "a4 = 2%4\n",
    "a4"
   ]
  },
  {
   "cell_type": "code",
   "execution_count": 16,
   "metadata": {},
   "outputs": [
    {
     "data": {
      "text/plain": [
       "23.333333333333332"
      ]
     },
     "execution_count": 16,
     "metadata": {},
     "output_type": "execute_result"
    }
   ],
   "source": [
    "#3.Tính +, -\n",
    "a5 = a3+4-a4\n",
    "a5"
   ]
  },
  {
   "cell_type": "markdown",
   "metadata": {},
   "source": [
    "## 2) Cấu trúc điều khiển\n",
    "---"
   ]
  },
  {
   "cell_type": "code",
   "execution_count": null,
   "metadata": {},
   "outputs": [],
   "source": [
    "#Example:Câu lệnh điều kiện\n",
    "so_tien = input('Nhập vào số tiền bạn có:')\n",
    "\n",
    "so_tien=int(so_tien)\n",
    "\n",
    "\n",
    "if (so_tien>=1E9):\n",
    "    print('Bạn đã là một tỷ phú!')\n",
    "else:\n",
    "    print('Bạn còn phải kiếm nhiều tiền hơn nhé!')\n",
    "    print('Còn thiếu ', 1E9-so_tien)\n",
    "\n",
    "print('------AIAcademy--------')    "
   ]
  },
  {
   "cell_type": "markdown",
   "metadata": {},
   "source": [
    "### 2.1 cấu trúc điều kiện DẠNG 1\n",
    "<img src='pic/Python-if-statement.jpg' width=300px>"
   ]
  },
  {
   "cell_type": "code",
   "execution_count": 17,
   "metadata": {},
   "outputs": [
    {
     "name": "stdout",
     "output_type": "stream",
     "text": [
      "1 là số dương.\n",
      "Thông điệp này luôn được in.\n"
     ]
    }
   ],
   "source": [
    "#Ví dụ:\n",
    "num = 1\n",
    "if (num>0):\n",
    "    print(num, \"là số dương.\")\n",
    "\n",
    "print(\"Thông điệp này luôn được in.\")"
   ]
  },
  {
   "cell_type": "code",
   "execution_count": null,
   "metadata": {},
   "outputs": [],
   "source": []
  },
  {
   "cell_type": "code",
   "execution_count": 18,
   "metadata": {},
   "outputs": [
    {
     "name": "stdout",
     "output_type": "stream",
     "text": [
      "1 là số dương.\n"
     ]
    }
   ],
   "source": [
    "#Short Hand If\n",
    "if num > 0: print(num, \"là số dương.\")"
   ]
  },
  {
   "cell_type": "markdown",
   "metadata": {},
   "source": [
    "### 2.2 cấu trúc điều kiện DẠNG 2 (if...else):\n",
    "<img src='pic/Python-if-else-statement.jpg' width=300px>"
   ]
  },
  {
   "cell_type": "code",
   "execution_count": 19,
   "metadata": {},
   "outputs": [
    {
     "name": "stdout",
     "output_type": "stream",
     "text": [
      "Số âm\n",
      "----Thông điệp này luôn được in-----\n"
     ]
    }
   ],
   "source": [
    "# Ví dụ:\n",
    "num = -1\n",
    "if (num>=0):\n",
    "    #Khối lệnh 1\n",
    "    print ('Số dương')\n",
    "else:\n",
    "    #Khối lệnh 2\n",
    "    print ('Số âm')\n",
    "      \n",
    "print(\"----Thông điệp này luôn được in-----\")    "
   ]
  },
  {
   "cell_type": "code",
   "execution_count": 21,
   "metadata": {},
   "outputs": [
    {
     "name": "stdout",
     "output_type": "stream",
     "text": [
      "Nhập vào một số nguyên:-5\n",
      "Số âm\n"
     ]
    }
   ],
   "source": [
    "#Short Hand If ... Else\n",
    "N = int(input('Nhập vào một số nguyên:'))\n",
    "print ('Số dương') if (N >= 0) else print ('Số âm')\n"
   ]
  },
  {
   "cell_type": "code",
   "execution_count": null,
   "metadata": {},
   "outputs": [],
   "source": []
  },
  {
   "cell_type": "code",
   "execution_count": 22,
   "metadata": {},
   "outputs": [
    {
     "name": "stdout",
     "output_type": "stream",
     "text": [
      "Nhập vào một số nguyên:21\n",
      "21  là số lẻ\n"
     ]
    }
   ],
   "source": [
    "#Example:\n",
    "N = int(input('Nhập vào một số nguyên:'))\n",
    "if (N%2==0):\n",
    "     print (N, ' là số chẵn')\n",
    "else:\n",
    "     print (N, ' là số lẻ')"
   ]
  },
  {
   "cell_type": "code",
   "execution_count": 23,
   "metadata": {},
   "outputs": [
    {
     "name": "stdout",
     "output_type": "stream",
     "text": [
      "Nhập vào một số nguyên:18\n",
      "18  là số chẵn\n"
     ]
    }
   ],
   "source": [
    "N = int(input('Nhập vào một số nguyên:'))\n",
    "print(N, ' là số chẵn') if (N%2 == 0) else print(N, ' là số lẻ')"
   ]
  },
  {
   "cell_type": "code",
   "execution_count": null,
   "metadata": {},
   "outputs": [],
   "source": []
  },
  {
   "cell_type": "markdown",
   "metadata": {},
   "source": [
    "### 2.3 cấu trúc điều kiện DẠNG 3 (if...elif...else):\n",
    "<img src='pic/Python-if-elif-ladder.jpg' width=300px>"
   ]
  },
  {
   "cell_type": "code",
   "execution_count": 25,
   "metadata": {},
   "outputs": [
    {
     "name": "stdout",
     "output_type": "stream",
     "text": [
      "Nhập giới tính (0:Nam - 1:Nữ - 2:XYZ):10\n",
      "Giới tính nhập vào ko đúng!\n"
     ]
    }
   ],
   "source": [
    "#===============================DẠNG 3:==========================\n",
    "gt = input('Nhập giới tính (0:Nam - 1:Nữ - 2:XYZ):')\n",
    "if (gt=='0'):\n",
    "    print('Chào anh đẹp trai!')\n",
    "elif (gt=='1'):\n",
    "    print('Chào chị xinh gái!')\n",
    "elif (gt=='2'):\n",
    "    print('chào anh/chị!')\n",
    "else:\n",
    "    print('Giới tính nhập vào ko đúng!')"
   ]
  },
  {
   "cell_type": "code",
   "execution_count": null,
   "metadata": {},
   "outputs": [],
   "source": []
  },
  {
   "cell_type": "markdown",
   "metadata": {},
   "source": [
    "### 2.3 cấu trúc điều kiện DẠNG 4 (if lồng nhau – Nested if):\n",
    "<img src='pic/Python-Netsted-if.jpg' width=400px>"
   ]
  },
  {
   "cell_type": "code",
   "execution_count": 26,
   "metadata": {},
   "outputs": [
    {
     "name": "stdout",
     "output_type": "stream",
     "text": [
      "Nhập một số: 0\n",
      "Số không\n"
     ]
    }
   ],
   "source": [
    "#Ví dụ\n",
    "num = float(input('Nhập một số: '))\n",
    "if (num>=0):\n",
    "    if (num==0):\n",
    "        print('Số không')\n",
    "        \n",
    "    else:\n",
    "        print('Số dương')\n",
    "else:\n",
    "    print('Số âm')"
   ]
  },
  {
   "cell_type": "code",
   "execution_count": null,
   "metadata": {},
   "outputs": [],
   "source": [
    "#Trong Python ko có cấu trúc swich...case như các ngôn ngữ C,C++ hoặc Java\n",
    "\n",
    "def days_of_week(day):\n",
    "    switcher ={\n",
    "        1: 'Monday',\n",
    "        2: 'Tuesday',\n",
    "        3: 'Wednesday',\n",
    "        4: 'Thursday',\n",
    "        5: 'Friday',\n",
    "        6: 'Saturday',\n",
    "        7: 'Sunday'\n",
    "    }\n",
    "    return switcher.get(day,\"Invalid day \")\n",
    "print( days_of_week(5))\n",
    "print( days_of_week(2))\n",
    "print( days_of_week(7))\n",
    "print( days_of_week(10))"
   ]
  },
  {
   "cell_type": "code",
   "execution_count": null,
   "metadata": {},
   "outputs": [],
   "source": []
  },
  {
   "cell_type": "markdown",
   "metadata": {},
   "source": [
    "# THỰC HÀNH\n",
    "----"
   ]
  },
  {
   "cell_type": "markdown",
   "metadata": {},
   "source": [
    "## Bài 6: Xác định nguyên âm|phụ âm\n",
    "---\n",
    "Nhập vào một ký tự chữ cái bất kỳ(không phân biệt chữ hoa-chữ thường), cho biết nó là nguyên âm hay phụ âm trong tiếng anh. \n",
    "* 5 chữ cái nguyên âm: **U, E, O, A, I**\n",
    "* 21 Chữ cái phụ âm: **B, C, D, F, G, H, J K, L, M, N, P, Q, R, S, T, V, W, X, Y, Z**\n"
   ]
  },
  {
   "cell_type": "code",
   "execution_count": null,
   "metadata": {},
   "outputs": [],
   "source": [
    "#{HỌC VIÊN VIẾT CODE Ở ĐÂY}\n",
    "\n",
    "\n",
    "\n",
    "\n",
    "\n"
   ]
  },
  {
   "cell_type": "code",
   "execution_count": null,
   "metadata": {},
   "outputs": [],
   "source": []
  },
  {
   "cell_type": "code",
   "execution_count": null,
   "metadata": {},
   "outputs": [],
   "source": []
  },
  {
   "cell_type": "markdown",
   "metadata": {},
   "source": [
    "## Bài 7: Tính chỉ số BMI\n",
    "---\n",
    "Nhập vào chiều cao (m) và cân nặng (kg) rồi tính chỉ số BMI của người đó theo công thức:\n",
    "\n",
    "* BMI = Weight(Kg) / Height(m) ^2 \n",
    "\n",
    "Dựa vào chỉ số BMI tính được đưa ra nhận xét về cơ thể của người đó theo các mức:\n",
    "* Underweight: BMI<18.5\n",
    "* NormalWeight: 18.5 <= BMI <= 24.9\n",
    "* Overweight: 25 <= BMI <=29.9\n",
    "* Obese: BMI>=30\n"
   ]
  },
  {
   "cell_type": "code",
   "execution_count": null,
   "metadata": {},
   "outputs": [],
   "source": [
    "#{HỌC VIÊN VIẾT CODE Ở ĐÂY}\n",
    "\n",
    "\n",
    "\n",
    "\n",
    "\n"
   ]
  },
  {
   "cell_type": "code",
   "execution_count": null,
   "metadata": {},
   "outputs": [],
   "source": []
  },
  {
   "cell_type": "code",
   "execution_count": null,
   "metadata": {},
   "outputs": [],
   "source": []
  },
  {
   "cell_type": "markdown",
   "metadata": {},
   "source": [
    "## Bài 8: Xác định mùa trong năm!\n",
    "---\n",
    "Nhập vào tháng sinh của bạn và cho biết bạn sinh vào mùa nào?\n",
    "\n",
    "**Yêu cầu:**\n",
    "* Nếu 1, 2, 3: Bạn sinh vào Mùa xuân\n",
    "* Nếu 4, 5, 6: Bạn sinh vào Mùa hạ\n",
    "* Nếu 7, 8, 9: Bạn sinh vào Mùa thu\n",
    "* Nếu 10, 11, 12: Bạn sinh vào Mùa đông\n",
    "* <1 hoặc >12: Tháng sinh nhập vào không đúng\n"
   ]
  },
  {
   "cell_type": "code",
   "execution_count": null,
   "metadata": {},
   "outputs": [],
   "source": [
    "#{HỌC VIÊN VIẾT CODE Ở ĐÂY}\n",
    "\n",
    "\n",
    "\n",
    "\n",
    "\n"
   ]
  },
  {
   "cell_type": "code",
   "execution_count": null,
   "metadata": {},
   "outputs": [],
   "source": []
  },
  {
   "cell_type": "markdown",
   "metadata": {},
   "source": [
    "## 3) Cấu trúc vòng lặp\n",
    "---\n",
    "* Cũng như câu lệnh điều kiện, Câu lệnh vòng lặp là một trong những câu lệnh cơ bản của bất cứ ngôn ngữ lập trình nào.\n",
    "* Để giải quyết bài toán, chúng ta cần thực hiện một công  việc nào đó lặp đi lặp lại rất nhiều lần. Số lần lặp đó có thể biết trước hoặc không biết trước."
   ]
  },
  {
   "cell_type": "markdown",
   "metadata": {},
   "source": [
    "### 3.1 Vòng lặp While\n",
    "---"
   ]
  },
  {
   "cell_type": "code",
   "execution_count": 28,
   "metadata": {},
   "outputs": [
    {
     "name": "stdout",
     "output_type": "stream",
     "text": [
      "Em sinh tháng mấy?3\n",
      "1 ) I Love You!\n",
      "2 ) I Love You!\n",
      "3 ) I Love You!\n",
      "-------------AIACADEMY---------\n"
     ]
    }
   ],
   "source": [
    "n = int(input('Em sinh tháng mấy?'))\n",
    "i=1\n",
    "while(i<=n):\n",
    "    print(i, ') I Love You!')\n",
    "    i=i+1\n",
    "\n",
    "#Câu lệnh lặp ngoài vòng lặp while\n",
    "print('-------------AIACADEMY---------')"
   ]
  },
  {
   "cell_type": "code",
   "execution_count": null,
   "metadata": {},
   "outputs": [],
   "source": []
  },
  {
   "cell_type": "code",
   "execution_count": null,
   "metadata": {},
   "outputs": [],
   "source": []
  },
  {
   "cell_type": "markdown",
   "metadata": {},
   "source": [
    "### Câu lệnh kiểm soát vòng lặp\n",
    "<img src='Pic/loop-control-statement-in-python.jpg' width=400px>\n",
    "\n",
    "1. **Lệnh break** kết thúc vòng lặp chứa nó và truyền điều khiển đến lệnh tiếp theo sau khối lệnh của vòng lặp đó.\n"
   ]
  },
  {
   "cell_type": "code",
   "execution_count": 29,
   "metadata": {},
   "outputs": [
    {
     "name": "stdout",
     "output_type": "stream",
     "text": [
      "Em sinh tháng mấy? 8\n",
      "1 ) I Love You!\n",
      "2 ) I Love You!\n",
      "3 ) I Love You!\n",
      "-------------AIACADEMY-----------\n"
     ]
    }
   ],
   "source": [
    "n = int(input('Em sinh tháng mấy? '))\n",
    "i=1\n",
    "while(i<=n):\n",
    "    print(i, ') I Love You!')\n",
    "    \n",
    "    #Chỉ hiển thị tối đa 3 lần\n",
    "    if (i==3):\n",
    "        break #Thoát ra khỏi vòng lặp while   \n",
    "    \n",
    "    i=i+1\n",
    "\n",
    "#Câu lệnh lặp ngoài vòng lặp while\n",
    "print('-------------AIACADEMY-----------')"
   ]
  },
  {
   "cell_type": "markdown",
   "metadata": {},
   "source": [
    "2. **Lệnh continue:**\n",
    "\n",
    "Lệnh continue bỏ qua phần còn lại của khối lệnh bên trong vòng lặp, áp dụng cho vòng lặp tiếp theo. Nghĩa là vòng lặp không chấm dứt nó sẽ tiếp tục với số lần lặp kế tiếp\n"
   ]
  },
  {
   "cell_type": "code",
   "execution_count": null,
   "metadata": {},
   "outputs": [],
   "source": [
    "n = 20\n",
    "i = 1\n",
    "while (i<=n):\n",
    "    i = i+1\n",
    "    if (i%3!=0):\n",
    "        continue \n",
    "        #Bỏ qua các câu lệnh phía sau nếu ko chia hết cho 3\n",
    "    print(i)\n",
    "    \n",
    "#Câu lệnh lặp ngoài vòng lặp while\n",
    "print('-------------AIACADEMY---------')"
   ]
  },
  {
   "cell_type": "markdown",
   "metadata": {},
   "source": [
    "**while True**\n",
    "\n",
    "Với cấu trúc này các câu lệnh sẽ thực hiện lặp đi lặp lại, cho đến khi biểu thức <điều kiện dừng>  thỏa mãn. Lúc đó câu lệnh if sẽ giúp cho lệnh break được thực thi và dừng vòng lặp.\n"
   ]
  },
  {
   "cell_type": "code",
   "execution_count": 30,
   "metadata": {},
   "outputs": [
    {
     "name": "stdout",
     "output_type": "stream",
     "text": [
      "Em sinh tháng mấy: 13\n",
      "Tháng sinh nhập vào không đúng, vui lòng nhập lại\n",
      "Em sinh tháng mấy: 15\n",
      "Tháng sinh nhập vào không đúng, vui lòng nhập lại\n",
      "Em sinh tháng mấy: 6\n",
      "Chào em cô gái tháng  6\n"
     ]
    }
   ],
   "source": [
    "#Chỉ cho phép nhập tháng sinh 1 - 12\n",
    "while True:\n",
    "    n = int(input('Em sinh tháng mấy: '))\n",
    "    if (1<=n<=12):\n",
    "        break #thoát khỏi vòng lặp nếu tháng sinh nhập vào hợp lệ\n",
    "    \n",
    "    print('Tháng sinh nhập vào không đúng, vui lòng nhập lại')\n",
    "    \n",
    "#Câu lệnh ngoài vòng lặp while\n",
    "print('Chào em cô gái tháng ', n)"
   ]
  },
  {
   "cell_type": "code",
   "execution_count": 32,
   "metadata": {},
   "outputs": [
    {
     "name": "stdout",
     "output_type": "stream",
     "text": [
      "Inside loop\n",
      "Inside loop\n",
      "Inside loop\n",
      "Inside else!\n",
      "---Bên ngoài vòng lặp-----\n"
     ]
    }
   ],
   "source": [
    "#while .... else\n",
    "\n",
    "count = 1\n",
    "while (count <= 3):\n",
    "    print(\"Inside loop\")\n",
    "    count = count + 1\n",
    "else:\n",
    "    print(\"Inside else!\")\n",
    "    \n",
    "#-----------------------------\n",
    "print(\"---Bên ngoài vòng lặp-----\")"
   ]
  },
  {
   "cell_type": "code",
   "execution_count": 33,
   "metadata": {},
   "outputs": [
    {
     "name": "stdout",
     "output_type": "stream",
     "text": [
      "0\n",
      "1\n",
      "2\n",
      "3\n",
      "4\n"
     ]
    }
   ],
   "source": [
    "#Gặp break nó thoát luôn khỏi vòng lặp, ko thực thi else\n",
    "num = 0\n",
    "while( num<10 ):\n",
    "    print(num)\n",
    "    num += 1\n",
    "    if( num==5):\n",
    "        break\n",
    "else:\n",
    "    print('Loop ended')"
   ]
  },
  {
   "cell_type": "code",
   "execution_count": null,
   "metadata": {},
   "outputs": [],
   "source": []
  },
  {
   "cell_type": "code",
   "execution_count": null,
   "metadata": {},
   "outputs": [],
   "source": [
    "#Kiểm tra đk--> đúng ---> Thực hiện khối lệnh"
   ]
  },
  {
   "cell_type": "markdown",
   "metadata": {},
   "source": [
    "### 3.2) Vòng lặp for\n",
    "---"
   ]
  },
  {
   "cell_type": "code",
   "execution_count": 35,
   "metadata": {},
   "outputs": [
    {
     "name": "stdout",
     "output_type": "stream",
     "text": [
      "ký tự:  P\n",
      "ký tự:  Y\n",
      "ký tự:  T\n",
      "ký tự:  H\n",
      "ký tự:  O\n",
      "ký tự:  N\n",
      "ký tự:   \n",
      "ký tự:  F\n",
      "ký tự:  O\n",
      "ký tự:  R\n",
      "ký tự:   \n",
      "ký tự:  A\n",
      "ký tự:  N\n",
      "ký tự:  A\n",
      "ký tự:  L\n",
      "ký tự:  Y\n",
      "ký tự:  T\n",
      "ký tự:  I\n",
      "ký tự:  C\n",
      "ký tự:  S\n"
     ]
    }
   ],
   "source": [
    "# Vòng lặp for với chuỗi ký tự: Biến chạy sẽ lần lượt nhận các giá trị là các ký tự trong chuỗi ký tự.\n",
    "st = 'PYTHON FOR ANALYTICS'\n",
    "#st = [9, 8, 7, 4, 7, 5]\n",
    "for i in st:\n",
    "    print('ký tự: ', i)"
   ]
  },
  {
   "cell_type": "code",
   "execution_count": null,
   "metadata": {},
   "outputs": [],
   "source": []
  },
  {
   "cell_type": "code",
   "execution_count": 37,
   "metadata": {},
   "outputs": [
    {
     "name": "stdout",
     "output_type": "stream",
     "text": [
      "Số ký tự N có trong chuỗi là:  7\n"
     ]
    }
   ],
   "source": [
    "#Ví dụ: Đếm số ký tự N trong chuỗi\n",
    "st = 'PYTHON FOR ANALYTICSNNNNN'\n",
    "dem=0\n",
    "for i in st:\n",
    "    if i == 'N': dem=dem+1\n",
    "\n",
    "print('Số ký tự N có trong chuỗi là: ',dem)"
   ]
  },
  {
   "cell_type": "code",
   "execution_count": null,
   "metadata": {},
   "outputs": [],
   "source": []
  },
  {
   "cell_type": "code",
   "execution_count": null,
   "metadata": {},
   "outputs": [],
   "source": []
  },
  {
   "cell_type": "code",
   "execution_count": 38,
   "metadata": {},
   "outputs": [
    {
     "name": "stdout",
     "output_type": "stream",
     "text": [
      "Danh sách học sinh bao gồm:\n",
      "1 )  Lê Thùy Dung\n",
      "2 )  Trần Đức Hùng\n",
      "3 )  Nguyễn Lan Anh\n",
      "4 )  Mai Phương Thúy\n",
      "5 )  Trần Thanh Thủy\n",
      "6 )  Kiều Thành Công\n"
     ]
    }
   ],
   "source": [
    "#Vòng lặp for với danh sách\n",
    "hoc_sinh = ['Lê Thùy Dung', 'Trần Đức Hùng', \n",
    "            'Nguyễn Lan Anh','Mai Phương Thúy',\n",
    "           'Trần Thanh Thủy','Kiều Thành Công']\n",
    "\n",
    "print('Danh sách học sinh bao gồm:')\n",
    "tt = 1\n",
    "for i in hoc_sinh:\n",
    "    print( tt, ') ', i)\n",
    "    tt = tt+1"
   ]
  },
  {
   "cell_type": "markdown",
   "metadata": {},
   "source": [
    "**Vòng lặp for với lệnh range():**\n",
    "Lệnh range() trong Python kết hợp với vòng lặp for sẽ trở nên rất hữu hiệu trong việc kiểm soát giá trị bắt đầu, kết thúc và bước nhảy của biến chạy.\n",
    "\n",
    "**Cú pháp:**\n",
    "for <biếnchạy> in range(<bắtđầu>,<kếtthúc>,<bướcnhảy>):\n",
    "\tnhóm lệnh thực hiện\n",
    "\n",
    "* <bắt đầu> là giá trị khởi gán ban đầu cho biến chạy (mặc định = 0)\n",
    "\n",
    "* <kết thúc> là giá trị kết thúc cho biến chạy, nhưng không bao gồm chính nó (< kết thúc)\n",
    "\n",
    "* <bước nhảy> là giá trị mà biến nhảy tăng thêm sau mỗi lần lặp (mặc định = 1)"
   ]
  },
  {
   "cell_type": "code",
   "execution_count": 39,
   "metadata": {},
   "outputs": [
    {
     "name": "stdout",
     "output_type": "stream",
     "text": [
      "[0, 1, 2, 3, 4, 5, 6, 7, 8, 9]\n",
      "[4, 5, 6, 7, 8, 9]\n",
      "[2, 4, 6, 8]\n"
     ]
    }
   ],
   "source": [
    "print(list(range(10)))    #range chỉ có một tham số (kết thúc)\n",
    "print(list(range(4,10)))  #range chỉ có 2 tham số (bắt đầu, kết thúc)\n",
    "print(list(range(2,10,2)))#range chỉ có 3 tham số (bắt đầu, kết thúc, bước nhảy)"
   ]
  },
  {
   "cell_type": "code",
   "execution_count": 40,
   "metadata": {},
   "outputs": [
    {
     "name": "stdout",
     "output_type": "stream",
     "text": [
      "i =  0\n",
      "i =  1\n",
      "i =  2\n",
      "i =  3\n",
      "i =  4\n",
      "i =  5\n",
      "i =  6\n",
      "i =  7\n"
     ]
    }
   ],
   "source": [
    "#Vòng lặp for với range()\n",
    "\n",
    "for i in range(8):\n",
    "    #giá trị khởi đầu mặc định = 0\n",
    "    #Bước nhảy mặc định = 1\n",
    "    print('i = ',i)"
   ]
  },
  {
   "cell_type": "code",
   "execution_count": null,
   "metadata": {},
   "outputs": [],
   "source": []
  },
  {
   "cell_type": "code",
   "execution_count": null,
   "metadata": {},
   "outputs": [],
   "source": []
  },
  {
   "cell_type": "code",
   "execution_count": 41,
   "metadata": {},
   "outputs": [
    {
     "name": "stdout",
     "output_type": "stream",
     "text": [
      "i =  5\n",
      "i =  6\n",
      "i =  7\n",
      "i =  8\n",
      "i =  9\n",
      "i =  10\n",
      "i =  11\n",
      "i =  12\n",
      "i =  13\n",
      "i =  14\n"
     ]
    }
   ],
   "source": [
    "#Vòng lặp for với range(m,n)\n",
    "\n",
    "for i in range(5,15):\n",
    "    #giá trị khởi đầu m = 5\n",
    "    #giá trị kết thúc n = 10\n",
    "    #Bước nhảy mặc định = 1\n",
    "    print('i = ',i)"
   ]
  },
  {
   "cell_type": "code",
   "execution_count": null,
   "metadata": {},
   "outputs": [],
   "source": []
  },
  {
   "cell_type": "code",
   "execution_count": null,
   "metadata": {},
   "outputs": [],
   "source": [
    "#Vòng lặp for với range(m,n,d)\n",
    "\n",
    "for i in range(2,11,5):\n",
    "    #giá trị khởi đầu m = 2\n",
    "    #giá trị kết thúc n = 11\n",
    "    #Bước nhảy d = 5\n",
    "    print('i = ',i)"
   ]
  },
  {
   "cell_type": "code",
   "execution_count": null,
   "metadata": {},
   "outputs": [],
   "source": [
    "#Thực hiện tính N! = 1*2*3*....(N-1)*N"
   ]
  },
  {
   "cell_type": "code",
   "execution_count": 44,
   "metadata": {},
   "outputs": [
    {
     "name": "stdout",
     "output_type": "stream",
     "text": [
      "Nhập vào số nguyên dương N:10\n",
      "10 ! =  3628800\n"
     ]
    }
   ],
   "source": [
    "n = int(input('Nhập vào số nguyên dương N:'))\n",
    "\n",
    "giaithua = 1\n",
    "\n",
    "for i in range(1,n+1):\n",
    "    giaithua = giaithua * i\n",
    "    \n",
    "print(n, '! = ', giaithua)\n",
    "    "
   ]
  },
  {
   "cell_type": "code",
   "execution_count": 45,
   "metadata": {},
   "outputs": [
    {
     "data": {
      "text/plain": [
       "3628800"
      ]
     },
     "execution_count": 45,
     "metadata": {},
     "output_type": "execute_result"
    }
   ],
   "source": [
    "1*2*3*4*5*6*7*8*9*10"
   ]
  },
  {
   "cell_type": "code",
   "execution_count": 46,
   "metadata": {},
   "outputs": [
    {
     "name": "stdout",
     "output_type": "stream",
     "text": [
      "10\n",
      "9\n",
      "8\n",
      "7\n",
      "6\n",
      "5\n",
      "4\n",
      "3\n",
      "2\n",
      "1\n"
     ]
    }
   ],
   "source": [
    "#Bước nhảy là số âm:\n",
    "for i in range(10, 0, -1):\n",
    "    print(i)"
   ]
  },
  {
   "cell_type": "markdown",
   "metadata": {},
   "source": [
    "**Vòng lặp for lồng nhau**\n",
    "\n",
    "Trong một số bài toán chúng ta cần kết hợp và sử dụng nhiều câu lệnh lặp đặt lồng nhau để giải quyết. \n"
   ]
  },
  {
   "cell_type": "code",
   "execution_count": 47,
   "metadata": {},
   "outputs": [
    {
     "name": "stdout",
     "output_type": "stream",
     "text": [
      "Bảng cửu chương  1\n",
      "1  x  1  =  1\n",
      "1  x  2  =  2\n",
      "1  x  3  =  3\n",
      "1  x  4  =  4\n",
      "1  x  5  =  5\n",
      "1  x  6  =  6\n",
      "1  x  7  =  7\n",
      "1  x  8  =  8\n",
      "1  x  9  =  9\n",
      "1  x  10  =  10\n",
      "----------------------------------\n",
      "Bảng cửu chương  2\n",
      "2  x  1  =  2\n",
      "2  x  2  =  4\n",
      "2  x  3  =  6\n",
      "2  x  4  =  8\n",
      "2  x  5  =  10\n",
      "2  x  6  =  12\n",
      "2  x  7  =  14\n",
      "2  x  8  =  16\n",
      "2  x  9  =  18\n",
      "2  x  10  =  20\n",
      "----------------------------------\n",
      "Bảng cửu chương  3\n",
      "3  x  1  =  3\n",
      "3  x  2  =  6\n",
      "3  x  3  =  9\n",
      "3  x  4  =  12\n",
      "3  x  5  =  15\n",
      "3  x  6  =  18\n",
      "3  x  7  =  21\n",
      "3  x  8  =  24\n",
      "3  x  9  =  27\n",
      "3  x  10  =  30\n",
      "----------------------------------\n",
      "Bảng cửu chương  4\n",
      "4  x  1  =  4\n",
      "4  x  2  =  8\n",
      "4  x  3  =  12\n",
      "4  x  4  =  16\n",
      "4  x  5  =  20\n",
      "4  x  6  =  24\n",
      "4  x  7  =  28\n",
      "4  x  8  =  32\n",
      "4  x  9  =  36\n",
      "4  x  10  =  40\n",
      "----------------------------------\n",
      "Bảng cửu chương  5\n",
      "5  x  1  =  5\n",
      "5  x  2  =  10\n",
      "5  x  3  =  15\n",
      "5  x  4  =  20\n",
      "5  x  5  =  25\n",
      "5  x  6  =  30\n",
      "5  x  7  =  35\n",
      "5  x  8  =  40\n",
      "5  x  9  =  45\n",
      "5  x  10  =  50\n",
      "----------------------------------\n",
      "Bảng cửu chương  6\n",
      "6  x  1  =  6\n",
      "6  x  2  =  12\n",
      "6  x  3  =  18\n",
      "6  x  4  =  24\n",
      "6  x  5  =  30\n",
      "6  x  6  =  36\n",
      "6  x  7  =  42\n",
      "6  x  8  =  48\n",
      "6  x  9  =  54\n",
      "6  x  10  =  60\n",
      "----------------------------------\n",
      "Bảng cửu chương  7\n",
      "7  x  1  =  7\n",
      "7  x  2  =  14\n",
      "7  x  3  =  21\n",
      "7  x  4  =  28\n",
      "7  x  5  =  35\n",
      "7  x  6  =  42\n",
      "7  x  7  =  49\n",
      "7  x  8  =  56\n",
      "7  x  9  =  63\n",
      "7  x  10  =  70\n",
      "----------------------------------\n",
      "Bảng cửu chương  8\n",
      "8  x  1  =  8\n",
      "8  x  2  =  16\n",
      "8  x  3  =  24\n",
      "8  x  4  =  32\n",
      "8  x  5  =  40\n",
      "8  x  6  =  48\n",
      "8  x  7  =  56\n",
      "8  x  8  =  64\n",
      "8  x  9  =  72\n",
      "8  x  10  =  80\n",
      "----------------------------------\n",
      "Bảng cửu chương  9\n",
      "9  x  1  =  9\n",
      "9  x  2  =  18\n",
      "9  x  3  =  27\n",
      "9  x  4  =  36\n",
      "9  x  5  =  45\n",
      "9  x  6  =  54\n",
      "9  x  7  =  63\n",
      "9  x  8  =  72\n",
      "9  x  9  =  81\n",
      "9  x  10  =  90\n",
      "----------------------------------\n",
      "Bảng cửu chương  10\n",
      "10  x  1  =  10\n",
      "10  x  2  =  20\n",
      "10  x  3  =  30\n",
      "10  x  4  =  40\n",
      "10  x  5  =  50\n",
      "10  x  6  =  60\n",
      "10  x  7  =  70\n",
      "10  x  8  =  80\n",
      "10  x  9  =  90\n",
      "10  x  10  =  100\n",
      "----------------------------------\n"
     ]
    }
   ],
   "source": [
    "#Hiển thị bảng cửu chương từ 2 -> 9\n",
    "for e in range(1,11):\n",
    "    print('Bảng cửu chương ', e)\n",
    "    for k in range(1,11):\n",
    "        print (e , ' x ', k, ' = ', e*k)\n",
    "    print('----------------------------------')"
   ]
  },
  {
   "cell_type": "markdown",
   "metadata": {},
   "source": [
    "# THỰC HÀNH\n",
    "---"
   ]
  },
  {
   "cell_type": "markdown",
   "metadata": {},
   "source": [
    "## Bài 9: Hiển thị bảng cửu chương!\n",
    "---\n",
    "Nhập vào bảng cửu chương muốn in (1 – 10), hiển thị bảng cửu chương tương ứng với số vừa nhập. (Lưu ý: Thực hiện kiểm tra giá trị nhập, chỉ thỏa mãn khi giá trị nhập vào trong khoảng [1,10] \n",
    "\n",
    "*Xem minh họa bài tập trong file bài giảng!*"
   ]
  },
  {
   "cell_type": "code",
   "execution_count": null,
   "metadata": {},
   "outputs": [],
   "source": [
    "#{HỌC VIÊN VIẾT CODE Ở ĐÂY!}\n",
    "\n",
    "\n",
    "\n",
    "\n",
    "\n"
   ]
  },
  {
   "cell_type": "code",
   "execution_count": null,
   "metadata": {},
   "outputs": [],
   "source": []
  },
  {
   "cell_type": "markdown",
   "metadata": {},
   "source": [
    "## Bài 10: Tính điểm học tập của bạn!\n",
    "---\n",
    "Khởi tạo một danh sách bao gồm các phần tử là điểm của bạn (hệ 10). Hãy thực hiện:\n",
    "1. Tạo một danh sách là các điểm chữ tương ứng với điểm hệ 10 ở trên.\n",
    "2. Tính điểm trung bình Hệ 10 và Hệ 4\n",
    "\n",
    "*Tham khảo minh họa trong slide bài giảng bảng chuyển đổi từ điểm số (Hệ 10) sang điểm số (hệ 4) và điểm chữ*  \n"
   ]
  },
  {
   "cell_type": "code",
   "execution_count": null,
   "metadata": {},
   "outputs": [],
   "source": [
    "#{HỌC VIÊN VIẾT CODE Ở ĐÂY!}\n",
    "\n",
    "\n",
    "\n",
    "\n",
    "\n",
    "\n"
   ]
  },
  {
   "cell_type": "code",
   "execution_count": null,
   "metadata": {},
   "outputs": [],
   "source": []
  },
  {
   "cell_type": "markdown",
   "metadata": {},
   "source": [
    "## Bài 11: Kiểm tra N có là số nguyên tố?\n",
    "---\n",
    "Nhập vào số tự nhiên N, cho biết N có phải là số nguyên tố hay không? (Số nguyên tố là số lớn hơn 1, chỉ chia hết cho 1 và chính nó)\n"
   ]
  },
  {
   "cell_type": "code",
   "execution_count": null,
   "metadata": {},
   "outputs": [],
   "source": [
    "#{HỌC VIÊN VIẾT CODE Ở ĐÂY!}\n",
    "\n",
    "# Kiểm tra với các giá trị sau\n",
    "\n",
    "#N0 = 2, 4        --> ???\n",
    "#N1 = 98711653011 --> ??\n",
    "#N2 = 87178291199 --> ??\n",
    "\n",
    "\n"
   ]
  },
  {
   "cell_type": "code",
   "execution_count": null,
   "metadata": {},
   "outputs": [],
   "source": []
  },
  {
   "cell_type": "code",
   "execution_count": null,
   "metadata": {},
   "outputs": [],
   "source": []
  },
  {
   "cell_type": "markdown",
   "metadata": {},
   "source": [
    "## Bài 12: dãy số nguyên tố\n",
    "---\n",
    "Nhập vào một số N, hiển thị các số nguyên tố từ 2 tới N:\n"
   ]
  },
  {
   "cell_type": "code",
   "execution_count": null,
   "metadata": {},
   "outputs": [],
   "source": []
  },
  {
   "cell_type": "code",
   "execution_count": null,
   "metadata": {},
   "outputs": [],
   "source": []
  },
  {
   "cell_type": "code",
   "execution_count": null,
   "metadata": {},
   "outputs": [],
   "source": [
    "#{HỌC VIÊN VIẾT CODE Ở ĐÂY!}\n",
    "\n",
    "\n",
    "\n",
    "\n"
   ]
  },
  {
   "cell_type": "code",
   "execution_count": null,
   "metadata": {},
   "outputs": [],
   "source": []
  },
  {
   "cell_type": "code",
   "execution_count": null,
   "metadata": {},
   "outputs": [],
   "source": []
  },
  {
   "cell_type": "markdown",
   "metadata": {},
   "source": [
    "## Bài 13: Đổi số từ thập phân sang nhị phân\n",
    "---\n",
    "Nhập vào một số tự nhiên N (N>0), chuyển đổi số N sang hệ nhị phân.\n"
   ]
  },
  {
   "cell_type": "code",
   "execution_count": null,
   "metadata": {},
   "outputs": [],
   "source": [
    "#{HỌC VIÊN VIẾT CODE Ở ĐÂY!}\n",
    "\n",
    "\n",
    "\n"
   ]
  },
  {
   "cell_type": "code",
   "execution_count": null,
   "metadata": {},
   "outputs": [],
   "source": []
  },
  {
   "cell_type": "code",
   "execution_count": null,
   "metadata": {},
   "outputs": [],
   "source": []
  },
  {
   "cell_type": "markdown",
   "metadata": {},
   "source": [
    "## 4. Các cấu trúc dữ liệu cơ sở\n",
    "\n",
    "<img src='Pic/Picture5.jpg' width='400px'>\n",
    "\n",
    "### 4.1 List comprehension\n",
    "\n",
    "* List comprehension là một cách dễ dàng, ngắn gọn và nhanh chóng để xây dựng một danh sách.\n",
    "* List comprehension sử dụng một biểu thức đi kèm với lệnh for hoặc lệnh if được đặt trong cặp dấu ngoặc vuông []\n",
    "<img src='pic/Picture6.png' width='500px'>"
   ]
  },
  {
   "cell_type": "code",
   "execution_count": 48,
   "metadata": {},
   "outputs": [
    {
     "data": {
      "text/plain": [
       "[1, 3, 9, 27, 81, 243, 729, 2187, 6561, 19683]"
      ]
     },
     "execution_count": 48,
     "metadata": {},
     "output_type": "execute_result"
    }
   ],
   "source": [
    "#Tạo danh sách gồm 10 phần tử có giá trị là 3**x (x = [0,9])\n",
    "list_cub3 = [3**x for x in range(10)]\n",
    "list_cub3"
   ]
  },
  {
   "cell_type": "code",
   "execution_count": 49,
   "metadata": {},
   "outputs": [
    {
     "data": {
      "text/plain": [
       "[0, 4, 8, 12, 16, 20, 24, 28, 32, 36, 40, 44, 48]"
      ]
     },
     "execution_count": 49,
     "metadata": {},
     "output_type": "execute_result"
    }
   ],
   "source": [
    "#Tạo danh sách gồm các phần tử chia hết cho 4 nhỏ hơn 50\n",
    "list_4 = [x for x in range(50) if x%4==0]\n",
    "list_4"
   ]
  },
  {
   "cell_type": "code",
   "execution_count": 50,
   "metadata": {},
   "outputs": [
    {
     "name": "stdout",
     "output_type": "stream",
     "text": [
      "[11, 12, 13, 14, 15]\n",
      "[1, 4, 9, 16, 25]\n"
     ]
    }
   ],
   "source": [
    "#Tạo danh sách mới từ danh sách cũ\n",
    "nums = [1,2,3,4,5]\n",
    "new_nums = [ i+10 for i in nums]\n",
    "power_nums = [i**2 for i in nums]\n",
    "print(new_nums)\n",
    "print(power_nums)"
   ]
  },
  {
   "cell_type": "code",
   "execution_count": 51,
   "metadata": {},
   "outputs": [
    {
     "name": "stdout",
     "output_type": "stream",
     "text": [
      "Greater than ten : [12, 14, 23, 36]\n",
      "Even numbers list : [12, 8, 14, 36, 4]\n"
     ]
    }
   ],
   "source": [
    "#Tạo danh sách mới từ danh sách cũ với điều kiện\n",
    "nums = [1, 12, 8, 14, 9, 23, 36, 5, 4 ]\n",
    "\n",
    "greater_ten = [i for i in nums if(i>10)]\n",
    "evens = [i for i in nums if(i%2==0)]\n",
    "\n",
    "print('Greater than ten :',greater_ten)\n",
    "print('Even numbers list :',evens)"
   ]
  },
  {
   "cell_type": "code",
   "execution_count": 52,
   "metadata": {},
   "outputs": [
    {
     "name": "stdout",
     "output_type": "stream",
     "text": [
      "[0, 10, 20, 30, 40, 50, 60, 70, 80, 90]\n"
     ]
    }
   ],
   "source": [
    "#List Comprehension with Nested Conditions\n",
    "#Tạo ra dánh sách bao gồm các số chia hết cho 2 và 5 nhỏ hơn 100 (2 điều kiện)\n",
    "list_2_5 = [i for i in range(100) if(i%2==0) if(i%5==0) ]\n",
    "print(list_2_5)"
   ]
  },
  {
   "cell_type": "code",
   "execution_count": 53,
   "metadata": {},
   "outputs": [
    {
     "name": "stdout",
     "output_type": "stream",
     "text": [
      "[0, 10, 20, 30, 40, 50, 60, 70, 80, 90]\n"
     ]
    }
   ],
   "source": [
    "list_2_5 = [i for i in range(100) if(i%2==0) & (i%5==0) ]\n",
    "print(list_2_5)"
   ]
  },
  {
   "cell_type": "code",
   "execution_count": 54,
   "metadata": {},
   "outputs": [
    {
     "name": "stdout",
     "output_type": "stream",
     "text": [
      "[1, 3, 9, 5, 25, 7, 49, 9]\n"
     ]
    }
   ],
   "source": [
    "nums=[1,2,3,4,5,6,7,8]\n",
    "\n",
    "#Tạo một danh sách mới nếu phần tử đó chia hết cho 2 thì giá trị cộng thêm 1\n",
    "#nếu không chia hết cho 2 thì tính giá trị mũ 2\n",
    "list_a = [ x+1 if(x%2==0) else x**2 for x in nums ]\n",
    "print(list_a)"
   ]
  },
  {
   "cell_type": "markdown",
   "metadata": {},
   "source": [
    "## BÀI 14:\n",
    "---\n",
    "1)\n",
    "Danh sách list1 bao gồm các ký tự (A-Z):\n",
    "\n",
    "ví dụ: list1 = ['A','F','G','A','C','H','J','B','K']\n",
    "\n",
    "sử dụng list comprehension tạo danh sách list2 với điều kiện:\n",
    "* các ký tự Nguyên âm trong list1 thêm '-NA' vào sau\n",
    "* các ký tự Phụ âm trong list1 thêm '-PA'\n",
    "\n",
    "kết quả: list2 = ['A-NA', 'F-PA', 'G-PA', 'A-NA', 'C-PA', 'H-PA', 'J-PA', 'B-PA', 'K-PA']"
   ]
  },
  {
   "cell_type": "code",
   "execution_count": null,
   "metadata": {},
   "outputs": [],
   "source": [
    "#{HỌC VIÊN VIẾT CODE VÀO ĐÂY}\n",
    "\n",
    "\n",
    "\n",
    "\n",
    "\n"
   ]
  },
  {
   "cell_type": "code",
   "execution_count": null,
   "metadata": {},
   "outputs": [],
   "source": []
  },
  {
   "cell_type": "markdown",
   "metadata": {},
   "source": [
    "2) st = 'Python for Analysis'\n",
    "\n",
    "Sử dụng list comprehension, Thực hiện tách chỉ lấy ký tự trong chuỗi st cho vào danh sách list_st như sau:\n",
    "\n",
    "list_st =  ['P', 'Y', 'T', 'H', 'O', 'N', 'F', 'O', 'R', 'A', 'N', 'A', 'L', 'Y', 'S', 'I', 'S']"
   ]
  },
  {
   "cell_type": "code",
   "execution_count": null,
   "metadata": {},
   "outputs": [],
   "source": [
    "#{HỌC VIÊN VIẾT CODE VÀO ĐÂY}\n",
    "\n",
    "\n",
    "\n",
    "\n",
    "\n"
   ]
  },
  {
   "cell_type": "code",
   "execution_count": null,
   "metadata": {},
   "outputs": [],
   "source": []
  },
  {
   "cell_type": "code",
   "execution_count": null,
   "metadata": {},
   "outputs": [],
   "source": []
  },
  {
   "cell_type": "markdown",
   "metadata": {},
   "source": [
    "## 4.1 Tuple\n",
    "---\n",
    "* Tuple giống như các list với ngoại lệ là dữ liệu một khi được nhập vào bộ dữ liệu không thể thay đổi bất kể điều gì.\n",
    "\n",
    "* Tuple là kiểu dữ liệu không thay đổi được nên nó chỉ có phương thức count() và index()\n"
   ]
  },
  {
   "cell_type": "code",
   "execution_count": 55,
   "metadata": {},
   "outputs": [
    {
     "name": "stdout",
     "output_type": "stream",
     "text": [
      "(4, 8, 9, 0, 5)\n",
      "<class 'tuple'>\n"
     ]
    }
   ],
   "source": [
    "#Khai báo biến kiểu tuple:\n",
    "tup = (4,8,9,0,5)\n",
    "print(tup)\n",
    "print(type(tup))"
   ]
  },
  {
   "cell_type": "code",
   "execution_count": 56,
   "metadata": {},
   "outputs": [
    {
     "name": "stdout",
     "output_type": "stream",
     "text": [
      "(1, 2, 5, 6)\n",
      "('a', 'b', 'c', 'd')\n",
      "()\n",
      "(5, 3, 1)\n",
      "('London', 'Tokyo', 'Korea', 1986, 1640, 1948)\n"
     ]
    }
   ],
   "source": [
    "#Khai báo biến Tuple\n",
    "Tuple1 = (1,2,5,6)\n",
    "Tuple2 = ('a', \"b\", 'c', \"d\")\n",
    "Tuple3 = () #empty tuple\n",
    "Tuple4 = 5,3,1\n",
    "Tuple5 = (\"London\", \"Tokyo\", \"Korea\", 1986,1640, 1948)\n",
    "print(Tuple1)\n",
    "print(Tuple2)\n",
    "print(Tuple3)\n",
    "print(Tuple4)\n",
    "print(Tuple5)"
   ]
  },
  {
   "cell_type": "code",
   "execution_count": 57,
   "metadata": {},
   "outputs": [
    {
     "name": "stdout",
     "output_type": "stream",
     "text": [
      "<class 'int'>\n",
      "<class 'tuple'>\n"
     ]
    }
   ],
   "source": [
    "#Lưu ý: nếu chỉ có một phần tử \n",
    "Tup1 = (5)\n",
    "Tup2 = (5,) #phải có thêm dấu ,\n",
    "print(type(Tup1))\n",
    "print(type(Tup2))"
   ]
  },
  {
   "cell_type": "code",
   "execution_count": 58,
   "metadata": {},
   "outputs": [
    {
     "name": "stdout",
     "output_type": "stream",
     "text": [
      "1\n",
      "2\n",
      "3\n"
     ]
    }
   ],
   "source": [
    "#Tuples Unpacking\n",
    "a,b,c = (1,2,3)\n",
    "print(a)\n",
    "print(b)\n",
    "print(c)"
   ]
  },
  {
   "cell_type": "code",
   "execution_count": 59,
   "metadata": {},
   "outputs": [
    {
     "ename": "TypeError",
     "evalue": "'tuple' object does not support item assignment",
     "output_type": "error",
     "traceback": [
      "\u001b[0;31m---------------------------------------------------------------------------\u001b[0m",
      "\u001b[0;31mTypeError\u001b[0m                                 Traceback (most recent call last)",
      "\u001b[0;32m/var/folders/ck/lc5wvl592cd_2tc617hm6__c0000gn/T/ipykernel_7473/189996829.py\u001b[0m in \u001b[0;36m<module>\u001b[0;34m\u001b[0m\n\u001b[1;32m      1\u001b[0m \u001b[0;31m#Tuple ko cho phép thay đổi dữ liệu:\u001b[0m\u001b[0;34m\u001b[0m\u001b[0;34m\u001b[0m\u001b[0m\n\u001b[1;32m      2\u001b[0m \u001b[0mnum\u001b[0m \u001b[0;34m=\u001b[0m \u001b[0;34m(\u001b[0m\u001b[0;36m1\u001b[0m\u001b[0;34m,\u001b[0m\u001b[0;36m2\u001b[0m\u001b[0;34m,\u001b[0m\u001b[0;36m3\u001b[0m\u001b[0;34m)\u001b[0m\u001b[0;34m\u001b[0m\u001b[0;34m\u001b[0m\u001b[0m\n\u001b[0;32m----> 3\u001b[0;31m \u001b[0mnum\u001b[0m\u001b[0;34m[\u001b[0m\u001b[0;36m1\u001b[0m\u001b[0;34m]\u001b[0m \u001b[0;34m=\u001b[0m \u001b[0;36m20\u001b[0m \u001b[0;31m#Thay đổi phần tử tại index=1\u001b[0m\u001b[0;34m\u001b[0m\u001b[0;34m\u001b[0m\u001b[0m\n\u001b[0m",
      "\u001b[0;31mTypeError\u001b[0m: 'tuple' object does not support item assignment"
     ]
    }
   ],
   "source": [
    "#Tuple ko cho phép thay đổi dữ liệu:\n",
    "num = (1,2,3)\n",
    "num[1] = 20 #Thay đổi phần tử tại index=1"
   ]
  },
  {
   "cell_type": "code",
   "execution_count": 60,
   "metadata": {},
   "outputs": [
    {
     "ename": "TypeError",
     "evalue": "'tuple' object doesn't support item deletion",
     "output_type": "error",
     "traceback": [
      "\u001b[0;31m---------------------------------------------------------------------------\u001b[0m",
      "\u001b[0;31mTypeError\u001b[0m                                 Traceback (most recent call last)",
      "\u001b[0;32m/var/folders/ck/lc5wvl592cd_2tc617hm6__c0000gn/T/ipykernel_7473/2806648194.py\u001b[0m in \u001b[0;36m<module>\u001b[0;34m\u001b[0m\n\u001b[1;32m      1\u001b[0m \u001b[0;31m#Tuple ko cho phép xóa dữ liệu:\u001b[0m\u001b[0;34m\u001b[0m\u001b[0;34m\u001b[0m\u001b[0m\n\u001b[1;32m      2\u001b[0m \u001b[0mtup\u001b[0m \u001b[0;34m=\u001b[0m \u001b[0;34m(\u001b[0m\u001b[0;36m1\u001b[0m\u001b[0;34m,\u001b[0m\u001b[0;36m2\u001b[0m\u001b[0;34m,\u001b[0m\u001b[0;36m3\u001b[0m\u001b[0;34m,\u001b[0m\u001b[0;36m4\u001b[0m\u001b[0;34m,\u001b[0m\u001b[0;36m5\u001b[0m\u001b[0;34m)\u001b[0m\u001b[0;34m\u001b[0m\u001b[0;34m\u001b[0m\u001b[0m\n\u001b[0;32m----> 3\u001b[0;31m \u001b[0;32mdel\u001b[0m \u001b[0mtup\u001b[0m\u001b[0;34m[\u001b[0m\u001b[0;36m2\u001b[0m\u001b[0;34m]\u001b[0m \u001b[0;31m#Xóa phần tử tại index 2\u001b[0m\u001b[0;34m\u001b[0m\u001b[0;34m\u001b[0m\u001b[0m\n\u001b[0m",
      "\u001b[0;31mTypeError\u001b[0m: 'tuple' object doesn't support item deletion"
     ]
    }
   ],
   "source": [
    "#Tuple ko cho phép xóa dữ liệu:\n",
    "tup = (1,2,3,4,5)\n",
    "del tup[2] #Xóa phần tử tại index 2"
   ]
  },
  {
   "cell_type": "markdown",
   "metadata": {},
   "source": [
    "**Truy cập các phần tử trong biến Tuple:** Sử dụng chỉ số tương tự như list\n"
   ]
  },
  {
   "cell_type": "code",
   "execution_count": 61,
   "metadata": {},
   "outputs": [
    {
     "name": "stdout",
     "output_type": "stream",
     "text": [
      "('London', 'Tokyo', 'Korea', 1986, 1640, 1948)\n",
      "London\n",
      "1948\n",
      "('Korea', 1986)\n",
      "(1986, 1640, 1948)\n"
     ]
    }
   ],
   "source": [
    "#Truy cập tới các phần tử trong Tuple:\n",
    "#Tương tự như với list\n",
    "print(Tuple5)\n",
    "print(Tuple5[0])\n",
    "print(Tuple5[-1])\n",
    "print(Tuple5[2:4])\n",
    "print(Tuple5[3:])"
   ]
  },
  {
   "cell_type": "markdown",
   "metadata": {},
   "source": [
    "**Một số thao tác với kiểu dữ liệu Tuple:**"
   ]
  },
  {
   "cell_type": "code",
   "execution_count": 62,
   "metadata": {},
   "outputs": [
    {
     "name": "stdout",
     "output_type": "stream",
     "text": [
      "(4, 8, 9, 0, 5)\n",
      "<class 'tuple'>\n"
     ]
    }
   ],
   "source": [
    "#Khai báo biến kiểu tuple:\n",
    "tup = (4,8,9,0,5)\n",
    "print(tup)\n",
    "print(type(tup))"
   ]
  },
  {
   "cell_type": "code",
   "execution_count": 63,
   "metadata": {},
   "outputs": [
    {
     "name": "stdout",
     "output_type": "stream",
     "text": [
      "1. len: 5\n",
      "2. max: 9\n",
      "3. min: 0\n",
      "4. sum: 26\n",
      "5. sort: [0, 4, 5, 8, 9]\n"
     ]
    }
   ],
   "source": [
    "#1.Len: Số phần tử của tuple\n",
    "print('1. len:',len(tup))\n",
    "#2.max: phần tử lớn nhất của tuple\n",
    "print('2. max:',max(tup))\n",
    "#3.min: phần tử nhỏ nhất của tuple\n",
    "print('3. min:',min(tup))\n",
    "#4.sum: tổng các phần tử của tuple\n",
    "print('4. sum:',sum(tup))\n",
    "#5.sorted: sắp xếp các phần tử  của tuple\n",
    "print('5. sort:',sorted(tup))"
   ]
  },
  {
   "cell_type": "code",
   "execution_count": 64,
   "metadata": {},
   "outputs": [
    {
     "data": {
      "text/plain": [
       "4"
      ]
     },
     "execution_count": 64,
     "metadata": {},
     "output_type": "execute_result"
    }
   ],
   "source": [
    "#count(n): đến số phần tử trong danh sách có giá trị n\n",
    "(1,2,2,2,1,4,2).count(2)"
   ]
  },
  {
   "cell_type": "code",
   "execution_count": 65,
   "metadata": {},
   "outputs": [
    {
     "data": {
      "text/plain": [
       "3"
      ]
     },
     "execution_count": 65,
     "metadata": {},
     "output_type": "execute_result"
    }
   ],
   "source": [
    "#index(n): chỉ số phần tử đầu tiên trong tuple có giá trị n\n",
    "(1, 3, 5, 7, 9, 7).index(7)"
   ]
  },
  {
   "cell_type": "markdown",
   "metadata": {},
   "source": [
    "## BÀI 15:\n",
    "---\n",
    "Khởi tạo một biến tuple lưu chiều cao của sinh viên trong một lớp (m). Thực hiện:\n",
    "\n",
    "    * 1) Hiển thị chiều cao của sinh viên cao nhất – thấp nhất trong lớp\n",
    "    * 2) Tính chiều cao trung bình (TB) của sinh viên trong lớp.\n",
    "    * 3) Số lượng sinh viên trong lớp có chiều cao bằng chiều cao TB của lớp.\n",
    "    * 4) Số lượng sinh viên trong lớp có chiều cao lớn chiều cao TB của lớp."
   ]
  },
  {
   "cell_type": "code",
   "execution_count": null,
   "metadata": {},
   "outputs": [],
   "source": [
    "#{HỌC VIÊN VIẾT CODE Ở ĐÂY}\n",
    "\n",
    "\n",
    "\n",
    "\n"
   ]
  },
  {
   "cell_type": "code",
   "execution_count": null,
   "metadata": {},
   "outputs": [],
   "source": []
  },
  {
   "cell_type": "code",
   "execution_count": null,
   "metadata": {},
   "outputs": [],
   "source": []
  },
  {
   "cell_type": "markdown",
   "metadata": {},
   "source": [
    "## 4.2 Set\n",
    "---\n",
    "* Set là bao gồm các phần tử theo thứ tự (đã sắp xếp), không trùng nhau, được bọc bởi hai dấu ngoặc nhọn {} hoặc khởi tạo bằng set().\n",
    "* Các phần tử trong set không được đánh chỉ số"
   ]
  },
  {
   "cell_type": "code",
   "execution_count": 69,
   "metadata": {},
   "outputs": [
    {
     "name": "stdout",
     "output_type": "stream",
     "text": [
      "{1, 2, 3, 5, 7, 8, 9}\n",
      "{10, 100, 50, 199}\n",
      "set()\n",
      "<class 'set'>\n"
     ]
    }
   ],
   "source": [
    "#Khai báo biến kiểu set\n",
    "a = {1, 2, 7, 5, 5, 1, 3, 9, 8}\n",
    "b = {199, 100, 10, 50}\n",
    "print(a)\n",
    "print(b)\n",
    "\n",
    "empty_set = set() #Khao báo set rỗng\n",
    "print(empty_set)\n",
    "print(type(empty_set))"
   ]
  },
  {
   "cell_type": "code",
   "execution_count": 70,
   "metadata": {},
   "outputs": [
    {
     "ename": "TypeError",
     "evalue": "'set' object is not subscriptable",
     "output_type": "error",
     "traceback": [
      "\u001b[0;31m---------------------------------------------------------------------------\u001b[0m",
      "\u001b[0;31mTypeError\u001b[0m                                 Traceback (most recent call last)",
      "\u001b[0;32m/var/folders/ck/lc5wvl592cd_2tc617hm6__c0000gn/T/ipykernel_7473/2488326509.py\u001b[0m in \u001b[0;36m<module>\u001b[0;34m\u001b[0m\n\u001b[1;32m      1\u001b[0m \u001b[0;31m#Các phần tử trong set không có chỉ số:\u001b[0m\u001b[0;34m\u001b[0m\u001b[0;34m\u001b[0m\u001b[0m\n\u001b[0;32m----> 2\u001b[0;31m \u001b[0ma\u001b[0m\u001b[0;34m[\u001b[0m\u001b[0;36m0\u001b[0m\u001b[0;34m]\u001b[0m\u001b[0;34m\u001b[0m\u001b[0;34m\u001b[0m\u001b[0m\n\u001b[0m",
      "\u001b[0;31mTypeError\u001b[0m: 'set' object is not subscriptable"
     ]
    }
   ],
   "source": [
    "#Các phần tử trong set không có chỉ số:\n",
    "a[0]"
   ]
  },
  {
   "cell_type": "code",
   "execution_count": 71,
   "metadata": {},
   "outputs": [
    {
     "name": "stdout",
     "output_type": "stream",
     "text": [
      "1\n",
      "2\n",
      "3\n",
      "5\n",
      "7\n",
      "8\n",
      "9\n"
     ]
    }
   ],
   "source": [
    "#Truy cập tới các phần tử trong Set:\n",
    "for i in a:\n",
    "    print(i)"
   ]
  },
  {
   "cell_type": "markdown",
   "metadata": {},
   "source": [
    "### Xóa các phần tử khỏi Set"
   ]
  },
  {
   "cell_type": "code",
   "execution_count": null,
   "metadata": {},
   "outputs": [],
   "source": [
    "print(a)"
   ]
  },
  {
   "cell_type": "code",
   "execution_count": null,
   "metadata": {},
   "outputs": [],
   "source": [
    "#Phương thức a.remove(element): xóa phần tử element khỏi set a\n",
    "a.remove(8)\n",
    "print(a)"
   ]
  },
  {
   "cell_type": "code",
   "execution_count": null,
   "metadata": {},
   "outputs": [],
   "source": [
    "#Phương thức a.pop(): Xóa một phần tử ngẫu nhiên trong set a\n",
    "num_set={10, 8, 6, 4}\n",
    "print(num_set)\n",
    "deleted = num_set.pop()\n",
    "print(deleted)\n",
    "print(num_set)"
   ]
  },
  {
   "cell_type": "code",
   "execution_count": null,
   "metadata": {},
   "outputs": [],
   "source": [
    "#phương thưc a.clear(): Xóa tất cả các phần tử trong set a\n",
    "a = {1,5,10,15,20}\n",
    "a.clear()\n",
    "print(a)"
   ]
  },
  {
   "cell_type": "markdown",
   "metadata": {},
   "source": [
    "### Thêm phần tử vào danh sách:"
   ]
  },
  {
   "cell_type": "code",
   "execution_count": null,
   "metadata": {},
   "outputs": [],
   "source": [
    "#Phương thức add: thêm một giá trị vào danh sách\n",
    "fruits = {'apple', 'banana','cherry'}\n",
    "fruits.add('strawberry')\n",
    "print(fruits)"
   ]
  },
  {
   "cell_type": "code",
   "execution_count": null,
   "metadata": {},
   "outputs": [],
   "source": [
    "#Phương thức update: thêm nhiều giá trị cùng một lúc\n",
    "fruits.update({'cherry','kiwi','lemon' })\n",
    "print(fruits)"
   ]
  },
  {
   "cell_type": "markdown",
   "metadata": {},
   "source": [
    "### Hợp (union) và giao (intersection) của 2 set:\n",
    "\n",
    "<img src='Pic/Picture1.png' width='400px'>"
   ]
  },
  {
   "cell_type": "code",
   "execution_count": null,
   "metadata": {},
   "outputs": [],
   "source": [
    "#Khởi tạo 2 set A, B:\n",
    "A = {1, 2, 3, 4, 5}\n",
    "B = {4, 5, 6, 7, 8}"
   ]
  },
  {
   "cell_type": "code",
   "execution_count": null,
   "metadata": {},
   "outputs": [],
   "source": [
    "#Union 2 set A, B: Lấy tất cả các phần tử của tập A, B\n",
    "#Cách 1\n",
    "C1 = A | B\n",
    "print(C1)\n",
    "\n",
    "#Cách 2:\n",
    "C2 = A.union(B)\n",
    "print(C2)"
   ]
  },
  {
   "cell_type": "code",
   "execution_count": null,
   "metadata": {},
   "outputs": [],
   "source": [
    "#intersection 2 set A, B: Chỉ lấy các phần tử chung của tập A, B\n",
    "#Cách 1\n",
    "D1 = A & B\n",
    "print(D1)\n",
    "\n",
    "#Cách 2:\n",
    "D2 = A.intersection(B)\n",
    "print(D2)"
   ]
  },
  {
   "cell_type": "code",
   "execution_count": null,
   "metadata": {},
   "outputs": [],
   "source": [
    "#Difference 2 set A, B: Chỉ lấy các phần tử khác nhau của tập A so với B\n",
    "print(A)\n",
    "print(B)\n",
    "E1 = A.difference(B)\n",
    "print(E1)\n"
   ]
  },
  {
   "cell_type": "code",
   "execution_count": null,
   "metadata": {},
   "outputs": [],
   "source": [
    "print({1,2,3,4}.difference({3,4,5,6},{ 1,3,4,5} ) )"
   ]
  },
  {
   "cell_type": "code",
   "execution_count": null,
   "metadata": {},
   "outputs": [],
   "source": [
    "# symmetric_difference(): Lấy các phần tử khác nhau của 2 tập A, B\n",
    "print(A)\n",
    "print(B)\n",
    "E2 = A.symmetric_difference(B)\n",
    "print(E2)\n"
   ]
  },
  {
   "cell_type": "code",
   "execution_count": null,
   "metadata": {},
   "outputs": [],
   "source": []
  },
  {
   "cell_type": "code",
   "execution_count": null,
   "metadata": {},
   "outputs": [],
   "source": []
  },
  {
   "cell_type": "markdown",
   "metadata": {},
   "source": [
    "## Bài 16: \n",
    "---\n",
    "có 2 lớp sinh viên A1 và A2 mỗi lớp có 10 em, và bảng điểm của 2 lớp lưu ở biến danh sách như sau:\n",
    "* A1 = [8, 7 , 9, 4, 5, 7, 9, 9, 8, 8]\n",
    "* A2=  [10, 3 , 6, 10, 7, 7, 5, 3, 9, 0]\n",
    "\n",
    "Yêu cầu:\n",
    "1. Chuyển đổi A1, A2 về kiểu dữ liệu set\n",
    "2. Liệt kê danh sách các đầu điểm mà 2 lớp nhận được\n",
    "3. Các đầu điểm chung mà 2 lớp nhận được"
   ]
  },
  {
   "cell_type": "code",
   "execution_count": null,
   "metadata": {},
   "outputs": [],
   "source": [
    "#{HỌC VIÊN VIẾT CODE Ở ĐÂY}\n",
    "\n",
    "\n",
    "\n",
    "\n"
   ]
  },
  {
   "cell_type": "code",
   "execution_count": null,
   "metadata": {},
   "outputs": [],
   "source": []
  },
  {
   "cell_type": "code",
   "execution_count": null,
   "metadata": {},
   "outputs": [],
   "source": []
  },
  {
   "cell_type": "markdown",
   "metadata": {},
   "source": [
    "## 4.3 Dictionary\n",
    "---\n",
    "*  là tập hợp các cặp khóa - giá trị không có thứ tự.\n",
    "*  thường được sử dụng khi chúng ta có một số lượng lớn dữ liệu. \n",
    "* Các dictionary được tối ưu hóa để trích xuất dữ liệu với điều kiện bạn phải biết được khóa để lấy giá trị.\n",
    "<img src='Pic/Picture2.png' width='400px'>"
   ]
  },
  {
   "cell_type": "code",
   "execution_count": null,
   "metadata": {},
   "outputs": [],
   "source": [
    "#Khai báo biến kiểu dictionary:\n",
    "# empty dictionary \n",
    "my_dict1={}\n",
    "# dictionary with integer keys\n",
    "my_dict2={1:'apple',2:'ball'}\n",
    "# dictionary with mixed keys\n",
    "my_dict3={'name':'John',1:[2,4,3]}\n",
    "# using dict()\n",
    "my_dict4=dict({'name':'John',1:[2,4,3]})\n",
    "# from sequence having each item as a pair\n",
    "my_dict5=dict([(1,'apple'),(2,'ball')])"
   ]
  },
  {
   "cell_type": "code",
   "execution_count": null,
   "metadata": {},
   "outputs": [],
   "source": [
    "my_dict1"
   ]
  },
  {
   "cell_type": "code",
   "execution_count": null,
   "metadata": {},
   "outputs": [],
   "source": [
    "my_dict2"
   ]
  },
  {
   "cell_type": "code",
   "execution_count": null,
   "metadata": {},
   "outputs": [],
   "source": [
    "my_dict3"
   ]
  },
  {
   "cell_type": "markdown",
   "metadata": {},
   "source": [
    "### Truy cập phần tử của dictionary:\n",
    "---\n",
    "* Các kiểu ddữ liệu lưu trữ khác sử dụng index để truy cập vào các giá trị(str, list, tuple) thì dictionary sử dụng các key. \n",
    "* Key có thể được sử dụng trong cặp dấu ngoặc vuông hoặc sử dụng get()."
   ]
  },
  {
   "cell_type": "code",
   "execution_count": null,
   "metadata": {},
   "outputs": [],
   "source": [
    "my_info = {'name': 'NamDV', 'age':26, 'sex':'Male', 'address': 'Ha Noi'}\n",
    "print(my_info)"
   ]
  },
  {
   "cell_type": "code",
   "execution_count": null,
   "metadata": {},
   "outputs": [],
   "source": [
    "print(my_info['name'])\n",
    "\n",
    "print(my_info.get('age'))"
   ]
  },
  {
   "cell_type": "code",
   "execution_count": null,
   "metadata": {},
   "outputs": [],
   "source": [
    "#Nếu key không tồn tại \n",
    "my_info['sport']"
   ]
  },
  {
   "cell_type": "code",
   "execution_count": null,
   "metadata": {},
   "outputs": [],
   "source": [
    "my_info.get('sport') #--> trả về None"
   ]
  },
  {
   "cell_type": "markdown",
   "metadata": {},
   "source": [
    "### Thêm phần tử vào biến dictionary\n",
    "---\n",
    "* Dictionary có thể thay đổi, nên có thể thêm phần tử mới hoặc thay đổi giá trị của các phần tử hiện có bằng cách sử dụng toán tử gán. \n",
    "* Nếu key đã có, giá trị sẽ được cập nhật, nếu là một cặp key: value mới thì sẽ được thêm thành phần tử mới."
   ]
  },
  {
   "cell_type": "code",
   "execution_count": null,
   "metadata": {},
   "outputs": [],
   "source": [
    "#thêm phần tử 'sport':['football', 'tennis']\n",
    "my_info['sport'] = ['football','tennis']\n",
    "print(my_info)"
   ]
  },
  {
   "cell_type": "code",
   "execution_count": null,
   "metadata": {},
   "outputs": [],
   "source": [
    "#Trường hợp key đã có thực hiện update\n",
    "my_info['age'] = 36\n",
    "print(my_info)"
   ]
  },
  {
   "cell_type": "markdown",
   "metadata": {},
   "source": [
    "### Xóa phần tử khỏi dictionary"
   ]
  },
  {
   "cell_type": "code",
   "execution_count": null,
   "metadata": {},
   "outputs": [],
   "source": [
    "print(my_info)"
   ]
  },
  {
   "cell_type": "code",
   "execution_count": null,
   "metadata": {},
   "outputs": [],
   "source": [
    "#phương thức pop(key): xóa phần với key\n",
    "my_info.pop('address')\n",
    "print(my_info)"
   ]
  },
  {
   "cell_type": "code",
   "execution_count": null,
   "metadata": {},
   "outputs": [],
   "source": [
    "#Nếu key không tồn tại --> Error\n",
    "my_info.pop('wife')"
   ]
  },
  {
   "cell_type": "code",
   "execution_count": null,
   "metadata": {},
   "outputs": [],
   "source": [
    "#Phương thức popitem(): xóa tất cả chỉ đề lại key-value cuối cùng\n",
    "my_info.popitem()"
   ]
  },
  {
   "cell_type": "code",
   "execution_count": null,
   "metadata": {},
   "outputs": [],
   "source": [
    "#Phương thức clear(): xóa tất cả các phần tử trong dictionary\n",
    "my_info.clear()\n",
    "print(my_info)"
   ]
  },
  {
   "cell_type": "markdown",
   "metadata": {},
   "source": [
    "### Một số phương thức thông dụng với dictionary"
   ]
  },
  {
   "cell_type": "code",
   "execution_count": null,
   "metadata": {},
   "outputs": [],
   "source": [
    "#items(): lấy danh sách các phần tử\n",
    "print(my_dict2)\n",
    "print(my_dict2.items())"
   ]
  },
  {
   "cell_type": "code",
   "execution_count": null,
   "metadata": {},
   "outputs": [],
   "source": [
    "#keys(): lấy danh sách các key\n",
    "print(my_dict2.keys())"
   ]
  },
  {
   "cell_type": "code",
   "execution_count": null,
   "metadata": {},
   "outputs": [],
   "source": [
    "#values(): lấy danh sách các values\n",
    "print(my_dict2.values())"
   ]
  },
  {
   "cell_type": "code",
   "execution_count": null,
   "metadata": {},
   "outputs": [],
   "source": [
    "#copy(): tạo bản sao\n",
    "z = my_dict2.copy()\n",
    "print(z)"
   ]
  },
  {
   "cell_type": "code",
   "execution_count": null,
   "metadata": {},
   "outputs": [],
   "source": [
    "#len\n",
    "print(len(my_dict2))"
   ]
  },
  {
   "cell_type": "code",
   "execution_count": null,
   "metadata": {},
   "outputs": [],
   "source": []
  },
  {
   "cell_type": "markdown",
   "metadata": {},
   "source": [
    "## Dictionary comprehension\n",
    "---\n",
    "dictionary comprehension là một cách dễ dàng, ngắn gọn và nhanh chóng để xây dựng một biến kiểu dictionary theo một điều kiện nào đó.\n",
    "\n",
    "<img src='Pic/picture4.png' width='600px'>"
   ]
  },
  {
   "cell_type": "code",
   "execution_count": null,
   "metadata": {},
   "outputs": [],
   "source": [
    "#Tự động tạo một biến dictionary theo quy định:\n",
    "dict_lapphuong = {x:x**3 for x in range(6)}\n",
    "print('output:', dict_lapphuong)"
   ]
  },
  {
   "cell_type": "code",
   "execution_count": null,
   "metadata": {},
   "outputs": [],
   "source": [
    "dict_lapphuong_chan = {x:x**3 for x in range(10) if x%2==0}\n",
    "print('output:',dict_lapphuong_chan)"
   ]
  },
  {
   "cell_type": "code",
   "execution_count": null,
   "metadata": {},
   "outputs": [],
   "source": []
  },
  {
   "cell_type": "code",
   "execution_count": null,
   "metadata": {},
   "outputs": [],
   "source": []
  },
  {
   "cell_type": "markdown",
   "metadata": {},
   "source": [
    "## Bài 17: \n",
    "---\n",
    "Bảng điểm của một sinh viên như sau:\n",
    "* Maths: 82\n",
    "* Physics: 90\n",
    "* History: 75\n",
    "* Science: 94\n",
    "* Biology: 75\n",
    "* Chemistry: 88\n",
    "* Infomation technology: 99\n",
    "\n",
    "Yêu cầu:\n",
    "1. Tạo một biến dict_point lưu dữ liệu ở trên\n",
    "2. Tạo một danh sách từ biến dict_point chỉ chứa tên các môn học\n",
    "3. Cho biết môn học sinh viên đạt điểm cao nhất - thấp nhất\n"
   ]
  },
  {
   "cell_type": "code",
   "execution_count": null,
   "metadata": {},
   "outputs": [],
   "source": [
    "#{HỌC VIÊN VIẾT CODE Ở ĐÂY}\n",
    "\n",
    "\n",
    "\n",
    "\n"
   ]
  },
  {
   "cell_type": "code",
   "execution_count": null,
   "metadata": {},
   "outputs": [],
   "source": []
  },
  {
   "cell_type": "code",
   "execution_count": null,
   "metadata": {},
   "outputs": [],
   "source": []
  },
  {
   "cell_type": "code",
   "execution_count": null,
   "metadata": {},
   "outputs": [],
   "source": []
  },
  {
   "cell_type": "markdown",
   "metadata": {},
   "source": [
    "**2) Nhập vào một số nguyên n, hãy viết chương trình sử dụng dictionary comprehension để tạo ra một dictionary trong đó keys là các số chẵn trong khoảng từ 0 --> n, values là bình phương của chính key đó (i, i^2)**"
   ]
  },
  {
   "cell_type": "code",
   "execution_count": null,
   "metadata": {},
   "outputs": [],
   "source": [
    "#{HỌC VIÊN VIẾT CODE VÀO ĐÂY}\n",
    "\n",
    "\n",
    "\n",
    "\n",
    "\n"
   ]
  },
  {
   "cell_type": "code",
   "execution_count": null,
   "metadata": {},
   "outputs": [],
   "source": []
  },
  {
   "cell_type": "code",
   "execution_count": null,
   "metadata": {},
   "outputs": [],
   "source": []
  },
  {
   "cell_type": "code",
   "execution_count": null,
   "metadata": {},
   "outputs": [],
   "source": []
  },
  {
   "cell_type": "markdown",
   "metadata": {},
   "source": [
    "## 5. Ngoại lệ (Exception):\n",
    "---\n",
    "Ngoại lệ là một sự kiện, xảy ra trong quá trình thực thi chương trình làm gián đoạn luồng hướng dẫn bình thường của chương trình.\n",
    "\n",
    "Khi một tập lệnh trong python tạo ra một ngoại lệ, nó phải xử lý ngoại lệ đó ngay lập tức nếu không nó sẽ kết thúc và thoát.\n",
    "Một số ngoại lệ phổ biến trong Python:\n",
    "* ZeroDivisionError:\n",
    "* NameError:\n",
    "* IndentationError:\n",
    "* IOError:\n",
    "* EOFError:\n",
    "* …"
   ]
  },
  {
   "cell_type": "code",
   "execution_count": 72,
   "metadata": {},
   "outputs": [
    {
     "ename": "ZeroDivisionError",
     "evalue": "division by zero",
     "output_type": "error",
     "traceback": [
      "\u001b[0;31m---------------------------------------------------------------------------\u001b[0m",
      "\u001b[0;31mZeroDivisionError\u001b[0m                         Traceback (most recent call last)",
      "\u001b[0;32m/var/folders/ck/lc5wvl592cd_2tc617hm6__c0000gn/T/ipykernel_7473/2935004126.py\u001b[0m in \u001b[0;36m<module>\u001b[0;34m\u001b[0m\n\u001b[1;32m      3\u001b[0m \u001b[0ma\u001b[0m \u001b[0;34m=\u001b[0m \u001b[0;36m10\u001b[0m\u001b[0;34m\u001b[0m\u001b[0;34m\u001b[0m\u001b[0m\n\u001b[1;32m      4\u001b[0m \u001b[0mb\u001b[0m \u001b[0;34m=\u001b[0m \u001b[0;36m0\u001b[0m\u001b[0;34m\u001b[0m\u001b[0;34m\u001b[0m\u001b[0m\n\u001b[0;32m----> 5\u001b[0;31m \u001b[0mc\u001b[0m \u001b[0;34m=\u001b[0m \u001b[0ma\u001b[0m\u001b[0;34m/\u001b[0m\u001b[0mb\u001b[0m\u001b[0;34m\u001b[0m\u001b[0;34m\u001b[0m\u001b[0m\n\u001b[0m\u001b[1;32m      6\u001b[0m \u001b[0mprint\u001b[0m\u001b[0;34m(\u001b[0m\u001b[0;34m'a/b = '\u001b[0m\u001b[0;34m,\u001b[0m\u001b[0mc\u001b[0m\u001b[0;34m)\u001b[0m\u001b[0;34m\u001b[0m\u001b[0;34m\u001b[0m\u001b[0m\n",
      "\u001b[0;31mZeroDivisionError\u001b[0m: division by zero"
     ]
    }
   ],
   "source": [
    "#Một số ngoại lệ thường gặp:\n",
    "#ZeroDivisionError:\n",
    "a = 10\n",
    "b = 0\n",
    "c = a/b\n",
    "print('a/b = ',c)"
   ]
  },
  {
   "cell_type": "code",
   "execution_count": 73,
   "metadata": {},
   "outputs": [
    {
     "ename": "NameError",
     "evalue": "name 'Aa' is not defined",
     "output_type": "error",
     "traceback": [
      "\u001b[0;31m---------------------------------------------------------------------------\u001b[0m",
      "\u001b[0;31mNameError\u001b[0m                                 Traceback (most recent call last)",
      "\u001b[0;32m/var/folders/ck/lc5wvl592cd_2tc617hm6__c0000gn/T/ipykernel_7473/2594854335.py\u001b[0m in \u001b[0;36m<module>\u001b[0;34m\u001b[0m\n\u001b[1;32m      1\u001b[0m \u001b[0;31m#NameError:\u001b[0m\u001b[0;34m\u001b[0m\u001b[0;34m\u001b[0m\u001b[0m\n\u001b[0;32m----> 2\u001b[0;31m \u001b[0mprint\u001b[0m \u001b[0;34m(\u001b[0m\u001b[0mAa\u001b[0m\u001b[0;34m)\u001b[0m\u001b[0;34m\u001b[0m\u001b[0;34m\u001b[0m\u001b[0m\n\u001b[0m",
      "\u001b[0;31mNameError\u001b[0m: name 'Aa' is not defined"
     ]
    }
   ],
   "source": [
    "#NameError:\n",
    "print (Aa)"
   ]
  },
  {
   "cell_type": "code",
   "execution_count": 74,
   "metadata": {},
   "outputs": [
    {
     "ename": "IndentationError",
     "evalue": "unexpected indent (3178290812.py, line 4)",
     "output_type": "error",
     "traceback": [
      "\u001b[0;36m  File \u001b[0;32m\"/var/folders/ck/lc5wvl592cd_2tc617hm6__c0000gn/T/ipykernel_7473/3178290812.py\"\u001b[0;36m, line \u001b[0;32m4\u001b[0m\n\u001b[0;31m    print(---)\u001b[0m\n\u001b[0m    ^\u001b[0m\n\u001b[0;31mIndentationError\u001b[0m\u001b[0;31m:\u001b[0m unexpected indent\n"
     ]
    }
   ],
   "source": [
    "#IndentationError:\n",
    "for i in range(10):\n",
    "    print(i)\n",
    "        print(---)"
   ]
  },
  {
   "cell_type": "code",
   "execution_count": 75,
   "metadata": {},
   "outputs": [
    {
     "ename": "FileNotFoundError",
     "evalue": "[Errno 2] No such file or directory: 'file.txt'",
     "output_type": "error",
     "traceback": [
      "\u001b[0;31m---------------------------------------------------------------------------\u001b[0m",
      "\u001b[0;31mFileNotFoundError\u001b[0m                         Traceback (most recent call last)",
      "\u001b[0;32m/var/folders/ck/lc5wvl592cd_2tc617hm6__c0000gn/T/ipykernel_7473/3654930303.py\u001b[0m in \u001b[0;36m<module>\u001b[0;34m\u001b[0m\n\u001b[1;32m      1\u001b[0m \u001b[0;31m#IOError:\u001b[0m\u001b[0;34m\u001b[0m\u001b[0;34m\u001b[0m\u001b[0m\n\u001b[0;32m----> 2\u001b[0;31m \u001b[0mfileptr\u001b[0m \u001b[0;34m=\u001b[0m \u001b[0mopen\u001b[0m\u001b[0;34m(\u001b[0m\u001b[0;34m\"file.txt\"\u001b[0m\u001b[0;34m,\u001b[0m\u001b[0;34m\"r\"\u001b[0m\u001b[0;34m)\u001b[0m\u001b[0;34m\u001b[0m\u001b[0;34m\u001b[0m\u001b[0m\n\u001b[0m",
      "\u001b[0;31mFileNotFoundError\u001b[0m: [Errno 2] No such file or directory: 'file.txt'"
     ]
    }
   ],
   "source": [
    "#IOError:\n",
    "fileptr = open(\"file.txt\",\"r\")  "
   ]
  },
  {
   "cell_type": "code",
   "execution_count": null,
   "metadata": {},
   "outputs": [],
   "source": [
    "#OverflowError:\n",
    "import math\n",
    "math.exp(1000)"
   ]
  },
  {
   "cell_type": "code",
   "execution_count": null,
   "metadata": {},
   "outputs": [],
   "source": [
    "#Type Error\n",
    "a = 10\n",
    "b = 'Vingroup'\n",
    "c = a + b"
   ]
  },
  {
   "cell_type": "code",
   "execution_count": null,
   "metadata": {},
   "outputs": [],
   "source": [
    "#IndexError:\n",
    "z = [1,6,8,9,5]\n",
    "print(z[10])"
   ]
  },
  {
   "cell_type": "markdown",
   "metadata": {},
   "source": [
    "### Xử lý ngoại lệ:\n",
    "---"
   ]
  },
  {
   "cell_type": "code",
   "execution_count": null,
   "metadata": {},
   "outputs": [],
   "source": [
    "#try....except\n",
    "try:  \n",
    "    a = int(input(\"Enter a:\"))    \n",
    "    b = int(input(\"Enter b:\"))    \n",
    "    c = a/b  \n",
    "except:  \n",
    "    print(\"Can't divide with zero\")  "
   ]
  },
  {
   "cell_type": "code",
   "execution_count": null,
   "metadata": {},
   "outputs": [],
   "source": [
    "#Hiển thị ngoại lệ:\n",
    "try:\n",
    "    fh = open(\"testfile\", \"r\")\n",
    "    fh.write(\"This is my test file for exception handling!!\")\n",
    "except Exception as e:\n",
    "    print(e)"
   ]
  },
  {
   "cell_type": "code",
   "execution_count": null,
   "metadata": {},
   "outputs": [],
   "source": [
    "try:\n",
    "    fh = open(\"testfile\", \"r\")\n",
    "    fh.write(\"This is my test file for exception handling!!\")\n",
    "except IOError as e:\n",
    "    print(e)"
   ]
  },
  {
   "cell_type": "code",
   "execution_count": null,
   "metadata": {},
   "outputs": [],
   "source": [
    "#Try....except...else:\n",
    "try:\n",
    "    fh = open(\"testfile.txt\", \"r\")\n",
    "    fh.write(\"This is my test file for exception handling!!\")\n",
    "except Exception as e:\n",
    "    print(\"Error: can\\'t find file or read data\")\n",
    "    print(e)\n",
    "else:\n",
    "    print(\"Written content in the file successfully\")"
   ]
  },
  {
   "cell_type": "code",
   "execution_count": null,
   "metadata": {},
   "outputs": [],
   "source": [
    "##Try....except...else...finally\n",
    "try:\n",
    "    fh = open(\"testfile.txt\", \"r\")\n",
    "    fh.write(\"This is my test file for exception handling!!\")\n",
    "except IOError as e:\n",
    "    print(\"Error: can\\'t find file or read data\")\n",
    "    print(e)\n",
    "else:\n",
    "    print(\"Written content in the file successfully\")\n",
    "finally:\n",
    "    fh.close()\n",
    "    print(\"End process....\")"
   ]
  },
  {
   "cell_type": "code",
   "execution_count": null,
   "metadata": {},
   "outputs": [],
   "source": [
    "#\n",
    "try:    \n",
    "    fileptr = open(\"file2.txt\",\"a\")      \n",
    "    try:    \n",
    "        fileptr.write(\"Hi I am good\")    \n",
    "    finally:    \n",
    "        fileptr.close()    \n",
    "        print(\"file closed\")    \n",
    "except:    \n",
    "    print(\"Error\")   "
   ]
  },
  {
   "cell_type": "code",
   "execution_count": null,
   "metadata": {},
   "outputs": [],
   "source": []
  }
 ],
 "metadata": {
  "kernelspec": {
   "display_name": "Python 3 (ipykernel)",
   "language": "python",
   "name": "python3"
  },
  "language_info": {
   "codemirror_mode": {
    "name": "ipython",
    "version": 3
   },
   "file_extension": ".py",
   "mimetype": "text/x-python",
   "name": "python",
   "nbconvert_exporter": "python",
   "pygments_lexer": "ipython3",
   "version": "3.9.7"
  }
 },
 "nbformat": 4,
 "nbformat_minor": 2
}
