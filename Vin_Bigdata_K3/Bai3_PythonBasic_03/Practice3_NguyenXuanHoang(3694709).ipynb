{
 "cells": [
  {
   "cell_type": "markdown",
   "metadata": {},
   "source": [
    "## <img src ='Pic\\logo.jpg' width='700px'>\n",
    "\n",
    "\n",
    "<div align=\"center\">\n",
    "\n",
    "# KHÓA HỌC: LẬP TRÌNH PYTHON CƠ BẢN\n",
    "\n",
    "</div>\n",
    "\n",
    "\n",
    "---\n",
    "Practice3: Lập trình Python cơ bản\n",
    "---\n",
    "* Học viên: Nguyễn Xuân Hoàng\n",
    "* Email: hoangk63hust@gmail.com\n"
   ]
  },
  {
   "cell_type": "markdown",
   "metadata": {},
   "source": [
    "## BÀI 18.a_b: Viết hàm cho các bài đã thực hiện\n",
    "---\n",
    "1. Viết hàm greeting(): Trả về câu chào với tham số truyền vào là chuỗi họ tên và năm sinh (Xem lại bài tập số 2)\n",
    "2. Viết hàm rabbit_count(): tính số thỏ trong rừng khi truyền vào số tháng (Xem lại bài tập số 3)\n",
    "3. Viết hàm count_mark(): trả về số sinh viên học lại và tổng số sinh viên trong lớp với tham số truyền vào là một danh sách bảng điểm (Xem lại bài tập số 5 ý 1, 2)\n",
    "4. Viết hàm bmi_show(): Trả về nhận xét dựa vào chỉ số BMI đã tính với 2 tham số truyền vào là chiều cao, cân nặng (Xem lại bài tập số 7)\n",
    "5. Viết hàm cal_point(): Trả về điểm trung bình hệ 10 và hệ 4 của một học sinh khi truyền vào danh sách điểm (Xem lại bài tập số 10 ý 2)\n",
    "6. Viết hàm list_prime(): trả danh sách các số nguyên tố trong khoảng tử 1 đến n với tham số truyền vào là n (Xem lại bài tập số 12)\n"
   ]
  },
  {
   "cell_type": "code",
   "execution_count": 5,
   "metadata": {},
   "outputs": [
    {
     "name": "stdout",
     "output_type": "stream",
     "text": [
      " Chao Bạn \"MINH THANG\" - 19 tuổi!\n"
     ]
    }
   ],
   "source": [
    "#{HỌC VIÊN VIẾT CODE VÀO ĐÂY}\n",
    "def greeting(name='Hoang', year =2000):\n",
    "    '''\n",
    "    Ham chao hoi\n",
    "    input: ten, nam sinh\n",
    "    '''\n",
    "    \n",
    "    Name = name.upper()\n",
    "    old =  2022-int(year)\n",
    "    print(f' Chao Bạn \"{Name}\" - {old} tuổi!')\n",
    "\n",
    "greeting('Minh Thang', 2003)\n"
   ]
  },
  {
   "cell_type": "code",
   "execution_count": 8,
   "metadata": {},
   "outputs": [
    {
     "name": "stdout",
     "output_type": "stream",
     "text": [
      "Trong rung co 8 con tho sau 2 thang.\n"
     ]
    }
   ],
   "source": [
    "def rabbit_count(x=1):\n",
    "    '''\n",
    "    Ham dem so tho sau x thang\n",
    "    input: so thang, default =1\n",
    "    '''\n",
    "    pairs = 2 \n",
    "    print('Trong rung co', pairs**(x+1), 'con tho sau', x, 'thang.')\n",
    "rabbit_count(2)\n",
    "rabbit_count?"
   ]
  },
  {
   "cell_type": "code",
   "execution_count": 11,
   "metadata": {},
   "outputs": [
    {
     "name": "stdout",
     "output_type": "stream",
     "text": [
      "Danh sach ban dau:\n",
      " ['F']\n",
      "Tong so hoc sinh trong lop:  1\n",
      "So sinh vien phai hoc lai la: 1\n"
     ]
    }
   ],
   "source": [
    "def count_mark(grade_list=['A', 'B', 'C', 'F', 'D']):\n",
    "    '''\n",
    "    Tinh so vien hoc lai \n",
    "    input: ds diem cua 1 lop\n",
    "    '''\n",
    "    print('Danh sach ban dau:\\n',grade_list)\n",
    "    print('Tong so hoc sinh trong lop: ', len(grade_list))\n",
    "    print('So sinh vien phai hoc lai la:', grade_list.count('F'))\n",
    "count_mark(['F'])"
   ]
  },
  {
   "cell_type": "code",
   "execution_count": 14,
   "metadata": {},
   "outputs": [
    {
     "name": "stdout",
     "output_type": "stream",
     "text": [
      "Normalweight\n"
     ]
    }
   ],
   "source": [
    "def bmi_show(w=1, h = 1):\n",
    "    BMI = w/(h**2)\n",
    "    if BMI < 18.5:\n",
    "        print('Underweight')\n",
    "    elif 18.5 <= BMI and BMI <= 24.9:\n",
    "        print('Normalweight')\n",
    "    elif 25<= BMI and BMI <=29.9:\n",
    "        print('Overweight')\n",
    "    else:\n",
    "        print ('Obese')\n",
    "bmi_show(64,1.67)\n",
    "    "
   ]
  },
  {
   "cell_type": "code",
   "execution_count": 15,
   "metadata": {},
   "outputs": [
    {
     "name": "stdout",
     "output_type": "stream",
     "text": [
      "Diem he 10: [9]\n",
      "Diem trung binh he 10:  9.0\n",
      "Diem trung binh he 4: 3.6\n"
     ]
    }
   ],
   "source": [
    "def cal_point(score = [2.5, 8.4, 9.5, 3]):\n",
    "    print('Diem he 10: {}'.format(score))\n",
    "    so_mon_hoc = len(score)\n",
    "    tong = 0.0\n",
    "    for i in score:\n",
    "        tong+= i\n",
    "    avr_score = tong/so_mon_hoc\n",
    "    print('Diem trung binh he 10: ', avr_score)\n",
    "    print('Diem trung binh he 4:', avr_score*4/10 )\n",
    "cal_point([9])\n",
    "\n",
    "    "
   ]
  },
  {
   "cell_type": "code",
   "execution_count": 18,
   "metadata": {},
   "outputs": [
    {
     "name": "stdout",
     "output_type": "stream",
     "text": [
      "Cac so nguyen to nho hon 3 tru 1 la:\n",
      "2\n",
      "3\n"
     ]
    }
   ],
   "source": [
    "def check_prime(n):\n",
    "    for i in range(2, int(n**0.5)+1):\n",
    "        if n % i == 0:\n",
    "            return False\n",
    "    return True\n",
    "def list_prime(N):\n",
    "    temp = 2\n",
    "    print('Cac so nguyen to nho hon {} tru 1 la:'.format(N))\n",
    "    while temp<=N:\n",
    "        if check_prime(temp): \n",
    "            print(temp)\n",
    "        temp+= 1\n",
    "list_prime(3)\n",
    "        \n",
    "    "
   ]
  },
  {
   "cell_type": "markdown",
   "metadata": {},
   "source": [
    "## Bài 18.c:\n",
    "---\n",
    "7. Xây dựng hàm thực hiện chức năng sau theo phương pháp đệ quy:\n",
    "Truyền vào một số tự nhiên N, \n",
    "    * Nếu N là số chẵn tính tổng tất cả các số chẵn từ 0 tới N\n",
    "    * Nếu N là số lẻ tỉnh tổng tất cả các số lẻ từ 1 tới N"
   ]
  },
  {
   "cell_type": "code",
   "execution_count": 21,
   "metadata": {},
   "outputs": [],
   "source": [
    "#{HỌC VIÊN VIẾT CODE VÀO ĐÂY}\n",
    "def n_sum (N='3'):\n",
    "    if N == 0: #dk dung cho so le\n",
    "        return 0\n",
    "    if N == 1:\n",
    "        return 1 #dk dung cho so chan\n",
    "    return N + n_sum(N-2)"
   ]
  },
  {
   "cell_type": "code",
   "execution_count": 22,
   "metadata": {},
   "outputs": [
    {
     "name": "stdout",
     "output_type": "stream",
     "text": [
      "6\n"
     ]
    }
   ],
   "source": [
    "print(n_sum(4))"
   ]
  },
  {
   "cell_type": "code",
   "execution_count": 23,
   "metadata": {},
   "outputs": [
    {
     "name": "stdout",
     "output_type": "stream",
     "text": [
      "9\n"
     ]
    }
   ],
   "source": [
    "print(n_sum(5))"
   ]
  },
  {
   "cell_type": "markdown",
   "metadata": {},
   "source": [
    "## BÀI 19.1: Xây dựng lớp Person:\n",
    "---\n",
    "1. Gồm các Thuộc tính: \n",
    "    * họ tên (name), năm sinh (year), chiều cao height), cân nặng (weight)\n",
    "    * Giá trị mặc định của các thuộc tính là thông tin của bạn\n",
    "\n",
    "2. Gồm các Phương thức: \n",
    "    * Geeting(): Hiển thị thông tin của Person\n",
    "    * BMI(): Tính toán theo chỉ số BMI của Person"
   ]
  },
  {
   "cell_type": "code",
   "execution_count": 36,
   "metadata": {},
   "outputs": [
    {
     "name": "stdout",
     "output_type": "stream",
     "text": [
      "My name is Nxhoang\n",
      "I am 2000 years old\n",
      "BIM index: 22.95\n"
     ]
    }
   ],
   "source": [
    "#{HỌC VIÊN VIẾT CODE VÀO ĐÂY}\n",
    "class Person:\n",
    "    def __init__ (self, name = 'Nxhoang', year = 2000, height = 1.67, weight = 64):\n",
    "        self.name = name\n",
    "        self.year = year\n",
    "        self.height = height \n",
    "        self.weight = weight\n",
    "    def Geeting(self):\n",
    "        print('My name is {}'.format(self.name))\n",
    "        print('I am {} years old'.format(self.year))\n",
    "    def BMI(self):\n",
    "        print('BIM index: {:.2f}'.format(self.weight/(self.height**2))      "
   ]
  },
  {
   "cell_type": "code",
   "execution_count": 37,
   "metadata": {},
   "outputs": [],
   "source": [
    "P1 = Person()"
   ]
  },
  {
   "cell_type": "code",
   "execution_count": 38,
   "metadata": {},
   "outputs": [
    {
     "name": "stdout",
     "output_type": "stream",
     "text": [
      "My name is Nxhoang\n",
      "I am 2000 years old\n"
     ]
    }
   ],
   "source": [
    "P1.Geeting()"
   ]
  },
  {
   "cell_type": "code",
   "execution_count": 39,
   "metadata": {},
   "outputs": [
    {
     "name": "stdout",
     "output_type": "stream",
     "text": [
      "BIM index: 22.95\n"
     ]
    }
   ],
   "source": [
    "P1.BMI()"
   ]
  },
  {
   "cell_type": "code",
   "execution_count": null,
   "metadata": {},
   "outputs": [],
   "source": []
  },
  {
   "cell_type": "markdown",
   "metadata": {},
   "source": [
    "## Bài 19.2. Xây dựng lớp Vietnam, kế thừa từ lớp Person:\n",
    "---\n",
    "* Kế thừa tất cả các thuộc tính của lớp Person và Bổ sung thêm Thuộc tính: \n",
    "Dân tộc (nation), giá trịnh mặc định là “Kinh”\n",
    "* Kế thừa phương thức BMI của lớp Person và  cập nhật lại Phương thức Geeting() (Method overriding): \n",
    "\n",
    "Ví dụ Geeting(): \n",
    "\n",
    "Tôi tên là:  Thanh Huyền - Dân tộc: Tày\n",
    "\n",
    "Tôi sinh năm  2000 . Rất vui được làm quyen với bạn!"
   ]
  },
  {
   "cell_type": "code",
   "execution_count": 54,
   "metadata": {},
   "outputs": [
    {
     "name": "stdout",
     "output_type": "stream",
     "text": [
      "BIM index: 22.95\n",
      "My name is Nxhoang, nation: Kinh\n",
      "I am 2000 years old. Nice to meet you!\n"
     ]
    }
   ],
   "source": [
    "#{HỌC VIÊN VIẾT CODE VÀO ĐÂY}\n",
    "class Vietnam(Person):\n",
    "    def __init__(self, nation= 'Kinh'):\n",
    "        super().__init__()\n",
    "        self.nation = nation \n",
    "    def Greeting(self):\n",
    "        print('My name is {}, nation: {}'.format(self.name, self.nation))\n",
    "        print('I am {} years old. Nice to meet you!'.format(self.year))\n",
    "V = Vietnam()\n",
    "V.BMI()\n",
    "V.Greeting()\n",
    "        \n",
    "\n",
    "\n",
    "\n"
   ]
  },
  {
   "cell_type": "markdown",
   "metadata": {},
   "source": [
    "## BÀI 20: Đọc/ghi file\n",
    "---\n",
    "Đọc dữ liệu trong file dayso1_bai20.txt:\n",
    "1. Tìm phần tử lớn nhất và nhỏ nhất trong dãy, sau đó thực hiện đổi chỗ phần tử lớn nhất xuất hiện đầu tiên trong dãy cho phần tử nhỏ nhất xuất hiện đầu tiên trong dãy.\n",
    "2. Lưu dãy mới đã đổi chỗ sang file dayso2_bai20.txt\n",
    "\n",
    "*Xem hình minh họa trong file slide bài giảng*"
   ]
  },
  {
   "cell_type": "code",
   "execution_count": 51,
   "metadata": {},
   "outputs": [
    {
     "name": "stdout",
     "output_type": "stream",
     "text": [
      "Contens: 5 9 8 14 6 18 21 2 19 26 -1 17 8 25 0 14 -1 1 30 11 5 30 -1\n",
      "Max = 30 ; Min = -1\n"
     ]
    }
   ],
   "source": [
    "#{HỌC VIÊN VIẾT CODE VÀO ĐÂY}\n",
    "#open the file\n",
    "with open('dayso1_bai20.txt') as f:\n",
    "    st = f.read()\n",
    "    print('Contens:', st)\n",
    "    l = [int(i) for i in st.split(' ')]\n",
    "    max_l = max(l)\n",
    "    min_l = min(l)\n",
    "    print('Max = {} ; Min = {}'.format(max_l, min_l))\n",
    "    min_index = l.index(min_l)\n",
    "    max_index = l.index(max_l)\n",
    "    l[min_index],l[max_index] = l[max_index], l[min_index]\n",
    "f2 = open('dayso2_bai20.txt', 'w')\n",
    "f2.write(' '.join([str(i) for i in l]))\n",
    "f2.close()"
   ]
  },
  {
   "cell_type": "code",
   "execution_count": null,
   "metadata": {},
   "outputs": [],
   "source": []
  },
  {
   "cell_type": "code",
   "execution_count": null,
   "metadata": {},
   "outputs": [],
   "source": []
  }
 ],
 "metadata": {
  "kernelspec": {
   "display_name": "Python 3 (ipykernel)",
   "language": "python",
   "name": "python3"
  },
  "language_info": {
   "codemirror_mode": {
    "name": "ipython",
    "version": 3
   },
   "file_extension": ".py",
   "mimetype": "text/x-python",
   "name": "python",
   "nbconvert_exporter": "python",
   "pygments_lexer": "ipython3",
   "version": "3.9.12"
  }
 },
 "nbformat": 4,
 "nbformat_minor": 2
}
