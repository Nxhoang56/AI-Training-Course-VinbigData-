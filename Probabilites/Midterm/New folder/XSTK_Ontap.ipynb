{
 "cells": [
  {
   "cell_type": "markdown",
   "metadata": {
    "id": "GhezQrtaNpdx"
   },
   "source": [
    "# Đề thi kiểm tra giữa kỳ môn Xác suất thống kê-Đề 01\n",
    "Thời gian làm bài 90 phút \n",
    "\n",
    "i) Thí sinh được sử dụng máy tính, được sử dụng tài liệu của mình, tham khảo internet. \n",
    "\n",
    "\n",
    "ii) Thí sinh KHÔNG được phép trao đổi với bạn, đưa bài làm cho bạn, sử dụng điện thoại di động \n",
    "\n",
    "\n",
    "iii) Thí sinh làm theo tham số của mình: $a$ ngày sinh, $b$ tháng sinh \n",
    "\n"
   ]
  },
  {
   "cell_type": "markdown",
   "metadata": {
    "id": "9W83n-WHNpd2"
   },
   "source": [
    "# Bài 1: \n",
    " \n",
    "Một công ty bảo hiểm đã bán bảo hiểm cho 9000 tài xế lái xe máy, $b\\times 1000$ tài xế lái xe con, và 3000 tài xế lái xe tải. Xác suất gặp tai nạn của tài xế sử dụng xe máy, xe ô tô con và xe tải lần lượt là 0.015; 0.03 và 0.01. Chọn ngẫu nhiên một người đã mua bảo hiểm. \n",
    "\n",
    "\n",
    "1.1) Tìm  xác suất để người tài xế lái xe được chọn ra bị gặp tai nạn? \n",
    "\n",
    "1.2) Biết rằng người lái xe được chọn ra gặp tại nạn, tìm xác suất để tài xế lái xe ô tô con?  \n"
   ]
  },
  {
   "cell_type": "code",
   "execution_count": 1,
   "metadata": {},
   "outputs": [],
   "source": [
    "a = 18\n",
    "b = 1"
   ]
  },
  {
   "cell_type": "markdown",
   "metadata": {},
   "source": [
    "### 1.1\n",
    "\n",
    "Gọi A, B, C lần lượt là sự kiện người được chọn ngẫu nhiên là người lái xe máy, xe ô tô con và xe tải. \n",
    "    X là sự kiện tài xế bị tai nạn\n"
   ]
  },
  {
   "cell_type": "code",
   "execution_count": 8,
   "metadata": {},
   "outputs": [
    {
     "name": "stdout",
     "output_type": "stream",
     "text": [
      "Xác suất để người lái xe được chọn ra bị gặp tai nạn là: 0.015\n"
     ]
    }
   ],
   "source": [
    "total = 9000 + b*1000 + 3000\n",
    "PA = 9000/total #xe may\n",
    "PB = (b*1000)/total #xe o to con \n",
    "PC = 3000/total #xe tai\n",
    "PX_given_A = 0.015\n",
    "PX_given_B = 0.03\n",
    "PX_given_C = 0.01\n",
    "PX = PA*PX_given_A+PB*PX_given_B+PC*PX_given_C \n",
    "print('Xác suất để người lái xe được chọn ra bị gặp tai nạn là:', PX)"
   ]
  },
  {
   "cell_type": "markdown",
   "metadata": {},
   "source": [
    "## 1.2 \n",
    "Xác suất để người tài xế lái xe bị tai nạn lái xe ô tô con là: \n",
    "$P(A|X) = \\frac{P(B)P(X|B)}{P(X)}$"
   ]
  },
  {
   "cell_type": "code",
   "execution_count": 9,
   "metadata": {},
   "outputs": [
    {
     "name": "stdout",
     "output_type": "stream",
     "text": [
      "Xác suất để người lái xe được chọn ra bị gặp tai nạn là: 0.15384615384615385\n"
     ]
    }
   ],
   "source": [
    "print('Xác suất để người lái xe được chọn ra bị gặp tai nạn là:', PB*PX_given_B/PX)"
   ]
  },
  {
   "cell_type": "markdown",
   "metadata": {},
   "source": [
    "# Bài 2: \n",
    "\n",
    "Một dây chuyền sản xuất khẩu trang y tế, $X$ là số lần kiểm tra sản phẩm  cho đến khi phát hiện ra lỗi đầu tiên. $X$ là biến ngẫu nhiên tuân theo luật phân phối hình học với tham số $p=b\\%$. \n",
    "\n",
    "\n",
    "2.1)  Biết hàm trọng số của $X$ có dạng $P_X(x)=(1-p)^{x-1}\\times p$. Tìm xác suất để số lần thử nghiệm là  $a$ thì thấy có sản phẩm lỗi?\n",
    "\n",
    "\n",
    "2.2) $a$ lần thử nghiệm đầu tiên đã được tìm thấy là không có lỗi. Xác suất lỗi đầu tiên sẽ xảy ra trong lần thử thứ $a+b$ là bao nhiêu?\n",
    "\n",
    "\n",
    "2.3) Tìm số lần thử nghiệm trung bình $E[X]$? "
   ]
  },
  {
   "cell_type": "code",
   "execution_count": 10,
   "metadata": {},
   "outputs": [],
   "source": [
    "p = b/100\n",
    "a = 18"
   ]
  },
  {
   "cell_type": "code",
   "execution_count": 13,
   "metadata": {},
   "outputs": [
    {
     "name": "stdout",
     "output_type": "stream",
     "text": [
      "Xac xuat de so lan thu nghiem la a thi thay co san pham loi la: 0.008429431933839267\n"
     ]
    }
   ],
   "source": [
    "#2.1\n",
    "def pmf_hinhoc(x, p = p):\n",
    "    return (1-p) ** (x-1) * p \n",
    "print('Xac xuat de so lan thu nghiem la a thi thay co san pham loi la:', pmf_hinhoc(a,p))"
   ]
  },
  {
   "cell_type": "code",
   "execution_count": 15,
   "metadata": {},
   "outputs": [
    {
     "name": "stdout",
     "output_type": "stream",
     "text": [
      "Xác suất cần tìm là:  0.01\n"
     ]
    }
   ],
   "source": [
    "#2.2\n",
    "#Gọi A là sự kiện 18 lần đầu tiên không có lỗi, B là sự kiện lỗ\n",
    "#đầu tiên xảy ra trong lần thứ 19\n",
    "PAB = pmf_hinhoc(19)\n",
    "PA = (1-p) ** 18\n",
    "PB_given_A = PAB/PA\n",
    "print('Xác suất cần tìm là: ', PB_given_A)"
   ]
  },
  {
   "cell_type": "markdown",
   "metadata": {},
   "source": [
    "### 2.1\n"
   ]
  },
  {
   "cell_type": "code",
   "execution_count": null,
   "metadata": {},
   "outputs": [],
   "source": [
    "p = 1 / 100\n",
    "a = 18\n",
    "\n",
    "def pmf(x, p=p):\n",
    "    \n",
    "    return (1 - p) ** (x - 1) * p"
   ]
  },
  {
   "cell_type": "code",
   "execution_count": null,
   "metadata": {},
   "outputs": [],
   "source": [
    "print(f\"Xác suất để số lần thử nghiệm là 18 thì thấy có sản phẩm lỗi là:\", pmf(18))"
   ]
  },
  {
   "cell_type": "markdown",
   "metadata": {},
   "source": [
    "### 2.2"
   ]
  },
  {
   "cell_type": "markdown",
   "metadata": {},
   "source": [
    "Gọi A là sự kiện 1 lần thử nghiệm đầu tiên không có lỗi.\n",
    "Gọi B là sự kiện lỗi lần đầu tiên xảy ra thứ 19.\n",
    "\n",
    "$P(B|A) = \\frac{P(AB)}{P(A)} = \\frac{P(B)}{P(A)}$"
   ]
  },
  {
   "cell_type": "code",
   "execution_count": null,
   "metadata": {},
   "outputs": [],
   "source": [
    "print(\"Xác suất là:\", pmf(19) / (1 - pmf(1)))"
   ]
  },
  {
   "cell_type": "markdown",
   "metadata": {},
   "source": [
    "### 2.3\n",
    "$EX = \\sum_{1}^{+\\infty}xP_X(x) = \\sum_{1}^{+\\infty}x(1-p)^{x-1}p = p\\sum_{1}^{+\\infty}x(1-p)^{x-1}$\n",
    "\n",
    "Mà $\\frac{1}{1-k} = 1 + k + k^2 + ...$\n",
    "\n",
    "Đạo hàm 2 về ta có:\n",
    "$\\frac{1}{(1-k)^2} = 1 + 2k + 3k^2 + ...$\n",
    "\n",
    "Thay $k = 1 - p$ ta có: $EX = p \\times \\frac{1}{p^2} = 1/p$"
   ]
  },
  {
   "cell_type": "code",
   "execution_count": null,
   "metadata": {},
   "outputs": [],
   "source": [
    "print(\"Kì vọng của X là:\", 1/p)"
   ]
  },
  {
   "cell_type": "markdown",
   "metadata": {
    "id": "0JiA3UVJNpd5"
   },
   "source": [
    "# Bài 3: \n",
    "\n",
    "\n",
    "Thu nhập của một người lao động của một nước  là biến ngẫu nhiên $X$ có phân phối chuẩn $Norm(\\mu= 9,\\sigma=10)$. Chọn ngẫu nhiên một người lao động\n",
    "\n",
    "3.1) Tìm xác suất thu nhập của người lao động được chọn cao hơn gấp đôi mức lương trung bình. \n",
    "\n",
    "3.2) Tìm ngưỡng $c$ là ngưỡng mức lương thu nhập  cao sao cho  $P(X<c)=0.2$.\n",
    "\n",
    "Ghi chú: Biết rằng phân phối chuẩn tắc $$\\Phi(x)=P(X<x)=\\int_{-\\infty}^{x}\\frac{e^{-t^2/2}}{\\sqrt{2.\\pi}}dt$$"
   ]
  },
  {
   "cell_type": "markdown",
   "metadata": {},
   "source": [
    "### 3.1\n"
   ]
  },
  {
   "cell_type": "code",
   "execution_count": null,
   "metadata": {},
   "outputs": [],
   "source": [
    "from scipy.stats import norm"
   ]
  },
  {
   "cell_type": "markdown",
   "metadata": {},
   "source": [
    "Ta có: $X >= 2\\mu$\n",
    "\n",
    "\n",
    "$z = \\frac{X - \\mu}{\\sigma} \\geq \\frac{2\\mu - \\mu}{\\sigma} = 9/10$"
   ]
  },
  {
   "cell_type": "code",
   "execution_count": null,
   "metadata": {},
   "outputs": [],
   "source": [
    "print(\"Xác suất thu nhập của người lao động được chọn cao hơn gấp đôi mức lương trung bình là:\", 1 - norm.cdf(0.9))"
   ]
  },
  {
   "cell_type": "markdown",
   "metadata": {},
   "source": [
    "### 3.2"
   ]
  },
  {
   "cell_type": "code",
   "execution_count": null,
   "metadata": {},
   "outputs": [],
   "source": [
    "x = norm.ppf(0.2)"
   ]
  },
  {
   "cell_type": "markdown",
   "metadata": {},
   "source": [
    "Ta có: $z < x$\n",
    "\n",
    "$\\Rightarrow \\frac{X - \\mu}{\\sigma} < x$\n",
    "\n",
    "$\\Rightarrow X < x\\sigma + \\mu$"
   ]
  },
  {
   "cell_type": "code",
   "execution_count": null,
   "metadata": {},
   "outputs": [],
   "source": [
    "c = x * 10 + 9\n",
    "print(\"c=\", c)"
   ]
  },
  {
   "cell_type": "markdown",
   "metadata": {
    "id": "pTOVRnN7l61l"
   },
   "source": [
    "# Bài 4: \n",
    "Người ta thấy rằng thời gian làm thủ tục ở sân bay (tính bằng phút) của một khách hàng là biến $X$ có hàm mật độ xác suất là:\n",
    "\n",
    "$f_{X}(x)=\\begin{cases} \\frac{ e^{-x/a}}{a}  \\text{nếu }  x\\geq 0 \\\\\n",
    "0; \\text{trái lại};\n",
    "\\end{cases}$\n",
    "\n",
    "4.1) Tính thời gian trung bình làm thủ tục ở sân bay của một khách hàng.\n",
    "\n",
    "4.2) Tính xác suất để thời gian làm thủ tục ở sân bay của một khách hàng lớn hơn $a+b$ phút."
   ]
  },
  {
   "cell_type": "markdown",
   "metadata": {},
   "source": [
    "### 4.1"
   ]
  },
  {
   "cell_type": "markdown",
   "metadata": {},
   "source": [
    "Đặt $\\lambda = \\frac{1}{a}$\n",
    "\n",
    "$E(X) = \\int\\limits_{ - \\infty }^{ + \\infty } {xf(x)dx = \\lambda \\int\\limits_0^{ + \\infty } {x{e^{ - \\lambda x}}} } dx = \\left[ { - x{e^{ - \\lambda x}}} \\right]_0^{ + \\infty } + \\int\\limits_0^{ + \\infty } {{e^{ - \\lambda x}}} dx = \\frac{1}{\\lambda }{e^{ - \\lambda x}}\\left| \\begin{array}{l} + \\infty \\\\ 0 \\end{array} \\right. = \\frac{1}{\\lambda } = 18$"
   ]
  },
  {
   "cell_type": "code",
   "execution_count": null,
   "metadata": {},
   "outputs": [],
   "source": [
    "print(\"Thời gian trung bình là {} phút\".format(18))"
   ]
  },
  {
   "cell_type": "code",
   "execution_count": 6,
   "metadata": {},
   "outputs": [
    {
     "name": "stdout",
     "output_type": "stream",
     "text": [
      "Xác suất để người tài xế bị nạn là người lái xe con là:  0.15384615384615385\n"
     ]
    }
   ],
   "source": [
    "print(\"Xác suất để người tài xế bị nạn là người lái xe con là: \", PY * PAY / 0.015)"
   ]
  },
  {
   "cell_type": "code",
   "execution_count": null,
   "metadata": {},
   "outputs": [],
   "source": [
    "print(\"Xác suất để thời gian làm thủ tục lớn hơn 19 phút là: \", np.exp(-1/18 * 19))"
   ]
  },
  {
   "cell_type": "markdown",
   "metadata": {
    "id": "ZGqkbiwONpd6"
   },
   "source": [
    "# Bài 5: \n",
    "Tại một trạm xăng, xăng được lưu trữ trong bể chứa theo tuần. Gọi $X$ là biến ngẫu nhiên biểu diễn cho tỷ lệ dung tích được lưu trữ trong tuần. Gọi $Y$ là tỷ lệ của dung tích bể bán được trong cùng một tuần. Chúng ta biết rằng trạm xăng không thể bán được số xăng nhiều hơn những gì được tích trữ trong tuần nên có nghĩa là $Y<X$. Hàm mật độ đồng thời của biến ngẫu nhiên $(X,Y)$ là:\n",
    "\n",
    "\n",
    "\n",
    "$f_{X,Y}(x,y)=\\begin{cases}{3x}, 0 \\leq y\\leq x \\leq 1\\\\\n",
    "0; \\text{trái lại};\n",
    "\\end{cases}$\n",
    "\n",
    "\n",
    "5.1) Tìm  $P(X\\leq 1/2, Y\\leq b\\%)$. \n",
    "\n",
    "5.2) Tìm $P(Y<0.3X)$.\n",
    "\n"
   ]
  },
  {
   "cell_type": "markdown",
   "metadata": {},
   "source": [
    "### 5.1\n",
    "\n",
    "$P(X\\leq 1/2, Y\\leq 1/100) = \\int_0^{1/100}dy\\int_{y}^{1/2}3xdx=\\int_0^{1/100}(3/8-3y^2/2)dy=3/8*1/100-3*(1/100)^2/2$"
   ]
  },
  {
   "cell_type": "code",
   "execution_count": null,
   "metadata": {},
   "outputs": [],
   "source": [
    "print(\"Xác suất là:\", 3/8*1/100-3*(1/100)**2/2)"
   ]
  },
  {
   "cell_type": "markdown",
   "metadata": {},
   "source": [
    "### 5.2"
   ]
  },
  {
   "cell_type": "markdown",
   "metadata": {},
   "source": [
    "$P(Y<0.3X) = \\int_0^1dx\\int_0^{0.3x}3xdy=\\int_0^1 3x\\times0.3x dx=\\int_0^10.9x^2dx=0.3x^3|_0^1=0.3$"
   ]
  },
  {
   "cell_type": "code",
   "execution_count": null,
   "metadata": {},
   "outputs": [],
   "source": [
    "print(\"Xác suất là: 0.3\")"
   ]
  },
  {
   "cell_type": "markdown",
   "metadata": {
    "id": "eg3SCXSvNpd6"
   },
   "source": [
    "# Bài 6: \n",
    "\n",
    "Một cửa hàng trà sữa liệt kê trong một tháng gồm 30 ngày lượng cốc trà sữa bán được theo hình thức mang đi như sau:\n",
    "\n",
    "(60+a+b), 75, 87, 89, 81, 98, 90, 80, 88, 101, 123, 104, 74, 85, 95, 76, 87, 88, 97, 98, 94, 96, 97, 97, 98, 87, 88, 104,106,107\n",
    "\n",
    "6.1) Tính giá trị trung bình và giá trị trung vị của những dữ liệu này.\n",
    "\n",
    "6.2) Tính phương sai và hệ số biến thiên của các dữ liệu này.\n",
    "\n",
    "6.3) Tính phân vị thứ $70\\%$ cho những dữ liệu này.\n",
    "\n",
    "6.4) Xây dựng biểu đồ tần suất cho tập dữ liệu, sử dụng 5 lớp."
   ]
  },
  {
   "cell_type": "code",
   "execution_count": 17,
   "metadata": {},
   "outputs": [],
   "source": [
    "import numpy as np"
   ]
  },
  {
   "cell_type": "markdown",
   "metadata": {},
   "source": [
    "### 6.1"
   ]
  },
  {
   "cell_type": "code",
   "execution_count": 18,
   "metadata": {},
   "outputs": [],
   "source": [
    "data = np.array([79, 75, 87, 89, 81, 98, 90, 80, 88, 101, 123, 104, 74, 85, 95, 76, 87, 88, 97, 98, 94, 96, 97, 97, 98, 87, 88, 104,106,107])"
   ]
  },
  {
   "cell_type": "code",
   "execution_count": 19,
   "metadata": {},
   "outputs": [
    {
     "name": "stdout",
     "output_type": "stream",
     "text": [
      "Giá trị trung bình của dữ liệu: 92.3\n",
      "Giá trị trung vị của dữ liệu: 92.0\n"
     ]
    }
   ],
   "source": [
    "print(\"Giá trị trung bình của dữ liệu:\", data.mean())\n",
    "print(\"Giá trị trung vị của dữ liệu:\", np.median(data))"
   ]
  },
  {
   "cell_type": "markdown",
   "metadata": {},
   "source": [
    "### 6.2"
   ]
  },
  {
   "cell_type": "code",
   "execution_count": 20,
   "metadata": {},
   "outputs": [
    {
     "name": "stdout",
     "output_type": "stream",
     "text": [
      "Phương sai: 114.94333333333333\n",
      "Hệ số biến thiên: 0.11615561075028169\n"
     ]
    }
   ],
   "source": [
    "print(\"Phương sai:\", data.var())\n",
    "print(\"Hệ số biến thiên:\", data.std() / data.mean())"
   ]
  },
  {
   "cell_type": "markdown",
   "metadata": {},
   "source": [
    "### 6.3"
   ]
  },
  {
   "cell_type": "code",
   "execution_count": 21,
   "metadata": {},
   "outputs": [
    {
     "name": "stdout",
     "output_type": "stream",
     "text": [
      "Phân vị 70% là: 98.0\n"
     ]
    }
   ],
   "source": [
    "data_sorted = sorted(data)\n",
    "\n",
    "l = round((len(data) + 1) * 0.7)\n",
    "\n",
    "print(\"Phân vị 70% là:\", data_sorted[l - 1] + (data_sorted[l] - data_sorted[l - 1]) * 0.7)"
   ]
  },
  {
   "cell_type": "markdown",
   "metadata": {},
   "source": [
    "### 6.4"
   ]
  },
  {
   "cell_type": "code",
   "execution_count": 22,
   "metadata": {},
   "outputs": [
    {
     "name": "stdout",
     "output_type": "stream",
     "text": [
      "74\n",
      "123\n"
     ]
    }
   ],
   "source": [
    "print(min(data))\n",
    "print(max(data))"
   ]
  },
  {
   "cell_type": "markdown",
   "metadata": {},
   "source": [
    "Chia đoạn từ 74 đến 123 thành 5 đoạn: [74, 84), [84, 94), [94, 104), [104, 114), [114, 124)"
   ]
  },
  {
   "cell_type": "code",
   "execution_count": null,
   "metadata": {},
   "outputs": [],
   "source": [
    "frequency = [np.sum((74 <= data) & (data < 84)), \n",
    "            np.sum((84 <= data) & (data < 94)),\n",
    "            np.sum((94 <= data) & (data < 104)),\n",
    "            np.sum((104 <= data) & (data < 114)),\n",
    "            np.sum((114 <= data) & (data < 124))]\n",
    "\n",
    "print(frequency)"
   ]
  },
  {
   "cell_type": "code",
   "execution_count": null,
   "metadata": {},
   "outputs": [],
   "source": [
    "import matplotlib.pyplot as plt\n",
    "import seaborn as sns\n",
    "\n",
    "sns.barplot([1, 2, 3, 4, 5], frequency)\n",
    "plt.xlabel(\"Group\")\n",
    "plt.ylabel(\"Frequency\")\n",
    "plt.show()"
   ]
  },
  {
   "cell_type": "markdown",
   "metadata": {},
   "source": [
    "---Hết---"
   ]
  },
  {
   "cell_type": "code",
   "execution_count": null,
   "metadata": {},
   "outputs": [],
   "source": [
    "plt.hist(data,bins=5)"
   ]
  },
  {
   "cell_type": "markdown",
   "metadata": {},
   "source": [
    "1.1. Gọi $A_1, A_2, A_3$ là sự kiện xác suất gặp được một người có tiểu sử khỏe mạnh, tiểu sử bệnh nhẹ và tiểu sử bệnh nặng.\n",
    "\n",
    "$\\Rightarrow P(A_1) = \\frac{a+b}{2a+b+1}, P(A_2)=\\frac{a}{2a+b+1}, P(A_3)=\\frac{1}{2a+b+1}$\n",
    "\n",
    "Gọi A là sự kiện người mua bảo hiểm bị ốm. Ta có:\n",
    "$P(A|A_1) = 0.015, P(A|A_2)=0.05, P(A|A_3) = 0.09$\n",
    "\n",
    "Theo bayes ta có:\n",
    "\n",
    "$P(A) = P(A_1)P(A|A_1)+P(A_2)P(A|A_2)+P(A_3)P(A|A_3)$\n",
    "\n",
    "1.2. \n",
    "\n",
    "\n",
    "$P(A_1|A) = \\frac{P(A_1)P(A|A_1)}{P(A)}$"
   ]
  },
  {
   "cell_type": "code",
   "execution_count": null,
   "metadata": {},
   "outputs": [],
   "source": []
  }
 ],
 "metadata": {
  "colab": {
   "collapsed_sections": [],
   "name": "De_Thi_Giua_Ky_01.ipynb",
   "provenance": []
  },
  "kernelspec": {
   "display_name": "Python 3 (ipykernel)",
   "language": "python",
   "name": "python3"
  },
  "language_info": {
   "codemirror_mode": {
    "name": "ipython",
    "version": 3
   },
   "file_extension": ".py",
   "mimetype": "text/x-python",
   "name": "python",
   "nbconvert_exporter": "python",
   "pygments_lexer": "ipython3",
   "version": "3.9.12"
  }
 },
 "nbformat": 4,
 "nbformat_minor": 1
}
