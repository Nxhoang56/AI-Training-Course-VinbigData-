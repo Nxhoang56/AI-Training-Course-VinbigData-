{
 "cells": [
  {
   "cell_type": "markdown",
   "metadata": {
    "id": "GhezQrtaNpdx"
   },
   "source": [
    "# Đề thi kiểm tra giữa kỳ môn Xác suất thống kê-Đề 01\n",
    "Thời gian làm bài 90 phút \n",
    "\n",
    "i) Thí sinh được sử dụng máy tính, được sử dụng tài liệu của mình, tham khảo internet. \n",
    "\n",
    "\n",
    "ii) Thí sinh KHÔNG được phép trao đổi với bạn, đưa bài làm cho bạn, sử dụng điện thoại di động \n",
    "\n",
    "\n",
    "iii) Thí sinh làm theo tham số của mình: $a$ ngày sinh, $b$ tháng sinh \n",
    "\n"
   ]
  },
  {
   "cell_type": "code",
   "execution_count": 1,
   "metadata": {},
   "outputs": [],
   "source": [
    "import numpy as np\n",
    "import scipy.stats as stats\n",
    "import matplotlib.pyplot as plt\n",
    "import seaborn as sns\n",
    "import pandas as pd\n",
    "import math\n",
    "from scipy import integrate"
   ]
  },
  {
   "cell_type": "code",
   "execution_count": null,
   "metadata": {},
   "outputs": [],
   "source": []
  },
  {
   "cell_type": "code",
   "execution_count": 6,
   "metadata": {},
   "outputs": [],
   "source": [
    "a, b = 21, 12"
   ]
  },
  {
   "cell_type": "markdown",
   "metadata": {
    "id": "9W83n-WHNpd2"
   },
   "source": [
    "# Bài 1: \n",
    " \n",
    "Một công ty bảo hiểm đã bán bảo hiểm cho 9000 tài xế lái xe máy, $b\\times 1000$ tài xế lái xe con, và 3000 tài xế lái xe tải. Xác suất gặp tai nạn của tài xế sử dụng xe máy, xe ô tô con và xe tải lần lượt là 0.015; 0.03 và 0.01. Chọn ngẫu nhiên một người đã mua bảo hiểm. \n",
    "\n",
    "\n",
    "1.1) Tìm  xác suất để người tài xế lái xe được chọn ra bị gặp tai nạn? \n",
    "\n",
    "1.2) Biết rằng người lái xe được chọn ra gặp tại nạn, tìm xác suất để tài xế lái xe ô tô con?  \n"
   ]
  },
  {
   "cell_type": "markdown",
   "metadata": {},
   "source": [
    "#### Bài làm"
   ]
  },
  {
   "cell_type": "markdown",
   "metadata": {},
   "source": [
    "Gọi A1, A2, A3 là sự kiện tài xế sử dụng xe máy, xe ô tô con, xe tải.\n",
    "\n",
    "Gọi B là sự kiện tài xế gặp tai nạn.\n",
    "\n",
    "Đề bài có:\n",
    "\n",
    "    P(A1) = 9000/(9000+b*1000+3000) = 0.375\n",
    "    \n",
    "    P(A2) = 12000/(9000+b*1000+3000) = 0.5\n",
    "    \n",
    "    P(A3) = 3000/(9000+b*1000+3000) = 0.125\n",
    "    \n",
    "    P(B|A1) = 0.015\n",
    "    \n",
    "    P(B|A2) = 0.03\n",
    "    \n",
    "    P(B|A3) = 0.01"
   ]
  },
  {
   "cell_type": "code",
   "execution_count": 6,
   "metadata": {},
   "outputs": [
    {
     "name": "stdout",
     "output_type": "stream",
     "text": [
      "1.1\n",
      "Xác suất để người tài xế lái xe được chọn ra bị gặp tai nạn:\n",
      "P(B) = P(A1)*P(B|A1) + P(A2)*P(B|A2) + P(A3)*P(B|A3) =  0.021875\n"
     ]
    }
   ],
   "source": [
    "print('1.1')\n",
    "print('Xác suất để người tài xế lái xe được chọn ra bị gặp tai nạn:')\n",
    "print('P(B) = P(A1)*P(B|A1) + P(A2)*P(B|A2) + P(A3)*P(B|A3) = ', 0.375*0.015 + 0.5*0.03+0.125*0.01)"
   ]
  },
  {
   "cell_type": "code",
   "execution_count": 7,
   "metadata": {},
   "outputs": [
    {
     "name": "stdout",
     "output_type": "stream",
     "text": [
      "1.2\n",
      "Xác suất để tài xế lái xe ô tô con, khi biết người lái xe bị tai nạn là:\n",
      "P(A2|B) = P(B|A2)*P(A2)/P(B) =  0.6857142857142857\n"
     ]
    }
   ],
   "source": [
    "print('1.2')\n",
    "print('Xác suất để tài xế lái xe ô tô con, khi biết người lái xe bị tai nạn là:')\n",
    "print('P(A2|B) = P(B|A2)*P(A2)/P(B) = ', 0.03*0.5/0.021875)"
   ]
  },
  {
   "cell_type": "markdown",
   "metadata": {},
   "source": [
    "# Bài 2: \n",
    "\n",
    "Một dây chuyền sản xuất khẩu trang y tế, $X$ là số lần kiểm tra sản phẩm  cho đến khi phát hiện ra lỗi đầu tiên. $X$ là biến ngẫu nhiên tuân theo luật phân phối hình học với tham số $p=b\\%$. \n",
    "\n",
    "\n",
    "2.1)  Biết hàm trọng số của $X$ có dạng $P_X(x)=(1-p)^{x-1}\\times p$. Tìm xác suất để số lần thử nghiệm là  $a$ thì thấy có sản phẩm lỗi?\n",
    "\n",
    "\n",
    "2.2) $a$ lần thử nghiệm đầu tiên đã được tìm thấy là không có lỗi. Xác suất lỗi đầu tiên sẽ xảy ra trong lần thử thứ $a+b$ là bao nhiêu?\n",
    "\n",
    "\n",
    "2.3) Tìm số lần thử nghiệm trung bình $E[X]$? "
   ]
  },
  {
   "cell_type": "markdown",
   "metadata": {},
   "source": [
    "#### Bài làm"
   ]
  },
  {
   "cell_type": "code",
   "execution_count": 10,
   "metadata": {},
   "outputs": [],
   "source": [
    "def Px(p, x):\n",
    "    return (1-p)**(x-1)*p"
   ]
  },
  {
   "cell_type": "code",
   "execution_count": 1,
   "metadata": {},
   "outputs": [],
   "source": [
    "p = 0.12\n",
    "a = 21"
   ]
  },
  {
   "cell_type": "code",
   "execution_count": 12,
   "metadata": {},
   "outputs": [
    {
     "name": "stdout",
     "output_type": "stream",
     "text": [
      "2.1\n",
      "xác suất để số lần thử nghiệm là 21 thì thấy có sản phẩm lỗi là:  0.9317447415983933\n"
     ]
    }
   ],
   "source": [
    "print('2.1')\n",
    "res = sum([Px(p, x) for x in range(1, 22)])\n",
    "print('xác suất để số lần thử nghiệm là 21 thì thấy có sản phẩm lỗi là: ', res)"
   ]
  },
  {
   "cell_type": "code",
   "execution_count": 35,
   "metadata": {},
   "outputs": [
    {
     "name": "stdout",
     "output_type": "stream",
     "text": [
      "2.2\n",
      "xác suất để lỗi đầu tiên xảy ra ở lần thử thứ 33 là:  0.0007259287386554721\n"
     ]
    }
   ],
   "source": [
    "print('2.2')\n",
    "\n",
    "res = 1\n",
    "for x in range(1, 33):\n",
    "    res *= (1-Px(p, x))\n",
    "res *= Px(p, 33)\n",
    "print('xác suất để lỗi đầu tiên xảy ra ở lần thử thứ 33 là: ', res)"
   ]
  },
  {
   "cell_type": "code",
   "execution_count": 2,
   "metadata": {},
   "outputs": [
    {
     "name": "stdout",
     "output_type": "stream",
     "text": [
      "2.3\n",
      "Số lần thử nghiệm trung bình E[X] = 8.333333333333334\n"
     ]
    }
   ],
   "source": [
    "print('2.3')\n",
    "print('Số lần thử nghiệm trung bình E[X] =', 1/p)"
   ]
  },
  {
   "cell_type": "markdown",
   "metadata": {
    "id": "0JiA3UVJNpd5"
   },
   "source": [
    "# Bài 3: \n",
    "\n",
    "\n",
    "Thu nhập của một người lao động của một nước  là biến ngẫu nhiên $X$ có phân phối chuẩn $Norm(\\mu= 9,\\sigma=10)$. Chọn ngẫu nhiên một người lao động\n",
    "\n",
    "3.1) Tìm xác suất thu nhập của người lao động được chọn cao hơn gấp đôi mức lương trung bình. \n",
    "\n",
    "3.2) Tìm ngưỡng $c$ là ngưỡng mức lương thu nhập  cao sao cho  $P(X<c)=0.2$.\n",
    "\n",
    "Ghi chú: Biết rằng phân phối chuẩn tắc $$\\Phi(x)=P(X<x)=\\int_{-\\infty}^{x}\\frac{e^{-t^2/2}}{\\sqrt{2.\\pi}}dt$$"
   ]
  },
  {
   "cell_type": "code",
   "execution_count": 74,
   "metadata": {},
   "outputs": [],
   "source": [
    "norm = stats.norm(loc=9, scale=10)"
   ]
  },
  {
   "cell_type": "code",
   "execution_count": 75,
   "metadata": {},
   "outputs": [
    {
     "name": "stdout",
     "output_type": "stream",
     "text": [
      "3.1\n",
      "Xác suất thu nhập của người lao động được chọn cao hơn gấp đôi mức lương trung bình là:  0.18406012534675953\n"
     ]
    }
   ],
   "source": [
    "print('3.1')\n",
    "print('Xác suất thu nhập của người lao động được chọn cao hơn gấp đôi mức lương trung bình là: ', 1-norm.cdf(2*9))"
   ]
  },
  {
   "cell_type": "markdown",
   "metadata": {},
   "source": [
    "$$z=\\frac{c-\\mu}{\\sigma}=\\frac{c-9}{10} \\Rightarrow\\ c = 9+10*z$$"
   ]
  },
  {
   "cell_type": "code",
   "execution_count": 7,
   "metadata": {},
   "outputs": [
    {
     "name": "stdout",
     "output_type": "stream",
     "text": [
      "3.2\n",
      "Ngưỡng 𝑐 là ngưỡng mức lương thu nhập cao sao cho  𝑃(𝑋<𝑐)=0.2 là: 0.5837876642708579\n"
     ]
    }
   ],
   "source": [
    "z = stats.norm.ppf(q=0.2)\n",
    "\n",
    "print('3.2')\n",
    "print('Ngưỡng 𝑐 là ngưỡng mức lương thu nhập cao sao cho  𝑃(𝑋<𝑐)=0.2 là:', 9+10*z)"
   ]
  },
  {
   "cell_type": "code",
   "execution_count": 8,
   "metadata": {},
   "outputs": [
    {
     "data": {
      "text/plain": [
       "-0.8416212335729142"
      ]
     },
     "execution_count": 8,
     "metadata": {},
     "output_type": "execute_result"
    }
   ],
   "source": [
    "z"
   ]
  },
  {
   "cell_type": "markdown",
   "metadata": {
    "id": "pTOVRnN7l61l"
   },
   "source": [
    "# Bài 4: \n",
    "Người ta thấy rằng thời gian làm thủ tục ở sân bay (tính bằng phút) của một khách hàng là biến $X$ có hàm mật độ xác suất là:\n",
    "\n",
    "$f_{X}(x)=\\begin{cases} \\frac{ e^{-x/a}}{a}  \\text{nếu }  x\\geq 0 \\\\\n",
    "0; \\text{trái lại};\n",
    "\\end{cases}$\n",
    "\n",
    "4.1) Tính thời gian trung bình làm thủ tục ở sân bay của một khách hàng.\n",
    "\n",
    "4.2) Tính xác suất để thời gian làm thủ tục ở sân bay của một khách hàng lớn hơn $a+b$ phút."
   ]
  },
  {
   "cell_type": "markdown",
   "metadata": {},
   "source": [
    "#### Bài làm"
   ]
  },
  {
   "cell_type": "markdown",
   "metadata": {},
   "source": [
    "1) Giá trị trung bình của X là:\n",
    "$$E(X)=\\int_{0}^{\\infty}xf_X(x)dxdx$$ "
   ]
  },
  {
   "cell_type": "code",
   "execution_count": 26,
   "metadata": {},
   "outputs": [
    {
     "name": "stdout",
     "output_type": "stream",
     "text": [
      "4.1\n",
      "Thời gian trung bình làm thủ tục ở sân bay của 1 khách hàng là: 21.0\n"
     ]
    }
   ],
   "source": [
    "EX = integrate.quad(lambda x: x*np.exp(-x/21)/21, 0, np.infty)[0]\n",
    "print('4.1')\n",
    "print('Thời gian trung bình làm thủ tục ở sân bay của 1 khách hàng là:', np.round(EX, 0))"
   ]
  },
  {
   "cell_type": "markdown",
   "metadata": {},
   "source": [
    "2) Xác suất để biến ngẫu nhiên nhận giá trị lớn hơn 33 là\n",
    "$$P(X>33)=1-P(X<=33)=1-\\int_{0}^{33}f(x)dx= 1-\\left[-e^{-x/21} \\right] cận [0, 33] $$"
   ]
  },
  {
   "cell_type": "code",
   "execution_count": 32,
   "metadata": {},
   "outputs": [
    {
     "name": "stdout",
     "output_type": "stream",
     "text": [
      "4.2\n",
      "Xác suất để thời gian làm thủ tục ở sân bay của 1 khách hàng lớn hơn 33 là: 0.20774818714360088\n"
     ]
    }
   ],
   "source": [
    "res = 1 - (1 - np.exp(-33/21))\n",
    "print('4.2')\n",
    "print('Xác suất để thời gian làm thủ tục ở sân bay của 1 khách hàng lớn hơn 33 là:', res)"
   ]
  },
  {
   "cell_type": "markdown",
   "metadata": {
    "id": "ZGqkbiwONpd6"
   },
   "source": [
    "# Bài 5: \n",
    "Tại một trạm xăng, xăng được lưu trữ trong bể chứa theo tuần. Gọi $X$ là biến ngẫu nhiên biểu diễn cho tỷ lệ dung tích được lưu trữ trong tuần. Gọi $Y$ là tỷ lệ của dung tích bể bán được trong cùng một tuần. Chúng ta biết rằng trạm xăng không thể bán được số xăng nhiều hơn những gì được tích trữ trong tuần nên có nghĩa là $Y<X$. Hàm mật độ đồng thời của biến ngẫu nhiên $(X,Y)$ là:\n",
    "\n",
    "\n",
    "\n",
    "$f_{X,Y}(x,y)=\\begin{cases}{3x}, 0 \\leq y\\leq x \\leq 1\\\\\n",
    "0; \\text{trái lại};\n",
    "\\end{cases}$\n",
    "\n",
    "\n",
    "5.1) Tìm  $P(X\\leq 1/2, Y\\leq b\\%)$. \n",
    "\n",
    "5.2) Tìm $P(Y<0.3X)$.\n",
    "\n"
   ]
  },
  {
   "cell_type": "code",
   "execution_count": 65,
   "metadata": {},
   "outputs": [],
   "source": [
    "def f(x, y):\n",
    "    return 3*x"
   ]
  },
  {
   "cell_type": "code",
   "execution_count": 67,
   "metadata": {},
   "outputs": [
    {
     "name": "stdout",
     "output_type": "stream",
     "text": [
      "5.1\n",
      "P(X<=1/2, Y<=0.12) = 0.045\n"
     ]
    }
   ],
   "source": [
    "res = integrate.nquad(f, [[0, 1/2], [0, 0.12]])\n",
    "print('5.1')\n",
    "print('P(X<=1/2, Y<=0.12) =', res[0])"
   ]
  },
  {
   "cell_type": "markdown",
   "metadata": {
    "id": "eg3SCXSvNpd6"
   },
   "source": [
    "# Bài 6: \n",
    "\n",
    "Một cửa hàng trà sữa liệt kê trong một tháng gồm 30 ngày lượng cốc trà sữa bán được theo hình thức mang đi như sau:\n",
    "\n",
    "(60+a+b), 75, 87, 89, 81, 98, 90, 80, 88, 101, 123, 104, 74, 85, 95, 76, 87, 88, 97, 98, 94, 96, 97, 97, 98, 87, 88, 104,106,107\n",
    "\n",
    "6.1) Tính giá trị trung bình và giá trị trung vị của những dữ liệu này.\n",
    "\n",
    "6.2) Tính phương sai và hệ số biến thiên của các dữ liệu này.\n",
    "\n",
    "6.3) Tính phân vị thứ $70\\%$ cho những dữ liệu này.\n",
    "\n",
    "6.4) Xây dựng biểu đồ tần suất cho tập dữ liệu, sử dụng 5 lớp."
   ]
  },
  {
   "cell_type": "markdown",
   "metadata": {},
   "source": [
    "---Hết---"
   ]
  },
  {
   "cell_type": "code",
   "execution_count": 16,
   "metadata": {},
   "outputs": [
    {
     "data": {
      "text/plain": [
       "93"
      ]
     },
     "execution_count": 16,
     "metadata": {},
     "output_type": "execute_result"
    }
   ],
   "source": [
    "60+a+b"
   ]
  },
  {
   "cell_type": "code",
   "execution_count": 17,
   "metadata": {},
   "outputs": [
    {
     "data": {
      "text/plain": [
       "array([ 93,  75,  87,  89,  81,  98,  90,  80,  88, 101, 123, 104,  74,\n",
       "        85,  95,  76,  87,  88,  97,  98,  94,  96,  97,  97,  98,  87,\n",
       "        88, 104, 106, 107])"
      ]
     },
     "execution_count": 17,
     "metadata": {},
     "output_type": "execute_result"
    }
   ],
   "source": [
    "X = np.array([93, 75, 87, 89, 81, 98, 90, 80, 88, 101, 123, 104, 74, 85, 95, 76, 87, 88, 97, 98, 94, 96, 97, 97, 98, 87, 88, 104,106,107])\n",
    "X"
   ]
  },
  {
   "cell_type": "code",
   "execution_count": 18,
   "metadata": {},
   "outputs": [
    {
     "name": "stdout",
     "output_type": "stream",
     "text": [
      "6.1\n",
      "Giá trị trung bình của dữ liệu là: 92.76666666666667\n",
      "Giá trị trung vị của dữ liệu là: 93.5\n"
     ]
    }
   ],
   "source": [
    "print('6.1')\n",
    "print('Giá trị trung bình của dữ liệu là:', np.mean(X))\n",
    "print('Giá trị trung vị của dữ liệu là:', np.median(X))"
   ]
  },
  {
   "cell_type": "code",
   "execution_count": 20,
   "metadata": {},
   "outputs": [
    {
     "name": "stdout",
     "output_type": "stream",
     "text": [
      "6.2\n",
      "Phương sai của dữ liệu: 108.84555555555555\n",
      "Hệ số biến thiên của dữ liệu: 0.11246396700912108\n"
     ]
    }
   ],
   "source": [
    "Var_X = X.var()\n",
    "hsbt = np.sqrt(Var_X) / np.mean(X)\n",
    "\n",
    "print('6.2')\n",
    "print('Phương sai của dữ liệu:', Var_X)\n",
    "print('Hệ số biến thiên của dữ liệu:', hsbt)"
   ]
  },
  {
   "cell_type": "code",
   "execution_count": 21,
   "metadata": {},
   "outputs": [
    {
     "name": "stdout",
     "output_type": "stream",
     "text": [
      "6.3\n",
      "Phân vị thứ 70% dữ liệu: 97.3\n"
     ]
    }
   ],
   "source": [
    "print('6.3')\n",
    "print('Phân vị thứ 70% dữ liệu:', np.quantile(X, 0.7))"
   ]
  },
  {
   "cell_type": "code",
   "execution_count": 22,
   "metadata": {},
   "outputs": [
    {
     "name": "stdout",
     "output_type": "stream",
     "text": [
      "6.4\n"
     ]
    },
    {
     "data": {
      "image/png": "[encoded data removed]",
      "text/plain": [
       "<Figure size 432x288 with 1 Axes>"
      ]
     },
     "metadata": {
      "needs_background": "light"
     },
     "output_type": "display_data"
    }
   ],
   "source": [
    "print('6.4')\n",
    "plt.hist(X, bins=5)\n",
    "plt.title('Đồ thị tần số')\n",
    "plt.xlabel('Số lượng bán được')\n",
    "plt.show()"
   ]
  }
 ],
 "metadata": {
  "colab": {
   "collapsed_sections": [],
   "name": "De_Thi_Giua_Ky_01.ipynb",
   "provenance": []
  },
  "kernelspec": {
   "display_name": "Python 3 (ipykernel)",
   "language": "python",
   "name": "python3"
  },
  "language_info": {
   "codemirror_mode": {
    "name": "ipython",
    "version": 3
   },
   "file_extension": ".py",
   "mimetype": "text/x-python",
   "name": "python",
   "nbconvert_exporter": "python",
   "pygments_lexer": "ipython3",
   "version": "3.9.12"
  }
 },
 "nbformat": 4,
 "nbformat_minor": 1
}
