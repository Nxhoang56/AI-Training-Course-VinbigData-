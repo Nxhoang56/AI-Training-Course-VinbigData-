{
 "cells": [
  {
   "cell_type": "markdown",
   "id": "7b85817e",
   "metadata": {},
   "source": [
    "# Lesson 3: Các phân phối xác suất cơ bản\n",
    "\n",
    "Họ và tên: Nguyễn Xuân Hoàng\n"
   ]
  },
  {
   "cell_type": "markdown",
   "id": "5759b04d",
   "metadata": {},
   "source": [
    "## VD1: Tính phân phối nhị thức"
   ]
  },
  {
   "cell_type": "code",
   "execution_count": 1,
   "id": "49165c32",
   "metadata": {},
   "outputs": [],
   "source": [
    "from scipy import stats \n",
    "X = stats.binom(30,0.25) #Khai báo biến nhị thức "
   ]
  },
  {
   "cell_type": "code",
   "execution_count": 3,
   "id": "e5c24f84",
   "metadata": {},
   "outputs": [
    {
     "data": {
      "text/plain": [
       "0.050658280051551596"
      ]
     },
     "execution_count": 3,
     "metadata": {},
     "output_type": "execute_result"
    }
   ],
   "source": [
    "#Xác suất số lượng câu trên 12\n",
    "1-X.cdf(11)"
   ]
  },
  {
   "cell_type": "code",
   "execution_count": 4,
   "id": "4b223623",
   "metadata": {},
   "outputs": [
    {
     "data": {
      "text/plain": [
       "7.5"
      ]
     },
     "execution_count": 4,
     "metadata": {},
     "output_type": "execute_result"
    }
   ],
   "source": [
    "X.mean() #Kỳ vọng"
   ]
  },
  {
   "cell_type": "code",
   "execution_count": 5,
   "id": "36f90f2f",
   "metadata": {},
   "outputs": [
    {
     "data": {
      "text/plain": [
       "2.3717082451262845"
      ]
     },
     "execution_count": 5,
     "metadata": {},
     "output_type": "execute_result"
    }
   ],
   "source": [
    "X.std()"
   ]
  },
  {
   "cell_type": "code",
   "execution_count": 9,
   "id": "b10f75a1",
   "metadata": {},
   "outputs": [
    {
     "name": "stderr",
     "output_type": "stream",
     "text": [
      "C:\\Users\\hoangnx8\\Anaconda3\\lib\\site-packages\\seaborn\\_decorators.py:36: FutureWarning: Pass the following variables as keyword args: x, y. From version 0.12, the only valid positional argument will be `data`, and passing other arguments without an explicit keyword will result in an error or misinterpretation.\n",
      "  warnings.warn(\n"
     ]
    },
    {
     "data": {
      "image/png": "[encoded data removed]",
      "text/plain": [
       "<Figure size 432x288 with 1 Axes>"
      ]
     },
     "metadata": {
      "needs_background": "light"
     },
     "output_type": "display_data"
    }
   ],
   "source": [
    "import numpy as np\n",
    "nhi_thuc = np.arange(0,31)\n",
    "pmf = X.pmf(nhi_thuc)\n",
    "import seaborn as sns\n",
    "import matplotlib.pyplot as plt\n",
    "PMF = sns.barplot(nhi_thuc, pmf)\n",
    "PMF.set(xlabel = 'So lan A xay ra', ylabel = 'P_X(x)')\n",
    "plt.show()"
   ]
  },
  {
   "cell_type": "code",
   "execution_count": 11,
   "id": "af907848",
   "metadata": {},
   "outputs": [
    {
     "name": "stderr",
     "output_type": "stream",
     "text": [
      "C:\\Users\\hoangnx8\\Anaconda3\\lib\\site-packages\\seaborn\\_decorators.py:36: FutureWarning: Pass the following variables as keyword args: x, y. From version 0.12, the only valid positional argument will be `data`, and passing other arguments without an explicit keyword will result in an error or misinterpretation.\n",
      "  warnings.warn(\n"
     ]
    },
    {
     "data": {
      "image/png": "[encoded data removed]",
      "text/plain": [
       "<Figure size 432x288 with 1 Axes>"
      ]
     },
     "metadata": {
      "needs_background": "light"
     },
     "output_type": "display_data"
    }
   ],
   "source": [
    "cdf = X.cdf(nhi_thuc)\n",
    "CDF = sns.barplot(nhi_thuc, cdf)\n",
    "CDF.set(xlabel = 'So lan A xay ra', ylabel = 'F_X(x)')\n",
    "plt.show()"
   ]
  },
  {
   "cell_type": "markdown",
   "id": "8e2c563e",
   "metadata": {},
   "source": [
    "### VD2: Phan phoi Poisson"
   ]
  },
  {
   "cell_type": "code",
   "execution_count": 12,
   "id": "8b69f4da",
   "metadata": {},
   "outputs": [],
   "source": [
    "X = stats.poisson(3)"
   ]
  },
  {
   "cell_type": "code",
   "execution_count": 13,
   "id": "36f536f3",
   "metadata": {},
   "outputs": [
    {
     "data": {
      "text/plain": [
       "3.0"
      ]
     },
     "execution_count": 13,
     "metadata": {},
     "output_type": "execute_result"
    }
   ],
   "source": [
    "X.mean()"
   ]
  },
  {
   "cell_type": "code",
   "execution_count": 14,
   "id": "145f4c6f",
   "metadata": {},
   "outputs": [
    {
     "data": {
      "text/plain": [
       "3.0"
      ]
     },
     "execution_count": 14,
     "metadata": {},
     "output_type": "execute_result"
    }
   ],
   "source": [
    "X.var()"
   ]
  },
  {
   "cell_type": "code",
   "execution_count": 15,
   "id": "88df4600",
   "metadata": {},
   "outputs": [
    {
     "data": {
      "text/plain": [
       "0.950212931632136"
      ]
     },
     "execution_count": 15,
     "metadata": {},
     "output_type": "execute_result"
    }
   ],
   "source": [
    "#Xác suất có ít nhất 1 khách hàng tới cửa hàng \n",
    "1-X.pmf(0)"
   ]
  },
  {
   "cell_type": "code",
   "execution_count": 16,
   "id": "68a0ba0f",
   "metadata": {},
   "outputs": [
    {
     "data": {
      "text/plain": [
       "0.7169337844972408"
      ]
     },
     "execution_count": 16,
     "metadata": {},
     "output_type": "execute_result"
    }
   ],
   "source": [
    "#Xác xuất có từ 2 đến 5 khách hàng tới siêu thị\n",
    "X.cdf(5)-X.cdf(1)"
   ]
  },
  {
   "cell_type": "code",
   "execution_count": 17,
   "id": "746c6ee9",
   "metadata": {},
   "outputs": [
    {
     "name": "stderr",
     "output_type": "stream",
     "text": [
      "C:\\Users\\hoangnx8\\Anaconda3\\lib\\site-packages\\seaborn\\_decorators.py:36: FutureWarning: Pass the following variables as keyword args: x, y. From version 0.12, the only valid positional argument will be `data`, and passing other arguments without an explicit keyword will result in an error or misinterpretation.\n",
      "  warnings.warn(\n"
     ]
    },
    {
     "data": {
      "image/png": "[encoded data removed]",
      "text/plain": [
       "<Figure size 432x288 with 1 Axes>"
      ]
     },
     "metadata": {
      "needs_background": "light"
     },
     "output_type": "display_data"
    }
   ],
   "source": [
    "#Vẽ đồ thị hàm trọng số của biến ngẫu nhiên X\n",
    "poisson = np.arange(0,20)\n",
    "pmf = X.pmf(poisson)\n",
    "PMF = sns.barplot(poisson, pmf)\n",
    "PMF.set(xlabel = 'So lan khach den cua hang', ylabel = 'P_X(x)')\n",
    "plt.show()"
   ]
  },
  {
   "cell_type": "code",
   "execution_count": 18,
   "id": "f85de322",
   "metadata": {},
   "outputs": [
    {
     "name": "stderr",
     "output_type": "stream",
     "text": [
      "C:\\Users\\hoangnx8\\Anaconda3\\lib\\site-packages\\seaborn\\_decorators.py:36: FutureWarning: Pass the following variables as keyword args: x, y. From version 0.12, the only valid positional argument will be `data`, and passing other arguments without an explicit keyword will result in an error or misinterpretation.\n",
      "  warnings.warn(\n"
     ]
    },
    {
     "data": {
      "text/plain": [
       "<function matplotlib.pyplot.show(close=None, block=None)>"
      ]
     },
     "execution_count": 18,
     "metadata": {},
     "output_type": "execute_result"
    },
    {
     "data": {
      "image/png": "[encoded data removed]",
      "text/plain": [
       "<Figure size 432x288 with 1 Axes>"
      ]
     },
     "metadata": {
      "needs_background": "light"
     },
     "output_type": "display_data"
    }
   ],
   "source": [
    "#Ve do thi ham phan phoi xac suat cua X\n",
    "cdf = X.cdf(poisson)\n",
    "CDF = sns.barplot(poisson, cdf)\n",
    "plt.show"
   ]
  },
  {
   "cell_type": "markdown",
   "id": "e5498ab7",
   "metadata": {},
   "source": [
    "### Phương pháp nghịch đảo mô phỏng biến ngẫu nhiên chuẩn-CDF\n"
   ]
  },
  {
   "cell_type": "code",
   "execution_count": 20,
   "id": "04377075",
   "metadata": {},
   "outputs": [],
   "source": [
    "mu, sigma = 164, 8\n",
    "x = stats.norm.rvs(mu, sigma, size = 1000, random_state = 123)"
   ]
  },
  {
   "cell_type": "code",
   "execution_count": 22,
   "id": "8a88309d",
   "metadata": {},
   "outputs": [
    {
     "data": {
      "text/plain": [
       "163.68348691135367"
      ]
     },
     "execution_count": 22,
     "metadata": {},
     "output_type": "execute_result"
    }
   ],
   "source": [
    "np.mean(x)"
   ]
  },
  {
   "cell_type": "code",
   "execution_count": 23,
   "id": "7801697e",
   "metadata": {},
   "outputs": [
    {
     "data": {
      "text/plain": [
       "8.006300300129867"
      ]
     },
     "execution_count": 23,
     "metadata": {},
     "output_type": "execute_result"
    }
   ],
   "source": [
    "np.std(x)"
   ]
  },
  {
   "cell_type": "code",
   "execution_count": 25,
   "id": "b402debc",
   "metadata": {
    "scrolled": true
   },
   "outputs": [
    {
     "data": {
      "image/png": "[encoded data removed]",
      "text/plain": [
       "<Figure size 432x288 with 1 Axes>"
      ]
     },
     "metadata": {
      "needs_background": "light"
     },
     "output_type": "display_data"
    }
   ],
   "source": [
    "plt.hist(x)\n",
    "plt.xlabel('x')\n",
    "plt.ylabel('P_X(x)')\n",
    "plt.grid()\n",
    "plt.show()"
   ]
  },
  {
   "cell_type": "markdown",
   "id": "26df5c16",
   "metadata": {},
   "source": [
    "### Bài tập thực hành 1: \n",
    "\n",
    "- Tạo ra 5000 biến ngẫu nhiên tuân theo luật phân phối Posion với tham số 30\n",
    "\n",
    "- Tìm xác suất để biến ngẫu nhiên nhận giá trị là 35\n",
    "\n",
    "- Tìm xác suất để biến ngẫu nhiên có giá trị nhỏ hơn hoặc bằng 15\n",
    "\n",
    "- Tìm kỳ vọng, phương sai, độ lệch tiêu chuẩn, trung vị"
   ]
  },
  {
   "cell_type": "code",
   "execution_count": 26,
   "id": "701af6a8",
   "metadata": {},
   "outputs": [],
   "source": [
    "l = 30\n",
    "bnn = stats.poisson.rvs( l, size = 5000)"
   ]
  },
  {
   "cell_type": "code",
   "execution_count": 29,
   "id": "125db594",
   "metadata": {},
   "outputs": [
    {
     "data": {
      "text/plain": [
       "0.0416"
      ]
     },
     "execution_count": 29,
     "metadata": {},
     "output_type": "execute_result"
    }
   ],
   "source": [
    "#Xác suất để biến ngẫu nhiện nhận giá trị là 35\n",
    "(bnn == 35).sum()/len(bnn)"
   ]
  },
  {
   "cell_type": "code",
   "execution_count": 30,
   "id": "e098fd43",
   "metadata": {},
   "outputs": [
    {
     "data": {
      "text/plain": [
       "0.0416"
      ]
     },
     "execution_count": 30,
     "metadata": {},
     "output_type": "execute_result"
    }
   ],
   "source": [
    "bnn[bnn == 35].size/bnn.size"
   ]
  },
  {
   "cell_type": "code",
   "execution_count": 32,
   "id": "1afd6ba2",
   "metadata": {},
   "outputs": [
    {
     "data": {
      "text/plain": [
       "0.0004"
      ]
     },
     "execution_count": 32,
     "metadata": {},
     "output_type": "execute_result"
    }
   ],
   "source": [
    "#Tìm xác suất để biến ngẫu nhiên có giá trị nhỏ hơn hoặc bằng 15\n",
    "(bnn <= 15).sum()/len(bnn)"
   ]
  },
  {
   "cell_type": "code",
   "execution_count": 36,
   "id": "524ef528",
   "metadata": {},
   "outputs": [
    {
     "name": "stdout",
     "output_type": "stream",
     "text": [
      "\n",
      "Kỳ vọng: 30.0492\n",
      "Phương sai: 29.96277936\n",
      "Độ lệch chuẩn: 5.473826756483986\n",
      "Trung vị: 30.0\n"
     ]
    }
   ],
   "source": [
    "print(\"\\nKỳ vọng:\", bnn.mean())\n",
    "print(\"Phương sai:\", bnn.var())\n",
    "print(\"Độ lệch chuẩn:\", bnn.std())\n",
    "print(\"Trung vị:\", np.median(bnn))"
   ]
  },
  {
   "cell_type": "markdown",
   "id": "3d7f6358",
   "metadata": {},
   "source": [
    "### Bài thực hành 2\n",
    "- Tạo ra n=1000 số ngẫu nhiên tuân theo luật phân phối Student với bậc tự do là 15\n",
    "- Tìm kỳ vọng, phương sai, độ lệch tiêu chuẩn\n",
    "- Tìm giá trị phân vị mức 0.9; 0.95; 0.99\n",
    "- Vẽ đồ thị của hàm mật độ\n",
    "- Vẽ đồ thị hàm phân phối\n"
   ]
  },
  {
   "cell_type": "code",
   "execution_count": 37,
   "id": "7ac13d78",
   "metadata": {},
   "outputs": [],
   "source": [
    "# Tạo ra 1000 số ngẫu nhiên tuân theo luật phân phối Student với bậc tự do 15\n",
    "X = stats.t.rvs(15, size=1000)"
   ]
  },
  {
   "cell_type": "code",
   "execution_count": 38,
   "id": "423c5955",
   "metadata": {},
   "outputs": [
    {
     "name": "stdout",
     "output_type": "stream",
     "text": [
      "\n",
      "Kỳ vọng: -0.017550623136983554\n",
      "Phương sai: 1.1468488075432535\n",
      "Độ lệch chuẩn: 1.0709102705377578\n"
     ]
    }
   ],
   "source": [
    "# Tìm kỳ vọng, phương sai, độ lệch tiêu chuẩn, trung vị\n",
    "# print(\"\\nKỳ vọng:\", stats.t.mean(15))\n",
    "# print(\"Phương sai:\", stats.t.var(15))\n",
    "# print(\"Độ lệch chuẩn:\", stats.t.std(15))\n",
    "print(\"\\nKỳ vọng:\", X.mean())\n",
    "print(\"Phương sai:\", X.var())\n",
    "print(\"Độ lệch chuẩn:\", X.std())"
   ]
  },
  {
   "cell_type": "code",
   "execution_count": 40,
   "id": "86876f1f",
   "metadata": {},
   "outputs": [
    {
     "name": "stdout",
     "output_type": "stream",
     "text": [
      "\n",
      "Phân vị mức 0.9: 1.3406056078504547\n",
      "Phân vị mức 0.95: 1.7530503556925547\n",
      "Phân vị mức 0.99: 2.602480294995493\n"
     ]
    }
   ],
   "source": [
    "# Tìm giá trị phân vị mức 0.9, 0.95, 0.99\n",
    "print(\"\\nPhân vị mức 0.9:\", stats.t.ppf(0.9, 15))\n",
    "print(\"Phân vị mức 0.95:\", stats.t.ppf(0.95,15))\n",
    "print(\"Phân vị mức 0.99:\", stats.t.ppf(0.99,15))"
   ]
  },
  {
   "cell_type": "code",
   "execution_count": 43,
   "id": "4eef68cf",
   "metadata": {},
   "outputs": [
    {
     "data": {
      "image/png": "[encoded data removed]",
      "text/plain": [
       "<Figure size 432x288 with 1 Axes>"
      ]
     },
     "metadata": {
      "needs_background": "light"
     },
     "output_type": "display_data"
    }
   ],
   "source": [
    "#Vẽ đồ thị của hàm mật độ\n",
    "x = np.arange(-5,5, 0.001)\n",
    "plt.plot(x, stats.t.pdf(x, 15), color=\"red\")\n",
    "plt.show()\n"
   ]
  },
  {
   "cell_type": "code",
   "execution_count": null,
   "id": "0e45fee6",
   "metadata": {},
   "outputs": [],
   "source": []
  }
 ],
 "metadata": {
  "kernelspec": {
   "display_name": "Python 3 (ipykernel)",
   "language": "python",
   "name": "python3"
  },
  "language_info": {
   "codemirror_mode": {
    "name": "ipython",
    "version": 3
   },
   "file_extension": ".py",
   "mimetype": "text/x-python",
   "name": "python",
   "nbconvert_exporter": "python",
   "pygments_lexer": "ipython3",
   "version": "3.9.12"
  }
 },
 "nbformat": 4,
 "nbformat_minor": 5
}
