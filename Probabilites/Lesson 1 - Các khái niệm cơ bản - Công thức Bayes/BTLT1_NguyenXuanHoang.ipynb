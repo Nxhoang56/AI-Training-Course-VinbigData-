{
 "cells": [
  {
   "cell_type": "markdown",
   "id": "f17b41f1",
   "metadata": {},
   "source": [
    "## Bài 1.1"
   ]
  },
  {
   "cell_type": "markdown",
   "id": "182fdea2",
   "metadata": {},
   "source": [
    "+ A là sự kiện \"bệnh nhân bị viêm khớp dạng thấp.\" Dữ liệu cho thấy 10% bệnh nhân trong một phòng khám bị loại viêm khớp này.<br>\n",
    "P(A) = 0.1\n",
    "\n",
    "+ B là xét nghiệm \"bệnh nhân bị sốt cỏ khô.\" Dữ liệu cho thấy 5% bệnh nhân trong phòng khám bị sốt cỏ khô.<br>\n",
    "P(B) = 0.05\n",
    "\n",
    "+ Hồ sơ của phòng khám cũng cho thấy trong số bệnh nhân bị viêm khớp dạng thấp, 7% bị sốt cỏ khô.<br>\n",
    "P(B|A) = 0.07\n",
    "\n",
    "Hỏi rằng nếu bệnh nhân bị sốt cỏ khô, khả năng họ bị viêm khớp dạng thấp là bao nhiêu?\n",
    "\n",
    "<b>Giải: <b>\n",
    "    \n",
    "Ta cần tính P(A|B). Theo công thức Bayes ta có:\n",
    "    $$ P(A|B) = \\frac{P(A).P(B|A)}{P(B)}\n",
    "    $$\n",
    "\n",
    "Từ những dữ liệu đã có ta tính được $P(A|B)$\n",
    "\n",
    "    \n",
    "\n",
    "\n"
   ]
  },
  {
   "cell_type": "code",
   "execution_count": 1,
   "id": "aa14c627",
   "metadata": {},
   "outputs": [
    {
     "name": "stdout",
     "output_type": "stream",
     "text": [
      "Nếu bệnh nhân bị sốt cỏ khô, khả năng họ bị viêm khớp dạng thấp là: 14.0 %\n"
     ]
    }
   ],
   "source": [
    "p_A = 0.1\n",
    "p_B = 0.05\n",
    "p_B_given_A = 0.07\n",
    "\n",
    "p_A_given_B = p_A*p_B_given_A/p_B\n",
    "\n",
    "print(\"Nếu bệnh nhân bị sốt cỏ khô, khả năng họ bị viêm khớp dạng thấp là:\",round(p_A_given_B*100,2),'%')"
   ]
  },
  {
   "cell_type": "markdown",
   "id": "9fd9ea58",
   "metadata": {},
   "source": [
    "## Bài 1.2"
   ]
  },
  {
   "cell_type": "markdown",
   "id": "686fd8e6",
   "metadata": {},
   "source": [
    "Xem xét một thử nghiệm ma túy có độ nhạy ( tỷ lệ dương tính thực sự) là 99% và đặc hiệu (tỷ lệ âm tính thực sự) là 99%. Nếu 0,5% số người sử dụng ma túy, thì xác suất một người ngẫu nhiên có kết quả xét nghiệm dương tính thực sự là một người sử dụng là bao nhiêu?\n",
    "\n",
    "<b> Giải:\n",
    "\n",
    "+ A (not A) là sự kiện một người sử dụng ma túy (không sử dụng ma túy) .<br>\n",
    "P(A) = 0.005, P(not A) = 0.995\n",
    "+ +(-) là sự kiện một người dương (âm) tính.<br>\n",
    "Theo đề bài ta có: $$P(+|A) = 0.99, P(-|A) = 0.01, P(-|not A) = 0.99, P(+|not A) = 0.01$$\n",
    "\n",
    "Ta cần tính P(A|+).\n",
    "    \n",
    "Ta có:\n",
    "\n",
    "$$P(A|+) = \\frac{P(+|A).P(A)}{P(+)}$$\n",
    "\n",
    "Mà: $$P(+) = P(+|A)*P(A) + P(+|not A)*P(not A)$$\n",
    "Từ hai công thức trên ta tính được kết quả.\n"
   ]
  },
  {
   "cell_type": "code",
   "execution_count": 2,
   "id": "992a5da6",
   "metadata": {},
   "outputs": [
    {
     "name": "stdout",
     "output_type": "stream",
     "text": [
      "Xác suất một người ngẫu nhiên có kết quả xét nghiệm dương tính thực sự là một người sử dụng là: 33.22 %\n"
     ]
    }
   ],
   "source": [
    "p_a = 0.005\n",
    "p_not_a = 1-p_a\n",
    "p_d_giv_a = 0.99\n",
    "p_a_giv_a = 0.01\n",
    "p_d_giv_nota = 0.01\n",
    "p_a_giv_nota = 0.99\n",
    "\n",
    "p_d = p_d_giv_a*p_a + p_d_giv_nota*p_not_a\n",
    "p_a_giv_d = p_d_giv_a*p_a/p_d\n",
    "\n",
    "print(\"Xác suất một người ngẫu nhiên có kết quả xét nghiệm dương tính thực sự là một người sử dụng là:\",round(p_a_giv_d*100,2),\"%\")"
   ]
  },
  {
   "cell_type": "code",
   "execution_count": null,
   "id": "f875dc4f",
   "metadata": {},
   "outputs": [],
   "source": []
  }
 ],
 "metadata": {
  "kernelspec": {
   "display_name": "Python 3 (ipykernel)",
   "language": "python",
   "name": "python3"
  },
  "language_info": {
   "codemirror_mode": {
    "name": "ipython",
    "version": 3
   },
   "file_extension": ".py",
   "mimetype": "text/x-python",
   "name": "python",
   "nbconvert_exporter": "python",
   "pygments_lexer": "ipython3",
   "version": "3.9.12"
  }
 },
 "nbformat": 4,
 "nbformat_minor": 5
}
