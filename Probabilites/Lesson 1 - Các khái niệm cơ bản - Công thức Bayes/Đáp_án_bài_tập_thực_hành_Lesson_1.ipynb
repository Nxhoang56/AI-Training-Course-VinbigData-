{
 "cells": [
  {
   "cell_type": "markdown",
   "metadata": {
    "id": "LPAGAv3OzBCt"
   },
   "source": [
    "## Bài tập 1.1:"
   ]
  },
  {
   "cell_type": "code",
   "execution_count": null,
   "metadata": {
    "id": "-yQUdXUpzBCv"
   },
   "outputs": [],
   "source": [
    "import numpy as np"
   ]
  },
  {
   "cell_type": "code",
   "execution_count": null,
   "metadata": {
    "id": "scJTYVXyzBCw",
    "outputId": "edcb8efa-7bbe-4b4f-cab5-ca13dd61a3f9"
   },
   "outputs": [
    {
     "name": "stdout",
     "output_type": "stream",
     "text": [
      "Xác suất mặt 4 chấm:  0.1678\n",
      "Xác suất mặt >= 4 chấm:  0.502\n",
      "Xác suất mặt 6 chấm khi biết số chấm >= 4:  0.33386454183266934\n"
     ]
    }
   ],
   "source": [
    "roll = np.random.randint(1, 7, 5000)\n",
    "p1 = np.sum(roll == 4) / len(roll)\n",
    "p2 = np.sum(roll >= 4) / len(roll)\n",
    "\n",
    "\n",
    "p_6 = np.sum(roll == 6) / len(roll)\n",
    "p_6_with_4 = (1 * p_6) / p2\n",
    "print(\"Xác suất mặt 4 chấm: \", p1)\n",
    "print(\"Xác suất mặt >= 4 chấm: \", p2)\n",
    "print(\"Xác suất mặt 6 chấm khi biết số chấm >= 4: \", p_6_with_4)\n"
   ]
  },
  {
   "cell_type": "markdown",
   "metadata": {
    "id": "Fg6tr7jSzBCx"
   },
   "source": [
    "### Bài tập 2.2:"
   ]
  },
  {
   "cell_type": "code",
   "execution_count": null,
   "metadata": {
    "id": "l90XCbtvzBCx"
   },
   "outputs": [],
   "source": [
    "from sklearn import datasets"
   ]
  },
  {
   "cell_type": "code",
   "execution_count": null,
   "metadata": {
    "id": "enTxmLp1zBCy",
    "outputId": "a873055a-5d88-458a-9821-252026a01edf"
   },
   "outputs": [
    {
     "name": "stdout",
     "output_type": "stream",
     "text": [
      "Number of samples:  150\n"
     ]
    }
   ],
   "source": [
    "iris_data = datasets.load_iris()\n",
    "x = iris_data.data\n",
    "y = iris_data.target\n",
    "print(\"Number of samples: \", len(x))"
   ]
  },
  {
   "cell_type": "code",
   "execution_count": null,
   "metadata": {
    "id": "ZGBbPdV2zBCz"
   },
   "outputs": [],
   "source": [
    "from sklearn.model_selection import train_test_split\n",
    "x_train, x_test, y_train, y_test = train_test_split(x, y, test_size=0.3)"
   ]
  },
  {
   "cell_type": "code",
   "execution_count": null,
   "metadata": {
    "id": "1mSv6zSizBC0",
    "outputId": "0c5acbe0-f18e-4aa2-f680-7e8e7614f769"
   },
   "outputs": [
    {
     "name": "stdout",
     "output_type": "stream",
     "text": [
      "[0 2 0 1 1 0 0 0 0 2 2 1 0 0 0 1 0 0 0 1 0 1 0 2 1 2 0 2 1 0 0 2 1 1 2 2 0\n",
      " 0 0 2 0 2 1 2 1]\n",
      "[0 2 0 1 1 0 0 0 0 1 2 1 0 0 0 1 0 0 0 2 0 1 0 2 2 2 0 2 1 0 0 2 1 1 2 2 0\n",
      " 0 0 2 0 2 1 2 1]\n"
     ]
    }
   ],
   "source": [
    "from sklearn import tree\n",
    "classifier = tree.DecisionTreeClassifier()\n",
    "classifier.fit(x_train, y_train)\n",
    "y_pred = classifier.predict(x_test)\n",
    "print(y_pred)\n",
    "print(y_test)"
   ]
  },
  {
   "cell_type": "code",
   "execution_count": null,
   "metadata": {
    "id": "5p9qPnhvzBC1",
    "outputId": "a0629144-c0d8-4acd-e38c-c873b07be1f7"
   },
   "outputs": [
    {
     "name": "stdout",
     "output_type": "stream",
     "text": [
      "[[21  0  0]\n",
      " [ 0 10  1]\n",
      " [ 0  2 11]]\n",
      "Accuracy: 93.333\n",
      "Precision per class:  [1.         0.90909091 0.84615385]\n",
      "Precision:  0.9184149184149185\n",
      "Recall per class:  [1.         0.83333333 0.91666667]\n",
      "Recall:  0.9166666666666666\n"
     ]
    }
   ],
   "source": [
    "# accuracy, precision, recall \n",
    "import numpy as np\n",
    "from sklearn.metrics import recall_score, precision_score, confusion_matrix\n",
    "\n",
    "# Precision \n",
    "conf_matrix = confusion_matrix(y_test, y_pred)\n",
    "print(conf_matrix)\n",
    "acc = np.sum(np.diag(conf_matrix)) / np.sum(conf_matrix)\n",
    "print(\"Accuracy: {:.3f}\".format(acc * 100))\n",
    "\n",
    "precision = np.diag(conf_matrix) / np.sum(conf_matrix, axis=1)\n",
    "print(\"Precision per class: \", precision)\n",
    "print(\"Precision: \", np.mean(precision))\n",
    "recall = np.diag(conf_matrix) / np.sum(conf_matrix, axis=0)\n",
    "print(\"Recall per class: \", recall)\n",
    "print(\"Recall: \", np.mean(recall))"
   ]
  }
 ],
 "metadata": {
  "colab": {
   "collapsed_sections": [],
   "name": "Đáp_án_bài_tập_về nhà_Lesson_1.ipynb",
   "provenance": []
  },
  "kernelspec": {
   "display_name": "Python 3 (ipykernel)",
   "language": "python",
   "name": "python3"
  },
  "language_info": {
   "codemirror_mode": {
    "name": "ipython",
    "version": 3
   },
   "file_extension": ".py",
   "mimetype": "text/x-python",
   "name": "python",
   "nbconvert_exporter": "python",
   "pygments_lexer": "ipython3",
   "version": "3.9.12"
  }
 },
 "nbformat": 4,
 "nbformat_minor": 1
}
