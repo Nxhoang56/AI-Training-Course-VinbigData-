{
 "cells": [
  {
   "cell_type": "code",
   "execution_count": 1,
   "metadata": {},
   "outputs": [],
   "source": [
    "import numpy as np\n",
    "import matplotlib.pyplot as plt\n",
    "import pandas as pd\n",
    "import seaborn as sns"
   ]
  },
  {
   "cell_type": "markdown",
   "metadata": {},
   "source": [
    "### Bài 1"
   ]
  },
  {
   "cell_type": "code",
   "execution_count": 3,
   "metadata": {},
   "outputs": [
    {
     "name": "stdout",
     "output_type": "stream",
     "text": [
      "0.14\n"
     ]
    }
   ],
   "source": [
    "p_a = 0.1\n",
    "p_b = 0.05\n",
    "p_b_a = 0.07\n",
    "p_a_b = p_b_a*p_a/p_b\n",
    "print(p_a_b)"
   ]
  },
  {
   "cell_type": "markdown",
   "metadata": {},
   "source": [
    "### BÀI 2"
   ]
  },
  {
   "cell_type": "code",
   "execution_count": 5,
   "metadata": {},
   "outputs": [
    {
     "name": "stdout",
     "output_type": "stream",
     "text": [
      "0.33221476510067094\n"
     ]
    }
   ],
   "source": [
    "p_a = 0.005\n",
    "p_b_a = 0.99\n",
    "p_notb_nota = 0.99\n",
    "p_b_nota = 1-p_notb_nota\n",
    "p_b = p_b_a*p_a+p_b_nota*(1-p_a)\n",
    "p_a_b = p_b_a*p_a/p_b\n",
    "print(p_a_b)"
   ]
  },
  {
   "cell_type": "code",
   "execution_count": null,
   "metadata": {},
   "outputs": [],
   "source": []
  }
 ],
 "metadata": {
  "kernelspec": {
   "display_name": "Python 3.8.13 ('PT')",
   "language": "python",
   "name": "python3"
  },
  "language_info": {
   "codemirror_mode": {
    "name": "ipython",
    "version": 3
   },
   "file_extension": ".py",
   "mimetype": "text/x-python",
   "name": "python",
   "nbconvert_exporter": "python",
   "pygments_lexer": "ipython3",
   "version": "3.8.13"
  },
  "orig_nbformat": 4,
  "vscode": {
   "interpreter": {
    "hash": "76ad660b3bb1b48173c035c93ebc6a4f6d9747b337441950295e3e9137ba4444"
   }
  }
 },
 "nbformat": 4,
 "nbformat_minor": 2
}
