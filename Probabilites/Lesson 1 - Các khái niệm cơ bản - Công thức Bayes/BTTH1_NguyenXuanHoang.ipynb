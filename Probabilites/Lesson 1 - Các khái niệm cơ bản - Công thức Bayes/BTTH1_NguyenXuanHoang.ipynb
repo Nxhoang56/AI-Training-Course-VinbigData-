{
 "cells": [
  {
   "cell_type": "markdown",
   "id": "0ac1b335",
   "metadata": {},
   "source": [
    "# Bài 1: Các khái niệm xác suất - Công thức Bayes\n",
    "---\n",
    "Họ và tên: Nguyễn Xuân Hoàng\n"
   ]
  },
  {
   "cell_type": "markdown",
   "id": "fc22ecad",
   "metadata": {},
   "source": [
    "## I. Lý thuyết"
   ]
  },
  {
   "cell_type": "code",
   "execution_count": 2,
   "id": "d4126a84",
   "metadata": {},
   "outputs": [],
   "source": [
    "import numpy as np "
   ]
  },
  {
   "cell_type": "markdown",
   "id": "742fe119",
   "metadata": {},
   "source": [
    " ### Ví dụ 1: Gieo một đồng xu cân đối đồng chất 10000 lần "
   ]
  },
  {
   "cell_type": "code",
   "execution_count": 4,
   "id": "fef70d38",
   "metadata": {},
   "outputs": [],
   "source": [
    "so_lan_tung = 10000\n",
    "#phép thử\n",
    "tung_dong_xu =  np.random.randint(2, size = so_lan_tung)"
   ]
  },
  {
   "cell_type": "code",
   "execution_count": 7,
   "id": "467745db",
   "metadata": {},
   "outputs": [],
   "source": [
    "so_lan_0 = (tung_dong_xu == 0).sum()\n",
    "so_lan_1 = (tung_dong_xu == 1).sum()"
   ]
  },
  {
   "cell_type": "code",
   "execution_count": 8,
   "id": "2dfc71e2",
   "metadata": {},
   "outputs": [
    {
     "name": "stdout",
     "output_type": "stream",
     "text": [
      "P0:  0.4966\n",
      "P1: 0.5034\n"
     ]
    }
   ],
   "source": [
    "P_0 = so_lan_0/so_lan_tung\n",
    "P_1 = so_lan_1/so_lan_tung \n",
    "print('P0: ', P_0)\n",
    "print('P1:', P_1)"
   ]
  },
  {
   "cell_type": "markdown",
   "id": "ffff710c",
   "metadata": {},
   "source": [
    "### Ví dụ 2: Gieo một đồng xu bất cân đối 10000 lần"
   ]
  },
  {
   "cell_type": "code",
   "execution_count": 10,
   "id": "3e4232c8",
   "metadata": {},
   "outputs": [
    {
     "name": "stdout",
     "output_type": "stream",
     "text": [
      "P0:  0.602\n",
      "P1:  0.398\n"
     ]
    }
   ],
   "source": [
    "def tung_xu():\n",
    "    if np.random.random() < 0.6:\n",
    "        return 0\n",
    "    else:\n",
    "        return 1\n",
    "phep_thu = np.zeros(so_lan_tung)\n",
    "for i in range(so_lan_tung):\n",
    "    phep_thu[i]= tung_xu()\n",
    "print('P0: ', (phep_thu == 0).sum()/so_lan_tung)\n",
    "print('P1: ', (phep_thu == 1).sum()/so_lan_tung)"
   ]
  },
  {
   "cell_type": "markdown",
   "id": "2f8d25de",
   "metadata": {},
   "source": [
    "### Ví dụ 3: Hàm tính công thức Bayes"
   ]
  },
  {
   "cell_type": "code",
   "execution_count": 18,
   "id": "4d8b8e27",
   "metadata": {},
   "outputs": [],
   "source": [
    "def bayes_func(p_a, p_b_given_a, p_b_given_not_a):\n",
    "    #Tinh P(notA)\n",
    "    p_not_a = 1 - p_a\n",
    "    #Tinh P(B) banh cong thuc xs toan phan\n",
    "    p_b = p_b_given_a*p_a + p_b_given_not_a*p_not_a\n",
    "    #Tinh P(A/B) bang cong thuc Bayes\n",
    "    p_a_given_b = (p_b_given_a*p_a) / p_b\n",
    "    return p_a_given_b"
   ]
  },
  {
   "cell_type": "code",
   "execution_count": 24,
   "id": "6826de59",
   "metadata": {},
   "outputs": [
    {
     "name": "stdout",
     "output_type": "stream",
     "text": [
      "P(A|B) =  91.0665 %\n",
      "P(not A|B) =  8.9335 %\n"
     ]
    }
   ],
   "source": [
    "#Example\n",
    "#P(A)\n",
    "p_a = 0.999\n",
    "#P(B|A)\n",
    "p_b_given_a = 0.01\n",
    "#P(B/notA)\n",
    "p_b_given_not_a = 0.98\n",
    "#P(A|B)\n",
    "rs = bayes_func(p_a, p_b_given_a, p_b_given_not_a)\n",
    "print('P(A|B) = ', round(rs * 100, 4), '%')\n",
    "print('P(not A|B) = ', round((1-rs) * 100, 4), '%')"
   ]
  },
  {
   "cell_type": "markdown",
   "id": "9ef6393e",
   "metadata": {},
   "source": [
    "#### Ví dụ 4: Confusion Matrix"
   ]
  },
  {
   "cell_type": "code",
   "execution_count": 27,
   "id": "22f01442",
   "metadata": {},
   "outputs": [
    {
     "name": "stdout",
     "output_type": "stream",
     "text": [
      "Accuracy: 0.7\n",
      "Recall: 0.75\n",
      "Precision: 0.6\n",
      "\n",
      " Confusion Matrix: \n",
      " [[4 2]\n",
      " [1 3]]\n"
     ]
    }
   ],
   "source": [
    "from sklearn.metrics import precision_score, recall_score, confusion_matrix, accuracy_score\n",
    "\n",
    "y_true = np.array([1,0,1,0,1,1,0,0,0,0])\n",
    "y_pred = np.array([1,1,1,0,0,1,0,0,0,1])\n",
    "\n",
    "print('Accuracy:', accuracy_score(y_true,y_pred))\n",
    "print('Recall:', recall_score(y_true,y_pred))\n",
    "print('Precision:', precision_score(y_true,y_pred))\n",
    "print('\\n Confusion Matrix: \\n', confusion_matrix(y_true, y_pred))"
   ]
  },
  {
   "cell_type": "code",
   "execution_count": 28,
   "id": "a11a42ba",
   "metadata": {},
   "outputs": [
    {
     "data": {
      "text/plain": [
       "Text(33.0, 0.5, 'True')"
      ]
     },
     "execution_count": 28,
     "metadata": {},
     "output_type": "execute_result"
    },
    {
     "data": {
      "image/png": "[encoded data removed]",
      "text/plain": [
       "<Figure size 432x288 with 2 Axes>"
      ]
     },
     "metadata": {
      "needs_background": "light"
     },
     "output_type": "display_data"
    }
   ],
   "source": [
    "import matplotlib.pyplot as plt\n",
    "import seaborn as sns \n",
    "\n",
    "sns.heatmap(confusion_matrix(y_true, y_pred), annot = True, fmt = '', cmap = 'Blues')\n",
    "plt.xlabel('Predicted')\n",
    "plt.ylabel('True')"
   ]
  },
  {
   "cell_type": "markdown",
   "id": "d1cdc1f4",
   "metadata": {},
   "source": [
    "## II. BÀI TẬP THỰC HÀNH "
   ]
  },
  {
   "cell_type": "markdown",
   "id": "d94847cc",
   "metadata": {},
   "source": [
    "### Bài thực hành 1.1\n",
    "• Mô phỏng tung một con xúc sắc cân đối đồng chất 5000 lần. Dựa vào các giá trị mô phỏng tìm các xác suất ở câu dưới.\n",
    "\n",
    "• Tìm xác suất để số chấm xuất hiện là 4.\n",
    "\n",
    "• Tìm xác suất số chấm xuất hiện lớn hơn hoặc bằng 4.\n",
    "\n",
    "• Giả sử biết rằng số chấm xuất hiện lớn hơn hoặc bằng 4. Tìm xác suất để mặt 6 chấm xuất hiện.\n"
   ]
  },
  {
   "cell_type": "code",
   "execution_count": 32,
   "id": "ce3a1909",
   "metadata": {},
   "outputs": [],
   "source": [
    "so_lan_tung = 5000\n",
    "phep_thu = np.random.randint(1,7, size = so_lan_tung)"
   ]
  },
  {
   "cell_type": "code",
   "execution_count": 35,
   "id": "d51c20a2",
   "metadata": {},
   "outputs": [
    {
     "name": "stdout",
     "output_type": "stream",
     "text": [
      "Xác suất để số chấm xuất hiện là 4 là:  0.1668\n",
      "Xác suất để số chấm xuất hiện lớn hơn hoặc bằng 4 là:  0.5008\n",
      "Xác suất để mặt 6 xuất hiện biết số chấm xuất hiện lớn hơn hoặc bằng 4 là:  0.3422523961661342\n"
     ]
    }
   ],
   "source": [
    "#P4: xác suất số chấm xuất hiện là 4\n",
    "P4 = (phep_thu == 4).sum()/so_lan_tung\n",
    "print('Xác suất để số chấm xuất hiện là 4 là: ', P4)\n",
    "\n",
    "#P4_greater: xác suất số chấm xuất hiện lớn hơn hoặc bằng 4\n",
    "P4_greater = (phep_thu >= 4).sum()/so_lan_tung\n",
    "print('Xác suất để số chấm xuất hiện lớn hơn hoặc bằng 4 là: ', P4_greater)\n",
    "\n",
    "#P6: Xác suất số chấm xuất hiện là 6: \n",
    "P6 = (phep_thu == 6).sum()/so_lan_tung\n",
    "\n",
    "print('Xác suất để mặt 6 xuất hiện biết số chấm xuất hiện lớn hơn hoặc bằng 4 là: ', P6/P4_greater)\n"
   ]
  },
  {
   "cell_type": "markdown",
   "id": "4da60169",
   "metadata": {},
   "source": [
    "###  Bài thực hành 1.2\n",
    "• Bài toán: Hãy xây một mô hình phân loại loài hoa diên vỹ (Iris)\n",
    "\n",
    "• Giải quyết bài toán gồm 4 bước: 1. Thu thập dữ liệu; 2. Xây dựng mô hình; 3. Huấn\n",
    "luyện mô hình; 4. Đánh giá mô hình và triển khai\n",
    "\n",
    "• Mô tả hoa diên vỹ là một họ hoa có nhiêu loài như setona, versicolor và virginica\n",
    "\n",
    "• Dưới đây là chương trình thực hiện bước 1, 2, 3. Bạn hãy tìm cách đánh giá mô hình dựa vào Accuracy, Precision, Recall?\n"
   ]
  },
  {
   "cell_type": "code",
   "execution_count": 36,
   "id": "7a43c07b",
   "metadata": {},
   "outputs": [],
   "source": [
    "from sklearn import datasets \n",
    "iris = datasets.load_iris()\n",
    "x = iris.data\n",
    "y = iris.target"
   ]
  },
  {
   "cell_type": "code",
   "execution_count": 38,
   "id": "fca2da1f",
   "metadata": {},
   "outputs": [],
   "source": [
    "from sklearn.model_selection import train_test_split\n",
    "x_train, x_test, y_train, y_test = train_test_split(x,y,test_size = 0.3)"
   ]
  },
  {
   "cell_type": "code",
   "execution_count": 39,
   "id": "4f717b75",
   "metadata": {},
   "outputs": [],
   "source": [
    "from sklearn import tree\n",
    "classifier = tree.DecisionTreeClassifier()\n",
    "classifier.fit(x_train, y_train)\n",
    "y_pred = classifier.predict(x_test)"
   ]
  },
  {
   "cell_type": "code",
   "execution_count": 40,
   "id": "ab5e2f51",
   "metadata": {},
   "outputs": [
    {
     "data": {
      "text/plain": [
       "array([2, 2, 1, 0, 1, 0, 0, 1, 0, 2, 2, 1, 2, 2, 2, 0, 1, 1, 2, 1, 1, 0,\n",
       "       0, 1, 1, 0, 2, 0, 1, 0, 0, 0, 2, 2, 1, 0, 1, 0, 2, 2, 2, 2, 1, 0,\n",
       "       2])"
      ]
     },
     "execution_count": 40,
     "metadata": {},
     "output_type": "execute_result"
    }
   ],
   "source": [
    "y_pred"
   ]
  },
  {
   "cell_type": "code",
   "execution_count": 44,
   "id": "045237b7",
   "metadata": {},
   "outputs": [
    {
     "name": "stdout",
     "output_type": "stream",
     "text": [
      "Accuracy: 0.9555555555555556\n",
      "Recall: 0.9553571428571429\n",
      "Precision: 0.9553571428571429\n",
      "\n",
      " Confusion Matrix: \n",
      " [[15  0  0]\n",
      " [ 0 13  1]\n",
      " [ 0  1 15]]\n"
     ]
    }
   ],
   "source": [
    "print('Accuracy:', accuracy_score(y_test,y_pred))\n",
    "print('Recall:', recall_score(y_test,y_pred,  average = 'macro'))\n",
    "print('Precision:', precision_score(y_test,y_pred, average = 'macro'))\n",
    "print('\\n Confusion Matrix: \\n', confusion_matrix(y_test, y_pred))"
   ]
  },
  {
   "cell_type": "code",
   "execution_count": null,
   "id": "0160710e",
   "metadata": {},
   "outputs": [],
   "source": []
  }
 ],
 "metadata": {
  "kernelspec": {
   "display_name": "Python 3 (ipykernel)",
   "language": "python",
   "name": "python3"
  },
  "language_info": {
   "codemirror_mode": {
    "name": "ipython",
    "version": 3
   },
   "file_extension": ".py",
   "mimetype": "text/x-python",
   "name": "python",
   "nbconvert_exporter": "python",
   "pygments_lexer": "ipython3",
   "version": "3.9.12"
  }
 },
 "nbformat": 4,
 "nbformat_minor": 5
}
