{
 "cells": [
  {
   "cell_type": "code",
   "execution_count": null,
   "metadata": {
    "id": "v-WulkJZIRy4"
   },
   "outputs": [],
   "source": [
    "import numpy as np\n",
    "import matplotlib.pyplot as plt\n",
    "import seaborn as sns"
   ]
  },
  {
   "cell_type": "markdown",
   "metadata": {
    "id": "zzxGlplFIRy8"
   },
   "source": [
    "# Bài tập 4.1"
   ]
  },
  {
   "cell_type": "markdown",
   "metadata": {
    "id": "vkEftWbxIRy9"
   },
   "source": [
    "Hàm phân phối biên của X:\n",
    "$$ P(X=x_{i}) = \\sum_{j=1}^6 P(X=x_{i}, Y=j) = \\sum_{j=1}^6 p_{ij} = \\frac{1}{36} * 6 = \\frac{1}{6} $$\n",
    "Hàm phân phối biên của Y:\n",
    "$$ P(Y=y_{j}) = \\sum_{i=1}^6 P(X=x_{i}, Y=j) = \\sum_{i=1}^6 p_{ij} = \\frac{1}{36} * 6 = \\frac{1}{6} $$\n",
    "\n",
    "Kỳ vọng của X:\n",
    "$$ E(X) = \\sum_{i=1}^6 x_{i}P(X=x_{i}) = 1*\\frac16 + 2*\\frac16 + 3*\\frac16 + 4*\\frac16 + 5*\\frac16 + 6*\\frac16 = 3.5$$\n",
    "Kỳ vọng của Y:\n",
    "$$ E(Y) = \\sum_{j=1}^6 y_{j}P(Y=y_{j}) = 1*\\frac16 + 2*\\frac16 + 3*\\frac16 + 4*\\frac16 + 5*\\frac16 + 6*\\frac16 = 3.5$$\n",
    "\n",
    "Phương sai của X:\n",
    "$$ E(X^2) = \\sum_{i=1}^6 x_{i}^2P(X=x_{i}) = 1*\\frac16 + 4*\\frac16 + 9*\\frac16 + 16*\\frac16 + 25*\\frac16 + 36*\\frac16 = $$\n",
    "$$ Var(X) = E(X^{2}) - E(X)^2 $$\n",
    "Phương sai của Y:\n",
    "$$ Var(Y) = E(Y^2) - E(Y)^2 = Var(X)$$\n",
    "\n",
    "Hiệp phương sai: \n",
    "$$ COV(X,Y) = E(XY) - EX*EY $$"
   ]
  },
  {
   "cell_type": "code",
   "execution_count": null,
   "metadata": {
    "id": "VnH3BIg_IRy9",
    "outputId": "4ceba3c1-9f74-4a9f-ed98-2a3fd38a8269"
   },
   "outputs": [
    {
     "name": "stdout",
     "output_type": "stream",
     "text": [
      "Kỳ vọng của X: 3.5\n",
      "Kỳ vọng của Y: 3.5\n",
      "\n",
      "Phương sai của X: 2.92\n",
      "Phương sai của Y: 2.92\n",
      "\n",
      "Cov(X,Y) = 0.0\n",
      "Do X,Y độc lập nên Cov(X,Y) = 0\n",
      "Hệ số tương quan của X,Y: 0.0\n",
      "\n",
      "Ma trận hiệp phương sai:\n",
      "[[2.91667 0.     ]\n",
      " [0.      2.91667]]\n"
     ]
    }
   ],
   "source": [
    "# Tìm kỳ vọng, phương sai của X, Y\n",
    "EX = (1+2+3+4+5+6) * 1/6\n",
    "EY = EX\n",
    "print(\"Kỳ vọng của X:\", EX)\n",
    "print(\"Kỳ vọng của Y:\", EY)\n",
    "\n",
    "VarX = (np.arange(1,7)**2 * 1/6).sum() - EX**2\n",
    "VarY = (np.arange(1,7)**2 * 1/6).sum() - EY**2\n",
    "print(\"\\nPhương sai của X:\", np.round(VarX,2))\n",
    "print(\"Phương sai của Y:\", np.round(VarY,2))\n",
    "\n",
    "EXY = 0\n",
    "for i in range(1,7):\n",
    "    for j in range(1,7):\n",
    "        EXY += i*j*1/36\n",
    "\n",
    "CovXY = EXY - EX*EY\n",
    "correlation_coefficient = CovXY/(np.sqrt(VarX) * np.sqrt(VarY))\n",
    "print(\"\\nCov(X,Y) =\", np.round(CovXY, 10))\n",
    "print(\"Do X,Y độc lập nên Cov(X,Y) = 0\")\n",
    "print(\"Hệ số tương quan của X,Y:\", np.round(correlation_coefficient, 10))\n",
    "\n",
    "covariance_matrix = np.array([[VarX, CovXY], [CovXY, VarY]], dtype=float)\n",
    "print(\"\\nMa trận hiệp phương sai:\")\n",
    "print(np.round(covariance_matrix, 5))\n"
   ]
  },
  {
   "cell_type": "markdown",
   "metadata": {
    "id": "PGdPANqUIRy_"
   },
   "source": [
    "# Bài tập 4.2"
   ]
  },
  {
   "cell_type": "code",
   "execution_count": null,
   "metadata": {
    "id": "nDpNw8kOIRzA",
    "outputId": "15a4e7ca-4fc3-451a-e482-981be9986a36"
   },
   "outputs": [
    {
     "name": "stdout",
     "output_type": "stream",
     "text": [
      "Vector kỳ vọng:\n",
      "[1 2]\n",
      "\n",
      "Ma trận hiệp phương sai:\n",
      "[[25  0]\n",
      " [ 0  9]]\n"
     ]
    },
    {
     "data": {
      "image/png": "[encoded data removed]",
      "text/plain": [
       "<Figure size 432x432 with 3 Axes>"
      ]
     },
     "metadata": {
      "needs_background": "light",
      "tags": []
     },
     "output_type": "display_data"
    }
   ],
   "source": [
    "EX, EY = 1,2\n",
    "VarX, VarY = 25,9\n",
    "E = np.array([EX, EY])\n",
    "covariance_matrix = np.array([[VarX, 0], [0, VarY]])\n",
    "print(\"Vector kỳ vọng:\", E, sep=\"\\n\")\n",
    "print(\"\\nMa trận hiệp phương sai:\", covariance_matrix, sep=\"\\n\")\n",
    "\n",
    "X_random, Y_random = np.random.multivariate_normal(mean=E, cov=covariance_matrix, size=5000).T\n",
    "sns.jointplot(X_random, Y_random).set_axis_labels(\"X\",\"Y\")"
   ]
  }
 ],
 "metadata": {
  "colab": {
   "collapsed_sections": [],
   "name": "Đáp án bài tập về nhà Lesson_4.ipynb",
   "provenance": []
  },
  "kernelspec": {
   "display_name": "Python 3 (ipykernel)",
   "language": "python",
   "name": "python3"
  },
  "language_info": {
   "codemirror_mode": {
    "name": "ipython",
    "version": 3
   },
   "file_extension": ".py",
   "mimetype": "text/x-python",
   "name": "python",
   "nbconvert_exporter": "python",
   "pygments_lexer": "ipython3",
   "version": "3.9.12"
  }
 },
 "nbformat": 4,
 "nbformat_minor": 1
}
