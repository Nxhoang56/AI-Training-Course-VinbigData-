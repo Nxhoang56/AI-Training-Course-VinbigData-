{
 "cells": [
  {
   "cell_type": "code",
   "execution_count": 1,
   "id": "1968633a",
   "metadata": {},
   "outputs": [],
   "source": [
    "import numpy as np\n",
    "import matplotlib.pyplot as plt\n",
    "import seaborn as sns"
   ]
  },
  {
   "cell_type": "markdown",
   "id": "2b028df0",
   "metadata": {},
   "source": [
    "### Bài tập 4.1\n",
    "Sau khi phân tích dữ liệu bán hàng trong vài tháng, chủ một cửa\n",
    "hàng thiết bị đã đưa ra phân phối xác suất đồng thời như sau của số\n",
    "lượng tủ lạnh (X: Refrigerators) và bếp (Y: Stoves) được bán hàng ngày.\n",
    "1. Tìm hàm phân phối biên của X,Y\n",
    "2. Tìm kỳ vọng, phương sai của X,Y\n",
    "3. Tìm cov(X,Y), hệ số tương quan\n",
    "4. Tìm ma trận hiệp phương sai của (X,Y)"
   ]
  },
  {
   "cell_type": "code",
   "execution_count": 5,
   "id": "c732a5c7",
   "metadata": {},
   "outputs": [],
   "source": [
    "jpmf = np.array([[0.08, 0.14, 0.12],\n",
    "                 [0.09, 0.17, 0.13],\n",
    "                 [0.05, 0.18, 0.04]])"
   ]
  },
  {
   "cell_type": "code",
   "execution_count": 6,
   "id": "a8da2d28",
   "metadata": {},
   "outputs": [
    {
     "name": "stdout",
     "output_type": "stream",
     "text": [
      "Phân phối biên của X:\n",
      "[0.22 0.49 0.29]\n"
     ]
    }
   ],
   "source": [
    "pmfX = np.sum(jpmf, axis=0)\n",
    "print(\"Phân phối biên của X:\")\n",
    "print(pmfX)"
   ]
  },
  {
   "cell_type": "code",
   "execution_count": 7,
   "id": "b94f5d5d",
   "metadata": {},
   "outputs": [
    {
     "name": "stdout",
     "output_type": "stream",
     "text": [
      "Phân phối biên của Y:\n",
      "[0.34 0.39 0.27]\n"
     ]
    }
   ],
   "source": [
    "pmfY = np.sum(jpmf, axis=1)\n",
    "print(\"Phân phối biên của Y:\")\n",
    "print(pmfY)"
   ]
  },
  {
   "cell_type": "code",
   "execution_count": 8,
   "id": "4012ce4b",
   "metadata": {},
   "outputs": [
    {
     "name": "stdout",
     "output_type": "stream",
     "text": [
      "Kì vọng của X: 1.07\n",
      "Phương sai của X: 0.5050999999999999\n"
     ]
    }
   ],
   "source": [
    "X = np.array([0, 1, 2])\n",
    "EX = np.sum(X * pmfX)\n",
    "VarX = np.sum(X**2 * pmfX) - (np.sum(X * pmfX)) ** 2\n",
    "\n",
    "print(\"Kì vọng của X:\", EX)\n",
    "print(\"Phương sai của X:\", VarX)"
   ]
  },
  {
   "cell_type": "code",
   "execution_count": 9,
   "id": "8438aeaa",
   "metadata": {},
   "outputs": [
    {
     "name": "stdout",
     "output_type": "stream",
     "text": [
      "Kì vọng của Y: 0.9299999999999999\n",
      "Phương sai của Y: 0.6050999999999999\n"
     ]
    }
   ],
   "source": [
    "Y = np.array([0, 1, 2])\n",
    "EY = np.sum(Y * pmfY)\n",
    "VarY = np.sum(Y**2 * pmfY) - (np.sum(Y * pmfY)) ** 2\n",
    "\n",
    "print(\"Kì vọng của Y:\", EY)\n",
    "print(\"Phương sai của Y:\", VarY)"
   ]
  },
  {
   "cell_type": "code",
   "execution_count": 15,
   "id": "959e114d",
   "metadata": {},
   "outputs": [
    {
     "name": "stdout",
     "output_type": "stream",
     "text": [
      "Cov(X, Y)= -0.06470000000000001\n",
      "Hệ số tương quan: -0.1170312974896826\n"
     ]
    }
   ],
   "source": [
    "CovXY = 0\n",
    "\n",
    "for i in range(3):\n",
    "    for j in range(3):\n",
    "        CovXY += jpmf[i][j] * (i - EX) * (j - EY)\n",
    "        \n",
    "print(\"Cov(X, Y)=\", CovXY)\n",
    "print(\"Hệ số tương quan:\", CovXY / np.sqrt(VarX * VarY))"
   ]
  },
  {
   "cell_type": "code",
   "execution_count": 16,
   "id": "4d6f9c9f",
   "metadata": {},
   "outputs": [
    {
     "name": "stdout",
     "output_type": "stream",
     "text": [
      "Ma trận hiệp phương sai:\n",
      "[[ 0.5051 -0.0647]\n",
      " [-0.0647  0.6051]]\n"
     ]
    }
   ],
   "source": [
    "print(\"Ma trận hiệp phương sai:\")\n",
    "print(np.array([[VarX, CovXY], [CovXY, VarY]]))"
   ]
  },
  {
   "cell_type": "markdown",
   "id": "501b4a04",
   "metadata": {},
   "source": [
    "### Bài tập 4.2\n",
    "Cho hai biến ngẫu nhiên tuân theo luật phân phối chuẩn độc lập với\n",
    "nhau có kỳ vọng lần lượt là 30, 40 và độ lệch chuẩn là 2 và 3.\n",
    "1. Tìm ma trận hiệp phương sai\n",
    "2. Biểu diễn véc tơ kỳ vọng, ma trận hiệp phương sai qua python\n",
    "3. Dùng lệnh np.random.multivariate_normal() để tạo ra 500 giá trị\n",
    "4. Vẽ đồ thị các giá trị đồng thời mà (X,Y) có thể nhận và phân phối\n",
    "biên trong cùng một đồ thị."
   ]
  },
  {
   "cell_type": "code",
   "execution_count": 17,
   "id": "08e5c090",
   "metadata": {},
   "outputs": [
    {
     "name": "stdout",
     "output_type": "stream",
     "text": [
      "Ma trận hiệp phương sai:\n",
      "[[2 0]\n",
      " [0 3]]\n"
     ]
    }
   ],
   "source": [
    "Cov = np.array([[2, 0], [0, 3]])\n",
    "print(\"Ma trận hiệp phương sai:\")\n",
    "print(Cov)"
   ]
  },
  {
   "cell_type": "code",
   "execution_count": 18,
   "id": "215986bc",
   "metadata": {},
   "outputs": [
    {
     "name": "stdout",
     "output_type": "stream",
     "text": [
      "Kì vọng:\n",
      "[30 40]\n"
     ]
    }
   ],
   "source": [
    "Mean = np.array([30, 40])\n",
    "print(\"Kì vọng:\")\n",
    "print(Mean)"
   ]
  },
  {
   "cell_type": "code",
   "execution_count": 20,
   "id": "c4c3ea5f",
   "metadata": {},
   "outputs": [],
   "source": [
    "rv = np.random.multivariate_normal(Mean, Cov, 500)\n",
    "X = rv[:, 0]\n",
    "Y = rv[:, 1]"
   ]
  },
  {
   "cell_type": "code",
   "execution_count": 21,
   "id": "764ac496",
   "metadata": {},
   "outputs": [
    {
     "name": "stderr",
     "output_type": "stream",
     "text": [
      "C:\\Users\\phudn4\\Miniconda3\\lib\\site-packages\\seaborn\\_decorators.py:36: FutureWarning: Pass the following variables as keyword args: x, y. From version 0.12, the only valid positional argument will be `data`, and passing other arguments without an explicit keyword will result in an error or misinterpretation.\n",
      "  warnings.warn(\n"
     ]
    },
    {
     "data": {
      "text/plain": [
       "<seaborn.axisgrid.JointGrid at 0x199082632e0>"
      ]
     },
     "execution_count": 21,
     "metadata": {},
     "output_type": "execute_result"
    },
    {
     "data": {
      "image/png": "[encoded data removed]",
      "text/plain": [
       "<Figure size 432x432 with 3 Axes>"
      ]
     },
     "metadata": {
      "needs_background": "light"
     },
     "output_type": "display_data"
    }
   ],
   "source": [
    "sns.jointplot(X, Y).set_axis_labels(\"X\", \"Y\")"
   ]
  }
 ],
 "metadata": {
  "kernelspec": {
   "display_name": "Python 3 (ipykernel)",
   "language": "python",
   "name": "python3"
  },
  "language_info": {
   "codemirror_mode": {
    "name": "ipython",
    "version": 3
   },
   "file_extension": ".py",
   "mimetype": "text/x-python",
   "name": "python",
   "nbconvert_exporter": "python",
   "pygments_lexer": "ipython3",
   "version": "3.9.12"
  }
 },
 "nbformat": 4,
 "nbformat_minor": 5
}
