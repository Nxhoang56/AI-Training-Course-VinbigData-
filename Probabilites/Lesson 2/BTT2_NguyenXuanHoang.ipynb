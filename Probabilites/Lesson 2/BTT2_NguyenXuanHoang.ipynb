{
 "cells": [
  {
   "cell_type": "markdown",
   "id": "0ac1b335",
   "metadata": {},
   "source": [
    "## Bài 2: Biến ngẫu nhiên và Phân bố xác suất\n",
    "---\n",
    "Họ và tên: Nguyễn Xuân Hoàng\n"
   ]
  },
  {
   "cell_type": "markdown",
   "id": "fc22ecad",
   "metadata": {},
   "source": [
    "## I. Lý thuyết"
   ]
  },
  {
   "cell_type": "code",
   "execution_count": 2,
   "id": "d4126a84",
   "metadata": {},
   "outputs": [
    {
     "name": "stdout",
     "output_type": "stream",
     "text": [
      "numpy version:  1.21.5\n"
     ]
    }
   ],
   "source": [
    "import numpy as np \n",
    "print('numpy version: ', np.__version__)"
   ]
  },
  {
   "cell_type": "markdown",
   "id": "742fe119",
   "metadata": {},
   "source": [
    " ### Hàm trọng số PMF (Probability Mass Function)"
   ]
  },
  {
   "cell_type": "code",
   "execution_count": 23,
   "id": "fef70d38",
   "metadata": {},
   "outputs": [
    {
     "data": {
      "text/plain": [
       "array([[ 0.  ,  0.07],\n",
       "       [ 1.  ,  0.09],\n",
       "       [ 2.  ,  0.12],\n",
       "       [ 3.  ,  0.07],\n",
       "       [ 4.  ,  0.08],\n",
       "       [ 5.  ,  0.1 ],\n",
       "       [ 6.  ,  0.1 ],\n",
       "       [ 7.  ,  0.09],\n",
       "       [ 8.  ,  0.07],\n",
       "       [ 9.  ,  0.12],\n",
       "       [10.  ,  0.09]])"
      ]
     },
     "execution_count": 23,
     "metadata": {},
     "output_type": "execute_result"
    }
   ],
   "source": [
    "#Tạo ra ngẫu nhiên 100 con điểm nhận giá trị từ 0 đến 10\n",
    "diem = np.random.randint(0,11, size = 100)\n",
    "bien_ngau_nhien, tan_so = np.unique(diem, return_counts = True)\n",
    "pmf = tan_so / len(diem)\n",
    "#Bảng phân phối xác suất\n",
    "np.column_stack( ( bien_ngau_nhien, pmf ))"
   ]
  },
  {
   "cell_type": "code",
   "execution_count": 26,
   "id": "2dfc71e2",
   "metadata": {},
   "outputs": [
    {
     "name": "stderr",
     "output_type": "stream",
     "text": [
      "C:\\Users\\hoangnx8\\Anaconda3\\lib\\site-packages\\seaborn\\_decorators.py:36: FutureWarning: Pass the following variables as keyword args: x, y. From version 0.12, the only valid positional argument will be `data`, and passing other arguments without an explicit keyword will result in an error or misinterpretation.\n",
      "  warnings.warn(\n"
     ]
    },
    {
     "data": {
      "image/png": "[encoded data removed]",
      "text/plain": [
       "<Figure size 432x288 with 1 Axes>"
      ]
     },
     "metadata": {
      "needs_background": "light"
     },
     "output_type": "display_data"
    }
   ],
   "source": [
    "import seaborn as sns\n",
    "import matplotlib.pyplot as plt\n",
    "PMF = sns.barplot(bien_ngau_nhien, pmf)\n",
    "PMF.set(xlabel = 'Diem', ylabel = 'P_X(x)')\n",
    "plt.show()"
   ]
  },
  {
   "cell_type": "markdown",
   "id": "ffff710c",
   "metadata": {},
   "source": [
    "### Hàm phân phối xác xuất (Cumulative Distribution Function)"
   ]
  },
  {
   "cell_type": "code",
   "execution_count": 32,
   "id": "3e4232c8",
   "metadata": {},
   "outputs": [
    {
     "name": "stderr",
     "output_type": "stream",
     "text": [
      "C:\\Users\\hoangnx8\\Anaconda3\\lib\\site-packages\\seaborn\\_decorators.py:36: FutureWarning: Pass the following variables as keyword args: x, y. From version 0.12, the only valid positional argument will be `data`, and passing other arguments without an explicit keyword will result in an error or misinterpretation.\n",
      "  warnings.warn(\n"
     ]
    },
    {
     "data": {
      "image/png": "[encoded data removed]",
      "text/plain": [
       "<Figure size 432x288 with 1 Axes>"
      ]
     },
     "metadata": {
      "needs_background": "light"
     },
     "output_type": "display_data"
    }
   ],
   "source": [
    "accumulator = 0\n",
    "cdf = []\n",
    "for i in pmf:\n",
    "    accumulator += i\n",
    "    cdf.append(accumulator)\n",
    "CDF = sns.barplot(bien_ngau_nhien, cdf)\n",
    "CDF.set(xlabel = 'Diem', ylabel = 'F_X(x)')\n",
    "plt.show()"
   ]
  },
  {
   "cell_type": "code",
   "execution_count": 33,
   "id": "7ae974cf",
   "metadata": {},
   "outputs": [
    {
     "data": {
      "text/plain": [
       "0.6499999999999999"
      ]
     },
     "execution_count": 33,
     "metadata": {},
     "output_type": "execute_result"
    }
   ],
   "source": [
    "#Xác suất >= 4\n",
    "1 - cdf[3]"
   ]
  },
  {
   "cell_type": "code",
   "execution_count": 34,
   "id": "90ecb8f1",
   "metadata": {},
   "outputs": [
    {
     "data": {
      "text/plain": [
       "0.28"
      ]
     },
     "execution_count": 34,
     "metadata": {},
     "output_type": "execute_result"
    }
   ],
   "source": [
    "#Xác suất điểm giỏi >=8\n",
    "1- cdf[7]\n"
   ]
  },
  {
   "cell_type": "code",
   "execution_count": null,
   "id": "67caa325",
   "metadata": {},
   "outputs": [],
   "source": [
    "#Xác suất điểm trung bình <5<=7 \n",
    "cdf[7] - cdf[5]"
   ]
  },
  {
   "cell_type": "markdown",
   "id": "2f8d25de",
   "metadata": {},
   "source": [
    "###  Hàm mật độ PDF"
   ]
  },
  {
   "cell_type": "code",
   "execution_count": 38,
   "id": "4d8b8e27",
   "metadata": {},
   "outputs": [
    {
     "data": {
      "image/png": "[encoded data removed]",
      "text/plain": [
       "<Figure size 432x288 with 1 Axes>"
      ]
     },
     "metadata": {
      "needs_background": "light"
     },
     "output_type": "display_data"
    }
   ],
   "source": [
    "from scipy.stats import norm\n",
    "x = np.arange(-4,4,0.001)\n",
    "plt.plot(x, norm.pdf(x))\n",
    "plt.show()"
   ]
  },
  {
   "cell_type": "code",
   "execution_count": 39,
   "id": "6826de59",
   "metadata": {},
   "outputs": [
    {
     "data": {
      "text/plain": [
       "0.12951759566589174"
      ]
     },
     "execution_count": 39,
     "metadata": {},
     "output_type": "execute_result"
    }
   ],
   "source": [
    "#Xac suat tai lan can diem 1.5\n",
    "norm.pdf(1.5)"
   ]
  },
  {
   "cell_type": "code",
   "execution_count": 40,
   "id": "fdc9e179",
   "metadata": {},
   "outputs": [
    {
     "data": {
      "text/plain": [
       "0.09184805266259899"
      ]
     },
     "execution_count": 40,
     "metadata": {},
     "output_type": "execute_result"
    }
   ],
   "source": [
    "#Xac suat tu 1 den 1.5: F(1.5)-F(1)\n",
    "norm.cdf(1.5)-norm.cdf(1)"
   ]
  },
  {
   "cell_type": "code",
   "execution_count": 42,
   "id": "56293e01",
   "metadata": {},
   "outputs": [
    {
     "data": {
      "text/plain": [
       "0.09184805266259899"
      ]
     },
     "execution_count": 42,
     "metadata": {},
     "output_type": "execute_result"
    }
   ],
   "source": [
    "#Tinh xac suat theo ham mat do\n",
    "import scipy.integrate as integrate\n",
    "\n",
    "result = integrate.quad(lambda x: norm.pdf(x), 1, 1.5)\n",
    "result[0]"
   ]
  },
  {
   "cell_type": "code",
   "execution_count": 45,
   "id": "ca382e85",
   "metadata": {},
   "outputs": [
    {
     "data": {
      "text/plain": [
       "0.4999999999999999"
      ]
     },
     "execution_count": 45,
     "metadata": {},
     "output_type": "execute_result"
    }
   ],
   "source": [
    "#Tinh xac suat tu 0 den vo cung\n",
    "rs1 = integrate.quad(lambda x: norm.pdf(x), 0, np.inf)\n",
    "rs1[0]"
   ]
  },
  {
   "cell_type": "markdown",
   "id": "9ef6393e",
   "metadata": {},
   "source": [
    "#### Ví dụ biến ngẫu nhiên sản phẩm PMF"
   ]
  },
  {
   "cell_type": "code",
   "execution_count": 49,
   "id": "22f01442",
   "metadata": {},
   "outputs": [
    {
     "name": "stderr",
     "output_type": "stream",
     "text": [
      "C:\\Users\\hoangnx8\\Anaconda3\\lib\\site-packages\\seaborn\\_decorators.py:36: FutureWarning: Pass the following variables as keyword args: x, y. From version 0.12, the only valid positional argument will be `data`, and passing other arguments without an explicit keyword will result in an error or misinterpretation.\n",
      "  warnings.warn(\n"
     ]
    },
    {
     "data": {
      "image/png": "[encoded data removed]",
      "text/plain": [
       "<Figure size 432x288 with 1 Axes>"
      ]
     },
     "metadata": {
      "needs_background": "light"
     },
     "output_type": "display_data"
    }
   ],
   "source": [
    "#pmf của một số biến ngẫu nhiên số lượng sản phẩm\n",
    "san_pham = np.arange(1,4)\n",
    "pmf = [0.2, 0.2, 0.6]\n",
    "PMF = sns.barplot(san_pham, pmf)\n",
    "PMF.set(xlabel = 'sản phẩm', ylabel ='P_X(x)')\n",
    "plt.show()"
   ]
  },
  {
   "cell_type": "code",
   "execution_count": 50,
   "id": "3dfe4ddd",
   "metadata": {},
   "outputs": [
    {
     "name": "stderr",
     "output_type": "stream",
     "text": [
      "C:\\Users\\hoangnx8\\Anaconda3\\lib\\site-packages\\seaborn\\_decorators.py:36: FutureWarning: Pass the following variables as keyword args: x, y. From version 0.12, the only valid positional argument will be `data`, and passing other arguments without an explicit keyword will result in an error or misinterpretation.\n",
      "  warnings.warn(\n"
     ]
    },
    {
     "data": {
      "image/png": "[encoded data removed]",
      "text/plain": [
       "<Figure size 432x288 with 1 Axes>"
      ]
     },
     "metadata": {
      "needs_background": "light"
     },
     "output_type": "display_data"
    }
   ],
   "source": [
    "#CDF của biến ngẫu nhiên số lượng sản phẩm \n",
    "cdf = np.cumsum(pmf)\n",
    "CDF=sns.barplot(san_pham, cdf)\n",
    "CDF.set(xlabel ='San pham', ylabel = 'F_X(x)')\n",
    "plt.show()"
   ]
  },
  {
   "cell_type": "code",
   "execution_count": 55,
   "id": "a11a42ba",
   "metadata": {},
   "outputs": [
    {
     "name": "stderr",
     "output_type": "stream",
     "text": [
      "C:\\Users\\hoangnx8\\Anaconda3\\lib\\site-packages\\seaborn\\_decorators.py:36: FutureWarning: Pass the following variables as keyword args: x, y. From version 0.12, the only valid positional argument will be `data`, and passing other arguments without an explicit keyword will result in an error or misinterpretation.\n",
      "  warnings.warn(\n"
     ]
    },
    {
     "data": {
      "image/png": "[encoded data removed]",
      "text/plain": [
       "<Figure size 432x288 with 1 Axes>"
      ]
     },
     "metadata": {
      "needs_background": "light"
     },
     "output_type": "display_data"
    },
    {
     "name": "stderr",
     "output_type": "stream",
     "text": [
      "C:\\Users\\hoangnx8\\Anaconda3\\lib\\site-packages\\seaborn\\_decorators.py:36: FutureWarning: Pass the following variables as keyword args: x, y. From version 0.12, the only valid positional argument will be `data`, and passing other arguments without an explicit keyword will result in an error or misinterpretation.\n",
      "  warnings.warn(\n"
     ]
    },
    {
     "data": {
      "image/png": "[encoded data removed]",
      "text/plain": [
       "<Figure size 432x288 with 1 Axes>"
      ]
     },
     "metadata": {
      "needs_background": "light"
     },
     "output_type": "display_data"
    }
   ],
   "source": [
    "#Mo phong lai mot bien ngau nhien so luong san pham\n",
    "from random import choices \n",
    "solan = 10000\n",
    "X = choices(san_pham, pmf, k = solan)\n",
    "bien_ngau_nhien, tan_so = np.unique(X, return_counts = True)\n",
    "pmf = tan_so/len(X)\n",
    "np.column_stack((bien_ngau_nhien, pmf))\n",
    "#ham trong so pmf\n",
    "PMF = sns.barplot(bien_ngau_nhien, pmf)\n",
    "PMF.set(xlabel = 'San pham', ylabel = 'P_X(x)')\n",
    "plt.show()\n",
    "#ham tich luy cdf\n",
    "cdf = np.cumsum(pmf)\n",
    "CDF = sns.barplot(san_pham, cdf)\n",
    "CDF.set(xlabel = 'San pham', ylabel = 'F_X(x)')\n",
    "plt.show()"
   ]
  },
  {
   "cell_type": "code",
   "execution_count": 56,
   "id": "4ec6a282",
   "metadata": {},
   "outputs": [
    {
     "name": "stdout",
     "output_type": "stream",
     "text": [
      "Ky vong:  2.4138\n",
      "Phuong sai:  0.6251695600000001\n",
      "Do lech chuan:  0.7906766469297042\n",
      "Gia tri nho nhat:  1\n",
      "Gia tri lon nhan:  3\n",
      "Phan vi 0.25:  2.0\n"
     ]
    }
   ],
   "source": [
    "print('Ky vong: ', np.mean(X))\n",
    "print('Phuong sai: ', np.var(X))\n",
    "print('Do lech chuan: ', np.std(X))\n",
    "print('Gia tri nho nhat: ', np.min(X))\n",
    "print('Gia tri lon nhan: ', np.max(X))\n",
    "print('Phan vi 0.25: ', np.quantile(X,0.25))"
   ]
  },
  {
   "cell_type": "markdown",
   "id": "d1cdc1f4",
   "metadata": {},
   "source": [
    "## II. BÀI TẬP THỰC HÀNH "
   ]
  },
  {
   "cell_type": "markdown",
   "id": "d94847cc",
   "metadata": {},
   "source": [
    "### Bài tập thực hành 2.1:\n",
    "\n",
    "1. Cho biến ngẫu nhiên X nhận các giá trị [10,20,100,1000] với pmf\n",
    "cho trước [0.4,0.3,0.2,0.1]\n",
    "2. Vẽ đồ thị PMF, vẽ đồ thị hàm CDF\n",
    "3. Tìm xác suất để biến ngẫu nhiên nhận giá trị nhở hơn 50\n",
    "4. Tìm giá trị trung bình, phương sai, độ lệch tiêu chuẩn, trung vị, skewness\n",
    "\n"
   ]
  },
  {
   "cell_type": "code",
   "execution_count": 59,
   "id": "ce3a1909",
   "metadata": {},
   "outputs": [
    {
     "name": "stderr",
     "output_type": "stream",
     "text": [
      "C:\\Users\\hoangnx8\\Anaconda3\\lib\\site-packages\\seaborn\\_decorators.py:36: FutureWarning: Pass the following variables as keyword args: x, y. From version 0.12, the only valid positional argument will be `data`, and passing other arguments without an explicit keyword will result in an error or misinterpretation.\n",
      "  warnings.warn(\n"
     ]
    },
    {
     "data": {
      "image/png": "[encoded data removed]",
      "text/plain": [
       "<Figure size 432x288 with 1 Axes>"
      ]
     },
     "metadata": {
      "needs_background": "light"
     },
     "output_type": "display_data"
    },
    {
     "name": "stderr",
     "output_type": "stream",
     "text": [
      "C:\\Users\\hoangnx8\\Anaconda3\\lib\\site-packages\\seaborn\\_decorators.py:36: FutureWarning: Pass the following variables as keyword args: x, y. From version 0.12, the only valid positional argument will be `data`, and passing other arguments without an explicit keyword will result in an error or misinterpretation.\n",
      "  warnings.warn(\n"
     ]
    },
    {
     "data": {
      "image/png": "[encoded data removed]",
      "text/plain": [
       "<Figure size 432x288 with 1 Axes>"
      ]
     },
     "metadata": {
      "needs_background": "light"
     },
     "output_type": "display_data"
    }
   ],
   "source": [
    "X = [10, 20, 100, 1000]\n",
    "pmf = [0.4, 0.3, 0.2,0.1]\n",
    "\n",
    "PMF = sns.barplot(X, pmf)\n",
    "PMF.set(ylabel = 'P_X(x)')\n",
    "plt.show()\n",
    "\n",
    "cdf = np.cumsum(pmf)\n",
    "CDF = sns.barplot(X, cdf)\n",
    "CDF.set(ylabel = 'F_X(x)')\n",
    "plt.show()"
   ]
  },
  {
   "cell_type": "code",
   "execution_count": 60,
   "id": "d51c20a2",
   "metadata": {},
   "outputs": [
    {
     "name": "stdout",
     "output_type": "stream",
     "text": [
      "Xác suất để biến ngẫu nhiên X nhận giá trị nhỏ hơn 50 là: 0.7\n"
     ]
    }
   ],
   "source": [
    "print('Xác suất để biến ngẫu nhiên X nhận giá trị nhỏ hơn 50 là:', cdf[1])"
   ]
  },
  {
   "cell_type": "code",
   "execution_count": 61,
   "id": "851043fd",
   "metadata": {},
   "outputs": [
    {
     "name": "stdout",
     "output_type": "stream",
     "text": [
      "Ky vong:  282.5\n",
      "Phuong sai:  172818.75\n",
      "Do lech chuan:  415.7147459496716\n",
      "Trung vị  60.0\n",
      "Skewness: 1.130837400820944\n"
     ]
    }
   ],
   "source": [
    "from scipy.stats import skew\n",
    "print('Ky vong: ', np.mean(X))\n",
    "print('Phuong sai: ', np.var(X))\n",
    "print('Do lech chuan: ', np.std(X))\n",
    "print('Trung vị ', np.quantile(X,0.5))\n",
    "print('Skewness:', skew(X))"
   ]
  },
  {
   "cell_type": "markdown",
   "id": "4da60169",
   "metadata": {},
   "source": [
    "###  Bài tập thực hành 2.2:\n",
    "1. Lấy lại dữ liệu về hoa diên vỹ ở buổi 1, có y là vec tơ nhận các giá trị loài hoa\n",
    "2. Tìm bảng trọng số của y, y_train, y_test\n",
    "3. Vẽ đồ thị hàm trọng số PMF của của y, y_train, y_test\n",
    "4. Vẽ đồ thị hàm phân phối xác suất CDF của y, y_train, y_test\n",
    "\n"
   ]
  },
  {
   "cell_type": "code",
   "execution_count": 62,
   "id": "7a43c07b",
   "metadata": {},
   "outputs": [],
   "source": [
    "from sklearn import datasets \n",
    "iris = datasets.load_iris()\n",
    "x = iris.data\n",
    "y = iris.target"
   ]
  },
  {
   "cell_type": "code",
   "execution_count": 63,
   "id": "fca2da1f",
   "metadata": {},
   "outputs": [],
   "source": [
    "from sklearn.model_selection import train_test_split\n",
    "x_train, x_test, y_train, y_test = train_test_split(x,y,test_size = 0.3)"
   ]
  },
  {
   "cell_type": "code",
   "execution_count": 64,
   "id": "4f717b75",
   "metadata": {},
   "outputs": [],
   "source": [
    "from sklearn import tree\n",
    "classifier = tree.DecisionTreeClassifier()\n",
    "classifier.fit(x_train, y_train)\n",
    "y_pred = classifier.predict(x_test)"
   ]
  },
  {
   "cell_type": "code",
   "execution_count": 69,
   "id": "ab5e2f51",
   "metadata": {},
   "outputs": [
    {
     "data": {
      "text/plain": [
       "array([[0.        , 0.33333333],\n",
       "       [1.        , 0.33333333],\n",
       "       [2.        , 0.33333333]])"
      ]
     },
     "execution_count": 69,
     "metadata": {},
     "output_type": "execute_result"
    }
   ],
   "source": [
    "bnn, freq_y = np.unique(y, return_counts = True )\n",
    "pmf_y = freq_y/len(y)\n",
    "np.column_stack((bnn, pmf_y))"
   ]
  },
  {
   "cell_type": "code",
   "execution_count": 71,
   "id": "045237b7",
   "metadata": {},
   "outputs": [
    {
     "data": {
      "text/plain": [
       "array([[0.        , 0.32380952],\n",
       "       [1.        , 0.32380952],\n",
       "       [2.        , 0.35238095]])"
      ]
     },
     "execution_count": 71,
     "metadata": {},
     "output_type": "execute_result"
    }
   ],
   "source": [
    "bnn, freq_y_train = np.unique(y_train, return_counts = True )\n",
    "pmf_y_train = freq_y_train/len(y_train)\n",
    "np.column_stack((bnn, pmf_y_train))"
   ]
  },
  {
   "cell_type": "code",
   "execution_count": 72,
   "id": "0160710e",
   "metadata": {},
   "outputs": [
    {
     "data": {
      "text/plain": [
       "array([[0.        , 0.35555556],\n",
       "       [1.        , 0.35555556],\n",
       "       [2.        , 0.28888889]])"
      ]
     },
     "execution_count": 72,
     "metadata": {},
     "output_type": "execute_result"
    }
   ],
   "source": [
    "bnn, freq_y_test = np.unique(y_test, return_counts = True )\n",
    "pmf_y_test = freq_y_test/len(y_test)\n",
    "np.column_stack((bnn, pmf_y_test))"
   ]
  },
  {
   "cell_type": "code",
   "execution_count": 74,
   "id": "b5f09df5",
   "metadata": {},
   "outputs": [
    {
     "name": "stderr",
     "output_type": "stream",
     "text": [
      "C:\\Users\\hoangnx8\\Anaconda3\\lib\\site-packages\\seaborn\\_decorators.py:36: FutureWarning: Pass the following variables as keyword args: x, y. From version 0.12, the only valid positional argument will be `data`, and passing other arguments without an explicit keyword will result in an error or misinterpretation.\n",
      "  warnings.warn(\n"
     ]
    },
    {
     "data": {
      "image/png": "[encoded data removed]",
      "text/plain": [
       "<Figure size 432x288 with 1 Axes>"
      ]
     },
     "metadata": {
      "needs_background": "light"
     },
     "output_type": "display_data"
    },
    {
     "name": "stderr",
     "output_type": "stream",
     "text": [
      "C:\\Users\\hoangnx8\\Anaconda3\\lib\\site-packages\\seaborn\\_decorators.py:36: FutureWarning: Pass the following variables as keyword args: x, y. From version 0.12, the only valid positional argument will be `data`, and passing other arguments without an explicit keyword will result in an error or misinterpretation.\n",
      "  warnings.warn(\n"
     ]
    },
    {
     "data": {
      "image/png": "[encoded data removed]",
      "text/plain": [
       "<Figure size 432x288 with 1 Axes>"
      ]
     },
     "metadata": {
      "needs_background": "light"
     },
     "output_type": "display_data"
    },
    {
     "name": "stderr",
     "output_type": "stream",
     "text": [
      "C:\\Users\\hoangnx8\\Anaconda3\\lib\\site-packages\\seaborn\\_decorators.py:36: FutureWarning: Pass the following variables as keyword args: x, y. From version 0.12, the only valid positional argument will be `data`, and passing other arguments without an explicit keyword will result in an error or misinterpretation.\n",
      "  warnings.warn(\n"
     ]
    },
    {
     "data": {
      "image/png": "[encoded data removed]",
      "text/plain": [
       "<Figure size 432x288 with 1 Axes>"
      ]
     },
     "metadata": {
      "needs_background": "light"
     },
     "output_type": "display_data"
    }
   ],
   "source": [
    "PMF = sns.barplot(bnn, pmf_y)\n",
    "PMF.set(ylabel = 'P_Y(y) ')\n",
    "plt.show()\n",
    "#-------------\n",
    "PMF = sns.barplot(bnn, pmf_y_train)\n",
    "PMF.set(ylabel = 'P_Y_train(y) ')\n",
    "plt.show()\n",
    "#-------------------\n",
    "PMF = sns.barplot(bnn, pmf_y_test)\n",
    "PMF.set(ylabel = 'P_Y_test(y) ')\n",
    "plt.show()"
   ]
  },
  {
   "cell_type": "code",
   "execution_count": 76,
   "id": "5262fd6d",
   "metadata": {},
   "outputs": [
    {
     "name": "stderr",
     "output_type": "stream",
     "text": [
      "C:\\Users\\hoangnx8\\Anaconda3\\lib\\site-packages\\seaborn\\_decorators.py:36: FutureWarning: Pass the following variables as keyword args: x, y. From version 0.12, the only valid positional argument will be `data`, and passing other arguments without an explicit keyword will result in an error or misinterpretation.\n",
      "  warnings.warn(\n"
     ]
    },
    {
     "data": {
      "image/png": "[encoded data removed]",
      "text/plain": [
       "<Figure size 432x288 with 1 Axes>"
      ]
     },
     "metadata": {
      "needs_background": "light"
     },
     "output_type": "display_data"
    },
    {
     "name": "stderr",
     "output_type": "stream",
     "text": [
      "C:\\Users\\hoangnx8\\Anaconda3\\lib\\site-packages\\seaborn\\_decorators.py:36: FutureWarning: Pass the following variables as keyword args: x, y. From version 0.12, the only valid positional argument will be `data`, and passing other arguments without an explicit keyword will result in an error or misinterpretation.\n",
      "  warnings.warn(\n"
     ]
    },
    {
     "data": {
      "image/png": "[encoded data removed]",
      "text/plain": [
       "<Figure size 432x288 with 1 Axes>"
      ]
     },
     "metadata": {
      "needs_background": "light"
     },
     "output_type": "display_data"
    },
    {
     "name": "stderr",
     "output_type": "stream",
     "text": [
      "C:\\Users\\hoangnx8\\Anaconda3\\lib\\site-packages\\seaborn\\_decorators.py:36: FutureWarning: Pass the following variables as keyword args: x, y. From version 0.12, the only valid positional argument will be `data`, and passing other arguments without an explicit keyword will result in an error or misinterpretation.\n",
      "  warnings.warn(\n"
     ]
    },
    {
     "data": {
      "image/png": "[encoded data removed]",
      "text/plain": [
       "<Figure size 432x288 with 1 Axes>"
      ]
     },
     "metadata": {
      "needs_background": "light"
     },
     "output_type": "display_data"
    }
   ],
   "source": [
    "cdf_y = np.cumsum(pmf_y)\n",
    "CDF_y = sns.barplot(bnn, cdf_y)\n",
    "CDF_y.set(ylabel = 'F_Y(x)')\n",
    "plt.show()\n",
    "#--------------------------\n",
    "cdf_y_test = np.cumsum(pmf_y_test)\n",
    "CDF_y_test = sns.barplot(bnn, cdf_y_test)\n",
    "CDF_y_test.set(ylabel = 'F_Y_test(x)')\n",
    "plt.show()\n",
    "#----------------------\n",
    "cdf_y_train = np.cumsum(pmf_y_train)\n",
    "CDF_y_train = sns.barplot(bnn, cdf_y_train)\n",
    "CDF_y_test.set(ylabel = 'F_Y_train(x)')\n",
    "plt.show()"
   ]
  }
 ],
 "metadata": {
  "kernelspec": {
   "display_name": "Python 3 (ipykernel)",
   "language": "python",
   "name": "python3"
  },
  "language_info": {
   "codemirror_mode": {
    "name": "ipython",
    "version": 3
   },
   "file_extension": ".py",
   "mimetype": "text/x-python",
   "name": "python",
   "nbconvert_exporter": "python",
   "pygments_lexer": "ipython3",
   "version": "3.9.12"
  }
 },
 "nbformat": 4,
 "nbformat_minor": 5
}
