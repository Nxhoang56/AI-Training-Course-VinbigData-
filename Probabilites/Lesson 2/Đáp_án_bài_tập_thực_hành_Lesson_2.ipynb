{
  "nbformat": 4,
  "nbformat_minor": 0,
  "metadata": {
    "kernelspec": {
      "display_name": "py38_torch1.6",
      "language": "python",
      "name": "py38_torch1.6"
    },
    "language_info": {
      "codemirror_mode": {
        "name": "ipython",
        "version": 3
      },
      "file_extension": ".py",
      "mimetype": "text/x-python",
      "name": "python",
      "nbconvert_exporter": "python",
      "pygments_lexer": "ipython3",
      "version": "3.8.3"
    },
    "colab": {
      "name": "Đáp án bài tập về nhà Lesson_2.ipynb",
      "provenance": [],
      "collapsed_sections": []
    }
  },
  "cells": [
    {
      "cell_type": "markdown",
      "metadata": {
        "id": "k0e78wiT9BQo"
      },
      "source": [
        "## Bài tập 2.1: "
      ]
    },
    {
      "cell_type": "code",
      "metadata": {
        "id": "4Z0BBPBn9BQo",
        "outputId": "5cc9bacc-648d-48e7-f0a6-32904813b07e"
      },
      "source": [
        "import seaborn as sns\n",
        "X = np.array([10, 20,100, 1000])\n",
        "pmf = np.array([0.4, 0.3, 0.2, 0.1])\n",
        "PMF = sns.barplot(X, pmf)\n",
        "PMF.set(xlabel='X', ylabel='P_X(x)')\n",
        "plt.show()"
      ],
      "execution_count": null,
      "outputs": [
        {
          "output_type": "display_data",
          "data": {
            "image/png": "[encoded data removed]",
            "text/plain": [
              "<Figure size 432x288 with 1 Axes>"
            ]
          },
          "metadata": {
            "tags": [],
            "needs_background": "light"
          }
        }
      ]
    },
    {
      "cell_type": "code",
      "metadata": {
        "id": "AXD7zA069BQp",
        "outputId": "41948f4a-c567-4022-d8bb-2d87fea74821"
      },
      "source": [
        "cdf = np.cumsum(pmf)\n",
        "CDF = sns.barplot(X, cdf)\n",
        "CDF.set(xlabel='X', ylabel='F_X(x)')\n",
        "plt.show()"
      ],
      "execution_count": null,
      "outputs": [
        {
          "output_type": "display_data",
          "data": {
            "image/png": "[encoded data removed]",
            "text/plain": [
              "<Figure size 432x288 with 1 Axes>"
            ]
          },
          "metadata": {
            "tags": [],
            "needs_background": "light"
          }
        }
      ]
    },
    {
      "cell_type": "code",
      "metadata": {
        "id": "ibyJW2Ho9BQq",
        "outputId": "8550138e-344d-4315-f99f-76ab117fc785"
      },
      "source": [
        "# Xs bien nn nhan gia tri nho hon 50: P(X<50) = P(X<20) = CDF(20)\n",
        "cdf[1]"
      ],
      "execution_count": null,
      "outputs": [
        {
          "output_type": "execute_result",
          "data": {
            "text/plain": [
              "0.7"
            ]
          },
          "metadata": {
            "tags": []
          },
          "execution_count": 15
        }
      ]
    },
    {
      "cell_type": "code",
      "metadata": {
        "id": "Ds2HFtYb9BQq",
        "outputId": "cecd9574-c0ba-42ae-8b9f-da014362d40e"
      },
      "source": [
        "# GTTB\n",
        "print(\"X=\", X, \", pmf: \", pmf)\n",
        "E_X = np.sum(pmf * X)\n",
        "print(\"Gia tri trung binh - Ki vong: \", E_X, np.mean(X))\n",
        "\n",
        "# Var(X) = E(Y) : Y = (X-EX)^2\n",
        "Y = (X-E_X) ** 2\n",
        "print(\"Y=\", Y)\n",
        "Var_X = np.sum(x_E_X * pmf)\n",
        "print(\"Phuong sai: \", Var_X)\n",
        "\n",
        "print(\"Do lech chuan: \", np.sqrt(Var_X))\n",
        "\n",
        "# Skewness\n",
        "u = E_X\n",
        "t = np.sqrt(Var_X)\n",
        "G = np.power((X-u)/t, 3)\n",
        "skewness = np.sum(G * pmf)\n",
        "print(\"Skewness: \", skewness)"
      ],
      "execution_count": null,
      "outputs": [
        {
          "output_type": "stream",
          "text": [
            "X= [  10   20  100 1000] , pmf:  [0.4 0.3 0.2 0.1]\n",
            "Gia tri trung binh - Ki vong:  130.0 282.5\n",
            "Y= [ 14400.  12100.    900. 756900.]\n",
            "Phuong sai:  85260.0\n",
            "Do lech chuan:  291.99315060459895\n",
            "Skewness:  2.601065514703357\n"
          ],
          "name": "stdout"
        }
      ]
    },
    {
      "cell_type": "code",
      "metadata": {
        "id": "V4kFWLTI9BQt",
        "outputId": "56754903-ef5c-415e-f61b-6fb312b257be"
      },
      "source": [
        "# C2:\n",
        "from random import choices\n",
        "from scipy.stats import skew\n",
        "item = np.array([10, 20, 100, 1000])\n",
        "number = 10000\n",
        "X = choices(item, pmf, k=number)\n",
        "\n",
        "its, f = np.unique(X, return_counts=True)\n",
        "pmf_new = f/len(X)\n",
        "print('pmf new: ', pmf_new)\n",
        "print('Ki vong:', np.mean(X))\n",
        "print('Phuong sai:' , np.var(X))\n",
        "print('Do lech chuan: ', np.std(X))\n",
        "print('Trung vi Q1: ', np.quantile(X, 0.25))\n",
        "print('Trung vi Q2: ', np.quantile(X, 0.5))\n",
        "print('Trung vi Q3: ', np.quantile(X, 0.75))\n",
        "\n",
        "print(\"Skewness: \", skew(X))"
      ],
      "execution_count": null,
      "outputs": [
        {
          "output_type": "stream",
          "text": [
            "pmf new:  [0.3985 0.2971 0.2025 0.1019]\n",
            "Ki vong: 132.077\n",
            "Phuong sai: 86639.356071\n",
            "Do lech chuan:  294.34564048240975\n",
            "Trung vi Q1:  10.0\n",
            "Trung vi Q2:  20.0\n",
            "Trung vi Q3:  100.0\n",
            "Skewness:  2.5673396217477125\n"
          ],
          "name": "stdout"
        }
      ]
    },
    {
      "cell_type": "markdown",
      "metadata": {
        "id": "w5MIfOCH9BQu"
      },
      "source": [
        "### Bài tập 2.2:"
      ]
    },
    {
      "cell_type": "code",
      "metadata": {
        "id": "gP0CxHeC9BQu"
      },
      "source": [
        "from sklearn.datasets import load_iris"
      ],
      "execution_count": null,
      "outputs": []
    },
    {
      "cell_type": "code",
      "metadata": {
        "id": "hyt5KM5t9BQv"
      },
      "source": [
        "data = load_iris()\n",
        "y = data['target']"
      ],
      "execution_count": null,
      "outputs": []
    },
    {
      "cell_type": "code",
      "metadata": {
        "id": "owafcB3I9BQv",
        "outputId": "06e0e3a1-be0f-4f00-8f82-b88424021c39"
      },
      "source": [
        "y.shape"
      ],
      "execution_count": null,
      "outputs": [
        {
          "output_type": "execute_result",
          "data": {
            "text/plain": [
              "(150,)"
            ]
          },
          "metadata": {
            "tags": []
          },
          "execution_count": 59
        }
      ]
    },
    {
      "cell_type": "code",
      "metadata": {
        "id": "0L5HrfPf9BQw"
      },
      "source": [
        "from sklearn.model_selection import train_test_split\n",
        "y_train, y_test = train_test_split(y, test_size=0.2,random_state=1)\n"
      ],
      "execution_count": null,
      "outputs": []
    },
    {
      "cell_type": "code",
      "metadata": {
        "id": "yKw__1Fg9BQx",
        "outputId": "702d8d36-3b66-48d5-d28c-9a55135e8886"
      },
      "source": [
        "def plot_pmf(d, title=''):\n",
        "    items, f = np.unique(d, return_counts=True)\n",
        "    pmf = f/ len(d)\n",
        "    PMF = sns.barplot(items, pmf)\n",
        "    PMF.set(xlabel='X', ylabel='P_X(x)')\n",
        "    PMF.set_title(title)\n",
        "    plt.show()\n",
        "    \n",
        "plot_pmf(y, 'PMF y')\n",
        "plot_pmf(y_train, 'PMF y_train')\n",
        "plot_pmf(y_test, 'PMF y_test')"
      ],
      "execution_count": null,
      "outputs": [
        {
          "output_type": "display_data",
          "data": {
            "image/png": "[encoded data removed]",
            "text/plain": [
              "<Figure size 432x288 with 1 Axes>"
            ]
          },
          "metadata": {
            "tags": [],
            "needs_background": "light"
          }
        },
        {
          "output_type": "display_data",
          "data": {
            "image/png": "[encoded data removed]",
            "text/plain": [
              "<Figure size 432x288 with 1 Axes>"
            ]
          },
          "metadata": {
            "tags": [],
            "needs_background": "light"
          }
        },
        {
          "output_type": "display_data",
          "data": {
            "image/png": "[encoded data removed]",
            "text/plain": [
              "<Figure size 432x288 with 1 Axes>"
            ]
          },
          "metadata": {
            "tags": [],
            "needs_background": "light"
          }
        }
      ]
    },
    {
      "cell_type": "code",
      "metadata": {
        "id": "epDEeqmF9BQy",
        "outputId": "d6d5d18d-92f3-48d6-bf26-f04418e17f23"
      },
      "source": [
        "def plot_CDF(d, title=''):\n",
        "    items, f = np.unique(d, return_counts=True)\n",
        "    pmf = f/ len(d)\n",
        "    cdf = np.cumsum(pmf)\n",
        "    CDF = sns.barplot(items, cdf)\n",
        "    CDF.set(xlabel='X', ylabel='P_X(x)')\n",
        "    plt.show()\n",
        "    \n",
        "plot_CDF(y, 'CDF y')\n",
        "plot_CDF(y_train,  'CDF y_train')\n",
        "plot_CDF(y_test,  'CDF y_test')"
      ],
      "execution_count": null,
      "outputs": [
        {
          "output_type": "display_data",
          "data": {
            "image/png": "[encoded data removed]",
            "text/plain": [
              "<Figure size 432x288 with 1 Axes>"
            ]
          },
          "metadata": {
            "tags": [],
            "needs_background": "light"
          }
        },
        {
          "output_type": "display_data",
          "data": {
            "image/png": "[encoded data removed]",
            "text/plain": [
              "<Figure size 432x288 with 1 Axes>"
            ]
          },
          "metadata": {
            "tags": [],
            "needs_background": "light"
          }
        },
        {
          "output_type": "display_data",
          "data": {
            "image/png": "[encoded data removed]",
            "text/plain": [
              "<Figure size 432x288 with 1 Axes>"
            ]
          },
          "metadata": {
            "tags": [],
            "needs_background": "light"
          }
        }
      ]
    }
  ]
}